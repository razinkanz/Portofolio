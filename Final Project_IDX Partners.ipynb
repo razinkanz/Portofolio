{
 "cells": [
  {
   "cell_type": "code",
   "execution_count": 14,
   "metadata": {},
   "outputs": [
    {
     "data": {
      "text/html": [
       "        <script type=\"text/javascript\">\n",
       "        window.PlotlyConfig = {MathJaxConfig: 'local'};\n",
       "        if (window.MathJax) {MathJax.Hub.Config({SVG: {font: \"STIX-Web\"}});}\n",
       "        if (typeof require !== 'undefined') {\n",
       "        require.undef(\"plotly\");\n",
       "        requirejs.config({\n",
       "            paths: {\n",
       "                'plotly': ['https://cdn.plot.ly/plotly-latest.min']\n",
       "            }\n",
       "        });\n",
       "        require(['plotly'], function(Plotly) {\n",
       "            window._Plotly = Plotly;\n",
       "        });\n",
       "        }\n",
       "        </script>\n",
       "        "
      ]
     },
     "metadata": {},
     "output_type": "display_data"
    }
   ],
   "source": [
    "# import the library that we'll be using\n",
    "import pandas as pd\n",
    "import numpy as np\n",
    "import seaborn as sns\n",
    "import matplotlib.pyplot as plt\n",
    "\n",
    "import plotly.offline as py \n",
    "py.init_notebook_mode(connected=True) \n",
    "import plotly.graph_objs as go "
   ]
  },
  {
   "cell_type": "code",
   "execution_count": 37,
   "metadata": {},
   "outputs": [
    {
     "name": "stderr",
     "output_type": "stream",
     "text": [
      "c:\\Users\\Lenovo\\anaconda3\\lib\\site-packages\\IPython\\core\\interactiveshell.py:3165: DtypeWarning:\n",
      "\n",
      "Columns (20) have mixed types.Specify dtype option on import or set low_memory=False.\n",
      "\n"
     ]
    }
   ],
   "source": [
    "# import the data\n",
    "data = pd.read_csv('loan_data_2007_2014.csv')"
   ]
  },
  {
   "cell_type": "code",
   "execution_count": 16,
   "metadata": {},
   "outputs": [
    {
     "name": "stdout",
     "output_type": "stream",
     "text": [
      "<class 'pandas.core.frame.DataFrame'>\n",
      "RangeIndex: 466285 entries, 0 to 466284\n",
      "Data columns (total 75 columns):\n",
      " #   Column                       Non-Null Count   Dtype  \n",
      "---  ------                       --------------   -----  \n",
      " 0   Unnamed: 0                   466285 non-null  int64  \n",
      " 1   id                           466285 non-null  int64  \n",
      " 2   member_id                    466285 non-null  int64  \n",
      " 3   loan_amnt                    466285 non-null  int64  \n",
      " 4   funded_amnt                  466285 non-null  int64  \n",
      " 5   funded_amnt_inv              466285 non-null  float64\n",
      " 6   term                         466285 non-null  object \n",
      " 7   int_rate                     466285 non-null  float64\n",
      " 8   installment                  466285 non-null  float64\n",
      " 9   grade                        466285 non-null  object \n",
      " 10  sub_grade                    466285 non-null  object \n",
      " 11  emp_title                    438697 non-null  object \n",
      " 12  emp_length                   445277 non-null  object \n",
      " 13  home_ownership               466285 non-null  object \n",
      " 14  annual_inc                   466281 non-null  float64\n",
      " 15  verification_status          466285 non-null  object \n",
      " 16  issue_d                      466285 non-null  object \n",
      " 17  loan_status                  466285 non-null  object \n",
      " 18  pymnt_plan                   466285 non-null  object \n",
      " 19  url                          466285 non-null  object \n",
      " 20  desc                         125983 non-null  object \n",
      " 21  purpose                      466285 non-null  object \n",
      " 22  title                        466265 non-null  object \n",
      " 23  zip_code                     466285 non-null  object \n",
      " 24  addr_state                   466285 non-null  object \n",
      " 25  dti                          466285 non-null  float64\n",
      " 26  delinq_2yrs                  466256 non-null  float64\n",
      " 27  earliest_cr_line             466256 non-null  object \n",
      " 28  inq_last_6mths               466256 non-null  float64\n",
      " 29  mths_since_last_delinq       215934 non-null  float64\n",
      " 30  mths_since_last_record       62638 non-null   float64\n",
      " 31  open_acc                     466256 non-null  float64\n",
      " 32  pub_rec                      466256 non-null  float64\n",
      " 33  revol_bal                    466285 non-null  int64  \n",
      " 34  revol_util                   465945 non-null  float64\n",
      " 35  total_acc                    466256 non-null  float64\n",
      " 36  initial_list_status          466285 non-null  object \n",
      " 37  out_prncp                    466285 non-null  float64\n",
      " 38  out_prncp_inv                466285 non-null  float64\n",
      " 39  total_pymnt                  466285 non-null  float64\n",
      " 40  total_pymnt_inv              466285 non-null  float64\n",
      " 41  total_rec_prncp              466285 non-null  float64\n",
      " 42  total_rec_int                466285 non-null  float64\n",
      " 43  total_rec_late_fee           466285 non-null  float64\n",
      " 44  recoveries                   466285 non-null  float64\n",
      " 45  collection_recovery_fee      466285 non-null  float64\n",
      " 46  last_pymnt_d                 465909 non-null  object \n",
      " 47  last_pymnt_amnt              466285 non-null  float64\n",
      " 48  next_pymnt_d                 239071 non-null  object \n",
      " 49  last_credit_pull_d           466243 non-null  object \n",
      " 50  collections_12_mths_ex_med   466140 non-null  float64\n",
      " 51  mths_since_last_major_derog  98974 non-null   float64\n",
      " 52  policy_code                  466285 non-null  int64  \n",
      " 53  application_type             466285 non-null  object \n",
      " 54  annual_inc_joint             0 non-null       float64\n",
      " 55  dti_joint                    0 non-null       float64\n",
      " 56  verification_status_joint    0 non-null       float64\n",
      " 57  acc_now_delinq               466256 non-null  float64\n",
      " 58  tot_coll_amt                 396009 non-null  float64\n",
      " 59  tot_cur_bal                  396009 non-null  float64\n",
      " 60  open_acc_6m                  0 non-null       float64\n",
      " 61  open_il_6m                   0 non-null       float64\n",
      " 62  open_il_12m                  0 non-null       float64\n",
      " 63  open_il_24m                  0 non-null       float64\n",
      " 64  mths_since_rcnt_il           0 non-null       float64\n",
      " 65  total_bal_il                 0 non-null       float64\n",
      " 66  il_util                      0 non-null       float64\n",
      " 67  open_rv_12m                  0 non-null       float64\n",
      " 68  open_rv_24m                  0 non-null       float64\n",
      " 69  max_bal_bc                   0 non-null       float64\n",
      " 70  all_util                     0 non-null       float64\n",
      " 71  total_rev_hi_lim             396009 non-null  float64\n",
      " 72  inq_fi                       0 non-null       float64\n",
      " 73  total_cu_tl                  0 non-null       float64\n",
      " 74  inq_last_12m                 0 non-null       float64\n",
      "dtypes: float64(46), int64(7), object(22)\n",
      "memory usage: 266.8+ MB\n"
     ]
    },
    {
     "data": {
      "text/plain": [
       "(466285, 75)"
      ]
     },
     "execution_count": 16,
     "metadata": {},
     "output_type": "execute_result"
    }
   ],
   "source": [
    "# Explore and analyze the data (Data Understanding)\n",
    "data.info()\n",
    "data.shape"
   ]
  },
  {
   "cell_type": "code",
   "execution_count": 17,
   "metadata": {},
   "outputs": [
    {
     "data": {
      "text/plain": [
       "float64    46\n",
       "object     22\n",
       "int64       7\n",
       "dtype: int64"
      ]
     },
     "execution_count": 17,
     "metadata": {},
     "output_type": "execute_result"
    }
   ],
   "source": [
    "# Explore and analyze the data\n",
    "data.dtypes.value_counts()"
   ]
  },
  {
   "cell_type": "code",
   "execution_count": 18,
   "metadata": {},
   "outputs": [],
   "source": [
    "# Drop null column and weird values\n",
    "data['home_ownership'] = data['home_ownership'].drop(data.index[data['home_ownership'] == 'ANY'])\n",
    "data.dropna(how='all', axis=1, inplace=True)"
   ]
  },
  {
   "cell_type": "code",
   "execution_count": 39,
   "metadata": {},
   "outputs": [],
   "source": [
    "# Create label \n",
    "data['loan_status'] = data['loan_status'].replace(['Current', 'Fully Paid', 'Charged Off', 'Late (31-120 days)', 'In Grace Period', 'Does not meet the credit policy. Status:Fully Paid', 'Late (16-30 days)', 'Default', 'Does not meet the credit policy. Status:Charged Off'], ['Medium Risk', 'Low Risk', 'High Risk', 'High Risk', 'Medium Risk', 'Low Risk', 'High Risk', 'High Risk', 'High Risk'])"
   ]
  },
  {
   "cell_type": "code",
   "execution_count": 20,
   "metadata": {},
   "outputs": [
    {
     "data": {
      "application/vnd.plotly.v1+json": {
       "config": {
        "linkText": "Export to plot.ly",
        "plotlyServerURL": "https://plot.ly",
        "showLink": false
       },
       "data": [
        {
         "name": "High Risk",
         "type": "bar",
         "x": [
          "RENT",
          "MORTGAGE",
          "OWN",
          "OTHER",
          "NONE"
         ],
         "y": [
          24250,
          23247,
          4643,
          38,
          8
         ]
        },
        {
         "name": "Medium Risk",
         "type": "bar",
         "x": [
          "MORTGAGE",
          "RENT",
          "OWN",
          "OTHER",
          "NONE"
         ],
         "y": [
          118499,
          87287,
          21581,
          3,
          2
         ]
        },
        {
         "name": "Low Risk",
         "type": "bar",
         "x": [
          "MORTGAGE",
          "RENT",
          "OWN",
          "OTHER",
          "NONE"
         ],
         "y": [
          94129,
          76936,
          15480,
          141,
          40
         ]
        }
       ],
       "layout": {
        "template": {
         "data": {
          "bar": [
           {
            "error_x": {
             "color": "#2a3f5f"
            },
            "error_y": {
             "color": "#2a3f5f"
            },
            "marker": {
             "line": {
              "color": "#E5ECF6",
              "width": 0.5
             }
            },
            "type": "bar"
           }
          ],
          "barpolar": [
           {
            "marker": {
             "line": {
              "color": "#E5ECF6",
              "width": 0.5
             }
            },
            "type": "barpolar"
           }
          ],
          "carpet": [
           {
            "aaxis": {
             "endlinecolor": "#2a3f5f",
             "gridcolor": "white",
             "linecolor": "white",
             "minorgridcolor": "white",
             "startlinecolor": "#2a3f5f"
            },
            "baxis": {
             "endlinecolor": "#2a3f5f",
             "gridcolor": "white",
             "linecolor": "white",
             "minorgridcolor": "white",
             "startlinecolor": "#2a3f5f"
            },
            "type": "carpet"
           }
          ],
          "choropleth": [
           {
            "colorbar": {
             "outlinewidth": 0,
             "ticks": ""
            },
            "type": "choropleth"
           }
          ],
          "contour": [
           {
            "colorbar": {
             "outlinewidth": 0,
             "ticks": ""
            },
            "colorscale": [
             [
              0,
              "#0d0887"
             ],
             [
              0.1111111111111111,
              "#46039f"
             ],
             [
              0.2222222222222222,
              "#7201a8"
             ],
             [
              0.3333333333333333,
              "#9c179e"
             ],
             [
              0.4444444444444444,
              "#bd3786"
             ],
             [
              0.5555555555555556,
              "#d8576b"
             ],
             [
              0.6666666666666666,
              "#ed7953"
             ],
             [
              0.7777777777777778,
              "#fb9f3a"
             ],
             [
              0.8888888888888888,
              "#fdca26"
             ],
             [
              1,
              "#f0f921"
             ]
            ],
            "type": "contour"
           }
          ],
          "contourcarpet": [
           {
            "colorbar": {
             "outlinewidth": 0,
             "ticks": ""
            },
            "type": "contourcarpet"
           }
          ],
          "heatmap": [
           {
            "colorbar": {
             "outlinewidth": 0,
             "ticks": ""
            },
            "colorscale": [
             [
              0,
              "#0d0887"
             ],
             [
              0.1111111111111111,
              "#46039f"
             ],
             [
              0.2222222222222222,
              "#7201a8"
             ],
             [
              0.3333333333333333,
              "#9c179e"
             ],
             [
              0.4444444444444444,
              "#bd3786"
             ],
             [
              0.5555555555555556,
              "#d8576b"
             ],
             [
              0.6666666666666666,
              "#ed7953"
             ],
             [
              0.7777777777777778,
              "#fb9f3a"
             ],
             [
              0.8888888888888888,
              "#fdca26"
             ],
             [
              1,
              "#f0f921"
             ]
            ],
            "type": "heatmap"
           }
          ],
          "heatmapgl": [
           {
            "colorbar": {
             "outlinewidth": 0,
             "ticks": ""
            },
            "colorscale": [
             [
              0,
              "#0d0887"
             ],
             [
              0.1111111111111111,
              "#46039f"
             ],
             [
              0.2222222222222222,
              "#7201a8"
             ],
             [
              0.3333333333333333,
              "#9c179e"
             ],
             [
              0.4444444444444444,
              "#bd3786"
             ],
             [
              0.5555555555555556,
              "#d8576b"
             ],
             [
              0.6666666666666666,
              "#ed7953"
             ],
             [
              0.7777777777777778,
              "#fb9f3a"
             ],
             [
              0.8888888888888888,
              "#fdca26"
             ],
             [
              1,
              "#f0f921"
             ]
            ],
            "type": "heatmapgl"
           }
          ],
          "histogram": [
           {
            "marker": {
             "colorbar": {
              "outlinewidth": 0,
              "ticks": ""
             }
            },
            "type": "histogram"
           }
          ],
          "histogram2d": [
           {
            "colorbar": {
             "outlinewidth": 0,
             "ticks": ""
            },
            "colorscale": [
             [
              0,
              "#0d0887"
             ],
             [
              0.1111111111111111,
              "#46039f"
             ],
             [
              0.2222222222222222,
              "#7201a8"
             ],
             [
              0.3333333333333333,
              "#9c179e"
             ],
             [
              0.4444444444444444,
              "#bd3786"
             ],
             [
              0.5555555555555556,
              "#d8576b"
             ],
             [
              0.6666666666666666,
              "#ed7953"
             ],
             [
              0.7777777777777778,
              "#fb9f3a"
             ],
             [
              0.8888888888888888,
              "#fdca26"
             ],
             [
              1,
              "#f0f921"
             ]
            ],
            "type": "histogram2d"
           }
          ],
          "histogram2dcontour": [
           {
            "colorbar": {
             "outlinewidth": 0,
             "ticks": ""
            },
            "colorscale": [
             [
              0,
              "#0d0887"
             ],
             [
              0.1111111111111111,
              "#46039f"
             ],
             [
              0.2222222222222222,
              "#7201a8"
             ],
             [
              0.3333333333333333,
              "#9c179e"
             ],
             [
              0.4444444444444444,
              "#bd3786"
             ],
             [
              0.5555555555555556,
              "#d8576b"
             ],
             [
              0.6666666666666666,
              "#ed7953"
             ],
             [
              0.7777777777777778,
              "#fb9f3a"
             ],
             [
              0.8888888888888888,
              "#fdca26"
             ],
             [
              1,
              "#f0f921"
             ]
            ],
            "type": "histogram2dcontour"
           }
          ],
          "mesh3d": [
           {
            "colorbar": {
             "outlinewidth": 0,
             "ticks": ""
            },
            "type": "mesh3d"
           }
          ],
          "parcoords": [
           {
            "line": {
             "colorbar": {
              "outlinewidth": 0,
              "ticks": ""
             }
            },
            "type": "parcoords"
           }
          ],
          "pie": [
           {
            "automargin": true,
            "type": "pie"
           }
          ],
          "scatter": [
           {
            "marker": {
             "colorbar": {
              "outlinewidth": 0,
              "ticks": ""
             }
            },
            "type": "scatter"
           }
          ],
          "scatter3d": [
           {
            "line": {
             "colorbar": {
              "outlinewidth": 0,
              "ticks": ""
             }
            },
            "marker": {
             "colorbar": {
              "outlinewidth": 0,
              "ticks": ""
             }
            },
            "type": "scatter3d"
           }
          ],
          "scattercarpet": [
           {
            "marker": {
             "colorbar": {
              "outlinewidth": 0,
              "ticks": ""
             }
            },
            "type": "scattercarpet"
           }
          ],
          "scattergeo": [
           {
            "marker": {
             "colorbar": {
              "outlinewidth": 0,
              "ticks": ""
             }
            },
            "type": "scattergeo"
           }
          ],
          "scattergl": [
           {
            "marker": {
             "colorbar": {
              "outlinewidth": 0,
              "ticks": ""
             }
            },
            "type": "scattergl"
           }
          ],
          "scattermapbox": [
           {
            "marker": {
             "colorbar": {
              "outlinewidth": 0,
              "ticks": ""
             }
            },
            "type": "scattermapbox"
           }
          ],
          "scatterpolar": [
           {
            "marker": {
             "colorbar": {
              "outlinewidth": 0,
              "ticks": ""
             }
            },
            "type": "scatterpolar"
           }
          ],
          "scatterpolargl": [
           {
            "marker": {
             "colorbar": {
              "outlinewidth": 0,
              "ticks": ""
             }
            },
            "type": "scatterpolargl"
           }
          ],
          "scatterternary": [
           {
            "marker": {
             "colorbar": {
              "outlinewidth": 0,
              "ticks": ""
             }
            },
            "type": "scatterternary"
           }
          ],
          "surface": [
           {
            "colorbar": {
             "outlinewidth": 0,
             "ticks": ""
            },
            "colorscale": [
             [
              0,
              "#0d0887"
             ],
             [
              0.1111111111111111,
              "#46039f"
             ],
             [
              0.2222222222222222,
              "#7201a8"
             ],
             [
              0.3333333333333333,
              "#9c179e"
             ],
             [
              0.4444444444444444,
              "#bd3786"
             ],
             [
              0.5555555555555556,
              "#d8576b"
             ],
             [
              0.6666666666666666,
              "#ed7953"
             ],
             [
              0.7777777777777778,
              "#fb9f3a"
             ],
             [
              0.8888888888888888,
              "#fdca26"
             ],
             [
              1,
              "#f0f921"
             ]
            ],
            "type": "surface"
           }
          ],
          "table": [
           {
            "cells": {
             "fill": {
              "color": "#EBF0F8"
             },
             "line": {
              "color": "white"
             }
            },
            "header": {
             "fill": {
              "color": "#C8D4E3"
             },
             "line": {
              "color": "white"
             }
            },
            "type": "table"
           }
          ]
         },
         "layout": {
          "annotationdefaults": {
           "arrowcolor": "#2a3f5f",
           "arrowhead": 0,
           "arrowwidth": 1
          },
          "coloraxis": {
           "colorbar": {
            "outlinewidth": 0,
            "ticks": ""
           }
          },
          "colorscale": {
           "diverging": [
            [
             0,
             "#8e0152"
            ],
            [
             0.1,
             "#c51b7d"
            ],
            [
             0.2,
             "#de77ae"
            ],
            [
             0.3,
             "#f1b6da"
            ],
            [
             0.4,
             "#fde0ef"
            ],
            [
             0.5,
             "#f7f7f7"
            ],
            [
             0.6,
             "#e6f5d0"
            ],
            [
             0.7,
             "#b8e186"
            ],
            [
             0.8,
             "#7fbc41"
            ],
            [
             0.9,
             "#4d9221"
            ],
            [
             1,
             "#276419"
            ]
           ],
           "sequential": [
            [
             0,
             "#0d0887"
            ],
            [
             0.1111111111111111,
             "#46039f"
            ],
            [
             0.2222222222222222,
             "#7201a8"
            ],
            [
             0.3333333333333333,
             "#9c179e"
            ],
            [
             0.4444444444444444,
             "#bd3786"
            ],
            [
             0.5555555555555556,
             "#d8576b"
            ],
            [
             0.6666666666666666,
             "#ed7953"
            ],
            [
             0.7777777777777778,
             "#fb9f3a"
            ],
            [
             0.8888888888888888,
             "#fdca26"
            ],
            [
             1,
             "#f0f921"
            ]
           ],
           "sequentialminus": [
            [
             0,
             "#0d0887"
            ],
            [
             0.1111111111111111,
             "#46039f"
            ],
            [
             0.2222222222222222,
             "#7201a8"
            ],
            [
             0.3333333333333333,
             "#9c179e"
            ],
            [
             0.4444444444444444,
             "#bd3786"
            ],
            [
             0.5555555555555556,
             "#d8576b"
            ],
            [
             0.6666666666666666,
             "#ed7953"
            ],
            [
             0.7777777777777778,
             "#fb9f3a"
            ],
            [
             0.8888888888888888,
             "#fdca26"
            ],
            [
             1,
             "#f0f921"
            ]
           ]
          },
          "colorway": [
           "#636efa",
           "#EF553B",
           "#00cc96",
           "#ab63fa",
           "#FFA15A",
           "#19d3f3",
           "#FF6692",
           "#B6E880",
           "#FF97FF",
           "#FECB52"
          ],
          "font": {
           "color": "#2a3f5f"
          },
          "geo": {
           "bgcolor": "white",
           "lakecolor": "white",
           "landcolor": "#E5ECF6",
           "showlakes": true,
           "showland": true,
           "subunitcolor": "white"
          },
          "hoverlabel": {
           "align": "left"
          },
          "hovermode": "closest",
          "mapbox": {
           "style": "light"
          },
          "paper_bgcolor": "white",
          "plot_bgcolor": "#E5ECF6",
          "polar": {
           "angularaxis": {
            "gridcolor": "white",
            "linecolor": "white",
            "ticks": ""
           },
           "bgcolor": "#E5ECF6",
           "radialaxis": {
            "gridcolor": "white",
            "linecolor": "white",
            "ticks": ""
           }
          },
          "scene": {
           "xaxis": {
            "backgroundcolor": "#E5ECF6",
            "gridcolor": "white",
            "gridwidth": 2,
            "linecolor": "white",
            "showbackground": true,
            "ticks": "",
            "zerolinecolor": "white"
           },
           "yaxis": {
            "backgroundcolor": "#E5ECF6",
            "gridcolor": "white",
            "gridwidth": 2,
            "linecolor": "white",
            "showbackground": true,
            "ticks": "",
            "zerolinecolor": "white"
           },
           "zaxis": {
            "backgroundcolor": "#E5ECF6",
            "gridcolor": "white",
            "gridwidth": 2,
            "linecolor": "white",
            "showbackground": true,
            "ticks": "",
            "zerolinecolor": "white"
           }
          },
          "shapedefaults": {
           "line": {
            "color": "#2a3f5f"
           }
          },
          "ternary": {
           "aaxis": {
            "gridcolor": "white",
            "linecolor": "white",
            "ticks": ""
           },
           "baxis": {
            "gridcolor": "white",
            "linecolor": "white",
            "ticks": ""
           },
           "bgcolor": "#E5ECF6",
           "caxis": {
            "gridcolor": "white",
            "linecolor": "white",
            "ticks": ""
           }
          },
          "title": {
           "x": 0.05
          },
          "xaxis": {
           "automargin": true,
           "gridcolor": "white",
           "linecolor": "white",
           "ticks": "",
           "title": {
            "standoff": 15
           },
           "zerolinecolor": "white",
           "zerolinewidth": 2
          },
          "yaxis": {
           "automargin": true,
           "gridcolor": "white",
           "linecolor": "white",
           "ticks": "",
           "title": {
            "standoff": 15
           },
           "zerolinecolor": "white",
           "zerolinewidth": 2
          }
         }
        },
        "title": {
         "text": "Home Ownership Distribution"
        }
       }
      },
      "text/html": [
       "<div>\n",
       "        \n",
       "        \n",
       "            <div id=\"fc73b4cd-fcb5-4ff2-b6b4-17a9e40218bb\" class=\"plotly-graph-div\" style=\"height:525px; width:100%;\"></div>\n",
       "            <script type=\"text/javascript\">\n",
       "                require([\"plotly\"], function(Plotly) {\n",
       "                    window.PLOTLYENV=window.PLOTLYENV || {};\n",
       "                    \n",
       "                if (document.getElementById(\"fc73b4cd-fcb5-4ff2-b6b4-17a9e40218bb\")) {\n",
       "                    Plotly.newPlot(\n",
       "                        'fc73b4cd-fcb5-4ff2-b6b4-17a9e40218bb',\n",
       "                        [{\"name\": \"High Risk\", \"type\": \"bar\", \"x\": [\"RENT\", \"MORTGAGE\", \"OWN\", \"OTHER\", \"NONE\"], \"y\": [24250, 23247, 4643, 38, 8]}, {\"name\": \"Medium Risk\", \"type\": \"bar\", \"x\": [\"MORTGAGE\", \"RENT\", \"OWN\", \"OTHER\", \"NONE\"], \"y\": [118499, 87287, 21581, 3, 2]}, {\"name\": \"Low Risk\", \"type\": \"bar\", \"x\": [\"MORTGAGE\", \"RENT\", \"OWN\", \"OTHER\", \"NONE\"], \"y\": [94129, 76936, 15480, 141, 40]}],\n",
       "                        {\"template\": {\"data\": {\"bar\": [{\"error_x\": {\"color\": \"#2a3f5f\"}, \"error_y\": {\"color\": \"#2a3f5f\"}, \"marker\": {\"line\": {\"color\": \"#E5ECF6\", \"width\": 0.5}}, \"type\": \"bar\"}], \"barpolar\": [{\"marker\": {\"line\": {\"color\": \"#E5ECF6\", \"width\": 0.5}}, \"type\": \"barpolar\"}], \"carpet\": [{\"aaxis\": {\"endlinecolor\": \"#2a3f5f\", \"gridcolor\": \"white\", \"linecolor\": \"white\", \"minorgridcolor\": \"white\", \"startlinecolor\": \"#2a3f5f\"}, \"baxis\": {\"endlinecolor\": \"#2a3f5f\", \"gridcolor\": \"white\", \"linecolor\": \"white\", \"minorgridcolor\": \"white\", \"startlinecolor\": \"#2a3f5f\"}, \"type\": \"carpet\"}], \"choropleth\": [{\"colorbar\": {\"outlinewidth\": 0, \"ticks\": \"\"}, \"type\": \"choropleth\"}], \"contour\": [{\"colorbar\": {\"outlinewidth\": 0, \"ticks\": \"\"}, \"colorscale\": [[0.0, \"#0d0887\"], [0.1111111111111111, \"#46039f\"], [0.2222222222222222, \"#7201a8\"], [0.3333333333333333, \"#9c179e\"], [0.4444444444444444, \"#bd3786\"], [0.5555555555555556, \"#d8576b\"], [0.6666666666666666, \"#ed7953\"], [0.7777777777777778, \"#fb9f3a\"], [0.8888888888888888, \"#fdca26\"], [1.0, \"#f0f921\"]], \"type\": \"contour\"}], \"contourcarpet\": [{\"colorbar\": {\"outlinewidth\": 0, \"ticks\": \"\"}, \"type\": \"contourcarpet\"}], \"heatmap\": [{\"colorbar\": {\"outlinewidth\": 0, \"ticks\": \"\"}, \"colorscale\": [[0.0, \"#0d0887\"], [0.1111111111111111, \"#46039f\"], [0.2222222222222222, \"#7201a8\"], [0.3333333333333333, \"#9c179e\"], [0.4444444444444444, \"#bd3786\"], [0.5555555555555556, \"#d8576b\"], [0.6666666666666666, \"#ed7953\"], [0.7777777777777778, \"#fb9f3a\"], [0.8888888888888888, \"#fdca26\"], [1.0, \"#f0f921\"]], \"type\": \"heatmap\"}], \"heatmapgl\": [{\"colorbar\": {\"outlinewidth\": 0, \"ticks\": \"\"}, \"colorscale\": [[0.0, \"#0d0887\"], [0.1111111111111111, \"#46039f\"], [0.2222222222222222, \"#7201a8\"], [0.3333333333333333, \"#9c179e\"], [0.4444444444444444, \"#bd3786\"], [0.5555555555555556, \"#d8576b\"], [0.6666666666666666, \"#ed7953\"], [0.7777777777777778, \"#fb9f3a\"], [0.8888888888888888, \"#fdca26\"], [1.0, \"#f0f921\"]], \"type\": \"heatmapgl\"}], \"histogram\": [{\"marker\": {\"colorbar\": {\"outlinewidth\": 0, \"ticks\": \"\"}}, \"type\": \"histogram\"}], \"histogram2d\": [{\"colorbar\": {\"outlinewidth\": 0, \"ticks\": \"\"}, \"colorscale\": [[0.0, \"#0d0887\"], [0.1111111111111111, \"#46039f\"], [0.2222222222222222, \"#7201a8\"], [0.3333333333333333, \"#9c179e\"], [0.4444444444444444, \"#bd3786\"], [0.5555555555555556, \"#d8576b\"], [0.6666666666666666, \"#ed7953\"], [0.7777777777777778, \"#fb9f3a\"], [0.8888888888888888, \"#fdca26\"], [1.0, \"#f0f921\"]], \"type\": \"histogram2d\"}], \"histogram2dcontour\": [{\"colorbar\": {\"outlinewidth\": 0, \"ticks\": \"\"}, \"colorscale\": [[0.0, \"#0d0887\"], [0.1111111111111111, \"#46039f\"], [0.2222222222222222, \"#7201a8\"], [0.3333333333333333, \"#9c179e\"], [0.4444444444444444, \"#bd3786\"], [0.5555555555555556, \"#d8576b\"], [0.6666666666666666, \"#ed7953\"], [0.7777777777777778, \"#fb9f3a\"], [0.8888888888888888, \"#fdca26\"], [1.0, \"#f0f921\"]], \"type\": \"histogram2dcontour\"}], \"mesh3d\": [{\"colorbar\": {\"outlinewidth\": 0, \"ticks\": \"\"}, \"type\": \"mesh3d\"}], \"parcoords\": [{\"line\": {\"colorbar\": {\"outlinewidth\": 0, \"ticks\": \"\"}}, \"type\": \"parcoords\"}], \"pie\": [{\"automargin\": true, \"type\": \"pie\"}], \"scatter\": [{\"marker\": {\"colorbar\": {\"outlinewidth\": 0, \"ticks\": \"\"}}, \"type\": \"scatter\"}], \"scatter3d\": [{\"line\": {\"colorbar\": {\"outlinewidth\": 0, \"ticks\": \"\"}}, \"marker\": {\"colorbar\": {\"outlinewidth\": 0, \"ticks\": \"\"}}, \"type\": \"scatter3d\"}], \"scattercarpet\": [{\"marker\": {\"colorbar\": {\"outlinewidth\": 0, \"ticks\": \"\"}}, \"type\": \"scattercarpet\"}], \"scattergeo\": [{\"marker\": {\"colorbar\": {\"outlinewidth\": 0, \"ticks\": \"\"}}, \"type\": \"scattergeo\"}], \"scattergl\": [{\"marker\": {\"colorbar\": {\"outlinewidth\": 0, \"ticks\": \"\"}}, \"type\": \"scattergl\"}], \"scattermapbox\": [{\"marker\": {\"colorbar\": {\"outlinewidth\": 0, \"ticks\": \"\"}}, \"type\": \"scattermapbox\"}], \"scatterpolar\": [{\"marker\": {\"colorbar\": {\"outlinewidth\": 0, \"ticks\": \"\"}}, \"type\": \"scatterpolar\"}], \"scatterpolargl\": [{\"marker\": {\"colorbar\": {\"outlinewidth\": 0, \"ticks\": \"\"}}, \"type\": \"scatterpolargl\"}], \"scatterternary\": [{\"marker\": {\"colorbar\": {\"outlinewidth\": 0, \"ticks\": \"\"}}, \"type\": \"scatterternary\"}], \"surface\": [{\"colorbar\": {\"outlinewidth\": 0, \"ticks\": \"\"}, \"colorscale\": [[0.0, \"#0d0887\"], [0.1111111111111111, \"#46039f\"], [0.2222222222222222, \"#7201a8\"], [0.3333333333333333, \"#9c179e\"], [0.4444444444444444, \"#bd3786\"], [0.5555555555555556, \"#d8576b\"], [0.6666666666666666, \"#ed7953\"], [0.7777777777777778, \"#fb9f3a\"], [0.8888888888888888, \"#fdca26\"], [1.0, \"#f0f921\"]], \"type\": \"surface\"}], \"table\": [{\"cells\": {\"fill\": {\"color\": \"#EBF0F8\"}, \"line\": {\"color\": \"white\"}}, \"header\": {\"fill\": {\"color\": \"#C8D4E3\"}, \"line\": {\"color\": \"white\"}}, \"type\": \"table\"}]}, \"layout\": {\"annotationdefaults\": {\"arrowcolor\": \"#2a3f5f\", \"arrowhead\": 0, \"arrowwidth\": 1}, \"coloraxis\": {\"colorbar\": {\"outlinewidth\": 0, \"ticks\": \"\"}}, \"colorscale\": {\"diverging\": [[0, \"#8e0152\"], [0.1, \"#c51b7d\"], [0.2, \"#de77ae\"], [0.3, \"#f1b6da\"], [0.4, \"#fde0ef\"], [0.5, \"#f7f7f7\"], [0.6, \"#e6f5d0\"], [0.7, \"#b8e186\"], [0.8, \"#7fbc41\"], [0.9, \"#4d9221\"], [1, \"#276419\"]], \"sequential\": [[0.0, \"#0d0887\"], [0.1111111111111111, \"#46039f\"], [0.2222222222222222, \"#7201a8\"], [0.3333333333333333, \"#9c179e\"], [0.4444444444444444, \"#bd3786\"], [0.5555555555555556, \"#d8576b\"], [0.6666666666666666, \"#ed7953\"], [0.7777777777777778, \"#fb9f3a\"], [0.8888888888888888, \"#fdca26\"], [1.0, \"#f0f921\"]], \"sequentialminus\": [[0.0, \"#0d0887\"], [0.1111111111111111, \"#46039f\"], [0.2222222222222222, \"#7201a8\"], [0.3333333333333333, \"#9c179e\"], [0.4444444444444444, \"#bd3786\"], [0.5555555555555556, \"#d8576b\"], [0.6666666666666666, \"#ed7953\"], [0.7777777777777778, \"#fb9f3a\"], [0.8888888888888888, \"#fdca26\"], [1.0, \"#f0f921\"]]}, \"colorway\": [\"#636efa\", \"#EF553B\", \"#00cc96\", \"#ab63fa\", \"#FFA15A\", \"#19d3f3\", \"#FF6692\", \"#B6E880\", \"#FF97FF\", \"#FECB52\"], \"font\": {\"color\": \"#2a3f5f\"}, \"geo\": {\"bgcolor\": \"white\", \"lakecolor\": \"white\", \"landcolor\": \"#E5ECF6\", \"showlakes\": true, \"showland\": true, \"subunitcolor\": \"white\"}, \"hoverlabel\": {\"align\": \"left\"}, \"hovermode\": \"closest\", \"mapbox\": {\"style\": \"light\"}, \"paper_bgcolor\": \"white\", \"plot_bgcolor\": \"#E5ECF6\", \"polar\": {\"angularaxis\": {\"gridcolor\": \"white\", \"linecolor\": \"white\", \"ticks\": \"\"}, \"bgcolor\": \"#E5ECF6\", \"radialaxis\": {\"gridcolor\": \"white\", \"linecolor\": \"white\", \"ticks\": \"\"}}, \"scene\": {\"xaxis\": {\"backgroundcolor\": \"#E5ECF6\", \"gridcolor\": \"white\", \"gridwidth\": 2, \"linecolor\": \"white\", \"showbackground\": true, \"ticks\": \"\", \"zerolinecolor\": \"white\"}, \"yaxis\": {\"backgroundcolor\": \"#E5ECF6\", \"gridcolor\": \"white\", \"gridwidth\": 2, \"linecolor\": \"white\", \"showbackground\": true, \"ticks\": \"\", \"zerolinecolor\": \"white\"}, \"zaxis\": {\"backgroundcolor\": \"#E5ECF6\", \"gridcolor\": \"white\", \"gridwidth\": 2, \"linecolor\": \"white\", \"showbackground\": true, \"ticks\": \"\", \"zerolinecolor\": \"white\"}}, \"shapedefaults\": {\"line\": {\"color\": \"#2a3f5f\"}}, \"ternary\": {\"aaxis\": {\"gridcolor\": \"white\", \"linecolor\": \"white\", \"ticks\": \"\"}, \"baxis\": {\"gridcolor\": \"white\", \"linecolor\": \"white\", \"ticks\": \"\"}, \"bgcolor\": \"#E5ECF6\", \"caxis\": {\"gridcolor\": \"white\", \"linecolor\": \"white\", \"ticks\": \"\"}}, \"title\": {\"x\": 0.05}, \"xaxis\": {\"automargin\": true, \"gridcolor\": \"white\", \"linecolor\": \"white\", \"ticks\": \"\", \"title\": {\"standoff\": 15}, \"zerolinecolor\": \"white\", \"zerolinewidth\": 2}, \"yaxis\": {\"automargin\": true, \"gridcolor\": \"white\", \"linecolor\": \"white\", \"ticks\": \"\", \"title\": {\"standoff\": 15}, \"zerolinecolor\": \"white\", \"zerolinewidth\": 2}}}, \"title\": {\"text\": \"Home Ownership Distribution\"}},\n",
       "                        {\"responsive\": true}\n",
       "                    ).then(function(){\n",
       "                            \n",
       "var gd = document.getElementById('fc73b4cd-fcb5-4ff2-b6b4-17a9e40218bb');\n",
       "var x = new MutationObserver(function (mutations, observer) {{\n",
       "        var display = window.getComputedStyle(gd).display;\n",
       "        if (!display || display === 'none') {{\n",
       "            console.log([gd, 'removed!']);\n",
       "            Plotly.purge(gd);\n",
       "            observer.disconnect();\n",
       "        }}\n",
       "}});\n",
       "\n",
       "// Listen for the removal of the full notebook cells\n",
       "var notebookContainer = gd.closest('#notebook-container');\n",
       "if (notebookContainer) {{\n",
       "    x.observe(notebookContainer, {childList: true});\n",
       "}}\n",
       "\n",
       "// Listen for the clearing of the current output cell\n",
       "var outputEl = gd.closest('.output');\n",
       "if (outputEl) {{\n",
       "    x.observe(outputEl, {childList: true});\n",
       "}}\n",
       "\n",
       "                        })\n",
       "                };\n",
       "                });\n",
       "            </script>\n",
       "        </div>"
      ]
     },
     "metadata": {},
     "output_type": "display_data"
    }
   ],
   "source": [
    "# Explore the data further with visualization\n",
    "\n",
    "trace0 = go.Bar(\n",
    "    x = data[data[\"loan_status\"]== 'High Risk'][\"home_ownership\"].value_counts().index.values,\n",
    "    y = data[data[\"loan_status\"]== 'High Risk'][\"home_ownership\"].value_counts(),\n",
    "    name='High Risk'\n",
    ")\n",
    "\n",
    "trace1 = go.Bar(\n",
    "    x = data[data[\"loan_status\"]== 'Medium Risk'][\"home_ownership\"].value_counts().index.values,\n",
    "    y = data[data[\"loan_status\"]== 'Medium Risk'][\"home_ownership\"].value_counts(),\n",
    "    name=\"Medium Risk\"\n",
    ")\n",
    "\n",
    "trace2 = go.Bar(\n",
    "    x = data[data[\"loan_status\"]== 'Low Risk'][\"home_ownership\"].value_counts().index.values,\n",
    "    y = data[data[\"loan_status\"]== 'Low Risk'][\"home_ownership\"].value_counts(),\n",
    "    name=\"Low Risk\"\n",
    ")\n",
    "\n",
    "tabels = [trace0, trace1, trace2]\n",
    "\n",
    "layout = go.Layout(\n",
    "    title='Home Ownership Distribution'\n",
    ")\n",
    "\n",
    "\n",
    "fig = go.Figure(data=tabels, layout=layout)\n",
    "\n",
    "py.iplot(fig)"
   ]
  },
  {
   "cell_type": "code",
   "execution_count": 21,
   "metadata": {},
   "outputs": [
    {
     "data": {
      "application/vnd.plotly.v1+json": {
       "config": {
        "linkText": "Export to plot.ly",
        "plotlyServerURL": "https://plot.ly",
        "showLink": false
       },
       "data": [
        {
         "name": "High Risk",
         "type": "bar",
         "x": [
          "A",
          "B",
          "C",
          "D",
          "E",
          "F",
          "G"
         ],
         "y": [
          2955,
          11008,
          14743,
          12132,
          7139,
          3267,
          942
         ]
        },
        {
         "name": "Medium Risk",
         "type": "bar",
         "x": [
          "A",
          "B",
          "C",
          "D",
          "E",
          "F",
          "G"
         ],
         "y": [
          35367,
          64690,
          64251,
          38173,
          17671,
          5881,
          1339
         ]
        },
        {
         "name": "Low Risk",
         "type": "bar",
         "x": [
          "A",
          "B",
          "C",
          "D",
          "E",
          "F",
          "G"
         ],
         "y": [
          36545,
          61231,
          46299,
          26583,
          10947,
          4081,
          1041
         ]
        }
       ],
       "layout": {
        "template": {
         "data": {
          "bar": [
           {
            "error_x": {
             "color": "#2a3f5f"
            },
            "error_y": {
             "color": "#2a3f5f"
            },
            "marker": {
             "line": {
              "color": "#E5ECF6",
              "width": 0.5
             }
            },
            "type": "bar"
           }
          ],
          "barpolar": [
           {
            "marker": {
             "line": {
              "color": "#E5ECF6",
              "width": 0.5
             }
            },
            "type": "barpolar"
           }
          ],
          "carpet": [
           {
            "aaxis": {
             "endlinecolor": "#2a3f5f",
             "gridcolor": "white",
             "linecolor": "white",
             "minorgridcolor": "white",
             "startlinecolor": "#2a3f5f"
            },
            "baxis": {
             "endlinecolor": "#2a3f5f",
             "gridcolor": "white",
             "linecolor": "white",
             "minorgridcolor": "white",
             "startlinecolor": "#2a3f5f"
            },
            "type": "carpet"
           }
          ],
          "choropleth": [
           {
            "colorbar": {
             "outlinewidth": 0,
             "ticks": ""
            },
            "type": "choropleth"
           }
          ],
          "contour": [
           {
            "colorbar": {
             "outlinewidth": 0,
             "ticks": ""
            },
            "colorscale": [
             [
              0,
              "#0d0887"
             ],
             [
              0.1111111111111111,
              "#46039f"
             ],
             [
              0.2222222222222222,
              "#7201a8"
             ],
             [
              0.3333333333333333,
              "#9c179e"
             ],
             [
              0.4444444444444444,
              "#bd3786"
             ],
             [
              0.5555555555555556,
              "#d8576b"
             ],
             [
              0.6666666666666666,
              "#ed7953"
             ],
             [
              0.7777777777777778,
              "#fb9f3a"
             ],
             [
              0.8888888888888888,
              "#fdca26"
             ],
             [
              1,
              "#f0f921"
             ]
            ],
            "type": "contour"
           }
          ],
          "contourcarpet": [
           {
            "colorbar": {
             "outlinewidth": 0,
             "ticks": ""
            },
            "type": "contourcarpet"
           }
          ],
          "heatmap": [
           {
            "colorbar": {
             "outlinewidth": 0,
             "ticks": ""
            },
            "colorscale": [
             [
              0,
              "#0d0887"
             ],
             [
              0.1111111111111111,
              "#46039f"
             ],
             [
              0.2222222222222222,
              "#7201a8"
             ],
             [
              0.3333333333333333,
              "#9c179e"
             ],
             [
              0.4444444444444444,
              "#bd3786"
             ],
             [
              0.5555555555555556,
              "#d8576b"
             ],
             [
              0.6666666666666666,
              "#ed7953"
             ],
             [
              0.7777777777777778,
              "#fb9f3a"
             ],
             [
              0.8888888888888888,
              "#fdca26"
             ],
             [
              1,
              "#f0f921"
             ]
            ],
            "type": "heatmap"
           }
          ],
          "heatmapgl": [
           {
            "colorbar": {
             "outlinewidth": 0,
             "ticks": ""
            },
            "colorscale": [
             [
              0,
              "#0d0887"
             ],
             [
              0.1111111111111111,
              "#46039f"
             ],
             [
              0.2222222222222222,
              "#7201a8"
             ],
             [
              0.3333333333333333,
              "#9c179e"
             ],
             [
              0.4444444444444444,
              "#bd3786"
             ],
             [
              0.5555555555555556,
              "#d8576b"
             ],
             [
              0.6666666666666666,
              "#ed7953"
             ],
             [
              0.7777777777777778,
              "#fb9f3a"
             ],
             [
              0.8888888888888888,
              "#fdca26"
             ],
             [
              1,
              "#f0f921"
             ]
            ],
            "type": "heatmapgl"
           }
          ],
          "histogram": [
           {
            "marker": {
             "colorbar": {
              "outlinewidth": 0,
              "ticks": ""
             }
            },
            "type": "histogram"
           }
          ],
          "histogram2d": [
           {
            "colorbar": {
             "outlinewidth": 0,
             "ticks": ""
            },
            "colorscale": [
             [
              0,
              "#0d0887"
             ],
             [
              0.1111111111111111,
              "#46039f"
             ],
             [
              0.2222222222222222,
              "#7201a8"
             ],
             [
              0.3333333333333333,
              "#9c179e"
             ],
             [
              0.4444444444444444,
              "#bd3786"
             ],
             [
              0.5555555555555556,
              "#d8576b"
             ],
             [
              0.6666666666666666,
              "#ed7953"
             ],
             [
              0.7777777777777778,
              "#fb9f3a"
             ],
             [
              0.8888888888888888,
              "#fdca26"
             ],
             [
              1,
              "#f0f921"
             ]
            ],
            "type": "histogram2d"
           }
          ],
          "histogram2dcontour": [
           {
            "colorbar": {
             "outlinewidth": 0,
             "ticks": ""
            },
            "colorscale": [
             [
              0,
              "#0d0887"
             ],
             [
              0.1111111111111111,
              "#46039f"
             ],
             [
              0.2222222222222222,
              "#7201a8"
             ],
             [
              0.3333333333333333,
              "#9c179e"
             ],
             [
              0.4444444444444444,
              "#bd3786"
             ],
             [
              0.5555555555555556,
              "#d8576b"
             ],
             [
              0.6666666666666666,
              "#ed7953"
             ],
             [
              0.7777777777777778,
              "#fb9f3a"
             ],
             [
              0.8888888888888888,
              "#fdca26"
             ],
             [
              1,
              "#f0f921"
             ]
            ],
            "type": "histogram2dcontour"
           }
          ],
          "mesh3d": [
           {
            "colorbar": {
             "outlinewidth": 0,
             "ticks": ""
            },
            "type": "mesh3d"
           }
          ],
          "parcoords": [
           {
            "line": {
             "colorbar": {
              "outlinewidth": 0,
              "ticks": ""
             }
            },
            "type": "parcoords"
           }
          ],
          "pie": [
           {
            "automargin": true,
            "type": "pie"
           }
          ],
          "scatter": [
           {
            "marker": {
             "colorbar": {
              "outlinewidth": 0,
              "ticks": ""
             }
            },
            "type": "scatter"
           }
          ],
          "scatter3d": [
           {
            "line": {
             "colorbar": {
              "outlinewidth": 0,
              "ticks": ""
             }
            },
            "marker": {
             "colorbar": {
              "outlinewidth": 0,
              "ticks": ""
             }
            },
            "type": "scatter3d"
           }
          ],
          "scattercarpet": [
           {
            "marker": {
             "colorbar": {
              "outlinewidth": 0,
              "ticks": ""
             }
            },
            "type": "scattercarpet"
           }
          ],
          "scattergeo": [
           {
            "marker": {
             "colorbar": {
              "outlinewidth": 0,
              "ticks": ""
             }
            },
            "type": "scattergeo"
           }
          ],
          "scattergl": [
           {
            "marker": {
             "colorbar": {
              "outlinewidth": 0,
              "ticks": ""
             }
            },
            "type": "scattergl"
           }
          ],
          "scattermapbox": [
           {
            "marker": {
             "colorbar": {
              "outlinewidth": 0,
              "ticks": ""
             }
            },
            "type": "scattermapbox"
           }
          ],
          "scatterpolar": [
           {
            "marker": {
             "colorbar": {
              "outlinewidth": 0,
              "ticks": ""
             }
            },
            "type": "scatterpolar"
           }
          ],
          "scatterpolargl": [
           {
            "marker": {
             "colorbar": {
              "outlinewidth": 0,
              "ticks": ""
             }
            },
            "type": "scatterpolargl"
           }
          ],
          "scatterternary": [
           {
            "marker": {
             "colorbar": {
              "outlinewidth": 0,
              "ticks": ""
             }
            },
            "type": "scatterternary"
           }
          ],
          "surface": [
           {
            "colorbar": {
             "outlinewidth": 0,
             "ticks": ""
            },
            "colorscale": [
             [
              0,
              "#0d0887"
             ],
             [
              0.1111111111111111,
              "#46039f"
             ],
             [
              0.2222222222222222,
              "#7201a8"
             ],
             [
              0.3333333333333333,
              "#9c179e"
             ],
             [
              0.4444444444444444,
              "#bd3786"
             ],
             [
              0.5555555555555556,
              "#d8576b"
             ],
             [
              0.6666666666666666,
              "#ed7953"
             ],
             [
              0.7777777777777778,
              "#fb9f3a"
             ],
             [
              0.8888888888888888,
              "#fdca26"
             ],
             [
              1,
              "#f0f921"
             ]
            ],
            "type": "surface"
           }
          ],
          "table": [
           {
            "cells": {
             "fill": {
              "color": "#EBF0F8"
             },
             "line": {
              "color": "white"
             }
            },
            "header": {
             "fill": {
              "color": "#C8D4E3"
             },
             "line": {
              "color": "white"
             }
            },
            "type": "table"
           }
          ]
         },
         "layout": {
          "annotationdefaults": {
           "arrowcolor": "#2a3f5f",
           "arrowhead": 0,
           "arrowwidth": 1
          },
          "coloraxis": {
           "colorbar": {
            "outlinewidth": 0,
            "ticks": ""
           }
          },
          "colorscale": {
           "diverging": [
            [
             0,
             "#8e0152"
            ],
            [
             0.1,
             "#c51b7d"
            ],
            [
             0.2,
             "#de77ae"
            ],
            [
             0.3,
             "#f1b6da"
            ],
            [
             0.4,
             "#fde0ef"
            ],
            [
             0.5,
             "#f7f7f7"
            ],
            [
             0.6,
             "#e6f5d0"
            ],
            [
             0.7,
             "#b8e186"
            ],
            [
             0.8,
             "#7fbc41"
            ],
            [
             0.9,
             "#4d9221"
            ],
            [
             1,
             "#276419"
            ]
           ],
           "sequential": [
            [
             0,
             "#0d0887"
            ],
            [
             0.1111111111111111,
             "#46039f"
            ],
            [
             0.2222222222222222,
             "#7201a8"
            ],
            [
             0.3333333333333333,
             "#9c179e"
            ],
            [
             0.4444444444444444,
             "#bd3786"
            ],
            [
             0.5555555555555556,
             "#d8576b"
            ],
            [
             0.6666666666666666,
             "#ed7953"
            ],
            [
             0.7777777777777778,
             "#fb9f3a"
            ],
            [
             0.8888888888888888,
             "#fdca26"
            ],
            [
             1,
             "#f0f921"
            ]
           ],
           "sequentialminus": [
            [
             0,
             "#0d0887"
            ],
            [
             0.1111111111111111,
             "#46039f"
            ],
            [
             0.2222222222222222,
             "#7201a8"
            ],
            [
             0.3333333333333333,
             "#9c179e"
            ],
            [
             0.4444444444444444,
             "#bd3786"
            ],
            [
             0.5555555555555556,
             "#d8576b"
            ],
            [
             0.6666666666666666,
             "#ed7953"
            ],
            [
             0.7777777777777778,
             "#fb9f3a"
            ],
            [
             0.8888888888888888,
             "#fdca26"
            ],
            [
             1,
             "#f0f921"
            ]
           ]
          },
          "colorway": [
           "#636efa",
           "#EF553B",
           "#00cc96",
           "#ab63fa",
           "#FFA15A",
           "#19d3f3",
           "#FF6692",
           "#B6E880",
           "#FF97FF",
           "#FECB52"
          ],
          "font": {
           "color": "#2a3f5f"
          },
          "geo": {
           "bgcolor": "white",
           "lakecolor": "white",
           "landcolor": "#E5ECF6",
           "showlakes": true,
           "showland": true,
           "subunitcolor": "white"
          },
          "hoverlabel": {
           "align": "left"
          },
          "hovermode": "closest",
          "mapbox": {
           "style": "light"
          },
          "paper_bgcolor": "white",
          "plot_bgcolor": "#E5ECF6",
          "polar": {
           "angularaxis": {
            "gridcolor": "white",
            "linecolor": "white",
            "ticks": ""
           },
           "bgcolor": "#E5ECF6",
           "radialaxis": {
            "gridcolor": "white",
            "linecolor": "white",
            "ticks": ""
           }
          },
          "scene": {
           "xaxis": {
            "backgroundcolor": "#E5ECF6",
            "gridcolor": "white",
            "gridwidth": 2,
            "linecolor": "white",
            "showbackground": true,
            "ticks": "",
            "zerolinecolor": "white"
           },
           "yaxis": {
            "backgroundcolor": "#E5ECF6",
            "gridcolor": "white",
            "gridwidth": 2,
            "linecolor": "white",
            "showbackground": true,
            "ticks": "",
            "zerolinecolor": "white"
           },
           "zaxis": {
            "backgroundcolor": "#E5ECF6",
            "gridcolor": "white",
            "gridwidth": 2,
            "linecolor": "white",
            "showbackground": true,
            "ticks": "",
            "zerolinecolor": "white"
           }
          },
          "shapedefaults": {
           "line": {
            "color": "#2a3f5f"
           }
          },
          "ternary": {
           "aaxis": {
            "gridcolor": "white",
            "linecolor": "white",
            "ticks": ""
           },
           "baxis": {
            "gridcolor": "white",
            "linecolor": "white",
            "ticks": ""
           },
           "bgcolor": "#E5ECF6",
           "caxis": {
            "gridcolor": "white",
            "linecolor": "white",
            "ticks": ""
           }
          },
          "title": {
           "x": 0.05
          },
          "xaxis": {
           "automargin": true,
           "gridcolor": "white",
           "linecolor": "white",
           "ticks": "",
           "title": {
            "standoff": 15
           },
           "zerolinecolor": "white",
           "zerolinewidth": 2
          },
          "yaxis": {
           "automargin": true,
           "gridcolor": "white",
           "linecolor": "white",
           "ticks": "",
           "title": {
            "standoff": 15
           },
           "zerolinecolor": "white",
           "zerolinewidth": 2
          }
         }
        },
        "title": {
         "text": "Grade Distribution"
        }
       }
      },
      "text/html": [
       "<div>\n",
       "        \n",
       "        \n",
       "            <div id=\"1335001c-9681-446b-97d6-17297253a7ae\" class=\"plotly-graph-div\" style=\"height:525px; width:100%;\"></div>\n",
       "            <script type=\"text/javascript\">\n",
       "                require([\"plotly\"], function(Plotly) {\n",
       "                    window.PLOTLYENV=window.PLOTLYENV || {};\n",
       "                    \n",
       "                if (document.getElementById(\"1335001c-9681-446b-97d6-17297253a7ae\")) {\n",
       "                    Plotly.newPlot(\n",
       "                        '1335001c-9681-446b-97d6-17297253a7ae',\n",
       "                        [{\"name\": \"High Risk\", \"type\": \"bar\", \"x\": [\"A\", \"B\", \"C\", \"D\", \"E\", \"F\", \"G\"], \"y\": [2955, 11008, 14743, 12132, 7139, 3267, 942]}, {\"name\": \"Medium Risk\", \"type\": \"bar\", \"x\": [\"A\", \"B\", \"C\", \"D\", \"E\", \"F\", \"G\"], \"y\": [35367, 64690, 64251, 38173, 17671, 5881, 1339]}, {\"name\": \"Low Risk\", \"type\": \"bar\", \"x\": [\"A\", \"B\", \"C\", \"D\", \"E\", \"F\", \"G\"], \"y\": [36545, 61231, 46299, 26583, 10947, 4081, 1041]}],\n",
       "                        {\"template\": {\"data\": {\"bar\": [{\"error_x\": {\"color\": \"#2a3f5f\"}, \"error_y\": {\"color\": \"#2a3f5f\"}, \"marker\": {\"line\": {\"color\": \"#E5ECF6\", \"width\": 0.5}}, \"type\": \"bar\"}], \"barpolar\": [{\"marker\": {\"line\": {\"color\": \"#E5ECF6\", \"width\": 0.5}}, \"type\": \"barpolar\"}], \"carpet\": [{\"aaxis\": {\"endlinecolor\": \"#2a3f5f\", \"gridcolor\": \"white\", \"linecolor\": \"white\", \"minorgridcolor\": \"white\", \"startlinecolor\": \"#2a3f5f\"}, \"baxis\": {\"endlinecolor\": \"#2a3f5f\", \"gridcolor\": \"white\", \"linecolor\": \"white\", \"minorgridcolor\": \"white\", \"startlinecolor\": \"#2a3f5f\"}, \"type\": \"carpet\"}], \"choropleth\": [{\"colorbar\": {\"outlinewidth\": 0, \"ticks\": \"\"}, \"type\": \"choropleth\"}], \"contour\": [{\"colorbar\": {\"outlinewidth\": 0, \"ticks\": \"\"}, \"colorscale\": [[0.0, \"#0d0887\"], [0.1111111111111111, \"#46039f\"], [0.2222222222222222, \"#7201a8\"], [0.3333333333333333, \"#9c179e\"], [0.4444444444444444, \"#bd3786\"], [0.5555555555555556, \"#d8576b\"], [0.6666666666666666, \"#ed7953\"], [0.7777777777777778, \"#fb9f3a\"], [0.8888888888888888, \"#fdca26\"], [1.0, \"#f0f921\"]], \"type\": \"contour\"}], \"contourcarpet\": [{\"colorbar\": {\"outlinewidth\": 0, \"ticks\": \"\"}, \"type\": \"contourcarpet\"}], \"heatmap\": [{\"colorbar\": {\"outlinewidth\": 0, \"ticks\": \"\"}, \"colorscale\": [[0.0, \"#0d0887\"], [0.1111111111111111, \"#46039f\"], [0.2222222222222222, \"#7201a8\"], [0.3333333333333333, \"#9c179e\"], [0.4444444444444444, \"#bd3786\"], [0.5555555555555556, \"#d8576b\"], [0.6666666666666666, \"#ed7953\"], [0.7777777777777778, \"#fb9f3a\"], [0.8888888888888888, \"#fdca26\"], [1.0, \"#f0f921\"]], \"type\": \"heatmap\"}], \"heatmapgl\": [{\"colorbar\": {\"outlinewidth\": 0, \"ticks\": \"\"}, \"colorscale\": [[0.0, \"#0d0887\"], [0.1111111111111111, \"#46039f\"], [0.2222222222222222, \"#7201a8\"], [0.3333333333333333, \"#9c179e\"], [0.4444444444444444, \"#bd3786\"], [0.5555555555555556, \"#d8576b\"], [0.6666666666666666, \"#ed7953\"], [0.7777777777777778, \"#fb9f3a\"], [0.8888888888888888, \"#fdca26\"], [1.0, \"#f0f921\"]], \"type\": \"heatmapgl\"}], \"histogram\": [{\"marker\": {\"colorbar\": {\"outlinewidth\": 0, \"ticks\": \"\"}}, \"type\": \"histogram\"}], \"histogram2d\": [{\"colorbar\": {\"outlinewidth\": 0, \"ticks\": \"\"}, \"colorscale\": [[0.0, \"#0d0887\"], [0.1111111111111111, \"#46039f\"], [0.2222222222222222, \"#7201a8\"], [0.3333333333333333, \"#9c179e\"], [0.4444444444444444, \"#bd3786\"], [0.5555555555555556, \"#d8576b\"], [0.6666666666666666, \"#ed7953\"], [0.7777777777777778, \"#fb9f3a\"], [0.8888888888888888, \"#fdca26\"], [1.0, \"#f0f921\"]], \"type\": \"histogram2d\"}], \"histogram2dcontour\": [{\"colorbar\": {\"outlinewidth\": 0, \"ticks\": \"\"}, \"colorscale\": [[0.0, \"#0d0887\"], [0.1111111111111111, \"#46039f\"], [0.2222222222222222, \"#7201a8\"], [0.3333333333333333, \"#9c179e\"], [0.4444444444444444, \"#bd3786\"], [0.5555555555555556, \"#d8576b\"], [0.6666666666666666, \"#ed7953\"], [0.7777777777777778, \"#fb9f3a\"], [0.8888888888888888, \"#fdca26\"], [1.0, \"#f0f921\"]], \"type\": \"histogram2dcontour\"}], \"mesh3d\": [{\"colorbar\": {\"outlinewidth\": 0, \"ticks\": \"\"}, \"type\": \"mesh3d\"}], \"parcoords\": [{\"line\": {\"colorbar\": {\"outlinewidth\": 0, \"ticks\": \"\"}}, \"type\": \"parcoords\"}], \"pie\": [{\"automargin\": true, \"type\": \"pie\"}], \"scatter\": [{\"marker\": {\"colorbar\": {\"outlinewidth\": 0, \"ticks\": \"\"}}, \"type\": \"scatter\"}], \"scatter3d\": [{\"line\": {\"colorbar\": {\"outlinewidth\": 0, \"ticks\": \"\"}}, \"marker\": {\"colorbar\": {\"outlinewidth\": 0, \"ticks\": \"\"}}, \"type\": \"scatter3d\"}], \"scattercarpet\": [{\"marker\": {\"colorbar\": {\"outlinewidth\": 0, \"ticks\": \"\"}}, \"type\": \"scattercarpet\"}], \"scattergeo\": [{\"marker\": {\"colorbar\": {\"outlinewidth\": 0, \"ticks\": \"\"}}, \"type\": \"scattergeo\"}], \"scattergl\": [{\"marker\": {\"colorbar\": {\"outlinewidth\": 0, \"ticks\": \"\"}}, \"type\": \"scattergl\"}], \"scattermapbox\": [{\"marker\": {\"colorbar\": {\"outlinewidth\": 0, \"ticks\": \"\"}}, \"type\": \"scattermapbox\"}], \"scatterpolar\": [{\"marker\": {\"colorbar\": {\"outlinewidth\": 0, \"ticks\": \"\"}}, \"type\": \"scatterpolar\"}], \"scatterpolargl\": [{\"marker\": {\"colorbar\": {\"outlinewidth\": 0, \"ticks\": \"\"}}, \"type\": \"scatterpolargl\"}], \"scatterternary\": [{\"marker\": {\"colorbar\": {\"outlinewidth\": 0, \"ticks\": \"\"}}, \"type\": \"scatterternary\"}], \"surface\": [{\"colorbar\": {\"outlinewidth\": 0, \"ticks\": \"\"}, \"colorscale\": [[0.0, \"#0d0887\"], [0.1111111111111111, \"#46039f\"], [0.2222222222222222, \"#7201a8\"], [0.3333333333333333, \"#9c179e\"], [0.4444444444444444, \"#bd3786\"], [0.5555555555555556, \"#d8576b\"], [0.6666666666666666, \"#ed7953\"], [0.7777777777777778, \"#fb9f3a\"], [0.8888888888888888, \"#fdca26\"], [1.0, \"#f0f921\"]], \"type\": \"surface\"}], \"table\": [{\"cells\": {\"fill\": {\"color\": \"#EBF0F8\"}, \"line\": {\"color\": \"white\"}}, \"header\": {\"fill\": {\"color\": \"#C8D4E3\"}, \"line\": {\"color\": \"white\"}}, \"type\": \"table\"}]}, \"layout\": {\"annotationdefaults\": {\"arrowcolor\": \"#2a3f5f\", \"arrowhead\": 0, \"arrowwidth\": 1}, \"coloraxis\": {\"colorbar\": {\"outlinewidth\": 0, \"ticks\": \"\"}}, \"colorscale\": {\"diverging\": [[0, \"#8e0152\"], [0.1, \"#c51b7d\"], [0.2, \"#de77ae\"], [0.3, \"#f1b6da\"], [0.4, \"#fde0ef\"], [0.5, \"#f7f7f7\"], [0.6, \"#e6f5d0\"], [0.7, \"#b8e186\"], [0.8, \"#7fbc41\"], [0.9, \"#4d9221\"], [1, \"#276419\"]], \"sequential\": [[0.0, \"#0d0887\"], [0.1111111111111111, \"#46039f\"], [0.2222222222222222, \"#7201a8\"], [0.3333333333333333, \"#9c179e\"], [0.4444444444444444, \"#bd3786\"], [0.5555555555555556, \"#d8576b\"], [0.6666666666666666, \"#ed7953\"], [0.7777777777777778, \"#fb9f3a\"], [0.8888888888888888, \"#fdca26\"], [1.0, \"#f0f921\"]], \"sequentialminus\": [[0.0, \"#0d0887\"], [0.1111111111111111, \"#46039f\"], [0.2222222222222222, \"#7201a8\"], [0.3333333333333333, \"#9c179e\"], [0.4444444444444444, \"#bd3786\"], [0.5555555555555556, \"#d8576b\"], [0.6666666666666666, \"#ed7953\"], [0.7777777777777778, \"#fb9f3a\"], [0.8888888888888888, \"#fdca26\"], [1.0, \"#f0f921\"]]}, \"colorway\": [\"#636efa\", \"#EF553B\", \"#00cc96\", \"#ab63fa\", \"#FFA15A\", \"#19d3f3\", \"#FF6692\", \"#B6E880\", \"#FF97FF\", \"#FECB52\"], \"font\": {\"color\": \"#2a3f5f\"}, \"geo\": {\"bgcolor\": \"white\", \"lakecolor\": \"white\", \"landcolor\": \"#E5ECF6\", \"showlakes\": true, \"showland\": true, \"subunitcolor\": \"white\"}, \"hoverlabel\": {\"align\": \"left\"}, \"hovermode\": \"closest\", \"mapbox\": {\"style\": \"light\"}, \"paper_bgcolor\": \"white\", \"plot_bgcolor\": \"#E5ECF6\", \"polar\": {\"angularaxis\": {\"gridcolor\": \"white\", \"linecolor\": \"white\", \"ticks\": \"\"}, \"bgcolor\": \"#E5ECF6\", \"radialaxis\": {\"gridcolor\": \"white\", \"linecolor\": \"white\", \"ticks\": \"\"}}, \"scene\": {\"xaxis\": {\"backgroundcolor\": \"#E5ECF6\", \"gridcolor\": \"white\", \"gridwidth\": 2, \"linecolor\": \"white\", \"showbackground\": true, \"ticks\": \"\", \"zerolinecolor\": \"white\"}, \"yaxis\": {\"backgroundcolor\": \"#E5ECF6\", \"gridcolor\": \"white\", \"gridwidth\": 2, \"linecolor\": \"white\", \"showbackground\": true, \"ticks\": \"\", \"zerolinecolor\": \"white\"}, \"zaxis\": {\"backgroundcolor\": \"#E5ECF6\", \"gridcolor\": \"white\", \"gridwidth\": 2, \"linecolor\": \"white\", \"showbackground\": true, \"ticks\": \"\", \"zerolinecolor\": \"white\"}}, \"shapedefaults\": {\"line\": {\"color\": \"#2a3f5f\"}}, \"ternary\": {\"aaxis\": {\"gridcolor\": \"white\", \"linecolor\": \"white\", \"ticks\": \"\"}, \"baxis\": {\"gridcolor\": \"white\", \"linecolor\": \"white\", \"ticks\": \"\"}, \"bgcolor\": \"#E5ECF6\", \"caxis\": {\"gridcolor\": \"white\", \"linecolor\": \"white\", \"ticks\": \"\"}}, \"title\": {\"x\": 0.05}, \"xaxis\": {\"automargin\": true, \"gridcolor\": \"white\", \"linecolor\": \"white\", \"ticks\": \"\", \"title\": {\"standoff\": 15}, \"zerolinecolor\": \"white\", \"zerolinewidth\": 2}, \"yaxis\": {\"automargin\": true, \"gridcolor\": \"white\", \"linecolor\": \"white\", \"ticks\": \"\", \"title\": {\"standoff\": 15}, \"zerolinecolor\": \"white\", \"zerolinewidth\": 2}}}, \"title\": {\"text\": \"Grade Distribution\"}},\n",
       "                        {\"responsive\": true}\n",
       "                    ).then(function(){\n",
       "                            \n",
       "var gd = document.getElementById('1335001c-9681-446b-97d6-17297253a7ae');\n",
       "var x = new MutationObserver(function (mutations, observer) {{\n",
       "        var display = window.getComputedStyle(gd).display;\n",
       "        if (!display || display === 'none') {{\n",
       "            console.log([gd, 'removed!']);\n",
       "            Plotly.purge(gd);\n",
       "            observer.disconnect();\n",
       "        }}\n",
       "}});\n",
       "\n",
       "// Listen for the removal of the full notebook cells\n",
       "var notebookContainer = gd.closest('#notebook-container');\n",
       "if (notebookContainer) {{\n",
       "    x.observe(notebookContainer, {childList: true});\n",
       "}}\n",
       "\n",
       "// Listen for the clearing of the current output cell\n",
       "var outputEl = gd.closest('.output');\n",
       "if (outputEl) {{\n",
       "    x.observe(outputEl, {childList: true});\n",
       "}}\n",
       "\n",
       "                        })\n",
       "                };\n",
       "                });\n",
       "            </script>\n",
       "        </div>"
      ]
     },
     "metadata": {},
     "output_type": "display_data"
    }
   ],
   "source": [
    "\n",
    "trace0 = go.Bar(\n",
    "    x = data[data[\"loan_status\"]== 'High Risk'][\"grade\"].value_counts().sort_index().index.values,\n",
    "    y = data[data[\"loan_status\"]== 'High Risk'][\"grade\"].value_counts().sort_index(),\n",
    "    name='High Risk'\n",
    ")\n",
    "\n",
    "trace1 = go.Bar(\n",
    "    x = data[data[\"loan_status\"]== 'Medium Risk'][\"grade\"].value_counts().sort_index().index.values,\n",
    "    y = data[data[\"loan_status\"]== 'Medium Risk'][\"grade\"].value_counts().sort_index(),\n",
    "    name=\"Medium Risk\"\n",
    ")\n",
    "\n",
    "trace2 = go.Bar(\n",
    "    x = data[data[\"loan_status\"]== 'Low Risk'][\"grade\"].value_counts().sort_index().index.values,\n",
    "    y = data[data[\"loan_status\"]== 'Low Risk'][\"grade\"].value_counts().sort_index(),\n",
    "    name=\"Low Risk\"\n",
    ")\n",
    "\n",
    "tabels = [trace0, trace1, trace2]\n",
    "\n",
    "layout = go.Layout(\n",
    "    title='Grade Distribution'\n",
    ")\n",
    "\n",
    "\n",
    "fig = go.Figure(data=tabels, layout=layout)\n",
    "\n",
    "py.iplot(fig)"
   ]
  },
  {
   "cell_type": "code",
   "execution_count": 22,
   "metadata": {},
   "outputs": [
    {
     "data": {
      "application/vnd.plotly.v1+json": {
       "config": {
        "linkText": "Export to plot.ly",
        "plotlyServerURL": "https://plot.ly",
        "showLink": false
       },
       "data": [
        {
         "name": "High Risk",
         "type": "bar",
         "x": [
          "Not Verified",
          "Source Verified",
          "Verified"
         ],
         "y": [
          14205,
          16090,
          21891
         ]
        },
        {
         "name": "Medium Risk",
         "type": "bar",
         "x": [
          "Not Verified",
          "Source Verified",
          "Verified"
         ],
         "y": [
          65218,
          82922,
          79232
         ]
        },
        {
         "name": "Low Risk",
         "type": "bar",
         "x": [
          "Not Verified",
          "Source Verified",
          "Verified"
         ],
         "y": [
          68814,
          50981,
          66932
         ]
        }
       ],
       "layout": {
        "template": {
         "data": {
          "bar": [
           {
            "error_x": {
             "color": "#2a3f5f"
            },
            "error_y": {
             "color": "#2a3f5f"
            },
            "marker": {
             "line": {
              "color": "#E5ECF6",
              "width": 0.5
             }
            },
            "type": "bar"
           }
          ],
          "barpolar": [
           {
            "marker": {
             "line": {
              "color": "#E5ECF6",
              "width": 0.5
             }
            },
            "type": "barpolar"
           }
          ],
          "carpet": [
           {
            "aaxis": {
             "endlinecolor": "#2a3f5f",
             "gridcolor": "white",
             "linecolor": "white",
             "minorgridcolor": "white",
             "startlinecolor": "#2a3f5f"
            },
            "baxis": {
             "endlinecolor": "#2a3f5f",
             "gridcolor": "white",
             "linecolor": "white",
             "minorgridcolor": "white",
             "startlinecolor": "#2a3f5f"
            },
            "type": "carpet"
           }
          ],
          "choropleth": [
           {
            "colorbar": {
             "outlinewidth": 0,
             "ticks": ""
            },
            "type": "choropleth"
           }
          ],
          "contour": [
           {
            "colorbar": {
             "outlinewidth": 0,
             "ticks": ""
            },
            "colorscale": [
             [
              0,
              "#0d0887"
             ],
             [
              0.1111111111111111,
              "#46039f"
             ],
             [
              0.2222222222222222,
              "#7201a8"
             ],
             [
              0.3333333333333333,
              "#9c179e"
             ],
             [
              0.4444444444444444,
              "#bd3786"
             ],
             [
              0.5555555555555556,
              "#d8576b"
             ],
             [
              0.6666666666666666,
              "#ed7953"
             ],
             [
              0.7777777777777778,
              "#fb9f3a"
             ],
             [
              0.8888888888888888,
              "#fdca26"
             ],
             [
              1,
              "#f0f921"
             ]
            ],
            "type": "contour"
           }
          ],
          "contourcarpet": [
           {
            "colorbar": {
             "outlinewidth": 0,
             "ticks": ""
            },
            "type": "contourcarpet"
           }
          ],
          "heatmap": [
           {
            "colorbar": {
             "outlinewidth": 0,
             "ticks": ""
            },
            "colorscale": [
             [
              0,
              "#0d0887"
             ],
             [
              0.1111111111111111,
              "#46039f"
             ],
             [
              0.2222222222222222,
              "#7201a8"
             ],
             [
              0.3333333333333333,
              "#9c179e"
             ],
             [
              0.4444444444444444,
              "#bd3786"
             ],
             [
              0.5555555555555556,
              "#d8576b"
             ],
             [
              0.6666666666666666,
              "#ed7953"
             ],
             [
              0.7777777777777778,
              "#fb9f3a"
             ],
             [
              0.8888888888888888,
              "#fdca26"
             ],
             [
              1,
              "#f0f921"
             ]
            ],
            "type": "heatmap"
           }
          ],
          "heatmapgl": [
           {
            "colorbar": {
             "outlinewidth": 0,
             "ticks": ""
            },
            "colorscale": [
             [
              0,
              "#0d0887"
             ],
             [
              0.1111111111111111,
              "#46039f"
             ],
             [
              0.2222222222222222,
              "#7201a8"
             ],
             [
              0.3333333333333333,
              "#9c179e"
             ],
             [
              0.4444444444444444,
              "#bd3786"
             ],
             [
              0.5555555555555556,
              "#d8576b"
             ],
             [
              0.6666666666666666,
              "#ed7953"
             ],
             [
              0.7777777777777778,
              "#fb9f3a"
             ],
             [
              0.8888888888888888,
              "#fdca26"
             ],
             [
              1,
              "#f0f921"
             ]
            ],
            "type": "heatmapgl"
           }
          ],
          "histogram": [
           {
            "marker": {
             "colorbar": {
              "outlinewidth": 0,
              "ticks": ""
             }
            },
            "type": "histogram"
           }
          ],
          "histogram2d": [
           {
            "colorbar": {
             "outlinewidth": 0,
             "ticks": ""
            },
            "colorscale": [
             [
              0,
              "#0d0887"
             ],
             [
              0.1111111111111111,
              "#46039f"
             ],
             [
              0.2222222222222222,
              "#7201a8"
             ],
             [
              0.3333333333333333,
              "#9c179e"
             ],
             [
              0.4444444444444444,
              "#bd3786"
             ],
             [
              0.5555555555555556,
              "#d8576b"
             ],
             [
              0.6666666666666666,
              "#ed7953"
             ],
             [
              0.7777777777777778,
              "#fb9f3a"
             ],
             [
              0.8888888888888888,
              "#fdca26"
             ],
             [
              1,
              "#f0f921"
             ]
            ],
            "type": "histogram2d"
           }
          ],
          "histogram2dcontour": [
           {
            "colorbar": {
             "outlinewidth": 0,
             "ticks": ""
            },
            "colorscale": [
             [
              0,
              "#0d0887"
             ],
             [
              0.1111111111111111,
              "#46039f"
             ],
             [
              0.2222222222222222,
              "#7201a8"
             ],
             [
              0.3333333333333333,
              "#9c179e"
             ],
             [
              0.4444444444444444,
              "#bd3786"
             ],
             [
              0.5555555555555556,
              "#d8576b"
             ],
             [
              0.6666666666666666,
              "#ed7953"
             ],
             [
              0.7777777777777778,
              "#fb9f3a"
             ],
             [
              0.8888888888888888,
              "#fdca26"
             ],
             [
              1,
              "#f0f921"
             ]
            ],
            "type": "histogram2dcontour"
           }
          ],
          "mesh3d": [
           {
            "colorbar": {
             "outlinewidth": 0,
             "ticks": ""
            },
            "type": "mesh3d"
           }
          ],
          "parcoords": [
           {
            "line": {
             "colorbar": {
              "outlinewidth": 0,
              "ticks": ""
             }
            },
            "type": "parcoords"
           }
          ],
          "pie": [
           {
            "automargin": true,
            "type": "pie"
           }
          ],
          "scatter": [
           {
            "marker": {
             "colorbar": {
              "outlinewidth": 0,
              "ticks": ""
             }
            },
            "type": "scatter"
           }
          ],
          "scatter3d": [
           {
            "line": {
             "colorbar": {
              "outlinewidth": 0,
              "ticks": ""
             }
            },
            "marker": {
             "colorbar": {
              "outlinewidth": 0,
              "ticks": ""
             }
            },
            "type": "scatter3d"
           }
          ],
          "scattercarpet": [
           {
            "marker": {
             "colorbar": {
              "outlinewidth": 0,
              "ticks": ""
             }
            },
            "type": "scattercarpet"
           }
          ],
          "scattergeo": [
           {
            "marker": {
             "colorbar": {
              "outlinewidth": 0,
              "ticks": ""
             }
            },
            "type": "scattergeo"
           }
          ],
          "scattergl": [
           {
            "marker": {
             "colorbar": {
              "outlinewidth": 0,
              "ticks": ""
             }
            },
            "type": "scattergl"
           }
          ],
          "scattermapbox": [
           {
            "marker": {
             "colorbar": {
              "outlinewidth": 0,
              "ticks": ""
             }
            },
            "type": "scattermapbox"
           }
          ],
          "scatterpolar": [
           {
            "marker": {
             "colorbar": {
              "outlinewidth": 0,
              "ticks": ""
             }
            },
            "type": "scatterpolar"
           }
          ],
          "scatterpolargl": [
           {
            "marker": {
             "colorbar": {
              "outlinewidth": 0,
              "ticks": ""
             }
            },
            "type": "scatterpolargl"
           }
          ],
          "scatterternary": [
           {
            "marker": {
             "colorbar": {
              "outlinewidth": 0,
              "ticks": ""
             }
            },
            "type": "scatterternary"
           }
          ],
          "surface": [
           {
            "colorbar": {
             "outlinewidth": 0,
             "ticks": ""
            },
            "colorscale": [
             [
              0,
              "#0d0887"
             ],
             [
              0.1111111111111111,
              "#46039f"
             ],
             [
              0.2222222222222222,
              "#7201a8"
             ],
             [
              0.3333333333333333,
              "#9c179e"
             ],
             [
              0.4444444444444444,
              "#bd3786"
             ],
             [
              0.5555555555555556,
              "#d8576b"
             ],
             [
              0.6666666666666666,
              "#ed7953"
             ],
             [
              0.7777777777777778,
              "#fb9f3a"
             ],
             [
              0.8888888888888888,
              "#fdca26"
             ],
             [
              1,
              "#f0f921"
             ]
            ],
            "type": "surface"
           }
          ],
          "table": [
           {
            "cells": {
             "fill": {
              "color": "#EBF0F8"
             },
             "line": {
              "color": "white"
             }
            },
            "header": {
             "fill": {
              "color": "#C8D4E3"
             },
             "line": {
              "color": "white"
             }
            },
            "type": "table"
           }
          ]
         },
         "layout": {
          "annotationdefaults": {
           "arrowcolor": "#2a3f5f",
           "arrowhead": 0,
           "arrowwidth": 1
          },
          "coloraxis": {
           "colorbar": {
            "outlinewidth": 0,
            "ticks": ""
           }
          },
          "colorscale": {
           "diverging": [
            [
             0,
             "#8e0152"
            ],
            [
             0.1,
             "#c51b7d"
            ],
            [
             0.2,
             "#de77ae"
            ],
            [
             0.3,
             "#f1b6da"
            ],
            [
             0.4,
             "#fde0ef"
            ],
            [
             0.5,
             "#f7f7f7"
            ],
            [
             0.6,
             "#e6f5d0"
            ],
            [
             0.7,
             "#b8e186"
            ],
            [
             0.8,
             "#7fbc41"
            ],
            [
             0.9,
             "#4d9221"
            ],
            [
             1,
             "#276419"
            ]
           ],
           "sequential": [
            [
             0,
             "#0d0887"
            ],
            [
             0.1111111111111111,
             "#46039f"
            ],
            [
             0.2222222222222222,
             "#7201a8"
            ],
            [
             0.3333333333333333,
             "#9c179e"
            ],
            [
             0.4444444444444444,
             "#bd3786"
            ],
            [
             0.5555555555555556,
             "#d8576b"
            ],
            [
             0.6666666666666666,
             "#ed7953"
            ],
            [
             0.7777777777777778,
             "#fb9f3a"
            ],
            [
             0.8888888888888888,
             "#fdca26"
            ],
            [
             1,
             "#f0f921"
            ]
           ],
           "sequentialminus": [
            [
             0,
             "#0d0887"
            ],
            [
             0.1111111111111111,
             "#46039f"
            ],
            [
             0.2222222222222222,
             "#7201a8"
            ],
            [
             0.3333333333333333,
             "#9c179e"
            ],
            [
             0.4444444444444444,
             "#bd3786"
            ],
            [
             0.5555555555555556,
             "#d8576b"
            ],
            [
             0.6666666666666666,
             "#ed7953"
            ],
            [
             0.7777777777777778,
             "#fb9f3a"
            ],
            [
             0.8888888888888888,
             "#fdca26"
            ],
            [
             1,
             "#f0f921"
            ]
           ]
          },
          "colorway": [
           "#636efa",
           "#EF553B",
           "#00cc96",
           "#ab63fa",
           "#FFA15A",
           "#19d3f3",
           "#FF6692",
           "#B6E880",
           "#FF97FF",
           "#FECB52"
          ],
          "font": {
           "color": "#2a3f5f"
          },
          "geo": {
           "bgcolor": "white",
           "lakecolor": "white",
           "landcolor": "#E5ECF6",
           "showlakes": true,
           "showland": true,
           "subunitcolor": "white"
          },
          "hoverlabel": {
           "align": "left"
          },
          "hovermode": "closest",
          "mapbox": {
           "style": "light"
          },
          "paper_bgcolor": "white",
          "plot_bgcolor": "#E5ECF6",
          "polar": {
           "angularaxis": {
            "gridcolor": "white",
            "linecolor": "white",
            "ticks": ""
           },
           "bgcolor": "#E5ECF6",
           "radialaxis": {
            "gridcolor": "white",
            "linecolor": "white",
            "ticks": ""
           }
          },
          "scene": {
           "xaxis": {
            "backgroundcolor": "#E5ECF6",
            "gridcolor": "white",
            "gridwidth": 2,
            "linecolor": "white",
            "showbackground": true,
            "ticks": "",
            "zerolinecolor": "white"
           },
           "yaxis": {
            "backgroundcolor": "#E5ECF6",
            "gridcolor": "white",
            "gridwidth": 2,
            "linecolor": "white",
            "showbackground": true,
            "ticks": "",
            "zerolinecolor": "white"
           },
           "zaxis": {
            "backgroundcolor": "#E5ECF6",
            "gridcolor": "white",
            "gridwidth": 2,
            "linecolor": "white",
            "showbackground": true,
            "ticks": "",
            "zerolinecolor": "white"
           }
          },
          "shapedefaults": {
           "line": {
            "color": "#2a3f5f"
           }
          },
          "ternary": {
           "aaxis": {
            "gridcolor": "white",
            "linecolor": "white",
            "ticks": ""
           },
           "baxis": {
            "gridcolor": "white",
            "linecolor": "white",
            "ticks": ""
           },
           "bgcolor": "#E5ECF6",
           "caxis": {
            "gridcolor": "white",
            "linecolor": "white",
            "ticks": ""
           }
          },
          "title": {
           "x": 0.05
          },
          "xaxis": {
           "automargin": true,
           "gridcolor": "white",
           "linecolor": "white",
           "ticks": "",
           "title": {
            "standoff": 15
           },
           "zerolinecolor": "white",
           "zerolinewidth": 2
          },
          "yaxis": {
           "automargin": true,
           "gridcolor": "white",
           "linecolor": "white",
           "ticks": "",
           "title": {
            "standoff": 15
           },
           "zerolinecolor": "white",
           "zerolinewidth": 2
          }
         }
        },
        "title": {
         "text": "Verification Status Distribution"
        }
       }
      },
      "text/html": [
       "<div>\n",
       "        \n",
       "        \n",
       "            <div id=\"b170c92d-09e6-4d41-b948-7b7e93f23416\" class=\"plotly-graph-div\" style=\"height:525px; width:100%;\"></div>\n",
       "            <script type=\"text/javascript\">\n",
       "                require([\"plotly\"], function(Plotly) {\n",
       "                    window.PLOTLYENV=window.PLOTLYENV || {};\n",
       "                    \n",
       "                if (document.getElementById(\"b170c92d-09e6-4d41-b948-7b7e93f23416\")) {\n",
       "                    Plotly.newPlot(\n",
       "                        'b170c92d-09e6-4d41-b948-7b7e93f23416',\n",
       "                        [{\"name\": \"High Risk\", \"type\": \"bar\", \"x\": [\"Not Verified\", \"Source Verified\", \"Verified\"], \"y\": [14205, 16090, 21891]}, {\"name\": \"Medium Risk\", \"type\": \"bar\", \"x\": [\"Not Verified\", \"Source Verified\", \"Verified\"], \"y\": [65218, 82922, 79232]}, {\"name\": \"Low Risk\", \"type\": \"bar\", \"x\": [\"Not Verified\", \"Source Verified\", \"Verified\"], \"y\": [68814, 50981, 66932]}],\n",
       "                        {\"template\": {\"data\": {\"bar\": [{\"error_x\": {\"color\": \"#2a3f5f\"}, \"error_y\": {\"color\": \"#2a3f5f\"}, \"marker\": {\"line\": {\"color\": \"#E5ECF6\", \"width\": 0.5}}, \"type\": \"bar\"}], \"barpolar\": [{\"marker\": {\"line\": {\"color\": \"#E5ECF6\", \"width\": 0.5}}, \"type\": \"barpolar\"}], \"carpet\": [{\"aaxis\": {\"endlinecolor\": \"#2a3f5f\", \"gridcolor\": \"white\", \"linecolor\": \"white\", \"minorgridcolor\": \"white\", \"startlinecolor\": \"#2a3f5f\"}, \"baxis\": {\"endlinecolor\": \"#2a3f5f\", \"gridcolor\": \"white\", \"linecolor\": \"white\", \"minorgridcolor\": \"white\", \"startlinecolor\": \"#2a3f5f\"}, \"type\": \"carpet\"}], \"choropleth\": [{\"colorbar\": {\"outlinewidth\": 0, \"ticks\": \"\"}, \"type\": \"choropleth\"}], \"contour\": [{\"colorbar\": {\"outlinewidth\": 0, \"ticks\": \"\"}, \"colorscale\": [[0.0, \"#0d0887\"], [0.1111111111111111, \"#46039f\"], [0.2222222222222222, \"#7201a8\"], [0.3333333333333333, \"#9c179e\"], [0.4444444444444444, \"#bd3786\"], [0.5555555555555556, \"#d8576b\"], [0.6666666666666666, \"#ed7953\"], [0.7777777777777778, \"#fb9f3a\"], [0.8888888888888888, \"#fdca26\"], [1.0, \"#f0f921\"]], \"type\": \"contour\"}], \"contourcarpet\": [{\"colorbar\": {\"outlinewidth\": 0, \"ticks\": \"\"}, \"type\": \"contourcarpet\"}], \"heatmap\": [{\"colorbar\": {\"outlinewidth\": 0, \"ticks\": \"\"}, \"colorscale\": [[0.0, \"#0d0887\"], [0.1111111111111111, \"#46039f\"], [0.2222222222222222, \"#7201a8\"], [0.3333333333333333, \"#9c179e\"], [0.4444444444444444, \"#bd3786\"], [0.5555555555555556, \"#d8576b\"], [0.6666666666666666, \"#ed7953\"], [0.7777777777777778, \"#fb9f3a\"], [0.8888888888888888, \"#fdca26\"], [1.0, \"#f0f921\"]], \"type\": \"heatmap\"}], \"heatmapgl\": [{\"colorbar\": {\"outlinewidth\": 0, \"ticks\": \"\"}, \"colorscale\": [[0.0, \"#0d0887\"], [0.1111111111111111, \"#46039f\"], [0.2222222222222222, \"#7201a8\"], [0.3333333333333333, \"#9c179e\"], [0.4444444444444444, \"#bd3786\"], [0.5555555555555556, \"#d8576b\"], [0.6666666666666666, \"#ed7953\"], [0.7777777777777778, \"#fb9f3a\"], [0.8888888888888888, \"#fdca26\"], [1.0, \"#f0f921\"]], \"type\": \"heatmapgl\"}], \"histogram\": [{\"marker\": {\"colorbar\": {\"outlinewidth\": 0, \"ticks\": \"\"}}, \"type\": \"histogram\"}], \"histogram2d\": [{\"colorbar\": {\"outlinewidth\": 0, \"ticks\": \"\"}, \"colorscale\": [[0.0, \"#0d0887\"], [0.1111111111111111, \"#46039f\"], [0.2222222222222222, \"#7201a8\"], [0.3333333333333333, \"#9c179e\"], [0.4444444444444444, \"#bd3786\"], [0.5555555555555556, \"#d8576b\"], [0.6666666666666666, \"#ed7953\"], [0.7777777777777778, \"#fb9f3a\"], [0.8888888888888888, \"#fdca26\"], [1.0, \"#f0f921\"]], \"type\": \"histogram2d\"}], \"histogram2dcontour\": [{\"colorbar\": {\"outlinewidth\": 0, \"ticks\": \"\"}, \"colorscale\": [[0.0, \"#0d0887\"], [0.1111111111111111, \"#46039f\"], [0.2222222222222222, \"#7201a8\"], [0.3333333333333333, \"#9c179e\"], [0.4444444444444444, \"#bd3786\"], [0.5555555555555556, \"#d8576b\"], [0.6666666666666666, \"#ed7953\"], [0.7777777777777778, \"#fb9f3a\"], [0.8888888888888888, \"#fdca26\"], [1.0, \"#f0f921\"]], \"type\": \"histogram2dcontour\"}], \"mesh3d\": [{\"colorbar\": {\"outlinewidth\": 0, \"ticks\": \"\"}, \"type\": \"mesh3d\"}], \"parcoords\": [{\"line\": {\"colorbar\": {\"outlinewidth\": 0, \"ticks\": \"\"}}, \"type\": \"parcoords\"}], \"pie\": [{\"automargin\": true, \"type\": \"pie\"}], \"scatter\": [{\"marker\": {\"colorbar\": {\"outlinewidth\": 0, \"ticks\": \"\"}}, \"type\": \"scatter\"}], \"scatter3d\": [{\"line\": {\"colorbar\": {\"outlinewidth\": 0, \"ticks\": \"\"}}, \"marker\": {\"colorbar\": {\"outlinewidth\": 0, \"ticks\": \"\"}}, \"type\": \"scatter3d\"}], \"scattercarpet\": [{\"marker\": {\"colorbar\": {\"outlinewidth\": 0, \"ticks\": \"\"}}, \"type\": \"scattercarpet\"}], \"scattergeo\": [{\"marker\": {\"colorbar\": {\"outlinewidth\": 0, \"ticks\": \"\"}}, \"type\": \"scattergeo\"}], \"scattergl\": [{\"marker\": {\"colorbar\": {\"outlinewidth\": 0, \"ticks\": \"\"}}, \"type\": \"scattergl\"}], \"scattermapbox\": [{\"marker\": {\"colorbar\": {\"outlinewidth\": 0, \"ticks\": \"\"}}, \"type\": \"scattermapbox\"}], \"scatterpolar\": [{\"marker\": {\"colorbar\": {\"outlinewidth\": 0, \"ticks\": \"\"}}, \"type\": \"scatterpolar\"}], \"scatterpolargl\": [{\"marker\": {\"colorbar\": {\"outlinewidth\": 0, \"ticks\": \"\"}}, \"type\": \"scatterpolargl\"}], \"scatterternary\": [{\"marker\": {\"colorbar\": {\"outlinewidth\": 0, \"ticks\": \"\"}}, \"type\": \"scatterternary\"}], \"surface\": [{\"colorbar\": {\"outlinewidth\": 0, \"ticks\": \"\"}, \"colorscale\": [[0.0, \"#0d0887\"], [0.1111111111111111, \"#46039f\"], [0.2222222222222222, \"#7201a8\"], [0.3333333333333333, \"#9c179e\"], [0.4444444444444444, \"#bd3786\"], [0.5555555555555556, \"#d8576b\"], [0.6666666666666666, \"#ed7953\"], [0.7777777777777778, \"#fb9f3a\"], [0.8888888888888888, \"#fdca26\"], [1.0, \"#f0f921\"]], \"type\": \"surface\"}], \"table\": [{\"cells\": {\"fill\": {\"color\": \"#EBF0F8\"}, \"line\": {\"color\": \"white\"}}, \"header\": {\"fill\": {\"color\": \"#C8D4E3\"}, \"line\": {\"color\": \"white\"}}, \"type\": \"table\"}]}, \"layout\": {\"annotationdefaults\": {\"arrowcolor\": \"#2a3f5f\", \"arrowhead\": 0, \"arrowwidth\": 1}, \"coloraxis\": {\"colorbar\": {\"outlinewidth\": 0, \"ticks\": \"\"}}, \"colorscale\": {\"diverging\": [[0, \"#8e0152\"], [0.1, \"#c51b7d\"], [0.2, \"#de77ae\"], [0.3, \"#f1b6da\"], [0.4, \"#fde0ef\"], [0.5, \"#f7f7f7\"], [0.6, \"#e6f5d0\"], [0.7, \"#b8e186\"], [0.8, \"#7fbc41\"], [0.9, \"#4d9221\"], [1, \"#276419\"]], \"sequential\": [[0.0, \"#0d0887\"], [0.1111111111111111, \"#46039f\"], [0.2222222222222222, \"#7201a8\"], [0.3333333333333333, \"#9c179e\"], [0.4444444444444444, \"#bd3786\"], [0.5555555555555556, \"#d8576b\"], [0.6666666666666666, \"#ed7953\"], [0.7777777777777778, \"#fb9f3a\"], [0.8888888888888888, \"#fdca26\"], [1.0, \"#f0f921\"]], \"sequentialminus\": [[0.0, \"#0d0887\"], [0.1111111111111111, \"#46039f\"], [0.2222222222222222, \"#7201a8\"], [0.3333333333333333, \"#9c179e\"], [0.4444444444444444, \"#bd3786\"], [0.5555555555555556, \"#d8576b\"], [0.6666666666666666, \"#ed7953\"], [0.7777777777777778, \"#fb9f3a\"], [0.8888888888888888, \"#fdca26\"], [1.0, \"#f0f921\"]]}, \"colorway\": [\"#636efa\", \"#EF553B\", \"#00cc96\", \"#ab63fa\", \"#FFA15A\", \"#19d3f3\", \"#FF6692\", \"#B6E880\", \"#FF97FF\", \"#FECB52\"], \"font\": {\"color\": \"#2a3f5f\"}, \"geo\": {\"bgcolor\": \"white\", \"lakecolor\": \"white\", \"landcolor\": \"#E5ECF6\", \"showlakes\": true, \"showland\": true, \"subunitcolor\": \"white\"}, \"hoverlabel\": {\"align\": \"left\"}, \"hovermode\": \"closest\", \"mapbox\": {\"style\": \"light\"}, \"paper_bgcolor\": \"white\", \"plot_bgcolor\": \"#E5ECF6\", \"polar\": {\"angularaxis\": {\"gridcolor\": \"white\", \"linecolor\": \"white\", \"ticks\": \"\"}, \"bgcolor\": \"#E5ECF6\", \"radialaxis\": {\"gridcolor\": \"white\", \"linecolor\": \"white\", \"ticks\": \"\"}}, \"scene\": {\"xaxis\": {\"backgroundcolor\": \"#E5ECF6\", \"gridcolor\": \"white\", \"gridwidth\": 2, \"linecolor\": \"white\", \"showbackground\": true, \"ticks\": \"\", \"zerolinecolor\": \"white\"}, \"yaxis\": {\"backgroundcolor\": \"#E5ECF6\", \"gridcolor\": \"white\", \"gridwidth\": 2, \"linecolor\": \"white\", \"showbackground\": true, \"ticks\": \"\", \"zerolinecolor\": \"white\"}, \"zaxis\": {\"backgroundcolor\": \"#E5ECF6\", \"gridcolor\": \"white\", \"gridwidth\": 2, \"linecolor\": \"white\", \"showbackground\": true, \"ticks\": \"\", \"zerolinecolor\": \"white\"}}, \"shapedefaults\": {\"line\": {\"color\": \"#2a3f5f\"}}, \"ternary\": {\"aaxis\": {\"gridcolor\": \"white\", \"linecolor\": \"white\", \"ticks\": \"\"}, \"baxis\": {\"gridcolor\": \"white\", \"linecolor\": \"white\", \"ticks\": \"\"}, \"bgcolor\": \"#E5ECF6\", \"caxis\": {\"gridcolor\": \"white\", \"linecolor\": \"white\", \"ticks\": \"\"}}, \"title\": {\"x\": 0.05}, \"xaxis\": {\"automargin\": true, \"gridcolor\": \"white\", \"linecolor\": \"white\", \"ticks\": \"\", \"title\": {\"standoff\": 15}, \"zerolinecolor\": \"white\", \"zerolinewidth\": 2}, \"yaxis\": {\"automargin\": true, \"gridcolor\": \"white\", \"linecolor\": \"white\", \"ticks\": \"\", \"title\": {\"standoff\": 15}, \"zerolinecolor\": \"white\", \"zerolinewidth\": 2}}}, \"title\": {\"text\": \"Verification Status Distribution\"}},\n",
       "                        {\"responsive\": true}\n",
       "                    ).then(function(){\n",
       "                            \n",
       "var gd = document.getElementById('b170c92d-09e6-4d41-b948-7b7e93f23416');\n",
       "var x = new MutationObserver(function (mutations, observer) {{\n",
       "        var display = window.getComputedStyle(gd).display;\n",
       "        if (!display || display === 'none') {{\n",
       "            console.log([gd, 'removed!']);\n",
       "            Plotly.purge(gd);\n",
       "            observer.disconnect();\n",
       "        }}\n",
       "}});\n",
       "\n",
       "// Listen for the removal of the full notebook cells\n",
       "var notebookContainer = gd.closest('#notebook-container');\n",
       "if (notebookContainer) {{\n",
       "    x.observe(notebookContainer, {childList: true});\n",
       "}}\n",
       "\n",
       "// Listen for the clearing of the current output cell\n",
       "var outputEl = gd.closest('.output');\n",
       "if (outputEl) {{\n",
       "    x.observe(outputEl, {childList: true});\n",
       "}}\n",
       "\n",
       "                        })\n",
       "                };\n",
       "                });\n",
       "            </script>\n",
       "        </div>"
      ]
     },
     "metadata": {},
     "output_type": "display_data"
    }
   ],
   "source": [
    "\n",
    "trace0 = go.Bar(\n",
    "    x = data[data[\"loan_status\"]== 'High Risk'][\"verification_status\"].value_counts().sort_index().index.values,\n",
    "    y = data[data[\"loan_status\"]== 'High Risk'][\"verification_status\"].value_counts().sort_index(),\n",
    "    name='High Risk'\n",
    ")\n",
    "\n",
    "trace1 = go.Bar(\n",
    "    x = data[data[\"loan_status\"]== 'Medium Risk'][\"verification_status\"].value_counts().sort_index().index.values,\n",
    "    y = data[data[\"loan_status\"]== 'Medium Risk'][\"verification_status\"].value_counts().sort_index(),\n",
    "    name=\"Medium Risk\"\n",
    ")\n",
    "\n",
    "trace2 = go.Bar(\n",
    "    x = data[data[\"loan_status\"]== 'Low Risk'][\"verification_status\"].value_counts().sort_index().index.values,\n",
    "    y = data[data[\"loan_status\"]== 'Low Risk'][\"verification_status\"].value_counts().sort_index(),\n",
    "    name=\"Low Risk\"\n",
    ")\n",
    "\n",
    "tabels = [trace0, trace1, trace2]\n",
    "\n",
    "layout = go.Layout(\n",
    "    title='Verification Status Distribution'\n",
    ")\n",
    "\n",
    "\n",
    "fig = go.Figure(data=tabels, layout=layout)\n",
    "\n",
    "py.iplot(fig)"
   ]
  },
  {
   "cell_type": "code",
   "execution_count": 23,
   "metadata": {},
   "outputs": [
    {
     "data": {
      "application/vnd.plotly.v1+json": {
       "config": {
        "linkText": "Export to plot.ly",
        "plotlyServerURL": "https://plot.ly",
        "showLink": false
       },
       "data": [
        {
         "name": "High Risk",
         "type": "bar",
         "x": [
          "1 year",
          "10+ years",
          "2 years",
          "3 years",
          "4 years",
          "5 years",
          "6 years",
          "7 years",
          "8 years",
          "9 years",
          "< 1 year"
         ],
         "y": [
          3386,
          15325,
          4647,
          4108,
          3151,
          3611,
          3116,
          2979,
          2515,
          2066,
          4427
         ]
        },
        {
         "name": "Medium Risk",
         "type": "bar",
         "x": [
          "1 year",
          "10+ years",
          "2 years",
          "3 years",
          "4 years",
          "5 years",
          "6 years",
          "7 years",
          "8 years",
          "9 years",
          "< 1 year"
         ],
         "y": [
          13544,
          78737,
          19021,
          17201,
          12621,
          13477,
          11812,
          12714,
          11303,
          8892,
          16267
         ]
        },
        {
         "name": "Low Risk",
         "type": "bar",
         "x": [
          "1 year",
          "10+ years",
          "2 years",
          "3 years",
          "4 years",
          "5 years",
          "6 years",
          "7 years",
          "8 years",
          "9 years",
          "< 1 year"
         ],
         "y": [
          12692,
          55987,
          17705,
          15287,
          12251,
          13686,
          11184,
          10487,
          8577,
          6930,
          15571
         ]
        }
       ],
       "layout": {
        "template": {
         "data": {
          "bar": [
           {
            "error_x": {
             "color": "#2a3f5f"
            },
            "error_y": {
             "color": "#2a3f5f"
            },
            "marker": {
             "line": {
              "color": "#E5ECF6",
              "width": 0.5
             }
            },
            "type": "bar"
           }
          ],
          "barpolar": [
           {
            "marker": {
             "line": {
              "color": "#E5ECF6",
              "width": 0.5
             }
            },
            "type": "barpolar"
           }
          ],
          "carpet": [
           {
            "aaxis": {
             "endlinecolor": "#2a3f5f",
             "gridcolor": "white",
             "linecolor": "white",
             "minorgridcolor": "white",
             "startlinecolor": "#2a3f5f"
            },
            "baxis": {
             "endlinecolor": "#2a3f5f",
             "gridcolor": "white",
             "linecolor": "white",
             "minorgridcolor": "white",
             "startlinecolor": "#2a3f5f"
            },
            "type": "carpet"
           }
          ],
          "choropleth": [
           {
            "colorbar": {
             "outlinewidth": 0,
             "ticks": ""
            },
            "type": "choropleth"
           }
          ],
          "contour": [
           {
            "colorbar": {
             "outlinewidth": 0,
             "ticks": ""
            },
            "colorscale": [
             [
              0,
              "#0d0887"
             ],
             [
              0.1111111111111111,
              "#46039f"
             ],
             [
              0.2222222222222222,
              "#7201a8"
             ],
             [
              0.3333333333333333,
              "#9c179e"
             ],
             [
              0.4444444444444444,
              "#bd3786"
             ],
             [
              0.5555555555555556,
              "#d8576b"
             ],
             [
              0.6666666666666666,
              "#ed7953"
             ],
             [
              0.7777777777777778,
              "#fb9f3a"
             ],
             [
              0.8888888888888888,
              "#fdca26"
             ],
             [
              1,
              "#f0f921"
             ]
            ],
            "type": "contour"
           }
          ],
          "contourcarpet": [
           {
            "colorbar": {
             "outlinewidth": 0,
             "ticks": ""
            },
            "type": "contourcarpet"
           }
          ],
          "heatmap": [
           {
            "colorbar": {
             "outlinewidth": 0,
             "ticks": ""
            },
            "colorscale": [
             [
              0,
              "#0d0887"
             ],
             [
              0.1111111111111111,
              "#46039f"
             ],
             [
              0.2222222222222222,
              "#7201a8"
             ],
             [
              0.3333333333333333,
              "#9c179e"
             ],
             [
              0.4444444444444444,
              "#bd3786"
             ],
             [
              0.5555555555555556,
              "#d8576b"
             ],
             [
              0.6666666666666666,
              "#ed7953"
             ],
             [
              0.7777777777777778,
              "#fb9f3a"
             ],
             [
              0.8888888888888888,
              "#fdca26"
             ],
             [
              1,
              "#f0f921"
             ]
            ],
            "type": "heatmap"
           }
          ],
          "heatmapgl": [
           {
            "colorbar": {
             "outlinewidth": 0,
             "ticks": ""
            },
            "colorscale": [
             [
              0,
              "#0d0887"
             ],
             [
              0.1111111111111111,
              "#46039f"
             ],
             [
              0.2222222222222222,
              "#7201a8"
             ],
             [
              0.3333333333333333,
              "#9c179e"
             ],
             [
              0.4444444444444444,
              "#bd3786"
             ],
             [
              0.5555555555555556,
              "#d8576b"
             ],
             [
              0.6666666666666666,
              "#ed7953"
             ],
             [
              0.7777777777777778,
              "#fb9f3a"
             ],
             [
              0.8888888888888888,
              "#fdca26"
             ],
             [
              1,
              "#f0f921"
             ]
            ],
            "type": "heatmapgl"
           }
          ],
          "histogram": [
           {
            "marker": {
             "colorbar": {
              "outlinewidth": 0,
              "ticks": ""
             }
            },
            "type": "histogram"
           }
          ],
          "histogram2d": [
           {
            "colorbar": {
             "outlinewidth": 0,
             "ticks": ""
            },
            "colorscale": [
             [
              0,
              "#0d0887"
             ],
             [
              0.1111111111111111,
              "#46039f"
             ],
             [
              0.2222222222222222,
              "#7201a8"
             ],
             [
              0.3333333333333333,
              "#9c179e"
             ],
             [
              0.4444444444444444,
              "#bd3786"
             ],
             [
              0.5555555555555556,
              "#d8576b"
             ],
             [
              0.6666666666666666,
              "#ed7953"
             ],
             [
              0.7777777777777778,
              "#fb9f3a"
             ],
             [
              0.8888888888888888,
              "#fdca26"
             ],
             [
              1,
              "#f0f921"
             ]
            ],
            "type": "histogram2d"
           }
          ],
          "histogram2dcontour": [
           {
            "colorbar": {
             "outlinewidth": 0,
             "ticks": ""
            },
            "colorscale": [
             [
              0,
              "#0d0887"
             ],
             [
              0.1111111111111111,
              "#46039f"
             ],
             [
              0.2222222222222222,
              "#7201a8"
             ],
             [
              0.3333333333333333,
              "#9c179e"
             ],
             [
              0.4444444444444444,
              "#bd3786"
             ],
             [
              0.5555555555555556,
              "#d8576b"
             ],
             [
              0.6666666666666666,
              "#ed7953"
             ],
             [
              0.7777777777777778,
              "#fb9f3a"
             ],
             [
              0.8888888888888888,
              "#fdca26"
             ],
             [
              1,
              "#f0f921"
             ]
            ],
            "type": "histogram2dcontour"
           }
          ],
          "mesh3d": [
           {
            "colorbar": {
             "outlinewidth": 0,
             "ticks": ""
            },
            "type": "mesh3d"
           }
          ],
          "parcoords": [
           {
            "line": {
             "colorbar": {
              "outlinewidth": 0,
              "ticks": ""
             }
            },
            "type": "parcoords"
           }
          ],
          "pie": [
           {
            "automargin": true,
            "type": "pie"
           }
          ],
          "scatter": [
           {
            "marker": {
             "colorbar": {
              "outlinewidth": 0,
              "ticks": ""
             }
            },
            "type": "scatter"
           }
          ],
          "scatter3d": [
           {
            "line": {
             "colorbar": {
              "outlinewidth": 0,
              "ticks": ""
             }
            },
            "marker": {
             "colorbar": {
              "outlinewidth": 0,
              "ticks": ""
             }
            },
            "type": "scatter3d"
           }
          ],
          "scattercarpet": [
           {
            "marker": {
             "colorbar": {
              "outlinewidth": 0,
              "ticks": ""
             }
            },
            "type": "scattercarpet"
           }
          ],
          "scattergeo": [
           {
            "marker": {
             "colorbar": {
              "outlinewidth": 0,
              "ticks": ""
             }
            },
            "type": "scattergeo"
           }
          ],
          "scattergl": [
           {
            "marker": {
             "colorbar": {
              "outlinewidth": 0,
              "ticks": ""
             }
            },
            "type": "scattergl"
           }
          ],
          "scattermapbox": [
           {
            "marker": {
             "colorbar": {
              "outlinewidth": 0,
              "ticks": ""
             }
            },
            "type": "scattermapbox"
           }
          ],
          "scatterpolar": [
           {
            "marker": {
             "colorbar": {
              "outlinewidth": 0,
              "ticks": ""
             }
            },
            "type": "scatterpolar"
           }
          ],
          "scatterpolargl": [
           {
            "marker": {
             "colorbar": {
              "outlinewidth": 0,
              "ticks": ""
             }
            },
            "type": "scatterpolargl"
           }
          ],
          "scatterternary": [
           {
            "marker": {
             "colorbar": {
              "outlinewidth": 0,
              "ticks": ""
             }
            },
            "type": "scatterternary"
           }
          ],
          "surface": [
           {
            "colorbar": {
             "outlinewidth": 0,
             "ticks": ""
            },
            "colorscale": [
             [
              0,
              "#0d0887"
             ],
             [
              0.1111111111111111,
              "#46039f"
             ],
             [
              0.2222222222222222,
              "#7201a8"
             ],
             [
              0.3333333333333333,
              "#9c179e"
             ],
             [
              0.4444444444444444,
              "#bd3786"
             ],
             [
              0.5555555555555556,
              "#d8576b"
             ],
             [
              0.6666666666666666,
              "#ed7953"
             ],
             [
              0.7777777777777778,
              "#fb9f3a"
             ],
             [
              0.8888888888888888,
              "#fdca26"
             ],
             [
              1,
              "#f0f921"
             ]
            ],
            "type": "surface"
           }
          ],
          "table": [
           {
            "cells": {
             "fill": {
              "color": "#EBF0F8"
             },
             "line": {
              "color": "white"
             }
            },
            "header": {
             "fill": {
              "color": "#C8D4E3"
             },
             "line": {
              "color": "white"
             }
            },
            "type": "table"
           }
          ]
         },
         "layout": {
          "annotationdefaults": {
           "arrowcolor": "#2a3f5f",
           "arrowhead": 0,
           "arrowwidth": 1
          },
          "coloraxis": {
           "colorbar": {
            "outlinewidth": 0,
            "ticks": ""
           }
          },
          "colorscale": {
           "diverging": [
            [
             0,
             "#8e0152"
            ],
            [
             0.1,
             "#c51b7d"
            ],
            [
             0.2,
             "#de77ae"
            ],
            [
             0.3,
             "#f1b6da"
            ],
            [
             0.4,
             "#fde0ef"
            ],
            [
             0.5,
             "#f7f7f7"
            ],
            [
             0.6,
             "#e6f5d0"
            ],
            [
             0.7,
             "#b8e186"
            ],
            [
             0.8,
             "#7fbc41"
            ],
            [
             0.9,
             "#4d9221"
            ],
            [
             1,
             "#276419"
            ]
           ],
           "sequential": [
            [
             0,
             "#0d0887"
            ],
            [
             0.1111111111111111,
             "#46039f"
            ],
            [
             0.2222222222222222,
             "#7201a8"
            ],
            [
             0.3333333333333333,
             "#9c179e"
            ],
            [
             0.4444444444444444,
             "#bd3786"
            ],
            [
             0.5555555555555556,
             "#d8576b"
            ],
            [
             0.6666666666666666,
             "#ed7953"
            ],
            [
             0.7777777777777778,
             "#fb9f3a"
            ],
            [
             0.8888888888888888,
             "#fdca26"
            ],
            [
             1,
             "#f0f921"
            ]
           ],
           "sequentialminus": [
            [
             0,
             "#0d0887"
            ],
            [
             0.1111111111111111,
             "#46039f"
            ],
            [
             0.2222222222222222,
             "#7201a8"
            ],
            [
             0.3333333333333333,
             "#9c179e"
            ],
            [
             0.4444444444444444,
             "#bd3786"
            ],
            [
             0.5555555555555556,
             "#d8576b"
            ],
            [
             0.6666666666666666,
             "#ed7953"
            ],
            [
             0.7777777777777778,
             "#fb9f3a"
            ],
            [
             0.8888888888888888,
             "#fdca26"
            ],
            [
             1,
             "#f0f921"
            ]
           ]
          },
          "colorway": [
           "#636efa",
           "#EF553B",
           "#00cc96",
           "#ab63fa",
           "#FFA15A",
           "#19d3f3",
           "#FF6692",
           "#B6E880",
           "#FF97FF",
           "#FECB52"
          ],
          "font": {
           "color": "#2a3f5f"
          },
          "geo": {
           "bgcolor": "white",
           "lakecolor": "white",
           "landcolor": "#E5ECF6",
           "showlakes": true,
           "showland": true,
           "subunitcolor": "white"
          },
          "hoverlabel": {
           "align": "left"
          },
          "hovermode": "closest",
          "mapbox": {
           "style": "light"
          },
          "paper_bgcolor": "white",
          "plot_bgcolor": "#E5ECF6",
          "polar": {
           "angularaxis": {
            "gridcolor": "white",
            "linecolor": "white",
            "ticks": ""
           },
           "bgcolor": "#E5ECF6",
           "radialaxis": {
            "gridcolor": "white",
            "linecolor": "white",
            "ticks": ""
           }
          },
          "scene": {
           "xaxis": {
            "backgroundcolor": "#E5ECF6",
            "gridcolor": "white",
            "gridwidth": 2,
            "linecolor": "white",
            "showbackground": true,
            "ticks": "",
            "zerolinecolor": "white"
           },
           "yaxis": {
            "backgroundcolor": "#E5ECF6",
            "gridcolor": "white",
            "gridwidth": 2,
            "linecolor": "white",
            "showbackground": true,
            "ticks": "",
            "zerolinecolor": "white"
           },
           "zaxis": {
            "backgroundcolor": "#E5ECF6",
            "gridcolor": "white",
            "gridwidth": 2,
            "linecolor": "white",
            "showbackground": true,
            "ticks": "",
            "zerolinecolor": "white"
           }
          },
          "shapedefaults": {
           "line": {
            "color": "#2a3f5f"
           }
          },
          "ternary": {
           "aaxis": {
            "gridcolor": "white",
            "linecolor": "white",
            "ticks": ""
           },
           "baxis": {
            "gridcolor": "white",
            "linecolor": "white",
            "ticks": ""
           },
           "bgcolor": "#E5ECF6",
           "caxis": {
            "gridcolor": "white",
            "linecolor": "white",
            "ticks": ""
           }
          },
          "title": {
           "x": 0.05
          },
          "xaxis": {
           "automargin": true,
           "gridcolor": "white",
           "linecolor": "white",
           "ticks": "",
           "title": {
            "standoff": 15
           },
           "zerolinecolor": "white",
           "zerolinewidth": 2
          },
          "yaxis": {
           "automargin": true,
           "gridcolor": "white",
           "linecolor": "white",
           "ticks": "",
           "title": {
            "standoff": 15
           },
           "zerolinecolor": "white",
           "zerolinewidth": 2
          }
         }
        },
        "title": {
         "text": "Employment Length Distribution"
        }
       }
      },
      "text/html": [
       "<div>\n",
       "        \n",
       "        \n",
       "            <div id=\"56b207d0-4e5b-4851-8608-b38f3f382a94\" class=\"plotly-graph-div\" style=\"height:525px; width:100%;\"></div>\n",
       "            <script type=\"text/javascript\">\n",
       "                require([\"plotly\"], function(Plotly) {\n",
       "                    window.PLOTLYENV=window.PLOTLYENV || {};\n",
       "                    \n",
       "                if (document.getElementById(\"56b207d0-4e5b-4851-8608-b38f3f382a94\")) {\n",
       "                    Plotly.newPlot(\n",
       "                        '56b207d0-4e5b-4851-8608-b38f3f382a94',\n",
       "                        [{\"name\": \"High Risk\", \"type\": \"bar\", \"x\": [\"1 year\", \"10+ years\", \"2 years\", \"3 years\", \"4 years\", \"5 years\", \"6 years\", \"7 years\", \"8 years\", \"9 years\", \"< 1 year\"], \"y\": [3386, 15325, 4647, 4108, 3151, 3611, 3116, 2979, 2515, 2066, 4427]}, {\"name\": \"Medium Risk\", \"type\": \"bar\", \"x\": [\"1 year\", \"10+ years\", \"2 years\", \"3 years\", \"4 years\", \"5 years\", \"6 years\", \"7 years\", \"8 years\", \"9 years\", \"< 1 year\"], \"y\": [13544, 78737, 19021, 17201, 12621, 13477, 11812, 12714, 11303, 8892, 16267]}, {\"name\": \"Low Risk\", \"type\": \"bar\", \"x\": [\"1 year\", \"10+ years\", \"2 years\", \"3 years\", \"4 years\", \"5 years\", \"6 years\", \"7 years\", \"8 years\", \"9 years\", \"< 1 year\"], \"y\": [12692, 55987, 17705, 15287, 12251, 13686, 11184, 10487, 8577, 6930, 15571]}],\n",
       "                        {\"template\": {\"data\": {\"bar\": [{\"error_x\": {\"color\": \"#2a3f5f\"}, \"error_y\": {\"color\": \"#2a3f5f\"}, \"marker\": {\"line\": {\"color\": \"#E5ECF6\", \"width\": 0.5}}, \"type\": \"bar\"}], \"barpolar\": [{\"marker\": {\"line\": {\"color\": \"#E5ECF6\", \"width\": 0.5}}, \"type\": \"barpolar\"}], \"carpet\": [{\"aaxis\": {\"endlinecolor\": \"#2a3f5f\", \"gridcolor\": \"white\", \"linecolor\": \"white\", \"minorgridcolor\": \"white\", \"startlinecolor\": \"#2a3f5f\"}, \"baxis\": {\"endlinecolor\": \"#2a3f5f\", \"gridcolor\": \"white\", \"linecolor\": \"white\", \"minorgridcolor\": \"white\", \"startlinecolor\": \"#2a3f5f\"}, \"type\": \"carpet\"}], \"choropleth\": [{\"colorbar\": {\"outlinewidth\": 0, \"ticks\": \"\"}, \"type\": \"choropleth\"}], \"contour\": [{\"colorbar\": {\"outlinewidth\": 0, \"ticks\": \"\"}, \"colorscale\": [[0.0, \"#0d0887\"], [0.1111111111111111, \"#46039f\"], [0.2222222222222222, \"#7201a8\"], [0.3333333333333333, \"#9c179e\"], [0.4444444444444444, \"#bd3786\"], [0.5555555555555556, \"#d8576b\"], [0.6666666666666666, \"#ed7953\"], [0.7777777777777778, \"#fb9f3a\"], [0.8888888888888888, \"#fdca26\"], [1.0, \"#f0f921\"]], \"type\": \"contour\"}], \"contourcarpet\": [{\"colorbar\": {\"outlinewidth\": 0, \"ticks\": \"\"}, \"type\": \"contourcarpet\"}], \"heatmap\": [{\"colorbar\": {\"outlinewidth\": 0, \"ticks\": \"\"}, \"colorscale\": [[0.0, \"#0d0887\"], [0.1111111111111111, \"#46039f\"], [0.2222222222222222, \"#7201a8\"], [0.3333333333333333, \"#9c179e\"], [0.4444444444444444, \"#bd3786\"], [0.5555555555555556, \"#d8576b\"], [0.6666666666666666, \"#ed7953\"], [0.7777777777777778, \"#fb9f3a\"], [0.8888888888888888, \"#fdca26\"], [1.0, \"#f0f921\"]], \"type\": \"heatmap\"}], \"heatmapgl\": [{\"colorbar\": {\"outlinewidth\": 0, \"ticks\": \"\"}, \"colorscale\": [[0.0, \"#0d0887\"], [0.1111111111111111, \"#46039f\"], [0.2222222222222222, \"#7201a8\"], [0.3333333333333333, \"#9c179e\"], [0.4444444444444444, \"#bd3786\"], [0.5555555555555556, \"#d8576b\"], [0.6666666666666666, \"#ed7953\"], [0.7777777777777778, \"#fb9f3a\"], [0.8888888888888888, \"#fdca26\"], [1.0, \"#f0f921\"]], \"type\": \"heatmapgl\"}], \"histogram\": [{\"marker\": {\"colorbar\": {\"outlinewidth\": 0, \"ticks\": \"\"}}, \"type\": \"histogram\"}], \"histogram2d\": [{\"colorbar\": {\"outlinewidth\": 0, \"ticks\": \"\"}, \"colorscale\": [[0.0, \"#0d0887\"], [0.1111111111111111, \"#46039f\"], [0.2222222222222222, \"#7201a8\"], [0.3333333333333333, \"#9c179e\"], [0.4444444444444444, \"#bd3786\"], [0.5555555555555556, \"#d8576b\"], [0.6666666666666666, \"#ed7953\"], [0.7777777777777778, \"#fb9f3a\"], [0.8888888888888888, \"#fdca26\"], [1.0, \"#f0f921\"]], \"type\": \"histogram2d\"}], \"histogram2dcontour\": [{\"colorbar\": {\"outlinewidth\": 0, \"ticks\": \"\"}, \"colorscale\": [[0.0, \"#0d0887\"], [0.1111111111111111, \"#46039f\"], [0.2222222222222222, \"#7201a8\"], [0.3333333333333333, \"#9c179e\"], [0.4444444444444444, \"#bd3786\"], [0.5555555555555556, \"#d8576b\"], [0.6666666666666666, \"#ed7953\"], [0.7777777777777778, \"#fb9f3a\"], [0.8888888888888888, \"#fdca26\"], [1.0, \"#f0f921\"]], \"type\": \"histogram2dcontour\"}], \"mesh3d\": [{\"colorbar\": {\"outlinewidth\": 0, \"ticks\": \"\"}, \"type\": \"mesh3d\"}], \"parcoords\": [{\"line\": {\"colorbar\": {\"outlinewidth\": 0, \"ticks\": \"\"}}, \"type\": \"parcoords\"}], \"pie\": [{\"automargin\": true, \"type\": \"pie\"}], \"scatter\": [{\"marker\": {\"colorbar\": {\"outlinewidth\": 0, \"ticks\": \"\"}}, \"type\": \"scatter\"}], \"scatter3d\": [{\"line\": {\"colorbar\": {\"outlinewidth\": 0, \"ticks\": \"\"}}, \"marker\": {\"colorbar\": {\"outlinewidth\": 0, \"ticks\": \"\"}}, \"type\": \"scatter3d\"}], \"scattercarpet\": [{\"marker\": {\"colorbar\": {\"outlinewidth\": 0, \"ticks\": \"\"}}, \"type\": \"scattercarpet\"}], \"scattergeo\": [{\"marker\": {\"colorbar\": {\"outlinewidth\": 0, \"ticks\": \"\"}}, \"type\": \"scattergeo\"}], \"scattergl\": [{\"marker\": {\"colorbar\": {\"outlinewidth\": 0, \"ticks\": \"\"}}, \"type\": \"scattergl\"}], \"scattermapbox\": [{\"marker\": {\"colorbar\": {\"outlinewidth\": 0, \"ticks\": \"\"}}, \"type\": \"scattermapbox\"}], \"scatterpolar\": [{\"marker\": {\"colorbar\": {\"outlinewidth\": 0, \"ticks\": \"\"}}, \"type\": \"scatterpolar\"}], \"scatterpolargl\": [{\"marker\": {\"colorbar\": {\"outlinewidth\": 0, \"ticks\": \"\"}}, \"type\": \"scatterpolargl\"}], \"scatterternary\": [{\"marker\": {\"colorbar\": {\"outlinewidth\": 0, \"ticks\": \"\"}}, \"type\": \"scatterternary\"}], \"surface\": [{\"colorbar\": {\"outlinewidth\": 0, \"ticks\": \"\"}, \"colorscale\": [[0.0, \"#0d0887\"], [0.1111111111111111, \"#46039f\"], [0.2222222222222222, \"#7201a8\"], [0.3333333333333333, \"#9c179e\"], [0.4444444444444444, \"#bd3786\"], [0.5555555555555556, \"#d8576b\"], [0.6666666666666666, \"#ed7953\"], [0.7777777777777778, \"#fb9f3a\"], [0.8888888888888888, \"#fdca26\"], [1.0, \"#f0f921\"]], \"type\": \"surface\"}], \"table\": [{\"cells\": {\"fill\": {\"color\": \"#EBF0F8\"}, \"line\": {\"color\": \"white\"}}, \"header\": {\"fill\": {\"color\": \"#C8D4E3\"}, \"line\": {\"color\": \"white\"}}, \"type\": \"table\"}]}, \"layout\": {\"annotationdefaults\": {\"arrowcolor\": \"#2a3f5f\", \"arrowhead\": 0, \"arrowwidth\": 1}, \"coloraxis\": {\"colorbar\": {\"outlinewidth\": 0, \"ticks\": \"\"}}, \"colorscale\": {\"diverging\": [[0, \"#8e0152\"], [0.1, \"#c51b7d\"], [0.2, \"#de77ae\"], [0.3, \"#f1b6da\"], [0.4, \"#fde0ef\"], [0.5, \"#f7f7f7\"], [0.6, \"#e6f5d0\"], [0.7, \"#b8e186\"], [0.8, \"#7fbc41\"], [0.9, \"#4d9221\"], [1, \"#276419\"]], \"sequential\": [[0.0, \"#0d0887\"], [0.1111111111111111, \"#46039f\"], [0.2222222222222222, \"#7201a8\"], [0.3333333333333333, \"#9c179e\"], [0.4444444444444444, \"#bd3786\"], [0.5555555555555556, \"#d8576b\"], [0.6666666666666666, \"#ed7953\"], [0.7777777777777778, \"#fb9f3a\"], [0.8888888888888888, \"#fdca26\"], [1.0, \"#f0f921\"]], \"sequentialminus\": [[0.0, \"#0d0887\"], [0.1111111111111111, \"#46039f\"], [0.2222222222222222, \"#7201a8\"], [0.3333333333333333, \"#9c179e\"], [0.4444444444444444, \"#bd3786\"], [0.5555555555555556, \"#d8576b\"], [0.6666666666666666, \"#ed7953\"], [0.7777777777777778, \"#fb9f3a\"], [0.8888888888888888, \"#fdca26\"], [1.0, \"#f0f921\"]]}, \"colorway\": [\"#636efa\", \"#EF553B\", \"#00cc96\", \"#ab63fa\", \"#FFA15A\", \"#19d3f3\", \"#FF6692\", \"#B6E880\", \"#FF97FF\", \"#FECB52\"], \"font\": {\"color\": \"#2a3f5f\"}, \"geo\": {\"bgcolor\": \"white\", \"lakecolor\": \"white\", \"landcolor\": \"#E5ECF6\", \"showlakes\": true, \"showland\": true, \"subunitcolor\": \"white\"}, \"hoverlabel\": {\"align\": \"left\"}, \"hovermode\": \"closest\", \"mapbox\": {\"style\": \"light\"}, \"paper_bgcolor\": \"white\", \"plot_bgcolor\": \"#E5ECF6\", \"polar\": {\"angularaxis\": {\"gridcolor\": \"white\", \"linecolor\": \"white\", \"ticks\": \"\"}, \"bgcolor\": \"#E5ECF6\", \"radialaxis\": {\"gridcolor\": \"white\", \"linecolor\": \"white\", \"ticks\": \"\"}}, \"scene\": {\"xaxis\": {\"backgroundcolor\": \"#E5ECF6\", \"gridcolor\": \"white\", \"gridwidth\": 2, \"linecolor\": \"white\", \"showbackground\": true, \"ticks\": \"\", \"zerolinecolor\": \"white\"}, \"yaxis\": {\"backgroundcolor\": \"#E5ECF6\", \"gridcolor\": \"white\", \"gridwidth\": 2, \"linecolor\": \"white\", \"showbackground\": true, \"ticks\": \"\", \"zerolinecolor\": \"white\"}, \"zaxis\": {\"backgroundcolor\": \"#E5ECF6\", \"gridcolor\": \"white\", \"gridwidth\": 2, \"linecolor\": \"white\", \"showbackground\": true, \"ticks\": \"\", \"zerolinecolor\": \"white\"}}, \"shapedefaults\": {\"line\": {\"color\": \"#2a3f5f\"}}, \"ternary\": {\"aaxis\": {\"gridcolor\": \"white\", \"linecolor\": \"white\", \"ticks\": \"\"}, \"baxis\": {\"gridcolor\": \"white\", \"linecolor\": \"white\", \"ticks\": \"\"}, \"bgcolor\": \"#E5ECF6\", \"caxis\": {\"gridcolor\": \"white\", \"linecolor\": \"white\", \"ticks\": \"\"}}, \"title\": {\"x\": 0.05}, \"xaxis\": {\"automargin\": true, \"gridcolor\": \"white\", \"linecolor\": \"white\", \"ticks\": \"\", \"title\": {\"standoff\": 15}, \"zerolinecolor\": \"white\", \"zerolinewidth\": 2}, \"yaxis\": {\"automargin\": true, \"gridcolor\": \"white\", \"linecolor\": \"white\", \"ticks\": \"\", \"title\": {\"standoff\": 15}, \"zerolinecolor\": \"white\", \"zerolinewidth\": 2}}}, \"title\": {\"text\": \"Employment Length Distribution\"}},\n",
       "                        {\"responsive\": true}\n",
       "                    ).then(function(){\n",
       "                            \n",
       "var gd = document.getElementById('56b207d0-4e5b-4851-8608-b38f3f382a94');\n",
       "var x = new MutationObserver(function (mutations, observer) {{\n",
       "        var display = window.getComputedStyle(gd).display;\n",
       "        if (!display || display === 'none') {{\n",
       "            console.log([gd, 'removed!']);\n",
       "            Plotly.purge(gd);\n",
       "            observer.disconnect();\n",
       "        }}\n",
       "}});\n",
       "\n",
       "// Listen for the removal of the full notebook cells\n",
       "var notebookContainer = gd.closest('#notebook-container');\n",
       "if (notebookContainer) {{\n",
       "    x.observe(notebookContainer, {childList: true});\n",
       "}}\n",
       "\n",
       "// Listen for the clearing of the current output cell\n",
       "var outputEl = gd.closest('.output');\n",
       "if (outputEl) {{\n",
       "    x.observe(outputEl, {childList: true});\n",
       "}}\n",
       "\n",
       "                        })\n",
       "                };\n",
       "                });\n",
       "            </script>\n",
       "        </div>"
      ]
     },
     "metadata": {},
     "output_type": "display_data"
    }
   ],
   "source": [
    "\n",
    "trace0 = go.Bar(\n",
    "    x = data[data[\"loan_status\"]== 'High Risk'][\"emp_length\"].value_counts().sort_index().index.values,\n",
    "    y = data[data[\"loan_status\"]== 'High Risk'][\"emp_length\"].value_counts().sort_index(),\n",
    "    name='High Risk'\n",
    ")\n",
    "\n",
    "trace1 = go.Bar(\n",
    "    x = data[data[\"loan_status\"]== 'Medium Risk'][\"emp_length\"].value_counts().sort_index().index.values,\n",
    "    y = data[data[\"loan_status\"]== 'Medium Risk'][\"emp_length\"].value_counts().sort_index(),\n",
    "    name=\"Medium Risk\"\n",
    ")\n",
    "\n",
    "trace2 = go.Bar(\n",
    "    x = data[data[\"loan_status\"]== 'Low Risk'][\"emp_length\"].value_counts().sort_index().index.values,\n",
    "    y = data[data[\"loan_status\"]== 'Low Risk'][\"emp_length\"].value_counts().sort_index(),\n",
    "    name=\"Low Risk\"\n",
    ")\n",
    "\n",
    "tabels = [trace0, trace1, trace2]\n",
    "\n",
    "layout = go.Layout(\n",
    "    title='Employment Length Distribution'\n",
    ")\n",
    "\n",
    "\n",
    "fig = go.Figure(data=tabels, layout=layout)\n",
    "\n",
    "py.iplot(fig)"
   ]
  },
  {
   "cell_type": "code",
   "execution_count": 24,
   "metadata": {},
   "outputs": [],
   "source": [
    "outliers = data[data['annual_inc'] > 4000000].index\n",
    "data.drop(outliers, inplace=True)"
   ]
  },
  {
   "cell_type": "code",
   "execution_count": 25,
   "metadata": {},
   "outputs": [
    {
     "data": {
      "text/plain": [
       "<matplotlib.legend.Legend at 0x1a00c121e50>"
      ]
     },
     "execution_count": 25,
     "metadata": {},
     "output_type": "execute_result"
    },
    {
     "data": {
      "image/png": "[encoded data removed]",
      "text/plain": [
       "<Figure size 1080x720 with 1 Axes>"
      ]
     },
     "metadata": {
      "needs_background": "light"
     },
     "output_type": "display_data"
    }
   ],
   "source": [
    "plt.figure(figsize = (15,10))\n",
    "sns.set_style(\"darkgrid\")\n",
    "sctr = sns.scatterplot(data=data, x=\"mths_since_last_delinq\", y=\"annual_inc\", hue=\"loan_status\", size=\"loan_status\", style=\"loan_status\")\n",
    "sctr.set_xlabel(\"Month Since Last Delinquency\", fontsize = 20)\n",
    "sctr.set_ylabel(\"Annual Income\", fontsize = 20)\n",
    "sctr.legend(fontsize= 15)"
   ]
  },
  {
   "cell_type": "code",
   "execution_count": 26,
   "metadata": {},
   "outputs": [],
   "source": [
    "one_hot_encoded_data = pd.get_dummies(data[[\"home_ownership\",'verification_status','grade','emp_length','loan_status']])\n",
    "data = pd.concat([data, one_hot_encoded_data], axis=1)\n",
    "\n",
    "data['policy_code'] = data['policy_code'].drop\n"
   ]
  },
  {
   "cell_type": "code",
   "execution_count": 27,
   "metadata": {},
   "outputs": [
    {
     "data": {
      "text/html": [
       "<style  type=\"text/css\" >\n",
       "#T_2cfb4_row0_col0,#T_2cfb4_row1_col1,#T_2cfb4_row1_col2,#T_2cfb4_row2_col1,#T_2cfb4_row2_col2,#T_2cfb4_row3_col3,#T_2cfb4_row3_col4,#T_2cfb4_row4_col3,#T_2cfb4_row4_col4,#T_2cfb4_row4_col5,#T_2cfb4_row5_col4,#T_2cfb4_row5_col5,#T_2cfb4_row6_col6,#T_2cfb4_row7_col7,#T_2cfb4_row8_col8,#T_2cfb4_row9_col9,#T_2cfb4_row10_col10,#T_2cfb4_row11_col11,#T_2cfb4_row12_col12,#T_2cfb4_row13_col13,#T_2cfb4_row14_col14,#T_2cfb4_row15_col15,#T_2cfb4_row16_col16,#T_2cfb4_row17_col17,#T_2cfb4_row18_col18,#T_2cfb4_row19_col19,#T_2cfb4_row19_col20,#T_2cfb4_row20_col19,#T_2cfb4_row20_col20,#T_2cfb4_row21_col21,#T_2cfb4_row21_col22,#T_2cfb4_row22_col21,#T_2cfb4_row22_col22,#T_2cfb4_row23_col23,#T_2cfb4_row24_col24,#T_2cfb4_row25_col25,#T_2cfb4_row26_col26,#T_2cfb4_row27_col27,#T_2cfb4_row28_col28,#T_2cfb4_row29_col29,#T_2cfb4_row30_col30,#T_2cfb4_row31_col31,#T_2cfb4_row32_col32,#T_2cfb4_row33_col33,#T_2cfb4_row34_col34,#T_2cfb4_row35_col35,#T_2cfb4_row36_col36,#T_2cfb4_row37_col37,#T_2cfb4_row38_col38,#T_2cfb4_row39_col39,#T_2cfb4_row40_col40,#T_2cfb4_row41_col41,#T_2cfb4_row42_col42,#T_2cfb4_row43_col43,#T_2cfb4_row44_col44,#T_2cfb4_row45_col45,#T_2cfb4_row46_col46,#T_2cfb4_row47_col47,#T_2cfb4_row48_col48,#T_2cfb4_row49_col49,#T_2cfb4_row50_col50,#T_2cfb4_row51_col51,#T_2cfb4_row52_col52,#T_2cfb4_row53_col53,#T_2cfb4_row54_col54,#T_2cfb4_row55_col55,#T_2cfb4_row56_col56,#T_2cfb4_row57_col57,#T_2cfb4_row58_col58,#T_2cfb4_row59_col59,#T_2cfb4_row60_col60,#T_2cfb4_row61_col61,#T_2cfb4_row62_col62,#T_2cfb4_row63_col63{\n",
       "            background-color:  #b40426;\n",
       "            color:  #f1f1f1;\n",
       "        }#T_2cfb4_row0_col1{\n",
       "            background-color:  #f5c2aa;\n",
       "            color:  #000000;\n",
       "        }#T_2cfb4_row0_col2,#T_2cfb4_row22_col62{\n",
       "            background-color:  #f5c0a7;\n",
       "            color:  #000000;\n",
       "        }#T_2cfb4_row0_col3,#T_2cfb4_row2_col4,#T_2cfb4_row6_col22,#T_2cfb4_row8_col12,#T_2cfb4_row11_col19,#T_2cfb4_row11_col20,#T_2cfb4_row11_col30,#T_2cfb4_row13_col10,#T_2cfb4_row14_col8,#T_2cfb4_row14_col23,#T_2cfb4_row17_col16,#T_2cfb4_row17_col46,#T_2cfb4_row21_col18,#T_2cfb4_row21_col63,#T_2cfb4_row22_col41,#T_2cfb4_row23_col16,#T_2cfb4_row24_col16,#T_2cfb4_row26_col7,#T_2cfb4_row27_col3,#T_2cfb4_row27_col4,#T_2cfb4_row27_col5,#T_2cfb4_row27_col40,#T_2cfb4_row29_col33,#T_2cfb4_row31_col28,#T_2cfb4_row32_col28,#T_2cfb4_row36_col28,#T_2cfb4_row41_col5,#T_2cfb4_row41_col33,#T_2cfb4_row44_col41,#T_2cfb4_row45_col28,#T_2cfb4_row46_col17,#T_2cfb4_row47_col61,#T_2cfb4_row51_col7,#T_2cfb4_row60_col42{\n",
       "            background-color:  #a5c3fe;\n",
       "            color:  #000000;\n",
       "        }#T_2cfb4_row0_col4,#T_2cfb4_row0_col30,#T_2cfb4_row1_col5,#T_2cfb4_row1_col30,#T_2cfb4_row2_col30,#T_2cfb4_row3_col1,#T_2cfb4_row4_col1,#T_2cfb4_row6_col21,#T_2cfb4_row10_col1,#T_2cfb4_row12_col28,#T_2cfb4_row22_col18,#T_2cfb4_row22_col63,#T_2cfb4_row29_col40,#T_2cfb4_row32_col33,#T_2cfb4_row36_col33,#T_2cfb4_row37_col33,#T_2cfb4_row40_col30,#T_2cfb4_row44_col33,#T_2cfb4_row46_col28,#T_2cfb4_row49_col33,#T_2cfb4_row53_col42,#T_2cfb4_row55_col28,#T_2cfb4_row55_col30,#T_2cfb4_row56_col28,#T_2cfb4_row56_col30,#T_2cfb4_row56_col33,#T_2cfb4_row57_col28,#T_2cfb4_row57_col30,#T_2cfb4_row57_col33,#T_2cfb4_row58_col28,#T_2cfb4_row59_col28,#T_2cfb4_row62_col6{\n",
       "            background-color:  #a6c4fe;\n",
       "            color:  #000000;\n",
       "        }#T_2cfb4_row0_col5,#T_2cfb4_row1_col33,#T_2cfb4_row2_col33,#T_2cfb4_row4_col2,#T_2cfb4_row5_col1,#T_2cfb4_row12_col19,#T_2cfb4_row12_col20,#T_2cfb4_row14_col16,#T_2cfb4_row14_col24,#T_2cfb4_row18_col2,#T_2cfb4_row18_col12,#T_2cfb4_row19_col8,#T_2cfb4_row20_col8,#T_2cfb4_row25_col33,#T_2cfb4_row25_col40,#T_2cfb4_row27_col33,#T_2cfb4_row33_col14,#T_2cfb4_row35_col24,#T_2cfb4_row39_col10,#T_2cfb4_row41_col0,#T_2cfb4_row43_col41,#T_2cfb4_row59_col33{\n",
       "            background-color:  #a9c6fd;\n",
       "            color:  #000000;\n",
       "        }#T_2cfb4_row0_col6,#T_2cfb4_row8_col10,#T_2cfb4_row14_col62,#T_2cfb4_row16_col42,#T_2cfb4_row28_col39,#T_2cfb4_row33_col28,#T_2cfb4_row40_col63,#T_2cfb4_row46_col19,#T_2cfb4_row46_col20,#T_2cfb4_row48_col24{\n",
       "            background-color:  #c3d5f4;\n",
       "            color:  #000000;\n",
       "        }#T_2cfb4_row0_col7,#T_2cfb4_row3_col14,#T_2cfb4_row8_col2,#T_2cfb4_row9_col61,#T_2cfb4_row12_col44,#T_2cfb4_row14_col40,#T_2cfb4_row16_col2,#T_2cfb4_row17_col30,#T_2cfb4_row17_col40,#T_2cfb4_row17_col61,#T_2cfb4_row19_col16,#T_2cfb4_row19_col17,#T_2cfb4_row20_col16,#T_2cfb4_row20_col17,#T_2cfb4_row24_col45,#T_2cfb4_row25_col3,#T_2cfb4_row25_col4,#T_2cfb4_row25_col5,#T_2cfb4_row25_col28,#T_2cfb4_row25_col30,#T_2cfb4_row26_col19,#T_2cfb4_row26_col20,#T_2cfb4_row26_col30,#T_2cfb4_row30_col2,#T_2cfb4_row31_col2,#T_2cfb4_row35_col40,#T_2cfb4_row38_col1,#T_2cfb4_row41_col30,#T_2cfb4_row42_col30,#T_2cfb4_row45_col1,#T_2cfb4_row46_col1,#T_2cfb4_row46_col5,#T_2cfb4_row46_col33,#T_2cfb4_row47_col2,#T_2cfb4_row63_col40{\n",
       "            background-color:  #9dbdff;\n",
       "            color:  #000000;\n",
       "        }#T_2cfb4_row0_col8,#T_2cfb4_row0_col14,#T_2cfb4_row0_col24,#T_2cfb4_row2_col8,#T_2cfb4_row8_col46,#T_2cfb4_row9_col22,#T_2cfb4_row9_col23,#T_2cfb4_row11_col14,#T_2cfb4_row13_col46,#T_2cfb4_row15_col24,#T_2cfb4_row19_col40,#T_2cfb4_row20_col40,#T_2cfb4_row26_col22,#T_2cfb4_row29_col22,#T_2cfb4_row30_col9,#T_2cfb4_row43_col22,#T_2cfb4_row44_col5,#T_2cfb4_row44_col21,#T_2cfb4_row45_col22,#T_2cfb4_row48_col9,#T_2cfb4_row48_col26,#T_2cfb4_row50_col0,#T_2cfb4_row51_col9,#T_2cfb4_row51_col34,#T_2cfb4_row52_col0,#T_2cfb4_row52_col22,#T_2cfb4_row53_col0,#T_2cfb4_row57_col13,#T_2cfb4_row61_col13,#T_2cfb4_row61_col25,#T_2cfb4_row63_col8{\n",
       "            background-color:  #7a9df8;\n",
       "            color:  #000000;\n",
       "        }#T_2cfb4_row0_col9,#T_2cfb4_row1_col42,#T_2cfb4_row2_col42,#T_2cfb4_row3_col46,#T_2cfb4_row3_col47,#T_2cfb4_row4_col47,#T_2cfb4_row8_col30,#T_2cfb4_row8_col40,#T_2cfb4_row10_col7,#T_2cfb4_row12_col61,#T_2cfb4_row14_col61,#T_2cfb4_row15_col61,#T_2cfb4_row19_col51,#T_2cfb4_row20_col51,#T_2cfb4_row27_col2,#T_2cfb4_row29_col30,#T_2cfb4_row30_col38,#T_2cfb4_row34_col38,#T_2cfb4_row35_col34,#T_2cfb4_row39_col60,#T_2cfb4_row40_col6,#T_2cfb4_row40_col33,#T_2cfb4_row40_col45,#T_2cfb4_row41_col38,#T_2cfb4_row42_col18,#T_2cfb4_row45_col24,#T_2cfb4_row49_col17,#T_2cfb4_row51_col8,#T_2cfb4_row54_col5,#T_2cfb4_row55_col3,#T_2cfb4_row55_col4,#T_2cfb4_row55_col5,#T_2cfb4_row55_col23,#T_2cfb4_row56_col1,#T_2cfb4_row61_col7,#T_2cfb4_row61_col63,#T_2cfb4_row62_col45{\n",
       "            background-color:  #8db0fe;\n",
       "            color:  #000000;\n",
       "        }#T_2cfb4_row0_col10,#T_2cfb4_row9_col42,#T_2cfb4_row13_col43,#T_2cfb4_row16_col22,#T_2cfb4_row16_col23,#T_2cfb4_row18_col7,#T_2cfb4_row31_col6,#T_2cfb4_row42_col19,#T_2cfb4_row42_col20,#T_2cfb4_row44_col40,#T_2cfb4_row60_col35{\n",
       "            background-color:  #c1d4f4;\n",
       "            color:  #000000;\n",
       "        }#T_2cfb4_row0_col11,#T_2cfb4_row5_col11,#T_2cfb4_row7_col15,#T_2cfb4_row8_col13,#T_2cfb4_row11_col13,#T_2cfb4_row12_col27,#T_2cfb4_row13_col27,#T_2cfb4_row19_col49,#T_2cfb4_row20_col49,#T_2cfb4_row25_col49,#T_2cfb4_row30_col27,#T_2cfb4_row33_col48,#T_2cfb4_row35_col48,#T_2cfb4_row40_col9,#T_2cfb4_row40_col26,#T_2cfb4_row43_col26,#T_2cfb4_row45_col34,#T_2cfb4_row49_col25,#T_2cfb4_row50_col58,#T_2cfb4_row52_col50,#T_2cfb4_row52_col55,#T_2cfb4_row53_col54,#T_2cfb4_row53_col56,#T_2cfb4_row53_col57,#T_2cfb4_row54_col58,#T_2cfb4_row55_col58,#T_2cfb4_row60_col54,#T_2cfb4_row60_col56,#T_2cfb4_row60_col57{\n",
       "            background-color:  #5470de;\n",
       "            color:  #000000;\n",
       "        }#T_2cfb4_row0_col12,#T_2cfb4_row3_col39,#T_2cfb4_row4_col39,#T_2cfb4_row5_col39,#T_2cfb4_row12_col42,#T_2cfb4_row14_col41,#T_2cfb4_row15_col1,#T_2cfb4_row15_col42,#T_2cfb4_row16_col12,#T_2cfb4_row17_col3,#T_2cfb4_row17_col4,#T_2cfb4_row18_col22,#T_2cfb4_row21_col19,#T_2cfb4_row21_col20,#T_2cfb4_row22_col19,#T_2cfb4_row22_col20,#T_2cfb4_row25_col12,#T_2cfb4_row31_col41,#T_2cfb4_row34_col12,#T_2cfb4_row35_col6,#T_2cfb4_row35_col23,#T_2cfb4_row38_col41,#T_2cfb4_row39_col41,#T_2cfb4_row39_col43,#T_2cfb4_row45_col41,#T_2cfb4_row48_col12,#T_2cfb4_row51_col41,#T_2cfb4_row53_col19,#T_2cfb4_row53_col20,#T_2cfb4_row54_col19,#T_2cfb4_row54_col20,#T_2cfb4_row55_col40,#T_2cfb4_row56_col19,#T_2cfb4_row56_col20,#T_2cfb4_row60_col40{\n",
       "            background-color:  #afcafc;\n",
       "            color:  #000000;\n",
       "        }#T_2cfb4_row0_col13,#T_2cfb4_row3_col25,#T_2cfb4_row4_col25,#T_2cfb4_row9_col11,#T_2cfb4_row17_col31,#T_2cfb4_row30_col48,#T_2cfb4_row31_col27,#T_2cfb4_row36_col27,#T_2cfb4_row37_col27,#T_2cfb4_row41_col11,#T_2cfb4_row41_col29,#T_2cfb4_row41_col48,#T_2cfb4_row42_col49,#T_2cfb4_row43_col31,#T_2cfb4_row44_col24,#T_2cfb4_row50_col48,#T_2cfb4_row50_col55,#T_2cfb4_row51_col11,#T_2cfb4_row51_col27,#T_2cfb4_row52_col48,#T_2cfb4_row53_col48,#T_2cfb4_row53_col60,#T_2cfb4_row54_col50,#T_2cfb4_row56_col54,#T_2cfb4_row57_col54,#T_2cfb4_row58_col27,#T_2cfb4_row58_col56,#T_2cfb4_row58_col57,#T_2cfb4_row59_col27,#T_2cfb4_row59_col58,#T_2cfb4_row60_col48,#T_2cfb4_row60_col53,#T_2cfb4_row61_col34,#T_2cfb4_row61_col49,#T_2cfb4_row63_col29{\n",
       "            background-color:  #5875e1;\n",
       "            color:  #000000;\n",
       "        }#T_2cfb4_row0_col15,#T_2cfb4_row2_col62,#T_2cfb4_row6_col0,#T_2cfb4_row7_col44,#T_2cfb4_row11_col47,#T_2cfb4_row12_col3,#T_2cfb4_row12_col4,#T_2cfb4_row13_col38,#T_2cfb4_row14_col38,#T_2cfb4_row25_col22,#T_2cfb4_row29_col46,#T_2cfb4_row31_col46,#T_2cfb4_row32_col24,#T_2cfb4_row33_col30,#T_2cfb4_row35_col17,#T_2cfb4_row37_col24,#T_2cfb4_row39_col17,#T_2cfb4_row40_col61,#T_2cfb4_row41_col17,#T_2cfb4_row42_col38,#T_2cfb4_row44_col13,#T_2cfb4_row50_col23,#T_2cfb4_row51_col0,#T_2cfb4_row52_col23,#T_2cfb4_row52_col38,#T_2cfb4_row55_col24,#T_2cfb4_row60_col3,#T_2cfb4_row60_col4,#T_2cfb4_row60_col5,#T_2cfb4_row60_col38{\n",
       "            background-color:  #86a9fc;\n",
       "            color:  #000000;\n",
       "        }#T_2cfb4_row0_col16,#T_2cfb4_row0_col50,#T_2cfb4_row0_col58,#T_2cfb4_row1_col57,#T_2cfb4_row1_col58,#T_2cfb4_row2_col57,#T_2cfb4_row2_col58,#T_2cfb4_row3_col55,#T_2cfb4_row4_col55,#T_2cfb4_row5_col55,#T_2cfb4_row6_col31,#T_2cfb4_row6_col50,#T_2cfb4_row6_col54,#T_2cfb4_row7_col55,#T_2cfb4_row8_col54,#T_2cfb4_row8_col57,#T_2cfb4_row8_col60,#T_2cfb4_row9_col56,#T_2cfb4_row9_col60,#T_2cfb4_row10_col55,#T_2cfb4_row11_col57,#T_2cfb4_row12_col47,#T_2cfb4_row12_col50,#T_2cfb4_row13_col53,#T_2cfb4_row14_col26,#T_2cfb4_row14_col50,#T_2cfb4_row14_col54,#T_2cfb4_row14_col56,#T_2cfb4_row14_col57,#T_2cfb4_row15_col11,#T_2cfb4_row15_col54,#T_2cfb4_row15_col56,#T_2cfb4_row16_col55,#T_2cfb4_row16_col60,#T_2cfb4_row17_col50,#T_2cfb4_row17_col56,#T_2cfb4_row19_col57,#T_2cfb4_row19_col60,#T_2cfb4_row20_col57,#T_2cfb4_row20_col60,#T_2cfb4_row21_col54,#T_2cfb4_row23_col54,#T_2cfb4_row24_col56,#T_2cfb4_row25_col13,#T_2cfb4_row25_col16,#T_2cfb4_row25_col56,#T_2cfb4_row25_col57,#T_2cfb4_row27_col56,#T_2cfb4_row27_col57,#T_2cfb4_row28_col11,#T_2cfb4_row28_col50,#T_2cfb4_row28_col54,#T_2cfb4_row29_col56,#T_2cfb4_row29_col57,#T_2cfb4_row31_col56,#T_2cfb4_row32_col56,#T_2cfb4_row32_col57,#T_2cfb4_row33_col47,#T_2cfb4_row33_col57,#T_2cfb4_row34_col55,#T_2cfb4_row35_col15,#T_2cfb4_row35_col47,#T_2cfb4_row35_col55,#T_2cfb4_row35_col56,#T_2cfb4_row36_col15,#T_2cfb4_row36_col57,#T_2cfb4_row37_col56,#T_2cfb4_row37_col57,#T_2cfb4_row38_col34,#T_2cfb4_row38_col54,#T_2cfb4_row39_col13,#T_2cfb4_row42_col52,#T_2cfb4_row42_col53,#T_2cfb4_row43_col56,#T_2cfb4_row45_col8,#T_2cfb4_row45_col57,#T_2cfb4_row46_col56,#T_2cfb4_row47_col56,#T_2cfb4_row47_col57,#T_2cfb4_row48_col16,#T_2cfb4_row49_col56,#T_2cfb4_row49_col57,#T_2cfb4_row56_col15,#T_2cfb4_row60_col13,#T_2cfb4_row62_col57,#T_2cfb4_row63_col57,#T_2cfb4_row63_col58{\n",
       "            background-color:  #6788ee;\n",
       "            color:  #000000;\n",
       "        }#T_2cfb4_row0_col17,#T_2cfb4_row3_col26,#T_2cfb4_row4_col26,#T_2cfb4_row5_col13,#T_2cfb4_row8_col0,#T_2cfb4_row10_col31,#T_2cfb4_row11_col22,#T_2cfb4_row21_col13,#T_2cfb4_row23_col13,#T_2cfb4_row28_col38,#T_2cfb4_row28_col46,#T_2cfb4_row29_col24,#T_2cfb4_row34_col61,#T_2cfb4_row43_col3,#T_2cfb4_row43_col5,#T_2cfb4_row44_col2,#T_2cfb4_row45_col0,#T_2cfb4_row46_col9,#T_2cfb4_row54_col7,#T_2cfb4_row55_col7,#T_2cfb4_row63_col46{\n",
       "            background-color:  #85a8fc;\n",
       "            color:  #000000;\n",
       "        }#T_2cfb4_row0_col18,#T_2cfb4_row1_col18,#T_2cfb4_row2_col18,#T_2cfb4_row11_col5,#T_2cfb4_row12_col23,#T_2cfb4_row12_col38,#T_2cfb4_row15_col38,#T_2cfb4_row15_col46,#T_2cfb4_row16_col61,#T_2cfb4_row17_col44,#T_2cfb4_row19_col14,#T_2cfb4_row20_col14,#T_2cfb4_row21_col51,#T_2cfb4_row22_col51,#T_2cfb4_row25_col2,#T_2cfb4_row25_col23,#T_2cfb4_row25_col38,#T_2cfb4_row26_col46,#T_2cfb4_row30_col15,#T_2cfb4_row31_col24,#T_2cfb4_row32_col23,#T_2cfb4_row34_col45,#T_2cfb4_row37_col23,#T_2cfb4_row38_col5,#T_2cfb4_row40_col1,#T_2cfb4_row40_col28,#T_2cfb4_row41_col46,#T_2cfb4_row46_col38,#T_2cfb4_row47_col38,#T_2cfb4_row48_col23,#T_2cfb4_row48_col38,#T_2cfb4_row49_col38,#T_2cfb4_row49_col45,#T_2cfb4_row53_col3,#T_2cfb4_row53_col4,#T_2cfb4_row53_col5,#T_2cfb4_row55_col2,#T_2cfb4_row57_col7,#T_2cfb4_row58_col7,#T_2cfb4_row58_col23{\n",
       "            background-color:  #8badfd;\n",
       "            color:  #000000;\n",
       "        }#T_2cfb4_row0_col19,#T_2cfb4_row0_col20,#T_2cfb4_row51_col35{\n",
       "            background-color:  #e8d6cc;\n",
       "            color:  #000000;\n",
       "        }#T_2cfb4_row0_col21,#T_2cfb4_row0_col29,#T_2cfb4_row3_col49,#T_2cfb4_row4_col49,#T_2cfb4_row5_col49,#T_2cfb4_row10_col16,#T_2cfb4_row11_col31,#T_2cfb4_row12_col11,#T_2cfb4_row13_col34,#T_2cfb4_row17_col27,#T_2cfb4_row21_col26,#T_2cfb4_row21_col31,#T_2cfb4_row21_col61,#T_2cfb4_row22_col26,#T_2cfb4_row22_col31,#T_2cfb4_row22_col61,#T_2cfb4_row23_col11,#T_2cfb4_row25_col14,#T_2cfb4_row30_col8,#T_2cfb4_row37_col14,#T_2cfb4_row39_col48,#T_2cfb4_row46_col27,#T_2cfb4_row50_col52,#T_2cfb4_row52_col11,#T_2cfb4_row52_col14,#T_2cfb4_row52_col31,#T_2cfb4_row52_col34,#T_2cfb4_row53_col11,#T_2cfb4_row53_col14,#T_2cfb4_row53_col31,#T_2cfb4_row54_col31,#T_2cfb4_row54_col52,#T_2cfb4_row55_col11,#T_2cfb4_row55_col14,#T_2cfb4_row55_col31,#T_2cfb4_row56_col31,#T_2cfb4_row58_col53,#T_2cfb4_row58_col60,#T_2cfb4_row59_col55,#T_2cfb4_row61_col14,#T_2cfb4_row62_col47{\n",
       "            background-color:  #5d7ce6;\n",
       "            color:  #000000;\n",
       "        }#T_2cfb4_row0_col22,#T_2cfb4_row7_col49,#T_2cfb4_row10_col48,#T_2cfb4_row11_col49,#T_2cfb4_row12_col8,#T_2cfb4_row12_col16,#T_2cfb4_row13_col14,#T_2cfb4_row13_col16,#T_2cfb4_row13_col50,#T_2cfb4_row16_col31,#T_2cfb4_row27_col31,#T_2cfb4_row28_col31,#T_2cfb4_row30_col14,#T_2cfb4_row32_col14,#T_2cfb4_row32_col31,#T_2cfb4_row34_col11,#T_2cfb4_row36_col14,#T_2cfb4_row36_col31,#T_2cfb4_row37_col31,#T_2cfb4_row38_col31,#T_2cfb4_row38_col59,#T_2cfb4_row39_col21,#T_2cfb4_row42_col50,#T_2cfb4_row42_col59,#T_2cfb4_row46_col14,#T_2cfb4_row48_col47,#T_2cfb4_row50_col11,#T_2cfb4_row50_col16,#T_2cfb4_row50_col31,#T_2cfb4_row50_col34,#T_2cfb4_row52_col16,#T_2cfb4_row53_col34,#T_2cfb4_row56_col14,#T_2cfb4_row56_col52,#T_2cfb4_row57_col14,#T_2cfb4_row57_col52,#T_2cfb4_row58_col31,#T_2cfb4_row59_col31,#T_2cfb4_row60_col11,#T_2cfb4_row60_col16,#T_2cfb4_row60_col31,#T_2cfb4_row60_col34,#T_2cfb4_row61_col31,#T_2cfb4_row62_col59{\n",
       "            background-color:  #5e7de7;\n",
       "            color:  #000000;\n",
       "        }#T_2cfb4_row0_col23,#T_2cfb4_row0_col31,#T_2cfb4_row2_col54,#T_2cfb4_row6_col16,#T_2cfb4_row6_col58,#T_2cfb4_row7_col54,#T_2cfb4_row7_col60,#T_2cfb4_row8_col50,#T_2cfb4_row8_col58,#T_2cfb4_row10_col15,#T_2cfb4_row10_col26,#T_2cfb4_row10_col56,#T_2cfb4_row12_col18,#T_2cfb4_row12_col58,#T_2cfb4_row14_col58,#T_2cfb4_row15_col9,#T_2cfb4_row15_col50,#T_2cfb4_row17_col58,#T_2cfb4_row18_col55,#T_2cfb4_row18_col57,#T_2cfb4_row18_col60,#T_2cfb4_row19_col13,#T_2cfb4_row19_col54,#T_2cfb4_row20_col13,#T_2cfb4_row20_col54,#T_2cfb4_row21_col58,#T_2cfb4_row22_col58,#T_2cfb4_row22_col60,#T_2cfb4_row23_col58,#T_2cfb4_row24_col40,#T_2cfb4_row24_col54,#T_2cfb4_row24_col58,#T_2cfb4_row24_col60,#T_2cfb4_row25_col11,#T_2cfb4_row25_col15,#T_2cfb4_row25_col58,#T_2cfb4_row26_col15,#T_2cfb4_row26_col34,#T_2cfb4_row26_col58,#T_2cfb4_row27_col11,#T_2cfb4_row27_col34,#T_2cfb4_row27_col58,#T_2cfb4_row28_col9,#T_2cfb4_row28_col48,#T_2cfb4_row28_col58,#T_2cfb4_row29_col58,#T_2cfb4_row30_col58,#T_2cfb4_row31_col26,#T_2cfb4_row31_col58,#T_2cfb4_row32_col16,#T_2cfb4_row32_col58,#T_2cfb4_row33_col31,#T_2cfb4_row33_col54,#T_2cfb4_row34_col26,#T_2cfb4_row34_col54,#T_2cfb4_row34_col57,#T_2cfb4_row35_col26,#T_2cfb4_row36_col26,#T_2cfb4_row37_col16,#T_2cfb4_row37_col26,#T_2cfb4_row38_col16,#T_2cfb4_row44_col9,#T_2cfb4_row44_col34,#T_2cfb4_row44_col58,#T_2cfb4_row45_col11,#T_2cfb4_row45_col58,#T_2cfb4_row47_col58,#T_2cfb4_row48_col58,#T_2cfb4_row49_col47,#T_2cfb4_row49_col58,#T_2cfb4_row51_col26,#T_2cfb4_row53_col15,#T_2cfb4_row55_col15,#T_2cfb4_row56_col26,#T_2cfb4_row58_col16,#T_2cfb4_row58_col26,#T_2cfb4_row59_col26,#T_2cfb4_row61_col58{\n",
       "            background-color:  #6485ec;\n",
       "            color:  #000000;\n",
       "        }#T_2cfb4_row0_col25,#T_2cfb4_row6_col37,#T_2cfb4_row8_col37,#T_2cfb4_row10_col37,#T_2cfb4_row12_col37,#T_2cfb4_row16_col37,#T_2cfb4_row17_col11,#T_2cfb4_row17_col34,#T_2cfb4_row17_col37,#T_2cfb4_row21_col37,#T_2cfb4_row23_col37,#T_2cfb4_row28_col25,#T_2cfb4_row29_col37,#T_2cfb4_row31_col37,#T_2cfb4_row32_col37,#T_2cfb4_row33_col37,#T_2cfb4_row34_col37,#T_2cfb4_row36_col37,#T_2cfb4_row43_col25,#T_2cfb4_row43_col37,#T_2cfb4_row44_col11,#T_2cfb4_row44_col37,#T_2cfb4_row45_col37,#T_2cfb4_row46_col37,#T_2cfb4_row54_col37,#T_2cfb4_row55_col37,#T_2cfb4_row56_col37,#T_2cfb4_row57_col37,#T_2cfb4_row58_col37,#T_2cfb4_row59_col37,#T_2cfb4_row62_col26,#T_2cfb4_row62_col36,#T_2cfb4_row63_col11{\n",
       "            background-color:  #4055c8;\n",
       "            color:  #f1f1f1;\n",
       "        }#T_2cfb4_row0_col26,#T_2cfb4_row5_col40,#T_2cfb4_row10_col27,#T_2cfb4_row10_col34,#T_2cfb4_row13_col31,#T_2cfb4_row18_col48,#T_2cfb4_row19_col23,#T_2cfb4_row20_col23,#T_2cfb4_row21_col49,#T_2cfb4_row22_col49,#T_2cfb4_row23_col48,#T_2cfb4_row26_col49,#T_2cfb4_row30_col16,#T_2cfb4_row31_col11,#T_2cfb4_row32_col48,#T_2cfb4_row33_col27,#T_2cfb4_row34_col27,#T_2cfb4_row35_col27,#T_2cfb4_row37_col48,#T_2cfb4_row38_col48,#T_2cfb4_row39_col31,#T_2cfb4_row40_col31,#T_2cfb4_row44_col14,#T_2cfb4_row47_col34,#T_2cfb4_row54_col48,#T_2cfb4_row54_col55,#T_2cfb4_row55_col48,#T_2cfb4_row56_col48,#T_2cfb4_row56_col50,#T_2cfb4_row56_col55,#T_2cfb4_row57_col48,#T_2cfb4_row57_col50,#T_2cfb4_row57_col55,#T_2cfb4_row58_col48,#T_2cfb4_row58_col54,#T_2cfb4_row59_col48,#T_2cfb4_row62_col24,#T_2cfb4_row62_col31{\n",
       "            background-color:  #5977e3;\n",
       "            color:  #000000;\n",
       "        }#T_2cfb4_row0_col27,#T_2cfb4_row2_col13,#T_2cfb4_row11_col25,#T_2cfb4_row12_col48,#T_2cfb4_row14_col29,#T_2cfb4_row18_col29,#T_2cfb4_row33_col15,#T_2cfb4_row43_col44,#T_2cfb4_row46_col29,#T_2cfb4_row46_col34,#T_2cfb4_row47_col25,#T_2cfb4_row48_col25,#T_2cfb4_row52_col54,#T_2cfb4_row52_col56,#T_2cfb4_row52_col57,#T_2cfb4_row56_col59,#T_2cfb4_row58_col59{\n",
       "            background-color:  #536edd;\n",
       "            color:  #000000;\n",
       "        }#T_2cfb4_row0_col28,#T_2cfb4_row0_col45,#T_2cfb4_row1_col45,#T_2cfb4_row2_col45,#T_2cfb4_row6_col9,#T_2cfb4_row9_col24,#T_2cfb4_row10_col45,#T_2cfb4_row11_col45,#T_2cfb4_row13_col22,#T_2cfb4_row14_col30,#T_2cfb4_row19_col45,#T_2cfb4_row20_col45,#T_2cfb4_row23_col44,#T_2cfb4_row24_col48,#T_2cfb4_row26_col40,#T_2cfb4_row28_col8,#T_2cfb4_row43_col28,#T_2cfb4_row43_col30,#T_2cfb4_row44_col28,#T_2cfb4_row48_col7,#T_2cfb4_row50_col33,#T_2cfb4_row51_col2,#T_2cfb4_row53_col30,#T_2cfb4_row59_col30,#T_2cfb4_row61_col30,#T_2cfb4_row63_col30,#T_2cfb4_row63_col45{\n",
       "            background-color:  #9fbfff;\n",
       "            color:  #000000;\n",
       "        }#T_2cfb4_row0_col32,#T_2cfb4_row1_col13,#T_2cfb4_row1_col32,#T_2cfb4_row2_col32,#T_2cfb4_row3_col15,#T_2cfb4_row4_col15,#T_2cfb4_row5_col15,#T_2cfb4_row8_col25,#T_2cfb4_row10_col25,#T_2cfb4_row12_col32,#T_2cfb4_row13_col8,#T_2cfb4_row15_col32,#T_2cfb4_row17_col25,#T_2cfb4_row18_col32,#T_2cfb4_row21_col25,#T_2cfb4_row22_col2,#T_2cfb4_row28_col49,#T_2cfb4_row29_col32,#T_2cfb4_row32_col29,#T_2cfb4_row34_col48,#T_2cfb4_row45_col29,#T_2cfb4_row46_col44,#T_2cfb4_row47_col29,#T_2cfb4_row50_col32,#T_2cfb4_row50_col59,#T_2cfb4_row53_col58,#T_2cfb4_row54_col59,#T_2cfb4_row55_col59,#T_2cfb4_row57_col59,#T_2cfb4_row60_col58{\n",
       "            background-color:  #516ddb;\n",
       "            color:  #000000;\n",
       "        }#T_2cfb4_row0_col33,#T_2cfb4_row2_col5,#T_2cfb4_row3_col2,#T_2cfb4_row7_col17,#T_2cfb4_row9_col30,#T_2cfb4_row10_col2,#T_2cfb4_row13_col19,#T_2cfb4_row13_col20,#T_2cfb4_row13_col44,#T_2cfb4_row18_col1,#T_2cfb4_row24_col46,#T_2cfb4_row26_col33,#T_2cfb4_row31_col40,#T_2cfb4_row33_col6,#T_2cfb4_row34_col24,#T_2cfb4_row35_col41,#T_2cfb4_row42_col43,#T_2cfb4_row48_col3,#T_2cfb4_row48_col4,#T_2cfb4_row48_col5,#T_2cfb4_row54_col42,#T_2cfb4_row58_col33,#T_2cfb4_row61_col43,#T_2cfb4_row62_col44,#T_2cfb4_row63_col42{\n",
       "            background-color:  #a7c5fe;\n",
       "            color:  #000000;\n",
       "        }#T_2cfb4_row0_col34,#T_2cfb4_row0_col55,#T_2cfb4_row0_col59,#T_2cfb4_row1_col24,#T_2cfb4_row1_col59,#T_2cfb4_row2_col24,#T_2cfb4_row2_col59,#T_2cfb4_row6_col14,#T_2cfb4_row7_col50,#T_2cfb4_row8_col59,#T_2cfb4_row9_col48,#T_2cfb4_row12_col26,#T_2cfb4_row13_col54,#T_2cfb4_row14_col59,#T_2cfb4_row17_col59,#T_2cfb4_row18_col50,#T_2cfb4_row18_col54,#T_2cfb4_row19_col55,#T_2cfb4_row19_col56,#T_2cfb4_row19_col59,#T_2cfb4_row19_col62,#T_2cfb4_row20_col55,#T_2cfb4_row20_col56,#T_2cfb4_row20_col59,#T_2cfb4_row20_col62,#T_2cfb4_row21_col11,#T_2cfb4_row21_col59,#T_2cfb4_row22_col59,#T_2cfb4_row24_col50,#T_2cfb4_row24_col59,#T_2cfb4_row25_col34,#T_2cfb4_row25_col48,#T_2cfb4_row26_col14,#T_2cfb4_row27_col14,#T_2cfb4_row28_col59,#T_2cfb4_row29_col14,#T_2cfb4_row32_col34,#T_2cfb4_row33_col50,#T_2cfb4_row33_col59,#T_2cfb4_row34_col47,#T_2cfb4_row37_col34,#T_2cfb4_row38_col26,#T_2cfb4_row38_col58,#T_2cfb4_row39_col26,#T_2cfb4_row41_col13,#T_2cfb4_row41_col14,#T_2cfb4_row41_col31,#T_2cfb4_row42_col27,#T_2cfb4_row42_col58,#T_2cfb4_row43_col14,#T_2cfb4_row45_col16,#T_2cfb4_row46_col31,#T_2cfb4_row47_col14,#T_2cfb4_row47_col31,#T_2cfb4_row48_col14,#T_2cfb4_row49_col27,#T_2cfb4_row49_col31,#T_2cfb4_row50_col15,#T_2cfb4_row50_col26,#T_2cfb4_row53_col26,#T_2cfb4_row56_col16,#T_2cfb4_row58_col34,#T_2cfb4_row59_col52,#T_2cfb4_row60_col15,#T_2cfb4_row61_col8,#T_2cfb4_row62_col58{\n",
       "            background-color:  #6282ea;\n",
       "            color:  #000000;\n",
       "        }#T_2cfb4_row0_col35,#T_2cfb4_row2_col35,#T_2cfb4_row8_col63,#T_2cfb4_row17_col35,#T_2cfb4_row25_col39,#T_2cfb4_row26_col35,#T_2cfb4_row27_col35,#T_2cfb4_row29_col63,#T_2cfb4_row30_col39,#T_2cfb4_row34_col19,#T_2cfb4_row34_col20,#T_2cfb4_row34_col63,#T_2cfb4_row35_col63,#T_2cfb4_row40_col43,#T_2cfb4_row42_col24,#T_2cfb4_row44_col35,#T_2cfb4_row45_col63,#T_2cfb4_row57_col35{\n",
       "            background-color:  #d2dbe8;\n",
       "            color:  #000000;\n",
       "        }#T_2cfb4_row0_col36,#T_2cfb4_row5_col37,#T_2cfb4_row11_col36,#T_2cfb4_row13_col25,#T_2cfb4_row15_col36,#T_2cfb4_row19_col37,#T_2cfb4_row20_col37,#T_2cfb4_row30_col36,#T_2cfb4_row33_col36,#T_2cfb4_row38_col36,#T_2cfb4_row41_col36,#T_2cfb4_row45_col47,#T_2cfb4_row47_col36,#T_2cfb4_row53_col51{\n",
       "            background-color:  #3d50c3;\n",
       "            color:  #f1f1f1;\n",
       "        }#T_2cfb4_row0_col37,#T_2cfb4_row1_col21,#T_2cfb4_row1_col22,#T_2cfb4_row1_col36,#T_2cfb4_row1_col37,#T_2cfb4_row2_col21,#T_2cfb4_row2_col22,#T_2cfb4_row2_col36,#T_2cfb4_row2_col37,#T_2cfb4_row6_col34,#T_2cfb4_row6_col43,#T_2cfb4_row8_col9,#T_2cfb4_row9_col8,#T_2cfb4_row10_col12,#T_2cfb4_row10_col30,#T_2cfb4_row12_col10,#T_2cfb4_row12_col31,#T_2cfb4_row13_col11,#T_2cfb4_row13_col15,#T_2cfb4_row13_col18,#T_2cfb4_row13_col32,#T_2cfb4_row13_col36,#T_2cfb4_row18_col13,#T_2cfb4_row30_col29,#T_2cfb4_row35_col36,#T_2cfb4_row35_col37,#T_2cfb4_row35_col38,#T_2cfb4_row35_col39,#T_2cfb4_row39_col14,#T_2cfb4_row39_col16,#T_2cfb4_row39_col18,#T_2cfb4_row39_col33,#T_2cfb4_row39_col34,#T_2cfb4_row39_col35,#T_2cfb4_row40_col3,#T_2cfb4_row40_col4,#T_2cfb4_row40_col5,#T_2cfb4_row40_col7,#T_2cfb4_row40_col24,#T_2cfb4_row40_col42,#T_2cfb4_row41_col42,#T_2cfb4_row42_col40,#T_2cfb4_row42_col41,#T_2cfb4_row43_col6,#T_2cfb4_row43_col11,#T_2cfb4_row43_col17,#T_2cfb4_row44_col45,#T_2cfb4_row44_col46,#T_2cfb4_row44_col47,#T_2cfb4_row44_col48,#T_2cfb4_row44_col49,#T_2cfb4_row45_col44,#T_2cfb4_row45_col49,#T_2cfb4_row51_col50,#T_2cfb4_row51_col52,#T_2cfb4_row51_col53,#T_2cfb4_row51_col54,#T_2cfb4_row51_col55,#T_2cfb4_row51_col56,#T_2cfb4_row51_col57,#T_2cfb4_row51_col58,#T_2cfb4_row51_col59,#T_2cfb4_row51_col60,#T_2cfb4_row52_col51,#T_2cfb4_row62_col0,#T_2cfb4_row62_col1,#T_2cfb4_row62_col2,#T_2cfb4_row62_col19,#T_2cfb4_row62_col20,#T_2cfb4_row62_col63,#T_2cfb4_row63_col23,#T_2cfb4_row63_col25,#T_2cfb4_row63_col26,#T_2cfb4_row63_col27,#T_2cfb4_row63_col28,#T_2cfb4_row63_col61,#T_2cfb4_row63_col62{\n",
       "            background-color:  #3b4cc0;\n",
       "            color:  #f1f1f1;\n",
       "        }#T_2cfb4_row0_col38,#T_2cfb4_row0_col46,#T_2cfb4_row4_col46,#T_2cfb4_row5_col46,#T_2cfb4_row6_col2,#T_2cfb4_row6_col33,#T_2cfb4_row6_col49,#T_2cfb4_row8_col17,#T_2cfb4_row8_col45,#T_2cfb4_row8_col51,#T_2cfb4_row10_col0,#T_2cfb4_row10_col24,#T_2cfb4_row12_col33,#T_2cfb4_row18_col30,#T_2cfb4_row21_col44,#T_2cfb4_row23_col45,#T_2cfb4_row24_col51,#T_2cfb4_row27_col24,#T_2cfb4_row27_col44,#T_2cfb4_row29_col3,#T_2cfb4_row29_col4,#T_2cfb4_row29_col61,#T_2cfb4_row30_col33,#T_2cfb4_row30_col61,#T_2cfb4_row31_col61,#T_2cfb4_row32_col61,#T_2cfb4_row33_col45,#T_2cfb4_row37_col1,#T_2cfb4_row37_col2,#T_2cfb4_row37_col3,#T_2cfb4_row37_col4,#T_2cfb4_row37_col5,#T_2cfb4_row38_col61,#T_2cfb4_row39_col1,#T_2cfb4_row39_col2,#T_2cfb4_row41_col44,#T_2cfb4_row42_col46,#T_2cfb4_row45_col3,#T_2cfb4_row45_col4,#T_2cfb4_row49_col22,#T_2cfb4_row51_col17,#T_2cfb4_row52_col61,#T_2cfb4_row53_col61,#T_2cfb4_row54_col61,#T_2cfb4_row56_col2,#T_2cfb4_row56_col3,#T_2cfb4_row56_col4,#T_2cfb4_row58_col61,#T_2cfb4_row63_col9,#T_2cfb4_row63_col38{\n",
       "            background-color:  #8fb1fe;\n",
       "            color:  #000000;\n",
       "        }#T_2cfb4_row0_col39,#T_2cfb4_row0_col41,#T_2cfb4_row1_col39,#T_2cfb4_row2_col39,#T_2cfb4_row6_col48,#T_2cfb4_row24_col33,#T_2cfb4_row30_col35,#T_2cfb4_row30_col63,#T_2cfb4_row31_col10,#T_2cfb4_row32_col62,#T_2cfb4_row32_col63,#T_2cfb4_row33_col18,#T_2cfb4_row34_col7,#T_2cfb4_row35_col62,#T_2cfb4_row37_col35,#T_2cfb4_row41_col35,#T_2cfb4_row42_col62,#T_2cfb4_row57_col62,#T_2cfb4_row57_col63{\n",
       "            background-color:  #cdd9ec;\n",
       "            color:  #000000;\n",
       "        }#T_2cfb4_row0_col40,#T_2cfb4_row1_col3,#T_2cfb4_row9_col5,#T_2cfb4_row9_col33,#T_2cfb4_row10_col28,#T_2cfb4_row11_col61,#T_2cfb4_row14_col22,#T_2cfb4_row17_col28,#T_2cfb4_row18_col16,#T_2cfb4_row23_col41,#T_2cfb4_row29_col28,#T_2cfb4_row35_col51,#T_2cfb4_row39_col30,#T_2cfb4_row45_col30,#T_2cfb4_row45_col40,#T_2cfb4_row47_col7,#T_2cfb4_row47_col33,#T_2cfb4_row47_col43,#T_2cfb4_row48_col33,#T_2cfb4_row48_col61,#T_2cfb4_row49_col3,#T_2cfb4_row49_col4,#T_2cfb4_row49_col5,#T_2cfb4_row49_col40,#T_2cfb4_row50_col28,#T_2cfb4_row51_col24,#T_2cfb4_row53_col33,#T_2cfb4_row54_col30{\n",
       "            background-color:  #a2c1ff;\n",
       "            color:  #000000;\n",
       "        }#T_2cfb4_row0_col42,#T_2cfb4_row2_col28,#T_2cfb4_row3_col61,#T_2cfb4_row4_col0,#T_2cfb4_row4_col61,#T_2cfb4_row7_col61,#T_2cfb4_row9_col40,#T_2cfb4_row10_col3,#T_2cfb4_row10_col4,#T_2cfb4_row10_col44,#T_2cfb4_row11_col24,#T_2cfb4_row13_col21,#T_2cfb4_row13_col45,#T_2cfb4_row14_col44,#T_2cfb4_row17_col2,#T_2cfb4_row18_col0,#T_2cfb4_row24_col30,#T_2cfb4_row28_col40,#T_2cfb4_row31_col3,#T_2cfb4_row31_col4,#T_2cfb4_row31_col5,#T_2cfb4_row33_col40,#T_2cfb4_row34_col30,#T_2cfb4_row35_col45,#T_2cfb4_row36_col2,#T_2cfb4_row38_col33,#T_2cfb4_row44_col23,#T_2cfb4_row46_col43,#T_2cfb4_row47_col22,#T_2cfb4_row47_col40,#T_2cfb4_row48_col1,#T_2cfb4_row48_col2,#T_2cfb4_row50_col1,#T_2cfb4_row50_col2,#T_2cfb4_row52_col1,#T_2cfb4_row52_col2,#T_2cfb4_row53_col1,#T_2cfb4_row57_col1,#T_2cfb4_row57_col5,#T_2cfb4_row58_col3,#T_2cfb4_row58_col4,#T_2cfb4_row58_col5,#T_2cfb4_row60_col1,#T_2cfb4_row61_col19,#T_2cfb4_row61_col20,#T_2cfb4_row63_col44{\n",
       "            background-color:  #93b5fe;\n",
       "            color:  #000000;\n",
       "        }#T_2cfb4_row0_col43,#T_2cfb4_row7_col34,#T_2cfb4_row7_col43,#T_2cfb4_row9_col1,#T_2cfb4_row11_col33,#T_2cfb4_row15_col19,#T_2cfb4_row15_col20,#T_2cfb4_row18_col6,#T_2cfb4_row23_col12,#T_2cfb4_row25_col43,#T_2cfb4_row27_col42,#T_2cfb4_row27_col43,#T_2cfb4_row32_col10,#T_2cfb4_row36_col10,#T_2cfb4_row36_col12,#T_2cfb4_row37_col10,#T_2cfb4_row37_col12,#T_2cfb4_row49_col43,#T_2cfb4_row50_col10,#T_2cfb4_row50_col40,#T_2cfb4_row52_col10,#T_2cfb4_row52_col40,#T_2cfb4_row53_col12,#T_2cfb4_row58_col12,#T_2cfb4_row58_col19,#T_2cfb4_row58_col20,#T_2cfb4_row59_col10,#T_2cfb4_row59_col12,#T_2cfb4_row59_col19,#T_2cfb4_row59_col20,#T_2cfb4_row61_col10{\n",
       "            background-color:  #b5cdfa;\n",
       "            color:  #000000;\n",
       "        }#T_2cfb4_row0_col44,#T_2cfb4_row1_col46,#T_2cfb4_row2_col46,#T_2cfb4_row5_col47,#T_2cfb4_row6_col1,#T_2cfb4_row6_col38,#T_2cfb4_row7_col46,#T_2cfb4_row9_col13,#T_2cfb4_row9_col44,#T_2cfb4_row10_col46,#T_2cfb4_row11_col3,#T_2cfb4_row11_col4,#T_2cfb4_row11_col23,#T_2cfb4_row12_col1,#T_2cfb4_row12_col2,#T_2cfb4_row17_col47,#T_2cfb4_row24_col9,#T_2cfb4_row26_col17,#T_2cfb4_row26_col44,#T_2cfb4_row27_col1,#T_2cfb4_row31_col7,#T_2cfb4_row36_col23,#T_2cfb4_row39_col46,#T_2cfb4_row40_col2,#T_2cfb4_row41_col61,#T_2cfb4_row42_col9,#T_2cfb4_row49_col23,#T_2cfb4_row51_col38,#T_2cfb4_row54_col3,#T_2cfb4_row54_col4,#T_2cfb4_row56_col23,#T_2cfb4_row57_col23,#T_2cfb4_row59_col7,#T_2cfb4_row59_col23{\n",
       "            background-color:  #8caffe;\n",
       "            color:  #000000;\n",
       "        }#T_2cfb4_row0_col47,#T_2cfb4_row3_col48,#T_2cfb4_row4_col48,#T_2cfb4_row5_col48,#T_2cfb4_row6_col13,#T_2cfb4_row7_col48,#T_2cfb4_row11_col60,#T_2cfb4_row12_col55,#T_2cfb4_row15_col17,#T_2cfb4_row21_col40,#T_2cfb4_row25_col60,#T_2cfb4_row26_col52,#T_2cfb4_row29_col9,#T_2cfb4_row30_col21,#T_2cfb4_row30_col55,#T_2cfb4_row31_col52,#T_2cfb4_row32_col8,#T_2cfb4_row36_col9,#T_2cfb4_row37_col51,#T_2cfb4_row37_col60,#T_2cfb4_row38_col13,#T_2cfb4_row42_col1,#T_2cfb4_row45_col52,#T_2cfb4_row47_col8,#T_2cfb4_row47_col52,#T_2cfb4_row48_col52,#T_2cfb4_row49_col26,#T_2cfb4_row49_col52,#T_2cfb4_row57_col9,#T_2cfb4_row57_col18,#T_2cfb4_row58_col8,#T_2cfb4_row61_col11,#T_2cfb4_row61_col60,#T_2cfb4_row62_col18,#T_2cfb4_row62_col55,#T_2cfb4_row63_col14{\n",
       "            background-color:  #7295f4;\n",
       "            color:  #000000;\n",
       "        }#T_2cfb4_row0_col48,#T_2cfb4_row3_col11,#T_2cfb4_row4_col11,#T_2cfb4_row6_col29,#T_2cfb4_row13_col48,#T_2cfb4_row15_col14,#T_2cfb4_row15_col27,#T_2cfb4_row15_col29,#T_2cfb4_row19_col29,#T_2cfb4_row20_col29,#T_2cfb4_row22_col27,#T_2cfb4_row23_col0,#T_2cfb4_row27_col49,#T_2cfb4_row30_col10,#T_2cfb4_row30_col34,#T_2cfb4_row31_col29,#T_2cfb4_row39_col27,#T_2cfb4_row41_col27,#T_2cfb4_row44_col26,#T_2cfb4_row45_col27,#T_2cfb4_row46_col45,#T_2cfb4_row49_col48,#T_2cfb4_row50_col56,#T_2cfb4_row50_col57,#T_2cfb4_row53_col50,#T_2cfb4_row53_col55,#T_2cfb4_row55_col56,#T_2cfb4_row55_col57,#T_2cfb4_row56_col58,#T_2cfb4_row57_col58,#T_2cfb4_row60_col50,#T_2cfb4_row60_col55,#T_2cfb4_row63_col48{\n",
       "            background-color:  #5572df;\n",
       "            color:  #000000;\n",
       "        }#T_2cfb4_row0_col49,#T_2cfb4_row15_col34,#T_2cfb4_row17_col29,#T_2cfb4_row19_col11,#T_2cfb4_row19_col25,#T_2cfb4_row20_col11,#T_2cfb4_row20_col25,#T_2cfb4_row21_col29,#T_2cfb4_row23_col29,#T_2cfb4_row30_col25,#T_2cfb4_row30_col49,#T_2cfb4_row34_col49,#T_2cfb4_row35_col25,#T_2cfb4_row39_col38,#T_2cfb4_row40_col29,#T_2cfb4_row51_col25,#T_2cfb4_row62_col29,#T_2cfb4_row63_col21{\n",
       "            background-color:  #485fd1;\n",
       "            color:  #f1f1f1;\n",
       "        }#T_2cfb4_row0_col51,#T_2cfb4_row1_col51,#T_2cfb4_row2_col51,#T_2cfb4_row9_col47,#T_2cfb4_row10_col51,#T_2cfb4_row11_col1,#T_2cfb4_row12_col22,#T_2cfb4_row16_col0,#T_2cfb4_row17_col8,#T_2cfb4_row17_col38,#T_2cfb4_row24_col13,#T_2cfb4_row28_col51,#T_2cfb4_row30_col17,#T_2cfb4_row32_col0,#T_2cfb4_row33_col0,#T_2cfb4_row39_col53,#T_2cfb4_row40_col52,#T_2cfb4_row41_col23,#T_2cfb4_row44_col61,#T_2cfb4_row45_col9,#T_2cfb4_row46_col23,#T_2cfb4_row51_col13,#T_2cfb4_row52_col17,#T_2cfb4_row53_col17,#T_2cfb4_row53_col21,#T_2cfb4_row54_col22,#T_2cfb4_row57_col0,#T_2cfb4_row60_col7,#T_2cfb4_row61_col2{\n",
       "            background-color:  #7ea1fa;\n",
       "            color:  #000000;\n",
       "        }#T_2cfb4_row0_col52,#T_2cfb4_row1_col52,#T_2cfb4_row2_col52,#T_2cfb4_row6_col52,#T_2cfb4_row10_col9,#T_2cfb4_row10_col14,#T_2cfb4_row11_col26,#T_2cfb4_row11_col53,#T_2cfb4_row12_col53,#T_2cfb4_row14_col52,#T_2cfb4_row15_col47,#T_2cfb4_row22_col40,#T_2cfb4_row24_col2,#T_2cfb4_row25_col51,#T_2cfb4_row25_col53,#T_2cfb4_row26_col48,#T_2cfb4_row27_col13,#T_2cfb4_row28_col52,#T_2cfb4_row29_col8,#T_2cfb4_row29_col53,#T_2cfb4_row30_col22,#T_2cfb4_row32_col9,#T_2cfb4_row36_col8,#T_2cfb4_row36_col13,#T_2cfb4_row36_col60,#T_2cfb4_row37_col8,#T_2cfb4_row37_col53,#T_2cfb4_row38_col52,#T_2cfb4_row39_col47,#T_2cfb4_row39_col55,#T_2cfb4_row40_col0,#T_2cfb4_row40_col54,#T_2cfb4_row40_col55,#T_2cfb4_row41_col53,#T_2cfb4_row42_col48,#T_2cfb4_row43_col51,#T_2cfb4_row43_col53,#T_2cfb4_row44_col0,#T_2cfb4_row44_col51,#T_2cfb4_row44_col53,#T_2cfb4_row45_col18,#T_2cfb4_row46_col15,#T_2cfb4_row48_col13,#T_2cfb4_row49_col11,#T_2cfb4_row49_col60,#T_2cfb4_row56_col9,#T_2cfb4_row56_col18,#T_2cfb4_row57_col8{\n",
       "            background-color:  #7093f3;\n",
       "            color:  #000000;\n",
       "        }#T_2cfb4_row0_col53,#T_2cfb4_row5_col27,#T_2cfb4_row6_col53,#T_2cfb4_row8_col47,#T_2cfb4_row10_col60,#T_2cfb4_row11_col50,#T_2cfb4_row11_col55,#T_2cfb4_row12_col54,#T_2cfb4_row12_col57,#T_2cfb4_row15_col8,#T_2cfb4_row15_col53,#T_2cfb4_row16_col13,#T_2cfb4_row17_col26,#T_2cfb4_row17_col60,#T_2cfb4_row19_col52,#T_2cfb4_row20_col52,#T_2cfb4_row21_col52,#T_2cfb4_row21_col55,#T_2cfb4_row22_col52,#T_2cfb4_row22_col55,#T_2cfb4_row23_col53,#T_2cfb4_row24_col26,#T_2cfb4_row26_col23,#T_2cfb4_row26_col55,#T_2cfb4_row28_col19,#T_2cfb4_row28_col20,#T_2cfb4_row28_col55,#T_2cfb4_row30_col54,#T_2cfb4_row32_col47,#T_2cfb4_row32_col50,#T_2cfb4_row33_col9,#T_2cfb4_row33_col13,#T_2cfb4_row35_col11,#T_2cfb4_row37_col47,#T_2cfb4_row38_col47,#T_2cfb4_row41_col50,#T_2cfb4_row43_col50,#T_2cfb4_row43_col55,#T_2cfb4_row44_col55,#T_2cfb4_row46_col26,#T_2cfb4_row47_col15,#T_2cfb4_row50_col9,#T_2cfb4_row50_col18,#T_2cfb4_row51_col14,#T_2cfb4_row52_col9,#T_2cfb4_row52_col13,#T_2cfb4_row53_col13,#T_2cfb4_row54_col13,#T_2cfb4_row57_col47,#T_2cfb4_row58_col47,#T_2cfb4_row59_col47,#T_2cfb4_row61_col51,#T_2cfb4_row61_col55,#T_2cfb4_row63_col13,#T_2cfb4_row63_col34,#T_2cfb4_row63_col47,#T_2cfb4_row63_col53{\n",
       "            background-color:  #6c8ff1;\n",
       "            color:  #000000;\n",
       "        }#T_2cfb4_row0_col54,#T_2cfb4_row1_col31,#T_2cfb4_row1_col54,#T_2cfb4_row2_col31,#T_2cfb4_row3_col56,#T_2cfb4_row3_col58,#T_2cfb4_row4_col56,#T_2cfb4_row4_col58,#T_2cfb4_row5_col56,#T_2cfb4_row5_col58,#T_2cfb4_row7_col56,#T_2cfb4_row7_col58,#T_2cfb4_row8_col56,#T_2cfb4_row9_col50,#T_2cfb4_row9_col54,#T_2cfb4_row9_col58,#T_2cfb4_row10_col54,#T_2cfb4_row10_col57,#T_2cfb4_row11_col34,#T_2cfb4_row15_col58,#T_2cfb4_row16_col57,#T_2cfb4_row17_col54,#T_2cfb4_row18_col31,#T_2cfb4_row19_col48,#T_2cfb4_row19_col58,#T_2cfb4_row20_col48,#T_2cfb4_row20_col58,#T_2cfb4_row21_col60,#T_2cfb4_row22_col54,#T_2cfb4_row23_col50,#T_2cfb4_row27_col15,#T_2cfb4_row31_col16,#T_2cfb4_row31_col34,#T_2cfb4_row33_col26,#T_2cfb4_row33_col56,#T_2cfb4_row33_col58,#T_2cfb4_row33_col60,#T_2cfb4_row34_col50,#T_2cfb4_row35_col59,#T_2cfb4_row36_col16,#T_2cfb4_row37_col15,#T_2cfb4_row38_col56,#T_2cfb4_row38_col57,#T_2cfb4_row39_col57,#T_2cfb4_row40_col51,#T_2cfb4_row40_col58,#T_2cfb4_row41_col34,#T_2cfb4_row41_col56,#T_2cfb4_row41_col58,#T_2cfb4_row42_col56,#T_2cfb4_row42_col57,#T_2cfb4_row42_col60,#T_2cfb4_row43_col57,#T_2cfb4_row44_col15,#T_2cfb4_row48_col27,#T_2cfb4_row54_col15,#T_2cfb4_row59_col16,#T_2cfb4_row61_col15,#T_2cfb4_row63_col50{\n",
       "            background-color:  #6687ed;\n",
       "            color:  #000000;\n",
       "        }#T_2cfb4_row0_col56,#T_2cfb4_row3_col54,#T_2cfb4_row3_col59,#T_2cfb4_row3_col60,#T_2cfb4_row4_col54,#T_2cfb4_row4_col59,#T_2cfb4_row4_col60,#T_2cfb4_row5_col54,#T_2cfb4_row5_col59,#T_2cfb4_row5_col60,#T_2cfb4_row6_col8,#T_2cfb4_row7_col40,#T_2cfb4_row7_col59,#T_2cfb4_row8_col15,#T_2cfb4_row8_col31,#T_2cfb4_row9_col59,#T_2cfb4_row10_col58,#T_2cfb4_row11_col58,#T_2cfb4_row13_col26,#T_2cfb4_row13_col47,#T_2cfb4_row13_col60,#T_2cfb4_row14_col31,#T_2cfb4_row16_col50,#T_2cfb4_row16_col54,#T_2cfb4_row16_col56,#T_2cfb4_row16_col58,#T_2cfb4_row18_col56,#T_2cfb4_row18_col58,#T_2cfb4_row19_col31,#T_2cfb4_row19_col50,#T_2cfb4_row20_col31,#T_2cfb4_row20_col50,#T_2cfb4_row21_col50,#T_2cfb4_row22_col50,#T_2cfb4_row28_col61,#T_2cfb4_row29_col26,#T_2cfb4_row29_col31,#T_2cfb4_row31_col14,#T_2cfb4_row32_col26,#T_2cfb4_row34_col56,#T_2cfb4_row34_col58,#T_2cfb4_row35_col31,#T_2cfb4_row35_col53,#T_2cfb4_row36_col34,#T_2cfb4_row36_col58,#T_2cfb4_row37_col58,#T_2cfb4_row38_col8,#T_2cfb4_row42_col54,#T_2cfb4_row43_col58,#T_2cfb4_row44_col16,#T_2cfb4_row46_col16,#T_2cfb4_row46_col58,#T_2cfb4_row47_col27,#T_2cfb4_row49_col14,#T_2cfb4_row52_col15,#T_2cfb4_row52_col26,#T_2cfb4_row54_col26,#T_2cfb4_row55_col26,#T_2cfb4_row57_col16,#T_2cfb4_row57_col26,#T_2cfb4_row59_col34,#T_2cfb4_row60_col26,#T_2cfb4_row63_col31,#T_2cfb4_row63_col54,#T_2cfb4_row63_col55,#T_2cfb4_row63_col56{\n",
       "            background-color:  #6384eb;\n",
       "            color:  #000000;\n",
       "        }#T_2cfb4_row0_col57,#T_2cfb4_row1_col50,#T_2cfb4_row2_col50,#T_2cfb4_row3_col53,#T_2cfb4_row3_col57,#T_2cfb4_row4_col53,#T_2cfb4_row4_col57,#T_2cfb4_row5_col53,#T_2cfb4_row5_col57,#T_2cfb4_row6_col56,#T_2cfb4_row7_col57,#T_2cfb4_row8_col26,#T_2cfb4_row9_col55,#T_2cfb4_row9_col57,#T_2cfb4_row11_col17,#T_2cfb4_row11_col56,#T_2cfb4_row13_col59,#T_2cfb4_row15_col22,#T_2cfb4_row15_col55,#T_2cfb4_row15_col57,#T_2cfb4_row16_col53,#T_2cfb4_row17_col55,#T_2cfb4_row17_col57,#T_2cfb4_row18_col17,#T_2cfb4_row18_col26,#T_2cfb4_row18_col53,#T_2cfb4_row19_col15,#T_2cfb4_row19_col61,#T_2cfb4_row20_col15,#T_2cfb4_row20_col61,#T_2cfb4_row21_col56,#T_2cfb4_row21_col57,#T_2cfb4_row22_col56,#T_2cfb4_row23_col47,#T_2cfb4_row23_col57,#T_2cfb4_row23_col60,#T_2cfb4_row24_col11,#T_2cfb4_row24_col44,#T_2cfb4_row24_col57,#T_2cfb4_row26_col11,#T_2cfb4_row26_col54,#T_2cfb4_row26_col56,#T_2cfb4_row26_col57,#T_2cfb4_row27_col48,#T_2cfb4_row27_col54,#T_2cfb4_row28_col56,#T_2cfb4_row28_col57,#T_2cfb4_row29_col54,#T_2cfb4_row30_col50,#T_2cfb4_row31_col15,#T_2cfb4_row31_col54,#T_2cfb4_row31_col57,#T_2cfb4_row32_col15,#T_2cfb4_row32_col54,#T_2cfb4_row33_col55,#T_2cfb4_row36_col54,#T_2cfb4_row36_col56,#T_2cfb4_row38_col50,#T_2cfb4_row39_col15,#T_2cfb4_row39_col56,#T_2cfb4_row40_col57,#T_2cfb4_row41_col16,#T_2cfb4_row41_col54,#T_2cfb4_row41_col57,#T_2cfb4_row42_col55,#T_2cfb4_row44_col54,#T_2cfb4_row44_col56,#T_2cfb4_row44_col57,#T_2cfb4_row45_col54,#T_2cfb4_row45_col56,#T_2cfb4_row46_col8,#T_2cfb4_row46_col57,#T_2cfb4_row47_col16,#T_2cfb4_row47_col44,#T_2cfb4_row47_col54,#T_2cfb4_row48_col15,#T_2cfb4_row48_col54,#T_2cfb4_row48_col56,#T_2cfb4_row48_col57,#T_2cfb4_row49_col15,#T_2cfb4_row49_col54,#T_2cfb4_row50_col13,#T_2cfb4_row57_col15,#T_2cfb4_row59_col15,#T_2cfb4_row60_col8,#T_2cfb4_row61_col57,#T_2cfb4_row62_col51,#T_2cfb4_row63_col60{\n",
       "            background-color:  #688aef;\n",
       "            color:  #000000;\n",
       "        }#T_2cfb4_row0_col60,#T_2cfb4_row1_col34,#T_2cfb4_row2_col34,#T_2cfb4_row3_col52,#T_2cfb4_row4_col52,#T_2cfb4_row5_col52,#T_2cfb4_row6_col57,#T_2cfb4_row7_col53,#T_2cfb4_row8_col55,#T_2cfb4_row9_col26,#T_2cfb4_row11_col54,#T_2cfb4_row12_col51,#T_2cfb4_row13_col55,#T_2cfb4_row13_col56,#T_2cfb4_row14_col55,#T_2cfb4_row15_col21,#T_2cfb4_row15_col60,#T_2cfb4_row16_col26,#T_2cfb4_row18_col15,#T_2cfb4_row18_col52,#T_2cfb4_row21_col9,#T_2cfb4_row22_col57,#T_2cfb4_row23_col56,#T_2cfb4_row24_col53,#T_2cfb4_row24_col55,#T_2cfb4_row25_col54,#T_2cfb4_row26_col50,#T_2cfb4_row27_col16,#T_2cfb4_row27_col50,#T_2cfb4_row29_col55,#T_2cfb4_row30_col47,#T_2cfb4_row31_col50,#T_2cfb4_row31_col55,#T_2cfb4_row33_col53,#T_2cfb4_row34_col60,#T_2cfb4_row35_col57,#T_2cfb4_row35_col58,#T_2cfb4_row36_col50,#T_2cfb4_row37_col54,#T_2cfb4_row38_col15,#T_2cfb4_row38_col55,#T_2cfb4_row39_col23,#T_2cfb4_row39_col24,#T_2cfb4_row41_col55,#T_2cfb4_row42_col11,#T_2cfb4_row45_col50,#T_2cfb4_row45_col55,#T_2cfb4_row46_col50,#T_2cfb4_row46_col54,#T_2cfb4_row47_col50,#T_2cfb4_row48_col50,#T_2cfb4_row49_col16,#T_2cfb4_row49_col50,#T_2cfb4_row49_col55,#T_2cfb4_row58_col15,#T_2cfb4_row60_col9,#T_2cfb4_row60_col18,#T_2cfb4_row61_col54,#T_2cfb4_row61_col56{\n",
       "            background-color:  #6a8bef;\n",
       "            color:  #000000;\n",
       "        }#T_2cfb4_row0_col61,#T_2cfb4_row3_col38,#T_2cfb4_row4_col38,#T_2cfb4_row5_col38,#T_2cfb4_row8_col61,#T_2cfb4_row14_col51,#T_2cfb4_row16_col46,#T_2cfb4_row18_col11,#T_2cfb4_row21_col47,#T_2cfb4_row23_col38,#T_2cfb4_row30_col5,#T_2cfb4_row31_col21,#T_2cfb4_row32_col17,#T_2cfb4_row39_col50,#T_2cfb4_row45_col23,#T_2cfb4_row46_col22,#T_2cfb4_row50_col7,#T_2cfb4_row58_col22,#T_2cfb4_row60_col17,#T_2cfb4_row61_col24{\n",
       "            background-color:  #81a4fb;\n",
       "            color:  #000000;\n",
       "        }#T_2cfb4_row0_col62,#T_2cfb4_row4_col14,#T_2cfb4_row5_col14,#T_2cfb4_row6_col30,#T_2cfb4_row7_col1,#T_2cfb4_row13_col41,#T_2cfb4_row15_col28,#T_2cfb4_row15_col40,#T_2cfb4_row27_col7,#T_2cfb4_row27_col30,#T_2cfb4_row33_col12,#T_2cfb4_row34_col6,#T_2cfb4_row36_col30,#T_2cfb4_row38_col2,#T_2cfb4_row42_col45,#T_2cfb4_row44_col30,#T_2cfb4_row44_col42,#T_2cfb4_row45_col2,#T_2cfb4_row45_col33,#T_2cfb4_row46_col2,#T_2cfb4_row47_col30,#T_2cfb4_row48_col30,#T_2cfb4_row49_col30,#T_2cfb4_row50_col30,#T_2cfb4_row51_col1,#T_2cfb4_row60_col30,#T_2cfb4_row60_col33{\n",
       "            background-color:  #9ebeff;\n",
       "            color:  #000000;\n",
       "        }#T_2cfb4_row0_col63,#T_2cfb4_row2_col0{\n",
       "            background-color:  #f2cab5;\n",
       "            color:  #000000;\n",
       "        }#T_2cfb4_row1_col0,#T_2cfb4_row19_col1,#T_2cfb4_row20_col1{\n",
       "            background-color:  #f1ccb8;\n",
       "            color:  #000000;\n",
       "        }#T_2cfb4_row1_col4,#T_2cfb4_row1_col40,#T_2cfb4_row2_col3,#T_2cfb4_row2_col40,#T_2cfb4_row3_col17,#T_2cfb4_row4_col17,#T_2cfb4_row5_col17,#T_2cfb4_row9_col45,#T_2cfb4_row11_col40,#T_2cfb4_row11_col43,#T_2cfb4_row13_col17,#T_2cfb4_row14_col21,#T_2cfb4_row16_col14,#T_2cfb4_row21_col34,#T_2cfb4_row21_col41,#T_2cfb4_row22_col34,#T_2cfb4_row27_col19,#T_2cfb4_row27_col20,#T_2cfb4_row29_col1,#T_2cfb4_row29_col2,#T_2cfb4_row37_col28,#T_2cfb4_row38_col30,#T_2cfb4_row38_col39,#T_2cfb4_row41_col3,#T_2cfb4_row41_col4,#T_2cfb4_row41_col28,#T_2cfb4_row43_col10,#T_2cfb4_row43_col19,#T_2cfb4_row43_col20,#T_2cfb4_row50_col42,#T_2cfb4_row52_col28,#T_2cfb4_row52_col42,#T_2cfb4_row53_col28,#T_2cfb4_row54_col28,#T_2cfb4_row54_col33,#T_2cfb4_row55_col33,#T_2cfb4_row61_col40{\n",
       "            background-color:  #a3c2fe;\n",
       "            color:  #000000;\n",
       "        }#T_2cfb4_row1_col6,#T_2cfb4_row2_col6,#T_2cfb4_row3_col10,#T_2cfb4_row4_col10,#T_2cfb4_row5_col10,#T_2cfb4_row6_col28,#T_2cfb4_row7_col39,#T_2cfb4_row7_col41,#T_2cfb4_row9_col2,#T_2cfb4_row9_col12,#T_2cfb4_row9_col18,#T_2cfb4_row9_col62,#T_2cfb4_row11_col12,#T_2cfb4_row16_col39,#T_2cfb4_row17_col33,#T_2cfb4_row21_col43,#T_2cfb4_row22_col43,#T_2cfb4_row23_col6,#T_2cfb4_row24_col8,#T_2cfb4_row24_col47,#T_2cfb4_row25_col61,#T_2cfb4_row26_col10,#T_2cfb4_row27_col10,#T_2cfb4_row28_col12,#T_2cfb4_row32_col12,#T_2cfb4_row35_col7,#T_2cfb4_row35_col18,#T_2cfb4_row38_col12,#T_2cfb4_row46_col42,#T_2cfb4_row49_col42,#T_2cfb4_row61_col42{\n",
       "            background-color:  #b6cefa;\n",
       "            color:  #000000;\n",
       "        }#T_2cfb4_row1_col7,#T_2cfb4_row2_col7,#T_2cfb4_row8_col14,#T_2cfb4_row8_col44,#T_2cfb4_row10_col5,#T_2cfb4_row13_col3,#T_2cfb4_row13_col4,#T_2cfb4_row15_col33,#T_2cfb4_row16_col30,#T_2cfb4_row16_col45,#T_2cfb4_row18_col45,#T_2cfb4_row19_col9,#T_2cfb4_row20_col9,#T_2cfb4_row22_col13,#T_2cfb4_row23_col30,#T_2cfb4_row26_col28,#T_2cfb4_row41_col7,#T_2cfb4_row43_col34,#T_2cfb4_row48_col22,#T_2cfb4_row49_col1,#T_2cfb4_row53_col2,#T_2cfb4_row57_col2,#T_2cfb4_row59_col3,#T_2cfb4_row59_col4,#T_2cfb4_row59_col5,#T_2cfb4_row60_col2,#T_2cfb4_row61_col3,#T_2cfb4_row61_col4,#T_2cfb4_row61_col5,#T_2cfb4_row61_col46{\n",
       "            background-color:  #94b6ff;\n",
       "            color:  #000000;\n",
       "        }#T_2cfb4_row1_col8,#T_2cfb4_row6_col40,#T_2cfb4_row6_col51,#T_2cfb4_row15_col51,#T_2cfb4_row25_col26,#T_2cfb4_row26_col18,#T_2cfb4_row27_col0,#T_2cfb4_row27_col18,#T_2cfb4_row27_col47,#T_2cfb4_row29_col18,#T_2cfb4_row30_col24,#T_2cfb4_row33_col39,#T_2cfb4_row35_col46,#T_2cfb4_row38_col9,#T_2cfb4_row38_col21,#T_2cfb4_row40_col53,#T_2cfb4_row42_col34,#T_2cfb4_row44_col3,#T_2cfb4_row44_col4,#T_2cfb4_row48_col0,#T_2cfb4_row49_col46,#T_2cfb4_row50_col22,#T_2cfb4_row54_col0,#T_2cfb4_row56_col0,#T_2cfb4_row60_col21,#T_2cfb4_row62_col13{\n",
       "            background-color:  #799cf8;\n",
       "            color:  #000000;\n",
       "        }#T_2cfb4_row1_col9,#T_2cfb4_row2_col9,#T_2cfb4_row5_col51,#T_2cfb4_row9_col7,#T_2cfb4_row14_col0,#T_2cfb4_row17_col13,#T_2cfb4_row19_col46,#T_2cfb4_row20_col46,#T_2cfb4_row25_col7,#T_2cfb4_row28_col45,#T_2cfb4_row32_col2,#T_2cfb4_row32_col44,#T_2cfb4_row33_col2,#T_2cfb4_row33_col44,#T_2cfb4_row34_col40,#T_2cfb4_row35_col2,#T_2cfb4_row36_col44,#T_2cfb4_row36_col45,#T_2cfb4_row37_col44,#T_2cfb4_row37_col45,#T_2cfb4_row38_col44,#T_2cfb4_row38_col45,#T_2cfb4_row39_col44,#T_2cfb4_row48_col17,#T_2cfb4_row48_col21,#T_2cfb4_row50_col45,#T_2cfb4_row51_col18,#T_2cfb4_row51_col22,#T_2cfb4_row53_col45,#T_2cfb4_row54_col44,#T_2cfb4_row54_col45,#T_2cfb4_row55_col45,#T_2cfb4_row57_col45,#T_2cfb4_row58_col1,#T_2cfb4_row59_col1,#T_2cfb4_row59_col2,#T_2cfb4_row60_col44,#T_2cfb4_row60_col45{\n",
       "            background-color:  #97b8ff;\n",
       "            color:  #000000;\n",
       "        }#T_2cfb4_row1_col10,#T_2cfb4_row2_col10,#T_2cfb4_row8_col34,#T_2cfb4_row12_col43,#T_2cfb4_row14_col3,#T_2cfb4_row14_col4,#T_2cfb4_row16_col21,#T_2cfb4_row25_col63,#T_2cfb4_row28_col33,#T_2cfb4_row33_col10,#T_2cfb4_row33_col42,#T_2cfb4_row35_col3,#T_2cfb4_row35_col4,#T_2cfb4_row42_col23,#T_2cfb4_row42_col39,#T_2cfb4_row47_col62{\n",
       "            background-color:  #c4d5f3;\n",
       "            color:  #000000;\n",
       "        }#T_2cfb4_row1_col11,#T_2cfb4_row2_col11,#T_2cfb4_row12_col25,#T_2cfb4_row23_col26,#T_2cfb4_row25_col37,#T_2cfb4_row30_col37,#T_2cfb4_row40_col21,#T_2cfb4_row40_col37,#T_2cfb4_row40_col41,#T_2cfb4_row40_col48,#T_2cfb4_row41_col40,#T_2cfb4_row44_col25,#T_2cfb4_row46_col48,#T_2cfb4_row47_col49,#T_2cfb4_row49_col37,#T_2cfb4_row50_col51,#T_2cfb4_row60_col37,#T_2cfb4_row61_col37{\n",
       "            background-color:  #4358cb;\n",
       "            color:  #f1f1f1;\n",
       "        }#T_2cfb4_row1_col12,#T_2cfb4_row2_col12,#T_2cfb4_row5_col12,#T_2cfb4_row10_col43,#T_2cfb4_row13_col42,#T_2cfb4_row19_col43,#T_2cfb4_row20_col43,#T_2cfb4_row24_col12,#T_2cfb4_row32_col41,#T_2cfb4_row32_col42,#T_2cfb4_row34_col10,#T_2cfb4_row35_col21,#T_2cfb4_row36_col40,#T_2cfb4_row36_col42,#T_2cfb4_row37_col42,#T_2cfb4_row48_col43,#T_2cfb4_row49_col24,#T_2cfb4_row52_col41,#T_2cfb4_row53_col41,#T_2cfb4_row55_col19,#T_2cfb4_row55_col20,#T_2cfb4_row57_col40,#T_2cfb4_row57_col41,#T_2cfb4_row58_col40,#T_2cfb4_row58_col41,#T_2cfb4_row59_col41,#T_2cfb4_row63_col4,#T_2cfb4_row63_col12{\n",
       "            background-color:  #adc9fd;\n",
       "            color:  #000000;\n",
       "        }#T_2cfb4_row1_col14,#T_2cfb4_row2_col14,#T_2cfb4_row8_col38,#T_2cfb4_row9_col51,#T_2cfb4_row10_col21,#T_2cfb4_row12_col7,#T_2cfb4_row12_col24,#T_2cfb4_row13_col51,#T_2cfb4_row15_col5,#T_2cfb4_row18_col46,#T_2cfb4_row19_col21,#T_2cfb4_row20_col21,#T_2cfb4_row26_col21,#T_2cfb4_row28_col34,#T_2cfb4_row30_col23,#T_2cfb4_row31_col17,#T_2cfb4_row31_col18,#T_2cfb4_row42_col51,#T_2cfb4_row48_col45,#T_2cfb4_row52_col21,#T_2cfb4_row53_col22,#T_2cfb4_row59_col13,#T_2cfb4_row60_col24,#T_2cfb4_row61_col1{\n",
       "            background-color:  #7da0f9;\n",
       "            color:  #000000;\n",
       "        }#T_2cfb4_row1_col15,#T_2cfb4_row1_col44,#T_2cfb4_row1_col62,#T_2cfb4_row2_col15,#T_2cfb4_row2_col44,#T_2cfb4_row7_col47,#T_2cfb4_row11_col21,#T_2cfb4_row11_col38,#T_2cfb4_row12_col5,#T_2cfb4_row13_col7,#T_2cfb4_row19_col47,#T_2cfb4_row20_col47,#T_2cfb4_row24_col34,#T_2cfb4_row24_col43,#T_2cfb4_row27_col17,#T_2cfb4_row29_col7,#T_2cfb4_row31_col23,#T_2cfb4_row32_col7,#T_2cfb4_row35_col14,#T_2cfb4_row37_col7,#T_2cfb4_row37_col38,#T_2cfb4_row39_col52,#T_2cfb4_row40_col13,#T_2cfb4_row40_col38,#T_2cfb4_row42_col44,#T_2cfb4_row43_col38,#T_2cfb4_row47_col23,#T_2cfb4_row50_col3,#T_2cfb4_row50_col4,#T_2cfb4_row50_col5,#T_2cfb4_row50_col38,#T_2cfb4_row53_col23,#T_2cfb4_row53_col38,#T_2cfb4_row54_col38,#T_2cfb4_row56_col7,#T_2cfb4_row56_col24,#T_2cfb4_row56_col38,#T_2cfb4_row57_col38,#T_2cfb4_row58_col24,#T_2cfb4_row58_col38,#T_2cfb4_row59_col38,#T_2cfb4_row61_col44{\n",
       "            background-color:  #88abfd;\n",
       "            color:  #000000;\n",
       "        }#T_2cfb4_row1_col16,#T_2cfb4_row1_col53,#T_2cfb4_row1_col60,#T_2cfb4_row2_col16,#T_2cfb4_row2_col53,#T_2cfb4_row2_col60,#T_2cfb4_row3_col27,#T_2cfb4_row4_col27,#T_2cfb4_row7_col27,#T_2cfb4_row8_col11,#T_2cfb4_row8_col53,#T_2cfb4_row9_col52,#T_2cfb4_row10_col53,#T_2cfb4_row11_col9,#T_2cfb4_row12_col60,#T_2cfb4_row13_col57,#T_2cfb4_row14_col53,#T_2cfb4_row15_col52,#T_2cfb4_row22_col48,#T_2cfb4_row23_col55,#T_2cfb4_row28_col53,#T_2cfb4_row29_col15,#T_2cfb4_row29_col47,#T_2cfb4_row30_col52,#T_2cfb4_row30_col53,#T_2cfb4_row30_col60,#T_2cfb4_row31_col53,#T_2cfb4_row33_col11,#T_2cfb4_row34_col13,#T_2cfb4_row34_col52,#T_2cfb4_row38_col53,#T_2cfb4_row39_col9,#T_2cfb4_row44_col8,#T_2cfb4_row45_col60,#T_2cfb4_row46_col18,#T_2cfb4_row48_col46,#T_2cfb4_row51_col15,#T_2cfb4_row51_col47,#T_2cfb4_row52_col8,#T_2cfb4_row53_col9,#T_2cfb4_row53_col18,#T_2cfb4_row54_col9,#T_2cfb4_row54_col18,#T_2cfb4_row55_col18,#T_2cfb4_row61_col0,#T_2cfb4_row61_col18,#T_2cfb4_row63_col52{\n",
       "            background-color:  #6e90f2;\n",
       "            color:  #000000;\n",
       "        }#T_2cfb4_row1_col17,#T_2cfb4_row2_col17,#T_2cfb4_row3_col44,#T_2cfb4_row4_col44,#T_2cfb4_row5_col44,#T_2cfb4_row7_col9,#T_2cfb4_row10_col17,#T_2cfb4_row11_col2,#T_2cfb4_row11_col44,#T_2cfb4_row12_col21,#T_2cfb4_row12_col46,#T_2cfb4_row17_col0,#T_2cfb4_row17_col43,#T_2cfb4_row17_col51,#T_2cfb4_row21_col38,#T_2cfb4_row22_col38,#T_2cfb4_row22_col47,#T_2cfb4_row26_col47,#T_2cfb4_row27_col22,#T_2cfb4_row28_col1,#T_2cfb4_row28_col13,#T_2cfb4_row28_col16,#T_2cfb4_row28_col17,#T_2cfb4_row30_col3,#T_2cfb4_row30_col4,#T_2cfb4_row31_col22,#T_2cfb4_row32_col22,#T_2cfb4_row35_col0,#T_2cfb4_row37_col22,#T_2cfb4_row38_col24,#T_2cfb4_row41_col8,#T_2cfb4_row43_col7,#T_2cfb4_row44_col43,#T_2cfb4_row50_col17,#T_2cfb4_row50_col24,#T_2cfb4_row52_col24,#T_2cfb4_row54_col17,#T_2cfb4_row54_col21,#T_2cfb4_row55_col17,#T_2cfb4_row58_col0,#T_2cfb4_row59_col0,#T_2cfb4_row61_col9{\n",
       "            background-color:  #80a3fa;\n",
       "            color:  #000000;\n",
       "        }#T_2cfb4_row1_col19,#T_2cfb4_row1_col20,#T_2cfb4_row2_col19,#T_2cfb4_row2_col20,#T_2cfb4_row19_col3,#T_2cfb4_row19_col4,#T_2cfb4_row20_col3,#T_2cfb4_row20_col4{\n",
       "            background-color:  #f6bea4;\n",
       "            color:  #000000;\n",
       "        }#T_2cfb4_row1_col23,#T_2cfb4_row2_col23,#T_2cfb4_row6_col44,#T_2cfb4_row12_col49,#T_2cfb4_row13_col37,#T_2cfb4_row39_col51,#T_2cfb4_row43_col48,#T_2cfb4_row54_col51{\n",
       "            background-color:  #445acc;\n",
       "            color:  #f1f1f1;\n",
       "        }#T_2cfb4_row1_col25,#T_2cfb4_row2_col25,#T_2cfb4_row3_col36,#T_2cfb4_row3_col37,#T_2cfb4_row4_col36,#T_2cfb4_row4_col37,#T_2cfb4_row5_col36,#T_2cfb4_row6_col36,#T_2cfb4_row7_col36,#T_2cfb4_row8_col36,#T_2cfb4_row9_col36,#T_2cfb4_row10_col36,#T_2cfb4_row12_col36,#T_2cfb4_row14_col36,#T_2cfb4_row16_col36,#T_2cfb4_row17_col36,#T_2cfb4_row18_col36,#T_2cfb4_row25_col36,#T_2cfb4_row28_col36,#T_2cfb4_row29_col36,#T_2cfb4_row30_col31,#T_2cfb4_row31_col36,#T_2cfb4_row32_col36,#T_2cfb4_row34_col36,#T_2cfb4_row37_col36,#T_2cfb4_row40_col49,#T_2cfb4_row41_col37,#T_2cfb4_row43_col36,#T_2cfb4_row44_col36,#T_2cfb4_row45_col36,#T_2cfb4_row45_col46,#T_2cfb4_row46_col36,#T_2cfb4_row49_col36,#T_2cfb4_row50_col36,#T_2cfb4_row51_col36,#T_2cfb4_row52_col36,#T_2cfb4_row53_col36,#T_2cfb4_row54_col36,#T_2cfb4_row55_col36,#T_2cfb4_row56_col36,#T_2cfb4_row57_col36,#T_2cfb4_row58_col36,#T_2cfb4_row60_col51,#T_2cfb4_row61_col36,#T_2cfb4_row62_col25,#T_2cfb4_row62_col27{\n",
       "            background-color:  #3e51c5;\n",
       "            color:  #f1f1f1;\n",
       "        }#T_2cfb4_row1_col26,#T_2cfb4_row2_col26,#T_2cfb4_row6_col32,#T_2cfb4_row8_col32,#T_2cfb4_row8_col49,#T_2cfb4_row10_col32,#T_2cfb4_row11_col32,#T_2cfb4_row12_col14,#T_2cfb4_row22_col1,#T_2cfb4_row22_col25,#T_2cfb4_row23_col2,#T_2cfb4_row30_col32,#T_2cfb4_row31_col32,#T_2cfb4_row33_col32,#T_2cfb4_row35_col32,#T_2cfb4_row36_col32,#T_2cfb4_row37_col32,#T_2cfb4_row39_col29,#T_2cfb4_row40_col11,#T_2cfb4_row41_col32,#T_2cfb4_row42_col25,#T_2cfb4_row42_col32,#T_2cfb4_row43_col15,#T_2cfb4_row43_col46,#T_2cfb4_row45_col32,#T_2cfb4_row46_col25,#T_2cfb4_row46_col32,#T_2cfb4_row47_col32,#T_2cfb4_row48_col29,#T_2cfb4_row49_col29,#T_2cfb4_row49_col32,#T_2cfb4_row50_col29,#T_2cfb4_row51_col29,#T_2cfb4_row52_col29,#T_2cfb4_row52_col58,#T_2cfb4_row53_col29,#T_2cfb4_row61_col21,#T_2cfb4_row62_col32,#T_2cfb4_row62_col48{\n",
       "            background-color:  #506bda;\n",
       "            color:  #000000;\n",
       "        }#T_2cfb4_row1_col27,#T_2cfb4_row2_col27,#T_2cfb4_row5_col29,#T_2cfb4_row7_col29,#T_2cfb4_row9_col49,#T_2cfb4_row10_col49,#T_2cfb4_row16_col49,#T_2cfb4_row17_col32,#T_2cfb4_row21_col1,#T_2cfb4_row21_col15,#T_2cfb4_row31_col49,#T_2cfb4_row33_col25,#T_2cfb4_row33_col29,#T_2cfb4_row40_col8,#T_2cfb4_row43_col9,#T_2cfb4_row44_col29,#T_2cfb4_row52_col59,#T_2cfb4_row55_col29,#T_2cfb4_row59_col51,#T_2cfb4_row61_col22,#T_2cfb4_row61_col29{\n",
       "            background-color:  #4e68d8;\n",
       "            color:  #000000;\n",
       "        }#T_2cfb4_row1_col28,#T_2cfb4_row1_col38,#T_2cfb4_row2_col38,#T_2cfb4_row3_col0,#T_2cfb4_row5_col61,#T_2cfb4_row7_col45,#T_2cfb4_row7_col51,#T_2cfb4_row9_col16,#T_2cfb4_row13_col24,#T_2cfb4_row16_col40,#T_2cfb4_row17_col1,#T_2cfb4_row17_col23,#T_2cfb4_row21_col30,#T_2cfb4_row21_col45,#T_2cfb4_row22_col30,#T_2cfb4_row22_col45,#T_2cfb4_row23_col63,#T_2cfb4_row25_col44,#T_2cfb4_row28_col44,#T_2cfb4_row32_col5,#T_2cfb4_row36_col1,#T_2cfb4_row36_col3,#T_2cfb4_row36_col5,#T_2cfb4_row37_col61,#T_2cfb4_row39_col28,#T_2cfb4_row43_col1,#T_2cfb4_row43_col2,#T_2cfb4_row45_col61,#T_2cfb4_row46_col7,#T_2cfb4_row54_col1,#T_2cfb4_row54_col2,#T_2cfb4_row57_col3,#T_2cfb4_row57_col4,#T_2cfb4_row60_col61{\n",
       "            background-color:  #92b4fe;\n",
       "            color:  #000000;\n",
       "        }#T_2cfb4_row1_col29,#T_2cfb4_row2_col29,#T_2cfb4_row3_col31,#T_2cfb4_row3_col50,#T_2cfb4_row4_col31,#T_2cfb4_row4_col50,#T_2cfb4_row5_col31,#T_2cfb4_row6_col59,#T_2cfb4_row7_col31,#T_2cfb4_row9_col31,#T_2cfb4_row10_col11,#T_2cfb4_row11_col16,#T_2cfb4_row11_col27,#T_2cfb4_row13_col0,#T_2cfb4_row14_col17,#T_2cfb4_row15_col59,#T_2cfb4_row16_col59,#T_2cfb4_row18_col59,#T_2cfb4_row23_col59,#T_2cfb4_row24_col31,#T_2cfb4_row26_col25,#T_2cfb4_row26_col59,#T_2cfb4_row27_col59,#T_2cfb4_row29_col16,#T_2cfb4_row30_col11,#T_2cfb4_row30_col18,#T_2cfb4_row30_col26,#T_2cfb4_row31_col59,#T_2cfb4_row34_col17,#T_2cfb4_row34_col31,#T_2cfb4_row35_col52,#T_2cfb4_row35_col54,#T_2cfb4_row36_col59,#T_2cfb4_row39_col3,#T_2cfb4_row39_col4,#T_2cfb4_row39_col5,#T_2cfb4_row39_col58,#T_2cfb4_row40_col59,#T_2cfb4_row41_col26,#T_2cfb4_row41_col59,#T_2cfb4_row44_col59,#T_2cfb4_row45_col26,#T_2cfb4_row45_col59,#T_2cfb4_row47_col46,#T_2cfb4_row47_col59,#T_2cfb4_row48_col31,#T_2cfb4_row49_col34,#T_2cfb4_row51_col31,#T_2cfb4_row55_col16,#T_2cfb4_row57_col34,#T_2cfb4_row59_col14,#T_2cfb4_row61_col16,#T_2cfb4_row61_col59,#T_2cfb4_row62_col34,#T_2cfb4_row63_col59{\n",
       "            background-color:  #6180e9;\n",
       "            color:  #000000;\n",
       "        }#T_2cfb4_row1_col35,#T_2cfb4_row1_col41,#T_2cfb4_row2_col41,#T_2cfb4_row14_col19,#T_2cfb4_row14_col20,#T_2cfb4_row15_col39,#T_2cfb4_row18_col63,#T_2cfb4_row29_col35,#T_2cfb4_row29_col39,#T_2cfb4_row32_col35,#T_2cfb4_row32_col39,#T_2cfb4_row33_col43,#T_2cfb4_row33_col62,#T_2cfb4_row38_col63,#T_2cfb4_row41_col19,#T_2cfb4_row41_col20,#T_2cfb4_row45_col6,#T_2cfb4_row49_col35,#T_2cfb4_row49_col39,#T_2cfb4_row52_col62,#T_2cfb4_row54_col62,#T_2cfb4_row55_col62,#T_2cfb4_row56_col35,#T_2cfb4_row56_col39,#T_2cfb4_row60_col62{\n",
       "            background-color:  #d1dae9;\n",
       "            color:  #000000;\n",
       "        }#T_2cfb4_row1_col43,#T_2cfb4_row3_col34,#T_2cfb4_row3_col62,#T_2cfb4_row4_col34,#T_2cfb4_row4_col62,#T_2cfb4_row5_col34,#T_2cfb4_row13_col6,#T_2cfb4_row16_col17,#T_2cfb4_row17_col12,#T_2cfb4_row18_col8,#T_2cfb4_row24_col10,#T_2cfb4_row25_col10,#T_2cfb4_row26_col42,#T_2cfb4_row34_col22,#T_2cfb4_row35_col28,#T_2cfb4_row45_col10,#T_2cfb4_row45_col19,#T_2cfb4_row45_col20,#T_2cfb4_row47_col10,#T_2cfb4_row49_col19,#T_2cfb4_row49_col20,#T_2cfb4_row50_col6,#T_2cfb4_row51_col43,#T_2cfb4_row52_col6,#T_2cfb4_row53_col6,#T_2cfb4_row54_col6,#T_2cfb4_row56_col12,#T_2cfb4_row63_col24{\n",
       "            background-color:  #bad0f8;\n",
       "            color:  #000000;\n",
       "        }#T_2cfb4_row1_col47,#T_2cfb4_row2_col47,#T_2cfb4_row9_col34,#T_2cfb4_row11_col52,#T_2cfb4_row14_col13,#T_2cfb4_row25_col47,#T_2cfb4_row25_col52,#T_2cfb4_row26_col51,#T_2cfb4_row27_col51,#T_2cfb4_row28_col63,#T_2cfb4_row30_col13,#T_2cfb4_row31_col9,#T_2cfb4_row36_col18,#T_2cfb4_row41_col9,#T_2cfb4_row42_col13,#T_2cfb4_row43_col52,#T_2cfb4_row43_col61,#T_2cfb4_row44_col52,#T_2cfb4_row45_col51,#T_2cfb4_row46_col11,#T_2cfb4_row47_col18,#T_2cfb4_row47_col51,#T_2cfb4_row48_col18,#T_2cfb4_row48_col51,#T_2cfb4_row49_col9,#T_2cfb4_row49_col51,#T_2cfb4_row55_col0,#T_2cfb4_row59_col9,#T_2cfb4_row62_col7,#T_2cfb4_row62_col60,#T_2cfb4_row63_col16{\n",
       "            background-color:  #7597f6;\n",
       "            color:  #000000;\n",
       "        }#T_2cfb4_row1_col48,#T_2cfb4_row2_col48,#T_2cfb4_row5_col25,#T_2cfb4_row16_col11,#T_2cfb4_row17_col15,#T_2cfb4_row17_col49,#T_2cfb4_row21_col0,#T_2cfb4_row21_col27,#T_2cfb4_row29_col27,#T_2cfb4_row32_col27,#T_2cfb4_row35_col50,#T_2cfb4_row35_col60,#T_2cfb4_row38_col27,#T_2cfb4_row40_col15,#T_2cfb4_row43_col45,#T_2cfb4_row50_col27,#T_2cfb4_row50_col54,#T_2cfb4_row52_col27,#T_2cfb4_row52_col53,#T_2cfb4_row52_col60,#T_2cfb4_row53_col27,#T_2cfb4_row54_col27,#T_2cfb4_row54_col56,#T_2cfb4_row54_col57,#T_2cfb4_row55_col27,#T_2cfb4_row55_col50,#T_2cfb4_row55_col54,#T_2cfb4_row56_col27,#T_2cfb4_row56_col57,#T_2cfb4_row57_col27,#T_2cfb4_row57_col56,#T_2cfb4_row60_col27{\n",
       "            background-color:  #5673e0;\n",
       "            color:  #000000;\n",
       "        }#T_2cfb4_row1_col49,#T_2cfb4_row2_col49,#T_2cfb4_row13_col29,#T_2cfb4_row15_col16,#T_2cfb4_row15_col49,#T_2cfb4_row16_col29,#T_2cfb4_row23_col25,#T_2cfb4_row29_col25,#T_2cfb4_row32_col25,#T_2cfb4_row32_col49,#T_2cfb4_row33_col49,#T_2cfb4_row36_col25,#T_2cfb4_row36_col49,#T_2cfb4_row38_col49,#T_2cfb4_row39_col49,#T_2cfb4_row40_col34,#T_2cfb4_row45_col25,#T_2cfb4_row50_col49,#T_2cfb4_row55_col25,#T_2cfb4_row56_col25,#T_2cfb4_row57_col49,#T_2cfb4_row58_col25,#T_2cfb4_row58_col49,#T_2cfb4_row59_col25,#T_2cfb4_row59_col49,#T_2cfb4_row61_col23{\n",
       "            background-color:  #4a63d3;\n",
       "            color:  #f1f1f1;\n",
       "        }#T_2cfb4_row1_col55,#T_2cfb4_row1_col56,#T_2cfb4_row2_col55,#T_2cfb4_row2_col56,#T_2cfb4_row5_col50,#T_2cfb4_row10_col13,#T_2cfb4_row10_col59,#T_2cfb4_row11_col59,#T_2cfb4_row12_col59,#T_2cfb4_row14_col15,#T_2cfb4_row15_col26,#T_2cfb4_row15_col31,#T_2cfb4_row22_col11,#T_2cfb4_row23_col9,#T_2cfb4_row24_col25,#T_2cfb4_row24_col27,#T_2cfb4_row25_col31,#T_2cfb4_row25_col59,#T_2cfb4_row26_col31,#T_2cfb4_row27_col25,#T_2cfb4_row28_col15,#T_2cfb4_row29_col34,#T_2cfb4_row29_col59,#T_2cfb4_row30_col59,#T_2cfb4_row32_col13,#T_2cfb4_row32_col59,#T_2cfb4_row34_col59,#T_2cfb4_row37_col11,#T_2cfb4_row37_col59,#T_2cfb4_row39_col7,#T_2cfb4_row42_col0,#T_2cfb4_row42_col31,#T_2cfb4_row43_col59,#T_2cfb4_row45_col31,#T_2cfb4_row46_col59,#T_2cfb4_row48_col59,#T_2cfb4_row49_col59,#T_2cfb4_row53_col16,#T_2cfb4_row54_col16,#T_2cfb4_row54_col34,#T_2cfb4_row55_col34,#T_2cfb4_row56_col34,#T_2cfb4_row57_col31,#T_2cfb4_row58_col14,#T_2cfb4_row58_col52,#T_2cfb4_row59_col53,#T_2cfb4_row59_col60{\n",
       "            background-color:  #5f7fe8;\n",
       "            color:  #000000;\n",
       "        }#T_2cfb4_row1_col61,#T_2cfb4_row2_col61,#T_2cfb4_row3_col13,#T_2cfb4_row4_col13,#T_2cfb4_row14_col11,#T_2cfb4_row15_col18,#T_2cfb4_row25_col8,#T_2cfb4_row26_col8,#T_2cfb4_row26_col9,#T_2cfb4_row27_col23,#T_2cfb4_row28_col47,#T_2cfb4_row30_col7,#T_2cfb4_row31_col8,#T_2cfb4_row33_col46,#T_2cfb4_row37_col13,#T_2cfb4_row38_col17,#T_2cfb4_row38_col22,#T_2cfb4_row41_col18,#T_2cfb4_row41_col21,#T_2cfb4_row41_col22,#T_2cfb4_row44_col7,#T_2cfb4_row44_col22,#T_2cfb4_row47_col26,#T_2cfb4_row49_col8,#T_2cfb4_row49_col18,#T_2cfb4_row56_col13,#T_2cfb4_row60_col0,#T_2cfb4_row62_col52,#T_2cfb4_row63_col15{\n",
       "            background-color:  #779af7;\n",
       "            color:  #000000;\n",
       "        }#T_2cfb4_row1_col63{\n",
       "            background-color:  #f7b497;\n",
       "            color:  #000000;\n",
       "        }#T_2cfb4_row2_col43,#T_2cfb4_row5_col62,#T_2cfb4_row7_col10,#T_2cfb4_row9_col17,#T_2cfb4_row11_col10,#T_2cfb4_row14_col42,#T_2cfb4_row16_col28,#T_2cfb4_row21_col39,#T_2cfb4_row22_col39,#T_2cfb4_row34_col28,#T_2cfb4_row41_col10,#T_2cfb4_row41_col43,#T_2cfb4_row44_col12,#T_2cfb4_row48_col10,#T_2cfb4_row55_col12,#T_2cfb4_row57_col12,#T_2cfb4_row60_col6,#T_2cfb4_row63_col43{\n",
       "            background-color:  #b9d0f9;\n",
       "            color:  #000000;\n",
       "        }#T_2cfb4_row2_col63{\n",
       "            background-color:  #f7b396;\n",
       "            color:  #000000;\n",
       "        }#T_2cfb4_row3_col5,#T_2cfb4_row5_col3{\n",
       "            background-color:  #b50927;\n",
       "            color:  #f1f1f1;\n",
       "        }#T_2cfb4_row3_col6,#T_2cfb4_row4_col6,#T_2cfb4_row5_col6,#T_2cfb4_row14_col33,#T_2cfb4_row40_col39,#T_2cfb4_row43_col35,#T_2cfb4_row62_col22{\n",
       "            background-color:  #dadce0;\n",
       "            color:  #000000;\n",
       "        }#T_2cfb4_row3_col7,#T_2cfb4_row4_col7,#T_2cfb4_row7_col3,#T_2cfb4_row7_col4,#T_2cfb4_row7_col5,#T_2cfb4_row22_col23,#T_2cfb4_row23_col22{\n",
       "            background-color:  #c12b30;\n",
       "            color:  #f1f1f1;\n",
       "        }#T_2cfb4_row3_col8,#T_2cfb4_row4_col8,#T_2cfb4_row6_col46,#T_2cfb4_row49_col6{\n",
       "            background-color:  #e1dad6;\n",
       "            color:  #000000;\n",
       "        }#T_2cfb4_row3_col9,#T_2cfb4_row4_col9,#T_2cfb4_row6_col23,#T_2cfb4_row7_col38,#T_2cfb4_row10_col23,#T_2cfb4_row12_col15,#T_2cfb4_row14_col46,#T_2cfb4_row21_col14,#T_2cfb4_row23_col40,#T_2cfb4_row24_col38,#T_2cfb4_row27_col21,#T_2cfb4_row28_col2,#T_2cfb4_row31_col0,#T_2cfb4_row32_col21,#T_2cfb4_row32_col46,#T_2cfb4_row33_col61,#T_2cfb4_row36_col22,#T_2cfb4_row37_col17,#T_2cfb4_row37_col21,#T_2cfb4_row38_col0,#T_2cfb4_row38_col7,#T_2cfb4_row38_col23,#T_2cfb4_row43_col18,#T_2cfb4_row45_col7,#T_2cfb4_row46_col21,#T_2cfb4_row47_col0,#T_2cfb4_row52_col7,#T_2cfb4_row52_col46,#T_2cfb4_row53_col24,#T_2cfb4_row53_col46,#T_2cfb4_row55_col22,#T_2cfb4_row55_col46,#T_2cfb4_row56_col17,#T_2cfb4_row56_col22,#T_2cfb4_row56_col46,#T_2cfb4_row57_col22,#T_2cfb4_row58_col21,#T_2cfb4_row58_col46,#T_2cfb4_row59_col22,#T_2cfb4_row59_col46,#T_2cfb4_row60_col46,#T_2cfb4_row63_col51{\n",
       "            background-color:  #82a6fb;\n",
       "            color:  #000000;\n",
       "        }#T_2cfb4_row3_col12,#T_2cfb4_row4_col12,#T_2cfb4_row12_col41,#T_2cfb4_row15_col43,#T_2cfb4_row17_col9,#T_2cfb4_row25_col41,#T_2cfb4_row27_col41,#T_2cfb4_row28_col41,#T_2cfb4_row29_col42,#T_2cfb4_row31_col33,#T_2cfb4_row32_col40,#T_2cfb4_row33_col41,#T_2cfb4_row35_col22,#T_2cfb4_row36_col41,#T_2cfb4_row46_col24,#T_2cfb4_row48_col41,#T_2cfb4_row49_col28,#T_2cfb4_row49_col41,#T_2cfb4_row54_col41,#T_2cfb4_row55_col41,#T_2cfb4_row56_col41,#T_2cfb4_row57_col42,#T_2cfb4_row58_col42,#T_2cfb4_row59_col40,#T_2cfb4_row59_col42,#T_2cfb4_row62_col33,#T_2cfb4_row62_col42,#T_2cfb4_row63_col3{\n",
       "            background-color:  #abc8fd;\n",
       "            color:  #000000;\n",
       "        }#T_2cfb4_row3_col16,#T_2cfb4_row4_col16,#T_2cfb4_row11_col39,#T_2cfb4_row12_col63,#T_2cfb4_row14_col9,#T_2cfb4_row17_col19,#T_2cfb4_row17_col20,#T_2cfb4_row23_col43,#T_2cfb4_row25_col6,#T_2cfb4_row33_col21,#T_2cfb4_row39_col6,#T_2cfb4_row45_col62,#T_2cfb4_row47_col19,#T_2cfb4_row47_col20,#T_2cfb4_row48_col62,#T_2cfb4_row51_col62{\n",
       "            background-color:  #c7d7f0;\n",
       "            color:  #000000;\n",
       "        }#T_2cfb4_row3_col18,#T_2cfb4_row4_col18,#T_2cfb4_row5_col18,#T_2cfb4_row8_col41,#T_2cfb4_row10_col33,#T_2cfb4_row11_col42,#T_2cfb4_row15_col41,#T_2cfb4_row17_col42,#T_2cfb4_row26_col62,#T_2cfb4_row28_col43,#T_2cfb4_row29_col19,#T_2cfb4_row29_col20,#T_2cfb4_row29_col43,#T_2cfb4_row31_col19,#T_2cfb4_row31_col20,#T_2cfb4_row31_col43,#T_2cfb4_row33_col24,#T_2cfb4_row34_col14,#T_2cfb4_row34_col18,#T_2cfb4_row34_col39,#T_2cfb4_row42_col12,#T_2cfb4_row49_col10,#T_2cfb4_row54_col12{\n",
       "            background-color:  #b7cff9;\n",
       "            color:  #000000;\n",
       "        }#T_2cfb4_row3_col19,#T_2cfb4_row3_col20,#T_2cfb4_row4_col19,#T_2cfb4_row4_col20{\n",
       "            background-color:  #f7af91;\n",
       "            color:  #000000;\n",
       "        }#T_2cfb4_row3_col21,#T_2cfb4_row3_col22,#T_2cfb4_row4_col21,#T_2cfb4_row4_col22,#T_2cfb4_row5_col22{\n",
       "            background-color:  #ee8468;\n",
       "            color:  #000000;\n",
       "        }#T_2cfb4_row3_col23,#T_2cfb4_row23_col5,#T_2cfb4_row24_col21{\n",
       "            background-color:  #f7a98b;\n",
       "            color:  #000000;\n",
       "        }#T_2cfb4_row3_col24,#T_2cfb4_row4_col24{\n",
       "            background-color:  #f08b6e;\n",
       "            color:  #000000;\n",
       "        }#T_2cfb4_row3_col28,#T_2cfb4_row3_col42,#T_2cfb4_row4_col28,#T_2cfb4_row4_col42,#T_2cfb4_row5_col28,#T_2cfb4_row5_col42,#T_2cfb4_row7_col33,#T_2cfb4_row21_col42,#T_2cfb4_row22_col42,#T_2cfb4_row23_col24{\n",
       "            background-color:  #e3d9d3;\n",
       "            color:  #000000;\n",
       "        }#T_2cfb4_row3_col29,#T_2cfb4_row4_col29,#T_2cfb4_row16_col15,#T_2cfb4_row16_col25,#T_2cfb4_row18_col49,#T_2cfb4_row23_col49,#T_2cfb4_row24_col29,#T_2cfb4_row28_col29,#T_2cfb4_row34_col15,#T_2cfb4_row37_col25,#T_2cfb4_row37_col49,#T_2cfb4_row40_col27,#T_2cfb4_row43_col27,#T_2cfb4_row44_col27,#T_2cfb4_row60_col25,#T_2cfb4_row62_col9{\n",
       "            background-color:  #4c66d6;\n",
       "            color:  #000000;\n",
       "        }#T_2cfb4_row3_col30,#T_2cfb4_row4_col30,#T_2cfb4_row5_col30,#T_2cfb4_row7_col0,#T_2cfb4_row7_col30,#T_2cfb4_row9_col38,#T_2cfb4_row10_col61,#T_2cfb4_row16_col51,#T_2cfb4_row19_col34,#T_2cfb4_row20_col34,#T_2cfb4_row22_col44,#T_2cfb4_row26_col24,#T_2cfb4_row29_col5,#T_2cfb4_row32_col3,#T_2cfb4_row32_col4,#T_2cfb4_row33_col51,#T_2cfb4_row36_col4,#T_2cfb4_row36_col61,#T_2cfb4_row42_col17,#T_2cfb4_row45_col5,#T_2cfb4_row49_col21,#T_2cfb4_row50_col61,#T_2cfb4_row55_col61,#T_2cfb4_row56_col5,#T_2cfb4_row56_col61,#T_2cfb4_row57_col61,#T_2cfb4_row59_col61,#T_2cfb4_row61_col17,#T_2cfb4_row63_col17{\n",
       "            background-color:  #90b2fe;\n",
       "            color:  #000000;\n",
       "        }#T_2cfb4_row3_col32,#T_2cfb4_row4_col32,#T_2cfb4_row5_col32,#T_2cfb4_row7_col32,#T_2cfb4_row8_col29,#T_2cfb4_row9_col29,#T_2cfb4_row9_col32,#T_2cfb4_row11_col29,#T_2cfb4_row14_col32,#T_2cfb4_row14_col49,#T_2cfb4_row16_col32,#T_2cfb4_row19_col32,#T_2cfb4_row20_col32,#T_2cfb4_row21_col2,#T_2cfb4_row21_col32,#T_2cfb4_row22_col15,#T_2cfb4_row22_col32,#T_2cfb4_row23_col1,#T_2cfb4_row23_col15,#T_2cfb4_row23_col32,#T_2cfb4_row23_col61,#T_2cfb4_row24_col32,#T_2cfb4_row25_col29,#T_2cfb4_row25_col32,#T_2cfb4_row26_col29,#T_2cfb4_row26_col32,#T_2cfb4_row27_col29,#T_2cfb4_row27_col32,#T_2cfb4_row28_col26,#T_2cfb4_row28_col32,#T_2cfb4_row34_col32,#T_2cfb4_row35_col29,#T_2cfb4_row36_col29,#T_2cfb4_row37_col29,#T_2cfb4_row38_col29,#T_2cfb4_row38_col32,#T_2cfb4_row39_col32,#T_2cfb4_row40_col32,#T_2cfb4_row40_col47,#T_2cfb4_row42_col29,#T_2cfb4_row43_col32,#T_2cfb4_row44_col32,#T_2cfb4_row48_col32,#T_2cfb4_row51_col32,#T_2cfb4_row52_col32,#T_2cfb4_row53_col32,#T_2cfb4_row53_col59,#T_2cfb4_row54_col29,#T_2cfb4_row54_col32,#T_2cfb4_row55_col32,#T_2cfb4_row56_col29,#T_2cfb4_row56_col32,#T_2cfb4_row57_col29,#T_2cfb4_row57_col32,#T_2cfb4_row58_col29,#T_2cfb4_row58_col32,#T_2cfb4_row59_col29,#T_2cfb4_row59_col32,#T_2cfb4_row60_col29,#T_2cfb4_row60_col32,#T_2cfb4_row60_col59,#T_2cfb4_row61_col32,#T_2cfb4_row63_col32{\n",
       "            background-color:  #4f69d9;\n",
       "            color:  #000000;\n",
       "        }#T_2cfb4_row3_col33,#T_2cfb4_row4_col33,#T_2cfb4_row5_col33,#T_2cfb4_row7_col35,#T_2cfb4_row19_col7,#T_2cfb4_row20_col7,#T_2cfb4_row24_col63{\n",
       "            background-color:  #e9d5cb;\n",
       "            color:  #000000;\n",
       "        }#T_2cfb4_row3_col35,#T_2cfb4_row4_col35,#T_2cfb4_row5_col35,#T_2cfb4_row34_col33{\n",
       "            background-color:  #ecd3c5;\n",
       "            color:  #000000;\n",
       "        }#T_2cfb4_row3_col40,#T_2cfb4_row4_col40,#T_2cfb4_row7_col25,#T_2cfb4_row9_col15,#T_2cfb4_row14_col27,#T_2cfb4_row15_col48,#T_2cfb4_row16_col48,#T_2cfb4_row17_col18,#T_2cfb4_row19_col28,#T_2cfb4_row20_col28,#T_2cfb4_row22_col0,#T_2cfb4_row24_col15,#T_2cfb4_row29_col11,#T_2cfb4_row29_col48,#T_2cfb4_row36_col11,#T_2cfb4_row36_col48,#T_2cfb4_row38_col11,#T_2cfb4_row38_col14,#T_2cfb4_row40_col18,#T_2cfb4_row50_col53,#T_2cfb4_row50_col60,#T_2cfb4_row51_col48,#T_2cfb4_row53_col52,#T_2cfb4_row55_col53,#T_2cfb4_row55_col60,#T_2cfb4_row58_col11,#T_2cfb4_row58_col50,#T_2cfb4_row58_col55,#T_2cfb4_row59_col11,#T_2cfb4_row59_col54,#T_2cfb4_row59_col56,#T_2cfb4_row59_col57,#T_2cfb4_row60_col14,#T_2cfb4_row60_col52,#T_2cfb4_row62_col15,#T_2cfb4_row62_col16{\n",
       "            background-color:  #5a78e4;\n",
       "            color:  #000000;\n",
       "        }#T_2cfb4_row3_col41,#T_2cfb4_row4_col41,#T_2cfb4_row6_col3,#T_2cfb4_row6_col4,#T_2cfb4_row6_col62,#T_2cfb4_row9_col14,#T_2cfb4_row13_col40,#T_2cfb4_row14_col34,#T_2cfb4_row14_col39,#T_2cfb4_row15_col30,#T_2cfb4_row16_col6,#T_2cfb4_row19_col42,#T_2cfb4_row20_col42,#T_2cfb4_row24_col17,#T_2cfb4_row27_col63,#T_2cfb4_row30_col6,#T_2cfb4_row30_col43,#T_2cfb4_row32_col43,#T_2cfb4_row34_col21,#T_2cfb4_row37_col6,#T_2cfb4_row37_col43,#T_2cfb4_row38_col43,#T_2cfb4_row39_col40,#T_2cfb4_row46_col10,#T_2cfb4_row55_col6,#T_2cfb4_row57_col43,#T_2cfb4_row58_col43,#T_2cfb4_row59_col43,#T_2cfb4_row63_col6{\n",
       "            background-color:  #bbd1f8;\n",
       "            color:  #000000;\n",
       "        }#T_2cfb4_row3_col43,#T_2cfb4_row4_col43,#T_2cfb4_row5_col43,#T_2cfb4_row6_col41,#T_2cfb4_row7_col18,#T_2cfb4_row8_col6,#T_2cfb4_row12_col6,#T_2cfb4_row14_col28,#T_2cfb4_row15_col10,#T_2cfb4_row17_col10,#T_2cfb4_row18_col23,#T_2cfb4_row21_col12,#T_2cfb4_row25_col19,#T_2cfb4_row25_col20,#T_2cfb4_row28_col10,#T_2cfb4_row36_col19,#T_2cfb4_row36_col20,#T_2cfb4_row42_col10,#T_2cfb4_row45_col12,#T_2cfb4_row45_col42,#T_2cfb4_row46_col12,#T_2cfb4_row47_col41,#T_2cfb4_row50_col12,#T_2cfb4_row52_col12,#T_2cfb4_row53_col10,#T_2cfb4_row53_col40,#T_2cfb4_row54_col10,#T_2cfb4_row54_col40,#T_2cfb4_row56_col10,#T_2cfb4_row60_col10{\n",
       "            background-color:  #b2ccfb;\n",
       "            color:  #000000;\n",
       "        }#T_2cfb4_row3_col45,#T_2cfb4_row3_col51,#T_2cfb4_row4_col45,#T_2cfb4_row4_col51,#T_2cfb4_row5_col0,#T_2cfb4_row5_col45,#T_2cfb4_row9_col46,#T_2cfb4_row12_col45,#T_2cfb4_row13_col61,#T_2cfb4_row14_col45,#T_2cfb4_row15_col44,#T_2cfb4_row16_col44,#T_2cfb4_row18_col40,#T_2cfb4_row18_col44,#T_2cfb4_row18_col51,#T_2cfb4_row26_col45,#T_2cfb4_row27_col45,#T_2cfb4_row28_col18,#T_2cfb4_row28_col24,#T_2cfb4_row29_col44,#T_2cfb4_row30_col44,#T_2cfb4_row31_col44,#T_2cfb4_row32_col1,#T_2cfb4_row33_col1,#T_2cfb4_row33_col17,#T_2cfb4_row35_col1,#T_2cfb4_row35_col16,#T_2cfb4_row43_col42,#T_2cfb4_row47_col21,#T_2cfb4_row49_col2,#T_2cfb4_row51_col44,#T_2cfb4_row52_col45{\n",
       "            background-color:  #96b7ff;\n",
       "            color:  #000000;\n",
       "        }#T_2cfb4_row3_col63,#T_2cfb4_row4_col63,#T_2cfb4_row9_col63,#T_2cfb4_row28_col35,#T_2cfb4_row33_col16,#T_2cfb4_row42_col6,#T_2cfb4_row62_col21{\n",
       "            background-color:  #dddcdc;\n",
       "            color:  #000000;\n",
       "        }#T_2cfb4_row4_col23,#T_2cfb4_row24_col22{\n",
       "            background-color:  #f7aa8c;\n",
       "            color:  #000000;\n",
       "        }#T_2cfb4_row5_col2,#T_2cfb4_row6_col12,#T_2cfb4_row7_col12,#T_2cfb4_row10_col40,#T_2cfb4_row10_col42,#T_2cfb4_row11_col41,#T_2cfb4_row12_col40,#T_2cfb4_row14_col12,#T_2cfb4_row18_col24,#T_2cfb4_row18_col34,#T_2cfb4_row18_col39,#T_2cfb4_row19_col12,#T_2cfb4_row20_col12,#T_2cfb4_row26_col41,#T_2cfb4_row30_col41,#T_2cfb4_row30_col42,#T_2cfb4_row35_col12,#T_2cfb4_row37_col41,#T_2cfb4_row38_col40,#T_2cfb4_row38_col42,#T_2cfb4_row55_col42,#T_2cfb4_row56_col42,#T_2cfb4_row61_col41,#T_2cfb4_row62_col10,#T_2cfb4_row63_col33{\n",
       "            background-color:  #aac7fd;\n",
       "            color:  #000000;\n",
       "        }#T_2cfb4_row5_col7{\n",
       "            background-color:  #c32e31;\n",
       "            color:  #f1f1f1;\n",
       "        }#T_2cfb4_row5_col8,#T_2cfb4_row7_col8,#T_2cfb4_row7_col42,#T_2cfb4_row11_col6,#T_2cfb4_row19_col35,#T_2cfb4_row20_col35{\n",
       "            background-color:  #e0dbd8;\n",
       "            color:  #000000;\n",
       "        }#T_2cfb4_row5_col9,#T_2cfb4_row5_col26,#T_2cfb4_row7_col26,#T_2cfb4_row10_col8,#T_2cfb4_row11_col8,#T_2cfb4_row12_col13,#T_2cfb4_row18_col38,#T_2cfb4_row21_col46,#T_2cfb4_row22_col14,#T_2cfb4_row22_col46,#T_2cfb4_row23_col51,#T_2cfb4_row24_col14,#T_2cfb4_row26_col1,#T_2cfb4_row26_col2,#T_2cfb4_row29_col23,#T_2cfb4_row30_col0,#T_2cfb4_row30_col46,#T_2cfb4_row31_col30,#T_2cfb4_row34_col9,#T_2cfb4_row35_col13,#T_2cfb4_row35_col61,#T_2cfb4_row36_col17,#T_2cfb4_row36_col21,#T_2cfb4_row36_col46,#T_2cfb4_row37_col46,#T_2cfb4_row38_col46,#T_2cfb4_row40_col19,#T_2cfb4_row40_col20,#T_2cfb4_row42_col16,#T_2cfb4_row42_col47,#T_2cfb4_row43_col4,#T_2cfb4_row44_col1,#T_2cfb4_row45_col43,#T_2cfb4_row47_col9,#T_2cfb4_row50_col46,#T_2cfb4_row51_col16,#T_2cfb4_row51_col46,#T_2cfb4_row53_col7,#T_2cfb4_row54_col24,#T_2cfb4_row54_col46,#T_2cfb4_row55_col21,#T_2cfb4_row56_col21,#T_2cfb4_row57_col17,#T_2cfb4_row57_col21,#T_2cfb4_row57_col46,#T_2cfb4_row58_col17,#T_2cfb4_row59_col17,#T_2cfb4_row59_col21,#T_2cfb4_row60_col23,#T_2cfb4_row61_col47,#T_2cfb4_row62_col38{\n",
       "            background-color:  #84a7fc;\n",
       "            color:  #000000;\n",
       "        }#T_2cfb4_row5_col16,#T_2cfb4_row6_col35,#T_2cfb4_row8_col24,#T_2cfb4_row15_col12,#T_2cfb4_row16_col62,#T_2cfb4_row25_col62,#T_2cfb4_row33_col23,#T_2cfb4_row39_col63,#T_2cfb4_row40_col35,#T_2cfb4_row43_col39,#T_2cfb4_row51_col19,#T_2cfb4_row51_col20,#T_2cfb4_row52_col35{\n",
       "            background-color:  #c6d6f1;\n",
       "            color:  #000000;\n",
       "        }#T_2cfb4_row5_col19,#T_2cfb4_row5_col20,#T_2cfb4_row28_col22{\n",
       "            background-color:  #f7ad90;\n",
       "            color:  #000000;\n",
       "        }#T_2cfb4_row5_col21{\n",
       "            background-color:  #ee8669;\n",
       "            color:  #000000;\n",
       "        }#T_2cfb4_row5_col23,#T_2cfb4_row28_col21{\n",
       "            background-color:  #f7ac8e;\n",
       "            color:  #000000;\n",
       "        }#T_2cfb4_row5_col24,#T_2cfb4_row28_col23{\n",
       "            background-color:  #f18d6f;\n",
       "            color:  #000000;\n",
       "        }#T_2cfb4_row5_col41,#T_2cfb4_row6_col5,#T_2cfb4_row6_col61,#T_2cfb4_row8_col18,#T_2cfb4_row10_col19,#T_2cfb4_row10_col20,#T_2cfb4_row11_col63,#T_2cfb4_row14_col7,#T_2cfb4_row23_col39,#T_2cfb4_row29_col10,#T_2cfb4_row32_col6,#T_2cfb4_row34_col42,#T_2cfb4_row36_col6,#T_2cfb4_row36_col43,#T_2cfb4_row48_col19,#T_2cfb4_row48_col20,#T_2cfb4_row50_col43,#T_2cfb4_row51_col10,#T_2cfb4_row52_col43,#T_2cfb4_row53_col43,#T_2cfb4_row54_col43,#T_2cfb4_row55_col43,#T_2cfb4_row56_col6,#T_2cfb4_row56_col43,#T_2cfb4_row58_col6,#T_2cfb4_row59_col6,#T_2cfb4_row62_col12{\n",
       "            background-color:  #bcd2f7;\n",
       "            color:  #000000;\n",
       "        }#T_2cfb4_row5_col63,#T_2cfb4_row16_col3,#T_2cfb4_row16_col4,#T_2cfb4_row16_col5{\n",
       "            background-color:  #dedcdb;\n",
       "            color:  #000000;\n",
       "        }#T_2cfb4_row6_col7,#T_2cfb4_row8_col39,#T_2cfb4_row10_col41,#T_2cfb4_row15_col2,#T_2cfb4_row17_col5,#T_2cfb4_row17_col41,#T_2cfb4_row18_col21,#T_2cfb4_row21_col10,#T_2cfb4_row22_col10,#T_2cfb4_row24_col28,#T_2cfb4_row25_col42,#T_2cfb4_row26_col43,#T_2cfb4_row30_col40,#T_2cfb4_row37_col19,#T_2cfb4_row37_col20,#T_2cfb4_row40_col44,#T_2cfb4_row44_col10,#T_2cfb4_row47_col12,#T_2cfb4_row49_col12,#T_2cfb4_row51_col3,#T_2cfb4_row51_col4,#T_2cfb4_row51_col5,#T_2cfb4_row55_col10,#T_2cfb4_row60_col41{\n",
       "            background-color:  #b1cbfc;\n",
       "            color:  #000000;\n",
       "        }#T_2cfb4_row6_col10,#T_2cfb4_row7_col16,#T_2cfb4_row10_col62,#T_2cfb4_row14_col5,#T_2cfb4_row15_col62,#T_2cfb4_row18_col43,#T_2cfb4_row28_col42,#T_2cfb4_row33_col22,#T_2cfb4_row35_col5,#T_2cfb4_row43_col40,#T_2cfb4_row46_col62,#T_2cfb4_row50_col35{\n",
       "            background-color:  #c5d6f2;\n",
       "            color:  #000000;\n",
       "        }#T_2cfb4_row6_col11,#T_2cfb4_row7_col14,#T_2cfb4_row8_col1,#T_2cfb4_row9_col28,#T_2cfb4_row16_col1,#T_2cfb4_row16_col9,#T_2cfb4_row22_col17,#T_2cfb4_row25_col24,#T_2cfb4_row28_col30,#T_2cfb4_row30_col1,#T_2cfb4_row30_col45,#T_2cfb4_row31_col1,#T_2cfb4_row34_col2,#T_2cfb4_row35_col30,#T_2cfb4_row39_col19,#T_2cfb4_row39_col20,#T_2cfb4_row39_col42,#T_2cfb4_row39_col45,#T_2cfb4_row39_col61,#T_2cfb4_row41_col45,#T_2cfb4_row42_col61,#T_2cfb4_row44_col19,#T_2cfb4_row44_col20,#T_2cfb4_row45_col17,#T_2cfb4_row46_col3,#T_2cfb4_row46_col4,#T_2cfb4_row46_col40,#T_2cfb4_row47_col1,#T_2cfb4_row49_col7,#T_2cfb4_row49_col61,#T_2cfb4_row51_col23,#T_2cfb4_row52_col30{\n",
       "            background-color:  #9bbcff;\n",
       "            color:  #000000;\n",
       "        }#T_2cfb4_row6_col15,#T_2cfb4_row9_col21,#T_2cfb4_row10_col22,#T_2cfb4_row15_col3,#T_2cfb4_row15_col4,#T_2cfb4_row19_col22,#T_2cfb4_row19_col44,#T_2cfb4_row20_col22,#T_2cfb4_row20_col44,#T_2cfb4_row23_col14,#T_2cfb4_row29_col17,#T_2cfb4_row29_col21,#T_2cfb4_row34_col0,#T_2cfb4_row36_col0,#T_2cfb4_row43_col13,#T_2cfb4_row43_col21,#T_2cfb4_row45_col21,#T_2cfb4_row48_col44,#T_2cfb4_row49_col0,#T_2cfb4_row50_col21,#T_2cfb4_row58_col13,#T_2cfb4_row61_col28,#T_2cfb4_row63_col18{\n",
       "            background-color:  #7b9ff9;\n",
       "            color:  #000000;\n",
       "        }#T_2cfb4_row6_col17,#T_2cfb4_row16_col8,#T_2cfb4_row27_col61,#T_2cfb4_row46_col39,#T_2cfb4_row54_col39{\n",
       "            background-color:  #d6dce4;\n",
       "            color:  #000000;\n",
       "        }#T_2cfb4_row6_col18,#T_2cfb4_row6_col55,#T_2cfb4_row6_col60,#T_2cfb4_row7_col52,#T_2cfb4_row9_col53,#T_2cfb4_row10_col50,#T_2cfb4_row13_col52,#T_2cfb4_row13_col58,#T_2cfb4_row14_col60,#T_2cfb4_row16_col52,#T_2cfb4_row17_col53,#T_2cfb4_row18_col47,#T_2cfb4_row19_col53,#T_2cfb4_row20_col53,#T_2cfb4_row21_col53,#T_2cfb4_row22_col9,#T_2cfb4_row22_col53,#T_2cfb4_row24_col52,#T_2cfb4_row25_col27,#T_2cfb4_row25_col50,#T_2cfb4_row25_col55,#T_2cfb4_row26_col16,#T_2cfb4_row27_col55,#T_2cfb4_row28_col60,#T_2cfb4_row29_col50,#T_2cfb4_row30_col51,#T_2cfb4_row32_col55,#T_2cfb4_row33_col52,#T_2cfb4_row34_col53,#T_2cfb4_row36_col47,#T_2cfb4_row36_col55,#T_2cfb4_row37_col50,#T_2cfb4_row37_col55,#T_2cfb4_row38_col60,#T_2cfb4_row40_col56,#T_2cfb4_row42_col15,#T_2cfb4_row43_col16,#T_2cfb4_row43_col54,#T_2cfb4_row44_col50,#T_2cfb4_row46_col13,#T_2cfb4_row46_col55,#T_2cfb4_row47_col13,#T_2cfb4_row47_col45,#T_2cfb4_row47_col55,#T_2cfb4_row48_col55,#T_2cfb4_row49_col13,#T_2cfb4_row50_col8,#T_2cfb4_row50_col47,#T_2cfb4_row52_col18,#T_2cfb4_row52_col47,#T_2cfb4_row53_col47,#T_2cfb4_row54_col47,#T_2cfb4_row55_col47,#T_2cfb4_row56_col47,#T_2cfb4_row60_col47,#T_2cfb4_row61_col50,#T_2cfb4_row62_col11,#T_2cfb4_row62_col17,#T_2cfb4_row62_col56{\n",
       "            background-color:  #6b8df0;\n",
       "            color:  #000000;\n",
       "        }#T_2cfb4_row6_col19,#T_2cfb4_row6_col20,#T_2cfb4_row8_col16,#T_2cfb4_row9_col35,#T_2cfb4_row13_col62,#T_2cfb4_row15_col35,#T_2cfb4_row21_col8,#T_2cfb4_row22_col8,#T_2cfb4_row25_col35,#T_2cfb4_row26_col39,#T_2cfb4_row27_col39,#T_2cfb4_row31_col63,#T_2cfb4_row33_col63,#T_2cfb4_row36_col39,#T_2cfb4_row37_col62,#T_2cfb4_row39_col62,#T_2cfb4_row44_col39,#T_2cfb4_row50_col62,#T_2cfb4_row53_col62,#T_2cfb4_row56_col62,#T_2cfb4_row57_col39,#T_2cfb4_row62_col35{\n",
       "            background-color:  #cfdaea;\n",
       "            color:  #000000;\n",
       "        }#T_2cfb4_row6_col24,#T_2cfb4_row19_col24,#T_2cfb4_row20_col24{\n",
       "            background-color:  #f2c9b4;\n",
       "            color:  #000000;\n",
       "        }#T_2cfb4_row6_col25,#T_2cfb4_row7_col11,#T_2cfb4_row8_col27,#T_2cfb4_row8_col48,#T_2cfb4_row9_col27,#T_2cfb4_row10_col29,#T_2cfb4_row12_col34,#T_2cfb4_row14_col48,#T_2cfb4_row16_col27,#T_2cfb4_row18_col27,#T_2cfb4_row23_col31,#T_2cfb4_row31_col48,#T_2cfb4_row32_col11,#T_2cfb4_row39_col22,#T_2cfb4_row39_col59,#T_2cfb4_row40_col23,#T_2cfb4_row44_col31,#T_2cfb4_row45_col14,#T_2cfb4_row48_col34,#T_2cfb4_row50_col14,#T_2cfb4_row54_col11,#T_2cfb4_row54_col14,#T_2cfb4_row54_col53,#T_2cfb4_row54_col60,#T_2cfb4_row55_col52,#T_2cfb4_row56_col11,#T_2cfb4_row56_col53,#T_2cfb4_row56_col60,#T_2cfb4_row57_col11,#T_2cfb4_row57_col53,#T_2cfb4_row57_col60,#T_2cfb4_row59_col50{\n",
       "            background-color:  #5b7ae5;\n",
       "            color:  #000000;\n",
       "        }#T_2cfb4_row6_col26,#T_2cfb4_row10_col38,#T_2cfb4_row11_col7,#T_2cfb4_row12_col17,#T_2cfb4_row13_col9,#T_2cfb4_row16_col38,#T_2cfb4_row18_col61,#T_2cfb4_row19_col38,#T_2cfb4_row20_col38,#T_2cfb4_row23_col17,#T_2cfb4_row23_col19,#T_2cfb4_row23_col20,#T_2cfb4_row24_col61,#T_2cfb4_row25_col1,#T_2cfb4_row25_col17,#T_2cfb4_row25_col21,#T_2cfb4_row25_col46,#T_2cfb4_row26_col38,#T_2cfb4_row27_col38,#T_2cfb4_row27_col46,#T_2cfb4_row29_col0,#T_2cfb4_row29_col38,#T_2cfb4_row31_col38,#T_2cfb4_row32_col38,#T_2cfb4_row34_col51,#T_2cfb4_row36_col7,#T_2cfb4_row36_col24,#T_2cfb4_row36_col38,#T_2cfb4_row38_col3,#T_2cfb4_row38_col4,#T_2cfb4_row41_col24,#T_2cfb4_row42_col8,#T_2cfb4_row43_col8,#T_2cfb4_row44_col38,#T_2cfb4_row45_col38,#T_2cfb4_row46_col0,#T_2cfb4_row49_col44,#T_2cfb4_row51_col61,#T_2cfb4_row52_col3,#T_2cfb4_row52_col4,#T_2cfb4_row52_col5,#T_2cfb4_row54_col23,#T_2cfb4_row55_col1,#T_2cfb4_row55_col38,#T_2cfb4_row57_col24,#T_2cfb4_row59_col24,#T_2cfb4_row61_col38{\n",
       "            background-color:  #89acfd;\n",
       "            color:  #000000;\n",
       "        }#T_2cfb4_row6_col27,#T_2cfb4_row8_col52,#T_2cfb4_row11_col51,#T_2cfb4_row12_col52,#T_2cfb4_row12_col56,#T_2cfb4_row14_col47,#T_2cfb4_row16_col47,#T_2cfb4_row17_col48,#T_2cfb4_row17_col52,#T_2cfb4_row21_col48,#T_2cfb4_row23_col52,#T_2cfb4_row24_col0,#T_2cfb4_row24_col1,#T_2cfb4_row25_col9,#T_2cfb4_row26_col53,#T_2cfb4_row26_col60,#T_2cfb4_row27_col53,#T_2cfb4_row27_col60,#T_2cfb4_row28_col14,#T_2cfb4_row29_col13,#T_2cfb4_row29_col60,#T_2cfb4_row30_col56,#T_2cfb4_row30_col57,#T_2cfb4_row31_col13,#T_2cfb4_row31_col47,#T_2cfb4_row31_col60,#T_2cfb4_row32_col53,#T_2cfb4_row32_col60,#T_2cfb4_row35_col9,#T_2cfb4_row36_col53,#T_2cfb4_row37_col9,#T_2cfb4_row38_col18,#T_2cfb4_row40_col17,#T_2cfb4_row40_col46,#T_2cfb4_row42_col14,#T_2cfb4_row44_col60,#T_2cfb4_row45_col13,#T_2cfb4_row45_col53,#T_2cfb4_row46_col53,#T_2cfb4_row46_col60,#T_2cfb4_row47_col53,#T_2cfb4_row47_col60,#T_2cfb4_row48_col53,#T_2cfb4_row48_col60,#T_2cfb4_row49_col53,#T_2cfb4_row53_col8,#T_2cfb4_row54_col8,#T_2cfb4_row55_col8,#T_2cfb4_row55_col9,#T_2cfb4_row56_col8,#T_2cfb4_row61_col48,#T_2cfb4_row61_col53,#T_2cfb4_row62_col50,#T_2cfb4_row62_col54{\n",
       "            background-color:  #6f92f3;\n",
       "            color:  #000000;\n",
       "        }#T_2cfb4_row6_col39,#T_2cfb4_row9_col6,#T_2cfb4_row11_col35,#T_2cfb4_row23_col42,#T_2cfb4_row28_col3,#T_2cfb4_row28_col4,#T_2cfb4_row28_col5,#T_2cfb4_row34_col43,#T_2cfb4_row43_col62{\n",
       "            background-color:  #d9dce1;\n",
       "            color:  #000000;\n",
       "        }#T_2cfb4_row6_col42,#T_2cfb4_row12_col62,#T_2cfb4_row21_col6,#T_2cfb4_row22_col6,#T_2cfb4_row26_col6,#T_2cfb4_row28_col7,#T_2cfb4_row42_col3,#T_2cfb4_row42_col4{\n",
       "            background-color:  #d4dbe6;\n",
       "            color:  #000000;\n",
       "        }#T_2cfb4_row6_col45,#T_2cfb4_row9_col10,#T_2cfb4_row18_col9,#T_2cfb4_row22_col12,#T_2cfb4_row26_col12,#T_2cfb4_row26_col63,#T_2cfb4_row27_col12,#T_2cfb4_row29_col41,#T_2cfb4_row32_col19,#T_2cfb4_row32_col20,#T_2cfb4_row38_col10,#T_2cfb4_row38_col19,#T_2cfb4_row38_col20,#T_2cfb4_row40_col10,#T_2cfb4_row40_col12,#T_2cfb4_row41_col12,#T_2cfb4_row46_col41,#T_2cfb4_row51_col39,#T_2cfb4_row51_col42,#T_2cfb4_row57_col10,#T_2cfb4_row57_col19,#T_2cfb4_row57_col20,#T_2cfb4_row58_col10,#T_2cfb4_row60_col12,#T_2cfb4_row61_col12,#T_2cfb4_row61_col27{\n",
       "            background-color:  #b3cdfb;\n",
       "            color:  #000000;\n",
       "        }#T_2cfb4_row6_col47,#T_2cfb4_row14_col35,#T_2cfb4_row23_col35,#T_2cfb4_row24_col23,#T_2cfb4_row34_col35{\n",
       "            background-color:  #e4d9d2;\n",
       "            color:  #000000;\n",
       "        }#T_2cfb4_row6_col63,#T_2cfb4_row8_col43,#T_2cfb4_row9_col19,#T_2cfb4_row9_col20,#T_2cfb4_row18_col5,#T_2cfb4_row18_col19,#T_2cfb4_row18_col20,#T_2cfb4_row18_col62,#T_2cfb4_row19_col33,#T_2cfb4_row20_col33,#T_2cfb4_row33_col34,#T_2cfb4_row34_col8,#T_2cfb4_row34_col62,#T_2cfb4_row36_col63,#T_2cfb4_row42_col7,#T_2cfb4_row42_col21,#T_2cfb4_row53_col63,#T_2cfb4_row54_col35,#T_2cfb4_row58_col62,#T_2cfb4_row59_col62{\n",
       "            background-color:  #ccd9ed;\n",
       "            color:  #000000;\n",
       "        }#T_2cfb4_row7_col2,#T_2cfb4_row9_col3,#T_2cfb4_row9_col4,#T_2cfb4_row9_col43,#T_2cfb4_row13_col5,#T_2cfb4_row13_col30,#T_2cfb4_row13_col33,#T_2cfb4_row15_col45,#T_2cfb4_row23_col18,#T_2cfb4_row23_col34,#T_2cfb4_row30_col28,#T_2cfb4_row32_col30,#T_2cfb4_row37_col30,#T_2cfb4_row38_col28,#T_2cfb4_row46_col30,#T_2cfb4_row46_col61,#T_2cfb4_row47_col17,#T_2cfb4_row51_col40,#T_2cfb4_row52_col33,#T_2cfb4_row58_col30,#T_2cfb4_row60_col28,#T_2cfb4_row62_col30{\n",
       "            background-color:  #a1c0ff;\n",
       "            color:  #000000;\n",
       "        }#T_2cfb4_row7_col6,#T_2cfb4_row7_col63,#T_2cfb4_row8_col22,#T_2cfb4_row8_col23,#T_2cfb4_row16_col19,#T_2cfb4_row16_col20,#T_2cfb4_row34_col3,#T_2cfb4_row34_col4,#T_2cfb4_row34_col5,#T_2cfb4_row44_col62,#T_2cfb4_row61_col39{\n",
       "            background-color:  #d7dce3;\n",
       "            color:  #000000;\n",
       "        }#T_2cfb4_row7_col13,#T_2cfb4_row10_col47,#T_2cfb4_row10_col52,#T_2cfb4_row11_col15,#T_2cfb4_row11_col48,#T_2cfb4_row12_col9,#T_2cfb4_row13_col1,#T_2cfb4_row15_col23,#T_2cfb4_row25_col0,#T_2cfb4_row25_col18,#T_2cfb4_row26_col0,#T_2cfb4_row26_col13,#T_2cfb4_row27_col52,#T_2cfb4_row29_col51,#T_2cfb4_row29_col52,#T_2cfb4_row32_col51,#T_2cfb4_row32_col52,#T_2cfb4_row33_col38,#T_2cfb4_row34_col46,#T_2cfb4_row36_col51,#T_2cfb4_row36_col52,#T_2cfb4_row37_col18,#T_2cfb4_row37_col52,#T_2cfb4_row39_col54,#T_2cfb4_row40_col60,#T_2cfb4_row41_col47,#T_2cfb4_row41_col52,#T_2cfb4_row42_col2,#T_2cfb4_row43_col0,#T_2cfb4_row43_col60,#T_2cfb4_row44_col6,#T_2cfb4_row44_col17,#T_2cfb4_row44_col18,#T_2cfb4_row45_col15,#T_2cfb4_row46_col51,#T_2cfb4_row46_col52,#T_2cfb4_row48_col8,#T_2cfb4_row55_col13,#T_2cfb4_row58_col9,#T_2cfb4_row58_col18,#T_2cfb4_row59_col8,#T_2cfb4_row61_col52,#T_2cfb4_row62_col3,#T_2cfb4_row62_col4,#T_2cfb4_row62_col5,#T_2cfb4_row62_col8,#T_2cfb4_row62_col53{\n",
       "            background-color:  #7396f5;\n",
       "            color:  #000000;\n",
       "        }#T_2cfb4_row7_col19,#T_2cfb4_row7_col20{\n",
       "            background-color:  #f4c5ad;\n",
       "            color:  #000000;\n",
       "        }#T_2cfb4_row7_col21,#T_2cfb4_row26_col27{\n",
       "            background-color:  #ea7b60;\n",
       "            color:  #000000;\n",
       "        }#T_2cfb4_row7_col22,#T_2cfb4_row22_col5{\n",
       "            background-color:  #eb7d62;\n",
       "            color:  #000000;\n",
       "        }#T_2cfb4_row7_col23,#T_2cfb4_row23_col7{\n",
       "            background-color:  #f59c7d;\n",
       "            color:  #000000;\n",
       "        }#T_2cfb4_row7_col24{\n",
       "            background-color:  #f6a385;\n",
       "            color:  #000000;\n",
       "        }#T_2cfb4_row7_col28,#T_2cfb4_row24_col35{\n",
       "            background-color:  #e2dad5;\n",
       "            color:  #000000;\n",
       "        }#T_2cfb4_row7_col37,#T_2cfb4_row9_col37,#T_2cfb4_row13_col49,#T_2cfb4_row14_col37,#T_2cfb4_row15_col37,#T_2cfb4_row18_col37,#T_2cfb4_row21_col36,#T_2cfb4_row22_col36,#T_2cfb4_row22_col37,#T_2cfb4_row23_col36,#T_2cfb4_row24_col36,#T_2cfb4_row24_col37,#T_2cfb4_row26_col36,#T_2cfb4_row27_col36,#T_2cfb4_row28_col37,#T_2cfb4_row38_col37,#T_2cfb4_row39_col8,#T_2cfb4_row40_col22,#T_2cfb4_row40_col36,#T_2cfb4_row42_col36,#T_2cfb4_row43_col49,#T_2cfb4_row46_col49,#T_2cfb4_row48_col36,#T_2cfb4_row51_col37,#T_2cfb4_row59_col36,#T_2cfb4_row60_col36{\n",
       "            background-color:  #3f53c6;\n",
       "            color:  #f1f1f1;\n",
       "        }#T_2cfb4_row7_col62,#T_2cfb4_row14_col10,#T_2cfb4_row16_col43,#T_2cfb4_row29_col6,#T_2cfb4_row41_col2,#T_2cfb4_row41_col6,#T_2cfb4_row43_col33,#T_2cfb4_row51_col6,#T_2cfb4_row63_col41{\n",
       "            background-color:  #c0d4f5;\n",
       "            color:  #000000;\n",
       "        }#T_2cfb4_row8_col3,#T_2cfb4_row8_col4,#T_2cfb4_row8_col5,#T_2cfb4_row8_col35{\n",
       "            background-color:  #edd2c3;\n",
       "            color:  #000000;\n",
       "        }#T_2cfb4_row8_col7{\n",
       "            background-color:  #ead5c9;\n",
       "            color:  #000000;\n",
       "        }#T_2cfb4_row8_col19,#T_2cfb4_row8_col20,#T_2cfb4_row8_col21,#T_2cfb4_row10_col35,#T_2cfb4_row12_col39,#T_2cfb4_row13_col35,#T_2cfb4_row14_col63,#T_2cfb4_row16_col7,#T_2cfb4_row23_col33,#T_2cfb4_row53_col39{\n",
       "            background-color:  #d8dce2;\n",
       "            color:  #000000;\n",
       "        }#T_2cfb4_row8_col28,#T_2cfb4_row10_col39,#T_2cfb4_row12_col35,#T_2cfb4_row13_col39,#T_2cfb4_row13_col63,#T_2cfb4_row15_col6,#T_2cfb4_row23_col8,#T_2cfb4_row29_col62,#T_2cfb4_row35_col43,#T_2cfb4_row47_col24,#T_2cfb4_row55_col63{\n",
       "            background-color:  #c9d7f0;\n",
       "            color:  #000000;\n",
       "        }#T_2cfb4_row8_col33{\n",
       "            background-color:  #f7b093;\n",
       "            color:  #000000;\n",
       "        }#T_2cfb4_row8_col42,#T_2cfb4_row14_col43,#T_2cfb4_row16_col24,#T_2cfb4_row19_col10,#T_2cfb4_row19_col39,#T_2cfb4_row20_col10,#T_2cfb4_row20_col39,#T_2cfb4_row38_col6,#T_2cfb4_row43_col12,#T_2cfb4_row47_col42,#T_2cfb4_row48_col42,#T_2cfb4_row51_col33,#T_2cfb4_row57_col6,#T_2cfb4_row60_col43,#T_2cfb4_row63_col10{\n",
       "            background-color:  #bed2f6;\n",
       "            color:  #000000;\n",
       "        }#T_2cfb4_row8_col62,#T_2cfb4_row9_col39,#T_2cfb4_row18_col10,#T_2cfb4_row30_col62,#T_2cfb4_row31_col39,#T_2cfb4_row36_col35,#T_2cfb4_row36_col62,#T_2cfb4_row37_col39,#T_2cfb4_row45_col35,#T_2cfb4_row46_col63,#T_2cfb4_row47_col35,#T_2cfb4_row47_col63,#T_2cfb4_row48_col35,#T_2cfb4_row55_col35,#T_2cfb4_row58_col39,#T_2cfb4_row58_col63,#T_2cfb4_row59_col39,#T_2cfb4_row59_col63{\n",
       "            background-color:  #cedaeb;\n",
       "            color:  #000000;\n",
       "        }#T_2cfb4_row9_col0,#T_2cfb4_row11_col18,#T_2cfb4_row19_col18,#T_2cfb4_row20_col18,#T_2cfb4_row25_col45,#T_2cfb4_row31_col12,#T_2cfb4_row31_col45,#T_2cfb4_row32_col45,#T_2cfb4_row34_col44,#T_2cfb4_row35_col44,#T_2cfb4_row38_col35,#T_2cfb4_row50_col44,#T_2cfb4_row51_col21,#T_2cfb4_row51_col30,#T_2cfb4_row52_col44,#T_2cfb4_row53_col44,#T_2cfb4_row55_col44,#T_2cfb4_row56_col44,#T_2cfb4_row56_col45,#T_2cfb4_row57_col44,#T_2cfb4_row58_col2,#T_2cfb4_row58_col44,#T_2cfb4_row58_col45,#T_2cfb4_row59_col44,#T_2cfb4_row59_col45,#T_2cfb4_row61_col62,#T_2cfb4_row62_col41{\n",
       "            background-color:  #98b9ff;\n",
       "            color:  #000000;\n",
       "        }#T_2cfb4_row9_col25,#T_2cfb4_row14_col25,#T_2cfb4_row18_col25,#T_2cfb4_row22_col29,#T_2cfb4_row28_col27,#T_2cfb4_row34_col25,#T_2cfb4_row35_col49,#T_2cfb4_row41_col25,#T_2cfb4_row41_col49,#T_2cfb4_row43_col24,#T_2cfb4_row43_col29,#T_2cfb4_row43_col47,#T_2cfb4_row46_col47,#T_2cfb4_row52_col49,#T_2cfb4_row53_col49,#T_2cfb4_row54_col49,#T_2cfb4_row55_col49,#T_2cfb4_row56_col49,#T_2cfb4_row57_col25,#T_2cfb4_row58_col51{\n",
       "            background-color:  #4961d2;\n",
       "            color:  #f1f1f1;\n",
       "        }#T_2cfb4_row9_col41,#T_2cfb4_row11_col28,#T_2cfb4_row13_col28,#T_2cfb4_row14_col1,#T_2cfb4_row14_col2,#T_2cfb4_row16_col10,#T_2cfb4_row16_col18,#T_2cfb4_row16_col41,#T_2cfb4_row17_col7,#T_2cfb4_row17_col45,#T_2cfb4_row18_col41,#T_2cfb4_row21_col16,#T_2cfb4_row22_col16,#T_2cfb4_row23_col10,#T_2cfb4_row24_col41,#T_2cfb4_row24_col62,#T_2cfb4_row26_col3,#T_2cfb4_row26_col4,#T_2cfb4_row26_col5,#T_2cfb4_row29_col12,#T_2cfb4_row30_col19,#T_2cfb4_row30_col20,#T_2cfb4_row31_col42,#T_2cfb4_row34_col41,#T_2cfb4_row35_col8,#T_2cfb4_row37_col40,#T_2cfb4_row47_col3,#T_2cfb4_row47_col4,#T_2cfb4_row47_col5,#T_2cfb4_row47_col28,#T_2cfb4_row48_col28,#T_2cfb4_row50_col19,#T_2cfb4_row50_col20,#T_2cfb4_row50_col41,#T_2cfb4_row51_col12,#T_2cfb4_row51_col28,#T_2cfb4_row52_col19,#T_2cfb4_row52_col20,#T_2cfb4_row56_col40,#T_2cfb4_row60_col19,#T_2cfb4_row60_col20,#T_2cfb4_row63_col5{\n",
       "            background-color:  #aec9fc;\n",
       "            color:  #000000;\n",
       "        }#T_2cfb4_row10_col6,#T_2cfb4_row18_col3,#T_2cfb4_row18_col4,#T_2cfb4_row19_col41,#T_2cfb4_row20_col41,#T_2cfb4_row27_col6,#T_2cfb4_row31_col62,#T_2cfb4_row42_col22,#T_2cfb4_row43_col63,#T_2cfb4_row46_col35,#T_2cfb4_row48_col63,#T_2cfb4_row49_col62,#T_2cfb4_row49_col63,#T_2cfb4_row50_col63,#T_2cfb4_row52_col63,#T_2cfb4_row56_col63,#T_2cfb4_row62_col43{\n",
       "            background-color:  #cbd8ee;\n",
       "            color:  #000000;\n",
       "        }#T_2cfb4_row10_col18,#T_2cfb4_row11_col46,#T_2cfb4_row13_col23,#T_2cfb4_row15_col0,#T_2cfb4_row17_col21,#T_2cfb4_row17_col22,#T_2cfb4_row19_col30,#T_2cfb4_row20_col30,#T_2cfb4_row21_col17,#T_2cfb4_row24_col18,#T_2cfb4_row27_col28,#T_2cfb4_row29_col45,#T_2cfb4_row34_col1,#T_2cfb4_row43_col23,#T_2cfb4_row48_col40,#T_2cfb4_row51_col45,#T_2cfb4_row61_col33,#T_2cfb4_row61_col45,#T_2cfb4_row63_col7{\n",
       "            background-color:  #9abbff;\n",
       "            color:  #000000;\n",
       "        }#T_2cfb4_row10_col63,#T_2cfb4_row11_col62,#T_2cfb4_row15_col63,#T_2cfb4_row16_col63,#T_2cfb4_row17_col63,#T_2cfb4_row19_col6,#T_2cfb4_row20_col6,#T_2cfb4_row33_col7,#T_2cfb4_row33_col19,#T_2cfb4_row33_col20,#T_2cfb4_row42_col5,#T_2cfb4_row51_col63,#T_2cfb4_row63_col35{\n",
       "            background-color:  #d5dbe5;\n",
       "            color:  #000000;\n",
       "        }#T_2cfb4_row11_col0,#T_2cfb4_row12_col0,#T_2cfb4_row13_col2,#T_2cfb4_row15_col7,#T_2cfb4_row23_col46,#T_2cfb4_row24_col49,#T_2cfb4_row27_col8,#T_2cfb4_row27_col9,#T_2cfb4_row28_col0,#T_2cfb4_row31_col51,#T_2cfb4_row32_col18,#T_2cfb4_row37_col0,#T_2cfb4_row38_col51,#T_2cfb4_row39_col0,#T_2cfb4_row40_col50,#T_2cfb4_row41_col15,#T_2cfb4_row41_col51,#T_2cfb4_row41_col60,#T_2cfb4_row42_col26,#T_2cfb4_row47_col11,#T_2cfb4_row48_col11,#T_2cfb4_row59_col18,#T_2cfb4_row60_col22,#T_2cfb4_row62_col46{\n",
       "            background-color:  #7699f6;\n",
       "            color:  #000000;\n",
       "        }#T_2cfb4_row11_col37,#T_2cfb4_row19_col26,#T_2cfb4_row20_col26,#T_2cfb4_row48_col49,#T_2cfb4_row56_col51,#T_2cfb4_row57_col51,#T_2cfb4_row62_col37,#T_2cfb4_row62_col49,#T_2cfb4_row63_col49{\n",
       "            background-color:  #455cce;\n",
       "            color:  #f1f1f1;\n",
       "        }#T_2cfb4_row12_col29,#T_2cfb4_row15_col13,#T_2cfb4_row15_col25,#T_2cfb4_row40_col16,#T_2cfb4_row40_col25,#T_2cfb4_row62_col61,#T_2cfb4_row63_col22{\n",
       "            background-color:  #465ecf;\n",
       "            color:  #f1f1f1;\n",
       "        }#T_2cfb4_row12_col30,#T_2cfb4_row19_col63,#T_2cfb4_row20_col63,#T_2cfb4_row21_col5{\n",
       "            background-color:  #ec8165;\n",
       "            color:  #000000;\n",
       "        }#T_2cfb4_row13_col12,#T_2cfb4_row14_col6,#T_2cfb4_row17_col24,#T_2cfb4_row17_col62,#T_2cfb4_row18_col28,#T_2cfb4_row18_col42,#T_2cfb4_row24_col39,#T_2cfb4_row27_col62,#T_2cfb4_row34_col23,#T_2cfb4_row35_col10,#T_2cfb4_row35_col42,#T_2cfb4_row39_col12,#T_2cfb4_row41_col1,#T_2cfb4_row41_col62,#T_2cfb4_row42_col28,#T_2cfb4_row42_col33,#T_2cfb4_row62_col40{\n",
       "            background-color:  #bfd3f6;\n",
       "            color:  #000000;\n",
       "        }#T_2cfb4_row14_col18{\n",
       "            background-color:  #f59d7e;\n",
       "            color:  #000000;\n",
       "        }#T_2cfb4_row16_col33{\n",
       "            background-color:  #f3c8b2;\n",
       "            color:  #000000;\n",
       "        }#T_2cfb4_row16_col34{\n",
       "            background-color:  #e7745b;\n",
       "            color:  #000000;\n",
       "        }#T_2cfb4_row16_col35,#T_2cfb4_row21_col35,#T_2cfb4_row22_col35{\n",
       "            background-color:  #e7d7ce;\n",
       "            color:  #000000;\n",
       "        }#T_2cfb4_row17_col6{\n",
       "            background-color:  #efcebd;\n",
       "            color:  #000000;\n",
       "        }#T_2cfb4_row17_col14,#T_2cfb4_row19_col36,#T_2cfb4_row20_col36,#T_2cfb4_row39_col36,#T_2cfb4_row39_col37,#T_2cfb4_row45_col48,#T_2cfb4_row63_col36,#T_2cfb4_row63_col37{\n",
       "            background-color:  #3c4ec2;\n",
       "            color:  #f1f1f1;\n",
       "        }#T_2cfb4_row17_col39,#T_2cfb4_row31_col35,#T_2cfb4_row41_col39,#T_2cfb4_row45_col39,#T_2cfb4_row47_col39,#T_2cfb4_row48_col39,#T_2cfb4_row55_col39,#T_2cfb4_row58_col35,#T_2cfb4_row59_col35,#T_2cfb4_row62_col39{\n",
       "            background-color:  #d3dbe7;\n",
       "            color:  #000000;\n",
       "        }#T_2cfb4_row18_col14{\n",
       "            background-color:  #f6a586;\n",
       "            color:  #000000;\n",
       "        }#T_2cfb4_row18_col33{\n",
       "            background-color:  #e6d7cf;\n",
       "            color:  #000000;\n",
       "        }#T_2cfb4_row18_col35,#T_2cfb4_row26_col61,#T_2cfb4_row63_col1{\n",
       "            background-color:  #efcfbf;\n",
       "            color:  #000000;\n",
       "        }#T_2cfb4_row19_col0,#T_2cfb4_row20_col0,#T_2cfb4_row28_col6,#T_2cfb4_row35_col19,#T_2cfb4_row35_col20,#T_2cfb4_row37_col63,#T_2cfb4_row38_col62,#T_2cfb4_row42_col63,#T_2cfb4_row44_col63,#T_2cfb4_row53_col35,#T_2cfb4_row54_col63,#T_2cfb4_row60_col63,#T_2cfb4_row61_col35,#T_2cfb4_row63_col0,#T_2cfb4_row63_col39{\n",
       "            background-color:  #cad8ef;\n",
       "            color:  #000000;\n",
       "        }#T_2cfb4_row19_col2,#T_2cfb4_row20_col2{\n",
       "            background-color:  #f2cbb7;\n",
       "            color:  #000000;\n",
       "        }#T_2cfb4_row19_col5,#T_2cfb4_row20_col5{\n",
       "            background-color:  #f6bda2;\n",
       "            color:  #000000;\n",
       "        }#T_2cfb4_row19_col27,#T_2cfb4_row20_col27,#T_2cfb4_row23_col27,#T_2cfb4_row26_col37,#T_2cfb4_row27_col37,#T_2cfb4_row42_col37,#T_2cfb4_row47_col37,#T_2cfb4_row48_col37,#T_2cfb4_row50_col37,#T_2cfb4_row52_col37,#T_2cfb4_row53_col37,#T_2cfb4_row55_col51{\n",
       "            background-color:  #4257c9;\n",
       "            color:  #f1f1f1;\n",
       "        }#T_2cfb4_row21_col3,#T_2cfb4_row21_col4,#T_2cfb4_row22_col3,#T_2cfb4_row22_col4{\n",
       "            background-color:  #ec7f63;\n",
       "            color:  #000000;\n",
       "        }#T_2cfb4_row21_col7,#T_2cfb4_row22_col7,#T_2cfb4_row30_col12{\n",
       "            background-color:  #e97a5f;\n",
       "            color:  #000000;\n",
       "        }#T_2cfb4_row21_col23,#T_2cfb4_row23_col21{\n",
       "            background-color:  #c0282f;\n",
       "            color:  #f1f1f1;\n",
       "        }#T_2cfb4_row21_col24,#T_2cfb4_row22_col24,#T_2cfb4_row23_col3,#T_2cfb4_row23_col4{\n",
       "            background-color:  #f7a889;\n",
       "            color:  #000000;\n",
       "        }#T_2cfb4_row21_col28,#T_2cfb4_row22_col28,#T_2cfb4_row33_col35{\n",
       "            background-color:  #f59f80;\n",
       "            color:  #000000;\n",
       "        }#T_2cfb4_row21_col33,#T_2cfb4_row22_col33,#T_2cfb4_row42_col35{\n",
       "            background-color:  #dcdddd;\n",
       "            color:  #000000;\n",
       "        }#T_2cfb4_row21_col62{\n",
       "            background-color:  #f6bfa6;\n",
       "            color:  #000000;\n",
       "        }#T_2cfb4_row23_col28{\n",
       "            background-color:  #ed8366;\n",
       "            color:  #000000;\n",
       "        }#T_2cfb4_row23_col62,#T_2cfb4_row62_col28{\n",
       "            background-color:  #f7a688;\n",
       "            color:  #000000;\n",
       "        }#T_2cfb4_row24_col3,#T_2cfb4_row24_col4,#T_2cfb4_row24_col5{\n",
       "            background-color:  #ef886b;\n",
       "            color:  #000000;\n",
       "        }#T_2cfb4_row24_col6{\n",
       "            background-color:  #f7b194;\n",
       "            color:  #000000;\n",
       "        }#T_2cfb4_row24_col7{\n",
       "            background-color:  #f6a283;\n",
       "            color:  #000000;\n",
       "        }#T_2cfb4_row24_col19,#T_2cfb4_row24_col20{\n",
       "            background-color:  #f7b599;\n",
       "            color:  #000000;\n",
       "        }#T_2cfb4_row24_col42{\n",
       "            background-color:  #e5d8d1;\n",
       "            color:  #000000;\n",
       "        }#T_2cfb4_row27_col26{\n",
       "            background-color:  #e9785d;\n",
       "            color:  #000000;\n",
       "        }#T_2cfb4_row28_col62{\n",
       "            background-color:  #f29072;\n",
       "            color:  #000000;\n",
       "        }#T_2cfb4_row29_col49,#T_2cfb4_row31_col25,#T_2cfb4_row34_col29,#T_2cfb4_row38_col25,#T_2cfb4_row39_col11,#T_2cfb4_row39_col25,#T_2cfb4_row40_col14,#T_2cfb4_row47_col48,#T_2cfb4_row50_col25,#T_2cfb4_row51_col49,#T_2cfb4_row52_col25,#T_2cfb4_row53_col25,#T_2cfb4_row54_col25,#T_2cfb4_row60_col49,#T_2cfb4_row62_col14{\n",
       "            background-color:  #4b64d5;\n",
       "            color:  #f1f1f1;\n",
       "        }#T_2cfb4_row33_col3,#T_2cfb4_row33_col4,#T_2cfb4_row33_col5,#T_2cfb4_row60_col39,#T_2cfb4_row61_col26{\n",
       "            background-color:  #dfdbd9;\n",
       "            color:  #000000;\n",
       "        }#T_2cfb4_row33_col8,#T_2cfb4_row46_col6,#T_2cfb4_row48_col6{\n",
       "            background-color:  #f4c6af;\n",
       "            color:  #000000;\n",
       "        }#T_2cfb4_row34_col16{\n",
       "            background-color:  #e67259;\n",
       "            color:  #000000;\n",
       "        }#T_2cfb4_row35_col33{\n",
       "            background-color:  #f7b79b;\n",
       "            color:  #000000;\n",
       "        }#T_2cfb4_row40_col62,#T_2cfb4_row41_col63,#T_2cfb4_row50_col39,#T_2cfb4_row52_col39,#T_2cfb4_row61_col6{\n",
       "            background-color:  #dbdcde;\n",
       "            color:  #000000;\n",
       "        }#T_2cfb4_row47_col6{\n",
       "            background-color:  #f7ba9f;\n",
       "            color:  #000000;\n",
       "        }#T_2cfb4_row62_col23{\n",
       "            background-color:  #f3c7b1;\n",
       "            color:  #000000;\n",
       "        }#T_2cfb4_row63_col2{\n",
       "            background-color:  #f0cdbb;\n",
       "            color:  #000000;\n",
       "        }#T_2cfb4_row63_col19,#T_2cfb4_row63_col20{\n",
       "            background-color:  #f18f71;\n",
       "            color:  #000000;\n",
       "        }</style><table id=\"T_2cfb4_\" ><thead>    <tr>        <th class=\"blank level0\" ></th>        <th class=\"col_heading level0 col0\" >Unnamed: 0</th>        <th class=\"col_heading level0 col1\" >id</th>        <th class=\"col_heading level0 col2\" >member_id</th>        <th class=\"col_heading level0 col3\" >loan_amnt</th>        <th class=\"col_heading level0 col4\" >funded_amnt</th>        <th class=\"col_heading level0 col5\" >funded_amnt_inv</th>        <th class=\"col_heading level0 col6\" >int_rate</th>        <th class=\"col_heading level0 col7\" >installment</th>        <th class=\"col_heading level0 col8\" >annual_inc</th>        <th class=\"col_heading level0 col9\" >dti</th>        <th class=\"col_heading level0 col10\" >delinq_2yrs</th>        <th class=\"col_heading level0 col11\" >inq_last_6mths</th>        <th class=\"col_heading level0 col12\" >mths_since_last_delinq</th>        <th class=\"col_heading level0 col13\" >mths_since_last_record</th>        <th class=\"col_heading level0 col14\" >open_acc</th>        <th class=\"col_heading level0 col15\" >pub_rec</th>        <th class=\"col_heading level0 col16\" >revol_bal</th>        <th class=\"col_heading level0 col17\" >revol_util</th>        <th class=\"col_heading level0 col18\" >total_acc</th>        <th class=\"col_heading level0 col19\" >out_prncp</th>        <th class=\"col_heading level0 col20\" >out_prncp_inv</th>        <th class=\"col_heading level0 col21\" >total_pymnt</th>        <th class=\"col_heading level0 col22\" >total_pymnt_inv</th>        <th class=\"col_heading level0 col23\" >total_rec_prncp</th>        <th class=\"col_heading level0 col24\" >total_rec_int</th>        <th class=\"col_heading level0 col25\" >total_rec_late_fee</th>        <th class=\"col_heading level0 col26\" >recoveries</th>        <th class=\"col_heading level0 col27\" >collection_recovery_fee</th>        <th class=\"col_heading level0 col28\" >last_pymnt_amnt</th>        <th class=\"col_heading level0 col29\" >collections_12_mths_ex_med</th>        <th class=\"col_heading level0 col30\" >mths_since_last_major_derog</th>        <th class=\"col_heading level0 col31\" >acc_now_delinq</th>        <th class=\"col_heading level0 col32\" >tot_coll_amt</th>        <th class=\"col_heading level0 col33\" >tot_cur_bal</th>        <th class=\"col_heading level0 col34\" >total_rev_hi_lim</th>        <th class=\"col_heading level0 col35\" >home_ownership_MORTGAGE</th>        <th class=\"col_heading level0 col36\" >home_ownership_NONE</th>        <th class=\"col_heading level0 col37\" >home_ownership_OTHER</th>        <th class=\"col_heading level0 col38\" >home_ownership_OWN</th>        <th class=\"col_heading level0 col39\" >home_ownership_RENT</th>        <th class=\"col_heading level0 col40\" >verification_status_Not Verified</th>        <th class=\"col_heading level0 col41\" >verification_status_Source Verified</th>        <th class=\"col_heading level0 col42\" >verification_status_Verified</th>        <th class=\"col_heading level0 col43\" >grade_A</th>        <th class=\"col_heading level0 col44\" >grade_B</th>        <th class=\"col_heading level0 col45\" >grade_C</th>        <th class=\"col_heading level0 col46\" >grade_D</th>        <th class=\"col_heading level0 col47\" >grade_E</th>        <th class=\"col_heading level0 col48\" >grade_F</th>        <th class=\"col_heading level0 col49\" >grade_G</th>        <th class=\"col_heading level0 col50\" >emp_length_1 year</th>        <th class=\"col_heading level0 col51\" >emp_length_10+ years</th>        <th class=\"col_heading level0 col52\" >emp_length_2 years</th>        <th class=\"col_heading level0 col53\" >emp_length_3 years</th>        <th class=\"col_heading level0 col54\" >emp_length_4 years</th>        <th class=\"col_heading level0 col55\" >emp_length_5 years</th>        <th class=\"col_heading level0 col56\" >emp_length_6 years</th>        <th class=\"col_heading level0 col57\" >emp_length_7 years</th>        <th class=\"col_heading level0 col58\" >emp_length_8 years</th>        <th class=\"col_heading level0 col59\" >emp_length_9 years</th>        <th class=\"col_heading level0 col60\" >emp_length_< 1 year</th>        <th class=\"col_heading level0 col61\" >loan_status_High Risk</th>        <th class=\"col_heading level0 col62\" >loan_status_Low Risk</th>        <th class=\"col_heading level0 col63\" >loan_status_Medium Risk</th>    </tr></thead><tbody>\n",
       "                <tr>\n",
       "                        <th id=\"T_2cfb4_level0_row0\" class=\"row_heading level0 row0\" >Unnamed: 0</th>\n",
       "                        <td id=\"T_2cfb4_row0_col0\" class=\"data row0 col0\" >1.000000</td>\n",
       "                        <td id=\"T_2cfb4_row0_col1\" class=\"data row0 col1\" >0.493961</td>\n",
       "                        <td id=\"T_2cfb4_row0_col2\" class=\"data row0 col2\" >0.503012</td>\n",
       "                        <td id=\"T_2cfb4_row0_col3\" class=\"data row0 col3\" >0.075280</td>\n",
       "                        <td id=\"T_2cfb4_row0_col4\" class=\"data row0 col4\" >0.080041</td>\n",
       "                        <td id=\"T_2cfb4_row0_col5\" class=\"data row0 col5\" >0.090812</td>\n",
       "                        <td id=\"T_2cfb4_row0_col6\" class=\"data row0 col6\" >0.033317</td>\n",
       "                        <td id=\"T_2cfb4_row0_col7\" class=\"data row0 col7\" >0.070622</td>\n",
       "                        <td id=\"T_2cfb4_row0_col8\" class=\"data row0 col8\" >0.029420</td>\n",
       "                        <td id=\"T_2cfb4_row0_col9\" class=\"data row0 col9\" >0.097819</td>\n",
       "                        <td id=\"T_2cfb4_row0_col10\" class=\"data row0 col10\" >0.063348</td>\n",
       "                        <td id=\"T_2cfb4_row0_col11\" class=\"data row0 col11\" >-0.025975</td>\n",
       "                        <td id=\"T_2cfb4_row0_col12\" class=\"data row0 col12\" >-0.023985</td>\n",
       "                        <td id=\"T_2cfb4_row0_col13\" class=\"data row0 col13\" >-0.103226</td>\n",
       "                        <td id=\"T_2cfb4_row0_col14\" class=\"data row0 col14\" >0.092793</td>\n",
       "                        <td id=\"T_2cfb4_row0_col15\" class=\"data row0 col15\" >0.102834</td>\n",
       "                        <td id=\"T_2cfb4_row0_col16\" class=\"data row0 col16\" >0.005599</td>\n",
       "                        <td id=\"T_2cfb4_row0_col17\" class=\"data row0 col17\" >0.011333</td>\n",
       "                        <td id=\"T_2cfb4_row0_col18\" class=\"data row0 col18\" >0.077374</td>\n",
       "                        <td id=\"T_2cfb4_row0_col19\" class=\"data row0 col19\" >0.286973</td>\n",
       "                        <td id=\"T_2cfb4_row0_col20\" class=\"data row0 col20\" >0.286982</td>\n",
       "                        <td id=\"T_2cfb4_row0_col21\" class=\"data row0 col21\" >-0.140655</td>\n",
       "                        <td id=\"T_2cfb4_row0_col22\" class=\"data row0 col22\" >-0.129302</td>\n",
       "                        <td id=\"T_2cfb4_row0_col23\" class=\"data row0 col23\" >-0.145494</td>\n",
       "                        <td id=\"T_2cfb4_row0_col24\" class=\"data row0 col24\" >-0.048047</td>\n",
       "                        <td id=\"T_2cfb4_row0_col25\" class=\"data row0 col25\" >-0.033899</td>\n",
       "                        <td id=\"T_2cfb4_row0_col26\" class=\"data row0 col26\" >-0.036249</td>\n",
       "                        <td id=\"T_2cfb4_row0_col27\" class=\"data row0 col27\" >-0.015140</td>\n",
       "                        <td id=\"T_2cfb4_row0_col28\" class=\"data row0 col28\" >-0.025860</td>\n",
       "                        <td id=\"T_2cfb4_row0_col29\" class=\"data row0 col29\" >0.046955</td>\n",
       "                        <td id=\"T_2cfb4_row0_col30\" class=\"data row0 col30\" >0.027064</td>\n",
       "                        <td id=\"T_2cfb4_row0_col31\" class=\"data row0 col31\" >0.019521</td>\n",
       "                        <td id=\"T_2cfb4_row0_col32\" class=\"data row0 col32\" >0.006304</td>\n",
       "                        <td id=\"T_2cfb4_row0_col33\" class=\"data row0 col33\" >0.003463</td>\n",
       "                        <td id=\"T_2cfb4_row0_col34\" class=\"data row0 col34\" >-0.003047</td>\n",
       "                        <td id=\"T_2cfb4_row0_col35\" class=\"data row0 col35\" >0.011361</td>\n",
       "                        <td id=\"T_2cfb4_row0_col36\" class=\"data row0 col36\" >-0.005568</td>\n",
       "                        <td id=\"T_2cfb4_row0_col37\" class=\"data row0 col37\" >-0.023134</td>\n",
       "                        <td id=\"T_2cfb4_row0_col38\" class=\"data row0 col38\" >0.020226</td>\n",
       "                        <td id=\"T_2cfb4_row0_col39\" class=\"data row0 col39\" >-0.022291</td>\n",
       "                        <td id=\"T_2cfb4_row0_col40\" class=\"data row0 col40\" >-0.044460</td>\n",
       "                        <td id=\"T_2cfb4_row0_col41\" class=\"data row0 col41\" >0.156708</td>\n",
       "                        <td id=\"T_2cfb4_row0_col42\" class=\"data row0 col42\" >-0.109343</td>\n",
       "                        <td id=\"T_2cfb4_row0_col43\" class=\"data row0 col43\" >-0.033093</td>\n",
       "                        <td id=\"T_2cfb4_row0_col44\" class=\"data row0 col44\" >-0.044443</td>\n",
       "                        <td id=\"T_2cfb4_row0_col45\" class=\"data row0 col45\" >0.030995</td>\n",
       "                        <td id=\"T_2cfb4_row0_col46\" class=\"data row0 col46\" >0.043077</td>\n",
       "                        <td id=\"T_2cfb4_row0_col47\" class=\"data row0 col47\" >0.020649</td>\n",
       "                        <td id=\"T_2cfb4_row0_col48\" class=\"data row0 col48\" >-0.013870</td>\n",
       "                        <td id=\"T_2cfb4_row0_col49\" class=\"data row0 col49\" >-0.006258</td>\n",
       "                        <td id=\"T_2cfb4_row0_col50\" class=\"data row0 col50\" >-0.010691</td>\n",
       "                        <td id=\"T_2cfb4_row0_col51\" class=\"data row0 col51\" >0.036843</td>\n",
       "                        <td id=\"T_2cfb4_row0_col52\" class=\"data row0 col52\" >-0.010357</td>\n",
       "                        <td id=\"T_2cfb4_row0_col53\" class=\"data row0 col53\" >-0.010515</td>\n",
       "                        <td id=\"T_2cfb4_row0_col54\" class=\"data row0 col54\" >-0.013401</td>\n",
       "                        <td id=\"T_2cfb4_row0_col55\" class=\"data row0 col55\" >-0.031207</td>\n",
       "                        <td id=\"T_2cfb4_row0_col56\" class=\"data row0 col56\" >-0.013658</td>\n",
       "                        <td id=\"T_2cfb4_row0_col57\" class=\"data row0 col57\" >0.003069</td>\n",
       "                        <td id=\"T_2cfb4_row0_col58\" class=\"data row0 col58\" >0.009964</td>\n",
       "                        <td id=\"T_2cfb4_row0_col59\" class=\"data row0 col59\" >0.008264</td>\n",
       "                        <td id=\"T_2cfb4_row0_col60\" class=\"data row0 col60\" >-0.017700</td>\n",
       "                        <td id=\"T_2cfb4_row0_col61\" class=\"data row0 col61\" >-0.053289</td>\n",
       "                        <td id=\"T_2cfb4_row0_col62\" class=\"data row0 col62\" >-0.257264</td>\n",
       "                        <td id=\"T_2cfb4_row0_col63\" class=\"data row0 col63\" >0.285802</td>\n",
       "            </tr>\n",
       "            <tr>\n",
       "                        <th id=\"T_2cfb4_level0_row1\" class=\"row_heading level0 row1\" >id</th>\n",
       "                        <td id=\"T_2cfb4_row1_col0\" class=\"data row1 col0\" >0.493961</td>\n",
       "                        <td id=\"T_2cfb4_row1_col1\" class=\"data row1 col1\" >1.000000</td>\n",
       "                        <td id=\"T_2cfb4_row1_col2\" class=\"data row1 col2\" >0.997299</td>\n",
       "                        <td id=\"T_2cfb4_row1_col3\" class=\"data row1 col3\" >0.067548</td>\n",
       "                        <td id=\"T_2cfb4_row1_col4\" class=\"data row1 col4\" >0.071156</td>\n",
       "                        <td id=\"T_2cfb4_row1_col5\" class=\"data row1 col5\" >0.080064</td>\n",
       "                        <td id=\"T_2cfb4_row1_col6\" class=\"data row1 col6\" >-0.030501</td>\n",
       "                        <td id=\"T_2cfb4_row1_col7\" class=\"data row1 col7\" >0.039872</td>\n",
       "                        <td id=\"T_2cfb4_row1_col8\" class=\"data row1 col8\" >0.027682</td>\n",
       "                        <td id=\"T_2cfb4_row1_col9\" class=\"data row1 col9\" >0.130292</td>\n",
       "                        <td id=\"T_2cfb4_row1_col10\" class=\"data row1 col10\" >0.072017</td>\n",
       "                        <td id=\"T_2cfb4_row1_col11\" class=\"data row1 col11\" >-0.085187</td>\n",
       "                        <td id=\"T_2cfb4_row1_col12\" class=\"data row1 col12\" >-0.033918</td>\n",
       "                        <td id=\"T_2cfb4_row1_col13\" class=\"data row1 col13\" >-0.127125</td>\n",
       "                        <td id=\"T_2cfb4_row1_col14\" class=\"data row1 col14\" >0.099877</td>\n",
       "                        <td id=\"T_2cfb4_row1_col15\" class=\"data row1 col15\" >0.105556</td>\n",
       "                        <td id=\"T_2cfb4_row1_col16\" class=\"data row1 col16\" >0.029141</td>\n",
       "                        <td id=\"T_2cfb4_row1_col17\" class=\"data row1 col17\" >-0.011008</td>\n",
       "                        <td id=\"T_2cfb4_row1_col18\" class=\"data row1 col18\" >0.074343</td>\n",
       "                        <td id=\"T_2cfb4_row1_col19\" class=\"data row1 col19\" >0.445554</td>\n",
       "                        <td id=\"T_2cfb4_row1_col20\" class=\"data row1 col20\" >0.445650</td>\n",
       "                        <td id=\"T_2cfb4_row1_col21\" class=\"data row1 col21\" >-0.284592</td>\n",
       "                        <td id=\"T_2cfb4_row1_col22\" class=\"data row1 col22\" >-0.275464</td>\n",
       "                        <td id=\"T_2cfb4_row1_col23\" class=\"data row1 col23\" >-0.278268</td>\n",
       "                        <td id=\"T_2cfb4_row1_col24\" class=\"data row1 col24\" >-0.144484</td>\n",
       "                        <td id=\"T_2cfb4_row1_col25\" class=\"data row1 col25\" >-0.042162</td>\n",
       "                        <td id=\"T_2cfb4_row1_col26\" class=\"data row1 col26\" >-0.066163</td>\n",
       "                        <td id=\"T_2cfb4_row1_col27\" class=\"data row1 col27\" >-0.030594</td>\n",
       "                        <td id=\"T_2cfb4_row1_col28\" class=\"data row1 col28\" >-0.078281</td>\n",
       "                        <td id=\"T_2cfb4_row1_col29\" class=\"data row1 col29\" >0.056528</td>\n",
       "                        <td id=\"T_2cfb4_row1_col30\" class=\"data row1 col30\" >0.027452</td>\n",
       "                        <td id=\"T_2cfb4_row1_col31\" class=\"data row1 col31\" >0.026759</td>\n",
       "                        <td id=\"T_2cfb4_row1_col32\" class=\"data row1 col32\" >0.004007</td>\n",
       "                        <td id=\"T_2cfb4_row1_col33\" class=\"data row1 col33\" >0.007763</td>\n",
       "                        <td id=\"T_2cfb4_row1_col34\" class=\"data row1 col34\" >0.024054</td>\n",
       "                        <td id=\"T_2cfb4_row1_col35\" class=\"data row1 col35\" >0.004122</td>\n",
       "                        <td id=\"T_2cfb4_row1_col36\" class=\"data row1 col36\" >-0.010678</td>\n",
       "                        <td id=\"T_2cfb4_row1_col37\" class=\"data row1 col37\" >-0.022328</td>\n",
       "                        <td id=\"T_2cfb4_row1_col38\" class=\"data row1 col38\" >0.031768</td>\n",
       "                        <td id=\"T_2cfb4_row1_col39\" class=\"data row1 col39\" >-0.021554</td>\n",
       "                        <td id=\"T_2cfb4_row1_col40\" class=\"data row1 col40\" >-0.035918</td>\n",
       "                        <td id=\"T_2cfb4_row1_col41\" class=\"data row1 col41\" >0.172532</td>\n",
       "                        <td id=\"T_2cfb4_row1_col42\" class=\"data row1 col42\" >-0.133023</td>\n",
       "                        <td id=\"T_2cfb4_row1_col43\" class=\"data row1 col43\" >-0.012353</td>\n",
       "                        <td id=\"T_2cfb4_row1_col44\" class=\"data row1 col44\" >-0.062080</td>\n",
       "                        <td id=\"T_2cfb4_row1_col45\" class=\"data row1 col45\" >0.031309</td>\n",
       "                        <td id=\"T_2cfb4_row1_col46\" class=\"data row1 col46\" >0.033795</td>\n",
       "                        <td id=\"T_2cfb4_row1_col47\" class=\"data row1 col47\" >0.028565</td>\n",
       "                        <td id=\"T_2cfb4_row1_col48\" class=\"data row1 col48\" >-0.007267</td>\n",
       "                        <td id=\"T_2cfb4_row1_col49\" class=\"data row1 col49\" >-0.000064</td>\n",
       "                        <td id=\"T_2cfb4_row1_col50\" class=\"data row1 col50\" >-0.007672</td>\n",
       "                        <td id=\"T_2cfb4_row1_col51\" class=\"data row1 col51\" >0.036949</td>\n",
       "                        <td id=\"T_2cfb4_row1_col52\" class=\"data row1 col52\" >-0.006719</td>\n",
       "                        <td id=\"T_2cfb4_row1_col53\" class=\"data row1 col53\" >-0.005480</td>\n",
       "                        <td id=\"T_2cfb4_row1_col54\" class=\"data row1 col54\" >-0.012944</td>\n",
       "                        <td id=\"T_2cfb4_row1_col55\" class=\"data row1 col55\" >-0.043081</td>\n",
       "                        <td id=\"T_2cfb4_row1_col56\" class=\"data row1 col56\" >-0.027317</td>\n",
       "                        <td id=\"T_2cfb4_row1_col57\" class=\"data row1 col57\" >-0.003054</td>\n",
       "                        <td id=\"T_2cfb4_row1_col58\" class=\"data row1 col58\" >0.011111</td>\n",
       "                        <td id=\"T_2cfb4_row1_col59\" class=\"data row1 col59\" >0.008728</td>\n",
       "                        <td id=\"T_2cfb4_row1_col60\" class=\"data row1 col60\" >-0.004961</td>\n",
       "                        <td id=\"T_2cfb4_row1_col61\" class=\"data row1 col61\" >-0.091533</td>\n",
       "                        <td id=\"T_2cfb4_row1_col62\" class=\"data row1 col62\" >-0.372635</td>\n",
       "                        <td id=\"T_2cfb4_row1_col63\" class=\"data row1 col63\" >0.423019</td>\n",
       "            </tr>\n",
       "            <tr>\n",
       "                        <th id=\"T_2cfb4_level0_row2\" class=\"row_heading level0 row2\" >member_id</th>\n",
       "                        <td id=\"T_2cfb4_row2_col0\" class=\"data row2 col0\" >0.503012</td>\n",
       "                        <td id=\"T_2cfb4_row2_col1\" class=\"data row2 col1\" >0.997299</td>\n",
       "                        <td id=\"T_2cfb4_row2_col2\" class=\"data row2 col2\" >1.000000</td>\n",
       "                        <td id=\"T_2cfb4_row2_col3\" class=\"data row2 col3\" >0.070217</td>\n",
       "                        <td id=\"T_2cfb4_row2_col4\" class=\"data row2 col4\" >0.073948</td>\n",
       "                        <td id=\"T_2cfb4_row2_col5\" class=\"data row2 col5\" >0.083202</td>\n",
       "                        <td id=\"T_2cfb4_row2_col6\" class=\"data row2 col6\" >-0.028279</td>\n",
       "                        <td id=\"T_2cfb4_row2_col7\" class=\"data row2 col7\" >0.042647</td>\n",
       "                        <td id=\"T_2cfb4_row2_col8\" class=\"data row2 col8\" >0.028461</td>\n",
       "                        <td id=\"T_2cfb4_row2_col9\" class=\"data row2 col9\" >0.129868</td>\n",
       "                        <td id=\"T_2cfb4_row2_col10\" class=\"data row2 col10\" >0.072529</td>\n",
       "                        <td id=\"T_2cfb4_row2_col11\" class=\"data row2 col11\" >-0.086387</td>\n",
       "                        <td id=\"T_2cfb4_row2_col12\" class=\"data row2 col12\" >-0.034006</td>\n",
       "                        <td id=\"T_2cfb4_row2_col13\" class=\"data row2 col13\" >-0.122525</td>\n",
       "                        <td id=\"T_2cfb4_row2_col14\" class=\"data row2 col14\" >0.099941</td>\n",
       "                        <td id=\"T_2cfb4_row2_col15\" class=\"data row2 col15\" >0.107660</td>\n",
       "                        <td id=\"T_2cfb4_row2_col16\" class=\"data row2 col16\" >0.028960</td>\n",
       "                        <td id=\"T_2cfb4_row2_col17\" class=\"data row2 col17\" >-0.010089</td>\n",
       "                        <td id=\"T_2cfb4_row2_col18\" class=\"data row2 col18\" >0.074459</td>\n",
       "                        <td id=\"T_2cfb4_row2_col19\" class=\"data row2 col19\" >0.447996</td>\n",
       "                        <td id=\"T_2cfb4_row2_col20\" class=\"data row2 col20\" >0.448090</td>\n",
       "                        <td id=\"T_2cfb4_row2_col21\" class=\"data row2 col21\" >-0.282845</td>\n",
       "                        <td id=\"T_2cfb4_row2_col22\" class=\"data row2 col22\" >-0.273347</td>\n",
       "                        <td id=\"T_2cfb4_row2_col23\" class=\"data row2 col23\" >-0.277066</td>\n",
       "                        <td id=\"T_2cfb4_row2_col24\" class=\"data row2 col24\" >-0.142028</td>\n",
       "                        <td id=\"T_2cfb4_row2_col25\" class=\"data row2 col25\" >-0.043116</td>\n",
       "                        <td id=\"T_2cfb4_row2_col26\" class=\"data row2 col26\" >-0.066359</td>\n",
       "                        <td id=\"T_2cfb4_row2_col27\" class=\"data row2 col27\" >-0.030749</td>\n",
       "                        <td id=\"T_2cfb4_row2_col28\" class=\"data row2 col28\" >-0.076850</td>\n",
       "                        <td id=\"T_2cfb4_row2_col29\" class=\"data row2 col29\" >0.056772</td>\n",
       "                        <td id=\"T_2cfb4_row2_col30\" class=\"data row2 col30\" >0.027777</td>\n",
       "                        <td id=\"T_2cfb4_row2_col31\" class=\"data row2 col31\" >0.026981</td>\n",
       "                        <td id=\"T_2cfb4_row2_col32\" class=\"data row2 col32\" >0.004087</td>\n",
       "                        <td id=\"T_2cfb4_row2_col33\" class=\"data row2 col33\" >0.008022</td>\n",
       "                        <td id=\"T_2cfb4_row2_col34\" class=\"data row2 col34\" >0.023918</td>\n",
       "                        <td id=\"T_2cfb4_row2_col35\" class=\"data row2 col35\" >0.006271</td>\n",
       "                        <td id=\"T_2cfb4_row2_col36\" class=\"data row2 col36\" >-0.011018</td>\n",
       "                        <td id=\"T_2cfb4_row2_col37\" class=\"data row2 col37\" >-0.023208</td>\n",
       "                        <td id=\"T_2cfb4_row2_col38\" class=\"data row2 col38\" >0.031647</td>\n",
       "                        <td id=\"T_2cfb4_row2_col39\" class=\"data row2 col39\" >-0.023631</td>\n",
       "                        <td id=\"T_2cfb4_row2_col40\" class=\"data row2 col40\" >-0.037715</td>\n",
       "                        <td id=\"T_2cfb4_row2_col41\" class=\"data row2 col41\" >0.173559</td>\n",
       "                        <td id=\"T_2cfb4_row2_col42\" class=\"data row2 col42\" >-0.132279</td>\n",
       "                        <td id=\"T_2cfb4_row2_col43\" class=\"data row2 col43\" >-0.013698</td>\n",
       "                        <td id=\"T_2cfb4_row2_col44\" class=\"data row2 col44\" >-0.061508</td>\n",
       "                        <td id=\"T_2cfb4_row2_col45\" class=\"data row2 col45\" >0.032449</td>\n",
       "                        <td id=\"T_2cfb4_row2_col46\" class=\"data row2 col46\" >0.033767</td>\n",
       "                        <td id=\"T_2cfb4_row2_col47\" class=\"data row2 col47\" >0.028039</td>\n",
       "                        <td id=\"T_2cfb4_row2_col48\" class=\"data row2 col48\" >-0.007804</td>\n",
       "                        <td id=\"T_2cfb4_row2_col49\" class=\"data row2 col49\" >-0.000449</td>\n",
       "                        <td id=\"T_2cfb4_row2_col50\" class=\"data row2 col50\" >-0.008587</td>\n",
       "                        <td id=\"T_2cfb4_row2_col51\" class=\"data row2 col51\" >0.039345</td>\n",
       "                        <td id=\"T_2cfb4_row2_col52\" class=\"data row2 col52\" >-0.007628</td>\n",
       "                        <td id=\"T_2cfb4_row2_col53\" class=\"data row2 col53\" >-0.006039</td>\n",
       "                        <td id=\"T_2cfb4_row2_col54\" class=\"data row2 col54\" >-0.014048</td>\n",
       "                        <td id=\"T_2cfb4_row2_col55\" class=\"data row2 col55\" >-0.043288</td>\n",
       "                        <td id=\"T_2cfb4_row2_col56\" class=\"data row2 col56\" >-0.027550</td>\n",
       "                        <td id=\"T_2cfb4_row2_col57\" class=\"data row2 col57\" >-0.002718</td>\n",
       "                        <td id=\"T_2cfb4_row2_col58\" class=\"data row2 col58\" >0.011326</td>\n",
       "                        <td id=\"T_2cfb4_row2_col59\" class=\"data row2 col59\" >0.008962</td>\n",
       "                        <td id=\"T_2cfb4_row2_col60\" class=\"data row2 col60\" >-0.006795</td>\n",
       "                        <td id=\"T_2cfb4_row2_col61\" class=\"data row2 col61\" >-0.092377</td>\n",
       "                        <td id=\"T_2cfb4_row2_col62\" class=\"data row2 col62\" >-0.378627</td>\n",
       "                        <td id=\"T_2cfb4_row2_col63\" class=\"data row2 col63\" >0.429425</td>\n",
       "            </tr>\n",
       "            <tr>\n",
       "                        <th id=\"T_2cfb4_level0_row3\" class=\"row_heading level0 row3\" >loan_amnt</th>\n",
       "                        <td id=\"T_2cfb4_row3_col0\" class=\"data row3 col0\" >0.075280</td>\n",
       "                        <td id=\"T_2cfb4_row3_col1\" class=\"data row3 col1\" >0.067548</td>\n",
       "                        <td id=\"T_2cfb4_row3_col2\" class=\"data row3 col2\" >0.070217</td>\n",
       "                        <td id=\"T_2cfb4_row3_col3\" class=\"data row3 col3\" >1.000000</td>\n",
       "                        <td id=\"T_2cfb4_row3_col4\" class=\"data row3 col4\" >0.998548</td>\n",
       "                        <td id=\"T_2cfb4_row3_col5\" class=\"data row3 col5\" >0.994347</td>\n",
       "                        <td id=\"T_2cfb4_row3_col6\" class=\"data row3 col6\" >0.167188</td>\n",
       "                        <td id=\"T_2cfb4_row3_col7\" class=\"data row3 col7\" >0.949665</td>\n",
       "                        <td id=\"T_2cfb4_row3_col8\" class=\"data row3 col8\" >0.416638</td>\n",
       "                        <td id=\"T_2cfb4_row3_col9\" class=\"data row3 col9\" >0.057343</td>\n",
       "                        <td id=\"T_2cfb4_row3_col10\" class=\"data row3 col10\" >0.006838</td>\n",
       "                        <td id=\"T_2cfb4_row3_col11\" class=\"data row3 col11\" >-0.020329</td>\n",
       "                        <td id=\"T_2cfb4_row3_col12\" class=\"data row3 col12\" >-0.041340</td>\n",
       "                        <td id=\"T_2cfb4_row3_col13\" class=\"data row3 col13\" >0.011521</td>\n",
       "                        <td id=\"T_2cfb4_row3_col14\" class=\"data row3 col14\" >0.204184</td>\n",
       "                        <td id=\"T_2cfb4_row3_col15\" class=\"data row3 col15\" >-0.081135</td>\n",
       "                        <td id=\"T_2cfb4_row3_col16\" class=\"data row3 col16\" >0.331945</td>\n",
       "                        <td id=\"T_2cfb4_row3_col17\" class=\"data row3 col17\" >0.117766</td>\n",
       "                        <td id=\"T_2cfb4_row3_col18\" class=\"data row3 col18\" >0.235260</td>\n",
       "                        <td id=\"T_2cfb4_row3_col19\" class=\"data row3 col19\" >0.518712</td>\n",
       "                        <td id=\"T_2cfb4_row3_col20\" class=\"data row3 col20\" >0.518672</td>\n",
       "                        <td id=\"T_2cfb4_row3_col21\" class=\"data row3 col21\" >0.743835</td>\n",
       "                        <td id=\"T_2cfb4_row3_col22\" class=\"data row3 col22\" >0.743575</td>\n",
       "                        <td id=\"T_2cfb4_row3_col23\" class=\"data row3 col23\" >0.612767</td>\n",
       "                        <td id=\"T_2cfb4_row3_col24\" class=\"data row3 col24\" >0.715874</td>\n",
       "                        <td id=\"T_2cfb4_row3_col25\" class=\"data row3 col25\" >0.043652</td>\n",
       "                        <td id=\"T_2cfb4_row3_col26\" class=\"data row3 col26\" >0.110694</td>\n",
       "                        <td id=\"T_2cfb4_row3_col27\" class=\"data row3 col27\" >0.077338</td>\n",
       "                        <td id=\"T_2cfb4_row3_col28\" class=\"data row3 col28\" >0.304244</td>\n",
       "                        <td id=\"T_2cfb4_row3_col29\" class=\"data row3 col29\" >-0.008066</td>\n",
       "                        <td id=\"T_2cfb4_row3_col30\" class=\"data row3 col30\" >-0.066378</td>\n",
       "                        <td id=\"T_2cfb4_row3_col31\" class=\"data row3 col31\" >0.006284</td>\n",
       "                        <td id=\"T_2cfb4_row3_col32\" class=\"data row3 col32\" >-0.002859</td>\n",
       "                        <td id=\"T_2cfb4_row3_col33\" class=\"data row3 col33\" >0.333495</td>\n",
       "                        <td id=\"T_2cfb4_row3_col34\" class=\"data row3 col34\" >0.290296</td>\n",
       "                        <td id=\"T_2cfb4_row3_col35\" class=\"data row3 col35\" >0.204241</td>\n",
       "                        <td id=\"T_2cfb4_row3_col36\" class=\"data row3 col36\" >-0.001047</td>\n",
       "                        <td id=\"T_2cfb4_row3_col37\" class=\"data row3 col37\" >-0.008363</td>\n",
       "                        <td id=\"T_2cfb4_row3_col38\" class=\"data row3 col38\" >-0.030888</td>\n",
       "                        <td id=\"T_2cfb4_row3_col39\" class=\"data row3 col39\" >-0.189756</td>\n",
       "                        <td id=\"T_2cfb4_row3_col40\" class=\"data row3 col40\" >-0.356051</td>\n",
       "                        <td id=\"T_2cfb4_row3_col41\" class=\"data row3 col41\" >0.067724</td>\n",
       "                        <td id=\"T_2cfb4_row3_col42\" class=\"data row3 col42\" >0.279442</td>\n",
       "                        <td id=\"T_2cfb4_row3_col43\" class=\"data row3 col43\" >-0.048447</td>\n",
       "                        <td id=\"T_2cfb4_row3_col44\" class=\"data row3 col44\" >-0.093163</td>\n",
       "                        <td id=\"T_2cfb4_row3_col45\" class=\"data row3 col45\" >-0.008762</td>\n",
       "                        <td id=\"T_2cfb4_row3_col46\" class=\"data row3 col46\" >0.039946</td>\n",
       "                        <td id=\"T_2cfb4_row3_col47\" class=\"data row3 col47\" >0.111888</td>\n",
       "                        <td id=\"T_2cfb4_row3_col48\" class=\"data row3 col48\" >0.084882</td>\n",
       "                        <td id=\"T_2cfb4_row3_col49\" class=\"data row3 col49\" >0.064337</td>\n",
       "                        <td id=\"T_2cfb4_row3_col50\" class=\"data row3 col50\" >-0.035959</td>\n",
       "                        <td id=\"T_2cfb4_row3_col51\" class=\"data row3 col51\" >0.121214</td>\n",
       "                        <td id=\"T_2cfb4_row3_col52\" class=\"data row3 col52\" >-0.031515</td>\n",
       "                        <td id=\"T_2cfb4_row3_col53\" class=\"data row3 col53\" >-0.024399</td>\n",
       "                        <td id=\"T_2cfb4_row3_col54\" class=\"data row3 col54\" >-0.018641</td>\n",
       "                        <td id=\"T_2cfb4_row3_col55\" class=\"data row3 col55\" >-0.015999</td>\n",
       "                        <td id=\"T_2cfb4_row3_col56\" class=\"data row3 col56\" >-0.006887</td>\n",
       "                        <td id=\"T_2cfb4_row3_col57\" class=\"data row3 col57\" >0.003668</td>\n",
       "                        <td id=\"T_2cfb4_row3_col58\" class=\"data row3 col58\" >0.005281</td>\n",
       "                        <td id=\"T_2cfb4_row3_col59\" class=\"data row3 col59\" >0.011246</td>\n",
       "                        <td id=\"T_2cfb4_row3_col60\" class=\"data row3 col60\" >-0.042554</td>\n",
       "                        <td id=\"T_2cfb4_row3_col61\" class=\"data row3 col61\" >0.013185</td>\n",
       "                        <td id=\"T_2cfb4_row3_col62\" class=\"data row3 col62\" >-0.113363</td>\n",
       "                        <td id=\"T_2cfb4_row3_col63\" class=\"data row3 col63\" >0.102811</td>\n",
       "            </tr>\n",
       "            <tr>\n",
       "                        <th id=\"T_2cfb4_level0_row4\" class=\"row_heading level0 row4\" >funded_amnt</th>\n",
       "                        <td id=\"T_2cfb4_row4_col0\" class=\"data row4 col0\" >0.080041</td>\n",
       "                        <td id=\"T_2cfb4_row4_col1\" class=\"data row4 col1\" >0.071156</td>\n",
       "                        <td id=\"T_2cfb4_row4_col2\" class=\"data row4 col2\" >0.073948</td>\n",
       "                        <td id=\"T_2cfb4_row4_col3\" class=\"data row4 col3\" >0.998548</td>\n",
       "                        <td id=\"T_2cfb4_row4_col4\" class=\"data row4 col4\" >1.000000</td>\n",
       "                        <td id=\"T_2cfb4_row4_col5\" class=\"data row4 col5\" >0.996125</td>\n",
       "                        <td id=\"T_2cfb4_row4_col6\" class=\"data row4 col6\" >0.167926</td>\n",
       "                        <td id=\"T_2cfb4_row4_col7\" class=\"data row4 col7\" >0.951786</td>\n",
       "                        <td id=\"T_2cfb4_row4_col8\" class=\"data row4 col8\" >0.415974</td>\n",
       "                        <td id=\"T_2cfb4_row4_col9\" class=\"data row4 col9\" >0.058697</td>\n",
       "                        <td id=\"T_2cfb4_row4_col10\" class=\"data row4 col10\" >0.007383</td>\n",
       "                        <td id=\"T_2cfb4_row4_col11\" class=\"data row4 col11\" >-0.020971</td>\n",
       "                        <td id=\"T_2cfb4_row4_col12\" class=\"data row4 col12\" >-0.041422</td>\n",
       "                        <td id=\"T_2cfb4_row4_col13\" class=\"data row4 col13\" >0.011620</td>\n",
       "                        <td id=\"T_2cfb4_row4_col14\" class=\"data row4 col14\" >0.204986</td>\n",
       "                        <td id=\"T_2cfb4_row4_col15\" class=\"data row4 col15\" >-0.080592</td>\n",
       "                        <td id=\"T_2cfb4_row4_col16\" class=\"data row4 col16\" >0.331560</td>\n",
       "                        <td id=\"T_2cfb4_row4_col17\" class=\"data row4 col17\" >0.118895</td>\n",
       "                        <td id=\"T_2cfb4_row4_col18\" class=\"data row4 col18\" >0.235134</td>\n",
       "                        <td id=\"T_2cfb4_row4_col19\" class=\"data row4 col19\" >0.521463</td>\n",
       "                        <td id=\"T_2cfb4_row4_col20\" class=\"data row4 col20\" >0.521425</td>\n",
       "                        <td id=\"T_2cfb4_row4_col21\" class=\"data row4 col21\" >0.743358</td>\n",
       "                        <td id=\"T_2cfb4_row4_col22\" class=\"data row4 col22\" >0.743436</td>\n",
       "                        <td id=\"T_2cfb4_row4_col23\" class=\"data row4 col23\" >0.612308</td>\n",
       "                        <td id=\"T_2cfb4_row4_col24\" class=\"data row4 col24\" >0.715663</td>\n",
       "                        <td id=\"T_2cfb4_row4_col25\" class=\"data row4 col25\" >0.043352</td>\n",
       "                        <td id=\"T_2cfb4_row4_col26\" class=\"data row4 col26\" >0.110341</td>\n",
       "                        <td id=\"T_2cfb4_row4_col27\" class=\"data row4 col27\" >0.077192</td>\n",
       "                        <td id=\"T_2cfb4_row4_col28\" class=\"data row4 col28\" >0.304179</td>\n",
       "                        <td id=\"T_2cfb4_row4_col29\" class=\"data row4 col29\" >-0.007821</td>\n",
       "                        <td id=\"T_2cfb4_row4_col30\" class=\"data row4 col30\" >-0.066363</td>\n",
       "                        <td id=\"T_2cfb4_row4_col31\" class=\"data row4 col31\" >0.006473</td>\n",
       "                        <td id=\"T_2cfb4_row4_col32\" class=\"data row4 col32\" >-0.002859</td>\n",
       "                        <td id=\"T_2cfb4_row4_col33\" class=\"data row4 col33\" >0.333493</td>\n",
       "                        <td id=\"T_2cfb4_row4_col34\" class=\"data row4 col34\" >0.290294</td>\n",
       "                        <td id=\"T_2cfb4_row4_col35\" class=\"data row4 col35\" >0.203965</td>\n",
       "                        <td id=\"T_2cfb4_row4_col36\" class=\"data row4 col36\" >-0.001017</td>\n",
       "                        <td id=\"T_2cfb4_row4_col37\" class=\"data row4 col37\" >-0.009110</td>\n",
       "                        <td id=\"T_2cfb4_row4_col38\" class=\"data row4 col38\" >-0.030623</td>\n",
       "                        <td id=\"T_2cfb4_row4_col39\" class=\"data row4 col39\" >-0.189600</td>\n",
       "                        <td id=\"T_2cfb4_row4_col40\" class=\"data row4 col40\" >-0.355861</td>\n",
       "                        <td id=\"T_2cfb4_row4_col41\" class=\"data row4 col41\" >0.068616</td>\n",
       "                        <td id=\"T_2cfb4_row4_col42\" class=\"data row4 col42\" >0.278389</td>\n",
       "                        <td id=\"T_2cfb4_row4_col43\" class=\"data row4 col43\" >-0.048798</td>\n",
       "                        <td id=\"T_2cfb4_row4_col44\" class=\"data row4 col44\" >-0.093164</td>\n",
       "                        <td id=\"T_2cfb4_row4_col45\" class=\"data row4 col45\" >-0.008069</td>\n",
       "                        <td id=\"T_2cfb4_row4_col46\" class=\"data row4 col46\" >0.040495</td>\n",
       "                        <td id=\"T_2cfb4_row4_col47\" class=\"data row4 col47\" >0.111058</td>\n",
       "                        <td id=\"T_2cfb4_row4_col48\" class=\"data row4 col48\" >0.084081</td>\n",
       "                        <td id=\"T_2cfb4_row4_col49\" class=\"data row4 col49\" >0.064005</td>\n",
       "                        <td id=\"T_2cfb4_row4_col50\" class=\"data row4 col50\" >-0.036110</td>\n",
       "                        <td id=\"T_2cfb4_row4_col51\" class=\"data row4 col51\" >0.121560</td>\n",
       "                        <td id=\"T_2cfb4_row4_col52\" class=\"data row4 col52\" >-0.031587</td>\n",
       "                        <td id=\"T_2cfb4_row4_col53\" class=\"data row4 col53\" >-0.024713</td>\n",
       "                        <td id=\"T_2cfb4_row4_col54\" class=\"data row4 col54\" >-0.018853</td>\n",
       "                        <td id=\"T_2cfb4_row4_col55\" class=\"data row4 col55\" >-0.016117</td>\n",
       "                        <td id=\"T_2cfb4_row4_col56\" class=\"data row4 col56\" >-0.006992</td>\n",
       "                        <td id=\"T_2cfb4_row4_col57\" class=\"data row4 col57\" >0.003901</td>\n",
       "                        <td id=\"T_2cfb4_row4_col58\" class=\"data row4 col58\" >0.005351</td>\n",
       "                        <td id=\"T_2cfb4_row4_col59\" class=\"data row4 col59\" >0.011383</td>\n",
       "                        <td id=\"T_2cfb4_row4_col60\" class=\"data row4 col60\" >-0.042828</td>\n",
       "                        <td id=\"T_2cfb4_row4_col61\" class=\"data row4 col61\" >0.012405</td>\n",
       "                        <td id=\"T_2cfb4_row4_col62\" class=\"data row4 col62\" >-0.115535</td>\n",
       "                        <td id=\"T_2cfb4_row4_col63\" class=\"data row4 col63\" >0.105433</td>\n",
       "            </tr>\n",
       "            <tr>\n",
       "                        <th id=\"T_2cfb4_level0_row5\" class=\"row_heading level0 row5\" >funded_amnt_inv</th>\n",
       "                        <td id=\"T_2cfb4_row5_col0\" class=\"data row5 col0\" >0.090812</td>\n",
       "                        <td id=\"T_2cfb4_row5_col1\" class=\"data row5 col1\" >0.080064</td>\n",
       "                        <td id=\"T_2cfb4_row5_col2\" class=\"data row5 col2\" >0.083202</td>\n",
       "                        <td id=\"T_2cfb4_row5_col3\" class=\"data row5 col3\" >0.994347</td>\n",
       "                        <td id=\"T_2cfb4_row5_col4\" class=\"data row5 col4\" >0.996125</td>\n",
       "                        <td id=\"T_2cfb4_row5_col5\" class=\"data row5 col5\" >1.000000</td>\n",
       "                        <td id=\"T_2cfb4_row5_col6\" class=\"data row5 col6\" >0.169359</td>\n",
       "                        <td id=\"T_2cfb4_row5_col7\" class=\"data row5 col7\" >0.947387</td>\n",
       "                        <td id=\"T_2cfb4_row5_col8\" class=\"data row5 col8\" >0.413138</td>\n",
       "                        <td id=\"T_2cfb4_row5_col9\" class=\"data row5 col9\" >0.062631</td>\n",
       "                        <td id=\"T_2cfb4_row5_col10\" class=\"data row5 col10\" >0.008139</td>\n",
       "                        <td id=\"T_2cfb4_row5_col11\" class=\"data row5 col11\" >-0.027582</td>\n",
       "                        <td id=\"T_2cfb4_row5_col12\" class=\"data row5 col12\" >-0.036648</td>\n",
       "                        <td id=\"T_2cfb4_row5_col13\" class=\"data row5 col13\" >0.056883</td>\n",
       "                        <td id=\"T_2cfb4_row5_col14\" class=\"data row5 col14\" >0.205809</td>\n",
       "                        <td id=\"T_2cfb4_row5_col15\" class=\"data row5 col15\" >-0.078892</td>\n",
       "                        <td id=\"T_2cfb4_row5_col16\" class=\"data row5 col16\" >0.327948</td>\n",
       "                        <td id=\"T_2cfb4_row5_col17\" class=\"data row5 col17\" >0.120784</td>\n",
       "                        <td id=\"T_2cfb4_row5_col18\" class=\"data row5 col18\" >0.235455</td>\n",
       "                        <td id=\"T_2cfb4_row5_col19\" class=\"data row5 col19\" >0.525156</td>\n",
       "                        <td id=\"T_2cfb4_row5_col20\" class=\"data row5 col20\" >0.525128</td>\n",
       "                        <td id=\"T_2cfb4_row5_col21\" class=\"data row5 col21\" >0.738031</td>\n",
       "                        <td id=\"T_2cfb4_row5_col22\" class=\"data row5 col22\" >0.745455</td>\n",
       "                        <td id=\"T_2cfb4_row5_col23\" class=\"data row5 col23\" >0.607017</td>\n",
       "                        <td id=\"T_2cfb4_row5_col24\" class=\"data row5 col24\" >0.713458</td>\n",
       "                        <td id=\"T_2cfb4_row5_col25\" class=\"data row5 col25\" >0.038987</td>\n",
       "                        <td id=\"T_2cfb4_row5_col26\" class=\"data row5 col26\" >0.107948</td>\n",
       "                        <td id=\"T_2cfb4_row5_col27\" class=\"data row5 col27\" >0.073783</td>\n",
       "                        <td id=\"T_2cfb4_row5_col28\" class=\"data row5 col28\" >0.303106</td>\n",
       "                        <td id=\"T_2cfb4_row5_col29\" class=\"data row5 col29\" >-0.007174</td>\n",
       "                        <td id=\"T_2cfb4_row5_col30\" class=\"data row5 col30\" >-0.066305</td>\n",
       "                        <td id=\"T_2cfb4_row5_col31\" class=\"data row5 col31\" >0.006801</td>\n",
       "                        <td id=\"T_2cfb4_row5_col32\" class=\"data row5 col32\" >-0.002858</td>\n",
       "                        <td id=\"T_2cfb4_row5_col33\" class=\"data row5 col33\" >0.333487</td>\n",
       "                        <td id=\"T_2cfb4_row5_col34\" class=\"data row5 col34\" >0.290274</td>\n",
       "                        <td id=\"T_2cfb4_row5_col35\" class=\"data row5 col35\" >0.203795</td>\n",
       "                        <td id=\"T_2cfb4_row5_col36\" class=\"data row5 col36\" >-0.001822</td>\n",
       "                        <td id=\"T_2cfb4_row5_col37\" class=\"data row5 col37\" >-0.013884</td>\n",
       "                        <td id=\"T_2cfb4_row5_col38\" class=\"data row5 col38\" >-0.029791</td>\n",
       "                        <td id=\"T_2cfb4_row5_col39\" class=\"data row5 col39\" >-0.189701</td>\n",
       "                        <td id=\"T_2cfb4_row5_col40\" class=\"data row5 col40\" >-0.359413</td>\n",
       "                        <td id=\"T_2cfb4_row5_col41\" class=\"data row5 col41\" >0.072287</td>\n",
       "                        <td id=\"T_2cfb4_row5_col42\" class=\"data row5 col42\" >0.278263</td>\n",
       "                        <td id=\"T_2cfb4_row5_col43\" class=\"data row5 col43\" >-0.047253</td>\n",
       "                        <td id=\"T_2cfb4_row5_col44\" class=\"data row5 col44\" >-0.092391</td>\n",
       "                        <td id=\"T_2cfb4_row5_col45\" class=\"data row5 col45\" >-0.007655</td>\n",
       "                        <td id=\"T_2cfb4_row5_col46\" class=\"data row5 col46\" >0.040274</td>\n",
       "                        <td id=\"T_2cfb4_row5_col47\" class=\"data row5 col47\" >0.109275</td>\n",
       "                        <td id=\"T_2cfb4_row5_col48\" class=\"data row5 col48\" >0.082213</td>\n",
       "                        <td id=\"T_2cfb4_row5_col49\" class=\"data row5 col49\" >0.061204</td>\n",
       "                        <td id=\"T_2cfb4_row5_col50\" class=\"data row5 col50\" >-0.038112</td>\n",
       "                        <td id=\"T_2cfb4_row5_col51\" class=\"data row5 col51\" >0.123174</td>\n",
       "                        <td id=\"T_2cfb4_row5_col52\" class=\"data row5 col52\" >-0.032362</td>\n",
       "                        <td id=\"T_2cfb4_row5_col53\" class=\"data row5 col53\" >-0.025077</td>\n",
       "                        <td id=\"T_2cfb4_row5_col54\" class=\"data row5 col54\" >-0.019251</td>\n",
       "                        <td id=\"T_2cfb4_row5_col55\" class=\"data row5 col55\" >-0.016039</td>\n",
       "                        <td id=\"T_2cfb4_row5_col56\" class=\"data row5 col56\" >-0.006746</td>\n",
       "                        <td id=\"T_2cfb4_row5_col57\" class=\"data row5 col57\" >0.004603</td>\n",
       "                        <td id=\"T_2cfb4_row5_col58\" class=\"data row5 col58\" >0.005714</td>\n",
       "                        <td id=\"T_2cfb4_row5_col59\" class=\"data row5 col59\" >0.011614</td>\n",
       "                        <td id=\"T_2cfb4_row5_col60\" class=\"data row5 col60\" >-0.044922</td>\n",
       "                        <td id=\"T_2cfb4_row5_col61\" class=\"data row5 col61\" >0.008690</td>\n",
       "                        <td id=\"T_2cfb4_row5_col62\" class=\"data row5 col62\" >-0.120236</td>\n",
       "                        <td id=\"T_2cfb4_row5_col63\" class=\"data row5 col63\" >0.112384</td>\n",
       "            </tr>\n",
       "            <tr>\n",
       "                        <th id=\"T_2cfb4_level0_row6\" class=\"row_heading level0 row6\" >int_rate</th>\n",
       "                        <td id=\"T_2cfb4_row6_col0\" class=\"data row6 col0\" >0.033317</td>\n",
       "                        <td id=\"T_2cfb4_row6_col1\" class=\"data row6 col1\" >-0.030501</td>\n",
       "                        <td id=\"T_2cfb4_row6_col2\" class=\"data row6 col2\" >-0.028279</td>\n",
       "                        <td id=\"T_2cfb4_row6_col3\" class=\"data row6 col3\" >0.167188</td>\n",
       "                        <td id=\"T_2cfb4_row6_col4\" class=\"data row6 col4\" >0.167926</td>\n",
       "                        <td id=\"T_2cfb4_row6_col5\" class=\"data row6 col5\" >0.169359</td>\n",
       "                        <td id=\"T_2cfb4_row6_col6\" class=\"data row6 col6\" >1.000000</td>\n",
       "                        <td id=\"T_2cfb4_row6_col7\" class=\"data row6 col7\" >0.148795</td>\n",
       "                        <td id=\"T_2cfb4_row6_col8\" class=\"data row6 col8\" >-0.051381</td>\n",
       "                        <td id=\"T_2cfb4_row6_col9\" class=\"data row6 col9\" >0.159654</td>\n",
       "                        <td id=\"T_2cfb4_row6_col10\" class=\"data row6 col10\" >0.079185</td>\n",
       "                        <td id=\"T_2cfb4_row6_col11\" class=\"data row6 col11\" >0.205630</td>\n",
       "                        <td id=\"T_2cfb4_row6_col12\" class=\"data row6 col12\" >-0.046605</td>\n",
       "                        <td id=\"T_2cfb4_row6_col13\" class=\"data row6 col13\" >-0.008997</td>\n",
       "                        <td id=\"T_2cfb4_row6_col14\" class=\"data row6 col14\" >0.012296</td>\n",
       "                        <td id=\"T_2cfb4_row6_col15\" class=\"data row6 col15\" >0.066689</td>\n",
       "                        <td id=\"T_2cfb4_row6_col16\" class=\"data row6 col16\" >-0.004633</td>\n",
       "                        <td id=\"T_2cfb4_row6_col17\" class=\"data row6 col17\" >0.323373</td>\n",
       "                        <td id=\"T_2cfb4_row6_col18\" class=\"data row6 col18\" >-0.033019</td>\n",
       "                        <td id=\"T_2cfb4_row6_col19\" class=\"data row6 col19\" >0.137424</td>\n",
       "                        <td id=\"T_2cfb4_row6_col20\" class=\"data row6 col20\" >0.137448</td>\n",
       "                        <td id=\"T_2cfb4_row6_col21\" class=\"data row6 col21\" >0.127044</td>\n",
       "                        <td id=\"T_2cfb4_row6_col22\" class=\"data row6 col22\" >0.129174</td>\n",
       "                        <td id=\"T_2cfb4_row6_col23\" class=\"data row6 col23\" >-0.032125</td>\n",
       "                        <td id=\"T_2cfb4_row6_col24\" class=\"data row6 col24\" >0.485155</td>\n",
       "                        <td id=\"T_2cfb4_row6_col25\" class=\"data row6 col25\" >0.057875</td>\n",
       "                        <td id=\"T_2cfb4_row6_col26\" class=\"data row6 col26\" >0.127893</td>\n",
       "                        <td id=\"T_2cfb4_row6_col27\" class=\"data row6 col27\" >0.082198</td>\n",
       "                        <td id=\"T_2cfb4_row6_col28\" class=\"data row6 col28\" >0.075619</td>\n",
       "                        <td id=\"T_2cfb4_row6_col29\" class=\"data row6 col29\" >0.020305</td>\n",
       "                        <td id=\"T_2cfb4_row6_col30\" class=\"data row6 col30\" >-0.006663</td>\n",
       "                        <td id=\"T_2cfb4_row6_col31\" class=\"data row6 col31\" >0.030338</td>\n",
       "                        <td id=\"T_2cfb4_row6_col32\" class=\"data row6 col32\" >0.000863</td>\n",
       "                        <td id=\"T_2cfb4_row6_col33\" class=\"data row6 col33\" >-0.097688</td>\n",
       "                        <td id=\"T_2cfb4_row6_col34\" class=\"data row6 col34\" >-0.146979</td>\n",
       "                        <td id=\"T_2cfb4_row6_col35\" class=\"data row6 col35\" >-0.062673</td>\n",
       "                        <td id=\"T_2cfb4_row6_col36\" class=\"data row6 col36\" >0.001533</td>\n",
       "                        <td id=\"T_2cfb4_row6_col37\" class=\"data row6 col37\" >-0.001665</td>\n",
       "                        <td id=\"T_2cfb4_row6_col38\" class=\"data row6 col38\" >0.007642</td>\n",
       "                        <td id=\"T_2cfb4_row6_col39\" class=\"data row6 col39\" >0.059444</td>\n",
       "                        <td id=\"T_2cfb4_row6_col40\" class=\"data row6 col40\" >-0.220354</td>\n",
       "                        <td id=\"T_2cfb4_row6_col41\" class=\"data row6 col41\" >0.024152</td>\n",
       "                        <td id=\"T_2cfb4_row6_col42\" class=\"data row6 col42\" >0.190222</td>\n",
       "                        <td id=\"T_2cfb4_row6_col43\" class=\"data row6 col43\" >-0.631350</td>\n",
       "                        <td id=\"T_2cfb4_row6_col44\" class=\"data row6 col44\" >-0.344178</td>\n",
       "                        <td id=\"T_2cfb4_row6_col45\" class=\"data row6 col45\" >0.111959</td>\n",
       "                        <td id=\"T_2cfb4_row6_col46\" class=\"data row6 col46\" >0.378462</td>\n",
       "                        <td id=\"T_2cfb4_row6_col47\" class=\"data row6 col47\" >0.440319</td>\n",
       "                        <td id=\"T_2cfb4_row6_col48\" class=\"data row6 col48\" >0.381246</td>\n",
       "                        <td id=\"T_2cfb4_row6_col49\" class=\"data row6 col49\" >0.214012</td>\n",
       "                        <td id=\"T_2cfb4_row6_col50\" class=\"data row6 col50\" >-0.010032</td>\n",
       "                        <td id=\"T_2cfb4_row6_col51\" class=\"data row6 col51\" >0.021309</td>\n",
       "                        <td id=\"T_2cfb4_row6_col52\" class=\"data row6 col52\" >-0.010106</td>\n",
       "                        <td id=\"T_2cfb4_row6_col53\" class=\"data row6 col53\" >-0.010098</td>\n",
       "                        <td id=\"T_2cfb4_row6_col54\" class=\"data row6 col54\" >-0.007603</td>\n",
       "                        <td id=\"T_2cfb4_row6_col55\" class=\"data row6 col55\" >-0.002141</td>\n",
       "                        <td id=\"T_2cfb4_row6_col56\" class=\"data row6 col56\" >0.001526</td>\n",
       "                        <td id=\"T_2cfb4_row6_col57\" class=\"data row6 col57\" >0.007550</td>\n",
       "                        <td id=\"T_2cfb4_row6_col58\" class=\"data row6 col58\" >0.002333</td>\n",
       "                        <td id=\"T_2cfb4_row6_col59\" class=\"data row6 col59\" >0.003166</td>\n",
       "                        <td id=\"T_2cfb4_row6_col60\" class=\"data row6 col60\" >-0.015646</td>\n",
       "                        <td id=\"T_2cfb4_row6_col61\" class=\"data row6 col61\" >0.174647</td>\n",
       "                        <td id=\"T_2cfb4_row6_col62\" class=\"data row6 col62\" >-0.106077</td>\n",
       "                        <td id=\"T_2cfb4_row6_col63\" class=\"data row6 col63\" >-0.006171</td>\n",
       "            </tr>\n",
       "            <tr>\n",
       "                        <th id=\"T_2cfb4_level0_row7\" class=\"row_heading level0 row7\" >installment</th>\n",
       "                        <td id=\"T_2cfb4_row7_col0\" class=\"data row7 col0\" >0.070622</td>\n",
       "                        <td id=\"T_2cfb4_row7_col1\" class=\"data row7 col1\" >0.039872</td>\n",
       "                        <td id=\"T_2cfb4_row7_col2\" class=\"data row7 col2\" >0.042647</td>\n",
       "                        <td id=\"T_2cfb4_row7_col3\" class=\"data row7 col3\" >0.949665</td>\n",
       "                        <td id=\"T_2cfb4_row7_col4\" class=\"data row7 col4\" >0.951786</td>\n",
       "                        <td id=\"T_2cfb4_row7_col5\" class=\"data row7 col5\" >0.947387</td>\n",
       "                        <td id=\"T_2cfb4_row7_col6\" class=\"data row7 col6\" >0.148795</td>\n",
       "                        <td id=\"T_2cfb4_row7_col7\" class=\"data row7 col7\" >1.000000</td>\n",
       "                        <td id=\"T_2cfb4_row7_col8\" class=\"data row7 col8\" >0.413127</td>\n",
       "                        <td id=\"T_2cfb4_row7_col9\" class=\"data row7 col9\" >0.049949</td>\n",
       "                        <td id=\"T_2cfb4_row7_col10\" class=\"data row7 col10\" >0.016994</td>\n",
       "                        <td id=\"T_2cfb4_row7_col11\" class=\"data row7 col11\" >0.002240</td>\n",
       "                        <td id=\"T_2cfb4_row7_col12\" class=\"data row7 col12\" >-0.045732</td>\n",
       "                        <td id=\"T_2cfb4_row7_col13\" class=\"data row7 col13\" >-0.002603</td>\n",
       "                        <td id=\"T_2cfb4_row7_col14\" class=\"data row7 col14\" >0.196839</td>\n",
       "                        <td id=\"T_2cfb4_row7_col15\" class=\"data row7 col15\" >-0.070093</td>\n",
       "                        <td id=\"T_2cfb4_row7_col16\" class=\"data row7 col16\" >0.320664</td>\n",
       "                        <td id=\"T_2cfb4_row7_col17\" class=\"data row7 col17\" >0.136865</td>\n",
       "                        <td id=\"T_2cfb4_row7_col18\" class=\"data row7 col18\" >0.215902</td>\n",
       "                        <td id=\"T_2cfb4_row7_col19\" class=\"data row7 col19\" >0.408855</td>\n",
       "                        <td id=\"T_2cfb4_row7_col20\" class=\"data row7 col20\" >0.408828</td>\n",
       "                        <td id=\"T_2cfb4_row7_col21\" class=\"data row7 col21\" >0.764351</td>\n",
       "                        <td id=\"T_2cfb4_row7_col22\" class=\"data row7 col22\" >0.763886</td>\n",
       "                        <td id=\"T_2cfb4_row7_col23\" class=\"data row7 col23\" >0.663386</td>\n",
       "                        <td id=\"T_2cfb4_row7_col24\" class=\"data row7 col24\" >0.641945</td>\n",
       "                        <td id=\"T_2cfb4_row7_col25\" class=\"data row7 col25\" >0.052344</td>\n",
       "                        <td id=\"T_2cfb4_row7_col26\" class=\"data row7 col26\" >0.105671</td>\n",
       "                        <td id=\"T_2cfb4_row7_col27\" class=\"data row7 col27\" >0.075347</td>\n",
       "                        <td id=\"T_2cfb4_row7_col28\" class=\"data row7 col28\" >0.299868</td>\n",
       "                        <td id=\"T_2cfb4_row7_col29\" class=\"data row7 col29\" >-0.006054</td>\n",
       "                        <td id=\"T_2cfb4_row7_col30\" class=\"data row7 col30\" >-0.066466</td>\n",
       "                        <td id=\"T_2cfb4_row7_col31\" class=\"data row7 col31\" >0.008924</td>\n",
       "                        <td id=\"T_2cfb4_row7_col32\" class=\"data row7 col32\" >-0.002359</td>\n",
       "                        <td id=\"T_2cfb4_row7_col33\" class=\"data row7 col33\" >0.301244</td>\n",
       "                        <td id=\"T_2cfb4_row7_col34\" class=\"data row7 col34\" >0.270100</td>\n",
       "                        <td id=\"T_2cfb4_row7_col35\" class=\"data row7 col35\" >0.169966</td>\n",
       "                        <td id=\"T_2cfb4_row7_col36\" class=\"data row7 col36\" >0.000325</td>\n",
       "                        <td id=\"T_2cfb4_row7_col37\" class=\"data row7 col37\" >-0.006587</td>\n",
       "                        <td id=\"T_2cfb4_row7_col38\" class=\"data row7 col38\" >-0.025977</td>\n",
       "                        <td id=\"T_2cfb4_row7_col39\" class=\"data row7 col39\" >-0.157793</td>\n",
       "                        <td id=\"T_2cfb4_row7_col40\" class=\"data row7 col40\" >-0.315482</td>\n",
       "                        <td id=\"T_2cfb4_row7_col41\" class=\"data row7 col41\" >0.042242</td>\n",
       "                        <td id=\"T_2cfb4_row7_col42\" class=\"data row7 col42\" >0.264886</td>\n",
       "                        <td id=\"T_2cfb4_row7_col43\" class=\"data row7 col43\" >-0.036765</td>\n",
       "                        <td id=\"T_2cfb4_row7_col44\" class=\"data row7 col44\" >-0.067888</td>\n",
       "                        <td id=\"T_2cfb4_row7_col45\" class=\"data row7 col45\" >-0.024159</td>\n",
       "                        <td id=\"T_2cfb4_row7_col46\" class=\"data row7 col46\" >0.030508</td>\n",
       "                        <td id=\"T_2cfb4_row7_col47\" class=\"data row7 col47\" >0.092696</td>\n",
       "                        <td id=\"T_2cfb4_row7_col48\" class=\"data row7 col48\" >0.081600</td>\n",
       "                        <td id=\"T_2cfb4_row7_col49\" class=\"data row7 col49\" >0.066473</td>\n",
       "                        <td id=\"T_2cfb4_row7_col50\" class=\"data row7 col50\" >-0.031151</td>\n",
       "                        <td id=\"T_2cfb4_row7_col51\" class=\"data row7 col51\" >0.105021</td>\n",
       "                        <td id=\"T_2cfb4_row7_col52\" class=\"data row7 col52\" >-0.027307</td>\n",
       "                        <td id=\"T_2cfb4_row7_col53\" class=\"data row7 col53\" >-0.020440</td>\n",
       "                        <td id=\"T_2cfb4_row7_col54\" class=\"data row7 col54\" >-0.015544</td>\n",
       "                        <td id=\"T_2cfb4_row7_col55\" class=\"data row7 col55\" >-0.013628</td>\n",
       "                        <td id=\"T_2cfb4_row7_col56\" class=\"data row7 col56\" >-0.005348</td>\n",
       "                        <td id=\"T_2cfb4_row7_col57\" class=\"data row7 col57\" >0.003891</td>\n",
       "                        <td id=\"T_2cfb4_row7_col58\" class=\"data row7 col58\" >0.005076</td>\n",
       "                        <td id=\"T_2cfb4_row7_col59\" class=\"data row7 col59\" >0.009374</td>\n",
       "                        <td id=\"T_2cfb4_row7_col60\" class=\"data row7 col60\" >-0.038515</td>\n",
       "                        <td id=\"T_2cfb4_row7_col61\" class=\"data row7 col61\" >0.015352</td>\n",
       "                        <td id=\"T_2cfb4_row7_col62\" class=\"data row7 col62\" >-0.074848</td>\n",
       "                        <td id=\"T_2cfb4_row7_col63\" class=\"data row7 col63\" >0.063690</td>\n",
       "            </tr>\n",
       "            <tr>\n",
       "                        <th id=\"T_2cfb4_level0_row8\" class=\"row_heading level0 row8\" >annual_inc</th>\n",
       "                        <td id=\"T_2cfb4_row8_col0\" class=\"data row8 col0\" >0.029420</td>\n",
       "                        <td id=\"T_2cfb4_row8_col1\" class=\"data row8 col1\" >0.027682</td>\n",
       "                        <td id=\"T_2cfb4_row8_col2\" class=\"data row8 col2\" >0.028461</td>\n",
       "                        <td id=\"T_2cfb4_row8_col3\" class=\"data row8 col3\" >0.416638</td>\n",
       "                        <td id=\"T_2cfb4_row8_col4\" class=\"data row8 col4\" >0.415974</td>\n",
       "                        <td id=\"T_2cfb4_row8_col5\" class=\"data row8 col5\" >0.413138</td>\n",
       "                        <td id=\"T_2cfb4_row8_col6\" class=\"data row8 col6\" >-0.051381</td>\n",
       "                        <td id=\"T_2cfb4_row8_col7\" class=\"data row8 col7\" >0.413127</td>\n",
       "                        <td id=\"T_2cfb4_row8_col8\" class=\"data row8 col8\" >1.000000</td>\n",
       "                        <td id=\"T_2cfb4_row8_col9\" class=\"data row8 col9\" >-0.207884</td>\n",
       "                        <td id=\"T_2cfb4_row8_col10\" class=\"data row8 col10\" >0.065746</td>\n",
       "                        <td id=\"T_2cfb4_row8_col11\" class=\"data row8 col11\" >0.062704</td>\n",
       "                        <td id=\"T_2cfb4_row8_col12\" class=\"data row8 col12\" >-0.070359</td>\n",
       "                        <td id=\"T_2cfb4_row8_col13\" class=\"data row8 col13\" >-0.116738</td>\n",
       "                        <td id=\"T_2cfb4_row8_col14\" class=\"data row8 col14\" >0.176801</td>\n",
       "                        <td id=\"T_2cfb4_row8_col15\" class=\"data row8 col15\" >-0.017367</td>\n",
       "                        <td id=\"T_2cfb4_row8_col16\" class=\"data row8 col16\" >0.365480</td>\n",
       "                        <td id=\"T_2cfb4_row8_col17\" class=\"data row8 col17\" >0.043350</td>\n",
       "                        <td id=\"T_2cfb4_row8_col18\" class=\"data row8 col18\" >0.252875</td>\n",
       "                        <td id=\"T_2cfb4_row8_col19\" class=\"data row8 col19\" >0.189920</td>\n",
       "                        <td id=\"T_2cfb4_row8_col20\" class=\"data row8 col20\" >0.189920</td>\n",
       "                        <td id=\"T_2cfb4_row8_col21\" class=\"data row8 col21\" >0.335951</td>\n",
       "                        <td id=\"T_2cfb4_row8_col22\" class=\"data row8 col22\" >0.334741</td>\n",
       "                        <td id=\"T_2cfb4_row8_col23\" class=\"data row8 col23\" >0.308741</td>\n",
       "                        <td id=\"T_2cfb4_row8_col24\" class=\"data row8 col24\" >0.239559</td>\n",
       "                        <td id=\"T_2cfb4_row8_col25\" class=\"data row8 col25\" >0.023098</td>\n",
       "                        <td id=\"T_2cfb4_row8_col26\" class=\"data row8 col26\" >0.019425</td>\n",
       "                        <td id=\"T_2cfb4_row8_col27\" class=\"data row8 col27\" >0.015632</td>\n",
       "                        <td id=\"T_2cfb4_row8_col28\" class=\"data row8 col28\" >0.159211</td>\n",
       "                        <td id=\"T_2cfb4_row8_col29\" class=\"data row8 col29\" >-0.000325</td>\n",
       "                        <td id=\"T_2cfb4_row8_col30\" class=\"data row8 col30\" >-0.073188</td>\n",
       "                        <td id=\"T_2cfb4_row8_col31\" class=\"data row8 col31\" >0.019424</td>\n",
       "                        <td id=\"T_2cfb4_row8_col32\" class=\"data row8 col32\" >0.002176</td>\n",
       "                        <td id=\"T_2cfb4_row8_col33\" class=\"data row8 col33\" >0.539960</td>\n",
       "                        <td id=\"T_2cfb4_row8_col34\" class=\"data row8 col34\" >0.324735</td>\n",
       "                        <td id=\"T_2cfb4_row8_col35\" class=\"data row8 col35\" >0.209215</td>\n",
       "                        <td id=\"T_2cfb4_row8_col36\" class=\"data row8 col36\" >-0.001921</td>\n",
       "                        <td id=\"T_2cfb4_row8_col37\" class=\"data row8 col37\" >-0.002635</td>\n",
       "                        <td id=\"T_2cfb4_row8_col38\" class=\"data row8 col38\" >-0.047610</td>\n",
       "                        <td id=\"T_2cfb4_row8_col39\" class=\"data row8 col39\" >-0.185313</td>\n",
       "                        <td id=\"T_2cfb4_row8_col40\" class=\"data row8 col40\" >-0.132386</td>\n",
       "                        <td id=\"T_2cfb4_row8_col41\" class=\"data row8 col41\" >0.049549</td>\n",
       "                        <td id=\"T_2cfb4_row8_col42\" class=\"data row8 col42\" >0.080192</td>\n",
       "                        <td id=\"T_2cfb4_row8_col43\" class=\"data row8 col43\" >0.083553</td>\n",
       "                        <td id=\"T_2cfb4_row8_col44\" class=\"data row8 col44\" >-0.012759</td>\n",
       "                        <td id=\"T_2cfb4_row8_col45\" class=\"data row8 col45\" >-0.036952</td>\n",
       "                        <td id=\"T_2cfb4_row8_col46\" class=\"data row8 col46\" >-0.031233</td>\n",
       "                        <td id=\"T_2cfb4_row8_col47\" class=\"data row8 col47\" >-0.000135</td>\n",
       "                        <td id=\"T_2cfb4_row8_col48\" class=\"data row8 col48\" >0.007450</td>\n",
       "                        <td id=\"T_2cfb4_row8_col49\" class=\"data row8 col49\" >0.022672</td>\n",
       "                        <td id=\"T_2cfb4_row8_col50\" class=\"data row8 col50\" >-0.022159</td>\n",
       "                        <td id=\"T_2cfb4_row8_col51\" class=\"data row8 col51\" >0.095677</td>\n",
       "                        <td id=\"T_2cfb4_row8_col52\" class=\"data row8 col52\" >-0.014218</td>\n",
       "                        <td id=\"T_2cfb4_row8_col53\" class=\"data row8 col53\" >-0.008522</td>\n",
       "                        <td id=\"T_2cfb4_row8_col54\" class=\"data row8 col54\" >-0.008298</td>\n",
       "                        <td id=\"T_2cfb4_row8_col55\" class=\"data row8 col55\" >-0.005901</td>\n",
       "                        <td id=\"T_2cfb4_row8_col56\" class=\"data row8 col56\" >-0.005948</td>\n",
       "                        <td id=\"T_2cfb4_row8_col57\" class=\"data row8 col57\" >-0.000330</td>\n",
       "                        <td id=\"T_2cfb4_row8_col58\" class=\"data row8 col58\" >0.003108</td>\n",
       "                        <td id=\"T_2cfb4_row8_col59\" class=\"data row8 col59\" >0.004960</td>\n",
       "                        <td id=\"T_2cfb4_row8_col60\" class=\"data row8 col60\" >-0.028999</td>\n",
       "                        <td id=\"T_2cfb4_row8_col61\" class=\"data row8 col61\" >-0.054995</td>\n",
       "                        <td id=\"T_2cfb4_row8_col62\" class=\"data row8 col62\" >0.006107</td>\n",
       "                        <td id=\"T_2cfb4_row8_col63\" class=\"data row8 col63\" >0.028701</td>\n",
       "            </tr>\n",
       "            <tr>\n",
       "                        <th id=\"T_2cfb4_level0_row9\" class=\"row_heading level0 row9\" >dti</th>\n",
       "                        <td id=\"T_2cfb4_row9_col0\" class=\"data row9 col0\" >0.097819</td>\n",
       "                        <td id=\"T_2cfb4_row9_col1\" class=\"data row9 col1\" >0.130292</td>\n",
       "                        <td id=\"T_2cfb4_row9_col2\" class=\"data row9 col2\" >0.129868</td>\n",
       "                        <td id=\"T_2cfb4_row9_col3\" class=\"data row9 col3\" >0.057343</td>\n",
       "                        <td id=\"T_2cfb4_row9_col4\" class=\"data row9 col4\" >0.058697</td>\n",
       "                        <td id=\"T_2cfb4_row9_col5\" class=\"data row9 col5\" >0.062631</td>\n",
       "                        <td id=\"T_2cfb4_row9_col6\" class=\"data row9 col6\" >0.159654</td>\n",
       "                        <td id=\"T_2cfb4_row9_col7\" class=\"data row9 col7\" >0.049949</td>\n",
       "                        <td id=\"T_2cfb4_row9_col8\" class=\"data row9 col8\" >-0.207884</td>\n",
       "                        <td id=\"T_2cfb4_row9_col9\" class=\"data row9 col9\" >1.000000</td>\n",
       "                        <td id=\"T_2cfb4_row9_col10\" class=\"data row9 col10\" >-0.003685</td>\n",
       "                        <td id=\"T_2cfb4_row9_col11\" class=\"data row9 col11\" >-0.012527</td>\n",
       "                        <td id=\"T_2cfb4_row9_col12\" class=\"data row9 col12\" >0.007567</td>\n",
       "                        <td id=\"T_2cfb4_row9_col13\" class=\"data row9 col13\" >0.082460</td>\n",
       "                        <td id=\"T_2cfb4_row9_col14\" class=\"data row9 col14\" >0.303944</td>\n",
       "                        <td id=\"T_2cfb4_row9_col15\" class=\"data row9 col15\" >-0.046197</td>\n",
       "                        <td id=\"T_2cfb4_row9_col16\" class=\"data row9 col16\" >0.143901</td>\n",
       "                        <td id=\"T_2cfb4_row9_col17\" class=\"data row9 col17\" >0.200403</td>\n",
       "                        <td id=\"T_2cfb4_row9_col18\" class=\"data row9 col18\" >0.228233</td>\n",
       "                        <td id=\"T_2cfb4_row9_col19\" class=\"data row9 col19\" >0.119985</td>\n",
       "                        <td id=\"T_2cfb4_row9_col20\" class=\"data row9 col20\" >0.119973</td>\n",
       "                        <td id=\"T_2cfb4_row9_col21\" class=\"data row9 col21\" >-0.025978</td>\n",
       "                        <td id=\"T_2cfb4_row9_col22\" class=\"data row9 col22\" >-0.021758</td>\n",
       "                        <td id=\"T_2cfb4_row9_col23\" class=\"data row9 col23\" >-0.063865</td>\n",
       "                        <td id=\"T_2cfb4_row9_col24\" class=\"data row9 col24\" >0.089593</td>\n",
       "                        <td id=\"T_2cfb4_row9_col25\" class=\"data row9 col25\" >-0.005752</td>\n",
       "                        <td id=\"T_2cfb4_row9_col26\" class=\"data row9 col26\" >0.021457</td>\n",
       "                        <td id=\"T_2cfb4_row9_col27\" class=\"data row9 col27\" >0.018080</td>\n",
       "                        <td id=\"T_2cfb4_row9_col28\" class=\"data row9 col28\" >-0.043052</td>\n",
       "                        <td id=\"T_2cfb4_row9_col29\" class=\"data row9 col29\" >0.000305</td>\n",
       "                        <td id=\"T_2cfb4_row9_col30\" class=\"data row9 col30\" >0.029151</td>\n",
       "                        <td id=\"T_2cfb4_row9_col31\" class=\"data row9 col31\" >0.009489</td>\n",
       "                        <td id=\"T_2cfb4_row9_col32\" class=\"data row9 col32\" >-0.003560</td>\n",
       "                        <td id=\"T_2cfb4_row9_col33\" class=\"data row9 col33\" >-0.018193</td>\n",
       "                        <td id=\"T_2cfb4_row9_col34\" class=\"data row9 col34\" >0.061154</td>\n",
       "                        <td id=\"T_2cfb4_row9_col35\" class=\"data row9 col35\" >-0.005679</td>\n",
       "                        <td id=\"T_2cfb4_row9_col36\" class=\"data row9 col36\" >-0.000012</td>\n",
       "                        <td id=\"T_2cfb4_row9_col37\" class=\"data row9 col37\" >-0.007217</td>\n",
       "                        <td id=\"T_2cfb4_row9_col38\" class=\"data row9 col38\" >0.027341</td>\n",
       "                        <td id=\"T_2cfb4_row9_col39\" class=\"data row9 col39\" >-0.009829</td>\n",
       "                        <td id=\"T_2cfb4_row9_col40\" class=\"data row9 col40\" >-0.107204</td>\n",
       "                        <td id=\"T_2cfb4_row9_col41\" class=\"data row9 col41\" >0.010240</td>\n",
       "                        <td id=\"T_2cfb4_row9_col42\" class=\"data row9 col42\" >0.094015</td>\n",
       "                        <td id=\"T_2cfb4_row9_col43\" class=\"data row9 col43\" >-0.130001</td>\n",
       "                        <td id=\"T_2cfb4_row9_col44\" class=\"data row9 col44\" >-0.045230</td>\n",
       "                        <td id=\"T_2cfb4_row9_col45\" class=\"data row9 col45\" >0.045407</td>\n",
       "                        <td id=\"T_2cfb4_row9_col46\" class=\"data row9 col46\" >0.069650</td>\n",
       "                        <td id=\"T_2cfb4_row9_col47\" class=\"data row9 col47\" >0.061320</td>\n",
       "                        <td id=\"T_2cfb4_row9_col48\" class=\"data row9 col48\" >0.029571</td>\n",
       "                        <td id=\"T_2cfb4_row9_col49\" class=\"data row9 col49\" >0.013376</td>\n",
       "                        <td id=\"T_2cfb4_row9_col50\" class=\"data row9 col50\" >-0.016443</td>\n",
       "                        <td id=\"T_2cfb4_row9_col51\" class=\"data row9 col51\" >0.032088</td>\n",
       "                        <td id=\"T_2cfb4_row9_col52\" class=\"data row9 col52\" >-0.017687</td>\n",
       "                        <td id=\"T_2cfb4_row9_col53\" class=\"data row9 col53\" >-0.014178</td>\n",
       "                        <td id=\"T_2cfb4_row9_col54\" class=\"data row9 col54\" >-0.012261</td>\n",
       "                        <td id=\"T_2cfb4_row9_col55\" class=\"data row9 col55\" >-0.009550</td>\n",
       "                        <td id=\"T_2cfb4_row9_col56\" class=\"data row9 col56\" >-0.002013</td>\n",
       "                        <td id=\"T_2cfb4_row9_col57\" class=\"data row9 col57\" >0.003357</td>\n",
       "                        <td id=\"T_2cfb4_row9_col58\" class=\"data row9 col58\" >0.006195</td>\n",
       "                        <td id=\"T_2cfb4_row9_col59\" class=\"data row9 col59\" >0.009232</td>\n",
       "                        <td id=\"T_2cfb4_row9_col60\" class=\"data row9 col60\" >-0.027381</td>\n",
       "                        <td id=\"T_2cfb4_row9_col61\" class=\"data row9 col61\" >0.049081</td>\n",
       "                        <td id=\"T_2cfb4_row9_col62\" class=\"data row9 col62\" >-0.135342</td>\n",
       "                        <td id=\"T_2cfb4_row9_col63\" class=\"data row9 col63\" >0.101716</td>\n",
       "            </tr>\n",
       "            <tr>\n",
       "                        <th id=\"T_2cfb4_level0_row10\" class=\"row_heading level0 row10\" >delinq_2yrs</th>\n",
       "                        <td id=\"T_2cfb4_row10_col0\" class=\"data row10 col0\" >0.063348</td>\n",
       "                        <td id=\"T_2cfb4_row10_col1\" class=\"data row10 col1\" >0.072017</td>\n",
       "                        <td id=\"T_2cfb4_row10_col2\" class=\"data row10 col2\" >0.072529</td>\n",
       "                        <td id=\"T_2cfb4_row10_col3\" class=\"data row10 col3\" >0.006838</td>\n",
       "                        <td id=\"T_2cfb4_row10_col4\" class=\"data row10 col4\" >0.007383</td>\n",
       "                        <td id=\"T_2cfb4_row10_col5\" class=\"data row10 col5\" >0.008139</td>\n",
       "                        <td id=\"T_2cfb4_row10_col6\" class=\"data row10 col6\" >0.079185</td>\n",
       "                        <td id=\"T_2cfb4_row10_col7\" class=\"data row10 col7\" >0.016994</td>\n",
       "                        <td id=\"T_2cfb4_row10_col8\" class=\"data row10 col8\" >0.065746</td>\n",
       "                        <td id=\"T_2cfb4_row10_col9\" class=\"data row10 col9\" >-0.003685</td>\n",
       "                        <td id=\"T_2cfb4_row10_col10\" class=\"data row10 col10\" >1.000000</td>\n",
       "                        <td id=\"T_2cfb4_row10_col11\" class=\"data row10 col11\" >0.017966</td>\n",
       "                        <td id=\"T_2cfb4_row10_col12\" class=\"data row10 col12\" >-0.573958</td>\n",
       "                        <td id=\"T_2cfb4_row10_col13\" class=\"data row10 col13\" >-0.074638</td>\n",
       "                        <td id=\"T_2cfb4_row10_col14\" class=\"data row10 col14\" >0.059117</td>\n",
       "                        <td id=\"T_2cfb4_row10_col15\" class=\"data row10 col15\" >-0.010818</td>\n",
       "                        <td id=\"T_2cfb4_row10_col16\" class=\"data row10 col16\" >-0.031282</td>\n",
       "                        <td id=\"T_2cfb4_row10_col17\" class=\"data row10 col17\" >-0.013170</td>\n",
       "                        <td id=\"T_2cfb4_row10_col18\" class=\"data row10 col18\" >0.130785</td>\n",
       "                        <td id=\"T_2cfb4_row10_col19\" class=\"data row10 col19\" >0.043856</td>\n",
       "                        <td id=\"T_2cfb4_row10_col20\" class=\"data row10 col20\" >0.043852</td>\n",
       "                        <td id=\"T_2cfb4_row10_col21\" class=\"data row10 col21\" >-0.019702</td>\n",
       "                        <td id=\"T_2cfb4_row10_col22\" class=\"data row10 col22\" >-0.018998</td>\n",
       "                        <td id=\"T_2cfb4_row10_col23\" class=\"data row10 col23\" >-0.032103</td>\n",
       "                        <td id=\"T_2cfb4_row10_col24\" class=\"data row10 col24\" >0.024270</td>\n",
       "                        <td id=\"T_2cfb4_row10_col25\" class=\"data row10 col25\" >0.024429</td>\n",
       "                        <td id=\"T_2cfb4_row10_col26\" class=\"data row10 col26\" >0.004485</td>\n",
       "                        <td id=\"T_2cfb4_row10_col27\" class=\"data row10 col27\" >0.005382</td>\n",
       "                        <td id=\"T_2cfb4_row10_col28\" class=\"data row10 col28\" >-0.013738</td>\n",
       "                        <td id=\"T_2cfb4_row10_col29\" class=\"data row10 col29\" >0.039148</td>\n",
       "                        <td id=\"T_2cfb4_row10_col30\" class=\"data row10 col30\" >-0.437099</td>\n",
       "                        <td id=\"T_2cfb4_row10_col31\" class=\"data row10 col31\" >0.126534</td>\n",
       "                        <td id=\"T_2cfb4_row10_col32\" class=\"data row10 col32\" >0.000072</td>\n",
       "                        <td id=\"T_2cfb4_row10_col33\" class=\"data row10 col33\" >0.072836</td>\n",
       "                        <td id=\"T_2cfb4_row10_col34\" class=\"data row10 col34\" >-0.035112</td>\n",
       "                        <td id=\"T_2cfb4_row10_col35\" class=\"data row10 col35\" >0.051683</td>\n",
       "                        <td id=\"T_2cfb4_row10_col36\" class=\"data row10 col36\" >0.001058</td>\n",
       "                        <td id=\"T_2cfb4_row10_col37\" class=\"data row10 col37\" >0.000162</td>\n",
       "                        <td id=\"T_2cfb4_row10_col38\" class=\"data row10 col38\" >-0.002194</td>\n",
       "                        <td id=\"T_2cfb4_row10_col39\" class=\"data row10 col39\" >-0.051405</td>\n",
       "                        <td id=\"T_2cfb4_row10_col40\" class=\"data row10 col40\" >-0.007191</td>\n",
       "                        <td id=\"T_2cfb4_row10_col41\" class=\"data row10 col41\" >0.019768</td>\n",
       "                        <td id=\"T_2cfb4_row10_col42\" class=\"data row10 col42\" >-0.012259</td>\n",
       "                        <td id=\"T_2cfb4_row10_col43\" class=\"data row10 col43\" >-0.076216</td>\n",
       "                        <td id=\"T_2cfb4_row10_col44\" class=\"data row10 col44\" >-0.016382</td>\n",
       "                        <td id=\"T_2cfb4_row10_col45\" class=\"data row10 col45\" >0.027602</td>\n",
       "                        <td id=\"T_2cfb4_row10_col46\" class=\"data row10 col46\" >0.030756</td>\n",
       "                        <td id=\"T_2cfb4_row10_col47\" class=\"data row10 col47\" >0.027166</td>\n",
       "                        <td id=\"T_2cfb4_row10_col48\" class=\"data row10 col48\" >0.019749</td>\n",
       "                        <td id=\"T_2cfb4_row10_col49\" class=\"data row10 col49\" >0.015265</td>\n",
       "                        <td id=\"T_2cfb4_row10_col50\" class=\"data row10 col50\" >0.000874</td>\n",
       "                        <td id=\"T_2cfb4_row10_col51\" class=\"data row10 col51\" >0.040497</td>\n",
       "                        <td id=\"T_2cfb4_row10_col52\" class=\"data row10 col52\" >0.001035</td>\n",
       "                        <td id=\"T_2cfb4_row10_col53\" class=\"data row10 col53\" >-0.008585</td>\n",
       "                        <td id=\"T_2cfb4_row10_col54\" class=\"data row10 col54\" >-0.012873</td>\n",
       "                        <td id=\"T_2cfb4_row10_col55\" class=\"data row10 col55\" >-0.015019</td>\n",
       "                        <td id=\"T_2cfb4_row10_col56\" class=\"data row10 col56\" >-0.011034</td>\n",
       "                        <td id=\"T_2cfb4_row10_col57\" class=\"data row10 col57\" >-0.007966</td>\n",
       "                        <td id=\"T_2cfb4_row10_col58\" class=\"data row10 col58\" >-0.002541</td>\n",
       "                        <td id=\"T_2cfb4_row10_col59\" class=\"data row10 col59\" >-0.000672</td>\n",
       "                        <td id=\"T_2cfb4_row10_col60\" class=\"data row10 col60\" >-0.011498</td>\n",
       "                        <td id=\"T_2cfb4_row10_col61\" class=\"data row10 col61\" >0.002874</td>\n",
       "                        <td id=\"T_2cfb4_row10_col62\" class=\"data row10 col62\" >-0.049553</td>\n",
       "                        <td id=\"T_2cfb4_row10_col63\" class=\"data row10 col63\" >0.046763</td>\n",
       "            </tr>\n",
       "            <tr>\n",
       "                        <th id=\"T_2cfb4_level0_row11\" class=\"row_heading level0 row11\" >inq_last_6mths</th>\n",
       "                        <td id=\"T_2cfb4_row11_col0\" class=\"data row11 col0\" >-0.025975</td>\n",
       "                        <td id=\"T_2cfb4_row11_col1\" class=\"data row11 col1\" >-0.085187</td>\n",
       "                        <td id=\"T_2cfb4_row11_col2\" class=\"data row11 col2\" >-0.086387</td>\n",
       "                        <td id=\"T_2cfb4_row11_col3\" class=\"data row11 col3\" >-0.020329</td>\n",
       "                        <td id=\"T_2cfb4_row11_col4\" class=\"data row11 col4\" >-0.020971</td>\n",
       "                        <td id=\"T_2cfb4_row11_col5\" class=\"data row11 col5\" >-0.027582</td>\n",
       "                        <td id=\"T_2cfb4_row11_col6\" class=\"data row11 col6\" >0.205630</td>\n",
       "                        <td id=\"T_2cfb4_row11_col7\" class=\"data row11 col7\" >0.002240</td>\n",
       "                        <td id=\"T_2cfb4_row11_col8\" class=\"data row11 col8\" >0.062704</td>\n",
       "                        <td id=\"T_2cfb4_row11_col9\" class=\"data row11 col9\" >-0.012527</td>\n",
       "                        <td id=\"T_2cfb4_row11_col10\" class=\"data row11 col10\" >0.017966</td>\n",
       "                        <td id=\"T_2cfb4_row11_col11\" class=\"data row11 col11\" >1.000000</td>\n",
       "                        <td id=\"T_2cfb4_row11_col12\" class=\"data row11 col12\" >0.005074</td>\n",
       "                        <td id=\"T_2cfb4_row11_col13\" class=\"data row11 col13\" >-0.118455</td>\n",
       "                        <td id=\"T_2cfb4_row11_col14\" class=\"data row11 col14\" >0.092759</td>\n",
       "                        <td id=\"T_2cfb4_row11_col15\" class=\"data row11 col15\" >0.038315</td>\n",
       "                        <td id=\"T_2cfb4_row11_col16\" class=\"data row11 col16\" >-0.015858</td>\n",
       "                        <td id=\"T_2cfb4_row11_col17\" class=\"data row11 col17\" >-0.094691</td>\n",
       "                        <td id=\"T_2cfb4_row11_col18\" class=\"data row11 col18\" >0.124059</td>\n",
       "                        <td id=\"T_2cfb4_row11_col19\" class=\"data row11 col19\" >-0.070407</td>\n",
       "                        <td id=\"T_2cfb4_row11_col20\" class=\"data row11 col20\" >-0.070396</td>\n",
       "                        <td id=\"T_2cfb4_row11_col21\" class=\"data row11 col21\" >0.020643</td>\n",
       "                        <td id=\"T_2cfb4_row11_col22\" class=\"data row11 col22\" >0.014768</td>\n",
       "                        <td id=\"T_2cfb4_row11_col23\" class=\"data row11 col23\" >0.005306</td>\n",
       "                        <td id=\"T_2cfb4_row11_col24\" class=\"data row11 col24\" >0.044062</td>\n",
       "                        <td id=\"T_2cfb4_row11_col25\" class=\"data row11 col25\" >0.029997</td>\n",
       "                        <td id=\"T_2cfb4_row11_col26\" class=\"data row11 col26\" >0.042947</td>\n",
       "                        <td id=\"T_2cfb4_row11_col27\" class=\"data row11 col27\" >0.032720</td>\n",
       "                        <td id=\"T_2cfb4_row11_col28\" class=\"data row11 col28\" >0.041239</td>\n",
       "                        <td id=\"T_2cfb4_row11_col29\" class=\"data row11 col29\" >-0.001804</td>\n",
       "                        <td id=\"T_2cfb4_row11_col30\" class=\"data row11 col30\" >0.017941</td>\n",
       "                        <td id=\"T_2cfb4_row11_col31\" class=\"data row11 col31\" >-0.006917</td>\n",
       "                        <td id=\"T_2cfb4_row11_col32\" class=\"data row11 col32\" >0.001887</td>\n",
       "                        <td id=\"T_2cfb4_row11_col33\" class=\"data row11 col33\" >0.060246</td>\n",
       "                        <td id=\"T_2cfb4_row11_col34\" class=\"data row11 col34\" >0.008314</td>\n",
       "                        <td id=\"T_2cfb4_row11_col35\" class=\"data row11 col35\" >0.055872</td>\n",
       "                        <td id=\"T_2cfb4_row11_col36\" class=\"data row11 col36\" >-0.002377</td>\n",
       "                        <td id=\"T_2cfb4_row11_col37\" class=\"data row11 col37\" >0.012984</td>\n",
       "                        <td id=\"T_2cfb4_row11_col38\" class=\"data row11 col38\" >-0.004344</td>\n",
       "                        <td id=\"T_2cfb4_row11_col39\" class=\"data row11 col39\" >-0.054868</td>\n",
       "                        <td id=\"T_2cfb4_row11_col40\" class=\"data row11 col40\" >-0.039772</td>\n",
       "                        <td id=\"T_2cfb4_row11_col41\" class=\"data row11 col41\" >-0.011015</td>\n",
       "                        <td id=\"T_2cfb4_row11_col42\" class=\"data row11 col42\" >0.049289</td>\n",
       "                        <td id=\"T_2cfb4_row11_col43\" class=\"data row11 col43\" >-0.119892</td>\n",
       "                        <td id=\"T_2cfb4_row11_col44\" class=\"data row11 col44\" >-0.097251</td>\n",
       "                        <td id=\"T_2cfb4_row11_col45\" class=\"data row11 col45\" >0.029176</td>\n",
       "                        <td id=\"T_2cfb4_row11_col46\" class=\"data row11 col46\" >0.084472</td>\n",
       "                        <td id=\"T_2cfb4_row11_col47\" class=\"data row11 col47\" >0.089078</td>\n",
       "                        <td id=\"T_2cfb4_row11_col48\" class=\"data row11 col48\" >0.087630</td>\n",
       "                        <td id=\"T_2cfb4_row11_col49\" class=\"data row11 col49\" >0.068626</td>\n",
       "                        <td id=\"T_2cfb4_row11_col50\" class=\"data row11 col50\" >0.007810</td>\n",
       "                        <td id=\"T_2cfb4_row11_col51\" class=\"data row11 col51\" >-0.011569</td>\n",
       "                        <td id=\"T_2cfb4_row11_col52\" class=\"data row11 col52\" >0.004764</td>\n",
       "                        <td id=\"T_2cfb4_row11_col53\" class=\"data row11 col53\" >0.002911</td>\n",
       "                        <td id=\"T_2cfb4_row11_col54\" class=\"data row11 col54\" >0.002586</td>\n",
       "                        <td id=\"T_2cfb4_row11_col55\" class=\"data row11 col55\" >0.004992</td>\n",
       "                        <td id=\"T_2cfb4_row11_col56\" class=\"data row11 col56\" >0.002440</td>\n",
       "                        <td id=\"T_2cfb4_row11_col57\" class=\"data row11 col57\" >0.000102</td>\n",
       "                        <td id=\"T_2cfb4_row11_col58\" class=\"data row11 col58\" >-0.003081</td>\n",
       "                        <td id=\"T_2cfb4_row11_col59\" class=\"data row11 col59\" >-0.003625</td>\n",
       "                        <td id=\"T_2cfb4_row11_col60\" class=\"data row11 col60\" >0.007622</td>\n",
       "                        <td id=\"T_2cfb4_row11_col61\" class=\"data row11 col61\" >0.073113</td>\n",
       "                        <td id=\"T_2cfb4_row11_col62\" class=\"data row11 col62\" >0.050778</td>\n",
       "                        <td id=\"T_2cfb4_row11_col63\" class=\"data row11 col63\" >-0.095891</td>\n",
       "            </tr>\n",
       "            <tr>\n",
       "                        <th id=\"T_2cfb4_level0_row12\" class=\"row_heading level0 row12\" >mths_since_last_delinq</th>\n",
       "                        <td id=\"T_2cfb4_row12_col0\" class=\"data row12 col0\" >-0.023985</td>\n",
       "                        <td id=\"T_2cfb4_row12_col1\" class=\"data row12 col1\" >-0.033918</td>\n",
       "                        <td id=\"T_2cfb4_row12_col2\" class=\"data row12 col2\" >-0.034006</td>\n",
       "                        <td id=\"T_2cfb4_row12_col3\" class=\"data row12 col3\" >-0.041340</td>\n",
       "                        <td id=\"T_2cfb4_row12_col4\" class=\"data row12 col4\" >-0.041422</td>\n",
       "                        <td id=\"T_2cfb4_row12_col5\" class=\"data row12 col5\" >-0.036648</td>\n",
       "                        <td id=\"T_2cfb4_row12_col6\" class=\"data row12 col6\" >-0.046605</td>\n",
       "                        <td id=\"T_2cfb4_row12_col7\" class=\"data row12 col7\" >-0.045732</td>\n",
       "                        <td id=\"T_2cfb4_row12_col8\" class=\"data row12 col8\" >-0.070359</td>\n",
       "                        <td id=\"T_2cfb4_row12_col9\" class=\"data row12 col9\" >0.007567</td>\n",
       "                        <td id=\"T_2cfb4_row12_col10\" class=\"data row12 col10\" >-0.573958</td>\n",
       "                        <td id=\"T_2cfb4_row12_col11\" class=\"data row12 col11\" >0.005074</td>\n",
       "                        <td id=\"T_2cfb4_row12_col12\" class=\"data row12 col12\" >1.000000</td>\n",
       "                        <td id=\"T_2cfb4_row12_col13\" class=\"data row12 col13\" >0.053148</td>\n",
       "                        <td id=\"T_2cfb4_row12_col14\" class=\"data row12 col14\" >-0.047180</td>\n",
       "                        <td id=\"T_2cfb4_row12_col15\" class=\"data row12 col15\" >0.089460</td>\n",
       "                        <td id=\"T_2cfb4_row12_col16\" class=\"data row12 col16\" >-0.025752</td>\n",
       "                        <td id=\"T_2cfb4_row12_col17\" class=\"data row12 col17\" >0.024530</td>\n",
       "                        <td id=\"T_2cfb4_row12_col18\" class=\"data row12 col18\" >-0.057039</td>\n",
       "                        <td id=\"T_2cfb4_row12_col19\" class=\"data row12 col19\" >-0.049305</td>\n",
       "                        <td id=\"T_2cfb4_row12_col20\" class=\"data row12 col20\" >-0.049292</td>\n",
       "                        <td id=\"T_2cfb4_row12_col21\" class=\"data row12 col21\" >-0.011704</td>\n",
       "                        <td id=\"T_2cfb4_row12_col22\" class=\"data row12 col22\" >-0.007152</td>\n",
       "                        <td id=\"T_2cfb4_row12_col23\" class=\"data row12 col23\" >0.000711</td>\n",
       "                        <td id=\"T_2cfb4_row12_col24\" class=\"data row12 col24\" >-0.038069</td>\n",
       "                        <td id=\"T_2cfb4_row12_col25\" class=\"data row12 col25\" >-0.026264</td>\n",
       "                        <td id=\"T_2cfb4_row12_col26\" class=\"data row12 col26\" >-0.006546</td>\n",
       "                        <td id=\"T_2cfb4_row12_col27\" class=\"data row12 col27\" >-0.007626</td>\n",
       "                        <td id=\"T_2cfb4_row12_col28\" class=\"data row12 col28\" >0.006639</td>\n",
       "                        <td id=\"T_2cfb4_row12_col29\" class=\"data row12 col29\" >-0.032315</td>\n",
       "                        <td id=\"T_2cfb4_row12_col30\" class=\"data row12 col30\" >0.721549</td>\n",
       "                        <td id=\"T_2cfb4_row12_col31\" class=\"data row12 col31\" >-0.130732</td>\n",
       "                        <td id=\"T_2cfb4_row12_col32\" class=\"data row12 col32\" >0.004009</td>\n",
       "                        <td id=\"T_2cfb4_row12_col33\" class=\"data row12 col33\" >-0.101457</td>\n",
       "                        <td id=\"T_2cfb4_row12_col34\" class=\"data row12 col34\" >-0.026203</td>\n",
       "                        <td id=\"T_2cfb4_row12_col35\" class=\"data row12 col35\" >-0.050755</td>\n",
       "                        <td id=\"T_2cfb4_row12_col36\" class=\"data row12 col36\" >-0.000535</td>\n",
       "                        <td id=\"T_2cfb4_row12_col37\" class=\"data row12 col37\" >0.000007</td>\n",
       "                        <td id=\"T_2cfb4_row12_col38\" class=\"data row12 col38\" >0.004744</td>\n",
       "                        <td id=\"T_2cfb4_row12_col39\" class=\"data row12 col39\" >0.049527</td>\n",
       "                        <td id=\"T_2cfb4_row12_col40\" class=\"data row12 col40\" >-0.006586</td>\n",
       "                        <td id=\"T_2cfb4_row12_col41\" class=\"data row12 col41\" >-0.007138</td>\n",
       "                        <td id=\"T_2cfb4_row12_col42\" class=\"data row12 col42\" >0.013459</td>\n",
       "                        <td id=\"T_2cfb4_row12_col43\" class=\"data row12 col43\" >0.041898</td>\n",
       "                        <td id=\"T_2cfb4_row12_col44\" class=\"data row12 col44\" >0.016679</td>\n",
       "                        <td id=\"T_2cfb4_row12_col45\" class=\"data row12 col45\" >-0.010526</td>\n",
       "                        <td id=\"T_2cfb4_row12_col46\" class=\"data row12 col46\" >-0.013461</td>\n",
       "                        <td id=\"T_2cfb4_row12_col47\" class=\"data row12 col47\" >-0.018628</td>\n",
       "                        <td id=\"T_2cfb4_row12_col48\" class=\"data row12 col48\" >-0.020814</td>\n",
       "                        <td id=\"T_2cfb4_row12_col49\" class=\"data row12 col49\" >-0.018472</td>\n",
       "                        <td id=\"T_2cfb4_row12_col50\" class=\"data row12 col50\" >-0.013009</td>\n",
       "                        <td id=\"T_2cfb4_row12_col51\" class=\"data row12 col51\" >-0.032549</td>\n",
       "                        <td id=\"T_2cfb4_row12_col52\" class=\"data row12 col52\" >-0.010911</td>\n",
       "                        <td id=\"T_2cfb4_row12_col53\" class=\"data row12 col53\" >0.001132</td>\n",
       "                        <td id=\"T_2cfb4_row12_col54\" class=\"data row12 col54\" >0.013431</td>\n",
       "                        <td id=\"T_2cfb4_row12_col55\" class=\"data row12 col55\" >0.020860</td>\n",
       "                        <td id=\"T_2cfb4_row12_col56\" class=\"data row12 col56\" >0.024398</td>\n",
       "                        <td id=\"T_2cfb4_row12_col57\" class=\"data row12 col57\" >0.016490</td>\n",
       "                        <td id=\"T_2cfb4_row12_col58\" class=\"data row12 col58\" >0.001017</td>\n",
       "                        <td id=\"T_2cfb4_row12_col59\" class=\"data row12 col59\" >-0.000894</td>\n",
       "                        <td id=\"T_2cfb4_row12_col60\" class=\"data row12 col60\" >-0.005038</td>\n",
       "                        <td id=\"T_2cfb4_row12_col61\" class=\"data row12 col61\" >-0.004851</td>\n",
       "                        <td id=\"T_2cfb4_row12_col62\" class=\"data row12 col62\" >0.040369</td>\n",
       "                        <td id=\"T_2cfb4_row12_col63\" class=\"data row12 col63\" >-0.036092</td>\n",
       "            </tr>\n",
       "            <tr>\n",
       "                        <th id=\"T_2cfb4_level0_row13\" class=\"row_heading level0 row13\" >mths_since_last_record</th>\n",
       "                        <td id=\"T_2cfb4_row13_col0\" class=\"data row13 col0\" >-0.103226</td>\n",
       "                        <td id=\"T_2cfb4_row13_col1\" class=\"data row13 col1\" >-0.127125</td>\n",
       "                        <td id=\"T_2cfb4_row13_col2\" class=\"data row13 col2\" >-0.122525</td>\n",
       "                        <td id=\"T_2cfb4_row13_col3\" class=\"data row13 col3\" >0.011521</td>\n",
       "                        <td id=\"T_2cfb4_row13_col4\" class=\"data row13 col4\" >0.011620</td>\n",
       "                        <td id=\"T_2cfb4_row13_col5\" class=\"data row13 col5\" >0.056883</td>\n",
       "                        <td id=\"T_2cfb4_row13_col6\" class=\"data row13 col6\" >-0.008997</td>\n",
       "                        <td id=\"T_2cfb4_row13_col7\" class=\"data row13 col7\" >-0.002603</td>\n",
       "                        <td id=\"T_2cfb4_row13_col8\" class=\"data row13 col8\" >-0.116738</td>\n",
       "                        <td id=\"T_2cfb4_row13_col9\" class=\"data row13 col9\" >0.082460</td>\n",
       "                        <td id=\"T_2cfb4_row13_col10\" class=\"data row13 col10\" >-0.074638</td>\n",
       "                        <td id=\"T_2cfb4_row13_col11\" class=\"data row13 col11\" >-0.118455</td>\n",
       "                        <td id=\"T_2cfb4_row13_col12\" class=\"data row13 col12\" >0.053148</td>\n",
       "                        <td id=\"T_2cfb4_row13_col13\" class=\"data row13 col13\" >1.000000</td>\n",
       "                        <td id=\"T_2cfb4_row13_col14\" class=\"data row13 col14\" >0.000957</td>\n",
       "                        <td id=\"T_2cfb4_row13_col15\" class=\"data row13 col15\" >-0.168485</td>\n",
       "                        <td id=\"T_2cfb4_row13_col16\" class=\"data row13 col16\" >-0.026832</td>\n",
       "                        <td id=\"T_2cfb4_row13_col17\" class=\"data row13 col17\" >0.121150</td>\n",
       "                        <td id=\"T_2cfb4_row13_col18\" class=\"data row13 col18\" >-0.220147</td>\n",
       "                        <td id=\"T_2cfb4_row13_col19\" class=\"data row13 col19\" >-0.055436</td>\n",
       "                        <td id=\"T_2cfb4_row13_col20\" class=\"data row13 col20\" >-0.055428</td>\n",
       "                        <td id=\"T_2cfb4_row13_col21\" class=\"data row13 col21\" >0.061031</td>\n",
       "                        <td id=\"T_2cfb4_row13_col22\" class=\"data row13 col22\" >0.108857</td>\n",
       "                        <td id=\"T_2cfb4_row13_col23\" class=\"data row13 col23\" >0.059017</td>\n",
       "                        <td id=\"T_2cfb4_row13_col24\" class=\"data row13 col24\" >0.035921</td>\n",
       "                        <td id=\"T_2cfb4_row13_col25\" class=\"data row13 col25\" >-0.046530</td>\n",
       "                        <td id=\"T_2cfb4_row13_col26\" class=\"data row13 col26\" >-0.001969</td>\n",
       "                        <td id=\"T_2cfb4_row13_col27\" class=\"data row13 col27\" >-0.010754</td>\n",
       "                        <td id=\"T_2cfb4_row13_col28\" class=\"data row13 col28\" >0.039023</td>\n",
       "                        <td id=\"T_2cfb4_row13_col29\" class=\"data row13 col29\" >-0.017268</td>\n",
       "                        <td id=\"T_2cfb4_row13_col30\" class=\"data row13 col30\" >0.002451</td>\n",
       "                        <td id=\"T_2cfb4_row13_col31\" class=\"data row13 col31\" >-0.018672</td>\n",
       "                        <td id=\"T_2cfb4_row13_col32\" class=\"data row13 col32\" >-0.075908</td>\n",
       "                        <td id=\"T_2cfb4_row13_col33\" class=\"data row13 col33\" >-0.026249</td>\n",
       "                        <td id=\"T_2cfb4_row13_col34\" class=\"data row13 col34\" >-0.021951</td>\n",
       "                        <td id=\"T_2cfb4_row13_col35\" class=\"data row13 col35\" >0.051538</td>\n",
       "                        <td id=\"T_2cfb4_row13_col36\" class=\"data row13 col36\" >-0.013831</td>\n",
       "                        <td id=\"T_2cfb4_row13_col37\" class=\"data row13 col37\" >0.009495</td>\n",
       "                        <td id=\"T_2cfb4_row13_col38\" class=\"data row13 col38\" >-0.008410</td>\n",
       "                        <td id=\"T_2cfb4_row13_col39\" class=\"data row13 col39\" >-0.047575</td>\n",
       "                        <td id=\"T_2cfb4_row13_col40\" class=\"data row13 col40\" >0.069446</td>\n",
       "                        <td id=\"T_2cfb4_row13_col41\" class=\"data row13 col41\" >-0.063461</td>\n",
       "                        <td id=\"T_2cfb4_row13_col42\" class=\"data row13 col42\" >0.000280</td>\n",
       "                        <td id=\"T_2cfb4_row13_col43\" class=\"data row13 col43\" >0.026093</td>\n",
       "                        <td id=\"T_2cfb4_row13_col44\" class=\"data row13 col44\" >0.063080</td>\n",
       "                        <td id=\"T_2cfb4_row13_col45\" class=\"data row13 col45\" >-0.017117</td>\n",
       "                        <td id=\"T_2cfb4_row13_col46\" class=\"data row13 col46\" >-0.034028</td>\n",
       "                        <td id=\"T_2cfb4_row13_col47\" class=\"data row13 col47\" >-0.030434</td>\n",
       "                        <td id=\"T_2cfb4_row13_col48\" class=\"data row13 col48\" >-0.011515</td>\n",
       "                        <td id=\"T_2cfb4_row13_col49\" class=\"data row13 col49\" >-0.034142</td>\n",
       "                        <td id=\"T_2cfb4_row13_col50\" class=\"data row13 col50\" >-0.041286</td>\n",
       "                        <td id=\"T_2cfb4_row13_col51\" class=\"data row13 col51\" >0.034699</td>\n",
       "                        <td id=\"T_2cfb4_row13_col52\" class=\"data row13 col52\" >-0.027242</td>\n",
       "                        <td id=\"T_2cfb4_row13_col53\" class=\"data row13 col53\" >-0.028471</td>\n",
       "                        <td id=\"T_2cfb4_row13_col54\" class=\"data row13 col54\" >-0.025985</td>\n",
       "                        <td id=\"T_2cfb4_row13_col55\" class=\"data row13 col55\" >-0.004004</td>\n",
       "                        <td id=\"T_2cfb4_row13_col56\" class=\"data row13 col56\" >0.009106</td>\n",
       "                        <td id=\"T_2cfb4_row13_col57\" class=\"data row13 col57\" >0.021440</td>\n",
       "                        <td id=\"T_2cfb4_row13_col58\" class=\"data row13 col58\" >0.025168</td>\n",
       "                        <td id=\"T_2cfb4_row13_col59\" class=\"data row13 col59\" >0.030237</td>\n",
       "                        <td id=\"T_2cfb4_row13_col60\" class=\"data row13 col60\" >-0.043914</td>\n",
       "                        <td id=\"T_2cfb4_row13_col61\" class=\"data row13 col61\" >0.022543</td>\n",
       "                        <td id=\"T_2cfb4_row13_col62\" class=\"data row13 col62\" >0.015439</td>\n",
       "                        <td id=\"T_2cfb4_row13_col63\" class=\"data row13 col63\" >-0.028916</td>\n",
       "            </tr>\n",
       "            <tr>\n",
       "                        <th id=\"T_2cfb4_level0_row14\" class=\"row_heading level0 row14\" >open_acc</th>\n",
       "                        <td id=\"T_2cfb4_row14_col0\" class=\"data row14 col0\" >0.092793</td>\n",
       "                        <td id=\"T_2cfb4_row14_col1\" class=\"data row14 col1\" >0.099877</td>\n",
       "                        <td id=\"T_2cfb4_row14_col2\" class=\"data row14 col2\" >0.099941</td>\n",
       "                        <td id=\"T_2cfb4_row14_col3\" class=\"data row14 col3\" >0.204184</td>\n",
       "                        <td id=\"T_2cfb4_row14_col4\" class=\"data row14 col4\" >0.204986</td>\n",
       "                        <td id=\"T_2cfb4_row14_col5\" class=\"data row14 col5\" >0.205809</td>\n",
       "                        <td id=\"T_2cfb4_row14_col6\" class=\"data row14 col6\" >0.012296</td>\n",
       "                        <td id=\"T_2cfb4_row14_col7\" class=\"data row14 col7\" >0.196839</td>\n",
       "                        <td id=\"T_2cfb4_row14_col8\" class=\"data row14 col8\" >0.176801</td>\n",
       "                        <td id=\"T_2cfb4_row14_col9\" class=\"data row14 col9\" >0.303944</td>\n",
       "                        <td id=\"T_2cfb4_row14_col10\" class=\"data row14 col10\" >0.059117</td>\n",
       "                        <td id=\"T_2cfb4_row14_col11\" class=\"data row14 col11\" >0.092759</td>\n",
       "                        <td id=\"T_2cfb4_row14_col12\" class=\"data row14 col12\" >-0.047180</td>\n",
       "                        <td id=\"T_2cfb4_row14_col13\" class=\"data row14 col13\" >0.000957</td>\n",
       "                        <td id=\"T_2cfb4_row14_col14\" class=\"data row14 col14\" >1.000000</td>\n",
       "                        <td id=\"T_2cfb4_row14_col15\" class=\"data row14 col15\" >-0.030492</td>\n",
       "                        <td id=\"T_2cfb4_row14_col16\" class=\"data row14 col16\" >0.223387</td>\n",
       "                        <td id=\"T_2cfb4_row14_col17\" class=\"data row14 col17\" >-0.124264</td>\n",
       "                        <td id=\"T_2cfb4_row14_col18\" class=\"data row14 col18\" >0.682112</td>\n",
       "                        <td id=\"T_2cfb4_row14_col19\" class=\"data row14 col19\" >0.144553</td>\n",
       "                        <td id=\"T_2cfb4_row14_col20\" class=\"data row14 col20\" >0.144556</td>\n",
       "                        <td id=\"T_2cfb4_row14_col21\" class=\"data row14 col21\" >0.120201</td>\n",
       "                        <td id=\"T_2cfb4_row14_col22\" class=\"data row14 col22\" >0.121893</td>\n",
       "                        <td id=\"T_2cfb4_row14_col23\" class=\"data row14 col23\" >0.097223</td>\n",
       "                        <td id=\"T_2cfb4_row14_col24\" class=\"data row14 col24\" >0.121789</td>\n",
       "                        <td id=\"T_2cfb4_row14_col25\" class=\"data row14 col25\" >-0.006476</td>\n",
       "                        <td id=\"T_2cfb4_row14_col26\" class=\"data row14 col26\" >0.013438</td>\n",
       "                        <td id=\"T_2cfb4_row14_col27\" class=\"data row14 col27\" >0.012087</td>\n",
       "                        <td id=\"T_2cfb4_row14_col28\" class=\"data row14 col28\" >0.054899</td>\n",
       "                        <td id=\"T_2cfb4_row14_col29\" class=\"data row14 col29\" >0.011853</td>\n",
       "                        <td id=\"T_2cfb4_row14_col30\" class=\"data row14 col30\" >-0.002783</td>\n",
       "                        <td id=\"T_2cfb4_row14_col31\" class=\"data row14 col31\" >0.018194</td>\n",
       "                        <td id=\"T_2cfb4_row14_col32\" class=\"data row14 col32\" >-0.000467</td>\n",
       "                        <td id=\"T_2cfb4_row14_col33\" class=\"data row14 col33\" >0.244326</td>\n",
       "                        <td id=\"T_2cfb4_row14_col34\" class=\"data row14 col34\" >0.290975</td>\n",
       "                        <td id=\"T_2cfb4_row14_col35\" class=\"data row14 col35\" >0.136192</td>\n",
       "                        <td id=\"T_2cfb4_row14_col36\" class=\"data row14 col36\" >-0.000502</td>\n",
       "                        <td id=\"T_2cfb4_row14_col37\" class=\"data row14 col37\" >-0.006575</td>\n",
       "                        <td id=\"T_2cfb4_row14_col38\" class=\"data row14 col38\" >-0.012893</td>\n",
       "                        <td id=\"T_2cfb4_row14_col39\" class=\"data row14 col39\" >-0.130978</td>\n",
       "                        <td id=\"T_2cfb4_row14_col40\" class=\"data row14 col40\" >-0.069021</td>\n",
       "                        <td id=\"T_2cfb4_row14_col41\" class=\"data row14 col41\" >0.011573</td>\n",
       "                        <td id=\"T_2cfb4_row14_col42\" class=\"data row14 col42\" >0.055681</td>\n",
       "                        <td id=\"T_2cfb4_row14_col43\" class=\"data row14 col43\" >0.011657</td>\n",
       "                        <td id=\"T_2cfb4_row14_col44\" class=\"data row14 col44\" >-0.016670</td>\n",
       "                        <td id=\"T_2cfb4_row14_col45\" class=\"data row14 col45\" >-0.007567</td>\n",
       "                        <td id=\"T_2cfb4_row14_col46\" class=\"data row14 col46\" >-0.000392</td>\n",
       "                        <td id=\"T_2cfb4_row14_col47\" class=\"data row14 col47\" >0.012669</td>\n",
       "                        <td id=\"T_2cfb4_row14_col48\" class=\"data row14 col48\" >0.010991</td>\n",
       "                        <td id=\"T_2cfb4_row14_col49\" class=\"data row14 col49\" >0.019217</td>\n",
       "                        <td id=\"T_2cfb4_row14_col50\" class=\"data row14 col50\" >-0.009108</td>\n",
       "                        <td id=\"T_2cfb4_row14_col51\" class=\"data row14 col51\" >0.047774</td>\n",
       "                        <td id=\"T_2cfb4_row14_col52\" class=\"data row14 col52\" >-0.006812</td>\n",
       "                        <td id=\"T_2cfb4_row14_col53\" class=\"data row14 col53\" >-0.005422</td>\n",
       "                        <td id=\"T_2cfb4_row14_col54\" class=\"data row14 col54\" >-0.007520</td>\n",
       "                        <td id=\"T_2cfb4_row14_col55\" class=\"data row14 col55\" >-0.006819</td>\n",
       "                        <td id=\"T_2cfb4_row14_col56\" class=\"data row14 col56\" >-0.001881</td>\n",
       "                        <td id=\"T_2cfb4_row14_col57\" class=\"data row14 col57\" >0.000785</td>\n",
       "                        <td id=\"T_2cfb4_row14_col58\" class=\"data row14 col58\" >0.002581</td>\n",
       "                        <td id=\"T_2cfb4_row14_col59\" class=\"data row14 col59\" >0.006283</td>\n",
       "                        <td id=\"T_2cfb4_row14_col60\" class=\"data row14 col60\" >-0.015502</td>\n",
       "                        <td id=\"T_2cfb4_row14_col61\" class=\"data row14 col61\" >-0.005268</td>\n",
       "                        <td id=\"T_2cfb4_row14_col62\" class=\"data row14 col62\" >-0.065525</td>\n",
       "                        <td id=\"T_2cfb4_row14_col63\" class=\"data row14 col63\" >0.067555</td>\n",
       "            </tr>\n",
       "            <tr>\n",
       "                        <th id=\"T_2cfb4_level0_row15\" class=\"row_heading level0 row15\" >pub_rec</th>\n",
       "                        <td id=\"T_2cfb4_row15_col0\" class=\"data row15 col0\" >0.102834</td>\n",
       "                        <td id=\"T_2cfb4_row15_col1\" class=\"data row15 col1\" >0.105556</td>\n",
       "                        <td id=\"T_2cfb4_row15_col2\" class=\"data row15 col2\" >0.107660</td>\n",
       "                        <td id=\"T_2cfb4_row15_col3\" class=\"data row15 col3\" >-0.081135</td>\n",
       "                        <td id=\"T_2cfb4_row15_col4\" class=\"data row15 col4\" >-0.080592</td>\n",
       "                        <td id=\"T_2cfb4_row15_col5\" class=\"data row15 col5\" >-0.078892</td>\n",
       "                        <td id=\"T_2cfb4_row15_col6\" class=\"data row15 col6\" >0.066689</td>\n",
       "                        <td id=\"T_2cfb4_row15_col7\" class=\"data row15 col7\" >-0.070093</td>\n",
       "                        <td id=\"T_2cfb4_row15_col8\" class=\"data row15 col8\" >-0.017367</td>\n",
       "                        <td id=\"T_2cfb4_row15_col9\" class=\"data row15 col9\" >-0.046197</td>\n",
       "                        <td id=\"T_2cfb4_row15_col10\" class=\"data row15 col10\" >-0.010818</td>\n",
       "                        <td id=\"T_2cfb4_row15_col11\" class=\"data row15 col11\" >0.038315</td>\n",
       "                        <td id=\"T_2cfb4_row15_col12\" class=\"data row15 col12\" >0.089460</td>\n",
       "                        <td id=\"T_2cfb4_row15_col13\" class=\"data row15 col13\" >-0.168485</td>\n",
       "                        <td id=\"T_2cfb4_row15_col14\" class=\"data row15 col14\" >-0.030492</td>\n",
       "                        <td id=\"T_2cfb4_row15_col15\" class=\"data row15 col15\" >1.000000</td>\n",
       "                        <td id=\"T_2cfb4_row15_col16\" class=\"data row15 col16\" >-0.098174</td>\n",
       "                        <td id=\"T_2cfb4_row15_col17\" class=\"data row15 col17\" >-0.062489</td>\n",
       "                        <td id=\"T_2cfb4_row15_col18\" class=\"data row15 col18\" >0.007253</td>\n",
       "                        <td id=\"T_2cfb4_row15_col19\" class=\"data row15 col19\" >0.002362</td>\n",
       "                        <td id=\"T_2cfb4_row15_col20\" class=\"data row15 col20\" >0.002353</td>\n",
       "                        <td id=\"T_2cfb4_row15_col21\" class=\"data row15 col21\" >-0.091178</td>\n",
       "                        <td id=\"T_2cfb4_row15_col22\" class=\"data row15 col22\" >-0.089716</td>\n",
       "                        <td id=\"T_2cfb4_row15_col23\" class=\"data row15 col23\" >-0.088769</td>\n",
       "                        <td id=\"T_2cfb4_row15_col24\" class=\"data row15 col24\" >-0.049268</td>\n",
       "                        <td id=\"T_2cfb4_row15_col25\" class=\"data row15 col25\" >-0.011801</td>\n",
       "                        <td id=\"T_2cfb4_row15_col26\" class=\"data row15 col26\" >-0.012687</td>\n",
       "                        <td id=\"T_2cfb4_row15_col27\" class=\"data row15 col27\" >-0.007006</td>\n",
       "                        <td id=\"T_2cfb4_row15_col28\" class=\"data row15 col28\" >-0.027232</td>\n",
       "                        <td id=\"T_2cfb4_row15_col29\" class=\"data row15 col29\" >0.021524</td>\n",
       "                        <td id=\"T_2cfb4_row15_col30\" class=\"data row15 col30\" >0.116688</td>\n",
       "                        <td id=\"T_2cfb4_row15_col31\" class=\"data row15 col31\" >0.002348</td>\n",
       "                        <td id=\"T_2cfb4_row15_col32\" class=\"data row15 col32\" >0.003973</td>\n",
       "                        <td id=\"T_2cfb4_row15_col33\" class=\"data row15 col33\" >-0.075375</td>\n",
       "                        <td id=\"T_2cfb4_row15_col34\" class=\"data row15 col34\" >-0.095965</td>\n",
       "                        <td id=\"T_2cfb4_row15_col35\" class=\"data row15 col35\" >-0.003862</td>\n",
       "                        <td id=\"T_2cfb4_row15_col36\" class=\"data row15 col36\" >-0.003122</td>\n",
       "                        <td id=\"T_2cfb4_row15_col37\" class=\"data row15 col37\" >-0.004723</td>\n",
       "                        <td id=\"T_2cfb4_row15_col38\" class=\"data row15 col38\" >0.005987</td>\n",
       "                        <td id=\"T_2cfb4_row15_col39\" class=\"data row15 col39\" >0.000708</td>\n",
       "                        <td id=\"T_2cfb4_row15_col40\" class=\"data row15 col40\" >-0.061966</td>\n",
       "                        <td id=\"T_2cfb4_row15_col41\" class=\"data row15 col41\" >0.047635</td>\n",
       "                        <td id=\"T_2cfb4_row15_col42\" class=\"data row15 col42\" >0.013753</td>\n",
       "                        <td id=\"T_2cfb4_row15_col43\" class=\"data row15 col43\" >-0.082396</td>\n",
       "                        <td id=\"T_2cfb4_row15_col44\" class=\"data row15 col44\" >-0.006951</td>\n",
       "                        <td id=\"T_2cfb4_row15_col45\" class=\"data row15 col45\" >0.038100</td>\n",
       "                        <td id=\"T_2cfb4_row15_col46\" class=\"data row15 col46\" >0.029614</td>\n",
       "                        <td id=\"T_2cfb4_row15_col47\" class=\"data row15 col47\" >0.017198</td>\n",
       "                        <td id=\"T_2cfb4_row15_col48\" class=\"data row15 col48\" >0.004498</td>\n",
       "                        <td id=\"T_2cfb4_row15_col49\" class=\"data row15 col49\" >0.002526</td>\n",
       "                        <td id=\"T_2cfb4_row15_col50\" class=\"data row15 col50\" >-0.018861</td>\n",
       "                        <td id=\"T_2cfb4_row15_col51\" class=\"data row15 col51\" >0.019860</td>\n",
       "                        <td id=\"T_2cfb4_row15_col52\" class=\"data row15 col52\" >-0.017361</td>\n",
       "                        <td id=\"T_2cfb4_row15_col53\" class=\"data row15 col53\" >-0.010705</td>\n",
       "                        <td id=\"T_2cfb4_row15_col54\" class=\"data row15 col54\" >-0.008576</td>\n",
       "                        <td id=\"T_2cfb4_row15_col55\" class=\"data row15 col55\" >-0.009808</td>\n",
       "                        <td id=\"T_2cfb4_row15_col56\" class=\"data row15 col56\" >-0.003040</td>\n",
       "                        <td id=\"T_2cfb4_row15_col57\" class=\"data row15 col57\" >0.002579</td>\n",
       "                        <td id=\"T_2cfb4_row15_col58\" class=\"data row15 col58\" >0.007035</td>\n",
       "                        <td id=\"T_2cfb4_row15_col59\" class=\"data row15 col59\" >0.002644</td>\n",
       "                        <td id=\"T_2cfb4_row15_col60\" class=\"data row15 col60\" >-0.021512</td>\n",
       "                        <td id=\"T_2cfb4_row15_col61\" class=\"data row15 col61\" >-0.008280</td>\n",
       "                        <td id=\"T_2cfb4_row15_col62\" class=\"data row15 col62\" >-0.047133</td>\n",
       "                        <td id=\"T_2cfb4_row15_col63\" class=\"data row15 col63\" >0.051425</td>\n",
       "            </tr>\n",
       "            <tr>\n",
       "                        <th id=\"T_2cfb4_level0_row16\" class=\"row_heading level0 row16\" >revol_bal</th>\n",
       "                        <td id=\"T_2cfb4_row16_col0\" class=\"data row16 col0\" >0.005599</td>\n",
       "                        <td id=\"T_2cfb4_row16_col1\" class=\"data row16 col1\" >0.029141</td>\n",
       "                        <td id=\"T_2cfb4_row16_col2\" class=\"data row16 col2\" >0.028960</td>\n",
       "                        <td id=\"T_2cfb4_row16_col3\" class=\"data row16 col3\" >0.331945</td>\n",
       "                        <td id=\"T_2cfb4_row16_col4\" class=\"data row16 col4\" >0.331560</td>\n",
       "                        <td id=\"T_2cfb4_row16_col5\" class=\"data row16 col5\" >0.327948</td>\n",
       "                        <td id=\"T_2cfb4_row16_col6\" class=\"data row16 col6\" >-0.004633</td>\n",
       "                        <td id=\"T_2cfb4_row16_col7\" class=\"data row16 col7\" >0.320664</td>\n",
       "                        <td id=\"T_2cfb4_row16_col8\" class=\"data row16 col8\" >0.365480</td>\n",
       "                        <td id=\"T_2cfb4_row16_col9\" class=\"data row16 col9\" >0.143901</td>\n",
       "                        <td id=\"T_2cfb4_row16_col10\" class=\"data row16 col10\" >-0.031282</td>\n",
       "                        <td id=\"T_2cfb4_row16_col11\" class=\"data row16 col11\" >-0.015858</td>\n",
       "                        <td id=\"T_2cfb4_row16_col12\" class=\"data row16 col12\" >-0.025752</td>\n",
       "                        <td id=\"T_2cfb4_row16_col13\" class=\"data row16 col13\" >-0.026832</td>\n",
       "                        <td id=\"T_2cfb4_row16_col14\" class=\"data row16 col14\" >0.223387</td>\n",
       "                        <td id=\"T_2cfb4_row16_col15\" class=\"data row16 col15\" >-0.098174</td>\n",
       "                        <td id=\"T_2cfb4_row16_col16\" class=\"data row16 col16\" >1.000000</td>\n",
       "                        <td id=\"T_2cfb4_row16_col17\" class=\"data row16 col17\" >0.207213</td>\n",
       "                        <td id=\"T_2cfb4_row16_col18\" class=\"data row16 col18\" >0.198994</td>\n",
       "                        <td id=\"T_2cfb4_row16_col19\" class=\"data row16 col19\" >0.181790</td>\n",
       "                        <td id=\"T_2cfb4_row16_col20\" class=\"data row16 col20\" >0.181774</td>\n",
       "                        <td id=\"T_2cfb4_row16_col21\" class=\"data row16 col21\" >0.242372</td>\n",
       "                        <td id=\"T_2cfb4_row16_col22\" class=\"data row16 col22\" >0.240431</td>\n",
       "                        <td id=\"T_2cfb4_row16_col23\" class=\"data row16 col23\" >0.210043</td>\n",
       "                        <td id=\"T_2cfb4_row16_col24\" class=\"data row16 col24\" >0.207240</td>\n",
       "                        <td id=\"T_2cfb4_row16_col25\" class=\"data row16 col25\" >0.005914</td>\n",
       "                        <td id=\"T_2cfb4_row16_col26\" class=\"data row16 col26\" >0.021030</td>\n",
       "                        <td id=\"T_2cfb4_row16_col27\" class=\"data row16 col27\" >0.015201</td>\n",
       "                        <td id=\"T_2cfb4_row16_col28\" class=\"data row16 col28\" >0.087393</td>\n",
       "                        <td id=\"T_2cfb4_row16_col29\" class=\"data row16 col29\" >-0.016186</td>\n",
       "                        <td id=\"T_2cfb4_row16_col30\" class=\"data row16 col30\" >-0.046004</td>\n",
       "                        <td id=\"T_2cfb4_row16_col31\" class=\"data row16 col31\" >0.001008</td>\n",
       "                        <td id=\"T_2cfb4_row16_col32\" class=\"data row16 col32\" >-0.004115</td>\n",
       "                        <td id=\"T_2cfb4_row16_col33\" class=\"data row16 col33\" >0.423400</td>\n",
       "                        <td id=\"T_2cfb4_row16_col34\" class=\"data row16 col34\" >0.809779</td>\n",
       "                        <td id=\"T_2cfb4_row16_col35\" class=\"data row16 col35\" >0.158819</td>\n",
       "                        <td id=\"T_2cfb4_row16_col36\" class=\"data row16 col36\" >-0.000779</td>\n",
       "                        <td id=\"T_2cfb4_row16_col37\" class=\"data row16 col37\" >-0.002571</td>\n",
       "                        <td id=\"T_2cfb4_row16_col38\" class=\"data row16 col38\" >-0.003130</td>\n",
       "                        <td id=\"T_2cfb4_row16_col39\" class=\"data row16 col39\" >-0.159863</td>\n",
       "                        <td id=\"T_2cfb4_row16_col40\" class=\"data row16 col40\" >-0.113930</td>\n",
       "                        <td id=\"T_2cfb4_row16_col41\" class=\"data row16 col41\" >0.008410</td>\n",
       "                        <td id=\"T_2cfb4_row16_col42\" class=\"data row16 col42\" >0.102318</td>\n",
       "                        <td id=\"T_2cfb4_row16_col43\" class=\"data row16 col43\" >0.021214</td>\n",
       "                        <td id=\"T_2cfb4_row16_col44\" class=\"data row16 col44\" >-0.008977</td>\n",
       "                        <td id=\"T_2cfb4_row16_col45\" class=\"data row16 col45\" >-0.011295</td>\n",
       "                        <td id=\"T_2cfb4_row16_col46\" class=\"data row16 col46\" >-0.008832</td>\n",
       "                        <td id=\"T_2cfb4_row16_col47\" class=\"data row16 col47\" >0.008913</td>\n",
       "                        <td id=\"T_2cfb4_row16_col48\" class=\"data row16 col48\" >0.005934</td>\n",
       "                        <td id=\"T_2cfb4_row16_col49\" class=\"data row16 col49\" >0.014595</td>\n",
       "                        <td id=\"T_2cfb4_row16_col50\" class=\"data row16 col50\" >-0.024073</td>\n",
       "                        <td id=\"T_2cfb4_row16_col51\" class=\"data row16 col51\" >0.100201</td>\n",
       "                        <td id=\"T_2cfb4_row16_col52\" class=\"data row16 col52\" >-0.025661</td>\n",
       "                        <td id=\"T_2cfb4_row16_col53\" class=\"data row16 col53\" >-0.023756</td>\n",
       "                        <td id=\"T_2cfb4_row16_col54\" class=\"data row16 col54\" >-0.020667</td>\n",
       "                        <td id=\"T_2cfb4_row16_col55\" class=\"data row16 col55\" >-0.016454</td>\n",
       "                        <td id=\"T_2cfb4_row16_col56\" class=\"data row16 col56\" >-0.012758</td>\n",
       "                        <td id=\"T_2cfb4_row16_col57\" class=\"data row16 col57\" >-0.007719</td>\n",
       "                        <td id=\"T_2cfb4_row16_col58\" class=\"data row16 col58\" >-0.002398</td>\n",
       "                        <td id=\"T_2cfb4_row16_col59\" class=\"data row16 col59\" >0.002386</td>\n",
       "                        <td id=\"T_2cfb4_row16_col60\" class=\"data row16 col60\" >-0.026886</td>\n",
       "                        <td id=\"T_2cfb4_row16_col61\" class=\"data row16 col61\" >-0.018544</td>\n",
       "                        <td id=\"T_2cfb4_row16_col62\" class=\"data row16 col62\" >-0.039213</td>\n",
       "                        <td id=\"T_2cfb4_row16_col63\" class=\"data row16 col63\" >0.050137</td>\n",
       "            </tr>\n",
       "            <tr>\n",
       "                        <th id=\"T_2cfb4_level0_row17\" class=\"row_heading level0 row17\" >revol_util</th>\n",
       "                        <td id=\"T_2cfb4_row17_col0\" class=\"data row17 col0\" >0.011333</td>\n",
       "                        <td id=\"T_2cfb4_row17_col1\" class=\"data row17 col1\" >-0.011008</td>\n",
       "                        <td id=\"T_2cfb4_row17_col2\" class=\"data row17 col2\" >-0.010089</td>\n",
       "                        <td id=\"T_2cfb4_row17_col3\" class=\"data row17 col3\" >0.117766</td>\n",
       "                        <td id=\"T_2cfb4_row17_col4\" class=\"data row17 col4\" >0.118895</td>\n",
       "                        <td id=\"T_2cfb4_row17_col5\" class=\"data row17 col5\" >0.120784</td>\n",
       "                        <td id=\"T_2cfb4_row17_col6\" class=\"data row17 col6\" >0.323373</td>\n",
       "                        <td id=\"T_2cfb4_row17_col7\" class=\"data row17 col7\" >0.136865</td>\n",
       "                        <td id=\"T_2cfb4_row17_col8\" class=\"data row17 col8\" >0.043350</td>\n",
       "                        <td id=\"T_2cfb4_row17_col9\" class=\"data row17 col9\" >0.200403</td>\n",
       "                        <td id=\"T_2cfb4_row17_col10\" class=\"data row17 col10\" >-0.013170</td>\n",
       "                        <td id=\"T_2cfb4_row17_col11\" class=\"data row17 col11\" >-0.094691</td>\n",
       "                        <td id=\"T_2cfb4_row17_col12\" class=\"data row17 col12\" >0.024530</td>\n",
       "                        <td id=\"T_2cfb4_row17_col13\" class=\"data row17 col13\" >0.121150</td>\n",
       "                        <td id=\"T_2cfb4_row17_col14\" class=\"data row17 col14\" >-0.124264</td>\n",
       "                        <td id=\"T_2cfb4_row17_col15\" class=\"data row17 col15\" >-0.062489</td>\n",
       "                        <td id=\"T_2cfb4_row17_col16\" class=\"data row17 col16\" >0.207213</td>\n",
       "                        <td id=\"T_2cfb4_row17_col17\" class=\"data row17 col17\" >1.000000</td>\n",
       "                        <td id=\"T_2cfb4_row17_col18\" class=\"data row17 col18\" >-0.094301</td>\n",
       "                        <td id=\"T_2cfb4_row17_col19\" class=\"data row17 col19\" >0.096727</td>\n",
       "                        <td id=\"T_2cfb4_row17_col20\" class=\"data row17 col20\" >0.096727</td>\n",
       "                        <td id=\"T_2cfb4_row17_col21\" class=\"data row17 col21\" >0.085972</td>\n",
       "                        <td id=\"T_2cfb4_row17_col22\" class=\"data row17 col22\" >0.088284</td>\n",
       "                        <td id=\"T_2cfb4_row17_col23\" class=\"data row17 col23\" >0.024363</td>\n",
       "                        <td id=\"T_2cfb4_row17_col24\" class=\"data row17 col24\" >0.209697</td>\n",
       "                        <td id=\"T_2cfb4_row17_col25\" class=\"data row17 col25\" >0.024656</td>\n",
       "                        <td id=\"T_2cfb4_row17_col26\" class=\"data row17 col26\" >0.033112</td>\n",
       "                        <td id=\"T_2cfb4_row17_col27\" class=\"data row17 col27\" >0.021156</td>\n",
       "                        <td id=\"T_2cfb4_row17_col28\" class=\"data row17 col28\" >-0.010464</td>\n",
       "                        <td id=\"T_2cfb4_row17_col29\" class=\"data row17 col29\" >-0.027684</td>\n",
       "                        <td id=\"T_2cfb4_row17_col30\" class=\"data row17 col30\" >-0.013601</td>\n",
       "                        <td id=\"T_2cfb4_row17_col31\" class=\"data row17 col31\" >-0.022753</td>\n",
       "                        <td id=\"T_2cfb4_row17_col32\" class=\"data row17 col32\" >-0.006167</td>\n",
       "                        <td id=\"T_2cfb4_row17_col33\" class=\"data row17 col33\" >0.069861</td>\n",
       "                        <td id=\"T_2cfb4_row17_col34\" class=\"data row17 col34\" >-0.125411</td>\n",
       "                        <td id=\"T_2cfb4_row17_col35\" class=\"data row17 col35\" >0.011627</td>\n",
       "                        <td id=\"T_2cfb4_row17_col36\" class=\"data row17 col36\" >0.001971</td>\n",
       "                        <td id=\"T_2cfb4_row17_col37\" class=\"data row17 col37\" >-0.003068</td>\n",
       "                        <td id=\"T_2cfb4_row17_col38\" class=\"data row17 col38\" >-0.042647</td>\n",
       "                        <td id=\"T_2cfb4_row17_col39\" class=\"data row17 col39\" >0.013038</td>\n",
       "                        <td id=\"T_2cfb4_row17_col40\" class=\"data row17 col40\" >-0.069148</td>\n",
       "                        <td id=\"T_2cfb4_row17_col41\" class=\"data row17 col41\" >0.016472</td>\n",
       "                        <td id=\"T_2cfb4_row17_col42\" class=\"data row17 col42\" >0.051038</td>\n",
       "                        <td id=\"T_2cfb4_row17_col43\" class=\"data row17 col43\" >-0.284513</td>\n",
       "                        <td id=\"T_2cfb4_row17_col44\" class=\"data row17 col44\" >-0.053875</td>\n",
       "                        <td id=\"T_2cfb4_row17_col45\" class=\"data row17 col45\" >0.087566</td>\n",
       "                        <td id=\"T_2cfb4_row17_col46\" class=\"data row17 col46\" >0.123956</td>\n",
       "                        <td id=\"T_2cfb4_row17_col47\" class=\"data row17 col47\" >0.107103</td>\n",
       "                        <td id=\"T_2cfb4_row17_col48\" class=\"data row17 col48\" >0.073904</td>\n",
       "                        <td id=\"T_2cfb4_row17_col49\" class=\"data row17 col49\" >0.040882</td>\n",
       "                        <td id=\"T_2cfb4_row17_col50\" class=\"data row17 col50\" >-0.011605</td>\n",
       "                        <td id=\"T_2cfb4_row17_col51\" class=\"data row17 col51\" >0.045013</td>\n",
       "                        <td id=\"T_2cfb4_row17_col52\" class=\"data row17 col52\" >-0.014912</td>\n",
       "                        <td id=\"T_2cfb4_row17_col53\" class=\"data row17 col53\" >-0.014456</td>\n",
       "                        <td id=\"T_2cfb4_row17_col54\" class=\"data row17 col54\" >-0.012545</td>\n",
       "                        <td id=\"T_2cfb4_row17_col55\" class=\"data row17 col55\" >-0.010623</td>\n",
       "                        <td id=\"T_2cfb4_row17_col56\" class=\"data row17 col56\" >-0.001311</td>\n",
       "                        <td id=\"T_2cfb4_row17_col57\" class=\"data row17 col57\" >0.003253</td>\n",
       "                        <td id=\"T_2cfb4_row17_col58\" class=\"data row17 col58\" >0.002629</td>\n",
       "                        <td id=\"T_2cfb4_row17_col59\" class=\"data row17 col59\" >0.005650</td>\n",
       "                        <td id=\"T_2cfb4_row17_col60\" class=\"data row17 col60\" >-0.008380</td>\n",
       "                        <td id=\"T_2cfb4_row17_col61\" class=\"data row17 col61\" >0.051017</td>\n",
       "                        <td id=\"T_2cfb4_row17_col62\" class=\"data row17 col62\" >-0.084853</td>\n",
       "                        <td id=\"T_2cfb4_row17_col63\" class=\"data row17 col63\" >0.051004</td>\n",
       "            </tr>\n",
       "            <tr>\n",
       "                        <th id=\"T_2cfb4_level0_row18\" class=\"row_heading level0 row18\" >total_acc</th>\n",
       "                        <td id=\"T_2cfb4_row18_col0\" class=\"data row18 col0\" >0.077374</td>\n",
       "                        <td id=\"T_2cfb4_row18_col1\" class=\"data row18 col1\" >0.074343</td>\n",
       "                        <td id=\"T_2cfb4_row18_col2\" class=\"data row18 col2\" >0.074459</td>\n",
       "                        <td id=\"T_2cfb4_row18_col3\" class=\"data row18 col3\" >0.235260</td>\n",
       "                        <td id=\"T_2cfb4_row18_col4\" class=\"data row18 col4\" >0.235134</td>\n",
       "                        <td id=\"T_2cfb4_row18_col5\" class=\"data row18 col5\" >0.235455</td>\n",
       "                        <td id=\"T_2cfb4_row18_col6\" class=\"data row18 col6\" >-0.033019</td>\n",
       "                        <td id=\"T_2cfb4_row18_col7\" class=\"data row18 col7\" >0.215902</td>\n",
       "                        <td id=\"T_2cfb4_row18_col8\" class=\"data row18 col8\" >0.252875</td>\n",
       "                        <td id=\"T_2cfb4_row18_col9\" class=\"data row18 col9\" >0.228233</td>\n",
       "                        <td id=\"T_2cfb4_row18_col10\" class=\"data row18 col10\" >0.130785</td>\n",
       "                        <td id=\"T_2cfb4_row18_col11\" class=\"data row18 col11\" >0.124059</td>\n",
       "                        <td id=\"T_2cfb4_row18_col12\" class=\"data row18 col12\" >-0.057039</td>\n",
       "                        <td id=\"T_2cfb4_row18_col13\" class=\"data row18 col13\" >-0.220147</td>\n",
       "                        <td id=\"T_2cfb4_row18_col14\" class=\"data row18 col14\" >0.682112</td>\n",
       "                        <td id=\"T_2cfb4_row18_col15\" class=\"data row18 col15\" >0.007253</td>\n",
       "                        <td id=\"T_2cfb4_row18_col16\" class=\"data row18 col16\" >0.198994</td>\n",
       "                        <td id=\"T_2cfb4_row18_col17\" class=\"data row18 col17\" >-0.094301</td>\n",
       "                        <td id=\"T_2cfb4_row18_col18\" class=\"data row18 col18\" >1.000000</td>\n",
       "                        <td id=\"T_2cfb4_row18_col19\" class=\"data row18 col19\" >0.123399</td>\n",
       "                        <td id=\"T_2cfb4_row18_col20\" class=\"data row18 col20\" >0.123388</td>\n",
       "                        <td id=\"T_2cfb4_row18_col21\" class=\"data row18 col21\" >0.168672</td>\n",
       "                        <td id=\"T_2cfb4_row18_col22\" class=\"data row18 col22\" >0.169939</td>\n",
       "                        <td id=\"T_2cfb4_row18_col23\" class=\"data row18 col23\" >0.152212</td>\n",
       "                        <td id=\"T_2cfb4_row18_col24\" class=\"data row18 col24\" >0.126840</td>\n",
       "                        <td id=\"T_2cfb4_row18_col25\" class=\"data row18 col25\" >-0.005502</td>\n",
       "                        <td id=\"T_2cfb4_row18_col26\" class=\"data row18 col26\" >0.016012</td>\n",
       "                        <td id=\"T_2cfb4_row18_col27\" class=\"data row18 col27\" >0.016155</td>\n",
       "                        <td id=\"T_2cfb4_row18_col28\" class=\"data row18 col28\" >0.113017</td>\n",
       "                        <td id=\"T_2cfb4_row18_col29\" class=\"data row18 col29\" >0.013263</td>\n",
       "                        <td id=\"T_2cfb4_row18_col30\" class=\"data row18 col30\" >-0.069410</td>\n",
       "                        <td id=\"T_2cfb4_row18_col31\" class=\"data row18 col31\" >0.027718</td>\n",
       "                        <td id=\"T_2cfb4_row18_col32\" class=\"data row18 col32\" >0.005045</td>\n",
       "                        <td id=\"T_2cfb4_row18_col33\" class=\"data row18 col33\" >0.318460</td>\n",
       "                        <td id=\"T_2cfb4_row18_col34\" class=\"data row18 col34\" >0.232331</td>\n",
       "                        <td id=\"T_2cfb4_row18_col35\" class=\"data row18 col35\" >0.229414</td>\n",
       "                        <td id=\"T_2cfb4_row18_col36\" class=\"data row18 col36\" >-0.001861</td>\n",
       "                        <td id=\"T_2cfb4_row18_col37\" class=\"data row18 col37\" >-0.005791</td>\n",
       "                        <td id=\"T_2cfb4_row18_col38\" class=\"data row18 col38\" >-0.019837</td>\n",
       "                        <td id=\"T_2cfb4_row18_col39\" class=\"data row18 col39\" >-0.221917</td>\n",
       "                        <td id=\"T_2cfb4_row18_col40\" class=\"data row18 col40\" >-0.095366</td>\n",
       "                        <td id=\"T_2cfb4_row18_col41\" class=\"data row18 col41\" >0.008583</td>\n",
       "                        <td id=\"T_2cfb4_row18_col42\" class=\"data row18 col42\" >0.084140</td>\n",
       "                        <td id=\"T_2cfb4_row18_col43\" class=\"data row18 col43\" >0.048051</td>\n",
       "                        <td id=\"T_2cfb4_row18_col44\" class=\"data row18 col44\" >-0.005906</td>\n",
       "                        <td id=\"T_2cfb4_row18_col45\" class=\"data row18 col45\" >-0.015519</td>\n",
       "                        <td id=\"T_2cfb4_row18_col46\" class=\"data row18 col46\" >-0.022909</td>\n",
       "                        <td id=\"T_2cfb4_row18_col47\" class=\"data row18 col47\" >-0.001135</td>\n",
       "                        <td id=\"T_2cfb4_row18_col48\" class=\"data row18 col48\" >-0.000998</td>\n",
       "                        <td id=\"T_2cfb4_row18_col49\" class=\"data row18 col49\" >0.010679</td>\n",
       "                        <td id=\"T_2cfb4_row18_col50\" class=\"data row18 col50\" >-0.028753</td>\n",
       "                        <td id=\"T_2cfb4_row18_col51\" class=\"data row18 col51\" >0.119570</td>\n",
       "                        <td id=\"T_2cfb4_row18_col52\" class=\"data row18 col52\" >-0.031635</td>\n",
       "                        <td id=\"T_2cfb4_row18_col53\" class=\"data row18 col53\" >-0.025645</td>\n",
       "                        <td id=\"T_2cfb4_row18_col54\" class=\"data row18 col54\" >-0.025795</td>\n",
       "                        <td id=\"T_2cfb4_row18_col55\" class=\"data row18 col55\" >-0.025272</td>\n",
       "                        <td id=\"T_2cfb4_row18_col56\" class=\"data row18 col56\" >-0.016016</td>\n",
       "                        <td id=\"T_2cfb4_row18_col57\" class=\"data row18 col57\" >-0.009718</td>\n",
       "                        <td id=\"T_2cfb4_row18_col58\" class=\"data row18 col58\" >-0.002856</td>\n",
       "                        <td id=\"T_2cfb4_row18_col59\" class=\"data row18 col59\" >0.004582</td>\n",
       "                        <td id=\"T_2cfb4_row18_col60\" class=\"data row18 col60\" >-0.038681</td>\n",
       "                        <td id=\"T_2cfb4_row18_col61\" class=\"data row18 col61\" >-0.022366</td>\n",
       "                        <td id=\"T_2cfb4_row18_col62\" class=\"data row18 col62\" >-0.008358</td>\n",
       "                        <td id=\"T_2cfb4_row18_col63\" class=\"data row18 col63\" >0.022300</td>\n",
       "            </tr>\n",
       "            <tr>\n",
       "                        <th id=\"T_2cfb4_level0_row19\" class=\"row_heading level0 row19\" >out_prncp</th>\n",
       "                        <td id=\"T_2cfb4_row19_col0\" class=\"data row19 col0\" >0.286973</td>\n",
       "                        <td id=\"T_2cfb4_row19_col1\" class=\"data row19 col1\" >0.445554</td>\n",
       "                        <td id=\"T_2cfb4_row19_col2\" class=\"data row19 col2\" >0.447996</td>\n",
       "                        <td id=\"T_2cfb4_row19_col3\" class=\"data row19 col3\" >0.518712</td>\n",
       "                        <td id=\"T_2cfb4_row19_col4\" class=\"data row19 col4\" >0.521463</td>\n",
       "                        <td id=\"T_2cfb4_row19_col5\" class=\"data row19 col5\" >0.525156</td>\n",
       "                        <td id=\"T_2cfb4_row19_col6\" class=\"data row19 col6\" >0.137424</td>\n",
       "                        <td id=\"T_2cfb4_row19_col7\" class=\"data row19 col7\" >0.408855</td>\n",
       "                        <td id=\"T_2cfb4_row19_col8\" class=\"data row19 col8\" >0.189920</td>\n",
       "                        <td id=\"T_2cfb4_row19_col9\" class=\"data row19 col9\" >0.119985</td>\n",
       "                        <td id=\"T_2cfb4_row19_col10\" class=\"data row19 col10\" >0.043856</td>\n",
       "                        <td id=\"T_2cfb4_row19_col11\" class=\"data row19 col11\" >-0.070407</td>\n",
       "                        <td id=\"T_2cfb4_row19_col12\" class=\"data row19 col12\" >-0.049305</td>\n",
       "                        <td id=\"T_2cfb4_row19_col13\" class=\"data row19 col13\" >-0.055436</td>\n",
       "                        <td id=\"T_2cfb4_row19_col14\" class=\"data row19 col14\" >0.144553</td>\n",
       "                        <td id=\"T_2cfb4_row19_col15\" class=\"data row19 col15\" >0.002362</td>\n",
       "                        <td id=\"T_2cfb4_row19_col16\" class=\"data row19 col16\" >0.181790</td>\n",
       "                        <td id=\"T_2cfb4_row19_col17\" class=\"data row19 col17\" >0.096727</td>\n",
       "                        <td id=\"T_2cfb4_row19_col18\" class=\"data row19 col18\" >0.123399</td>\n",
       "                        <td id=\"T_2cfb4_row19_col19\" class=\"data row19 col19\" >1.000000</td>\n",
       "                        <td id=\"T_2cfb4_row19_col20\" class=\"data row19 col20\" >0.999998</td>\n",
       "                        <td id=\"T_2cfb4_row19_col21\" class=\"data row19 col21\" >-0.022061</td>\n",
       "                        <td id=\"T_2cfb4_row19_col22\" class=\"data row19 col22\" >-0.016613</td>\n",
       "                        <td id=\"T_2cfb4_row19_col23\" class=\"data row19 col23\" >-0.189924</td>\n",
       "                        <td id=\"T_2cfb4_row19_col24\" class=\"data row19 col24\" >0.488113</td>\n",
       "                        <td id=\"T_2cfb4_row19_col25\" class=\"data row19 col25\" >-0.006700</td>\n",
       "                        <td id=\"T_2cfb4_row19_col26\" class=\"data row19 col26\" >-0.107249</td>\n",
       "                        <td id=\"T_2cfb4_row19_col27\" class=\"data row19 col27\" >-0.072743</td>\n",
       "                        <td id=\"T_2cfb4_row19_col28\" class=\"data row19 col28\" >-0.317377</td>\n",
       "                        <td id=\"T_2cfb4_row19_col29\" class=\"data row19 col29\" >0.020330</td>\n",
       "                        <td id=\"T_2cfb4_row19_col30\" class=\"data row19 col30\" >-0.026157</td>\n",
       "                        <td id=\"T_2cfb4_row19_col31\" class=\"data row19 col31\" >0.016475</td>\n",
       "                        <td id=\"T_2cfb4_row19_col32\" class=\"data row19 col32\" >-0.000802</td>\n",
       "                        <td id=\"T_2cfb4_row19_col33\" class=\"data row19 col33\" >0.170480</td>\n",
       "                        <td id=\"T_2cfb4_row19_col34\" class=\"data row19 col34\" >0.149621</td>\n",
       "                        <td id=\"T_2cfb4_row19_col35\" class=\"data row19 col35\" >0.109697</td>\n",
       "                        <td id=\"T_2cfb4_row19_col36\" class=\"data row19 col36\" >-0.006016</td>\n",
       "                        <td id=\"T_2cfb4_row19_col37\" class=\"data row19 col37\" >-0.013200</td>\n",
       "                        <td id=\"T_2cfb4_row19_col38\" class=\"data row19 col38\" >-0.000217</td>\n",
       "                        <td id=\"T_2cfb4_row19_col39\" class=\"data row19 col39\" >-0.110972</td>\n",
       "                        <td id=\"T_2cfb4_row19_col40\" class=\"data row19 col40\" >-0.213582</td>\n",
       "                        <td id=\"T_2cfb4_row19_col41\" class=\"data row19 col41\" >0.143738</td>\n",
       "                        <td id=\"T_2cfb4_row19_col42\" class=\"data row19 col42\" >0.067307</td>\n",
       "                        <td id=\"T_2cfb4_row19_col43\" class=\"data row19 col43\" >-0.075807</td>\n",
       "                        <td id=\"T_2cfb4_row19_col44\" class=\"data row19 col44\" >-0.109603</td>\n",
       "                        <td id=\"T_2cfb4_row19_col45\" class=\"data row19 col45\" >0.032271</td>\n",
       "                        <td id=\"T_2cfb4_row19_col46\" class=\"data row19 col46\" >0.075089</td>\n",
       "                        <td id=\"T_2cfb4_row19_col47\" class=\"data row19 col47\" >0.095882</td>\n",
       "                        <td id=\"T_2cfb4_row19_col48\" class=\"data row19 col48\" >0.044058</td>\n",
       "                        <td id=\"T_2cfb4_row19_col49\" class=\"data row19 col49\" >0.032695</td>\n",
       "                        <td id=\"T_2cfb4_row19_col50\" class=\"data row19 col50\" >-0.024932</td>\n",
       "                        <td id=\"T_2cfb4_row19_col51\" class=\"data row19 col51\" >0.090150</td>\n",
       "                        <td id=\"T_2cfb4_row19_col52\" class=\"data row19 col52\" >-0.022545</td>\n",
       "                        <td id=\"T_2cfb4_row19_col53\" class=\"data row19 col53\" >-0.017860</td>\n",
       "                        <td id=\"T_2cfb4_row19_col54\" class=\"data row19 col54\" >-0.017530</td>\n",
       "                        <td id=\"T_2cfb4_row19_col55\" class=\"data row19 col55\" >-0.030723</td>\n",
       "                        <td id=\"T_2cfb4_row19_col56\" class=\"data row19 col56\" >-0.018802</td>\n",
       "                        <td id=\"T_2cfb4_row19_col57\" class=\"data row19 col57\" >-0.002309</td>\n",
       "                        <td id=\"T_2cfb4_row19_col58\" class=\"data row19 col58\" >0.004483</td>\n",
       "                        <td id=\"T_2cfb4_row19_col59\" class=\"data row19 col59\" >0.007476</td>\n",
       "                        <td id=\"T_2cfb4_row19_col60\" class=\"data row19 col60\" >-0.026857</td>\n",
       "                        <td id=\"T_2cfb4_row19_col61\" class=\"data row19 col61\" >-0.150444</td>\n",
       "                        <td id=\"T_2cfb4_row19_col62\" class=\"data row19 col62\" >-0.567138</td>\n",
       "                        <td id=\"T_2cfb4_row19_col63\" class=\"data row19 col63\" >0.650844</td>\n",
       "            </tr>\n",
       "            <tr>\n",
       "                        <th id=\"T_2cfb4_level0_row20\" class=\"row_heading level0 row20\" >out_prncp_inv</th>\n",
       "                        <td id=\"T_2cfb4_row20_col0\" class=\"data row20 col0\" >0.286982</td>\n",
       "                        <td id=\"T_2cfb4_row20_col1\" class=\"data row20 col1\" >0.445650</td>\n",
       "                        <td id=\"T_2cfb4_row20_col2\" class=\"data row20 col2\" >0.448090</td>\n",
       "                        <td id=\"T_2cfb4_row20_col3\" class=\"data row20 col3\" >0.518672</td>\n",
       "                        <td id=\"T_2cfb4_row20_col4\" class=\"data row20 col4\" >0.521425</td>\n",
       "                        <td id=\"T_2cfb4_row20_col5\" class=\"data row20 col5\" >0.525128</td>\n",
       "                        <td id=\"T_2cfb4_row20_col6\" class=\"data row20 col6\" >0.137448</td>\n",
       "                        <td id=\"T_2cfb4_row20_col7\" class=\"data row20 col7\" >0.408828</td>\n",
       "                        <td id=\"T_2cfb4_row20_col8\" class=\"data row20 col8\" >0.189920</td>\n",
       "                        <td id=\"T_2cfb4_row20_col9\" class=\"data row20 col9\" >0.119973</td>\n",
       "                        <td id=\"T_2cfb4_row20_col10\" class=\"data row20 col10\" >0.043852</td>\n",
       "                        <td id=\"T_2cfb4_row20_col11\" class=\"data row20 col11\" >-0.070396</td>\n",
       "                        <td id=\"T_2cfb4_row20_col12\" class=\"data row20 col12\" >-0.049292</td>\n",
       "                        <td id=\"T_2cfb4_row20_col13\" class=\"data row20 col13\" >-0.055428</td>\n",
       "                        <td id=\"T_2cfb4_row20_col14\" class=\"data row20 col14\" >0.144556</td>\n",
       "                        <td id=\"T_2cfb4_row20_col15\" class=\"data row20 col15\" >0.002353</td>\n",
       "                        <td id=\"T_2cfb4_row20_col16\" class=\"data row20 col16\" >0.181774</td>\n",
       "                        <td id=\"T_2cfb4_row20_col17\" class=\"data row20 col17\" >0.096727</td>\n",
       "                        <td id=\"T_2cfb4_row20_col18\" class=\"data row20 col18\" >0.123388</td>\n",
       "                        <td id=\"T_2cfb4_row20_col19\" class=\"data row20 col19\" >0.999998</td>\n",
       "                        <td id=\"T_2cfb4_row20_col20\" class=\"data row20 col20\" >1.000000</td>\n",
       "                        <td id=\"T_2cfb4_row20_col21\" class=\"data row20 col21\" >-0.022129</td>\n",
       "                        <td id=\"T_2cfb4_row20_col22\" class=\"data row20 col22\" >-0.016669</td>\n",
       "                        <td id=\"T_2cfb4_row20_col23\" class=\"data row20 col23\" >-0.189975</td>\n",
       "                        <td id=\"T_2cfb4_row20_col24\" class=\"data row20 col24\" >0.488026</td>\n",
       "                        <td id=\"T_2cfb4_row20_col25\" class=\"data row20 col25\" >-0.006712</td>\n",
       "                        <td id=\"T_2cfb4_row20_col26\" class=\"data row20 col26\" >-0.107242</td>\n",
       "                        <td id=\"T_2cfb4_row20_col27\" class=\"data row20 col27\" >-0.072738</td>\n",
       "                        <td id=\"T_2cfb4_row20_col28\" class=\"data row20 col28\" >-0.317355</td>\n",
       "                        <td id=\"T_2cfb4_row20_col29\" class=\"data row20 col29\" >0.020323</td>\n",
       "                        <td id=\"T_2cfb4_row20_col30\" class=\"data row20 col30\" >-0.026138</td>\n",
       "                        <td id=\"T_2cfb4_row20_col31\" class=\"data row20 col31\" >0.016471</td>\n",
       "                        <td id=\"T_2cfb4_row20_col32\" class=\"data row20 col32\" >-0.000803</td>\n",
       "                        <td id=\"T_2cfb4_row20_col33\" class=\"data row20 col33\" >0.170482</td>\n",
       "                        <td id=\"T_2cfb4_row20_col34\" class=\"data row20 col34\" >0.149612</td>\n",
       "                        <td id=\"T_2cfb4_row20_col35\" class=\"data row20 col35\" >0.109689</td>\n",
       "                        <td id=\"T_2cfb4_row20_col36\" class=\"data row20 col36\" >-0.006015</td>\n",
       "                        <td id=\"T_2cfb4_row20_col37\" class=\"data row20 col37\" >-0.013199</td>\n",
       "                        <td id=\"T_2cfb4_row20_col38\" class=\"data row20 col38\" >-0.000214</td>\n",
       "                        <td id=\"T_2cfb4_row20_col39\" class=\"data row20 col39\" >-0.110966</td>\n",
       "                        <td id=\"T_2cfb4_row20_col40\" class=\"data row20 col40\" >-0.213553</td>\n",
       "                        <td id=\"T_2cfb4_row20_col41\" class=\"data row20 col41\" >0.143757</td>\n",
       "                        <td id=\"T_2cfb4_row20_col42\" class=\"data row20 col42\" >0.067260</td>\n",
       "                        <td id=\"T_2cfb4_row20_col43\" class=\"data row20 col43\" >-0.075807</td>\n",
       "                        <td id=\"T_2cfb4_row20_col44\" class=\"data row20 col44\" >-0.109659</td>\n",
       "                        <td id=\"T_2cfb4_row20_col45\" class=\"data row20 col45\" >0.032310</td>\n",
       "                        <td id=\"T_2cfb4_row20_col46\" class=\"data row20 col46\" >0.075100</td>\n",
       "                        <td id=\"T_2cfb4_row20_col47\" class=\"data row20 col47\" >0.095887</td>\n",
       "                        <td id=\"T_2cfb4_row20_col48\" class=\"data row20 col48\" >0.044072</td>\n",
       "                        <td id=\"T_2cfb4_row20_col49\" class=\"data row20 col49\" >0.032701</td>\n",
       "                        <td id=\"T_2cfb4_row20_col50\" class=\"data row20 col50\" >-0.024933</td>\n",
       "                        <td id=\"T_2cfb4_row20_col51\" class=\"data row20 col51\" >0.090149</td>\n",
       "                        <td id=\"T_2cfb4_row20_col52\" class=\"data row20 col52\" >-0.022547</td>\n",
       "                        <td id=\"T_2cfb4_row20_col53\" class=\"data row20 col53\" >-0.017856</td>\n",
       "                        <td id=\"T_2cfb4_row20_col54\" class=\"data row20 col54\" >-0.017527</td>\n",
       "                        <td id=\"T_2cfb4_row20_col55\" class=\"data row20 col55\" >-0.030722</td>\n",
       "                        <td id=\"T_2cfb4_row20_col56\" class=\"data row20 col56\" >-0.018798</td>\n",
       "                        <td id=\"T_2cfb4_row20_col57\" class=\"data row20 col57\" >-0.002308</td>\n",
       "                        <td id=\"T_2cfb4_row20_col58\" class=\"data row20 col58\" >0.004485</td>\n",
       "                        <td id=\"T_2cfb4_row20_col59\" class=\"data row20 col59\" >0.007479</td>\n",
       "                        <td id=\"T_2cfb4_row20_col60\" class=\"data row20 col60\" >-0.026861</td>\n",
       "                        <td id=\"T_2cfb4_row20_col61\" class=\"data row20 col61\" >-0.150432</td>\n",
       "                        <td id=\"T_2cfb4_row20_col62\" class=\"data row20 col62\" >-0.567099</td>\n",
       "                        <td id=\"T_2cfb4_row20_col63\" class=\"data row20 col63\" >0.650798</td>\n",
       "            </tr>\n",
       "            <tr>\n",
       "                        <th id=\"T_2cfb4_level0_row21\" class=\"row_heading level0 row21\" >total_pymnt</th>\n",
       "                        <td id=\"T_2cfb4_row21_col0\" class=\"data row21 col0\" >-0.140655</td>\n",
       "                        <td id=\"T_2cfb4_row21_col1\" class=\"data row21 col1\" >-0.284592</td>\n",
       "                        <td id=\"T_2cfb4_row21_col2\" class=\"data row21 col2\" >-0.282845</td>\n",
       "                        <td id=\"T_2cfb4_row21_col3\" class=\"data row21 col3\" >0.743835</td>\n",
       "                        <td id=\"T_2cfb4_row21_col4\" class=\"data row21 col4\" >0.743358</td>\n",
       "                        <td id=\"T_2cfb4_row21_col5\" class=\"data row21 col5\" >0.738031</td>\n",
       "                        <td id=\"T_2cfb4_row21_col6\" class=\"data row21 col6\" >0.127044</td>\n",
       "                        <td id=\"T_2cfb4_row21_col7\" class=\"data row21 col7\" >0.764351</td>\n",
       "                        <td id=\"T_2cfb4_row21_col8\" class=\"data row21 col8\" >0.335951</td>\n",
       "                        <td id=\"T_2cfb4_row21_col9\" class=\"data row21 col9\" >-0.025978</td>\n",
       "                        <td id=\"T_2cfb4_row21_col10\" class=\"data row21 col10\" >-0.019702</td>\n",
       "                        <td id=\"T_2cfb4_row21_col11\" class=\"data row21 col11\" >0.020643</td>\n",
       "                        <td id=\"T_2cfb4_row21_col12\" class=\"data row21 col12\" >-0.011704</td>\n",
       "                        <td id=\"T_2cfb4_row21_col13\" class=\"data row21 col13\" >0.061031</td>\n",
       "                        <td id=\"T_2cfb4_row21_col14\" class=\"data row21 col14\" >0.120201</td>\n",
       "                        <td id=\"T_2cfb4_row21_col15\" class=\"data row21 col15\" >-0.091178</td>\n",
       "                        <td id=\"T_2cfb4_row21_col16\" class=\"data row21 col16\" >0.242372</td>\n",
       "                        <td id=\"T_2cfb4_row21_col17\" class=\"data row21 col17\" >0.085972</td>\n",
       "                        <td id=\"T_2cfb4_row21_col18\" class=\"data row21 col18\" >0.168672</td>\n",
       "                        <td id=\"T_2cfb4_row21_col19\" class=\"data row21 col19\" >-0.022061</td>\n",
       "                        <td id=\"T_2cfb4_row21_col20\" class=\"data row21 col20\" >-0.022129</td>\n",
       "                        <td id=\"T_2cfb4_row21_col21\" class=\"data row21 col21\" >1.000000</td>\n",
       "                        <td id=\"T_2cfb4_row21_col22\" class=\"data row21 col22\" >0.995862</td>\n",
       "                        <td id=\"T_2cfb4_row21_col23\" class=\"data row21 col23\" >0.956656</td>\n",
       "                        <td id=\"T_2cfb4_row21_col24\" class=\"data row21 col24\" >0.624423</td>\n",
       "                        <td id=\"T_2cfb4_row21_col25\" class=\"data row21 col25\" >0.026161</td>\n",
       "                        <td id=\"T_2cfb4_row21_col26\" class=\"data row21 col26\" >-0.022419</td>\n",
       "                        <td id=\"T_2cfb4_row21_col27\" class=\"data row21 col27\" >-0.000888</td>\n",
       "                        <td id=\"T_2cfb4_row21_col28\" class=\"data row21 col28\" >0.614286</td>\n",
       "                        <td id=\"T_2cfb4_row21_col29\" class=\"data row21 col29\" >-0.024749</td>\n",
       "                        <td id=\"T_2cfb4_row21_col30\" class=\"data row21 col30\" >-0.059344</td>\n",
       "                        <td id=\"T_2cfb4_row21_col31\" class=\"data row21 col31\" >-0.004291</td>\n",
       "                        <td id=\"T_2cfb4_row21_col32\" class=\"data row21 col32\" >-0.002523</td>\n",
       "                        <td id=\"T_2cfb4_row21_col33\" class=\"data row21 col33\" >0.257356</td>\n",
       "                        <td id=\"T_2cfb4_row21_col34\" class=\"data row21 col34\" >0.211031</td>\n",
       "                        <td id=\"T_2cfb4_row21_col35\" class=\"data row21 col35\" >0.156934</td>\n",
       "                        <td id=\"T_2cfb4_row21_col36\" class=\"data row21 col36\" >0.004486</td>\n",
       "                        <td id=\"T_2cfb4_row21_col37\" class=\"data row21 col37\" >-0.000942</td>\n",
       "                        <td id=\"T_2cfb4_row21_col38\" class=\"data row21 col38\" >-0.036305</td>\n",
       "                        <td id=\"T_2cfb4_row21_col39\" class=\"data row21 col39\" >-0.138826</td>\n",
       "                        <td id=\"T_2cfb4_row21_col40\" class=\"data row21 col40\" >-0.249251</td>\n",
       "                        <td id=\"T_2cfb4_row21_col41\" class=\"data row21 col41\" >-0.039428</td>\n",
       "                        <td id=\"T_2cfb4_row21_col42\" class=\"data row21 col42\" >0.280108</td>\n",
       "                        <td id=\"T_2cfb4_row21_col43\" class=\"data row21 col43\" >-0.027333</td>\n",
       "                        <td id=\"T_2cfb4_row21_col44\" class=\"data row21 col44\" >-0.032533</td>\n",
       "                        <td id=\"T_2cfb4_row21_col45\" class=\"data row21 col45\" >-0.024111</td>\n",
       "                        <td id=\"T_2cfb4_row21_col46\" class=\"data row21 col46\" >0.001270</td>\n",
       "                        <td id=\"T_2cfb4_row21_col47\" class=\"data row21 col47\" >0.069810</td>\n",
       "                        <td id=\"T_2cfb4_row21_col48\" class=\"data row21 col48\" >0.073375</td>\n",
       "                        <td id=\"T_2cfb4_row21_col49\" class=\"data row21 col49\" >0.051240</td>\n",
       "                        <td id=\"T_2cfb4_row21_col50\" class=\"data row21 col50\" >-0.024304</td>\n",
       "                        <td id=\"T_2cfb4_row21_col51\" class=\"data row21 col51\" >0.080107</td>\n",
       "                        <td id=\"T_2cfb4_row21_col52\" class=\"data row21 col52\" >-0.020411</td>\n",
       "                        <td id=\"T_2cfb4_row21_col53\" class=\"data row21 col53\" >-0.015537</td>\n",
       "                        <td id=\"T_2cfb4_row21_col54\" class=\"data row21 col54\" >-0.008810</td>\n",
       "                        <td id=\"T_2cfb4_row21_col55\" class=\"data row21 col55\" >0.004838</td>\n",
       "                        <td id=\"T_2cfb4_row21_col56\" class=\"data row21 col56\" >0.004947</td>\n",
       "                        <td id=\"T_2cfb4_row21_col57\" class=\"data row21 col57\" >0.004988</td>\n",
       "                        <td id=\"T_2cfb4_row21_col58\" class=\"data row21 col58\" >0.000660</td>\n",
       "                        <td id=\"T_2cfb4_row21_col59\" class=\"data row21 col59\" >0.005445</td>\n",
       "                        <td id=\"T_2cfb4_row21_col60\" class=\"data row21 col60\" >-0.033953</td>\n",
       "                        <td id=\"T_2cfb4_row21_col61\" class=\"data row21 col61\" >-0.193977</td>\n",
       "                        <td id=\"T_2cfb4_row21_col62\" class=\"data row21 col62\" >0.357870</td>\n",
       "                        <td id=\"T_2cfb4_row21_col63\" class=\"data row21 col63\" >-0.228466</td>\n",
       "            </tr>\n",
       "            <tr>\n",
       "                        <th id=\"T_2cfb4_level0_row22\" class=\"row_heading level0 row22\" >total_pymnt_inv</th>\n",
       "                        <td id=\"T_2cfb4_row22_col0\" class=\"data row22 col0\" >-0.129302</td>\n",
       "                        <td id=\"T_2cfb4_row22_col1\" class=\"data row22 col1\" >-0.275464</td>\n",
       "                        <td id=\"T_2cfb4_row22_col2\" class=\"data row22 col2\" >-0.273347</td>\n",
       "                        <td id=\"T_2cfb4_row22_col3\" class=\"data row22 col3\" >0.743575</td>\n",
       "                        <td id=\"T_2cfb4_row22_col4\" class=\"data row22 col4\" >0.743436</td>\n",
       "                        <td id=\"T_2cfb4_row22_col5\" class=\"data row22 col5\" >0.745455</td>\n",
       "                        <td id=\"T_2cfb4_row22_col6\" class=\"data row22 col6\" >0.129174</td>\n",
       "                        <td id=\"T_2cfb4_row22_col7\" class=\"data row22 col7\" >0.763886</td>\n",
       "                        <td id=\"T_2cfb4_row22_col8\" class=\"data row22 col8\" >0.334741</td>\n",
       "                        <td id=\"T_2cfb4_row22_col9\" class=\"data row22 col9\" >-0.021758</td>\n",
       "                        <td id=\"T_2cfb4_row22_col10\" class=\"data row22 col10\" >-0.018998</td>\n",
       "                        <td id=\"T_2cfb4_row22_col11\" class=\"data row22 col11\" >0.014768</td>\n",
       "                        <td id=\"T_2cfb4_row22_col12\" class=\"data row22 col12\" >-0.007152</td>\n",
       "                        <td id=\"T_2cfb4_row22_col13\" class=\"data row22 col13\" >0.108857</td>\n",
       "                        <td id=\"T_2cfb4_row22_col14\" class=\"data row22 col14\" >0.121893</td>\n",
       "                        <td id=\"T_2cfb4_row22_col15\" class=\"data row22 col15\" >-0.089716</td>\n",
       "                        <td id=\"T_2cfb4_row22_col16\" class=\"data row22 col16\" >0.240431</td>\n",
       "                        <td id=\"T_2cfb4_row22_col17\" class=\"data row22 col17\" >0.088284</td>\n",
       "                        <td id=\"T_2cfb4_row22_col18\" class=\"data row22 col18\" >0.169939</td>\n",
       "                        <td id=\"T_2cfb4_row22_col19\" class=\"data row22 col19\" >-0.016613</td>\n",
       "                        <td id=\"T_2cfb4_row22_col20\" class=\"data row22 col20\" >-0.016669</td>\n",
       "                        <td id=\"T_2cfb4_row22_col21\" class=\"data row22 col21\" >0.995862</td>\n",
       "                        <td id=\"T_2cfb4_row22_col22\" class=\"data row22 col22\" >1.000000</td>\n",
       "                        <td id=\"T_2cfb4_row22_col23\" class=\"data row22 col23\" >0.952156</td>\n",
       "                        <td id=\"T_2cfb4_row22_col24\" class=\"data row22 col24\" >0.623730</td>\n",
       "                        <td id=\"T_2cfb4_row22_col25\" class=\"data row22 col25\" >0.022139</td>\n",
       "                        <td id=\"T_2cfb4_row22_col26\" class=\"data row22 col26\" >-0.023902</td>\n",
       "                        <td id=\"T_2cfb4_row22_col27\" class=\"data row22 col27\" >-0.003726</td>\n",
       "                        <td id=\"T_2cfb4_row22_col28\" class=\"data row22 col28\" >0.614226</td>\n",
       "                        <td id=\"T_2cfb4_row22_col29\" class=\"data row22 col29\" >-0.024125</td>\n",
       "                        <td id=\"T_2cfb4_row22_col30\" class=\"data row22 col30\" >-0.059295</td>\n",
       "                        <td id=\"T_2cfb4_row22_col31\" class=\"data row22 col31\" >-0.003954</td>\n",
       "                        <td id=\"T_2cfb4_row22_col32\" class=\"data row22 col32\" >-0.002522</td>\n",
       "                        <td id=\"T_2cfb4_row22_col33\" class=\"data row22 col33\" >0.257366</td>\n",
       "                        <td id=\"T_2cfb4_row22_col34\" class=\"data row22 col34\" >0.211031</td>\n",
       "                        <td id=\"T_2cfb4_row22_col35\" class=\"data row22 col35\" >0.157709</td>\n",
       "                        <td id=\"T_2cfb4_row22_col36\" class=\"data row22 col36\" >0.003860</td>\n",
       "                        <td id=\"T_2cfb4_row22_col37\" class=\"data row22 col37\" >-0.006051</td>\n",
       "                        <td id=\"T_2cfb4_row22_col38\" class=\"data row22 col38\" >-0.035568</td>\n",
       "                        <td id=\"T_2cfb4_row22_col39\" class=\"data row22 col39\" >-0.139825</td>\n",
       "                        <td id=\"T_2cfb4_row22_col40\" class=\"data row22 col40\" >-0.254098</td>\n",
       "                        <td id=\"T_2cfb4_row22_col41\" class=\"data row22 col41\" >-0.035517</td>\n",
       "                        <td id=\"T_2cfb4_row22_col42\" class=\"data row22 col42\" >0.281003</td>\n",
       "                        <td id=\"T_2cfb4_row22_col43\" class=\"data row22 col43\" >-0.025990</td>\n",
       "                        <td id=\"T_2cfb4_row22_col44\" class=\"data row22 col44\" >-0.032103</td>\n",
       "                        <td id=\"T_2cfb4_row22_col45\" class=\"data row22 col45\" >-0.023751</td>\n",
       "                        <td id=\"T_2cfb4_row22_col46\" class=\"data row22 col46\" >0.001313</td>\n",
       "                        <td id=\"T_2cfb4_row22_col47\" class=\"data row22 col47\" >0.068260</td>\n",
       "                        <td id=\"T_2cfb4_row22_col48\" class=\"data row22 col48\" >0.071944</td>\n",
       "                        <td id=\"T_2cfb4_row22_col49\" class=\"data row22 col49\" >0.048691</td>\n",
       "                        <td id=\"T_2cfb4_row22_col50\" class=\"data row22 col50\" >-0.026416</td>\n",
       "                        <td id=\"T_2cfb4_row22_col51\" class=\"data row22 col51\" >0.082278</td>\n",
       "                        <td id=\"T_2cfb4_row22_col52\" class=\"data row22 col52\" >-0.021460</td>\n",
       "                        <td id=\"T_2cfb4_row22_col53\" class=\"data row22 col53\" >-0.016077</td>\n",
       "                        <td id=\"T_2cfb4_row22_col54\" class=\"data row22 col54\" >-0.009261</td>\n",
       "                        <td id=\"T_2cfb4_row22_col55\" class=\"data row22 col55\" >0.004860</td>\n",
       "                        <td id=\"T_2cfb4_row22_col56\" class=\"data row22 col56\" >0.005238</td>\n",
       "                        <td id=\"T_2cfb4_row22_col57\" class=\"data row22 col57\" >0.005722</td>\n",
       "                        <td id=\"T_2cfb4_row22_col58\" class=\"data row22 col58\" >0.001081</td>\n",
       "                        <td id=\"T_2cfb4_row22_col59\" class=\"data row22 col59\" >0.005785</td>\n",
       "                        <td id=\"T_2cfb4_row22_col60\" class=\"data row22 col60\" >-0.036362</td>\n",
       "                        <td id=\"T_2cfb4_row22_col61\" class=\"data row22 col61\" >-0.194638</td>\n",
       "                        <td id=\"T_2cfb4_row22_col62\" class=\"data row22 col62\" >0.350943</td>\n",
       "                        <td id=\"T_2cfb4_row22_col63\" class=\"data row22 col63\" >-0.221259</td>\n",
       "            </tr>\n",
       "            <tr>\n",
       "                        <th id=\"T_2cfb4_level0_row23\" class=\"row_heading level0 row23\" >total_rec_prncp</th>\n",
       "                        <td id=\"T_2cfb4_row23_col0\" class=\"data row23 col0\" >-0.145494</td>\n",
       "                        <td id=\"T_2cfb4_row23_col1\" class=\"data row23 col1\" >-0.278268</td>\n",
       "                        <td id=\"T_2cfb4_row23_col2\" class=\"data row23 col2\" >-0.277066</td>\n",
       "                        <td id=\"T_2cfb4_row23_col3\" class=\"data row23 col3\" >0.612767</td>\n",
       "                        <td id=\"T_2cfb4_row23_col4\" class=\"data row23 col4\" >0.612308</td>\n",
       "                        <td id=\"T_2cfb4_row23_col5\" class=\"data row23 col5\" >0.607017</td>\n",
       "                        <td id=\"T_2cfb4_row23_col6\" class=\"data row23 col6\" >-0.032125</td>\n",
       "                        <td id=\"T_2cfb4_row23_col7\" class=\"data row23 col7\" >0.663386</td>\n",
       "                        <td id=\"T_2cfb4_row23_col8\" class=\"data row23 col8\" >0.308741</td>\n",
       "                        <td id=\"T_2cfb4_row23_col9\" class=\"data row23 col9\" >-0.063865</td>\n",
       "                        <td id=\"T_2cfb4_row23_col10\" class=\"data row23 col10\" >-0.032103</td>\n",
       "                        <td id=\"T_2cfb4_row23_col11\" class=\"data row23 col11\" >0.005306</td>\n",
       "                        <td id=\"T_2cfb4_row23_col12\" class=\"data row23 col12\" >0.000711</td>\n",
       "                        <td id=\"T_2cfb4_row23_col13\" class=\"data row23 col13\" >0.059017</td>\n",
       "                        <td id=\"T_2cfb4_row23_col14\" class=\"data row23 col14\" >0.097223</td>\n",
       "                        <td id=\"T_2cfb4_row23_col15\" class=\"data row23 col15\" >-0.088769</td>\n",
       "                        <td id=\"T_2cfb4_row23_col16\" class=\"data row23 col16\" >0.210043</td>\n",
       "                        <td id=\"T_2cfb4_row23_col17\" class=\"data row23 col17\" >0.024363</td>\n",
       "                        <td id=\"T_2cfb4_row23_col18\" class=\"data row23 col18\" >0.152212</td>\n",
       "                        <td id=\"T_2cfb4_row23_col19\" class=\"data row23 col19\" >-0.189924</td>\n",
       "                        <td id=\"T_2cfb4_row23_col20\" class=\"data row23 col20\" >-0.189975</td>\n",
       "                        <td id=\"T_2cfb4_row23_col21\" class=\"data row23 col21\" >0.956656</td>\n",
       "                        <td id=\"T_2cfb4_row23_col22\" class=\"data row23 col22\" >0.952156</td>\n",
       "                        <td id=\"T_2cfb4_row23_col23\" class=\"data row23 col23\" >1.000000</td>\n",
       "                        <td id=\"T_2cfb4_row23_col24\" class=\"data row23 col24\" >0.378298</td>\n",
       "                        <td id=\"T_2cfb4_row23_col25\" class=\"data row23 col25\" >-0.001046</td>\n",
       "                        <td id=\"T_2cfb4_row23_col26\" class=\"data row23 col26\" >-0.115784</td>\n",
       "                        <td id=\"T_2cfb4_row23_col27\" class=\"data row23 col27\" >-0.073921</td>\n",
       "                        <td id=\"T_2cfb4_row23_col28\" class=\"data row23 col28\" >0.709687</td>\n",
       "                        <td id=\"T_2cfb4_row23_col29\" class=\"data row23 col29\" >-0.026177</td>\n",
       "                        <td id=\"T_2cfb4_row23_col30\" class=\"data row23 col30\" >-0.049397</td>\n",
       "                        <td id=\"T_2cfb4_row23_col31\" class=\"data row23 col31\" >-0.008616</td>\n",
       "                        <td id=\"T_2cfb4_row23_col32\" class=\"data row23 col32\" >-0.002110</td>\n",
       "                        <td id=\"T_2cfb4_row23_col33\" class=\"data row23 col33\" >0.234915</td>\n",
       "                        <td id=\"T_2cfb4_row23_col34\" class=\"data row23 col34\" >0.201775</td>\n",
       "                        <td id=\"T_2cfb4_row23_col35\" class=\"data row23 col35\" >0.140255</td>\n",
       "                        <td id=\"T_2cfb4_row23_col36\" class=\"data row23 col36\" >0.003663</td>\n",
       "                        <td id=\"T_2cfb4_row23_col37\" class=\"data row23 col37\" >0.000097</td>\n",
       "                        <td id=\"T_2cfb4_row23_col38\" class=\"data row23 col38\" >-0.032495</td>\n",
       "                        <td id=\"T_2cfb4_row23_col39\" class=\"data row23 col39\" >-0.124074</td>\n",
       "                        <td id=\"T_2cfb4_row23_col40\" class=\"data row23 col40\" >-0.179982</td>\n",
       "                        <td id=\"T_2cfb4_row23_col41\" class=\"data row23 col41\" >-0.047131</td>\n",
       "                        <td id=\"T_2cfb4_row23_col42\" class=\"data row23 col42\" >0.220418</td>\n",
       "                        <td id=\"T_2cfb4_row23_col43\" class=\"data row23 col43\" >0.058356</td>\n",
       "                        <td id=\"T_2cfb4_row23_col44\" class=\"data row23 col44\" >0.030915</td>\n",
       "                        <td id=\"T_2cfb4_row23_col45\" class=\"data row23 col45\" >-0.034432</td>\n",
       "                        <td id=\"T_2cfb4_row23_col46\" class=\"data row23 col46\" >-0.048209</td>\n",
       "                        <td id=\"T_2cfb4_row23_col47\" class=\"data row23 col47\" >-0.011774</td>\n",
       "                        <td id=\"T_2cfb4_row23_col48\" class=\"data row23 col48\" >0.001076</td>\n",
       "                        <td id=\"T_2cfb4_row23_col49\" class=\"data row23 col49\" >0.007180</td>\n",
       "                        <td id=\"T_2cfb4_row23_col50\" class=\"data row23 col50\" >-0.017262</td>\n",
       "                        <td id=\"T_2cfb4_row23_col51\" class=\"data row23 col51\" >0.060057</td>\n",
       "                        <td id=\"T_2cfb4_row23_col52\" class=\"data row23 col52\" >-0.013979</td>\n",
       "                        <td id=\"T_2cfb4_row23_col53\" class=\"data row23 col53\" >-0.010376</td>\n",
       "                        <td id=\"T_2cfb4_row23_col54\" class=\"data row23 col54\" >-0.005309</td>\n",
       "                        <td id=\"T_2cfb4_row23_col55\" class=\"data row23 col55\" >0.007776</td>\n",
       "                        <td id=\"T_2cfb4_row23_col56\" class=\"data row23 col56\" >0.006008</td>\n",
       "                        <td id=\"T_2cfb4_row23_col57\" class=\"data row23 col57\" >0.004191</td>\n",
       "                        <td id=\"T_2cfb4_row23_col58\" class=\"data row23 col58\" >0.000348</td>\n",
       "                        <td id=\"T_2cfb4_row23_col59\" class=\"data row23 col59\" >0.003992</td>\n",
       "                        <td id=\"T_2cfb4_row23_col60\" class=\"data row23 col60\" >-0.026125</td>\n",
       "                        <td id=\"T_2cfb4_row23_col61\" class=\"data row23 col61\" >-0.254256</td>\n",
       "                        <td id=\"T_2cfb4_row23_col62\" class=\"data row23 col62\" >0.493336</td>\n",
       "                        <td id=\"T_2cfb4_row23_col63\" class=\"data row23 col63\" >-0.323241</td>\n",
       "            </tr>\n",
       "            <tr>\n",
       "                        <th id=\"T_2cfb4_level0_row24\" class=\"row_heading level0 row24\" >total_rec_int</th>\n",
       "                        <td id=\"T_2cfb4_row24_col0\" class=\"data row24 col0\" >-0.048047</td>\n",
       "                        <td id=\"T_2cfb4_row24_col1\" class=\"data row24 col1\" >-0.144484</td>\n",
       "                        <td id=\"T_2cfb4_row24_col2\" class=\"data row24 col2\" >-0.142028</td>\n",
       "                        <td id=\"T_2cfb4_row24_col3\" class=\"data row24 col3\" >0.715874</td>\n",
       "                        <td id=\"T_2cfb4_row24_col4\" class=\"data row24 col4\" >0.715663</td>\n",
       "                        <td id=\"T_2cfb4_row24_col5\" class=\"data row24 col5\" >0.713458</td>\n",
       "                        <td id=\"T_2cfb4_row24_col6\" class=\"data row24 col6\" >0.485155</td>\n",
       "                        <td id=\"T_2cfb4_row24_col7\" class=\"data row24 col7\" >0.641945</td>\n",
       "                        <td id=\"T_2cfb4_row24_col8\" class=\"data row24 col8\" >0.239559</td>\n",
       "                        <td id=\"T_2cfb4_row24_col9\" class=\"data row24 col9\" >0.089593</td>\n",
       "                        <td id=\"T_2cfb4_row24_col10\" class=\"data row24 col10\" >0.024270</td>\n",
       "                        <td id=\"T_2cfb4_row24_col11\" class=\"data row24 col11\" >0.044062</td>\n",
       "                        <td id=\"T_2cfb4_row24_col12\" class=\"data row24 col12\" >-0.038069</td>\n",
       "                        <td id=\"T_2cfb4_row24_col13\" class=\"data row24 col13\" >0.035921</td>\n",
       "                        <td id=\"T_2cfb4_row24_col14\" class=\"data row24 col14\" >0.121789</td>\n",
       "                        <td id=\"T_2cfb4_row24_col15\" class=\"data row24 col15\" >-0.049268</td>\n",
       "                        <td id=\"T_2cfb4_row24_col16\" class=\"data row24 col16\" >0.207240</td>\n",
       "                        <td id=\"T_2cfb4_row24_col17\" class=\"data row24 col17\" >0.209697</td>\n",
       "                        <td id=\"T_2cfb4_row24_col18\" class=\"data row24 col18\" >0.126840</td>\n",
       "                        <td id=\"T_2cfb4_row24_col19\" class=\"data row24 col19\" >0.488113</td>\n",
       "                        <td id=\"T_2cfb4_row24_col20\" class=\"data row24 col20\" >0.488026</td>\n",
       "                        <td id=\"T_2cfb4_row24_col21\" class=\"data row24 col21\" >0.624423</td>\n",
       "                        <td id=\"T_2cfb4_row24_col22\" class=\"data row24 col22\" >0.623730</td>\n",
       "                        <td id=\"T_2cfb4_row24_col23\" class=\"data row24 col23\" >0.378298</td>\n",
       "                        <td id=\"T_2cfb4_row24_col24\" class=\"data row24 col24\" >1.000000</td>\n",
       "                        <td id=\"T_2cfb4_row24_col25\" class=\"data row24 col25\" >0.071735</td>\n",
       "                        <td id=\"T_2cfb4_row24_col26\" class=\"data row24 col26\" >0.030692</td>\n",
       "                        <td id=\"T_2cfb4_row24_col27\" class=\"data row24 col27\" >0.028153</td>\n",
       "                        <td id=\"T_2cfb4_row24_col28\" class=\"data row24 col28\" >0.050892</td>\n",
       "                        <td id=\"T_2cfb4_row24_col29\" class=\"data row24 col29\" >-0.008023</td>\n",
       "                        <td id=\"T_2cfb4_row24_col30\" class=\"data row24 col30\" >-0.053016</td>\n",
       "                        <td id=\"T_2cfb4_row24_col31\" class=\"data row24 col31\" >0.009491</td>\n",
       "                        <td id=\"T_2cfb4_row24_col32\" class=\"data row24 col32\" >-0.002195</td>\n",
       "                        <td id=\"T_2cfb4_row24_col33\" class=\"data row24 col33\" >0.179326</td>\n",
       "                        <td id=\"T_2cfb4_row24_col34\" class=\"data row24 col34\" >0.120580</td>\n",
       "                        <td id=\"T_2cfb4_row24_col35\" class=\"data row24 col35\" >0.124106</td>\n",
       "                        <td id=\"T_2cfb4_row24_col36\" class=\"data row24 col36\" >0.003779</td>\n",
       "                        <td id=\"T_2cfb4_row24_col37\" class=\"data row24 col37\" >-0.003892</td>\n",
       "                        <td id=\"T_2cfb4_row24_col38\" class=\"data row24 col38\" >-0.028244</td>\n",
       "                        <td id=\"T_2cfb4_row24_col39\" class=\"data row24 col39\" >-0.109934</td>\n",
       "                        <td id=\"T_2cfb4_row24_col40\" class=\"data row24 col40\" >-0.308130</td>\n",
       "                        <td id=\"T_2cfb4_row24_col41\" class=\"data row24 col41\" >0.004580</td>\n",
       "                        <td id=\"T_2cfb4_row24_col42\" class=\"data row24 col42\" >0.294398</td>\n",
       "                        <td id=\"T_2cfb4_row24_col43\" class=\"data row24 col43\" >-0.244273</td>\n",
       "                        <td id=\"T_2cfb4_row24_col44\" class=\"data row24 col44\" >-0.185148</td>\n",
       "                        <td id=\"T_2cfb4_row24_col45\" class=\"data row24 col45\" >0.019369</td>\n",
       "                        <td id=\"T_2cfb4_row24_col46\" class=\"data row24 col46\" >0.134142</td>\n",
       "                        <td id=\"T_2cfb4_row24_col47\" class=\"data row24 col47\" >0.250941</td>\n",
       "                        <td id=\"T_2cfb4_row24_col48\" class=\"data row24 col48\" >0.223765</td>\n",
       "                        <td id=\"T_2cfb4_row24_col49\" class=\"data row24 col49\" >0.139258</td>\n",
       "                        <td id=\"T_2cfb4_row24_col50\" class=\"data row24 col50\" >-0.031099</td>\n",
       "                        <td id=\"T_2cfb4_row24_col51\" class=\"data row24 col51\" >0.095722</td>\n",
       "                        <td id=\"T_2cfb4_row24_col52\" class=\"data row24 col52\" >-0.027980</td>\n",
       "                        <td id=\"T_2cfb4_row24_col53\" class=\"data row24 col53\" >-0.021462</td>\n",
       "                        <td id=\"T_2cfb4_row24_col54\" class=\"data row24 col54\" >-0.014282</td>\n",
       "                        <td id=\"T_2cfb4_row24_col55\" class=\"data row24 col55\" >-0.006323</td>\n",
       "                        <td id=\"T_2cfb4_row24_col56\" class=\"data row24 col56\" >-0.001400</td>\n",
       "                        <td id=\"T_2cfb4_row24_col57\" class=\"data row24 col57\" >0.004534</td>\n",
       "                        <td id=\"T_2cfb4_row24_col58\" class=\"data row24 col58\" >0.000517</td>\n",
       "                        <td id=\"T_2cfb4_row24_col59\" class=\"data row24 col59\" >0.005886</td>\n",
       "                        <td id=\"T_2cfb4_row24_col60\" class=\"data row24 col60\" >-0.038551</td>\n",
       "                        <td id=\"T_2cfb4_row24_col61\" class=\"data row24 col61\" >-0.022832</td>\n",
       "                        <td id=\"T_2cfb4_row24_col62\" class=\"data row24 col62\" >-0.177543</td>\n",
       "                        <td id=\"T_2cfb4_row24_col63\" class=\"data row24 col63\" >0.188443</td>\n",
       "            </tr>\n",
       "            <tr>\n",
       "                        <th id=\"T_2cfb4_level0_row25\" class=\"row_heading level0 row25\" >total_rec_late_fee</th>\n",
       "                        <td id=\"T_2cfb4_row25_col0\" class=\"data row25 col0\" >-0.033899</td>\n",
       "                        <td id=\"T_2cfb4_row25_col1\" class=\"data row25 col1\" >-0.042162</td>\n",
       "                        <td id=\"T_2cfb4_row25_col2\" class=\"data row25 col2\" >-0.043116</td>\n",
       "                        <td id=\"T_2cfb4_row25_col3\" class=\"data row25 col3\" >0.043652</td>\n",
       "                        <td id=\"T_2cfb4_row25_col4\" class=\"data row25 col4\" >0.043352</td>\n",
       "                        <td id=\"T_2cfb4_row25_col5\" class=\"data row25 col5\" >0.038987</td>\n",
       "                        <td id=\"T_2cfb4_row25_col6\" class=\"data row25 col6\" >0.057875</td>\n",
       "                        <td id=\"T_2cfb4_row25_col7\" class=\"data row25 col7\" >0.052344</td>\n",
       "                        <td id=\"T_2cfb4_row25_col8\" class=\"data row25 col8\" >0.023098</td>\n",
       "                        <td id=\"T_2cfb4_row25_col9\" class=\"data row25 col9\" >-0.005752</td>\n",
       "                        <td id=\"T_2cfb4_row25_col10\" class=\"data row25 col10\" >0.024429</td>\n",
       "                        <td id=\"T_2cfb4_row25_col11\" class=\"data row25 col11\" >0.029997</td>\n",
       "                        <td id=\"T_2cfb4_row25_col12\" class=\"data row25 col12\" >-0.026264</td>\n",
       "                        <td id=\"T_2cfb4_row25_col13\" class=\"data row25 col13\" >-0.046530</td>\n",
       "                        <td id=\"T_2cfb4_row25_col14\" class=\"data row25 col14\" >-0.006476</td>\n",
       "                        <td id=\"T_2cfb4_row25_col15\" class=\"data row25 col15\" >-0.011801</td>\n",
       "                        <td id=\"T_2cfb4_row25_col16\" class=\"data row25 col16\" >0.005914</td>\n",
       "                        <td id=\"T_2cfb4_row25_col17\" class=\"data row25 col17\" >0.024656</td>\n",
       "                        <td id=\"T_2cfb4_row25_col18\" class=\"data row25 col18\" >-0.005502</td>\n",
       "                        <td id=\"T_2cfb4_row25_col19\" class=\"data row25 col19\" >-0.006700</td>\n",
       "                        <td id=\"T_2cfb4_row25_col20\" class=\"data row25 col20\" >-0.006712</td>\n",
       "                        <td id=\"T_2cfb4_row25_col21\" class=\"data row25 col21\" >0.026161</td>\n",
       "                        <td id=\"T_2cfb4_row25_col22\" class=\"data row25 col22\" >0.022139</td>\n",
       "                        <td id=\"T_2cfb4_row25_col23\" class=\"data row25 col23\" >-0.001046</td>\n",
       "                        <td id=\"T_2cfb4_row25_col24\" class=\"data row25 col24\" >0.071735</td>\n",
       "                        <td id=\"T_2cfb4_row25_col25\" class=\"data row25 col25\" >1.000000</td>\n",
       "                        <td id=\"T_2cfb4_row25_col26\" class=\"data row25 col26\" >0.072702</td>\n",
       "                        <td id=\"T_2cfb4_row25_col27\" class=\"data row25 col27\" >0.069015</td>\n",
       "                        <td id=\"T_2cfb4_row25_col28\" class=\"data row25 col28\" >-0.034820</td>\n",
       "                        <td id=\"T_2cfb4_row25_col29\" class=\"data row25 col29\" >-0.000537</td>\n",
       "                        <td id=\"T_2cfb4_row25_col30\" class=\"data row25 col30\" >-0.010638</td>\n",
       "                        <td id=\"T_2cfb4_row25_col31\" class=\"data row25 col31\" >0.003456</td>\n",
       "                        <td id=\"T_2cfb4_row25_col32\" class=\"data row25 col32\" >-0.000422</td>\n",
       "                        <td id=\"T_2cfb4_row25_col33\" class=\"data row25 col33\" >0.012193</td>\n",
       "                        <td id=\"T_2cfb4_row25_col34\" class=\"data row25 col34\" >-0.003497</td>\n",
       "                        <td id=\"T_2cfb4_row25_col35\" class=\"data row25 col35\" >-0.006644</td>\n",
       "                        <td id=\"T_2cfb4_row25_col36\" class=\"data row25 col36\" >-0.001279</td>\n",
       "                        <td id=\"T_2cfb4_row25_col37\" class=\"data row25 col37\" >0.008257</td>\n",
       "                        <td id=\"T_2cfb4_row25_col38\" class=\"data row25 col38\" >0.002230</td>\n",
       "                        <td id=\"T_2cfb4_row25_col39\" class=\"data row25 col39\" >0.005167</td>\n",
       "                        <td id=\"T_2cfb4_row25_col40\" class=\"data row25 col40\" >-0.014165</td>\n",
       "                        <td id=\"T_2cfb4_row25_col41\" class=\"data row25 col41\" >-0.004736</td>\n",
       "                        <td id=\"T_2cfb4_row25_col42\" class=\"data row25 col42\" >0.018347</td>\n",
       "                        <td id=\"T_2cfb4_row25_col43\" class=\"data row25 col43\" >-0.032365</td>\n",
       "                        <td id=\"T_2cfb4_row25_col44\" class=\"data row25 col44\" >-0.025152</td>\n",
       "                        <td id=\"T_2cfb4_row25_col45\" class=\"data row25 col45\" >0.000784</td>\n",
       "                        <td id=\"T_2cfb4_row25_col46\" class=\"data row25 col46\" >0.020149</td>\n",
       "                        <td id=\"T_2cfb4_row25_col47\" class=\"data row25 col47\" >0.029670</td>\n",
       "                        <td id=\"T_2cfb4_row25_col48\" class=\"data row25 col48\" >0.029133</td>\n",
       "                        <td id=\"T_2cfb4_row25_col49\" class=\"data row25 col49\" >0.033060</td>\n",
       "                        <td id=\"T_2cfb4_row25_col50\" class=\"data row25 col50\" >0.004847</td>\n",
       "                        <td id=\"T_2cfb4_row25_col51\" class=\"data row25 col51\" >-0.006819</td>\n",
       "                        <td id=\"T_2cfb4_row25_col52\" class=\"data row25 col52\" >0.003656</td>\n",
       "                        <td id=\"T_2cfb4_row25_col53\" class=\"data row25 col53\" >0.002513</td>\n",
       "                        <td id=\"T_2cfb4_row25_col54\" class=\"data row25 col54\" >0.002876</td>\n",
       "                        <td id=\"T_2cfb4_row25_col55\" class=\"data row25 col55\" >0.001000</td>\n",
       "                        <td id=\"T_2cfb4_row25_col56\" class=\"data row25 col56\" >0.000084</td>\n",
       "                        <td id=\"T_2cfb4_row25_col57\" class=\"data row25 col57\" >-0.002747</td>\n",
       "                        <td id=\"T_2cfb4_row25_col58\" class=\"data row25 col58\" >-0.001324</td>\n",
       "                        <td id=\"T_2cfb4_row25_col59\" class=\"data row25 col59\" >-0.002073</td>\n",
       "                        <td id=\"T_2cfb4_row25_col60\" class=\"data row25 col60\" >0.007751</td>\n",
       "                        <td id=\"T_2cfb4_row25_col61\" class=\"data row25 col61\" >0.151624</td>\n",
       "                        <td id=\"T_2cfb4_row25_col62\" class=\"data row25 col62\" >-0.040316</td>\n",
       "                        <td id=\"T_2cfb4_row25_col63\" class=\"data row25 col63\" >-0.056113</td>\n",
       "            </tr>\n",
       "            <tr>\n",
       "                        <th id=\"T_2cfb4_level0_row26\" class=\"row_heading level0 row26\" >recoveries</th>\n",
       "                        <td id=\"T_2cfb4_row26_col0\" class=\"data row26 col0\" >-0.036249</td>\n",
       "                        <td id=\"T_2cfb4_row26_col1\" class=\"data row26 col1\" >-0.066163</td>\n",
       "                        <td id=\"T_2cfb4_row26_col2\" class=\"data row26 col2\" >-0.066359</td>\n",
       "                        <td id=\"T_2cfb4_row26_col3\" class=\"data row26 col3\" >0.110694</td>\n",
       "                        <td id=\"T_2cfb4_row26_col4\" class=\"data row26 col4\" >0.110341</td>\n",
       "                        <td id=\"T_2cfb4_row26_col5\" class=\"data row26 col5\" >0.107948</td>\n",
       "                        <td id=\"T_2cfb4_row26_col6\" class=\"data row26 col6\" >0.127893</td>\n",
       "                        <td id=\"T_2cfb4_row26_col7\" class=\"data row26 col7\" >0.105671</td>\n",
       "                        <td id=\"T_2cfb4_row26_col8\" class=\"data row26 col8\" >0.019425</td>\n",
       "                        <td id=\"T_2cfb4_row26_col9\" class=\"data row26 col9\" >0.021457</td>\n",
       "                        <td id=\"T_2cfb4_row26_col10\" class=\"data row26 col10\" >0.004485</td>\n",
       "                        <td id=\"T_2cfb4_row26_col11\" class=\"data row26 col11\" >0.042947</td>\n",
       "                        <td id=\"T_2cfb4_row26_col12\" class=\"data row26 col12\" >-0.006546</td>\n",
       "                        <td id=\"T_2cfb4_row26_col13\" class=\"data row26 col13\" >-0.001969</td>\n",
       "                        <td id=\"T_2cfb4_row26_col14\" class=\"data row26 col14\" >0.013438</td>\n",
       "                        <td id=\"T_2cfb4_row26_col15\" class=\"data row26 col15\" >-0.012687</td>\n",
       "                        <td id=\"T_2cfb4_row26_col16\" class=\"data row26 col16\" >0.021030</td>\n",
       "                        <td id=\"T_2cfb4_row26_col17\" class=\"data row26 col17\" >0.033112</td>\n",
       "                        <td id=\"T_2cfb4_row26_col18\" class=\"data row26 col18\" >0.016012</td>\n",
       "                        <td id=\"T_2cfb4_row26_col19\" class=\"data row26 col19\" >-0.107249</td>\n",
       "                        <td id=\"T_2cfb4_row26_col20\" class=\"data row26 col20\" >-0.107242</td>\n",
       "                        <td id=\"T_2cfb4_row26_col21\" class=\"data row26 col21\" >-0.022419</td>\n",
       "                        <td id=\"T_2cfb4_row26_col22\" class=\"data row26 col22\" >-0.023902</td>\n",
       "                        <td id=\"T_2cfb4_row26_col23\" class=\"data row26 col23\" >-0.115784</td>\n",
       "                        <td id=\"T_2cfb4_row26_col24\" class=\"data row26 col24\" >0.030692</td>\n",
       "                        <td id=\"T_2cfb4_row26_col25\" class=\"data row26 col25\" >0.072702</td>\n",
       "                        <td id=\"T_2cfb4_row26_col26\" class=\"data row26 col26\" >1.000000</td>\n",
       "                        <td id=\"T_2cfb4_row26_col27\" class=\"data row26 col27\" >0.800666</td>\n",
       "                        <td id=\"T_2cfb4_row26_col28\" class=\"data row26 col28\" >-0.070722</td>\n",
       "                        <td id=\"T_2cfb4_row26_col29\" class=\"data row26 col29\" >-0.001023</td>\n",
       "                        <td id=\"T_2cfb4_row26_col30\" class=\"data row26 col30\" >-0.011078</td>\n",
       "                        <td id=\"T_2cfb4_row26_col31\" class=\"data row26 col31\" >0.002762</td>\n",
       "                        <td id=\"T_2cfb4_row26_col32\" class=\"data row26 col32\" >-0.000625</td>\n",
       "                        <td id=\"T_2cfb4_row26_col33\" class=\"data row26 col33\" >0.007047</td>\n",
       "                        <td id=\"T_2cfb4_row26_col34\" class=\"data row26 col34\" >0.006423</td>\n",
       "                        <td id=\"T_2cfb4_row26_col35\" class=\"data row26 col35\" >0.004895</td>\n",
       "                        <td id=\"T_2cfb4_row26_col36\" class=\"data row26 col36\" >0.003527</td>\n",
       "                        <td id=\"T_2cfb4_row26_col37\" class=\"data row26 col37\" >0.002095</td>\n",
       "                        <td id=\"T_2cfb4_row26_col38\" class=\"data row26 col38\" >-0.002614</td>\n",
       "                        <td id=\"T_2cfb4_row26_col39\" class=\"data row26 col39\" >-0.003625</td>\n",
       "                        <td id=\"T_2cfb4_row26_col40\" class=\"data row26 col40\" >-0.052905</td>\n",
       "                        <td id=\"T_2cfb4_row26_col41\" class=\"data row26 col41\" >-0.010579</td>\n",
       "                        <td id=\"T_2cfb4_row26_col42\" class=\"data row26 col42\" >0.061605</td>\n",
       "                        <td id=\"T_2cfb4_row26_col43\" class=\"data row26 col43\" >-0.053151</td>\n",
       "                        <td id=\"T_2cfb4_row26_col44\" class=\"data row26 col44\" >-0.047586</td>\n",
       "                        <td id=\"T_2cfb4_row26_col45\" class=\"data row26 col45\" >-0.009576</td>\n",
       "                        <td id=\"T_2cfb4_row26_col46\" class=\"data row26 col46\" >0.029328</td>\n",
       "                        <td id=\"T_2cfb4_row26_col47\" class=\"data row26 col47\" >0.065847</td>\n",
       "                        <td id=\"T_2cfb4_row26_col48\" class=\"data row26 col48\" >0.077803</td>\n",
       "                        <td id=\"T_2cfb4_row26_col49\" class=\"data row26 col49\" >0.048843</td>\n",
       "                        <td id=\"T_2cfb4_row26_col50\" class=\"data row26 col50\" >-0.004142</td>\n",
       "                        <td id=\"T_2cfb4_row26_col51\" class=\"data row26 col51\" >0.003823</td>\n",
       "                        <td id=\"T_2cfb4_row26_col52\" class=\"data row26 col52\" >-0.001686</td>\n",
       "                        <td id=\"T_2cfb4_row26_col53\" class=\"data row26 col53\" >-0.003929</td>\n",
       "                        <td id=\"T_2cfb4_row26_col54\" class=\"data row26 col54\" >-0.000059</td>\n",
       "                        <td id=\"T_2cfb4_row26_col55\" class=\"data row26 col55\" >0.001833</td>\n",
       "                        <td id=\"T_2cfb4_row26_col56\" class=\"data row26 col56\" >0.003825</td>\n",
       "                        <td id=\"T_2cfb4_row26_col57\" class=\"data row26 col57\" >0.000933</td>\n",
       "                        <td id=\"T_2cfb4_row26_col58\" class=\"data row26 col58\" >0.003133</td>\n",
       "                        <td id=\"T_2cfb4_row26_col59\" class=\"data row26 col59\" >0.004217</td>\n",
       "                        <td id=\"T_2cfb4_row26_col60\" class=\"data row26 col60\" >-0.002214</td>\n",
       "                        <td id=\"T_2cfb4_row26_col61\" class=\"data row26 col61\" >0.435352</td>\n",
       "                        <td id=\"T_2cfb4_row26_col62\" class=\"data row26 col62\" >-0.126309</td>\n",
       "                        <td id=\"T_2cfb4_row26_col63\" class=\"data row26 col63\" >-0.150772</td>\n",
       "            </tr>\n",
       "            <tr>\n",
       "                        <th id=\"T_2cfb4_level0_row27\" class=\"row_heading level0 row27\" >collection_recovery_fee</th>\n",
       "                        <td id=\"T_2cfb4_row27_col0\" class=\"data row27 col0\" >-0.015140</td>\n",
       "                        <td id=\"T_2cfb4_row27_col1\" class=\"data row27 col1\" >-0.030594</td>\n",
       "                        <td id=\"T_2cfb4_row27_col2\" class=\"data row27 col2\" >-0.030749</td>\n",
       "                        <td id=\"T_2cfb4_row27_col3\" class=\"data row27 col3\" >0.077338</td>\n",
       "                        <td id=\"T_2cfb4_row27_col4\" class=\"data row27 col4\" >0.077192</td>\n",
       "                        <td id=\"T_2cfb4_row27_col5\" class=\"data row27 col5\" >0.073783</td>\n",
       "                        <td id=\"T_2cfb4_row27_col6\" class=\"data row27 col6\" >0.082198</td>\n",
       "                        <td id=\"T_2cfb4_row27_col7\" class=\"data row27 col7\" >0.075347</td>\n",
       "                        <td id=\"T_2cfb4_row27_col8\" class=\"data row27 col8\" >0.015632</td>\n",
       "                        <td id=\"T_2cfb4_row27_col9\" class=\"data row27 col9\" >0.018080</td>\n",
       "                        <td id=\"T_2cfb4_row27_col10\" class=\"data row27 col10\" >0.005382</td>\n",
       "                        <td id=\"T_2cfb4_row27_col11\" class=\"data row27 col11\" >0.032720</td>\n",
       "                        <td id=\"T_2cfb4_row27_col12\" class=\"data row27 col12\" >-0.007626</td>\n",
       "                        <td id=\"T_2cfb4_row27_col13\" class=\"data row27 col13\" >-0.010754</td>\n",
       "                        <td id=\"T_2cfb4_row27_col14\" class=\"data row27 col14\" >0.012087</td>\n",
       "                        <td id=\"T_2cfb4_row27_col15\" class=\"data row27 col15\" >-0.007006</td>\n",
       "                        <td id=\"T_2cfb4_row27_col16\" class=\"data row27 col16\" >0.015201</td>\n",
       "                        <td id=\"T_2cfb4_row27_col17\" class=\"data row27 col17\" >0.021156</td>\n",
       "                        <td id=\"T_2cfb4_row27_col18\" class=\"data row27 col18\" >0.016155</td>\n",
       "                        <td id=\"T_2cfb4_row27_col19\" class=\"data row27 col19\" >-0.072743</td>\n",
       "                        <td id=\"T_2cfb4_row27_col20\" class=\"data row27 col20\" >-0.072738</td>\n",
       "                        <td id=\"T_2cfb4_row27_col21\" class=\"data row27 col21\" >-0.000888</td>\n",
       "                        <td id=\"T_2cfb4_row27_col22\" class=\"data row27 col22\" >-0.003726</td>\n",
       "                        <td id=\"T_2cfb4_row27_col23\" class=\"data row27 col23\" >-0.073921</td>\n",
       "                        <td id=\"T_2cfb4_row27_col24\" class=\"data row27 col24\" >0.028153</td>\n",
       "                        <td id=\"T_2cfb4_row27_col25\" class=\"data row27 col25\" >0.069015</td>\n",
       "                        <td id=\"T_2cfb4_row27_col26\" class=\"data row27 col26\" >0.800666</td>\n",
       "                        <td id=\"T_2cfb4_row27_col27\" class=\"data row27 col27\" >1.000000</td>\n",
       "                        <td id=\"T_2cfb4_row27_col28\" class=\"data row27 col28\" >-0.047792</td>\n",
       "                        <td id=\"T_2cfb4_row27_col29\" class=\"data row27 col29\" >-0.000369</td>\n",
       "                        <td id=\"T_2cfb4_row27_col30\" class=\"data row27 col30\" >-0.008080</td>\n",
       "                        <td id=\"T_2cfb4_row27_col31\" class=\"data row27 col31\" >0.001381</td>\n",
       "                        <td id=\"T_2cfb4_row27_col32\" class=\"data row27 col32\" >-0.000309</td>\n",
       "                        <td id=\"T_2cfb4_row27_col33\" class=\"data row27 col33\" >0.009142</td>\n",
       "                        <td id=\"T_2cfb4_row27_col34\" class=\"data row27 col34\" >0.007092</td>\n",
       "                        <td id=\"T_2cfb4_row27_col35\" class=\"data row27 col35\" >0.006207</td>\n",
       "                        <td id=\"T_2cfb4_row27_col36\" class=\"data row27 col36\" >0.003558</td>\n",
       "                        <td id=\"T_2cfb4_row27_col37\" class=\"data row27 col37\" >0.002281</td>\n",
       "                        <td id=\"T_2cfb4_row27_col38\" class=\"data row27 col38\" >-0.001476</td>\n",
       "                        <td id=\"T_2cfb4_row27_col39\" class=\"data row27 col39\" >-0.005632</td>\n",
       "                        <td id=\"T_2cfb4_row27_col40\" class=\"data row27 col40\" >-0.033501</td>\n",
       "                        <td id=\"T_2cfb4_row27_col41\" class=\"data row27 col41\" >-0.005296</td>\n",
       "                        <td id=\"T_2cfb4_row27_col42\" class=\"data row27 col42\" >0.037645</td>\n",
       "                        <td id=\"T_2cfb4_row27_col43\" class=\"data row27 col43\" >-0.035983</td>\n",
       "                        <td id=\"T_2cfb4_row27_col44\" class=\"data row27 col44\" >-0.034043</td>\n",
       "                        <td id=\"T_2cfb4_row27_col45\" class=\"data row27 col45\" >-0.005292</td>\n",
       "                        <td id=\"T_2cfb4_row27_col46\" class=\"data row27 col46\" >0.021335</td>\n",
       "                        <td id=\"T_2cfb4_row27_col47\" class=\"data row27 col47\" >0.043363</td>\n",
       "                        <td id=\"T_2cfb4_row27_col48\" class=\"data row27 col48\" >0.050849</td>\n",
       "                        <td id=\"T_2cfb4_row27_col49\" class=\"data row27 col49\" >0.037606</td>\n",
       "                        <td id=\"T_2cfb4_row27_col50\" class=\"data row27 col50\" >-0.002958</td>\n",
       "                        <td id=\"T_2cfb4_row27_col51\" class=\"data row27 col51\" >0.004956</td>\n",
       "                        <td id=\"T_2cfb4_row27_col52\" class=\"data row27 col52\" >0.000124</td>\n",
       "                        <td id=\"T_2cfb4_row27_col53\" class=\"data row27 col53\" >-0.001788</td>\n",
       "                        <td id=\"T_2cfb4_row27_col54\" class=\"data row27 col54\" >-0.002468</td>\n",
       "                        <td id=\"T_2cfb4_row27_col55\" class=\"data row27 col55\" >-0.000480</td>\n",
       "                        <td id=\"T_2cfb4_row27_col56\" class=\"data row27 col56\" >-0.000715</td>\n",
       "                        <td id=\"T_2cfb4_row27_col57\" class=\"data row27 col57\" >-0.001361</td>\n",
       "                        <td id=\"T_2cfb4_row27_col58\" class=\"data row27 col58\" >0.002327</td>\n",
       "                        <td id=\"T_2cfb4_row27_col59\" class=\"data row27 col59\" >0.001529</td>\n",
       "                        <td id=\"T_2cfb4_row27_col60\" class=\"data row27 col60\" >0.000239</td>\n",
       "                        <td id=\"T_2cfb4_row27_col61\" class=\"data row27 col61\" >0.295281</td>\n",
       "                        <td id=\"T_2cfb4_row27_col62\" class=\"data row27 col62\" >-0.085670</td>\n",
       "                        <td id=\"T_2cfb4_row27_col63\" class=\"data row27 col63\" >-0.102262</td>\n",
       "            </tr>\n",
       "            <tr>\n",
       "                        <th id=\"T_2cfb4_level0_row28\" class=\"row_heading level0 row28\" >last_pymnt_amnt</th>\n",
       "                        <td id=\"T_2cfb4_row28_col0\" class=\"data row28 col0\" >-0.025860</td>\n",
       "                        <td id=\"T_2cfb4_row28_col1\" class=\"data row28 col1\" >-0.078281</td>\n",
       "                        <td id=\"T_2cfb4_row28_col2\" class=\"data row28 col2\" >-0.076850</td>\n",
       "                        <td id=\"T_2cfb4_row28_col3\" class=\"data row28 col3\" >0.304244</td>\n",
       "                        <td id=\"T_2cfb4_row28_col4\" class=\"data row28 col4\" >0.304179</td>\n",
       "                        <td id=\"T_2cfb4_row28_col5\" class=\"data row28 col5\" >0.303106</td>\n",
       "                        <td id=\"T_2cfb4_row28_col6\" class=\"data row28 col6\" >0.075619</td>\n",
       "                        <td id=\"T_2cfb4_row28_col7\" class=\"data row28 col7\" >0.299868</td>\n",
       "                        <td id=\"T_2cfb4_row28_col8\" class=\"data row28 col8\" >0.159211</td>\n",
       "                        <td id=\"T_2cfb4_row28_col9\" class=\"data row28 col9\" >-0.043052</td>\n",
       "                        <td id=\"T_2cfb4_row28_col10\" class=\"data row28 col10\" >-0.013738</td>\n",
       "                        <td id=\"T_2cfb4_row28_col11\" class=\"data row28 col11\" >0.041239</td>\n",
       "                        <td id=\"T_2cfb4_row28_col12\" class=\"data row28 col12\" >0.006639</td>\n",
       "                        <td id=\"T_2cfb4_row28_col13\" class=\"data row28 col13\" >0.039023</td>\n",
       "                        <td id=\"T_2cfb4_row28_col14\" class=\"data row28 col14\" >0.054899</td>\n",
       "                        <td id=\"T_2cfb4_row28_col15\" class=\"data row28 col15\" >-0.027232</td>\n",
       "                        <td id=\"T_2cfb4_row28_col16\" class=\"data row28 col16\" >0.087393</td>\n",
       "                        <td id=\"T_2cfb4_row28_col17\" class=\"data row28 col17\" >-0.010464</td>\n",
       "                        <td id=\"T_2cfb4_row28_col18\" class=\"data row28 col18\" >0.113017</td>\n",
       "                        <td id=\"T_2cfb4_row28_col19\" class=\"data row28 col19\" >-0.317377</td>\n",
       "                        <td id=\"T_2cfb4_row28_col20\" class=\"data row28 col20\" >-0.317355</td>\n",
       "                        <td id=\"T_2cfb4_row28_col21\" class=\"data row28 col21\" >0.614286</td>\n",
       "                        <td id=\"T_2cfb4_row28_col22\" class=\"data row28 col22\" >0.614226</td>\n",
       "                        <td id=\"T_2cfb4_row28_col23\" class=\"data row28 col23\" >0.709687</td>\n",
       "                        <td id=\"T_2cfb4_row28_col24\" class=\"data row28 col24\" >0.050892</td>\n",
       "                        <td id=\"T_2cfb4_row28_col25\" class=\"data row28 col25\" >-0.034820</td>\n",
       "                        <td id=\"T_2cfb4_row28_col26\" class=\"data row28 col26\" >-0.070722</td>\n",
       "                        <td id=\"T_2cfb4_row28_col27\" class=\"data row28 col27\" >-0.047792</td>\n",
       "                        <td id=\"T_2cfb4_row28_col28\" class=\"data row28 col28\" >1.000000</td>\n",
       "                        <td id=\"T_2cfb4_row28_col29\" class=\"data row28 col29\" >-0.009801</td>\n",
       "                        <td id=\"T_2cfb4_row28_col30\" class=\"data row28 col30\" >-0.016785</td>\n",
       "                        <td id=\"T_2cfb4_row28_col31\" class=\"data row28 col31\" >-0.000997</td>\n",
       "                        <td id=\"T_2cfb4_row28_col32\" class=\"data row28 col32\" >-0.001591</td>\n",
       "                        <td id=\"T_2cfb4_row28_col33\" class=\"data row28 col33\" >0.132911</td>\n",
       "                        <td id=\"T_2cfb4_row28_col34\" class=\"data row28 col34\" >0.087657</td>\n",
       "                        <td id=\"T_2cfb4_row28_col35\" class=\"data row28 col35\" >0.090114</td>\n",
       "                        <td id=\"T_2cfb4_row28_col36\" class=\"data row28 col36\" >0.000463</td>\n",
       "                        <td id=\"T_2cfb4_row28_col37\" class=\"data row28 col37\" >-0.004489</td>\n",
       "                        <td id=\"T_2cfb4_row28_col38\" class=\"data row28 col38\" >-0.015453</td>\n",
       "                        <td id=\"T_2cfb4_row28_col39\" class=\"data row28 col39\" >-0.082653</td>\n",
       "                        <td id=\"T_2cfb4_row28_col40\" class=\"data row28 col40\" >-0.109407</td>\n",
       "                        <td id=\"T_2cfb4_row28_col41\" class=\"data row28 col41\" >-0.007227</td>\n",
       "                        <td id=\"T_2cfb4_row28_col42\" class=\"data row28 col42\" >0.113144</td>\n",
       "                        <td id=\"T_2cfb4_row28_col43\" class=\"data row28 col43\" >-0.024860</td>\n",
       "                        <td id=\"T_2cfb4_row28_col44\" class=\"data row28 col44\" >-0.024156</td>\n",
       "                        <td id=\"T_2cfb4_row28_col45\" class=\"data row28 col45\" >-0.002702</td>\n",
       "                        <td id=\"T_2cfb4_row28_col46\" class=\"data row28 col46\" >0.005743</td>\n",
       "                        <td id=\"T_2cfb4_row28_col47\" class=\"data row28 col47\" >0.038638</td>\n",
       "                        <td id=\"T_2cfb4_row28_col48\" class=\"data row28 col48\" >0.040818</td>\n",
       "                        <td id=\"T_2cfb4_row28_col49\" class=\"data row28 col49\" >0.025406</td>\n",
       "                        <td id=\"T_2cfb4_row28_col50\" class=\"data row28 col50\" >-0.011076</td>\n",
       "                        <td id=\"T_2cfb4_row28_col51\" class=\"data row28 col51\" >0.037727</td>\n",
       "                        <td id=\"T_2cfb4_row28_col52\" class=\"data row28 col52\" >-0.007593</td>\n",
       "                        <td id=\"T_2cfb4_row28_col53\" class=\"data row28 col53\" >-0.008047</td>\n",
       "                        <td id=\"T_2cfb4_row28_col54\" class=\"data row28 col54\" >-0.006219</td>\n",
       "                        <td id=\"T_2cfb4_row28_col55\" class=\"data row28 col55\" >0.003277</td>\n",
       "                        <td id=\"T_2cfb4_row28_col56\" class=\"data row28 col56\" >0.005089</td>\n",
       "                        <td id=\"T_2cfb4_row28_col57\" class=\"data row28 col57\" >0.004208</td>\n",
       "                        <td id=\"T_2cfb4_row28_col58\" class=\"data row28 col58\" >0.002787</td>\n",
       "                        <td id=\"T_2cfb4_row28_col59\" class=\"data row28 col59\" >0.004896</td>\n",
       "                        <td id=\"T_2cfb4_row28_col60\" class=\"data row28 col60\" >-0.016231</td>\n",
       "                        <td id=\"T_2cfb4_row28_col61\" class=\"data row28 col61\" >-0.170163</td>\n",
       "                        <td id=\"T_2cfb4_row28_col62\" class=\"data row28 col62\" >0.586894</td>\n",
       "                        <td id=\"T_2cfb4_row28_col63\" class=\"data row28 col63\" >-0.467993</td>\n",
       "            </tr>\n",
       "            <tr>\n",
       "                        <th id=\"T_2cfb4_level0_row29\" class=\"row_heading level0 row29\" >collections_12_mths_ex_med</th>\n",
       "                        <td id=\"T_2cfb4_row29_col0\" class=\"data row29 col0\" >0.046955</td>\n",
       "                        <td id=\"T_2cfb4_row29_col1\" class=\"data row29 col1\" >0.056528</td>\n",
       "                        <td id=\"T_2cfb4_row29_col2\" class=\"data row29 col2\" >0.056772</td>\n",
       "                        <td id=\"T_2cfb4_row29_col3\" class=\"data row29 col3\" >-0.008066</td>\n",
       "                        <td id=\"T_2cfb4_row29_col4\" class=\"data row29 col4\" >-0.007821</td>\n",
       "                        <td id=\"T_2cfb4_row29_col5\" class=\"data row29 col5\" >-0.007174</td>\n",
       "                        <td id=\"T_2cfb4_row29_col6\" class=\"data row29 col6\" >0.020305</td>\n",
       "                        <td id=\"T_2cfb4_row29_col7\" class=\"data row29 col7\" >-0.006054</td>\n",
       "                        <td id=\"T_2cfb4_row29_col8\" class=\"data row29 col8\" >-0.000325</td>\n",
       "                        <td id=\"T_2cfb4_row29_col9\" class=\"data row29 col9\" >0.000305</td>\n",
       "                        <td id=\"T_2cfb4_row29_col10\" class=\"data row29 col10\" >0.039148</td>\n",
       "                        <td id=\"T_2cfb4_row29_col11\" class=\"data row29 col11\" >-0.001804</td>\n",
       "                        <td id=\"T_2cfb4_row29_col12\" class=\"data row29 col12\" >-0.032315</td>\n",
       "                        <td id=\"T_2cfb4_row29_col13\" class=\"data row29 col13\" >-0.017268</td>\n",
       "                        <td id=\"T_2cfb4_row29_col14\" class=\"data row29 col14\" >0.011853</td>\n",
       "                        <td id=\"T_2cfb4_row29_col15\" class=\"data row29 col15\" >0.021524</td>\n",
       "                        <td id=\"T_2cfb4_row29_col16\" class=\"data row29 col16\" >-0.016186</td>\n",
       "                        <td id=\"T_2cfb4_row29_col17\" class=\"data row29 col17\" >-0.027684</td>\n",
       "                        <td id=\"T_2cfb4_row29_col18\" class=\"data row29 col18\" >0.013263</td>\n",
       "                        <td id=\"T_2cfb4_row29_col19\" class=\"data row29 col19\" >0.020330</td>\n",
       "                        <td id=\"T_2cfb4_row29_col20\" class=\"data row29 col20\" >0.020323</td>\n",
       "                        <td id=\"T_2cfb4_row29_col21\" class=\"data row29 col21\" >-0.024749</td>\n",
       "                        <td id=\"T_2cfb4_row29_col22\" class=\"data row29 col22\" >-0.024125</td>\n",
       "                        <td id=\"T_2cfb4_row29_col23\" class=\"data row29 col23\" >-0.026177</td>\n",
       "                        <td id=\"T_2cfb4_row29_col24\" class=\"data row29 col24\" >-0.008023</td>\n",
       "                        <td id=\"T_2cfb4_row29_col25\" class=\"data row29 col25\" >-0.000537</td>\n",
       "                        <td id=\"T_2cfb4_row29_col26\" class=\"data row29 col26\" >-0.001023</td>\n",
       "                        <td id=\"T_2cfb4_row29_col27\" class=\"data row29 col27\" >-0.000369</td>\n",
       "                        <td id=\"T_2cfb4_row29_col28\" class=\"data row29 col28\" >-0.009801</td>\n",
       "                        <td id=\"T_2cfb4_row29_col29\" class=\"data row29 col29\" >1.000000</td>\n",
       "                        <td id=\"T_2cfb4_row29_col30\" class=\"data row29 col30\" >-0.074565</td>\n",
       "                        <td id=\"T_2cfb4_row29_col31\" class=\"data row29 col31\" >0.019299</td>\n",
       "                        <td id=\"T_2cfb4_row29_col32\" class=\"data row29 col32\" >0.006721</td>\n",
       "                        <td id=\"T_2cfb4_row29_col33\" class=\"data row29 col33\" >-0.004459</td>\n",
       "                        <td id=\"T_2cfb4_row29_col34\" class=\"data row29 col34\" >-0.011622</td>\n",
       "                        <td id=\"T_2cfb4_row29_col35\" class=\"data row29 col35\" >-0.002032</td>\n",
       "                        <td id=\"T_2cfb4_row29_col36\" class=\"data row29 col36\" >-0.000812</td>\n",
       "                        <td id=\"T_2cfb4_row29_col37\" class=\"data row29 col37\" >-0.001653</td>\n",
       "                        <td id=\"T_2cfb4_row29_col38\" class=\"data row29 col38\" >0.000915</td>\n",
       "                        <td id=\"T_2cfb4_row29_col39\" class=\"data row29 col39\" >0.001621</td>\n",
       "                        <td id=\"T_2cfb4_row29_col40\" class=\"data row29 col40\" >-0.026399</td>\n",
       "                        <td id=\"T_2cfb4_row29_col41\" class=\"data row29 col41\" >0.028923</td>\n",
       "                        <td id=\"T_2cfb4_row29_col42\" class=\"data row29 col42\" >-0.002542</td>\n",
       "                        <td id=\"T_2cfb4_row29_col43\" class=\"data row29 col43\" >-0.020970</td>\n",
       "                        <td id=\"T_2cfb4_row29_col44\" class=\"data row29 col44\" >-0.007144</td>\n",
       "                        <td id=\"T_2cfb4_row29_col45\" class=\"data row29 col45\" >0.008816</td>\n",
       "                        <td id=\"T_2cfb4_row29_col46\" class=\"data row29 col46\" >0.011684</td>\n",
       "                        <td id=\"T_2cfb4_row29_col47\" class=\"data row29 col47\" >0.006776</td>\n",
       "                        <td id=\"T_2cfb4_row29_col48\" class=\"data row29 col48\" >0.002845</td>\n",
       "                        <td id=\"T_2cfb4_row29_col49\" class=\"data row29 col49\" >0.005142</td>\n",
       "                        <td id=\"T_2cfb4_row29_col50\" class=\"data row29 col50\" >0.001547</td>\n",
       "                        <td id=\"T_2cfb4_row29_col51\" class=\"data row29 col51\" >0.001940</td>\n",
       "                        <td id=\"T_2cfb4_row29_col52\" class=\"data row29 col52\" >0.001616</td>\n",
       "                        <td id=\"T_2cfb4_row29_col53\" class=\"data row29 col53\" >0.002027</td>\n",
       "                        <td id=\"T_2cfb4_row29_col54\" class=\"data row29 col54\" >-0.000295</td>\n",
       "                        <td id=\"T_2cfb4_row29_col55\" class=\"data row29 col55\" >-0.005690</td>\n",
       "                        <td id=\"T_2cfb4_row29_col56\" class=\"data row29 col56\" >-0.002937</td>\n",
       "                        <td id=\"T_2cfb4_row29_col57\" class=\"data row29 col57\" >-0.002643</td>\n",
       "                        <td id=\"T_2cfb4_row29_col58\" class=\"data row29 col58\" >-0.001056</td>\n",
       "                        <td id=\"T_2cfb4_row29_col59\" class=\"data row29 col59\" >0.000053</td>\n",
       "                        <td id=\"T_2cfb4_row29_col60\" class=\"data row29 col60\" >-0.000221</td>\n",
       "                        <td id=\"T_2cfb4_row29_col61\" class=\"data row29 col61\" >-0.004126</td>\n",
       "                        <td id=\"T_2cfb4_row29_col62\" class=\"data row29 col62\" >-0.027621</td>\n",
       "                        <td id=\"T_2cfb4_row29_col63\" class=\"data row29 col63\" >0.029677</td>\n",
       "            </tr>\n",
       "            <tr>\n",
       "                        <th id=\"T_2cfb4_level0_row30\" class=\"row_heading level0 row30\" >mths_since_last_major_derog</th>\n",
       "                        <td id=\"T_2cfb4_row30_col0\" class=\"data row30 col0\" >0.027064</td>\n",
       "                        <td id=\"T_2cfb4_row30_col1\" class=\"data row30 col1\" >0.027452</td>\n",
       "                        <td id=\"T_2cfb4_row30_col2\" class=\"data row30 col2\" >0.027777</td>\n",
       "                        <td id=\"T_2cfb4_row30_col3\" class=\"data row30 col3\" >-0.066378</td>\n",
       "                        <td id=\"T_2cfb4_row30_col4\" class=\"data row30 col4\" >-0.066363</td>\n",
       "                        <td id=\"T_2cfb4_row30_col5\" class=\"data row30 col5\" >-0.066305</td>\n",
       "                        <td id=\"T_2cfb4_row30_col6\" class=\"data row30 col6\" >-0.006663</td>\n",
       "                        <td id=\"T_2cfb4_row30_col7\" class=\"data row30 col7\" >-0.066466</td>\n",
       "                        <td id=\"T_2cfb4_row30_col8\" class=\"data row30 col8\" >-0.073188</td>\n",
       "                        <td id=\"T_2cfb4_row30_col9\" class=\"data row30 col9\" >0.029151</td>\n",
       "                        <td id=\"T_2cfb4_row30_col10\" class=\"data row30 col10\" >-0.437099</td>\n",
       "                        <td id=\"T_2cfb4_row30_col11\" class=\"data row30 col11\" >0.017941</td>\n",
       "                        <td id=\"T_2cfb4_row30_col12\" class=\"data row30 col12\" >0.721549</td>\n",
       "                        <td id=\"T_2cfb4_row30_col13\" class=\"data row30 col13\" >0.002451</td>\n",
       "                        <td id=\"T_2cfb4_row30_col14\" class=\"data row30 col14\" >-0.002783</td>\n",
       "                        <td id=\"T_2cfb4_row30_col15\" class=\"data row30 col15\" >0.116688</td>\n",
       "                        <td id=\"T_2cfb4_row30_col16\" class=\"data row30 col16\" >-0.046004</td>\n",
       "                        <td id=\"T_2cfb4_row30_col17\" class=\"data row30 col17\" >-0.013601</td>\n",
       "                        <td id=\"T_2cfb4_row30_col18\" class=\"data row30 col18\" >-0.069410</td>\n",
       "                        <td id=\"T_2cfb4_row30_col19\" class=\"data row30 col19\" >-0.026157</td>\n",
       "                        <td id=\"T_2cfb4_row30_col20\" class=\"data row30 col20\" >-0.026138</td>\n",
       "                        <td id=\"T_2cfb4_row30_col21\" class=\"data row30 col21\" >-0.059344</td>\n",
       "                        <td id=\"T_2cfb4_row30_col22\" class=\"data row30 col22\" >-0.059295</td>\n",
       "                        <td id=\"T_2cfb4_row30_col23\" class=\"data row30 col23\" >-0.049397</td>\n",
       "                        <td id=\"T_2cfb4_row30_col24\" class=\"data row30 col24\" >-0.053016</td>\n",
       "                        <td id=\"T_2cfb4_row30_col25\" class=\"data row30 col25\" >-0.010638</td>\n",
       "                        <td id=\"T_2cfb4_row30_col26\" class=\"data row30 col26\" >-0.011078</td>\n",
       "                        <td id=\"T_2cfb4_row30_col27\" class=\"data row30 col27\" >-0.008080</td>\n",
       "                        <td id=\"T_2cfb4_row30_col28\" class=\"data row30 col28\" >-0.016785</td>\n",
       "                        <td id=\"T_2cfb4_row30_col29\" class=\"data row30 col29\" >-0.074565</td>\n",
       "                        <td id=\"T_2cfb4_row30_col30\" class=\"data row30 col30\" >1.000000</td>\n",
       "                        <td id=\"T_2cfb4_row30_col31\" class=\"data row30 col31\" >-0.114796</td>\n",
       "                        <td id=\"T_2cfb4_row30_col32\" class=\"data row30 col32\" >0.003008</td>\n",
       "                        <td id=\"T_2cfb4_row30_col33\" class=\"data row30 col33\" >-0.100544</td>\n",
       "                        <td id=\"T_2cfb4_row30_col34\" class=\"data row30 col34\" >-0.050470</td>\n",
       "                        <td id=\"T_2cfb4_row30_col35\" class=\"data row30 col35\" >-0.016979</td>\n",
       "                        <td id=\"T_2cfb4_row30_col36\" class=\"data row30 col36\" >-0.005527</td>\n",
       "                        <td id=\"T_2cfb4_row30_col37\" class=\"data row30 col37\" >0.005514</td>\n",
       "                        <td id=\"T_2cfb4_row30_col38\" class=\"data row30 col38\" >0.013081</td>\n",
       "                        <td id=\"T_2cfb4_row30_col39\" class=\"data row30 col39\" >0.009659</td>\n",
       "                        <td id=\"T_2cfb4_row30_col40\" class=\"data row30 col40\" >0.023596</td>\n",
       "                        <td id=\"T_2cfb4_row30_col41\" class=\"data row30 col41\" >-0.012068</td>\n",
       "                        <td id=\"T_2cfb4_row30_col42\" class=\"data row30 col42\" >-0.010680</td>\n",
       "                        <td id=\"T_2cfb4_row30_col43\" class=\"data row30 col43\" >-0.001371</td>\n",
       "                        <td id=\"T_2cfb4_row30_col44\" class=\"data row30 col44\" >-0.007076</td>\n",
       "                        <td id=\"T_2cfb4_row30_col45\" class=\"data row30 col45\" >0.011536</td>\n",
       "                        <td id=\"T_2cfb4_row30_col46\" class=\"data row30 col46\" >0.003726</td>\n",
       "                        <td id=\"T_2cfb4_row30_col47\" class=\"data row30 col47\" >-0.005319</td>\n",
       "                        <td id=\"T_2cfb4_row30_col48\" class=\"data row30 col48\" >-0.005381</td>\n",
       "                        <td id=\"T_2cfb4_row30_col49\" class=\"data row30 col49\" >-0.008294</td>\n",
       "                        <td id=\"T_2cfb4_row30_col50\" class=\"data row30 col50\" >-0.005626</td>\n",
       "                        <td id=\"T_2cfb4_row30_col51\" class=\"data row30 col51\" >-0.029087</td>\n",
       "                        <td id=\"T_2cfb4_row30_col52\" class=\"data row30 col52\" >-0.016410</td>\n",
       "                        <td id=\"T_2cfb4_row30_col53\" class=\"data row30 col53\" >-0.004215</td>\n",
       "                        <td id=\"T_2cfb4_row30_col54\" class=\"data row30 col54\" >0.010547</td>\n",
       "                        <td id=\"T_2cfb4_row30_col55\" class=\"data row30 col55\" >0.024267</td>\n",
       "                        <td id=\"T_2cfb4_row30_col56\" class=\"data row30 col56\" >0.026266</td>\n",
       "                        <td id=\"T_2cfb4_row30_col57\" class=\"data row30 col57\" >0.023915</td>\n",
       "                        <td id=\"T_2cfb4_row30_col58\" class=\"data row30 col58\" >0.002783</td>\n",
       "                        <td id=\"T_2cfb4_row30_col59\" class=\"data row30 col59\" >-0.001611</td>\n",
       "                        <td id=\"T_2cfb4_row30_col60\" class=\"data row30 col60\" >-0.006244</td>\n",
       "                        <td id=\"T_2cfb4_row30_col61\" class=\"data row30 col61\" >-0.004249</td>\n",
       "                        <td id=\"T_2cfb4_row30_col62\" class=\"data row30 col62\" >0.005906</td>\n",
       "                        <td id=\"T_2cfb4_row30_col63\" class=\"data row30 col63\" >-0.002942</td>\n",
       "            </tr>\n",
       "            <tr>\n",
       "                        <th id=\"T_2cfb4_level0_row31\" class=\"row_heading level0 row31\" >acc_now_delinq</th>\n",
       "                        <td id=\"T_2cfb4_row31_col0\" class=\"data row31 col0\" >0.019521</td>\n",
       "                        <td id=\"T_2cfb4_row31_col1\" class=\"data row31 col1\" >0.026759</td>\n",
       "                        <td id=\"T_2cfb4_row31_col2\" class=\"data row31 col2\" >0.026981</td>\n",
       "                        <td id=\"T_2cfb4_row31_col3\" class=\"data row31 col3\" >0.006284</td>\n",
       "                        <td id=\"T_2cfb4_row31_col4\" class=\"data row31 col4\" >0.006473</td>\n",
       "                        <td id=\"T_2cfb4_row31_col5\" class=\"data row31 col5\" >0.006801</td>\n",
       "                        <td id=\"T_2cfb4_row31_col6\" class=\"data row31 col6\" >0.030338</td>\n",
       "                        <td id=\"T_2cfb4_row31_col7\" class=\"data row31 col7\" >0.008924</td>\n",
       "                        <td id=\"T_2cfb4_row31_col8\" class=\"data row31 col8\" >0.019424</td>\n",
       "                        <td id=\"T_2cfb4_row31_col9\" class=\"data row31 col9\" >0.009489</td>\n",
       "                        <td id=\"T_2cfb4_row31_col10\" class=\"data row31 col10\" >0.126534</td>\n",
       "                        <td id=\"T_2cfb4_row31_col11\" class=\"data row31 col11\" >-0.006917</td>\n",
       "                        <td id=\"T_2cfb4_row31_col12\" class=\"data row31 col12\" >-0.130732</td>\n",
       "                        <td id=\"T_2cfb4_row31_col13\" class=\"data row31 col13\" >-0.018672</td>\n",
       "                        <td id=\"T_2cfb4_row31_col14\" class=\"data row31 col14\" >0.018194</td>\n",
       "                        <td id=\"T_2cfb4_row31_col15\" class=\"data row31 col15\" >0.002348</td>\n",
       "                        <td id=\"T_2cfb4_row31_col16\" class=\"data row31 col16\" >0.001008</td>\n",
       "                        <td id=\"T_2cfb4_row31_col17\" class=\"data row31 col17\" >-0.022753</td>\n",
       "                        <td id=\"T_2cfb4_row31_col18\" class=\"data row31 col18\" >0.027718</td>\n",
       "                        <td id=\"T_2cfb4_row31_col19\" class=\"data row31 col19\" >0.016475</td>\n",
       "                        <td id=\"T_2cfb4_row31_col20\" class=\"data row31 col20\" >0.016471</td>\n",
       "                        <td id=\"T_2cfb4_row31_col21\" class=\"data row31 col21\" >-0.004291</td>\n",
       "                        <td id=\"T_2cfb4_row31_col22\" class=\"data row31 col22\" >-0.003954</td>\n",
       "                        <td id=\"T_2cfb4_row31_col23\" class=\"data row31 col23\" >-0.008616</td>\n",
       "                        <td id=\"T_2cfb4_row31_col24\" class=\"data row31 col24\" >0.009491</td>\n",
       "                        <td id=\"T_2cfb4_row31_col25\" class=\"data row31 col25\" >0.003456</td>\n",
       "                        <td id=\"T_2cfb4_row31_col26\" class=\"data row31 col26\" >0.002762</td>\n",
       "                        <td id=\"T_2cfb4_row31_col27\" class=\"data row31 col27\" >0.001381</td>\n",
       "                        <td id=\"T_2cfb4_row31_col28\" class=\"data row31 col28\" >-0.000997</td>\n",
       "                        <td id=\"T_2cfb4_row31_col29\" class=\"data row31 col29\" >0.019299</td>\n",
       "                        <td id=\"T_2cfb4_row31_col30\" class=\"data row31 col30\" >-0.114796</td>\n",
       "                        <td id=\"T_2cfb4_row31_col31\" class=\"data row31 col31\" >1.000000</td>\n",
       "                        <td id=\"T_2cfb4_row31_col32\" class=\"data row31 col32\" >-0.000017</td>\n",
       "                        <td id=\"T_2cfb4_row31_col33\" class=\"data row31 col33\" >0.023812</td>\n",
       "                        <td id=\"T_2cfb4_row31_col34\" class=\"data row31 col34\" >0.009256</td>\n",
       "                        <td id=\"T_2cfb4_row31_col35\" class=\"data row31 col35\" >0.015815</td>\n",
       "                        <td id=\"T_2cfb4_row31_col36\" class=\"data row31 col36\" >-0.000579</td>\n",
       "                        <td id=\"T_2cfb4_row31_col37\" class=\"data row31 col37\" >-0.001152</td>\n",
       "                        <td id=\"T_2cfb4_row31_col38\" class=\"data row31 col38\" >0.000230</td>\n",
       "                        <td id=\"T_2cfb4_row31_col39\" class=\"data row31 col39\" >-0.016188</td>\n",
       "                        <td id=\"T_2cfb4_row31_col40\" class=\"data row31 col40\" >-0.019269</td>\n",
       "                        <td id=\"T_2cfb4_row31_col41\" class=\"data row31 col41\" >0.013561</td>\n",
       "                        <td id=\"T_2cfb4_row31_col42\" class=\"data row31 col42\" >0.005495</td>\n",
       "                        <td id=\"T_2cfb4_row31_col43\" class=\"data row31 col43\" >-0.020988</td>\n",
       "                        <td id=\"T_2cfb4_row31_col44\" class=\"data row31 col44\" >-0.010015</td>\n",
       "                        <td id=\"T_2cfb4_row31_col45\" class=\"data row31 col45\" >0.003919</td>\n",
       "                        <td id=\"T_2cfb4_row31_col46\" class=\"data row31 col46\" >0.012823</td>\n",
       "                        <td id=\"T_2cfb4_row31_col47\" class=\"data row31 col47\" >0.012906</td>\n",
       "                        <td id=\"T_2cfb4_row31_col48\" class=\"data row31 col48\" >0.008103</td>\n",
       "                        <td id=\"T_2cfb4_row31_col49\" class=\"data row31 col49\" >0.011779</td>\n",
       "                        <td id=\"T_2cfb4_row31_col50\" class=\"data row31 col50\" >-0.001607</td>\n",
       "                        <td id=\"T_2cfb4_row31_col51\" class=\"data row31 col51\" >0.010135</td>\n",
       "                        <td id=\"T_2cfb4_row31_col52\" class=\"data row31 col52\" >-0.002701</td>\n",
       "                        <td id=\"T_2cfb4_row31_col53\" class=\"data row31 col53\" >-0.004120</td>\n",
       "                        <td id=\"T_2cfb4_row31_col54\" class=\"data row31 col54\" >-0.003833</td>\n",
       "                        <td id=\"T_2cfb4_row31_col55\" class=\"data row31 col55\" >-0.004047</td>\n",
       "                        <td id=\"T_2cfb4_row31_col56\" class=\"data row31 col56\" >-0.003466</td>\n",
       "                        <td id=\"T_2cfb4_row31_col57\" class=\"data row31 col57\" >0.002474</td>\n",
       "                        <td id=\"T_2cfb4_row31_col58\" class=\"data row31 col58\" >0.001078</td>\n",
       "                        <td id=\"T_2cfb4_row31_col59\" class=\"data row31 col59\" >0.000555</td>\n",
       "                        <td id=\"T_2cfb4_row31_col60\" class=\"data row31 col60\" >-0.001758</td>\n",
       "                        <td id=\"T_2cfb4_row31_col61\" class=\"data row31 col61\" >-0.000084</td>\n",
       "                        <td id=\"T_2cfb4_row31_col62\" class=\"data row31 col62\" >-0.016784</td>\n",
       "                        <td id=\"T_2cfb4_row31_col63\" class=\"data row31 col63\" >0.016506</td>\n",
       "            </tr>\n",
       "            <tr>\n",
       "                        <th id=\"T_2cfb4_level0_row32\" class=\"row_heading level0 row32\" >tot_coll_amt</th>\n",
       "                        <td id=\"T_2cfb4_row32_col0\" class=\"data row32 col0\" >0.006304</td>\n",
       "                        <td id=\"T_2cfb4_row32_col1\" class=\"data row32 col1\" >0.004007</td>\n",
       "                        <td id=\"T_2cfb4_row32_col2\" class=\"data row32 col2\" >0.004087</td>\n",
       "                        <td id=\"T_2cfb4_row32_col3\" class=\"data row32 col3\" >-0.002859</td>\n",
       "                        <td id=\"T_2cfb4_row32_col4\" class=\"data row32 col4\" >-0.002859</td>\n",
       "                        <td id=\"T_2cfb4_row32_col5\" class=\"data row32 col5\" >-0.002858</td>\n",
       "                        <td id=\"T_2cfb4_row32_col6\" class=\"data row32 col6\" >0.000863</td>\n",
       "                        <td id=\"T_2cfb4_row32_col7\" class=\"data row32 col7\" >-0.002359</td>\n",
       "                        <td id=\"T_2cfb4_row32_col8\" class=\"data row32 col8\" >0.002176</td>\n",
       "                        <td id=\"T_2cfb4_row32_col9\" class=\"data row32 col9\" >-0.003560</td>\n",
       "                        <td id=\"T_2cfb4_row32_col10\" class=\"data row32 col10\" >0.000072</td>\n",
       "                        <td id=\"T_2cfb4_row32_col11\" class=\"data row32 col11\" >0.001887</td>\n",
       "                        <td id=\"T_2cfb4_row32_col12\" class=\"data row32 col12\" >0.004009</td>\n",
       "                        <td id=\"T_2cfb4_row32_col13\" class=\"data row32 col13\" >-0.075908</td>\n",
       "                        <td id=\"T_2cfb4_row32_col14\" class=\"data row32 col14\" >-0.000467</td>\n",
       "                        <td id=\"T_2cfb4_row32_col15\" class=\"data row32 col15\" >0.003973</td>\n",
       "                        <td id=\"T_2cfb4_row32_col16\" class=\"data row32 col16\" >-0.004115</td>\n",
       "                        <td id=\"T_2cfb4_row32_col17\" class=\"data row32 col17\" >-0.006167</td>\n",
       "                        <td id=\"T_2cfb4_row32_col18\" class=\"data row32 col18\" >0.005045</td>\n",
       "                        <td id=\"T_2cfb4_row32_col19\" class=\"data row32 col19\" >-0.000802</td>\n",
       "                        <td id=\"T_2cfb4_row32_col20\" class=\"data row32 col20\" >-0.000803</td>\n",
       "                        <td id=\"T_2cfb4_row32_col21\" class=\"data row32 col21\" >-0.002523</td>\n",
       "                        <td id=\"T_2cfb4_row32_col22\" class=\"data row32 col22\" >-0.002522</td>\n",
       "                        <td id=\"T_2cfb4_row32_col23\" class=\"data row32 col23\" >-0.002110</td>\n",
       "                        <td id=\"T_2cfb4_row32_col24\" class=\"data row32 col24\" >-0.002195</td>\n",
       "                        <td id=\"T_2cfb4_row32_col25\" class=\"data row32 col25\" >-0.000422</td>\n",
       "                        <td id=\"T_2cfb4_row32_col26\" class=\"data row32 col26\" >-0.000625</td>\n",
       "                        <td id=\"T_2cfb4_row32_col27\" class=\"data row32 col27\" >-0.000309</td>\n",
       "                        <td id=\"T_2cfb4_row32_col28\" class=\"data row32 col28\" >-0.001591</td>\n",
       "                        <td id=\"T_2cfb4_row32_col29\" class=\"data row32 col29\" >0.006721</td>\n",
       "                        <td id=\"T_2cfb4_row32_col30\" class=\"data row32 col30\" >0.003008</td>\n",
       "                        <td id=\"T_2cfb4_row32_col31\" class=\"data row32 col31\" >-0.000017</td>\n",
       "                        <td id=\"T_2cfb4_row32_col32\" class=\"data row32 col32\" >1.000000</td>\n",
       "                        <td id=\"T_2cfb4_row32_col33\" class=\"data row32 col33\" >0.000744</td>\n",
       "                        <td id=\"T_2cfb4_row32_col34\" class=\"data row32 col34\" >-0.003225</td>\n",
       "                        <td id=\"T_2cfb4_row32_col35\" class=\"data row32 col35\" >0.002369</td>\n",
       "                        <td id=\"T_2cfb4_row32_col36\" class=\"data row32 col36\" >-0.000113</td>\n",
       "                        <td id=\"T_2cfb4_row32_col37\" class=\"data row32 col37\" >-0.000140</td>\n",
       "                        <td id=\"T_2cfb4_row32_col38\" class=\"data row32 col38\" >-0.000421</td>\n",
       "                        <td id=\"T_2cfb4_row32_col39\" class=\"data row32 col39\" >-0.002171</td>\n",
       "                        <td id=\"T_2cfb4_row32_col40\" class=\"data row32 col40\" >-0.001535</td>\n",
       "                        <td id=\"T_2cfb4_row32_col41\" class=\"data row32 col41\" >-0.000037</td>\n",
       "                        <td id=\"T_2cfb4_row32_col42\" class=\"data row32 col42\" >0.001499</td>\n",
       "                        <td id=\"T_2cfb4_row32_col43\" class=\"data row32 col43\" >-0.001957</td>\n",
       "                        <td id=\"T_2cfb4_row32_col44\" class=\"data row32 col44\" >-0.000738</td>\n",
       "                        <td id=\"T_2cfb4_row32_col45\" class=\"data row32 col45\" >0.002738</td>\n",
       "                        <td id=\"T_2cfb4_row32_col46\" class=\"data row32 col46\" >-0.000175</td>\n",
       "                        <td id=\"T_2cfb4_row32_col47\" class=\"data row32 col47\" >-0.000199</td>\n",
       "                        <td id=\"T_2cfb4_row32_col48\" class=\"data row32 col48\" >-0.000391</td>\n",
       "                        <td id=\"T_2cfb4_row32_col49\" class=\"data row32 col49\" >-0.000209</td>\n",
       "                        <td id=\"T_2cfb4_row32_col50\" class=\"data row32 col50\" >0.005823</td>\n",
       "                        <td id=\"T_2cfb4_row32_col51\" class=\"data row32 col51\" >-0.000453</td>\n",
       "                        <td id=\"T_2cfb4_row32_col52\" class=\"data row32 col52\" >-0.000287</td>\n",
       "                        <td id=\"T_2cfb4_row32_col53\" class=\"data row32 col53\" >-0.000773</td>\n",
       "                        <td id=\"T_2cfb4_row32_col54\" class=\"data row32 col54\" >-0.000299</td>\n",
       "                        <td id=\"T_2cfb4_row32_col55\" class=\"data row32 col55\" >-0.000840</td>\n",
       "                        <td id=\"T_2cfb4_row32_col56\" class=\"data row32 col56\" >-0.000589</td>\n",
       "                        <td id=\"T_2cfb4_row32_col57\" class=\"data row32 col57\" >-0.000741</td>\n",
       "                        <td id=\"T_2cfb4_row32_col58\" class=\"data row32 col58\" >-0.000510</td>\n",
       "                        <td id=\"T_2cfb4_row32_col59\" class=\"data row32 col59\" >-0.000654</td>\n",
       "                        <td id=\"T_2cfb4_row32_col60\" class=\"data row32 col60\" >-0.001014</td>\n",
       "                        <td id=\"T_2cfb4_row32_col61\" class=\"data row32 col61\" >-0.001178</td>\n",
       "                        <td id=\"T_2cfb4_row32_col62\" class=\"data row32 col62\" >0.001337</td>\n",
       "                        <td id=\"T_2cfb4_row32_col63\" class=\"data row32 col63\" >-0.000543</td>\n",
       "            </tr>\n",
       "            <tr>\n",
       "                        <th id=\"T_2cfb4_level0_row33\" class=\"row_heading level0 row33\" >tot_cur_bal</th>\n",
       "                        <td id=\"T_2cfb4_row33_col0\" class=\"data row33 col0\" >0.003463</td>\n",
       "                        <td id=\"T_2cfb4_row33_col1\" class=\"data row33 col1\" >0.007763</td>\n",
       "                        <td id=\"T_2cfb4_row33_col2\" class=\"data row33 col2\" >0.008022</td>\n",
       "                        <td id=\"T_2cfb4_row33_col3\" class=\"data row33 col3\" >0.333495</td>\n",
       "                        <td id=\"T_2cfb4_row33_col4\" class=\"data row33 col4\" >0.333493</td>\n",
       "                        <td id=\"T_2cfb4_row33_col5\" class=\"data row33 col5\" >0.333487</td>\n",
       "                        <td id=\"T_2cfb4_row33_col6\" class=\"data row33 col6\" >-0.097688</td>\n",
       "                        <td id=\"T_2cfb4_row33_col7\" class=\"data row33 col7\" >0.301244</td>\n",
       "                        <td id=\"T_2cfb4_row33_col8\" class=\"data row33 col8\" >0.539960</td>\n",
       "                        <td id=\"T_2cfb4_row33_col9\" class=\"data row33 col9\" >-0.018193</td>\n",
       "                        <td id=\"T_2cfb4_row33_col10\" class=\"data row33 col10\" >0.072836</td>\n",
       "                        <td id=\"T_2cfb4_row33_col11\" class=\"data row33 col11\" >0.060246</td>\n",
       "                        <td id=\"T_2cfb4_row33_col12\" class=\"data row33 col12\" >-0.101457</td>\n",
       "                        <td id=\"T_2cfb4_row33_col13\" class=\"data row33 col13\" >-0.026249</td>\n",
       "                        <td id=\"T_2cfb4_row33_col14\" class=\"data row33 col14\" >0.244326</td>\n",
       "                        <td id=\"T_2cfb4_row33_col15\" class=\"data row33 col15\" >-0.075375</td>\n",
       "                        <td id=\"T_2cfb4_row33_col16\" class=\"data row33 col16\" >0.423400</td>\n",
       "                        <td id=\"T_2cfb4_row33_col17\" class=\"data row33 col17\" >0.069861</td>\n",
       "                        <td id=\"T_2cfb4_row33_col18\" class=\"data row33 col18\" >0.318460</td>\n",
       "                        <td id=\"T_2cfb4_row33_col19\" class=\"data row33 col19\" >0.170480</td>\n",
       "                        <td id=\"T_2cfb4_row33_col20\" class=\"data row33 col20\" >0.170482</td>\n",
       "                        <td id=\"T_2cfb4_row33_col21\" class=\"data row33 col21\" >0.257356</td>\n",
       "                        <td id=\"T_2cfb4_row33_col22\" class=\"data row33 col22\" >0.257366</td>\n",
       "                        <td id=\"T_2cfb4_row33_col23\" class=\"data row33 col23\" >0.234915</td>\n",
       "                        <td id=\"T_2cfb4_row33_col24\" class=\"data row33 col24\" >0.179326</td>\n",
       "                        <td id=\"T_2cfb4_row33_col25\" class=\"data row33 col25\" >0.012193</td>\n",
       "                        <td id=\"T_2cfb4_row33_col26\" class=\"data row33 col26\" >0.007047</td>\n",
       "                        <td id=\"T_2cfb4_row33_col27\" class=\"data row33 col27\" >0.009142</td>\n",
       "                        <td id=\"T_2cfb4_row33_col28\" class=\"data row33 col28\" >0.132911</td>\n",
       "                        <td id=\"T_2cfb4_row33_col29\" class=\"data row33 col29\" >-0.004459</td>\n",
       "                        <td id=\"T_2cfb4_row33_col30\" class=\"data row33 col30\" >-0.100544</td>\n",
       "                        <td id=\"T_2cfb4_row33_col31\" class=\"data row33 col31\" >0.023812</td>\n",
       "                        <td id=\"T_2cfb4_row33_col32\" class=\"data row33 col32\" >0.000744</td>\n",
       "                        <td id=\"T_2cfb4_row33_col33\" class=\"data row33 col33\" >1.000000</td>\n",
       "                        <td id=\"T_2cfb4_row33_col34\" class=\"data row33 col34\" >0.354529</td>\n",
       "                        <td id=\"T_2cfb4_row33_col35\" class=\"data row33 col35\" >0.513579</td>\n",
       "                        <td id=\"T_2cfb4_row33_col36\" class=\"data row33 col36\" >-0.002110</td>\n",
       "                        <td id=\"T_2cfb4_row33_col37\" class=\"data row33 col37\" >-0.002213</td>\n",
       "                        <td id=\"T_2cfb4_row33_col38\" class=\"data row33 col38\" >-0.081530</td>\n",
       "                        <td id=\"T_2cfb4_row33_col39\" class=\"data row33 col39\" >-0.477563</td>\n",
       "                        <td id=\"T_2cfb4_row33_col40\" class=\"data row33 col40\" >-0.107696</td>\n",
       "                        <td id=\"T_2cfb4_row33_col41\" class=\"data row33 col41\" >-0.006552</td>\n",
       "                        <td id=\"T_2cfb4_row33_col42\" class=\"data row33 col42\" >0.109068</td>\n",
       "                        <td id=\"T_2cfb4_row33_col43\" class=\"data row33 col43\" >0.112837</td>\n",
       "                        <td id=\"T_2cfb4_row33_col44\" class=\"data row33 col44\" >-0.001396</td>\n",
       "                        <td id=\"T_2cfb4_row33_col45\" class=\"data row33 col45\" >-0.034433</td>\n",
       "                        <td id=\"T_2cfb4_row33_col46\" class=\"data row33 col46\" >-0.043942</td>\n",
       "                        <td id=\"T_2cfb4_row33_col47\" class=\"data row33 col47\" >-0.017491</td>\n",
       "                        <td id=\"T_2cfb4_row33_col48\" class=\"data row33 col48\" >-0.015905</td>\n",
       "                        <td id=\"T_2cfb4_row33_col49\" class=\"data row33 col49\" >-0.000116</td>\n",
       "                        <td id=\"T_2cfb4_row33_col50\" class=\"data row33 col50\" >-0.029787</td>\n",
       "                        <td id=\"T_2cfb4_row33_col51\" class=\"data row33 col51\" >0.099867</td>\n",
       "                        <td id=\"T_2cfb4_row33_col52\" class=\"data row33 col52\" >-0.025790</td>\n",
       "                        <td id=\"T_2cfb4_row33_col53\" class=\"data row33 col53\" >-0.020332</td>\n",
       "                        <td id=\"T_2cfb4_row33_col54\" class=\"data row33 col54\" >-0.013810</td>\n",
       "                        <td id=\"T_2cfb4_row33_col55\" class=\"data row33 col55\" >-0.010305</td>\n",
       "                        <td id=\"T_2cfb4_row33_col56\" class=\"data row33 col56\" >-0.003859</td>\n",
       "                        <td id=\"T_2cfb4_row33_col57\" class=\"data row33 col57\" >0.000609</td>\n",
       "                        <td id=\"T_2cfb4_row33_col58\" class=\"data row33 col58\" >0.004376</td>\n",
       "                        <td id=\"T_2cfb4_row33_col59\" class=\"data row33 col59\" >0.007530</td>\n",
       "                        <td id=\"T_2cfb4_row33_col60\" class=\"data row33 col60\" >-0.034122</td>\n",
       "                        <td id=\"T_2cfb4_row33_col61\" class=\"data row33 col61\" >-0.050993</td>\n",
       "                        <td id=\"T_2cfb4_row33_col62\" class=\"data row33 col62\" >0.019315</td>\n",
       "                        <td id=\"T_2cfb4_row33_col63\" class=\"data row33 col63\" >0.013085</td>\n",
       "            </tr>\n",
       "            <tr>\n",
       "                        <th id=\"T_2cfb4_level0_row34\" class=\"row_heading level0 row34\" >total_rev_hi_lim</th>\n",
       "                        <td id=\"T_2cfb4_row34_col0\" class=\"data row34 col0\" >-0.003047</td>\n",
       "                        <td id=\"T_2cfb4_row34_col1\" class=\"data row34 col1\" >0.024054</td>\n",
       "                        <td id=\"T_2cfb4_row34_col2\" class=\"data row34 col2\" >0.023918</td>\n",
       "                        <td id=\"T_2cfb4_row34_col3\" class=\"data row34 col3\" >0.290296</td>\n",
       "                        <td id=\"T_2cfb4_row34_col4\" class=\"data row34 col4\" >0.290294</td>\n",
       "                        <td id=\"T_2cfb4_row34_col5\" class=\"data row34 col5\" >0.290274</td>\n",
       "                        <td id=\"T_2cfb4_row34_col6\" class=\"data row34 col6\" >-0.146979</td>\n",
       "                        <td id=\"T_2cfb4_row34_col7\" class=\"data row34 col7\" >0.270100</td>\n",
       "                        <td id=\"T_2cfb4_row34_col8\" class=\"data row34 col8\" >0.324735</td>\n",
       "                        <td id=\"T_2cfb4_row34_col9\" class=\"data row34 col9\" >0.061154</td>\n",
       "                        <td id=\"T_2cfb4_row34_col10\" class=\"data row34 col10\" >-0.035112</td>\n",
       "                        <td id=\"T_2cfb4_row34_col11\" class=\"data row34 col11\" >0.008314</td>\n",
       "                        <td id=\"T_2cfb4_row34_col12\" class=\"data row34 col12\" >-0.026203</td>\n",
       "                        <td id=\"T_2cfb4_row34_col13\" class=\"data row34 col13\" >-0.021951</td>\n",
       "                        <td id=\"T_2cfb4_row34_col14\" class=\"data row34 col14\" >0.290975</td>\n",
       "                        <td id=\"T_2cfb4_row34_col15\" class=\"data row34 col15\" >-0.095965</td>\n",
       "                        <td id=\"T_2cfb4_row34_col16\" class=\"data row34 col16\" >0.809779</td>\n",
       "                        <td id=\"T_2cfb4_row34_col17\" class=\"data row34 col17\" >-0.125411</td>\n",
       "                        <td id=\"T_2cfb4_row34_col18\" class=\"data row34 col18\" >0.232331</td>\n",
       "                        <td id=\"T_2cfb4_row34_col19\" class=\"data row34 col19\" >0.149621</td>\n",
       "                        <td id=\"T_2cfb4_row34_col20\" class=\"data row34 col20\" >0.149612</td>\n",
       "                        <td id=\"T_2cfb4_row34_col21\" class=\"data row34 col21\" >0.211031</td>\n",
       "                        <td id=\"T_2cfb4_row34_col22\" class=\"data row34 col22\" >0.211031</td>\n",
       "                        <td id=\"T_2cfb4_row34_col23\" class=\"data row34 col23\" >0.201775</td>\n",
       "                        <td id=\"T_2cfb4_row34_col24\" class=\"data row34 col24\" >0.120580</td>\n",
       "                        <td id=\"T_2cfb4_row34_col25\" class=\"data row34 col25\" >-0.003497</td>\n",
       "                        <td id=\"T_2cfb4_row34_col26\" class=\"data row34 col26\" >0.006423</td>\n",
       "                        <td id=\"T_2cfb4_row34_col27\" class=\"data row34 col27\" >0.007092</td>\n",
       "                        <td id=\"T_2cfb4_row34_col28\" class=\"data row34 col28\" >0.087657</td>\n",
       "                        <td id=\"T_2cfb4_row34_col29\" class=\"data row34 col29\" >-0.011622</td>\n",
       "                        <td id=\"T_2cfb4_row34_col30\" class=\"data row34 col30\" >-0.050470</td>\n",
       "                        <td id=\"T_2cfb4_row34_col31\" class=\"data row34 col31\" >0.009256</td>\n",
       "                        <td id=\"T_2cfb4_row34_col32\" class=\"data row34 col32\" >-0.003225</td>\n",
       "                        <td id=\"T_2cfb4_row34_col33\" class=\"data row34 col33\" >0.354529</td>\n",
       "                        <td id=\"T_2cfb4_row34_col34\" class=\"data row34 col34\" >1.000000</td>\n",
       "                        <td id=\"T_2cfb4_row34_col35\" class=\"data row34 col35\" >0.138189</td>\n",
       "                        <td id=\"T_2cfb4_row34_col36\" class=\"data row34 col36\" >-0.000617</td>\n",
       "                        <td id=\"T_2cfb4_row34_col37\" class=\"data row34 col37\" >-0.001800</td>\n",
       "                        <td id=\"T_2cfb4_row34_col38\" class=\"data row34 col38\" >0.014030</td>\n",
       "                        <td id=\"T_2cfb4_row34_col39\" class=\"data row34 col39\" >-0.149725</td>\n",
       "                        <td id=\"T_2cfb4_row34_col40\" class=\"data row34 col40\" >-0.087713</td>\n",
       "                        <td id=\"T_2cfb4_row34_col41\" class=\"data row34 col41\" >0.009152</td>\n",
       "                        <td id=\"T_2cfb4_row34_col42\" class=\"data row34 col42\" >0.074640</td>\n",
       "                        <td id=\"T_2cfb4_row34_col43\" class=\"data row34 col43\" >0.162690</td>\n",
       "                        <td id=\"T_2cfb4_row34_col44\" class=\"data row34 col44\" >0.003384</td>\n",
       "                        <td id=\"T_2cfb4_row34_col45\" class=\"data row34 col45\" >-0.051049</td>\n",
       "                        <td id=\"T_2cfb4_row34_col46\" class=\"data row34 col46\" >-0.058492</td>\n",
       "                        <td id=\"T_2cfb4_row34_col47\" class=\"data row34 col47\" >-0.034958</td>\n",
       "                        <td id=\"T_2cfb4_row34_col48\" class=\"data row34 col48\" >-0.025667</td>\n",
       "                        <td id=\"T_2cfb4_row34_col49\" class=\"data row34 col49\" >-0.007347</td>\n",
       "                        <td id=\"T_2cfb4_row34_col50\" class=\"data row34 col50\" >-0.017364</td>\n",
       "                        <td id=\"T_2cfb4_row34_col51\" class=\"data row34 col51\" >0.077388</td>\n",
       "                        <td id=\"T_2cfb4_row34_col52\" class=\"data row34 col52\" >-0.020282</td>\n",
       "                        <td id=\"T_2cfb4_row34_col53\" class=\"data row34 col53\" >-0.016547</td>\n",
       "                        <td id=\"T_2cfb4_row34_col54\" class=\"data row34 col54\" >-0.014729</td>\n",
       "                        <td id=\"T_2cfb4_row34_col55\" class=\"data row34 col55\" >-0.012303</td>\n",
       "                        <td id=\"T_2cfb4_row34_col56\" class=\"data row34 col56\" >-0.013440</td>\n",
       "                        <td id=\"T_2cfb4_row34_col57\" class=\"data row34 col57\" >-0.009439</td>\n",
       "                        <td id=\"T_2cfb4_row34_col58\" class=\"data row34 col58\" >-0.004269</td>\n",
       "                        <td id=\"T_2cfb4_row34_col59\" class=\"data row34 col59\" >-0.001008</td>\n",
       "                        <td id=\"T_2cfb4_row34_col60\" class=\"data row34 col60\" >-0.019194</td>\n",
       "                        <td id=\"T_2cfb4_row34_col61\" class=\"data row34 col61\" >-0.037744</td>\n",
       "                        <td id=\"T_2cfb4_row34_col62\" class=\"data row34 col62\" >-0.007326</td>\n",
       "                        <td id=\"T_2cfb4_row34_col63\" class=\"data row34 col63\" >0.030207</td>\n",
       "            </tr>\n",
       "            <tr>\n",
       "                        <th id=\"T_2cfb4_level0_row35\" class=\"row_heading level0 row35\" >home_ownership_MORTGAGE</th>\n",
       "                        <td id=\"T_2cfb4_row35_col0\" class=\"data row35 col0\" >0.011361</td>\n",
       "                        <td id=\"T_2cfb4_row35_col1\" class=\"data row35 col1\" >0.004122</td>\n",
       "                        <td id=\"T_2cfb4_row35_col2\" class=\"data row35 col2\" >0.006271</td>\n",
       "                        <td id=\"T_2cfb4_row35_col3\" class=\"data row35 col3\" >0.204241</td>\n",
       "                        <td id=\"T_2cfb4_row35_col4\" class=\"data row35 col4\" >0.203965</td>\n",
       "                        <td id=\"T_2cfb4_row35_col5\" class=\"data row35 col5\" >0.203795</td>\n",
       "                        <td id=\"T_2cfb4_row35_col6\" class=\"data row35 col6\" >-0.062673</td>\n",
       "                        <td id=\"T_2cfb4_row35_col7\" class=\"data row35 col7\" >0.169966</td>\n",
       "                        <td id=\"T_2cfb4_row35_col8\" class=\"data row35 col8\" >0.209215</td>\n",
       "                        <td id=\"T_2cfb4_row35_col9\" class=\"data row35 col9\" >-0.005679</td>\n",
       "                        <td id=\"T_2cfb4_row35_col10\" class=\"data row35 col10\" >0.051683</td>\n",
       "                        <td id=\"T_2cfb4_row35_col11\" class=\"data row35 col11\" >0.055872</td>\n",
       "                        <td id=\"T_2cfb4_row35_col12\" class=\"data row35 col12\" >-0.050755</td>\n",
       "                        <td id=\"T_2cfb4_row35_col13\" class=\"data row35 col13\" >0.051538</td>\n",
       "                        <td id=\"T_2cfb4_row35_col14\" class=\"data row35 col14\" >0.136192</td>\n",
       "                        <td id=\"T_2cfb4_row35_col15\" class=\"data row35 col15\" >-0.003862</td>\n",
       "                        <td id=\"T_2cfb4_row35_col16\" class=\"data row35 col16\" >0.158819</td>\n",
       "                        <td id=\"T_2cfb4_row35_col17\" class=\"data row35 col17\" >0.011627</td>\n",
       "                        <td id=\"T_2cfb4_row35_col18\" class=\"data row35 col18\" >0.229414</td>\n",
       "                        <td id=\"T_2cfb4_row35_col19\" class=\"data row35 col19\" >0.109697</td>\n",
       "                        <td id=\"T_2cfb4_row35_col20\" class=\"data row35 col20\" >0.109689</td>\n",
       "                        <td id=\"T_2cfb4_row35_col21\" class=\"data row35 col21\" >0.156934</td>\n",
       "                        <td id=\"T_2cfb4_row35_col22\" class=\"data row35 col22\" >0.157709</td>\n",
       "                        <td id=\"T_2cfb4_row35_col23\" class=\"data row35 col23\" >0.140255</td>\n",
       "                        <td id=\"T_2cfb4_row35_col24\" class=\"data row35 col24\" >0.124106</td>\n",
       "                        <td id=\"T_2cfb4_row35_col25\" class=\"data row35 col25\" >-0.006644</td>\n",
       "                        <td id=\"T_2cfb4_row35_col26\" class=\"data row35 col26\" >0.004895</td>\n",
       "                        <td id=\"T_2cfb4_row35_col27\" class=\"data row35 col27\" >0.006207</td>\n",
       "                        <td id=\"T_2cfb4_row35_col28\" class=\"data row35 col28\" >0.090114</td>\n",
       "                        <td id=\"T_2cfb4_row35_col29\" class=\"data row35 col29\" >-0.002032</td>\n",
       "                        <td id=\"T_2cfb4_row35_col30\" class=\"data row35 col30\" >-0.016979</td>\n",
       "                        <td id=\"T_2cfb4_row35_col31\" class=\"data row35 col31\" >0.015815</td>\n",
       "                        <td id=\"T_2cfb4_row35_col32\" class=\"data row35 col32\" >0.002369</td>\n",
       "                        <td id=\"T_2cfb4_row35_col33\" class=\"data row35 col33\" >0.513579</td>\n",
       "                        <td id=\"T_2cfb4_row35_col34\" class=\"data row35 col34\" >0.138189</td>\n",
       "                        <td id=\"T_2cfb4_row35_col35\" class=\"data row35 col35\" >1.000000</td>\n",
       "                        <td id=\"T_2cfb4_row35_col36\" class=\"data row35 col36\" >-0.010478</td>\n",
       "                        <td id=\"T_2cfb4_row35_col37\" class=\"data row35 col37\" >-0.019993</td>\n",
       "                        <td id=\"T_2cfb4_row35_col38\" class=\"data row35 col38\" >-0.317101</td>\n",
       "                        <td id=\"T_2cfb4_row35_col39\" class=\"data row35 col39\" >-0.833371</td>\n",
       "                        <td id=\"T_2cfb4_row35_col40\" class=\"data row35 col40\" >-0.064139</td>\n",
       "                        <td id=\"T_2cfb4_row35_col41\" class=\"data row35 col41\" >-0.020116</td>\n",
       "                        <td id=\"T_2cfb4_row35_col42\" class=\"data row35 col42\" >0.081779</td>\n",
       "                        <td id=\"T_2cfb4_row35_col43\" class=\"data row35 col43\" >0.065914</td>\n",
       "                        <td id=\"T_2cfb4_row35_col44\" class=\"data row35 col44\" >0.005670</td>\n",
       "                        <td id=\"T_2cfb4_row35_col45\" class=\"data row35 col45\" >-0.016010</td>\n",
       "                        <td id=\"T_2cfb4_row35_col46\" class=\"data row35 col46\" >-0.035396</td>\n",
       "                        <td id=\"T_2cfb4_row35_col47\" class=\"data row35 col47\" >-0.014965</td>\n",
       "                        <td id=\"T_2cfb4_row35_col48\" class=\"data row35 col48\" >-0.014828</td>\n",
       "                        <td id=\"T_2cfb4_row35_col49\" class=\"data row35 col49\" >-0.001247</td>\n",
       "                        <td id=\"T_2cfb4_row35_col50\" class=\"data row35 col50\" >-0.069721</td>\n",
       "                        <td id=\"T_2cfb4_row35_col51\" class=\"data row35 col51\" >0.164262</td>\n",
       "                        <td id=\"T_2cfb4_row35_col52\" class=\"data row35 col52\" >-0.065556</td>\n",
       "                        <td id=\"T_2cfb4_row35_col53\" class=\"data row35 col53\" >-0.043771</td>\n",
       "                        <td id=\"T_2cfb4_row35_col54\" class=\"data row35 col54\" >-0.029483</td>\n",
       "                        <td id=\"T_2cfb4_row35_col55\" class=\"data row35 col55\" >-0.016632</td>\n",
       "                        <td id=\"T_2cfb4_row35_col56\" class=\"data row35 col56\" >0.000712</td>\n",
       "                        <td id=\"T_2cfb4_row35_col57\" class=\"data row35 col57\" >0.009182</td>\n",
       "                        <td id=\"T_2cfb4_row35_col58\" class=\"data row35 col58\" >0.017913</td>\n",
       "                        <td id=\"T_2cfb4_row35_col59\" class=\"data row35 col59\" >0.018677</td>\n",
       "                        <td id=\"T_2cfb4_row35_col60\" class=\"data row35 col60\" >-0.091853</td>\n",
       "                        <td id=\"T_2cfb4_row35_col61\" class=\"data row35 col61\" >-0.042880</td>\n",
       "                        <td id=\"T_2cfb4_row35_col62\" class=\"data row35 col62\" >-0.002889</td>\n",
       "                        <td id=\"T_2cfb4_row35_col63\" class=\"data row35 col63\" >0.029878</td>\n",
       "            </tr>\n",
       "            <tr>\n",
       "                        <th id=\"T_2cfb4_level0_row36\" class=\"row_heading level0 row36\" >home_ownership_NONE</th>\n",
       "                        <td id=\"T_2cfb4_row36_col0\" class=\"data row36 col0\" >-0.005568</td>\n",
       "                        <td id=\"T_2cfb4_row36_col1\" class=\"data row36 col1\" >-0.010678</td>\n",
       "                        <td id=\"T_2cfb4_row36_col2\" class=\"data row36 col2\" >-0.011018</td>\n",
       "                        <td id=\"T_2cfb4_row36_col3\" class=\"data row36 col3\" >-0.001047</td>\n",
       "                        <td id=\"T_2cfb4_row36_col4\" class=\"data row36 col4\" >-0.001017</td>\n",
       "                        <td id=\"T_2cfb4_row36_col5\" class=\"data row36 col5\" >-0.001822</td>\n",
       "                        <td id=\"T_2cfb4_row36_col6\" class=\"data row36 col6\" >0.001533</td>\n",
       "                        <td id=\"T_2cfb4_row36_col7\" class=\"data row36 col7\" >0.000325</td>\n",
       "                        <td id=\"T_2cfb4_row36_col8\" class=\"data row36 col8\" >-0.001921</td>\n",
       "                        <td id=\"T_2cfb4_row36_col9\" class=\"data row36 col9\" >-0.000012</td>\n",
       "                        <td id=\"T_2cfb4_row36_col10\" class=\"data row36 col10\" >0.001058</td>\n",
       "                        <td id=\"T_2cfb4_row36_col11\" class=\"data row36 col11\" >-0.002377</td>\n",
       "                        <td id=\"T_2cfb4_row36_col12\" class=\"data row36 col12\" >-0.000535</td>\n",
       "                        <td id=\"T_2cfb4_row36_col13\" class=\"data row36 col13\" >-0.013831</td>\n",
       "                        <td id=\"T_2cfb4_row36_col14\" class=\"data row36 col14\" >-0.000502</td>\n",
       "                        <td id=\"T_2cfb4_row36_col15\" class=\"data row36 col15\" >-0.003122</td>\n",
       "                        <td id=\"T_2cfb4_row36_col16\" class=\"data row36 col16\" >-0.000779</td>\n",
       "                        <td id=\"T_2cfb4_row36_col17\" class=\"data row36 col17\" >0.001971</td>\n",
       "                        <td id=\"T_2cfb4_row36_col18\" class=\"data row36 col18\" >-0.001861</td>\n",
       "                        <td id=\"T_2cfb4_row36_col19\" class=\"data row36 col19\" >-0.006016</td>\n",
       "                        <td id=\"T_2cfb4_row36_col20\" class=\"data row36 col20\" >-0.006015</td>\n",
       "                        <td id=\"T_2cfb4_row36_col21\" class=\"data row36 col21\" >0.004486</td>\n",
       "                        <td id=\"T_2cfb4_row36_col22\" class=\"data row36 col22\" >0.003860</td>\n",
       "                        <td id=\"T_2cfb4_row36_col23\" class=\"data row36 col23\" >0.003663</td>\n",
       "                        <td id=\"T_2cfb4_row36_col24\" class=\"data row36 col24\" >0.003779</td>\n",
       "                        <td id=\"T_2cfb4_row36_col25\" class=\"data row36 col25\" >-0.001279</td>\n",
       "                        <td id=\"T_2cfb4_row36_col26\" class=\"data row36 col26\" >0.003527</td>\n",
       "                        <td id=\"T_2cfb4_row36_col27\" class=\"data row36 col27\" >0.003558</td>\n",
       "                        <td id=\"T_2cfb4_row36_col28\" class=\"data row36 col28\" >0.000463</td>\n",
       "                        <td id=\"T_2cfb4_row36_col29\" class=\"data row36 col29\" >-0.000812</td>\n",
       "                        <td id=\"T_2cfb4_row36_col30\" class=\"data row36 col30\" >-0.005527</td>\n",
       "                        <td id=\"T_2cfb4_row36_col31\" class=\"data row36 col31\" >-0.000579</td>\n",
       "                        <td id=\"T_2cfb4_row36_col32\" class=\"data row36 col32\" >-0.000113</td>\n",
       "                        <td id=\"T_2cfb4_row36_col33\" class=\"data row36 col33\" >-0.002110</td>\n",
       "                        <td id=\"T_2cfb4_row36_col34\" class=\"data row36 col34\" >-0.000617</td>\n",
       "                        <td id=\"T_2cfb4_row36_col35\" class=\"data row36 col35\" >-0.010478</td>\n",
       "                        <td id=\"T_2cfb4_row36_col36\" class=\"data row36 col36\" >1.000000</td>\n",
       "                        <td id=\"T_2cfb4_row36_col37\" class=\"data row36 col37\" >-0.000205</td>\n",
       "                        <td id=\"T_2cfb4_row36_col38\" class=\"data row36 col38\" >-0.003246</td>\n",
       "                        <td id=\"T_2cfb4_row36_col39\" class=\"data row36 col39\" >-0.008530</td>\n",
       "                        <td id=\"T_2cfb4_row36_col40\" class=\"data row36 col40\" >0.003160</td>\n",
       "                        <td id=\"T_2cfb4_row36_col41\" class=\"data row36 col41\" >-0.005358</td>\n",
       "                        <td id=\"T_2cfb4_row36_col42\" class=\"data row36 col42\" >0.002148</td>\n",
       "                        <td id=\"T_2cfb4_row36_col43\" class=\"data row36 col43\" >0.001113</td>\n",
       "                        <td id=\"T_2cfb4_row36_col44\" class=\"data row36 col44\" >-0.000311</td>\n",
       "                        <td id=\"T_2cfb4_row36_col45\" class=\"data row36 col45\" >-0.001605</td>\n",
       "                        <td id=\"T_2cfb4_row36_col46\" class=\"data row36 col46\" >0.000421</td>\n",
       "                        <td id=\"T_2cfb4_row36_col47\" class=\"data row36 col47\" >-0.002206</td>\n",
       "                        <td id=\"T_2cfb4_row36_col48\" class=\"data row36 col48\" >0.004468</td>\n",
       "                        <td id=\"T_2cfb4_row36_col49\" class=\"data row36 col49\" >0.001585</td>\n",
       "                        <td id=\"T_2cfb4_row36_col50\" class=\"data row36 col50\" >-0.000999</td>\n",
       "                        <td id=\"T_2cfb4_row36_col51\" class=\"data row36 col51\" >0.000847</td>\n",
       "                        <td id=\"T_2cfb4_row36_col52\" class=\"data row36 col52\" >-0.000318</td>\n",
       "                        <td id=\"T_2cfb4_row36_col53\" class=\"data row36 col53\" >-0.001482</td>\n",
       "                        <td id=\"T_2cfb4_row36_col54\" class=\"data row36 col54\" >-0.001747</td>\n",
       "                        <td id=\"T_2cfb4_row36_col55\" class=\"data row36 col55\" >-0.001084</td>\n",
       "                        <td id=\"T_2cfb4_row36_col56\" class=\"data row36 col56\" >0.001982</td>\n",
       "                        <td id=\"T_2cfb4_row36_col57\" class=\"data row36 col57\" >-0.000726</td>\n",
       "                        <td id=\"T_2cfb4_row36_col58\" class=\"data row36 col58\" >-0.001357</td>\n",
       "                        <td id=\"T_2cfb4_row36_col59\" class=\"data row36 col59\" >0.002245</td>\n",
       "                        <td id=\"T_2cfb4_row36_col60\" class=\"data row36 col60\" >0.003179</td>\n",
       "                        <td id=\"T_2cfb4_row36_col61\" class=\"data row36 col61\" >0.001579</td>\n",
       "                        <td id=\"T_2cfb4_row36_col62\" class=\"data row36 col62\" >0.008444</td>\n",
       "                        <td id=\"T_2cfb4_row36_col63\" class=\"data row36 col63\" >-0.009274</td>\n",
       "            </tr>\n",
       "            <tr>\n",
       "                        <th id=\"T_2cfb4_level0_row37\" class=\"row_heading level0 row37\" >home_ownership_OTHER</th>\n",
       "                        <td id=\"T_2cfb4_row37_col0\" class=\"data row37 col0\" >-0.023134</td>\n",
       "                        <td id=\"T_2cfb4_row37_col1\" class=\"data row37 col1\" >-0.022328</td>\n",
       "                        <td id=\"T_2cfb4_row37_col2\" class=\"data row37 col2\" >-0.023208</td>\n",
       "                        <td id=\"T_2cfb4_row37_col3\" class=\"data row37 col3\" >-0.008363</td>\n",
       "                        <td id=\"T_2cfb4_row37_col4\" class=\"data row37 col4\" >-0.009110</td>\n",
       "                        <td id=\"T_2cfb4_row37_col5\" class=\"data row37 col5\" >-0.013884</td>\n",
       "                        <td id=\"T_2cfb4_row37_col6\" class=\"data row37 col6\" >-0.001665</td>\n",
       "                        <td id=\"T_2cfb4_row37_col7\" class=\"data row37 col7\" >-0.006587</td>\n",
       "                        <td id=\"T_2cfb4_row37_col8\" class=\"data row37 col8\" >-0.002635</td>\n",
       "                        <td id=\"T_2cfb4_row37_col9\" class=\"data row37 col9\" >-0.007217</td>\n",
       "                        <td id=\"T_2cfb4_row37_col10\" class=\"data row37 col10\" >0.000162</td>\n",
       "                        <td id=\"T_2cfb4_row37_col11\" class=\"data row37 col11\" >0.012984</td>\n",
       "                        <td id=\"T_2cfb4_row37_col12\" class=\"data row37 col12\" >0.000007</td>\n",
       "                        <td id=\"T_2cfb4_row37_col13\" class=\"data row37 col13\" >0.009495</td>\n",
       "                        <td id=\"T_2cfb4_row37_col14\" class=\"data row37 col14\" >-0.006575</td>\n",
       "                        <td id=\"T_2cfb4_row37_col15\" class=\"data row37 col15\" >-0.004723</td>\n",
       "                        <td id=\"T_2cfb4_row37_col16\" class=\"data row37 col16\" >-0.002571</td>\n",
       "                        <td id=\"T_2cfb4_row37_col17\" class=\"data row37 col17\" >-0.003068</td>\n",
       "                        <td id=\"T_2cfb4_row37_col18\" class=\"data row37 col18\" >-0.005791</td>\n",
       "                        <td id=\"T_2cfb4_row37_col19\" class=\"data row37 col19\" >-0.013200</td>\n",
       "                        <td id=\"T_2cfb4_row37_col20\" class=\"data row37 col20\" >-0.013199</td>\n",
       "                        <td id=\"T_2cfb4_row37_col21\" class=\"data row37 col21\" >-0.000942</td>\n",
       "                        <td id=\"T_2cfb4_row37_col22\" class=\"data row37 col22\" >-0.006051</td>\n",
       "                        <td id=\"T_2cfb4_row37_col23\" class=\"data row37 col23\" >0.000097</td>\n",
       "                        <td id=\"T_2cfb4_row37_col24\" class=\"data row37 col24\" >-0.003892</td>\n",
       "                        <td id=\"T_2cfb4_row37_col25\" class=\"data row37 col25\" >0.008257</td>\n",
       "                        <td id=\"T_2cfb4_row37_col26\" class=\"data row37 col26\" >0.002095</td>\n",
       "                        <td id=\"T_2cfb4_row37_col27\" class=\"data row37 col27\" >0.002281</td>\n",
       "                        <td id=\"T_2cfb4_row37_col28\" class=\"data row37 col28\" >-0.004489</td>\n",
       "                        <td id=\"T_2cfb4_row37_col29\" class=\"data row37 col29\" >-0.001653</td>\n",
       "                        <td id=\"T_2cfb4_row37_col30\" class=\"data row37 col30\" >0.005514</td>\n",
       "                        <td id=\"T_2cfb4_row37_col31\" class=\"data row37 col31\" >-0.001152</td>\n",
       "                        <td id=\"T_2cfb4_row37_col32\" class=\"data row37 col32\" >-0.000140</td>\n",
       "                        <td id=\"T_2cfb4_row37_col33\" class=\"data row37 col33\" >-0.002213</td>\n",
       "                        <td id=\"T_2cfb4_row37_col34\" class=\"data row37 col34\" >-0.001800</td>\n",
       "                        <td id=\"T_2cfb4_row37_col35\" class=\"data row37 col35\" >-0.019993</td>\n",
       "                        <td id=\"T_2cfb4_row37_col36\" class=\"data row37 col36\" >-0.000205</td>\n",
       "                        <td id=\"T_2cfb4_row37_col37\" class=\"data row37 col37\" >1.000000</td>\n",
       "                        <td id=\"T_2cfb4_row37_col38\" class=\"data row37 col38\" >-0.006193</td>\n",
       "                        <td id=\"T_2cfb4_row37_col39\" class=\"data row37 col39\" >-0.016276</td>\n",
       "                        <td id=\"T_2cfb4_row37_col40\" class=\"data row37 col40\" >0.008426</td>\n",
       "                        <td id=\"T_2cfb4_row37_col41\" class=\"data row37 col41\" >-0.009656</td>\n",
       "                        <td id=\"T_2cfb4_row37_col42\" class=\"data row37 col42\" >0.001222</td>\n",
       "                        <td id=\"T_2cfb4_row37_col43\" class=\"data row37 col43\" >-0.000953</td>\n",
       "                        <td id=\"T_2cfb4_row37_col44\" class=\"data row37 col44\" >-0.000583</td>\n",
       "                        <td id=\"T_2cfb4_row37_col45\" class=\"data row37 col45\" >-0.001201</td>\n",
       "                        <td id=\"T_2cfb4_row37_col46\" class=\"data row37 col46\" >-0.000003</td>\n",
       "                        <td id=\"T_2cfb4_row37_col47\" class=\"data row37 col47\" >0.001242</td>\n",
       "                        <td id=\"T_2cfb4_row37_col48\" class=\"data row37 col48\" >0.001201</td>\n",
       "                        <td id=\"T_2cfb4_row37_col49\" class=\"data row37 col49\" >0.007363</td>\n",
       "                        <td id=\"T_2cfb4_row37_col50\" class=\"data row37 col50\" >0.004646</td>\n",
       "                        <td id=\"T_2cfb4_row37_col51\" class=\"data row37 col51\" >-0.004315</td>\n",
       "                        <td id=\"T_2cfb4_row37_col52\" class=\"data row37 col52\" >0.002234</td>\n",
       "                        <td id=\"T_2cfb4_row37_col53\" class=\"data row37 col53\" >0.001096</td>\n",
       "                        <td id=\"T_2cfb4_row37_col54\" class=\"data row37 col54\" >0.000485</td>\n",
       "                        <td id=\"T_2cfb4_row37_col55\" class=\"data row37 col55\" >-0.000442</td>\n",
       "                        <td id=\"T_2cfb4_row37_col56\" class=\"data row37 col56\" >0.000381</td>\n",
       "                        <td id=\"T_2cfb4_row37_col57\" class=\"data row37 col57\" >-0.002933</td>\n",
       "                        <td id=\"T_2cfb4_row37_col58\" class=\"data row37 col58\" >-0.002407</td>\n",
       "                        <td id=\"T_2cfb4_row37_col59\" class=\"data row37 col59\" >-0.001686</td>\n",
       "                        <td id=\"T_2cfb4_row37_col60\" class=\"data row37 col60\" >0.007234</td>\n",
       "                        <td id=\"T_2cfb4_row37_col61\" class=\"data row37 col61\" >0.006072</td>\n",
       "                        <td id=\"T_2cfb4_row37_col62\" class=\"data row37 col62\" >0.015094</td>\n",
       "                        <td id=\"T_2cfb4_row37_col63\" class=\"data row37 col63\" >-0.018626</td>\n",
       "            </tr>\n",
       "            <tr>\n",
       "                        <th id=\"T_2cfb4_level0_row38\" class=\"row_heading level0 row38\" >home_ownership_OWN</th>\n",
       "                        <td id=\"T_2cfb4_row38_col0\" class=\"data row38 col0\" >0.020226</td>\n",
       "                        <td id=\"T_2cfb4_row38_col1\" class=\"data row38 col1\" >0.031768</td>\n",
       "                        <td id=\"T_2cfb4_row38_col2\" class=\"data row38 col2\" >0.031647</td>\n",
       "                        <td id=\"T_2cfb4_row38_col3\" class=\"data row38 col3\" >-0.030888</td>\n",
       "                        <td id=\"T_2cfb4_row38_col4\" class=\"data row38 col4\" >-0.030623</td>\n",
       "                        <td id=\"T_2cfb4_row38_col5\" class=\"data row38 col5\" >-0.029791</td>\n",
       "                        <td id=\"T_2cfb4_row38_col6\" class=\"data row38 col6\" >0.007642</td>\n",
       "                        <td id=\"T_2cfb4_row38_col7\" class=\"data row38 col7\" >-0.025977</td>\n",
       "                        <td id=\"T_2cfb4_row38_col8\" class=\"data row38 col8\" >-0.047610</td>\n",
       "                        <td id=\"T_2cfb4_row38_col9\" class=\"data row38 col9\" >0.027341</td>\n",
       "                        <td id=\"T_2cfb4_row38_col10\" class=\"data row38 col10\" >-0.002194</td>\n",
       "                        <td id=\"T_2cfb4_row38_col11\" class=\"data row38 col11\" >-0.004344</td>\n",
       "                        <td id=\"T_2cfb4_row38_col12\" class=\"data row38 col12\" >0.004744</td>\n",
       "                        <td id=\"T_2cfb4_row38_col13\" class=\"data row38 col13\" >-0.008410</td>\n",
       "                        <td id=\"T_2cfb4_row38_col14\" class=\"data row38 col14\" >-0.012893</td>\n",
       "                        <td id=\"T_2cfb4_row38_col15\" class=\"data row38 col15\" >0.005987</td>\n",
       "                        <td id=\"T_2cfb4_row38_col16\" class=\"data row38 col16\" >-0.003130</td>\n",
       "                        <td id=\"T_2cfb4_row38_col17\" class=\"data row38 col17\" >-0.042647</td>\n",
       "                        <td id=\"T_2cfb4_row38_col18\" class=\"data row38 col18\" >-0.019837</td>\n",
       "                        <td id=\"T_2cfb4_row38_col19\" class=\"data row38 col19\" >-0.000217</td>\n",
       "                        <td id=\"T_2cfb4_row38_col20\" class=\"data row38 col20\" >-0.000214</td>\n",
       "                        <td id=\"T_2cfb4_row38_col21\" class=\"data row38 col21\" >-0.036305</td>\n",
       "                        <td id=\"T_2cfb4_row38_col22\" class=\"data row38 col22\" >-0.035568</td>\n",
       "                        <td id=\"T_2cfb4_row38_col23\" class=\"data row38 col23\" >-0.032495</td>\n",
       "                        <td id=\"T_2cfb4_row38_col24\" class=\"data row38 col24\" >-0.028244</td>\n",
       "                        <td id=\"T_2cfb4_row38_col25\" class=\"data row38 col25\" >0.002230</td>\n",
       "                        <td id=\"T_2cfb4_row38_col26\" class=\"data row38 col26\" >-0.002614</td>\n",
       "                        <td id=\"T_2cfb4_row38_col27\" class=\"data row38 col27\" >-0.001476</td>\n",
       "                        <td id=\"T_2cfb4_row38_col28\" class=\"data row38 col28\" >-0.015453</td>\n",
       "                        <td id=\"T_2cfb4_row38_col29\" class=\"data row38 col29\" >0.000915</td>\n",
       "                        <td id=\"T_2cfb4_row38_col30\" class=\"data row38 col30\" >0.013081</td>\n",
       "                        <td id=\"T_2cfb4_row38_col31\" class=\"data row38 col31\" >0.000230</td>\n",
       "                        <td id=\"T_2cfb4_row38_col32\" class=\"data row38 col32\" >-0.000421</td>\n",
       "                        <td id=\"T_2cfb4_row38_col33\" class=\"data row38 col33\" >-0.081530</td>\n",
       "                        <td id=\"T_2cfb4_row38_col34\" class=\"data row38 col34\" >0.014030</td>\n",
       "                        <td id=\"T_2cfb4_row38_col35\" class=\"data row38 col35\" >-0.317101</td>\n",
       "                        <td id=\"T_2cfb4_row38_col36\" class=\"data row38 col36\" >-0.003246</td>\n",
       "                        <td id=\"T_2cfb4_row38_col37\" class=\"data row38 col37\" >-0.006193</td>\n",
       "                        <td id=\"T_2cfb4_row38_col38\" class=\"data row38 col38\" >1.000000</td>\n",
       "                        <td id=\"T_2cfb4_row38_col39\" class=\"data row38 col39\" >-0.258146</td>\n",
       "                        <td id=\"T_2cfb4_row38_col40\" class=\"data row38 col40\" >-0.005476</td>\n",
       "                        <td id=\"T_2cfb4_row38_col41\" class=\"data row38 col41\" >0.015427</td>\n",
       "                        <td id=\"T_2cfb4_row38_col42\" class=\"data row38 col42\" >-0.009699</td>\n",
       "                        <td id=\"T_2cfb4_row38_col43\" class=\"data row38 col43\" >-0.005608</td>\n",
       "                        <td id=\"T_2cfb4_row38_col44\" class=\"data row38 col44\" >-0.001729</td>\n",
       "                        <td id=\"T_2cfb4_row38_col45\" class=\"data row38 col45\" >0.000085</td>\n",
       "                        <td id=\"T_2cfb4_row38_col46\" class=\"data row38 col46\" >0.003809</td>\n",
       "                        <td id=\"T_2cfb4_row38_col47\" class=\"data row38 col47\" >0.003106</td>\n",
       "                        <td id=\"T_2cfb4_row38_col48\" class=\"data row38 col48\" >0.001937</td>\n",
       "                        <td id=\"T_2cfb4_row38_col49\" class=\"data row38 col49\" >0.002938</td>\n",
       "                        <td id=\"T_2cfb4_row38_col50\" class=\"data row38 col50\" >-0.007777</td>\n",
       "                        <td id=\"T_2cfb4_row38_col51\" class=\"data row38 col51\" >0.009605</td>\n",
       "                        <td id=\"T_2cfb4_row38_col52\" class=\"data row38 col52\" >-0.010635</td>\n",
       "                        <td id=\"T_2cfb4_row38_col53\" class=\"data row38 col53\" >-0.008388</td>\n",
       "                        <td id=\"T_2cfb4_row38_col54\" class=\"data row38 col54\" >-0.007411</td>\n",
       "                        <td id=\"T_2cfb4_row38_col55\" class=\"data row38 col55\" >-0.003007</td>\n",
       "                        <td id=\"T_2cfb4_row38_col56\" class=\"data row38 col56\" >-0.006258</td>\n",
       "                        <td id=\"T_2cfb4_row38_col57\" class=\"data row38 col57\" >-0.005241</td>\n",
       "                        <td id=\"T_2cfb4_row38_col58\" class=\"data row38 col58\" >-0.006148</td>\n",
       "                        <td id=\"T_2cfb4_row38_col59\" class=\"data row38 col59\" >-0.004574</td>\n",
       "                        <td id=\"T_2cfb4_row38_col60\" class=\"data row38 col60\" >-0.013232</td>\n",
       "                        <td id=\"T_2cfb4_row38_col61\" class=\"data row38 col61\" >-0.000585</td>\n",
       "                        <td id=\"T_2cfb4_row38_col62\" class=\"data row38 col62\" >-0.018719</td>\n",
       "                        <td id=\"T_2cfb4_row38_col63\" class=\"data row38 col63\" >0.018719</td>\n",
       "            </tr>\n",
       "            <tr>\n",
       "                        <th id=\"T_2cfb4_level0_row39\" class=\"row_heading level0 row39\" >home_ownership_RENT</th>\n",
       "                        <td id=\"T_2cfb4_row39_col0\" class=\"data row39 col0\" >-0.022291</td>\n",
       "                        <td id=\"T_2cfb4_row39_col1\" class=\"data row39 col1\" >-0.021554</td>\n",
       "                        <td id=\"T_2cfb4_row39_col2\" class=\"data row39 col2\" >-0.023631</td>\n",
       "                        <td id=\"T_2cfb4_row39_col3\" class=\"data row39 col3\" >-0.189756</td>\n",
       "                        <td id=\"T_2cfb4_row39_col4\" class=\"data row39 col4\" >-0.189600</td>\n",
       "                        <td id=\"T_2cfb4_row39_col5\" class=\"data row39 col5\" >-0.189701</td>\n",
       "                        <td id=\"T_2cfb4_row39_col6\" class=\"data row39 col6\" >0.059444</td>\n",
       "                        <td id=\"T_2cfb4_row39_col7\" class=\"data row39 col7\" >-0.157793</td>\n",
       "                        <td id=\"T_2cfb4_row39_col8\" class=\"data row39 col8\" >-0.185313</td>\n",
       "                        <td id=\"T_2cfb4_row39_col9\" class=\"data row39 col9\" >-0.009829</td>\n",
       "                        <td id=\"T_2cfb4_row39_col10\" class=\"data row39 col10\" >-0.051405</td>\n",
       "                        <td id=\"T_2cfb4_row39_col11\" class=\"data row39 col11\" >-0.054868</td>\n",
       "                        <td id=\"T_2cfb4_row39_col12\" class=\"data row39 col12\" >0.049527</td>\n",
       "                        <td id=\"T_2cfb4_row39_col13\" class=\"data row39 col13\" >-0.047575</td>\n",
       "                        <td id=\"T_2cfb4_row39_col14\" class=\"data row39 col14\" >-0.130978</td>\n",
       "                        <td id=\"T_2cfb4_row39_col15\" class=\"data row39 col15\" >0.000708</td>\n",
       "                        <td id=\"T_2cfb4_row39_col16\" class=\"data row39 col16\" >-0.159863</td>\n",
       "                        <td id=\"T_2cfb4_row39_col17\" class=\"data row39 col17\" >0.013038</td>\n",
       "                        <td id=\"T_2cfb4_row39_col18\" class=\"data row39 col18\" >-0.221917</td>\n",
       "                        <td id=\"T_2cfb4_row39_col19\" class=\"data row39 col19\" >-0.110972</td>\n",
       "                        <td id=\"T_2cfb4_row39_col20\" class=\"data row39 col20\" >-0.110966</td>\n",
       "                        <td id=\"T_2cfb4_row39_col21\" class=\"data row39 col21\" >-0.138826</td>\n",
       "                        <td id=\"T_2cfb4_row39_col22\" class=\"data row39 col22\" >-0.139825</td>\n",
       "                        <td id=\"T_2cfb4_row39_col23\" class=\"data row39 col23\" >-0.124074</td>\n",
       "                        <td id=\"T_2cfb4_row39_col24\" class=\"data row39 col24\" >-0.109934</td>\n",
       "                        <td id=\"T_2cfb4_row39_col25\" class=\"data row39 col25\" >0.005167</td>\n",
       "                        <td id=\"T_2cfb4_row39_col26\" class=\"data row39 col26\" >-0.003625</td>\n",
       "                        <td id=\"T_2cfb4_row39_col27\" class=\"data row39 col27\" >-0.005632</td>\n",
       "                        <td id=\"T_2cfb4_row39_col28\" class=\"data row39 col28\" >-0.082653</td>\n",
       "                        <td id=\"T_2cfb4_row39_col29\" class=\"data row39 col29\" >0.001621</td>\n",
       "                        <td id=\"T_2cfb4_row39_col30\" class=\"data row39 col30\" >0.009659</td>\n",
       "                        <td id=\"T_2cfb4_row39_col31\" class=\"data row39 col31\" >-0.016188</td>\n",
       "                        <td id=\"T_2cfb4_row39_col32\" class=\"data row39 col32\" >-0.002171</td>\n",
       "                        <td id=\"T_2cfb4_row39_col33\" class=\"data row39 col33\" >-0.477563</td>\n",
       "                        <td id=\"T_2cfb4_row39_col34\" class=\"data row39 col34\" >-0.149725</td>\n",
       "                        <td id=\"T_2cfb4_row39_col35\" class=\"data row39 col35\" >-0.833371</td>\n",
       "                        <td id=\"T_2cfb4_row39_col36\" class=\"data row39 col36\" >-0.008530</td>\n",
       "                        <td id=\"T_2cfb4_row39_col37\" class=\"data row39 col37\" >-0.016276</td>\n",
       "                        <td id=\"T_2cfb4_row39_col38\" class=\"data row39 col38\" >-0.258146</td>\n",
       "                        <td id=\"T_2cfb4_row39_col39\" class=\"data row39 col39\" >1.000000</td>\n",
       "                        <td id=\"T_2cfb4_row39_col40\" class=\"data row39 col40\" >0.068126</td>\n",
       "                        <td id=\"T_2cfb4_row39_col41\" class=\"data row39 col41\" >0.012018</td>\n",
       "                        <td id=\"T_2cfb4_row39_col42\" class=\"data row39 col42\" >-0.077768</td>\n",
       "                        <td id=\"T_2cfb4_row39_col43\" class=\"data row39 col43\" >-0.063876</td>\n",
       "                        <td id=\"T_2cfb4_row39_col44\" class=\"data row39 col44\" >-0.004747</td>\n",
       "                        <td id=\"T_2cfb4_row39_col45\" class=\"data row39 col45\" >0.016346</td>\n",
       "                        <td id=\"T_2cfb4_row39_col46\" class=\"data row39 col46\" >0.033840</td>\n",
       "                        <td id=\"T_2cfb4_row39_col47\" class=\"data row39 col47\" >0.013438</td>\n",
       "                        <td id=\"T_2cfb4_row39_col48\" class=\"data row39 col48\" >0.013839</td>\n",
       "                        <td id=\"T_2cfb4_row39_col49\" class=\"data row39 col49\" >-0.000768</td>\n",
       "                        <td id=\"T_2cfb4_row39_col50\" class=\"data row39 col50\" >0.075389</td>\n",
       "                        <td id=\"T_2cfb4_row39_col51\" class=\"data row39 col51\" >-0.172778</td>\n",
       "                        <td id=\"T_2cfb4_row39_col52\" class=\"data row39 col52\" >0.072892</td>\n",
       "                        <td id=\"T_2cfb4_row39_col53\" class=\"data row39 col53\" >0.049461</td>\n",
       "                        <td id=\"T_2cfb4_row39_col54\" class=\"data row39 col54\" >0.034366</td>\n",
       "                        <td id=\"T_2cfb4_row39_col55\" class=\"data row39 col55\" >0.018718</td>\n",
       "                        <td id=\"T_2cfb4_row39_col56\" class=\"data row39 col56\" >0.002858</td>\n",
       "                        <td id=\"T_2cfb4_row39_col57\" class=\"data row39 col57\" >-0.006172</td>\n",
       "                        <td id=\"T_2cfb4_row39_col58\" class=\"data row39 col58\" >-0.014548</td>\n",
       "                        <td id=\"T_2cfb4_row39_col59\" class=\"data row39 col59\" >-0.016347</td>\n",
       "                        <td id=\"T_2cfb4_row39_col60\" class=\"data row39 col60\" >0.100918</td>\n",
       "                        <td id=\"T_2cfb4_row39_col61\" class=\"data row39 col61\" >0.043750</td>\n",
       "                        <td id=\"T_2cfb4_row39_col62\" class=\"data row39 col62\" >0.013038</td>\n",
       "                        <td id=\"T_2cfb4_row39_col63\" class=\"data row39 col63\" >-0.040375</td>\n",
       "            </tr>\n",
       "            <tr>\n",
       "                        <th id=\"T_2cfb4_level0_row40\" class=\"row_heading level0 row40\" >verification_status_Not Verified</th>\n",
       "                        <td id=\"T_2cfb4_row40_col0\" class=\"data row40 col0\" >-0.044460</td>\n",
       "                        <td id=\"T_2cfb4_row40_col1\" class=\"data row40 col1\" >-0.035918</td>\n",
       "                        <td id=\"T_2cfb4_row40_col2\" class=\"data row40 col2\" >-0.037715</td>\n",
       "                        <td id=\"T_2cfb4_row40_col3\" class=\"data row40 col3\" >-0.356051</td>\n",
       "                        <td id=\"T_2cfb4_row40_col4\" class=\"data row40 col4\" >-0.355861</td>\n",
       "                        <td id=\"T_2cfb4_row40_col5\" class=\"data row40 col5\" >-0.359413</td>\n",
       "                        <td id=\"T_2cfb4_row40_col6\" class=\"data row40 col6\" >-0.220354</td>\n",
       "                        <td id=\"T_2cfb4_row40_col7\" class=\"data row40 col7\" >-0.315482</td>\n",
       "                        <td id=\"T_2cfb4_row40_col8\" class=\"data row40 col8\" >-0.132386</td>\n",
       "                        <td id=\"T_2cfb4_row40_col9\" class=\"data row40 col9\" >-0.107204</td>\n",
       "                        <td id=\"T_2cfb4_row40_col10\" class=\"data row40 col10\" >-0.007191</td>\n",
       "                        <td id=\"T_2cfb4_row40_col11\" class=\"data row40 col11\" >-0.039772</td>\n",
       "                        <td id=\"T_2cfb4_row40_col12\" class=\"data row40 col12\" >-0.006586</td>\n",
       "                        <td id=\"T_2cfb4_row40_col13\" class=\"data row40 col13\" >0.069446</td>\n",
       "                        <td id=\"T_2cfb4_row40_col14\" class=\"data row40 col14\" >-0.069021</td>\n",
       "                        <td id=\"T_2cfb4_row40_col15\" class=\"data row40 col15\" >-0.061966</td>\n",
       "                        <td id=\"T_2cfb4_row40_col16\" class=\"data row40 col16\" >-0.113930</td>\n",
       "                        <td id=\"T_2cfb4_row40_col17\" class=\"data row40 col17\" >-0.069148</td>\n",
       "                        <td id=\"T_2cfb4_row40_col18\" class=\"data row40 col18\" >-0.095366</td>\n",
       "                        <td id=\"T_2cfb4_row40_col19\" class=\"data row40 col19\" >-0.213582</td>\n",
       "                        <td id=\"T_2cfb4_row40_col20\" class=\"data row40 col20\" >-0.213553</td>\n",
       "                        <td id=\"T_2cfb4_row40_col21\" class=\"data row40 col21\" >-0.249251</td>\n",
       "                        <td id=\"T_2cfb4_row40_col22\" class=\"data row40 col22\" >-0.254098</td>\n",
       "                        <td id=\"T_2cfb4_row40_col23\" class=\"data row40 col23\" >-0.179982</td>\n",
       "                        <td id=\"T_2cfb4_row40_col24\" class=\"data row40 col24\" >-0.308130</td>\n",
       "                        <td id=\"T_2cfb4_row40_col25\" class=\"data row40 col25\" >-0.014165</td>\n",
       "                        <td id=\"T_2cfb4_row40_col26\" class=\"data row40 col26\" >-0.052905</td>\n",
       "                        <td id=\"T_2cfb4_row40_col27\" class=\"data row40 col27\" >-0.033501</td>\n",
       "                        <td id=\"T_2cfb4_row40_col28\" class=\"data row40 col28\" >-0.109407</td>\n",
       "                        <td id=\"T_2cfb4_row40_col29\" class=\"data row40 col29\" >-0.026399</td>\n",
       "                        <td id=\"T_2cfb4_row40_col30\" class=\"data row40 col30\" >0.023596</td>\n",
       "                        <td id=\"T_2cfb4_row40_col31\" class=\"data row40 col31\" >-0.019269</td>\n",
       "                        <td id=\"T_2cfb4_row40_col32\" class=\"data row40 col32\" >-0.001535</td>\n",
       "                        <td id=\"T_2cfb4_row40_col33\" class=\"data row40 col33\" >-0.107696</td>\n",
       "                        <td id=\"T_2cfb4_row40_col34\" class=\"data row40 col34\" >-0.087713</td>\n",
       "                        <td id=\"T_2cfb4_row40_col35\" class=\"data row40 col35\" >-0.064139</td>\n",
       "                        <td id=\"T_2cfb4_row40_col36\" class=\"data row40 col36\" >0.003160</td>\n",
       "                        <td id=\"T_2cfb4_row40_col37\" class=\"data row40 col37\" >0.008426</td>\n",
       "                        <td id=\"T_2cfb4_row40_col38\" class=\"data row40 col38\" >-0.005476</td>\n",
       "                        <td id=\"T_2cfb4_row40_col39\" class=\"data row40 col39\" >0.068126</td>\n",
       "                        <td id=\"T_2cfb4_row40_col40\" class=\"data row40 col40\" >1.000000</td>\n",
       "                        <td id=\"T_2cfb4_row40_col41\" class=\"data row40 col41\" >-0.470136</td>\n",
       "                        <td id=\"T_2cfb4_row40_col42\" class=\"data row40 col42\" >-0.512490</td>\n",
       "                        <td id=\"T_2cfb4_row40_col43\" class=\"data row40 col43\" >0.118316</td>\n",
       "                        <td id=\"T_2cfb4_row40_col44\" class=\"data row40 col44\" >0.101649</td>\n",
       "                        <td id=\"T_2cfb4_row40_col45\" class=\"data row40 col45\" >-0.041812</td>\n",
       "                        <td id=\"T_2cfb4_row40_col46\" class=\"data row40 col46\" >-0.071745</td>\n",
       "                        <td id=\"T_2cfb4_row40_col47\" class=\"data row40 col47\" >-0.105777</td>\n",
       "                        <td id=\"T_2cfb4_row40_col48\" class=\"data row40 col48\" >-0.077633</td>\n",
       "                        <td id=\"T_2cfb4_row40_col49\" class=\"data row40 col49\" >-0.042061</td>\n",
       "                        <td id=\"T_2cfb4_row40_col50\" class=\"data row40 col50\" >0.038949</td>\n",
       "                        <td id=\"T_2cfb4_row40_col51\" class=\"data row40 col51\" >-0.046018</td>\n",
       "                        <td id=\"T_2cfb4_row40_col52\" class=\"data row40 col52\" >0.038417</td>\n",
       "                        <td id=\"T_2cfb4_row40_col53\" class=\"data row40 col53\" >0.029038</td>\n",
       "                        <td id=\"T_2cfb4_row40_col54\" class=\"data row40 col54\" >0.025522</td>\n",
       "                        <td id=\"T_2cfb4_row40_col55\" class=\"data row40 col55\" >0.018528</td>\n",
       "                        <td id=\"T_2cfb4_row40_col56\" class=\"data row40 col56\" >0.012291</td>\n",
       "                        <td id=\"T_2cfb4_row40_col57\" class=\"data row40 col57\" >0.004262</td>\n",
       "                        <td id=\"T_2cfb4_row40_col58\" class=\"data row40 col58\" >0.003244</td>\n",
       "                        <td id=\"T_2cfb4_row40_col59\" class=\"data row40 col59\" >0.001514</td>\n",
       "                        <td id=\"T_2cfb4_row40_col60\" class=\"data row40 col60\" >0.015543</td>\n",
       "                        <td id=\"T_2cfb4_row40_col61\" class=\"data row40 col61\" >-0.034851</td>\n",
       "                        <td id=\"T_2cfb4_row40_col62\" class=\"data row40 col62\" >0.088837</td>\n",
       "                        <td id=\"T_2cfb4_row40_col63\" class=\"data row40 col63\" >-0.065104</td>\n",
       "            </tr>\n",
       "            <tr>\n",
       "                        <th id=\"T_2cfb4_level0_row41\" class=\"row_heading level0 row41\" >verification_status_Source Verified</th>\n",
       "                        <td id=\"T_2cfb4_row41_col0\" class=\"data row41 col0\" >0.156708</td>\n",
       "                        <td id=\"T_2cfb4_row41_col1\" class=\"data row41 col1\" >0.172532</td>\n",
       "                        <td id=\"T_2cfb4_row41_col2\" class=\"data row41 col2\" >0.173559</td>\n",
       "                        <td id=\"T_2cfb4_row41_col3\" class=\"data row41 col3\" >0.067724</td>\n",
       "                        <td id=\"T_2cfb4_row41_col4\" class=\"data row41 col4\" >0.068616</td>\n",
       "                        <td id=\"T_2cfb4_row41_col5\" class=\"data row41 col5\" >0.072287</td>\n",
       "                        <td id=\"T_2cfb4_row41_col6\" class=\"data row41 col6\" >0.024152</td>\n",
       "                        <td id=\"T_2cfb4_row41_col7\" class=\"data row41 col7\" >0.042242</td>\n",
       "                        <td id=\"T_2cfb4_row41_col8\" class=\"data row41 col8\" >0.049549</td>\n",
       "                        <td id=\"T_2cfb4_row41_col9\" class=\"data row41 col9\" >0.010240</td>\n",
       "                        <td id=\"T_2cfb4_row41_col10\" class=\"data row41 col10\" >0.019768</td>\n",
       "                        <td id=\"T_2cfb4_row41_col11\" class=\"data row41 col11\" >-0.011015</td>\n",
       "                        <td id=\"T_2cfb4_row41_col12\" class=\"data row41 col12\" >-0.007138</td>\n",
       "                        <td id=\"T_2cfb4_row41_col13\" class=\"data row41 col13\" >-0.063461</td>\n",
       "                        <td id=\"T_2cfb4_row41_col14\" class=\"data row41 col14\" >0.011573</td>\n",
       "                        <td id=\"T_2cfb4_row41_col15\" class=\"data row41 col15\" >0.047635</td>\n",
       "                        <td id=\"T_2cfb4_row41_col16\" class=\"data row41 col16\" >0.008410</td>\n",
       "                        <td id=\"T_2cfb4_row41_col17\" class=\"data row41 col17\" >0.016472</td>\n",
       "                        <td id=\"T_2cfb4_row41_col18\" class=\"data row41 col18\" >0.008583</td>\n",
       "                        <td id=\"T_2cfb4_row41_col19\" class=\"data row41 col19\" >0.143738</td>\n",
       "                        <td id=\"T_2cfb4_row41_col20\" class=\"data row41 col20\" >0.143757</td>\n",
       "                        <td id=\"T_2cfb4_row41_col21\" class=\"data row41 col21\" >-0.039428</td>\n",
       "                        <td id=\"T_2cfb4_row41_col22\" class=\"data row41 col22\" >-0.035517</td>\n",
       "                        <td id=\"T_2cfb4_row41_col23\" class=\"data row41 col23\" >-0.047131</td>\n",
       "                        <td id=\"T_2cfb4_row41_col24\" class=\"data row41 col24\" >0.004580</td>\n",
       "                        <td id=\"T_2cfb4_row41_col25\" class=\"data row41 col25\" >-0.004736</td>\n",
       "                        <td id=\"T_2cfb4_row41_col26\" class=\"data row41 col26\" >-0.010579</td>\n",
       "                        <td id=\"T_2cfb4_row41_col27\" class=\"data row41 col27\" >-0.005296</td>\n",
       "                        <td id=\"T_2cfb4_row41_col28\" class=\"data row41 col28\" >-0.007227</td>\n",
       "                        <td id=\"T_2cfb4_row41_col29\" class=\"data row41 col29\" >0.028923</td>\n",
       "                        <td id=\"T_2cfb4_row41_col30\" class=\"data row41 col30\" >-0.012068</td>\n",
       "                        <td id=\"T_2cfb4_row41_col31\" class=\"data row41 col31\" >0.013561</td>\n",
       "                        <td id=\"T_2cfb4_row41_col32\" class=\"data row41 col32\" >-0.000037</td>\n",
       "                        <td id=\"T_2cfb4_row41_col33\" class=\"data row41 col33\" >-0.006552</td>\n",
       "                        <td id=\"T_2cfb4_row41_col34\" class=\"data row41 col34\" >0.009152</td>\n",
       "                        <td id=\"T_2cfb4_row41_col35\" class=\"data row41 col35\" >-0.020116</td>\n",
       "                        <td id=\"T_2cfb4_row41_col36\" class=\"data row41 col36\" >-0.005358</td>\n",
       "                        <td id=\"T_2cfb4_row41_col37\" class=\"data row41 col37\" >-0.009656</td>\n",
       "                        <td id=\"T_2cfb4_row41_col38\" class=\"data row41 col38\" >0.015427</td>\n",
       "                        <td id=\"T_2cfb4_row41_col39\" class=\"data row41 col39\" >0.012018</td>\n",
       "                        <td id=\"T_2cfb4_row41_col40\" class=\"data row41 col40\" >-0.470136</td>\n",
       "                        <td id=\"T_2cfb4_row41_col41\" class=\"data row41 col41\" >1.000000</td>\n",
       "                        <td id=\"T_2cfb4_row41_col42\" class=\"data row41 col42\" >-0.516938</td>\n",
       "                        <td id=\"T_2cfb4_row41_col43\" class=\"data row41 col43\" >-0.018097</td>\n",
       "                        <td id=\"T_2cfb4_row41_col44\" class=\"data row41 col44\" >-0.036551</td>\n",
       "                        <td id=\"T_2cfb4_row41_col45\" class=\"data row41 col45\" >0.015293</td>\n",
       "                        <td id=\"T_2cfb4_row41_col46\" class=\"data row41 col46\" >0.029485</td>\n",
       "                        <td id=\"T_2cfb4_row41_col47\" class=\"data row41 col47\" >0.023487</td>\n",
       "                        <td id=\"T_2cfb4_row41_col48\" class=\"data row41 col48\" >-0.002224</td>\n",
       "                        <td id=\"T_2cfb4_row41_col49\" class=\"data row41 col49\" >-0.003690</td>\n",
       "                        <td id=\"T_2cfb4_row41_col50\" class=\"data row41 col50\" >0.005052</td>\n",
       "                        <td id=\"T_2cfb4_row41_col51\" class=\"data row41 col51\" >0.011126</td>\n",
       "                        <td id=\"T_2cfb4_row41_col52\" class=\"data row41 col52\" >0.002251</td>\n",
       "                        <td id=\"T_2cfb4_row41_col53\" class=\"data row41 col53\" >0.002613</td>\n",
       "                        <td id=\"T_2cfb4_row41_col54\" class=\"data row41 col54\" >-0.002130</td>\n",
       "                        <td id=\"T_2cfb4_row41_col55\" class=\"data row41 col55\" >-0.007302</td>\n",
       "                        <td id=\"T_2cfb4_row41_col56\" class=\"data row41 col56\" >-0.004663</td>\n",
       "                        <td id=\"T_2cfb4_row41_col57\" class=\"data row41 col57\" >0.001328</td>\n",
       "                        <td id=\"T_2cfb4_row41_col58\" class=\"data row41 col58\" >0.003445</td>\n",
       "                        <td id=\"T_2cfb4_row41_col59\" class=\"data row41 col59\" >0.003010</td>\n",
       "                        <td id=\"T_2cfb4_row41_col60\" class=\"data row41 col60\" >0.020752</td>\n",
       "                        <td id=\"T_2cfb4_row41_col61\" class=\"data row41 col61\" >-0.010148</td>\n",
       "                        <td id=\"T_2cfb4_row41_col62\" class=\"data row41 col62\" >-0.085123</td>\n",
       "                        <td id=\"T_2cfb4_row41_col63\" class=\"data row41 col63\" >0.089845</td>\n",
       "            </tr>\n",
       "            <tr>\n",
       "                        <th id=\"T_2cfb4_level0_row42\" class=\"row_heading level0 row42\" >verification_status_Verified</th>\n",
       "                        <td id=\"T_2cfb4_row42_col0\" class=\"data row42 col0\" >-0.109343</td>\n",
       "                        <td id=\"T_2cfb4_row42_col1\" class=\"data row42 col1\" >-0.133023</td>\n",
       "                        <td id=\"T_2cfb4_row42_col2\" class=\"data row42 col2\" >-0.132279</td>\n",
       "                        <td id=\"T_2cfb4_row42_col3\" class=\"data row42 col3\" >0.279442</td>\n",
       "                        <td id=\"T_2cfb4_row42_col4\" class=\"data row42 col4\" >0.278389</td>\n",
       "                        <td id=\"T_2cfb4_row42_col5\" class=\"data row42 col5\" >0.278263</td>\n",
       "                        <td id=\"T_2cfb4_row42_col6\" class=\"data row42 col6\" >0.190222</td>\n",
       "                        <td id=\"T_2cfb4_row42_col7\" class=\"data row42 col7\" >0.264886</td>\n",
       "                        <td id=\"T_2cfb4_row42_col8\" class=\"data row42 col8\" >0.080192</td>\n",
       "                        <td id=\"T_2cfb4_row42_col9\" class=\"data row42 col9\" >0.094015</td>\n",
       "                        <td id=\"T_2cfb4_row42_col10\" class=\"data row42 col10\" >-0.012259</td>\n",
       "                        <td id=\"T_2cfb4_row42_col11\" class=\"data row42 col11\" >0.049289</td>\n",
       "                        <td id=\"T_2cfb4_row42_col12\" class=\"data row42 col12\" >0.013459</td>\n",
       "                        <td id=\"T_2cfb4_row42_col13\" class=\"data row42 col13\" >0.000280</td>\n",
       "                        <td id=\"T_2cfb4_row42_col14\" class=\"data row42 col14\" >0.055681</td>\n",
       "                        <td id=\"T_2cfb4_row42_col15\" class=\"data row42 col15\" >0.013753</td>\n",
       "                        <td id=\"T_2cfb4_row42_col16\" class=\"data row42 col16\" >0.102318</td>\n",
       "                        <td id=\"T_2cfb4_row42_col17\" class=\"data row42 col17\" >0.051038</td>\n",
       "                        <td id=\"T_2cfb4_row42_col18\" class=\"data row42 col18\" >0.084140</td>\n",
       "                        <td id=\"T_2cfb4_row42_col19\" class=\"data row42 col19\" >0.067307</td>\n",
       "                        <td id=\"T_2cfb4_row42_col20\" class=\"data row42 col20\" >0.067260</td>\n",
       "                        <td id=\"T_2cfb4_row42_col21\" class=\"data row42 col21\" >0.280108</td>\n",
       "                        <td id=\"T_2cfb4_row42_col22\" class=\"data row42 col22\" >0.281003</td>\n",
       "                        <td id=\"T_2cfb4_row42_col23\" class=\"data row42 col23\" >0.220418</td>\n",
       "                        <td id=\"T_2cfb4_row42_col24\" class=\"data row42 col24\" >0.294398</td>\n",
       "                        <td id=\"T_2cfb4_row42_col25\" class=\"data row42 col25\" >0.018347</td>\n",
       "                        <td id=\"T_2cfb4_row42_col26\" class=\"data row42 col26\" >0.061605</td>\n",
       "                        <td id=\"T_2cfb4_row42_col27\" class=\"data row42 col27\" >0.037645</td>\n",
       "                        <td id=\"T_2cfb4_row42_col28\" class=\"data row42 col28\" >0.113144</td>\n",
       "                        <td id=\"T_2cfb4_row42_col29\" class=\"data row42 col29\" >-0.002542</td>\n",
       "                        <td id=\"T_2cfb4_row42_col30\" class=\"data row42 col30\" >-0.010680</td>\n",
       "                        <td id=\"T_2cfb4_row42_col31\" class=\"data row42 col31\" >0.005495</td>\n",
       "                        <td id=\"T_2cfb4_row42_col32\" class=\"data row42 col32\" >0.001499</td>\n",
       "                        <td id=\"T_2cfb4_row42_col33\" class=\"data row42 col33\" >0.109068</td>\n",
       "                        <td id=\"T_2cfb4_row42_col34\" class=\"data row42 col34\" >0.074640</td>\n",
       "                        <td id=\"T_2cfb4_row42_col35\" class=\"data row42 col35\" >0.081779</td>\n",
       "                        <td id=\"T_2cfb4_row42_col36\" class=\"data row42 col36\" >0.002148</td>\n",
       "                        <td id=\"T_2cfb4_row42_col37\" class=\"data row42 col37\" >0.001222</td>\n",
       "                        <td id=\"T_2cfb4_row42_col38\" class=\"data row42 col38\" >-0.009699</td>\n",
       "                        <td id=\"T_2cfb4_row42_col39\" class=\"data row42 col39\" >-0.077768</td>\n",
       "                        <td id=\"T_2cfb4_row42_col40\" class=\"data row42 col40\" >-0.512490</td>\n",
       "                        <td id=\"T_2cfb4_row42_col41\" class=\"data row42 col41\" >-0.516938</td>\n",
       "                        <td id=\"T_2cfb4_row42_col42\" class=\"data row42 col42\" >1.000000</td>\n",
       "                        <td id=\"T_2cfb4_row42_col43\" class=\"data row42 col43\" >-0.097147</td>\n",
       "                        <td id=\"T_2cfb4_row42_col44\" class=\"data row42 col44\" >-0.063027</td>\n",
       "                        <td id=\"T_2cfb4_row42_col45\" class=\"data row42 col45\" >0.025675</td>\n",
       "                        <td id=\"T_2cfb4_row42_col46\" class=\"data row42 col46\" >0.040898</td>\n",
       "                        <td id=\"T_2cfb4_row42_col47\" class=\"data row42 col47\" >0.079741</td>\n",
       "                        <td id=\"T_2cfb4_row42_col48\" class=\"data row42 col48\" >0.077459</td>\n",
       "                        <td id=\"T_2cfb4_row42_col49\" class=\"data row42 col49\" >0.044385</td>\n",
       "                        <td id=\"T_2cfb4_row42_col50\" class=\"data row42 col50\" >-0.042691</td>\n",
       "                        <td id=\"T_2cfb4_row42_col51\" class=\"data row42 col51\" >0.033807</td>\n",
       "                        <td id=\"T_2cfb4_row42_col52\" class=\"data row42 col52\" >-0.039450</td>\n",
       "                        <td id=\"T_2cfb4_row42_col53\" class=\"data row42 col53\" >-0.030705</td>\n",
       "                        <td id=\"T_2cfb4_row42_col54\" class=\"data row42 col54\" >-0.022682</td>\n",
       "                        <td id=\"T_2cfb4_row42_col55\" class=\"data row42 col55\" >-0.010866</td>\n",
       "                        <td id=\"T_2cfb4_row42_col56\" class=\"data row42 col56\" >-0.007384</td>\n",
       "                        <td id=\"T_2cfb4_row42_col57\" class=\"data row42 col57\" >-0.005425</td>\n",
       "                        <td id=\"T_2cfb4_row42_col58\" class=\"data row42 col58\" >-0.006499</td>\n",
       "                        <td id=\"T_2cfb4_row42_col59\" class=\"data row42 col59\" >-0.004397</td>\n",
       "                        <td id=\"T_2cfb4_row42_col60\" class=\"data row42 col60\" >-0.035265</td>\n",
       "                        <td id=\"T_2cfb4_row42_col61\" class=\"data row42 col61\" >0.043675</td>\n",
       "                        <td id=\"T_2cfb4_row42_col62\" class=\"data row42 col62\" >-0.003345</td>\n",
       "                        <td id=\"T_2cfb4_row42_col63\" class=\"data row42 col63\" >-0.024268</td>\n",
       "            </tr>\n",
       "            <tr>\n",
       "                        <th id=\"T_2cfb4_level0_row43\" class=\"row_heading level0 row43\" >grade_A</th>\n",
       "                        <td id=\"T_2cfb4_row43_col0\" class=\"data row43 col0\" >-0.033093</td>\n",
       "                        <td id=\"T_2cfb4_row43_col1\" class=\"data row43 col1\" >-0.012353</td>\n",
       "                        <td id=\"T_2cfb4_row43_col2\" class=\"data row43 col2\" >-0.013698</td>\n",
       "                        <td id=\"T_2cfb4_row43_col3\" class=\"data row43 col3\" >-0.048447</td>\n",
       "                        <td id=\"T_2cfb4_row43_col4\" class=\"data row43 col4\" >-0.048798</td>\n",
       "                        <td id=\"T_2cfb4_row43_col5\" class=\"data row43 col5\" >-0.047253</td>\n",
       "                        <td id=\"T_2cfb4_row43_col6\" class=\"data row43 col6\" >-0.631350</td>\n",
       "                        <td id=\"T_2cfb4_row43_col7\" class=\"data row43 col7\" >-0.036765</td>\n",
       "                        <td id=\"T_2cfb4_row43_col8\" class=\"data row43 col8\" >0.083553</td>\n",
       "                        <td id=\"T_2cfb4_row43_col9\" class=\"data row43 col9\" >-0.130001</td>\n",
       "                        <td id=\"T_2cfb4_row43_col10\" class=\"data row43 col10\" >-0.076216</td>\n",
       "                        <td id=\"T_2cfb4_row43_col11\" class=\"data row43 col11\" >-0.119892</td>\n",
       "                        <td id=\"T_2cfb4_row43_col12\" class=\"data row43 col12\" >0.041898</td>\n",
       "                        <td id=\"T_2cfb4_row43_col13\" class=\"data row43 col13\" >0.026093</td>\n",
       "                        <td id=\"T_2cfb4_row43_col14\" class=\"data row43 col14\" >0.011657</td>\n",
       "                        <td id=\"T_2cfb4_row43_col15\" class=\"data row43 col15\" >-0.082396</td>\n",
       "                        <td id=\"T_2cfb4_row43_col16\" class=\"data row43 col16\" >0.021214</td>\n",
       "                        <td id=\"T_2cfb4_row43_col17\" class=\"data row43 col17\" >-0.284513</td>\n",
       "                        <td id=\"T_2cfb4_row43_col18\" class=\"data row43 col18\" >0.048051</td>\n",
       "                        <td id=\"T_2cfb4_row43_col19\" class=\"data row43 col19\" >-0.075807</td>\n",
       "                        <td id=\"T_2cfb4_row43_col20\" class=\"data row43 col20\" >-0.075807</td>\n",
       "                        <td id=\"T_2cfb4_row43_col21\" class=\"data row43 col21\" >-0.027333</td>\n",
       "                        <td id=\"T_2cfb4_row43_col22\" class=\"data row43 col22\" >-0.025990</td>\n",
       "                        <td id=\"T_2cfb4_row43_col23\" class=\"data row43 col23\" >0.058356</td>\n",
       "                        <td id=\"T_2cfb4_row43_col24\" class=\"data row43 col24\" >-0.244273</td>\n",
       "                        <td id=\"T_2cfb4_row43_col25\" class=\"data row43 col25\" >-0.032365</td>\n",
       "                        <td id=\"T_2cfb4_row43_col26\" class=\"data row43 col26\" >-0.053151</td>\n",
       "                        <td id=\"T_2cfb4_row43_col27\" class=\"data row43 col27\" >-0.035983</td>\n",
       "                        <td id=\"T_2cfb4_row43_col28\" class=\"data row43 col28\" >-0.024860</td>\n",
       "                        <td id=\"T_2cfb4_row43_col29\" class=\"data row43 col29\" >-0.020970</td>\n",
       "                        <td id=\"T_2cfb4_row43_col30\" class=\"data row43 col30\" >-0.001371</td>\n",
       "                        <td id=\"T_2cfb4_row43_col31\" class=\"data row43 col31\" >-0.020988</td>\n",
       "                        <td id=\"T_2cfb4_row43_col32\" class=\"data row43 col32\" >-0.001957</td>\n",
       "                        <td id=\"T_2cfb4_row43_col33\" class=\"data row43 col33\" >0.112837</td>\n",
       "                        <td id=\"T_2cfb4_row43_col34\" class=\"data row43 col34\" >0.162690</td>\n",
       "                        <td id=\"T_2cfb4_row43_col35\" class=\"data row43 col35\" >0.065914</td>\n",
       "                        <td id=\"T_2cfb4_row43_col36\" class=\"data row43 col36\" >0.001113</td>\n",
       "                        <td id=\"T_2cfb4_row43_col37\" class=\"data row43 col37\" >-0.000953</td>\n",
       "                        <td id=\"T_2cfb4_row43_col38\" class=\"data row43 col38\" >-0.005608</td>\n",
       "                        <td id=\"T_2cfb4_row43_col39\" class=\"data row43 col39\" >-0.063876</td>\n",
       "                        <td id=\"T_2cfb4_row43_col40\" class=\"data row43 col40\" >0.118316</td>\n",
       "                        <td id=\"T_2cfb4_row43_col41\" class=\"data row43 col41\" >-0.018097</td>\n",
       "                        <td id=\"T_2cfb4_row43_col42\" class=\"data row43 col42\" >-0.097147</td>\n",
       "                        <td id=\"T_2cfb4_row43_col43\" class=\"data row43 col43\" >1.000000</td>\n",
       "                        <td id=\"T_2cfb4_row43_col44\" class=\"data row43 col44\" >-0.281993</td>\n",
       "                        <td id=\"T_2cfb4_row43_col45\" class=\"data row43 col45\" >-0.265101</td>\n",
       "                        <td id=\"T_2cfb4_row43_col46\" class=\"data row43 col46\" >-0.194339</td>\n",
       "                        <td id=\"T_2cfb4_row43_col47\" class=\"data row43 col47\" >-0.126037</td>\n",
       "                        <td id=\"T_2cfb4_row43_col48\" class=\"data row43 col48\" >-0.074733</td>\n",
       "                        <td id=\"T_2cfb4_row43_col49\" class=\"data row43 col49\" >-0.037047</td>\n",
       "                        <td id=\"T_2cfb4_row43_col50\" class=\"data row43 col50\" >0.005267</td>\n",
       "                        <td id=\"T_2cfb4_row43_col51\" class=\"data row43 col51\" >-0.010589</td>\n",
       "                        <td id=\"T_2cfb4_row43_col52\" class=\"data row43 col52\" >0.004441</td>\n",
       "                        <td id=\"T_2cfb4_row43_col53\" class=\"data row43 col53\" >0.005087</td>\n",
       "                        <td id=\"T_2cfb4_row43_col54\" class=\"data row43 col54\" >0.004784</td>\n",
       "                        <td id=\"T_2cfb4_row43_col55\" class=\"data row43 col55\" >0.004426</td>\n",
       "                        <td id=\"T_2cfb4_row43_col56\" class=\"data row43 col56\" >-0.000089</td>\n",
       "                        <td id=\"T_2cfb4_row43_col57\" class=\"data row43 col57\" >-0.004909</td>\n",
       "                        <td id=\"T_2cfb4_row43_col58\" class=\"data row43 col58\" >-0.003813</td>\n",
       "                        <td id=\"T_2cfb4_row43_col59\" class=\"data row43 col59\" >-0.003226</td>\n",
       "                        <td id=\"T_2cfb4_row43_col60\" class=\"data row43 col60\" >0.011480</td>\n",
       "                        <td id=\"T_2cfb4_row43_col61\" class=\"data row43 col61\" >-0.100503</td>\n",
       "                        <td id=\"T_2cfb4_row43_col62\" class=\"data row43 col62\" >0.078258</td>\n",
       "                        <td id=\"T_2cfb4_row43_col63\" class=\"data row43 col63\" >-0.013325</td>\n",
       "            </tr>\n",
       "            <tr>\n",
       "                        <th id=\"T_2cfb4_level0_row44\" class=\"row_heading level0 row44\" >grade_B</th>\n",
       "                        <td id=\"T_2cfb4_row44_col0\" class=\"data row44 col0\" >-0.044443</td>\n",
       "                        <td id=\"T_2cfb4_row44_col1\" class=\"data row44 col1\" >-0.062080</td>\n",
       "                        <td id=\"T_2cfb4_row44_col2\" class=\"data row44 col2\" >-0.061508</td>\n",
       "                        <td id=\"T_2cfb4_row44_col3\" class=\"data row44 col3\" >-0.093163</td>\n",
       "                        <td id=\"T_2cfb4_row44_col4\" class=\"data row44 col4\" >-0.093164</td>\n",
       "                        <td id=\"T_2cfb4_row44_col5\" class=\"data row44 col5\" >-0.092391</td>\n",
       "                        <td id=\"T_2cfb4_row44_col6\" class=\"data row44 col6\" >-0.344178</td>\n",
       "                        <td id=\"T_2cfb4_row44_col7\" class=\"data row44 col7\" >-0.067888</td>\n",
       "                        <td id=\"T_2cfb4_row44_col8\" class=\"data row44 col8\" >-0.012759</td>\n",
       "                        <td id=\"T_2cfb4_row44_col9\" class=\"data row44 col9\" >-0.045230</td>\n",
       "                        <td id=\"T_2cfb4_row44_col10\" class=\"data row44 col10\" >-0.016382</td>\n",
       "                        <td id=\"T_2cfb4_row44_col11\" class=\"data row44 col11\" >-0.097251</td>\n",
       "                        <td id=\"T_2cfb4_row44_col12\" class=\"data row44 col12\" >0.016679</td>\n",
       "                        <td id=\"T_2cfb4_row44_col13\" class=\"data row44 col13\" >0.063080</td>\n",
       "                        <td id=\"T_2cfb4_row44_col14\" class=\"data row44 col14\" >-0.016670</td>\n",
       "                        <td id=\"T_2cfb4_row44_col15\" class=\"data row44 col15\" >-0.006951</td>\n",
       "                        <td id=\"T_2cfb4_row44_col16\" class=\"data row44 col16\" >-0.008977</td>\n",
       "                        <td id=\"T_2cfb4_row44_col17\" class=\"data row44 col17\" >-0.053875</td>\n",
       "                        <td id=\"T_2cfb4_row44_col18\" class=\"data row44 col18\" >-0.005906</td>\n",
       "                        <td id=\"T_2cfb4_row44_col19\" class=\"data row44 col19\" >-0.109603</td>\n",
       "                        <td id=\"T_2cfb4_row44_col20\" class=\"data row44 col20\" >-0.109659</td>\n",
       "                        <td id=\"T_2cfb4_row44_col21\" class=\"data row44 col21\" >-0.032533</td>\n",
       "                        <td id=\"T_2cfb4_row44_col22\" class=\"data row44 col22\" >-0.032103</td>\n",
       "                        <td id=\"T_2cfb4_row44_col23\" class=\"data row44 col23\" >0.030915</td>\n",
       "                        <td id=\"T_2cfb4_row44_col24\" class=\"data row44 col24\" >-0.185148</td>\n",
       "                        <td id=\"T_2cfb4_row44_col25\" class=\"data row44 col25\" >-0.025152</td>\n",
       "                        <td id=\"T_2cfb4_row44_col26\" class=\"data row44 col26\" >-0.047586</td>\n",
       "                        <td id=\"T_2cfb4_row44_col27\" class=\"data row44 col27\" >-0.034043</td>\n",
       "                        <td id=\"T_2cfb4_row44_col28\" class=\"data row44 col28\" >-0.024156</td>\n",
       "                        <td id=\"T_2cfb4_row44_col29\" class=\"data row44 col29\" >-0.007144</td>\n",
       "                        <td id=\"T_2cfb4_row44_col30\" class=\"data row44 col30\" >-0.007076</td>\n",
       "                        <td id=\"T_2cfb4_row44_col31\" class=\"data row44 col31\" >-0.010015</td>\n",
       "                        <td id=\"T_2cfb4_row44_col32\" class=\"data row44 col32\" >-0.000738</td>\n",
       "                        <td id=\"T_2cfb4_row44_col33\" class=\"data row44 col33\" >-0.001396</td>\n",
       "                        <td id=\"T_2cfb4_row44_col34\" class=\"data row44 col34\" >0.003384</td>\n",
       "                        <td id=\"T_2cfb4_row44_col35\" class=\"data row44 col35\" >0.005670</td>\n",
       "                        <td id=\"T_2cfb4_row44_col36\" class=\"data row44 col36\" >-0.000311</td>\n",
       "                        <td id=\"T_2cfb4_row44_col37\" class=\"data row44 col37\" >-0.000583</td>\n",
       "                        <td id=\"T_2cfb4_row44_col38\" class=\"data row44 col38\" >-0.001729</td>\n",
       "                        <td id=\"T_2cfb4_row44_col39\" class=\"data row44 col39\" >-0.004747</td>\n",
       "                        <td id=\"T_2cfb4_row44_col40\" class=\"data row44 col40\" >0.101649</td>\n",
       "                        <td id=\"T_2cfb4_row44_col41\" class=\"data row44 col41\" >-0.036551</td>\n",
       "                        <td id=\"T_2cfb4_row44_col42\" class=\"data row44 col42\" >-0.063027</td>\n",
       "                        <td id=\"T_2cfb4_row44_col43\" class=\"data row44 col43\" >-0.281993</td>\n",
       "                        <td id=\"T_2cfb4_row44_col44\" class=\"data row44 col44\" >1.000000</td>\n",
       "                        <td id=\"T_2cfb4_row44_col45\" class=\"data row44 col45\" >-0.390845</td>\n",
       "                        <td id=\"T_2cfb4_row44_col46\" class=\"data row44 col46\" >-0.286519</td>\n",
       "                        <td id=\"T_2cfb4_row44_col47\" class=\"data row44 col47\" >-0.185820</td>\n",
       "                        <td id=\"T_2cfb4_row44_col48\" class=\"data row44 col48\" >-0.110181</td>\n",
       "                        <td id=\"T_2cfb4_row44_col49\" class=\"data row44 col49\" >-0.054619</td>\n",
       "                        <td id=\"T_2cfb4_row44_col50\" class=\"data row44 col50\" >0.001761</td>\n",
       "                        <td id=\"T_2cfb4_row44_col51\" class=\"data row44 col51\" >-0.007204</td>\n",
       "                        <td id=\"T_2cfb4_row44_col52\" class=\"data row44 col52\" >0.004809</td>\n",
       "                        <td id=\"T_2cfb4_row44_col53\" class=\"data row44 col53\" >0.001720</td>\n",
       "                        <td id=\"T_2cfb4_row44_col54\" class=\"data row44 col54\" >-0.000579</td>\n",
       "                        <td id=\"T_2cfb4_row44_col55\" class=\"data row44 col55\" >0.002887</td>\n",
       "                        <td id=\"T_2cfb4_row44_col56\" class=\"data row44 col56\" >0.001433</td>\n",
       "                        <td id=\"T_2cfb4_row44_col57\" class=\"data row44 col57\" >0.000838</td>\n",
       "                        <td id=\"T_2cfb4_row44_col58\" class=\"data row44 col58\" >0.002858</td>\n",
       "                        <td id=\"T_2cfb4_row44_col59\" class=\"data row44 col59\" >0.001054</td>\n",
       "                        <td id=\"T_2cfb4_row44_col60\" class=\"data row44 col60\" >-0.002314</td>\n",
       "                        <td id=\"T_2cfb4_row44_col61\" class=\"data row44 col61\" >-0.064480</td>\n",
       "                        <td id=\"T_2cfb4_row44_col62\" class=\"data row44 col62\" >0.061470</td>\n",
       "                        <td id=\"T_2cfb4_row44_col63\" class=\"data row44 col63\" >-0.019588</td>\n",
       "            </tr>\n",
       "            <tr>\n",
       "                        <th id=\"T_2cfb4_level0_row45\" class=\"row_heading level0 row45\" >grade_C</th>\n",
       "                        <td id=\"T_2cfb4_row45_col0\" class=\"data row45 col0\" >0.030995</td>\n",
       "                        <td id=\"T_2cfb4_row45_col1\" class=\"data row45 col1\" >0.031309</td>\n",
       "                        <td id=\"T_2cfb4_row45_col2\" class=\"data row45 col2\" >0.032449</td>\n",
       "                        <td id=\"T_2cfb4_row45_col3\" class=\"data row45 col3\" >-0.008762</td>\n",
       "                        <td id=\"T_2cfb4_row45_col4\" class=\"data row45 col4\" >-0.008069</td>\n",
       "                        <td id=\"T_2cfb4_row45_col5\" class=\"data row45 col5\" >-0.007655</td>\n",
       "                        <td id=\"T_2cfb4_row45_col6\" class=\"data row45 col6\" >0.111959</td>\n",
       "                        <td id=\"T_2cfb4_row45_col7\" class=\"data row45 col7\" >-0.024159</td>\n",
       "                        <td id=\"T_2cfb4_row45_col8\" class=\"data row45 col8\" >-0.036952</td>\n",
       "                        <td id=\"T_2cfb4_row45_col9\" class=\"data row45 col9\" >0.045407</td>\n",
       "                        <td id=\"T_2cfb4_row45_col10\" class=\"data row45 col10\" >0.027602</td>\n",
       "                        <td id=\"T_2cfb4_row45_col11\" class=\"data row45 col11\" >0.029176</td>\n",
       "                        <td id=\"T_2cfb4_row45_col12\" class=\"data row45 col12\" >-0.010526</td>\n",
       "                        <td id=\"T_2cfb4_row45_col13\" class=\"data row45 col13\" >-0.017117</td>\n",
       "                        <td id=\"T_2cfb4_row45_col14\" class=\"data row45 col14\" >-0.007567</td>\n",
       "                        <td id=\"T_2cfb4_row45_col15\" class=\"data row45 col15\" >0.038100</td>\n",
       "                        <td id=\"T_2cfb4_row45_col16\" class=\"data row45 col16\" >-0.011295</td>\n",
       "                        <td id=\"T_2cfb4_row45_col17\" class=\"data row45 col17\" >0.087566</td>\n",
       "                        <td id=\"T_2cfb4_row45_col18\" class=\"data row45 col18\" >-0.015519</td>\n",
       "                        <td id=\"T_2cfb4_row45_col19\" class=\"data row45 col19\" >0.032271</td>\n",
       "                        <td id=\"T_2cfb4_row45_col20\" class=\"data row45 col20\" >0.032310</td>\n",
       "                        <td id=\"T_2cfb4_row45_col21\" class=\"data row45 col21\" >-0.024111</td>\n",
       "                        <td id=\"T_2cfb4_row45_col22\" class=\"data row45 col22\" >-0.023751</td>\n",
       "                        <td id=\"T_2cfb4_row45_col23\" class=\"data row45 col23\" >-0.034432</td>\n",
       "                        <td id=\"T_2cfb4_row45_col24\" class=\"data row45 col24\" >0.019369</td>\n",
       "                        <td id=\"T_2cfb4_row45_col25\" class=\"data row45 col25\" >0.000784</td>\n",
       "                        <td id=\"T_2cfb4_row45_col26\" class=\"data row45 col26\" >-0.009576</td>\n",
       "                        <td id=\"T_2cfb4_row45_col27\" class=\"data row45 col27\" >-0.005292</td>\n",
       "                        <td id=\"T_2cfb4_row45_col28\" class=\"data row45 col28\" >-0.002702</td>\n",
       "                        <td id=\"T_2cfb4_row45_col29\" class=\"data row45 col29\" >0.008816</td>\n",
       "                        <td id=\"T_2cfb4_row45_col30\" class=\"data row45 col30\" >0.011536</td>\n",
       "                        <td id=\"T_2cfb4_row45_col31\" class=\"data row45 col31\" >0.003919</td>\n",
       "                        <td id=\"T_2cfb4_row45_col32\" class=\"data row45 col32\" >0.002738</td>\n",
       "                        <td id=\"T_2cfb4_row45_col33\" class=\"data row45 col33\" >-0.034433</td>\n",
       "                        <td id=\"T_2cfb4_row45_col34\" class=\"data row45 col34\" >-0.051049</td>\n",
       "                        <td id=\"T_2cfb4_row45_col35\" class=\"data row45 col35\" >-0.016010</td>\n",
       "                        <td id=\"T_2cfb4_row45_col36\" class=\"data row45 col36\" >-0.001605</td>\n",
       "                        <td id=\"T_2cfb4_row45_col37\" class=\"data row45 col37\" >-0.001201</td>\n",
       "                        <td id=\"T_2cfb4_row45_col38\" class=\"data row45 col38\" >0.000085</td>\n",
       "                        <td id=\"T_2cfb4_row45_col39\" class=\"data row45 col39\" >0.016346</td>\n",
       "                        <td id=\"T_2cfb4_row45_col40\" class=\"data row45 col40\" >-0.041812</td>\n",
       "                        <td id=\"T_2cfb4_row45_col41\" class=\"data row45 col41\" >0.015293</td>\n",
       "                        <td id=\"T_2cfb4_row45_col42\" class=\"data row45 col42\" >0.025675</td>\n",
       "                        <td id=\"T_2cfb4_row45_col43\" class=\"data row45 col43\" >-0.265101</td>\n",
       "                        <td id=\"T_2cfb4_row45_col44\" class=\"data row45 col44\" >-0.390845</td>\n",
       "                        <td id=\"T_2cfb4_row45_col45\" class=\"data row45 col45\" >1.000000</td>\n",
       "                        <td id=\"T_2cfb4_row45_col46\" class=\"data row45 col46\" >-0.269356</td>\n",
       "                        <td id=\"T_2cfb4_row45_col47\" class=\"data row45 col47\" >-0.174689</td>\n",
       "                        <td id=\"T_2cfb4_row45_col48\" class=\"data row45 col48\" >-0.103581</td>\n",
       "                        <td id=\"T_2cfb4_row45_col49\" class=\"data row45 col49\" >-0.051348</td>\n",
       "                        <td id=\"T_2cfb4_row45_col50\" class=\"data row45 col50\" >-0.003303</td>\n",
       "                        <td id=\"T_2cfb4_row45_col51\" class=\"data row45 col51\" >0.007104</td>\n",
       "                        <td id=\"T_2cfb4_row45_col52\" class=\"data row45 col52\" >-0.005139</td>\n",
       "                        <td id=\"T_2cfb4_row45_col53\" class=\"data row45 col53\" >-0.001861</td>\n",
       "                        <td id=\"T_2cfb4_row45_col54\" class=\"data row45 col54\" >-0.002420</td>\n",
       "                        <td id=\"T_2cfb4_row45_col55\" class=\"data row45 col55\" >-0.003348</td>\n",
       "                        <td id=\"T_2cfb4_row45_col56\" class=\"data row45 col56\" >0.001486</td>\n",
       "                        <td id=\"T_2cfb4_row45_col57\" class=\"data row45 col57\" >-0.000266</td>\n",
       "                        <td id=\"T_2cfb4_row45_col58\" class=\"data row45 col58\" >0.001916</td>\n",
       "                        <td id=\"T_2cfb4_row45_col59\" class=\"data row45 col59\" >0.000868</td>\n",
       "                        <td id=\"T_2cfb4_row45_col60\" class=\"data row45 col60\" >-0.003243</td>\n",
       "                        <td id=\"T_2cfb4_row45_col61\" class=\"data row45 col61\" >0.011056</td>\n",
       "                        <td id=\"T_2cfb4_row45_col62\" class=\"data row45 col62\" >-0.038268</td>\n",
       "                        <td id=\"T_2cfb4_row45_col63\" class=\"data row45 col63\" >0.030540</td>\n",
       "            </tr>\n",
       "            <tr>\n",
       "                        <th id=\"T_2cfb4_level0_row46\" class=\"row_heading level0 row46\" >grade_D</th>\n",
       "                        <td id=\"T_2cfb4_row46_col0\" class=\"data row46 col0\" >0.043077</td>\n",
       "                        <td id=\"T_2cfb4_row46_col1\" class=\"data row46 col1\" >0.033795</td>\n",
       "                        <td id=\"T_2cfb4_row46_col2\" class=\"data row46 col2\" >0.033767</td>\n",
       "                        <td id=\"T_2cfb4_row46_col3\" class=\"data row46 col3\" >0.039946</td>\n",
       "                        <td id=\"T_2cfb4_row46_col4\" class=\"data row46 col4\" >0.040495</td>\n",
       "                        <td id=\"T_2cfb4_row46_col5\" class=\"data row46 col5\" >0.040274</td>\n",
       "                        <td id=\"T_2cfb4_row46_col6\" class=\"data row46 col6\" >0.378462</td>\n",
       "                        <td id=\"T_2cfb4_row46_col7\" class=\"data row46 col7\" >0.030508</td>\n",
       "                        <td id=\"T_2cfb4_row46_col8\" class=\"data row46 col8\" >-0.031233</td>\n",
       "                        <td id=\"T_2cfb4_row46_col9\" class=\"data row46 col9\" >0.069650</td>\n",
       "                        <td id=\"T_2cfb4_row46_col10\" class=\"data row46 col10\" >0.030756</td>\n",
       "                        <td id=\"T_2cfb4_row46_col11\" class=\"data row46 col11\" >0.084472</td>\n",
       "                        <td id=\"T_2cfb4_row46_col12\" class=\"data row46 col12\" >-0.013461</td>\n",
       "                        <td id=\"T_2cfb4_row46_col13\" class=\"data row46 col13\" >-0.034028</td>\n",
       "                        <td id=\"T_2cfb4_row46_col14\" class=\"data row46 col14\" >-0.000392</td>\n",
       "                        <td id=\"T_2cfb4_row46_col15\" class=\"data row46 col15\" >0.029614</td>\n",
       "                        <td id=\"T_2cfb4_row46_col16\" class=\"data row46 col16\" >-0.008832</td>\n",
       "                        <td id=\"T_2cfb4_row46_col17\" class=\"data row46 col17\" >0.123956</td>\n",
       "                        <td id=\"T_2cfb4_row46_col18\" class=\"data row46 col18\" >-0.022909</td>\n",
       "                        <td id=\"T_2cfb4_row46_col19\" class=\"data row46 col19\" >0.075089</td>\n",
       "                        <td id=\"T_2cfb4_row46_col20\" class=\"data row46 col20\" >0.075100</td>\n",
       "                        <td id=\"T_2cfb4_row46_col21\" class=\"data row46 col21\" >0.001270</td>\n",
       "                        <td id=\"T_2cfb4_row46_col22\" class=\"data row46 col22\" >0.001313</td>\n",
       "                        <td id=\"T_2cfb4_row46_col23\" class=\"data row46 col23\" >-0.048209</td>\n",
       "                        <td id=\"T_2cfb4_row46_col24\" class=\"data row46 col24\" >0.134142</td>\n",
       "                        <td id=\"T_2cfb4_row46_col25\" class=\"data row46 col25\" >0.020149</td>\n",
       "                        <td id=\"T_2cfb4_row46_col26\" class=\"data row46 col26\" >0.029328</td>\n",
       "                        <td id=\"T_2cfb4_row46_col27\" class=\"data row46 col27\" >0.021335</td>\n",
       "                        <td id=\"T_2cfb4_row46_col28\" class=\"data row46 col28\" >0.005743</td>\n",
       "                        <td id=\"T_2cfb4_row46_col29\" class=\"data row46 col29\" >0.011684</td>\n",
       "                        <td id=\"T_2cfb4_row46_col30\" class=\"data row46 col30\" >0.003726</td>\n",
       "                        <td id=\"T_2cfb4_row46_col31\" class=\"data row46 col31\" >0.012823</td>\n",
       "                        <td id=\"T_2cfb4_row46_col32\" class=\"data row46 col32\" >-0.000175</td>\n",
       "                        <td id=\"T_2cfb4_row46_col33\" class=\"data row46 col33\" >-0.043942</td>\n",
       "                        <td id=\"T_2cfb4_row46_col34\" class=\"data row46 col34\" >-0.058492</td>\n",
       "                        <td id=\"T_2cfb4_row46_col35\" class=\"data row46 col35\" >-0.035396</td>\n",
       "                        <td id=\"T_2cfb4_row46_col36\" class=\"data row46 col36\" >0.000421</td>\n",
       "                        <td id=\"T_2cfb4_row46_col37\" class=\"data row46 col37\" >-0.000003</td>\n",
       "                        <td id=\"T_2cfb4_row46_col38\" class=\"data row46 col38\" >0.003809</td>\n",
       "                        <td id=\"T_2cfb4_row46_col39\" class=\"data row46 col39\" >0.033840</td>\n",
       "                        <td id=\"T_2cfb4_row46_col40\" class=\"data row46 col40\" >-0.071745</td>\n",
       "                        <td id=\"T_2cfb4_row46_col41\" class=\"data row46 col41\" >0.029485</td>\n",
       "                        <td id=\"T_2cfb4_row46_col42\" class=\"data row46 col42\" >0.040898</td>\n",
       "                        <td id=\"T_2cfb4_row46_col43\" class=\"data row46 col43\" >-0.194339</td>\n",
       "                        <td id=\"T_2cfb4_row46_col44\" class=\"data row46 col44\" >-0.286519</td>\n",
       "                        <td id=\"T_2cfb4_row46_col45\" class=\"data row46 col45\" >-0.269356</td>\n",
       "                        <td id=\"T_2cfb4_row46_col46\" class=\"data row46 col46\" >1.000000</td>\n",
       "                        <td id=\"T_2cfb4_row46_col47\" class=\"data row46 col47\" >-0.128060</td>\n",
       "                        <td id=\"T_2cfb4_row46_col48\" class=\"data row46 col48\" >-0.075933</td>\n",
       "                        <td id=\"T_2cfb4_row46_col49\" class=\"data row46 col49\" >-0.037642</td>\n",
       "                        <td id=\"T_2cfb4_row46_col50\" class=\"data row46 col50\" >0.000081</td>\n",
       "                        <td id=\"T_2cfb4_row46_col51\" class=\"data row46 col51\" >0.001673</td>\n",
       "                        <td id=\"T_2cfb4_row46_col52\" class=\"data row46 col52\" >-0.000982</td>\n",
       "                        <td id=\"T_2cfb4_row46_col53\" class=\"data row46 col53\" >-0.000829</td>\n",
       "                        <td id=\"T_2cfb4_row46_col54\" class=\"data row46 col54\" >0.000439</td>\n",
       "                        <td id=\"T_2cfb4_row46_col55\" class=\"data row46 col55\" >-0.002221</td>\n",
       "                        <td id=\"T_2cfb4_row46_col56\" class=\"data row46 col56\" >-0.001554</td>\n",
       "                        <td id=\"T_2cfb4_row46_col57\" class=\"data row46 col57\" >0.002836</td>\n",
       "                        <td id=\"T_2cfb4_row46_col58\" class=\"data row46 col58\" >-0.002128</td>\n",
       "                        <td id=\"T_2cfb4_row46_col59\" class=\"data row46 col59\" >-0.001796</td>\n",
       "                        <td id=\"T_2cfb4_row46_col60\" class=\"data row46 col60\" >-0.002417</td>\n",
       "                        <td id=\"T_2cfb4_row46_col61\" class=\"data row46 col61\" >0.064649</td>\n",
       "                        <td id=\"T_2cfb4_row46_col62\" class=\"data row46 col62\" >-0.049621</td>\n",
       "                        <td id=\"T_2cfb4_row46_col63\" class=\"data row46 col63\" >0.007867</td>\n",
       "            </tr>\n",
       "            <tr>\n",
       "                        <th id=\"T_2cfb4_level0_row47\" class=\"row_heading level0 row47\" >grade_E</th>\n",
       "                        <td id=\"T_2cfb4_row47_col0\" class=\"data row47 col0\" >0.020649</td>\n",
       "                        <td id=\"T_2cfb4_row47_col1\" class=\"data row47 col1\" >0.028565</td>\n",
       "                        <td id=\"T_2cfb4_row47_col2\" class=\"data row47 col2\" >0.028039</td>\n",
       "                        <td id=\"T_2cfb4_row47_col3\" class=\"data row47 col3\" >0.111888</td>\n",
       "                        <td id=\"T_2cfb4_row47_col4\" class=\"data row47 col4\" >0.111058</td>\n",
       "                        <td id=\"T_2cfb4_row47_col5\" class=\"data row47 col5\" >0.109275</td>\n",
       "                        <td id=\"T_2cfb4_row47_col6\" class=\"data row47 col6\" >0.440319</td>\n",
       "                        <td id=\"T_2cfb4_row47_col7\" class=\"data row47 col7\" >0.092696</td>\n",
       "                        <td id=\"T_2cfb4_row47_col8\" class=\"data row47 col8\" >-0.000135</td>\n",
       "                        <td id=\"T_2cfb4_row47_col9\" class=\"data row47 col9\" >0.061320</td>\n",
       "                        <td id=\"T_2cfb4_row47_col10\" class=\"data row47 col10\" >0.027166</td>\n",
       "                        <td id=\"T_2cfb4_row47_col11\" class=\"data row47 col11\" >0.089078</td>\n",
       "                        <td id=\"T_2cfb4_row47_col12\" class=\"data row47 col12\" >-0.018628</td>\n",
       "                        <td id=\"T_2cfb4_row47_col13\" class=\"data row47 col13\" >-0.030434</td>\n",
       "                        <td id=\"T_2cfb4_row47_col14\" class=\"data row47 col14\" >0.012669</td>\n",
       "                        <td id=\"T_2cfb4_row47_col15\" class=\"data row47 col15\" >0.017198</td>\n",
       "                        <td id=\"T_2cfb4_row47_col16\" class=\"data row47 col16\" >0.008913</td>\n",
       "                        <td id=\"T_2cfb4_row47_col17\" class=\"data row47 col17\" >0.107103</td>\n",
       "                        <td id=\"T_2cfb4_row47_col18\" class=\"data row47 col18\" >-0.001135</td>\n",
       "                        <td id=\"T_2cfb4_row47_col19\" class=\"data row47 col19\" >0.095882</td>\n",
       "                        <td id=\"T_2cfb4_row47_col20\" class=\"data row47 col20\" >0.095887</td>\n",
       "                        <td id=\"T_2cfb4_row47_col21\" class=\"data row47 col21\" >0.069810</td>\n",
       "                        <td id=\"T_2cfb4_row47_col22\" class=\"data row47 col22\" >0.068260</td>\n",
       "                        <td id=\"T_2cfb4_row47_col23\" class=\"data row47 col23\" >-0.011774</td>\n",
       "                        <td id=\"T_2cfb4_row47_col24\" class=\"data row47 col24\" >0.250941</td>\n",
       "                        <td id=\"T_2cfb4_row47_col25\" class=\"data row47 col25\" >0.029670</td>\n",
       "                        <td id=\"T_2cfb4_row47_col26\" class=\"data row47 col26\" >0.065847</td>\n",
       "                        <td id=\"T_2cfb4_row47_col27\" class=\"data row47 col27\" >0.043363</td>\n",
       "                        <td id=\"T_2cfb4_row47_col28\" class=\"data row47 col28\" >0.038638</td>\n",
       "                        <td id=\"T_2cfb4_row47_col29\" class=\"data row47 col29\" >0.006776</td>\n",
       "                        <td id=\"T_2cfb4_row47_col30\" class=\"data row47 col30\" >-0.005319</td>\n",
       "                        <td id=\"T_2cfb4_row47_col31\" class=\"data row47 col31\" >0.012906</td>\n",
       "                        <td id=\"T_2cfb4_row47_col32\" class=\"data row47 col32\" >-0.000199</td>\n",
       "                        <td id=\"T_2cfb4_row47_col33\" class=\"data row47 col33\" >-0.017491</td>\n",
       "                        <td id=\"T_2cfb4_row47_col34\" class=\"data row47 col34\" >-0.034958</td>\n",
       "                        <td id=\"T_2cfb4_row47_col35\" class=\"data row47 col35\" >-0.014965</td>\n",
       "                        <td id=\"T_2cfb4_row47_col36\" class=\"data row47 col36\" >-0.002206</td>\n",
       "                        <td id=\"T_2cfb4_row47_col37\" class=\"data row47 col37\" >0.001242</td>\n",
       "                        <td id=\"T_2cfb4_row47_col38\" class=\"data row47 col38\" >0.003106</td>\n",
       "                        <td id=\"T_2cfb4_row47_col39\" class=\"data row47 col39\" >0.013438</td>\n",
       "                        <td id=\"T_2cfb4_row47_col40\" class=\"data row47 col40\" >-0.105777</td>\n",
       "                        <td id=\"T_2cfb4_row47_col41\" class=\"data row47 col41\" >0.023487</td>\n",
       "                        <td id=\"T_2cfb4_row47_col42\" class=\"data row47 col42\" >0.079741</td>\n",
       "                        <td id=\"T_2cfb4_row47_col43\" class=\"data row47 col43\" >-0.126037</td>\n",
       "                        <td id=\"T_2cfb4_row47_col44\" class=\"data row47 col44\" >-0.185820</td>\n",
       "                        <td id=\"T_2cfb4_row47_col45\" class=\"data row47 col45\" >-0.174689</td>\n",
       "                        <td id=\"T_2cfb4_row47_col46\" class=\"data row47 col46\" >-0.128060</td>\n",
       "                        <td id=\"T_2cfb4_row47_col47\" class=\"data row47 col47\" >1.000000</td>\n",
       "                        <td id=\"T_2cfb4_row47_col48\" class=\"data row47 col48\" >-0.049246</td>\n",
       "                        <td id=\"T_2cfb4_row47_col49\" class=\"data row47 col49\" >-0.024412</td>\n",
       "                        <td id=\"T_2cfb4_row47_col50\" class=\"data row47 col50\" >-0.002562</td>\n",
       "                        <td id=\"T_2cfb4_row47_col51\" class=\"data row47 col51\" >0.007386</td>\n",
       "                        <td id=\"T_2cfb4_row47_col52\" class=\"data row47 col52\" >-0.002654</td>\n",
       "                        <td id=\"T_2cfb4_row47_col53\" class=\"data row47 col53\" >-0.003636</td>\n",
       "                        <td id=\"T_2cfb4_row47_col54\" class=\"data row47 col54\" >-0.001015</td>\n",
       "                        <td id=\"T_2cfb4_row47_col55\" class=\"data row47 col55\" >-0.001389</td>\n",
       "                        <td id=\"T_2cfb4_row47_col56\" class=\"data row47 col56\" >-0.003203</td>\n",
       "                        <td id=\"T_2cfb4_row47_col57\" class=\"data row47 col57\" >0.000189</td>\n",
       "                        <td id=\"T_2cfb4_row47_col58\" class=\"data row47 col58\" >-0.000198</td>\n",
       "                        <td id=\"T_2cfb4_row47_col59\" class=\"data row47 col59\" >0.004040</td>\n",
       "                        <td id=\"T_2cfb4_row47_col60\" class=\"data row47 col60\" >-0.002286</td>\n",
       "                        <td id=\"T_2cfb4_row47_col61\" class=\"data row47 col61\" >0.080202</td>\n",
       "                        <td id=\"T_2cfb4_row47_col62\" class=\"data row47 col62\" >-0.055460</td>\n",
       "                        <td id=\"T_2cfb4_row47_col63\" class=\"data row47 col63\" >0.003780</td>\n",
       "            </tr>\n",
       "            <tr>\n",
       "                        <th id=\"T_2cfb4_level0_row48\" class=\"row_heading level0 row48\" >grade_F</th>\n",
       "                        <td id=\"T_2cfb4_row48_col0\" class=\"data row48 col0\" >-0.013870</td>\n",
       "                        <td id=\"T_2cfb4_row48_col1\" class=\"data row48 col1\" >-0.007267</td>\n",
       "                        <td id=\"T_2cfb4_row48_col2\" class=\"data row48 col2\" >-0.007804</td>\n",
       "                        <td id=\"T_2cfb4_row48_col3\" class=\"data row48 col3\" >0.084882</td>\n",
       "                        <td id=\"T_2cfb4_row48_col4\" class=\"data row48 col4\" >0.084081</td>\n",
       "                        <td id=\"T_2cfb4_row48_col5\" class=\"data row48 col5\" >0.082213</td>\n",
       "                        <td id=\"T_2cfb4_row48_col6\" class=\"data row48 col6\" >0.381246</td>\n",
       "                        <td id=\"T_2cfb4_row48_col7\" class=\"data row48 col7\" >0.081600</td>\n",
       "                        <td id=\"T_2cfb4_row48_col8\" class=\"data row48 col8\" >0.007450</td>\n",
       "                        <td id=\"T_2cfb4_row48_col9\" class=\"data row48 col9\" >0.029571</td>\n",
       "                        <td id=\"T_2cfb4_row48_col10\" class=\"data row48 col10\" >0.019749</td>\n",
       "                        <td id=\"T_2cfb4_row48_col11\" class=\"data row48 col11\" >0.087630</td>\n",
       "                        <td id=\"T_2cfb4_row48_col12\" class=\"data row48 col12\" >-0.020814</td>\n",
       "                        <td id=\"T_2cfb4_row48_col13\" class=\"data row48 col13\" >-0.011515</td>\n",
       "                        <td id=\"T_2cfb4_row48_col14\" class=\"data row48 col14\" >0.010991</td>\n",
       "                        <td id=\"T_2cfb4_row48_col15\" class=\"data row48 col15\" >0.004498</td>\n",
       "                        <td id=\"T_2cfb4_row48_col16\" class=\"data row48 col16\" >0.005934</td>\n",
       "                        <td id=\"T_2cfb4_row48_col17\" class=\"data row48 col17\" >0.073904</td>\n",
       "                        <td id=\"T_2cfb4_row48_col18\" class=\"data row48 col18\" >-0.000998</td>\n",
       "                        <td id=\"T_2cfb4_row48_col19\" class=\"data row48 col19\" >0.044058</td>\n",
       "                        <td id=\"T_2cfb4_row48_col20\" class=\"data row48 col20\" >0.044072</td>\n",
       "                        <td id=\"T_2cfb4_row48_col21\" class=\"data row48 col21\" >0.073375</td>\n",
       "                        <td id=\"T_2cfb4_row48_col22\" class=\"data row48 col22\" >0.071944</td>\n",
       "                        <td id=\"T_2cfb4_row48_col23\" class=\"data row48 col23\" >0.001076</td>\n",
       "                        <td id=\"T_2cfb4_row48_col24\" class=\"data row48 col24\" >0.223765</td>\n",
       "                        <td id=\"T_2cfb4_row48_col25\" class=\"data row48 col25\" >0.029133</td>\n",
       "                        <td id=\"T_2cfb4_row48_col26\" class=\"data row48 col26\" >0.077803</td>\n",
       "                        <td id=\"T_2cfb4_row48_col27\" class=\"data row48 col27\" >0.050849</td>\n",
       "                        <td id=\"T_2cfb4_row48_col28\" class=\"data row48 col28\" >0.040818</td>\n",
       "                        <td id=\"T_2cfb4_row48_col29\" class=\"data row48 col29\" >0.002845</td>\n",
       "                        <td id=\"T_2cfb4_row48_col30\" class=\"data row48 col30\" >-0.005381</td>\n",
       "                        <td id=\"T_2cfb4_row48_col31\" class=\"data row48 col31\" >0.008103</td>\n",
       "                        <td id=\"T_2cfb4_row48_col32\" class=\"data row48 col32\" >-0.000391</td>\n",
       "                        <td id=\"T_2cfb4_row48_col33\" class=\"data row48 col33\" >-0.015905</td>\n",
       "                        <td id=\"T_2cfb4_row48_col34\" class=\"data row48 col34\" >-0.025667</td>\n",
       "                        <td id=\"T_2cfb4_row48_col35\" class=\"data row48 col35\" >-0.014828</td>\n",
       "                        <td id=\"T_2cfb4_row48_col36\" class=\"data row48 col36\" >0.004468</td>\n",
       "                        <td id=\"T_2cfb4_row48_col37\" class=\"data row48 col37\" >0.001201</td>\n",
       "                        <td id=\"T_2cfb4_row48_col38\" class=\"data row48 col38\" >0.001937</td>\n",
       "                        <td id=\"T_2cfb4_row48_col39\" class=\"data row48 col39\" >0.013839</td>\n",
       "                        <td id=\"T_2cfb4_row48_col40\" class=\"data row48 col40\" >-0.077633</td>\n",
       "                        <td id=\"T_2cfb4_row48_col41\" class=\"data row48 col41\" >-0.002224</td>\n",
       "                        <td id=\"T_2cfb4_row48_col42\" class=\"data row48 col42\" >0.077459</td>\n",
       "                        <td id=\"T_2cfb4_row48_col43\" class=\"data row48 col43\" >-0.074733</td>\n",
       "                        <td id=\"T_2cfb4_row48_col44\" class=\"data row48 col44\" >-0.110181</td>\n",
       "                        <td id=\"T_2cfb4_row48_col45\" class=\"data row48 col45\" >-0.103581</td>\n",
       "                        <td id=\"T_2cfb4_row48_col46\" class=\"data row48 col46\" >-0.075933</td>\n",
       "                        <td id=\"T_2cfb4_row48_col47\" class=\"data row48 col47\" >-0.049246</td>\n",
       "                        <td id=\"T_2cfb4_row48_col48\" class=\"data row48 col48\" >1.000000</td>\n",
       "                        <td id=\"T_2cfb4_row48_col49\" class=\"data row48 col49\" >-0.014475</td>\n",
       "                        <td id=\"T_2cfb4_row48_col50\" class=\"data row48 col50\" >-0.003623</td>\n",
       "                        <td id=\"T_2cfb4_row48_col51\" class=\"data row48 col51\" >0.006084</td>\n",
       "                        <td id=\"T_2cfb4_row48_col52\" class=\"data row48 col52\" >-0.002081</td>\n",
       "                        <td id=\"T_2cfb4_row48_col53\" class=\"data row48 col53\" >-0.002511</td>\n",
       "                        <td id=\"T_2cfb4_row48_col54\" class=\"data row48 col54\" >-0.001199</td>\n",
       "                        <td id=\"T_2cfb4_row48_col55\" class=\"data row48 col55\" >-0.000108</td>\n",
       "                        <td id=\"T_2cfb4_row48_col56\" class=\"data row48 col56\" >0.001638</td>\n",
       "                        <td id=\"T_2cfb4_row48_col57\" class=\"data row48 col57\" >0.002538</td>\n",
       "                        <td id=\"T_2cfb4_row48_col58\" class=\"data row48 col58\" >0.000824</td>\n",
       "                        <td id=\"T_2cfb4_row48_col59\" class=\"data row48 col59\" >-0.000572</td>\n",
       "                        <td id=\"T_2cfb4_row48_col60\" class=\"data row48 col60\" >-0.003082</td>\n",
       "                        <td id=\"T_2cfb4_row48_col61\" class=\"data row48 col61\" >0.073192</td>\n",
       "                        <td id=\"T_2cfb4_row48_col62\" class=\"data row48 col62\" >-0.032072</td>\n",
       "                        <td id=\"T_2cfb4_row48_col63\" class=\"data row48 col63\" >-0.014725</td>\n",
       "            </tr>\n",
       "            <tr>\n",
       "                        <th id=\"T_2cfb4_level0_row49\" class=\"row_heading level0 row49\" >grade_G</th>\n",
       "                        <td id=\"T_2cfb4_row49_col0\" class=\"data row49 col0\" >-0.006258</td>\n",
       "                        <td id=\"T_2cfb4_row49_col1\" class=\"data row49 col1\" >-0.000064</td>\n",
       "                        <td id=\"T_2cfb4_row49_col2\" class=\"data row49 col2\" >-0.000449</td>\n",
       "                        <td id=\"T_2cfb4_row49_col3\" class=\"data row49 col3\" >0.064337</td>\n",
       "                        <td id=\"T_2cfb4_row49_col4\" class=\"data row49 col4\" >0.064005</td>\n",
       "                        <td id=\"T_2cfb4_row49_col5\" class=\"data row49 col5\" >0.061204</td>\n",
       "                        <td id=\"T_2cfb4_row49_col6\" class=\"data row49 col6\" >0.214012</td>\n",
       "                        <td id=\"T_2cfb4_row49_col7\" class=\"data row49 col7\" >0.066473</td>\n",
       "                        <td id=\"T_2cfb4_row49_col8\" class=\"data row49 col8\" >0.022672</td>\n",
       "                        <td id=\"T_2cfb4_row49_col9\" class=\"data row49 col9\" >0.013376</td>\n",
       "                        <td id=\"T_2cfb4_row49_col10\" class=\"data row49 col10\" >0.015265</td>\n",
       "                        <td id=\"T_2cfb4_row49_col11\" class=\"data row49 col11\" >0.068626</td>\n",
       "                        <td id=\"T_2cfb4_row49_col12\" class=\"data row49 col12\" >-0.018472</td>\n",
       "                        <td id=\"T_2cfb4_row49_col13\" class=\"data row49 col13\" >-0.034142</td>\n",
       "                        <td id=\"T_2cfb4_row49_col14\" class=\"data row49 col14\" >0.019217</td>\n",
       "                        <td id=\"T_2cfb4_row49_col15\" class=\"data row49 col15\" >0.002526</td>\n",
       "                        <td id=\"T_2cfb4_row49_col16\" class=\"data row49 col16\" >0.014595</td>\n",
       "                        <td id=\"T_2cfb4_row49_col17\" class=\"data row49 col17\" >0.040882</td>\n",
       "                        <td id=\"T_2cfb4_row49_col18\" class=\"data row49 col18\" >0.010679</td>\n",
       "                        <td id=\"T_2cfb4_row49_col19\" class=\"data row49 col19\" >0.032695</td>\n",
       "                        <td id=\"T_2cfb4_row49_col20\" class=\"data row49 col20\" >0.032701</td>\n",
       "                        <td id=\"T_2cfb4_row49_col21\" class=\"data row49 col21\" >0.051240</td>\n",
       "                        <td id=\"T_2cfb4_row49_col22\" class=\"data row49 col22\" >0.048691</td>\n",
       "                        <td id=\"T_2cfb4_row49_col23\" class=\"data row49 col23\" >0.007180</td>\n",
       "                        <td id=\"T_2cfb4_row49_col24\" class=\"data row49 col24\" >0.139258</td>\n",
       "                        <td id=\"T_2cfb4_row49_col25\" class=\"data row49 col25\" >0.033060</td>\n",
       "                        <td id=\"T_2cfb4_row49_col26\" class=\"data row49 col26\" >0.048843</td>\n",
       "                        <td id=\"T_2cfb4_row49_col27\" class=\"data row49 col27\" >0.037606</td>\n",
       "                        <td id=\"T_2cfb4_row49_col28\" class=\"data row49 col28\" >0.025406</td>\n",
       "                        <td id=\"T_2cfb4_row49_col29\" class=\"data row49 col29\" >0.005142</td>\n",
       "                        <td id=\"T_2cfb4_row49_col30\" class=\"data row49 col30\" >-0.008294</td>\n",
       "                        <td id=\"T_2cfb4_row49_col31\" class=\"data row49 col31\" >0.011779</td>\n",
       "                        <td id=\"T_2cfb4_row49_col32\" class=\"data row49 col32\" >-0.000209</td>\n",
       "                        <td id=\"T_2cfb4_row49_col33\" class=\"data row49 col33\" >-0.000116</td>\n",
       "                        <td id=\"T_2cfb4_row49_col34\" class=\"data row49 col34\" >-0.007347</td>\n",
       "                        <td id=\"T_2cfb4_row49_col35\" class=\"data row49 col35\" >-0.001247</td>\n",
       "                        <td id=\"T_2cfb4_row49_col36\" class=\"data row49 col36\" >0.001585</td>\n",
       "                        <td id=\"T_2cfb4_row49_col37\" class=\"data row49 col37\" >0.007363</td>\n",
       "                        <td id=\"T_2cfb4_row49_col38\" class=\"data row49 col38\" >0.002938</td>\n",
       "                        <td id=\"T_2cfb4_row49_col39\" class=\"data row49 col39\" >-0.000768</td>\n",
       "                        <td id=\"T_2cfb4_row49_col40\" class=\"data row49 col40\" >-0.042061</td>\n",
       "                        <td id=\"T_2cfb4_row49_col41\" class=\"data row49 col41\" >-0.003690</td>\n",
       "                        <td id=\"T_2cfb4_row49_col42\" class=\"data row49 col42\" >0.044385</td>\n",
       "                        <td id=\"T_2cfb4_row49_col43\" class=\"data row49 col43\" >-0.037047</td>\n",
       "                        <td id=\"T_2cfb4_row49_col44\" class=\"data row49 col44\" >-0.054619</td>\n",
       "                        <td id=\"T_2cfb4_row49_col45\" class=\"data row49 col45\" >-0.051348</td>\n",
       "                        <td id=\"T_2cfb4_row49_col46\" class=\"data row49 col46\" >-0.037642</td>\n",
       "                        <td id=\"T_2cfb4_row49_col47\" class=\"data row49 col47\" >-0.024412</td>\n",
       "                        <td id=\"T_2cfb4_row49_col48\" class=\"data row49 col48\" >-0.014475</td>\n",
       "                        <td id=\"T_2cfb4_row49_col49\" class=\"data row49 col49\" >1.000000</td>\n",
       "                        <td id=\"T_2cfb4_row49_col50\" class=\"data row49 col50\" >-0.000214</td>\n",
       "                        <td id=\"T_2cfb4_row49_col51\" class=\"data row49 col51\" >0.005023</td>\n",
       "                        <td id=\"T_2cfb4_row49_col52\" class=\"data row49 col52\" >-0.001503</td>\n",
       "                        <td id=\"T_2cfb4_row49_col53\" class=\"data row49 col53\" >-0.001586</td>\n",
       "                        <td id=\"T_2cfb4_row49_col54\" class=\"data row49 col54\" >-0.001357</td>\n",
       "                        <td id=\"T_2cfb4_row49_col55\" class=\"data row49 col55\" >-0.002901</td>\n",
       "                        <td id=\"T_2cfb4_row49_col56\" class=\"data row49 col56\" >-0.001446</td>\n",
       "                        <td id=\"T_2cfb4_row49_col57\" class=\"data row49 col57\" >0.000164</td>\n",
       "                        <td id=\"T_2cfb4_row49_col58\" class=\"data row49 col58\" >-0.000542</td>\n",
       "                        <td id=\"T_2cfb4_row49_col59\" class=\"data row49 col59\" >0.000074</td>\n",
       "                        <td id=\"T_2cfb4_row49_col60\" class=\"data row49 col60\" >0.003488</td>\n",
       "                        <td id=\"T_2cfb4_row49_col61\" class=\"data row49 col61\" >0.046119</td>\n",
       "                        <td id=\"T_2cfb4_row49_col62\" class=\"data row49 col62\" >-0.015056</td>\n",
       "                        <td id=\"T_2cfb4_row49_col63\" class=\"data row49 col63\" >-0.014330</td>\n",
       "            </tr>\n",
       "            <tr>\n",
       "                        <th id=\"T_2cfb4_level0_row50\" class=\"row_heading level0 row50\" >emp_length_1 year</th>\n",
       "                        <td id=\"T_2cfb4_row50_col0\" class=\"data row50 col0\" >-0.010691</td>\n",
       "                        <td id=\"T_2cfb4_row50_col1\" class=\"data row50 col1\" >-0.007672</td>\n",
       "                        <td id=\"T_2cfb4_row50_col2\" class=\"data row50 col2\" >-0.008587</td>\n",
       "                        <td id=\"T_2cfb4_row50_col3\" class=\"data row50 col3\" >-0.035959</td>\n",
       "                        <td id=\"T_2cfb4_row50_col4\" class=\"data row50 col4\" >-0.036110</td>\n",
       "                        <td id=\"T_2cfb4_row50_col5\" class=\"data row50 col5\" >-0.038112</td>\n",
       "                        <td id=\"T_2cfb4_row50_col6\" class=\"data row50 col6\" >-0.010032</td>\n",
       "                        <td id=\"T_2cfb4_row50_col7\" class=\"data row50 col7\" >-0.031151</td>\n",
       "                        <td id=\"T_2cfb4_row50_col8\" class=\"data row50 col8\" >-0.022159</td>\n",
       "                        <td id=\"T_2cfb4_row50_col9\" class=\"data row50 col9\" >-0.016443</td>\n",
       "                        <td id=\"T_2cfb4_row50_col10\" class=\"data row50 col10\" >0.000874</td>\n",
       "                        <td id=\"T_2cfb4_row50_col11\" class=\"data row50 col11\" >0.007810</td>\n",
       "                        <td id=\"T_2cfb4_row50_col12\" class=\"data row50 col12\" >-0.013009</td>\n",
       "                        <td id=\"T_2cfb4_row50_col13\" class=\"data row50 col13\" >-0.041286</td>\n",
       "                        <td id=\"T_2cfb4_row50_col14\" class=\"data row50 col14\" >-0.009108</td>\n",
       "                        <td id=\"T_2cfb4_row50_col15\" class=\"data row50 col15\" >-0.018861</td>\n",
       "                        <td id=\"T_2cfb4_row50_col16\" class=\"data row50 col16\" >-0.024073</td>\n",
       "                        <td id=\"T_2cfb4_row50_col17\" class=\"data row50 col17\" >-0.011605</td>\n",
       "                        <td id=\"T_2cfb4_row50_col18\" class=\"data row50 col18\" >-0.028753</td>\n",
       "                        <td id=\"T_2cfb4_row50_col19\" class=\"data row50 col19\" >-0.024932</td>\n",
       "                        <td id=\"T_2cfb4_row50_col20\" class=\"data row50 col20\" >-0.024933</td>\n",
       "                        <td id=\"T_2cfb4_row50_col21\" class=\"data row50 col21\" >-0.024304</td>\n",
       "                        <td id=\"T_2cfb4_row50_col22\" class=\"data row50 col22\" >-0.026416</td>\n",
       "                        <td id=\"T_2cfb4_row50_col23\" class=\"data row50 col23\" >-0.017262</td>\n",
       "                        <td id=\"T_2cfb4_row50_col24\" class=\"data row50 col24\" >-0.031099</td>\n",
       "                        <td id=\"T_2cfb4_row50_col25\" class=\"data row50 col25\" >0.004847</td>\n",
       "                        <td id=\"T_2cfb4_row50_col26\" class=\"data row50 col26\" >-0.004142</td>\n",
       "                        <td id=\"T_2cfb4_row50_col27\" class=\"data row50 col27\" >-0.002958</td>\n",
       "                        <td id=\"T_2cfb4_row50_col28\" class=\"data row50 col28\" >-0.011076</td>\n",
       "                        <td id=\"T_2cfb4_row50_col29\" class=\"data row50 col29\" >0.001547</td>\n",
       "                        <td id=\"T_2cfb4_row50_col30\" class=\"data row50 col30\" >-0.005626</td>\n",
       "                        <td id=\"T_2cfb4_row50_col31\" class=\"data row50 col31\" >-0.001607</td>\n",
       "                        <td id=\"T_2cfb4_row50_col32\" class=\"data row50 col32\" >0.005823</td>\n",
       "                        <td id=\"T_2cfb4_row50_col33\" class=\"data row50 col33\" >-0.029787</td>\n",
       "                        <td id=\"T_2cfb4_row50_col34\" class=\"data row50 col34\" >-0.017364</td>\n",
       "                        <td id=\"T_2cfb4_row50_col35\" class=\"data row50 col35\" >-0.069721</td>\n",
       "                        <td id=\"T_2cfb4_row50_col36\" class=\"data row50 col36\" >-0.000999</td>\n",
       "                        <td id=\"T_2cfb4_row50_col37\" class=\"data row50 col37\" >0.004646</td>\n",
       "                        <td id=\"T_2cfb4_row50_col38\" class=\"data row50 col38\" >-0.007777</td>\n",
       "                        <td id=\"T_2cfb4_row50_col39\" class=\"data row50 col39\" >0.075389</td>\n",
       "                        <td id=\"T_2cfb4_row50_col40\" class=\"data row50 col40\" >0.038949</td>\n",
       "                        <td id=\"T_2cfb4_row50_col41\" class=\"data row50 col41\" >0.005052</td>\n",
       "                        <td id=\"T_2cfb4_row50_col42\" class=\"data row50 col42\" >-0.042691</td>\n",
       "                        <td id=\"T_2cfb4_row50_col43\" class=\"data row50 col43\" >0.005267</td>\n",
       "                        <td id=\"T_2cfb4_row50_col44\" class=\"data row50 col44\" >0.001761</td>\n",
       "                        <td id=\"T_2cfb4_row50_col45\" class=\"data row50 col45\" >-0.003303</td>\n",
       "                        <td id=\"T_2cfb4_row50_col46\" class=\"data row50 col46\" >0.000081</td>\n",
       "                        <td id=\"T_2cfb4_row50_col47\" class=\"data row50 col47\" >-0.002562</td>\n",
       "                        <td id=\"T_2cfb4_row50_col48\" class=\"data row50 col48\" >-0.003623</td>\n",
       "                        <td id=\"T_2cfb4_row50_col49\" class=\"data row50 col49\" >-0.000214</td>\n",
       "                        <td id=\"T_2cfb4_row50_col50\" class=\"data row50 col50\" >1.000000</td>\n",
       "                        <td id=\"T_2cfb4_row50_col51\" class=\"data row50 col51\" >-0.179408</td>\n",
       "                        <td id=\"T_2cfb4_row50_col52\" class=\"data row50 col52\" >-0.081274</td>\n",
       "                        <td id=\"T_2cfb4_row50_col53\" class=\"data row50 col53\" >-0.076012</td>\n",
       "                        <td id=\"T_2cfb4_row50_col54\" class=\"data row50 col54\" >-0.065862</td>\n",
       "                        <td id=\"T_2cfb4_row50_col55\" class=\"data row50 col55\" >-0.069235</td>\n",
       "                        <td id=\"T_2cfb4_row50_col56\" class=\"data row50 col56\" >-0.063438</td>\n",
       "                        <td id=\"T_2cfb4_row50_col57\" class=\"data row50 col57\" >-0.063526</td>\n",
       "                        <td id=\"T_2cfb4_row50_col58\" class=\"data row50 col58\" >-0.058502</td>\n",
       "                        <td id=\"T_2cfb4_row50_col59\" class=\"data row50 col59\" >-0.052023</td>\n",
       "                        <td id=\"T_2cfb4_row50_col60\" class=\"data row50 col60\" >-0.075638</td>\n",
       "                        <td id=\"T_2cfb4_row50_col61\" class=\"data row50 col61\" >0.001971</td>\n",
       "                        <td id=\"T_2cfb4_row50_col62\" class=\"data row50 col62\" >0.014890</td>\n",
       "                        <td id=\"T_2cfb4_row50_col63\" class=\"data row50 col63\" >-0.015840</td>\n",
       "            </tr>\n",
       "            <tr>\n",
       "                        <th id=\"T_2cfb4_level0_row51\" class=\"row_heading level0 row51\" >emp_length_10+ years</th>\n",
       "                        <td id=\"T_2cfb4_row51_col0\" class=\"data row51 col0\" >0.036843</td>\n",
       "                        <td id=\"T_2cfb4_row51_col1\" class=\"data row51 col1\" >0.036949</td>\n",
       "                        <td id=\"T_2cfb4_row51_col2\" class=\"data row51 col2\" >0.039345</td>\n",
       "                        <td id=\"T_2cfb4_row51_col3\" class=\"data row51 col3\" >0.121214</td>\n",
       "                        <td id=\"T_2cfb4_row51_col4\" class=\"data row51 col4\" >0.121560</td>\n",
       "                        <td id=\"T_2cfb4_row51_col5\" class=\"data row51 col5\" >0.123174</td>\n",
       "                        <td id=\"T_2cfb4_row51_col6\" class=\"data row51 col6\" >0.021309</td>\n",
       "                        <td id=\"T_2cfb4_row51_col7\" class=\"data row51 col7\" >0.105021</td>\n",
       "                        <td id=\"T_2cfb4_row51_col8\" class=\"data row51 col8\" >0.095677</td>\n",
       "                        <td id=\"T_2cfb4_row51_col9\" class=\"data row51 col9\" >0.032088</td>\n",
       "                        <td id=\"T_2cfb4_row51_col10\" class=\"data row51 col10\" >0.040497</td>\n",
       "                        <td id=\"T_2cfb4_row51_col11\" class=\"data row51 col11\" >-0.011569</td>\n",
       "                        <td id=\"T_2cfb4_row51_col12\" class=\"data row51 col12\" >-0.032549</td>\n",
       "                        <td id=\"T_2cfb4_row51_col13\" class=\"data row51 col13\" >0.034699</td>\n",
       "                        <td id=\"T_2cfb4_row51_col14\" class=\"data row51 col14\" >0.047774</td>\n",
       "                        <td id=\"T_2cfb4_row51_col15\" class=\"data row51 col15\" >0.019860</td>\n",
       "                        <td id=\"T_2cfb4_row51_col16\" class=\"data row51 col16\" >0.100201</td>\n",
       "                        <td id=\"T_2cfb4_row51_col17\" class=\"data row51 col17\" >0.045013</td>\n",
       "                        <td id=\"T_2cfb4_row51_col18\" class=\"data row51 col18\" >0.119570</td>\n",
       "                        <td id=\"T_2cfb4_row51_col19\" class=\"data row51 col19\" >0.090150</td>\n",
       "                        <td id=\"T_2cfb4_row51_col20\" class=\"data row51 col20\" >0.090149</td>\n",
       "                        <td id=\"T_2cfb4_row51_col21\" class=\"data row51 col21\" >0.080107</td>\n",
       "                        <td id=\"T_2cfb4_row51_col22\" class=\"data row51 col22\" >0.082278</td>\n",
       "                        <td id=\"T_2cfb4_row51_col23\" class=\"data row51 col23\" >0.060057</td>\n",
       "                        <td id=\"T_2cfb4_row51_col24\" class=\"data row51 col24\" >0.095722</td>\n",
       "                        <td id=\"T_2cfb4_row51_col25\" class=\"data row51 col25\" >-0.006819</td>\n",
       "                        <td id=\"T_2cfb4_row51_col26\" class=\"data row51 col26\" >0.003823</td>\n",
       "                        <td id=\"T_2cfb4_row51_col27\" class=\"data row51 col27\" >0.004956</td>\n",
       "                        <td id=\"T_2cfb4_row51_col28\" class=\"data row51 col28\" >0.037727</td>\n",
       "                        <td id=\"T_2cfb4_row51_col29\" class=\"data row51 col29\" >0.001940</td>\n",
       "                        <td id=\"T_2cfb4_row51_col30\" class=\"data row51 col30\" >-0.029087</td>\n",
       "                        <td id=\"T_2cfb4_row51_col31\" class=\"data row51 col31\" >0.010135</td>\n",
       "                        <td id=\"T_2cfb4_row51_col32\" class=\"data row51 col32\" >-0.000453</td>\n",
       "                        <td id=\"T_2cfb4_row51_col33\" class=\"data row51 col33\" >0.099867</td>\n",
       "                        <td id=\"T_2cfb4_row51_col34\" class=\"data row51 col34\" >0.077388</td>\n",
       "                        <td id=\"T_2cfb4_row51_col35\" class=\"data row51 col35\" >0.164262</td>\n",
       "                        <td id=\"T_2cfb4_row51_col36\" class=\"data row51 col36\" >0.000847</td>\n",
       "                        <td id=\"T_2cfb4_row51_col37\" class=\"data row51 col37\" >-0.004315</td>\n",
       "                        <td id=\"T_2cfb4_row51_col38\" class=\"data row51 col38\" >0.009605</td>\n",
       "                        <td id=\"T_2cfb4_row51_col39\" class=\"data row51 col39\" >-0.172778</td>\n",
       "                        <td id=\"T_2cfb4_row51_col40\" class=\"data row51 col40\" >-0.046018</td>\n",
       "                        <td id=\"T_2cfb4_row51_col41\" class=\"data row51 col41\" >0.011126</td>\n",
       "                        <td id=\"T_2cfb4_row51_col42\" class=\"data row51 col42\" >0.033807</td>\n",
       "                        <td id=\"T_2cfb4_row51_col43\" class=\"data row51 col43\" >-0.010589</td>\n",
       "                        <td id=\"T_2cfb4_row51_col44\" class=\"data row51 col44\" >-0.007204</td>\n",
       "                        <td id=\"T_2cfb4_row51_col45\" class=\"data row51 col45\" >0.007104</td>\n",
       "                        <td id=\"T_2cfb4_row51_col46\" class=\"data row51 col46\" >0.001673</td>\n",
       "                        <td id=\"T_2cfb4_row51_col47\" class=\"data row51 col47\" >0.007386</td>\n",
       "                        <td id=\"T_2cfb4_row51_col48\" class=\"data row51 col48\" >0.006084</td>\n",
       "                        <td id=\"T_2cfb4_row51_col49\" class=\"data row51 col49\" >0.005023</td>\n",
       "                        <td id=\"T_2cfb4_row51_col50\" class=\"data row51 col50\" >-0.179408</td>\n",
       "                        <td id=\"T_2cfb4_row51_col51\" class=\"data row51 col51\" >1.000000</td>\n",
       "                        <td id=\"T_2cfb4_row51_col52\" class=\"data row51 col52\" >-0.214940</td>\n",
       "                        <td id=\"T_2cfb4_row51_col53\" class=\"data row51 col53\" >-0.201024</td>\n",
       "                        <td id=\"T_2cfb4_row51_col54\" class=\"data row51 col54\" >-0.174180</td>\n",
       "                        <td id=\"T_2cfb4_row51_col55\" class=\"data row51 col55\" >-0.183102</td>\n",
       "                        <td id=\"T_2cfb4_row51_col56\" class=\"data row51 col56\" >-0.167771</td>\n",
       "                        <td id=\"T_2cfb4_row51_col57\" class=\"data row51 col57\" >-0.168002</td>\n",
       "                        <td id=\"T_2cfb4_row51_col58\" class=\"data row51 col58\" >-0.154716</td>\n",
       "                        <td id=\"T_2cfb4_row51_col59\" class=\"data row51 col59\" >-0.137581</td>\n",
       "                        <td id=\"T_2cfb4_row51_col60\" class=\"data row51 col60\" >-0.200036</td>\n",
       "                        <td id=\"T_2cfb4_row51_col61\" class=\"data row51 col61\" >-0.021375</td>\n",
       "                        <td id=\"T_2cfb4_row51_col62\" class=\"data row51 col62\" >-0.038434</td>\n",
       "                        <td id=\"T_2cfb4_row51_col63\" class=\"data row51 col63\" >0.051158</td>\n",
       "            </tr>\n",
       "            <tr>\n",
       "                        <th id=\"T_2cfb4_level0_row52\" class=\"row_heading level0 row52\" >emp_length_2 years</th>\n",
       "                        <td id=\"T_2cfb4_row52_col0\" class=\"data row52 col0\" >-0.010357</td>\n",
       "                        <td id=\"T_2cfb4_row52_col1\" class=\"data row52 col1\" >-0.006719</td>\n",
       "                        <td id=\"T_2cfb4_row52_col2\" class=\"data row52 col2\" >-0.007628</td>\n",
       "                        <td id=\"T_2cfb4_row52_col3\" class=\"data row52 col3\" >-0.031515</td>\n",
       "                        <td id=\"T_2cfb4_row52_col4\" class=\"data row52 col4\" >-0.031587</td>\n",
       "                        <td id=\"T_2cfb4_row52_col5\" class=\"data row52 col5\" >-0.032362</td>\n",
       "                        <td id=\"T_2cfb4_row52_col6\" class=\"data row52 col6\" >-0.010106</td>\n",
       "                        <td id=\"T_2cfb4_row52_col7\" class=\"data row52 col7\" >-0.027307</td>\n",
       "                        <td id=\"T_2cfb4_row52_col8\" class=\"data row52 col8\" >-0.014218</td>\n",
       "                        <td id=\"T_2cfb4_row52_col9\" class=\"data row52 col9\" >-0.017687</td>\n",
       "                        <td id=\"T_2cfb4_row52_col10\" class=\"data row52 col10\" >0.001035</td>\n",
       "                        <td id=\"T_2cfb4_row52_col11\" class=\"data row52 col11\" >0.004764</td>\n",
       "                        <td id=\"T_2cfb4_row52_col12\" class=\"data row52 col12\" >-0.010911</td>\n",
       "                        <td id=\"T_2cfb4_row52_col13\" class=\"data row52 col13\" >-0.027242</td>\n",
       "                        <td id=\"T_2cfb4_row52_col14\" class=\"data row52 col14\" >-0.006812</td>\n",
       "                        <td id=\"T_2cfb4_row52_col15\" class=\"data row52 col15\" >-0.017361</td>\n",
       "                        <td id=\"T_2cfb4_row52_col16\" class=\"data row52 col16\" >-0.025661</td>\n",
       "                        <td id=\"T_2cfb4_row52_col17\" class=\"data row52 col17\" >-0.014912</td>\n",
       "                        <td id=\"T_2cfb4_row52_col18\" class=\"data row52 col18\" >-0.031635</td>\n",
       "                        <td id=\"T_2cfb4_row52_col19\" class=\"data row52 col19\" >-0.022545</td>\n",
       "                        <td id=\"T_2cfb4_row52_col20\" class=\"data row52 col20\" >-0.022547</td>\n",
       "                        <td id=\"T_2cfb4_row52_col21\" class=\"data row52 col21\" >-0.020411</td>\n",
       "                        <td id=\"T_2cfb4_row52_col22\" class=\"data row52 col22\" >-0.021460</td>\n",
       "                        <td id=\"T_2cfb4_row52_col23\" class=\"data row52 col23\" >-0.013979</td>\n",
       "                        <td id=\"T_2cfb4_row52_col24\" class=\"data row52 col24\" >-0.027980</td>\n",
       "                        <td id=\"T_2cfb4_row52_col25\" class=\"data row52 col25\" >0.003656</td>\n",
       "                        <td id=\"T_2cfb4_row52_col26\" class=\"data row52 col26\" >-0.001686</td>\n",
       "                        <td id=\"T_2cfb4_row52_col27\" class=\"data row52 col27\" >0.000124</td>\n",
       "                        <td id=\"T_2cfb4_row52_col28\" class=\"data row52 col28\" >-0.007593</td>\n",
       "                        <td id=\"T_2cfb4_row52_col29\" class=\"data row52 col29\" >0.001616</td>\n",
       "                        <td id=\"T_2cfb4_row52_col30\" class=\"data row52 col30\" >-0.016410</td>\n",
       "                        <td id=\"T_2cfb4_row52_col31\" class=\"data row52 col31\" >-0.002701</td>\n",
       "                        <td id=\"T_2cfb4_row52_col32\" class=\"data row52 col32\" >-0.000287</td>\n",
       "                        <td id=\"T_2cfb4_row52_col33\" class=\"data row52 col33\" >-0.025790</td>\n",
       "                        <td id=\"T_2cfb4_row52_col34\" class=\"data row52 col34\" >-0.020282</td>\n",
       "                        <td id=\"T_2cfb4_row52_col35\" class=\"data row52 col35\" >-0.065556</td>\n",
       "                        <td id=\"T_2cfb4_row52_col36\" class=\"data row52 col36\" >-0.000318</td>\n",
       "                        <td id=\"T_2cfb4_row52_col37\" class=\"data row52 col37\" >0.002234</td>\n",
       "                        <td id=\"T_2cfb4_row52_col38\" class=\"data row52 col38\" >-0.010635</td>\n",
       "                        <td id=\"T_2cfb4_row52_col39\" class=\"data row52 col39\" >0.072892</td>\n",
       "                        <td id=\"T_2cfb4_row52_col40\" class=\"data row52 col40\" >0.038417</td>\n",
       "                        <td id=\"T_2cfb4_row52_col41\" class=\"data row52 col41\" >0.002251</td>\n",
       "                        <td id=\"T_2cfb4_row52_col42\" class=\"data row52 col42\" >-0.039450</td>\n",
       "                        <td id=\"T_2cfb4_row52_col43\" class=\"data row52 col43\" >0.004441</td>\n",
       "                        <td id=\"T_2cfb4_row52_col44\" class=\"data row52 col44\" >0.004809</td>\n",
       "                        <td id=\"T_2cfb4_row52_col45\" class=\"data row52 col45\" >-0.005139</td>\n",
       "                        <td id=\"T_2cfb4_row52_col46\" class=\"data row52 col46\" >-0.000982</td>\n",
       "                        <td id=\"T_2cfb4_row52_col47\" class=\"data row52 col47\" >-0.002654</td>\n",
       "                        <td id=\"T_2cfb4_row52_col48\" class=\"data row52 col48\" >-0.002081</td>\n",
       "                        <td id=\"T_2cfb4_row52_col49\" class=\"data row52 col49\" >-0.001503</td>\n",
       "                        <td id=\"T_2cfb4_row52_col50\" class=\"data row52 col50\" >-0.081274</td>\n",
       "                        <td id=\"T_2cfb4_row52_col51\" class=\"data row52 col51\" >-0.214940</td>\n",
       "                        <td id=\"T_2cfb4_row52_col52\" class=\"data row52 col52\" >1.000000</td>\n",
       "                        <td id=\"T_2cfb4_row52_col53\" class=\"data row52 col53\" >-0.091066</td>\n",
       "                        <td id=\"T_2cfb4_row52_col54\" class=\"data row52 col54\" >-0.078906</td>\n",
       "                        <td id=\"T_2cfb4_row52_col55\" class=\"data row52 col55\" >-0.082947</td>\n",
       "                        <td id=\"T_2cfb4_row52_col56\" class=\"data row52 col56\" >-0.076002</td>\n",
       "                        <td id=\"T_2cfb4_row52_col57\" class=\"data row52 col57\" >-0.076107</td>\n",
       "                        <td id=\"T_2cfb4_row52_col58\" class=\"data row52 col58\" >-0.070088</td>\n",
       "                        <td id=\"T_2cfb4_row52_col59\" class=\"data row52 col59\" >-0.062326</td>\n",
       "                        <td id=\"T_2cfb4_row52_col60\" class=\"data row52 col60\" >-0.090618</td>\n",
       "                        <td id=\"T_2cfb4_row52_col61\" class=\"data row52 col61\" >0.000395</td>\n",
       "                        <td id=\"T_2cfb4_row52_col62\" class=\"data row52 col62\" >0.017502</td>\n",
       "                        <td id=\"T_2cfb4_row52_col63\" class=\"data row52 col63\" >-0.017406</td>\n",
       "            </tr>\n",
       "            <tr>\n",
       "                        <th id=\"T_2cfb4_level0_row53\" class=\"row_heading level0 row53\" >emp_length_3 years</th>\n",
       "                        <td id=\"T_2cfb4_row53_col0\" class=\"data row53 col0\" >-0.010515</td>\n",
       "                        <td id=\"T_2cfb4_row53_col1\" class=\"data row53 col1\" >-0.005480</td>\n",
       "                        <td id=\"T_2cfb4_row53_col2\" class=\"data row53 col2\" >-0.006039</td>\n",
       "                        <td id=\"T_2cfb4_row53_col3\" class=\"data row53 col3\" >-0.024399</td>\n",
       "                        <td id=\"T_2cfb4_row53_col4\" class=\"data row53 col4\" >-0.024713</td>\n",
       "                        <td id=\"T_2cfb4_row53_col5\" class=\"data row53 col5\" >-0.025077</td>\n",
       "                        <td id=\"T_2cfb4_row53_col6\" class=\"data row53 col6\" >-0.010098</td>\n",
       "                        <td id=\"T_2cfb4_row53_col7\" class=\"data row53 col7\" >-0.020440</td>\n",
       "                        <td id=\"T_2cfb4_row53_col8\" class=\"data row53 col8\" >-0.008522</td>\n",
       "                        <td id=\"T_2cfb4_row53_col9\" class=\"data row53 col9\" >-0.014178</td>\n",
       "                        <td id=\"T_2cfb4_row53_col10\" class=\"data row53 col10\" >-0.008585</td>\n",
       "                        <td id=\"T_2cfb4_row53_col11\" class=\"data row53 col11\" >0.002911</td>\n",
       "                        <td id=\"T_2cfb4_row53_col12\" class=\"data row53 col12\" >0.001132</td>\n",
       "                        <td id=\"T_2cfb4_row53_col13\" class=\"data row53 col13\" >-0.028471</td>\n",
       "                        <td id=\"T_2cfb4_row53_col14\" class=\"data row53 col14\" >-0.005422</td>\n",
       "                        <td id=\"T_2cfb4_row53_col15\" class=\"data row53 col15\" >-0.010705</td>\n",
       "                        <td id=\"T_2cfb4_row53_col16\" class=\"data row53 col16\" >-0.023756</td>\n",
       "                        <td id=\"T_2cfb4_row53_col17\" class=\"data row53 col17\" >-0.014456</td>\n",
       "                        <td id=\"T_2cfb4_row53_col18\" class=\"data row53 col18\" >-0.025645</td>\n",
       "                        <td id=\"T_2cfb4_row53_col19\" class=\"data row53 col19\" >-0.017860</td>\n",
       "                        <td id=\"T_2cfb4_row53_col20\" class=\"data row53 col20\" >-0.017856</td>\n",
       "                        <td id=\"T_2cfb4_row53_col21\" class=\"data row53 col21\" >-0.015537</td>\n",
       "                        <td id=\"T_2cfb4_row53_col22\" class=\"data row53 col22\" >-0.016077</td>\n",
       "                        <td id=\"T_2cfb4_row53_col23\" class=\"data row53 col23\" >-0.010376</td>\n",
       "                        <td id=\"T_2cfb4_row53_col24\" class=\"data row53 col24\" >-0.021462</td>\n",
       "                        <td id=\"T_2cfb4_row53_col25\" class=\"data row53 col25\" >0.002513</td>\n",
       "                        <td id=\"T_2cfb4_row53_col26\" class=\"data row53 col26\" >-0.003929</td>\n",
       "                        <td id=\"T_2cfb4_row53_col27\" class=\"data row53 col27\" >-0.001788</td>\n",
       "                        <td id=\"T_2cfb4_row53_col28\" class=\"data row53 col28\" >-0.008047</td>\n",
       "                        <td id=\"T_2cfb4_row53_col29\" class=\"data row53 col29\" >0.002027</td>\n",
       "                        <td id=\"T_2cfb4_row53_col30\" class=\"data row53 col30\" >-0.004215</td>\n",
       "                        <td id=\"T_2cfb4_row53_col31\" class=\"data row53 col31\" >-0.004120</td>\n",
       "                        <td id=\"T_2cfb4_row53_col32\" class=\"data row53 col32\" >-0.000773</td>\n",
       "                        <td id=\"T_2cfb4_row53_col33\" class=\"data row53 col33\" >-0.020332</td>\n",
       "                        <td id=\"T_2cfb4_row53_col34\" class=\"data row53 col34\" >-0.016547</td>\n",
       "                        <td id=\"T_2cfb4_row53_col35\" class=\"data row53 col35\" >-0.043771</td>\n",
       "                        <td id=\"T_2cfb4_row53_col36\" class=\"data row53 col36\" >-0.001482</td>\n",
       "                        <td id=\"T_2cfb4_row53_col37\" class=\"data row53 col37\" >0.001096</td>\n",
       "                        <td id=\"T_2cfb4_row53_col38\" class=\"data row53 col38\" >-0.008388</td>\n",
       "                        <td id=\"T_2cfb4_row53_col39\" class=\"data row53 col39\" >0.049461</td>\n",
       "                        <td id=\"T_2cfb4_row53_col40\" class=\"data row53 col40\" >0.029038</td>\n",
       "                        <td id=\"T_2cfb4_row53_col41\" class=\"data row53 col41\" >0.002613</td>\n",
       "                        <td id=\"T_2cfb4_row53_col42\" class=\"data row53 col42\" >-0.030705</td>\n",
       "                        <td id=\"T_2cfb4_row53_col43\" class=\"data row53 col43\" >0.005087</td>\n",
       "                        <td id=\"T_2cfb4_row53_col44\" class=\"data row53 col44\" >0.001720</td>\n",
       "                        <td id=\"T_2cfb4_row53_col45\" class=\"data row53 col45\" >-0.001861</td>\n",
       "                        <td id=\"T_2cfb4_row53_col46\" class=\"data row53 col46\" >-0.000829</td>\n",
       "                        <td id=\"T_2cfb4_row53_col47\" class=\"data row53 col47\" >-0.003636</td>\n",
       "                        <td id=\"T_2cfb4_row53_col48\" class=\"data row53 col48\" >-0.002511</td>\n",
       "                        <td id=\"T_2cfb4_row53_col49\" class=\"data row53 col49\" >-0.001586</td>\n",
       "                        <td id=\"T_2cfb4_row53_col50\" class=\"data row53 col50\" >-0.076012</td>\n",
       "                        <td id=\"T_2cfb4_row53_col51\" class=\"data row53 col51\" >-0.201024</td>\n",
       "                        <td id=\"T_2cfb4_row53_col52\" class=\"data row53 col52\" >-0.091066</td>\n",
       "                        <td id=\"T_2cfb4_row53_col53\" class=\"data row53 col53\" >1.000000</td>\n",
       "                        <td id=\"T_2cfb4_row53_col54\" class=\"data row53 col54\" >-0.073797</td>\n",
       "                        <td id=\"T_2cfb4_row53_col55\" class=\"data row53 col55\" >-0.077577</td>\n",
       "                        <td id=\"T_2cfb4_row53_col56\" class=\"data row53 col56\" >-0.071081</td>\n",
       "                        <td id=\"T_2cfb4_row53_col57\" class=\"data row53 col57\" >-0.071179</td>\n",
       "                        <td id=\"T_2cfb4_row53_col58\" class=\"data row53 col58\" >-0.065550</td>\n",
       "                        <td id=\"T_2cfb4_row53_col59\" class=\"data row53 col59\" >-0.058290</td>\n",
       "                        <td id=\"T_2cfb4_row53_col60\" class=\"data row53 col60\" >-0.084751</td>\n",
       "                        <td id=\"T_2cfb4_row53_col61\" class=\"data row53 col61\" >0.000307</td>\n",
       "                        <td id=\"T_2cfb4_row53_col62\" class=\"data row53 col62\" >0.010286</td>\n",
       "                        <td id=\"T_2cfb4_row53_col63\" class=\"data row53 col63\" >-0.010277</td>\n",
       "            </tr>\n",
       "            <tr>\n",
       "                        <th id=\"T_2cfb4_level0_row54\" class=\"row_heading level0 row54\" >emp_length_4 years</th>\n",
       "                        <td id=\"T_2cfb4_row54_col0\" class=\"data row54 col0\" >-0.013401</td>\n",
       "                        <td id=\"T_2cfb4_row54_col1\" class=\"data row54 col1\" >-0.012944</td>\n",
       "                        <td id=\"T_2cfb4_row54_col2\" class=\"data row54 col2\" >-0.014048</td>\n",
       "                        <td id=\"T_2cfb4_row54_col3\" class=\"data row54 col3\" >-0.018641</td>\n",
       "                        <td id=\"T_2cfb4_row54_col4\" class=\"data row54 col4\" >-0.018853</td>\n",
       "                        <td id=\"T_2cfb4_row54_col5\" class=\"data row54 col5\" >-0.019251</td>\n",
       "                        <td id=\"T_2cfb4_row54_col6\" class=\"data row54 col6\" >-0.007603</td>\n",
       "                        <td id=\"T_2cfb4_row54_col7\" class=\"data row54 col7\" >-0.015544</td>\n",
       "                        <td id=\"T_2cfb4_row54_col8\" class=\"data row54 col8\" >-0.008298</td>\n",
       "                        <td id=\"T_2cfb4_row54_col9\" class=\"data row54 col9\" >-0.012261</td>\n",
       "                        <td id=\"T_2cfb4_row54_col10\" class=\"data row54 col10\" >-0.012873</td>\n",
       "                        <td id=\"T_2cfb4_row54_col11\" class=\"data row54 col11\" >0.002586</td>\n",
       "                        <td id=\"T_2cfb4_row54_col12\" class=\"data row54 col12\" >0.013431</td>\n",
       "                        <td id=\"T_2cfb4_row54_col13\" class=\"data row54 col13\" >-0.025985</td>\n",
       "                        <td id=\"T_2cfb4_row54_col14\" class=\"data row54 col14\" >-0.007520</td>\n",
       "                        <td id=\"T_2cfb4_row54_col15\" class=\"data row54 col15\" >-0.008576</td>\n",
       "                        <td id=\"T_2cfb4_row54_col16\" class=\"data row54 col16\" >-0.020667</td>\n",
       "                        <td id=\"T_2cfb4_row54_col17\" class=\"data row54 col17\" >-0.012545</td>\n",
       "                        <td id=\"T_2cfb4_row54_col18\" class=\"data row54 col18\" >-0.025795</td>\n",
       "                        <td id=\"T_2cfb4_row54_col19\" class=\"data row54 col19\" >-0.017530</td>\n",
       "                        <td id=\"T_2cfb4_row54_col20\" class=\"data row54 col20\" >-0.017527</td>\n",
       "                        <td id=\"T_2cfb4_row54_col21\" class=\"data row54 col21\" >-0.008810</td>\n",
       "                        <td id=\"T_2cfb4_row54_col22\" class=\"data row54 col22\" >-0.009261</td>\n",
       "                        <td id=\"T_2cfb4_row54_col23\" class=\"data row54 col23\" >-0.005309</td>\n",
       "                        <td id=\"T_2cfb4_row54_col24\" class=\"data row54 col24\" >-0.014282</td>\n",
       "                        <td id=\"T_2cfb4_row54_col25\" class=\"data row54 col25\" >0.002876</td>\n",
       "                        <td id=\"T_2cfb4_row54_col26\" class=\"data row54 col26\" >-0.000059</td>\n",
       "                        <td id=\"T_2cfb4_row54_col27\" class=\"data row54 col27\" >-0.002468</td>\n",
       "                        <td id=\"T_2cfb4_row54_col28\" class=\"data row54 col28\" >-0.006219</td>\n",
       "                        <td id=\"T_2cfb4_row54_col29\" class=\"data row54 col29\" >-0.000295</td>\n",
       "                        <td id=\"T_2cfb4_row54_col30\" class=\"data row54 col30\" >0.010547</td>\n",
       "                        <td id=\"T_2cfb4_row54_col31\" class=\"data row54 col31\" >-0.003833</td>\n",
       "                        <td id=\"T_2cfb4_row54_col32\" class=\"data row54 col32\" >-0.000299</td>\n",
       "                        <td id=\"T_2cfb4_row54_col33\" class=\"data row54 col33\" >-0.013810</td>\n",
       "                        <td id=\"T_2cfb4_row54_col34\" class=\"data row54 col34\" >-0.014729</td>\n",
       "                        <td id=\"T_2cfb4_row54_col35\" class=\"data row54 col35\" >-0.029483</td>\n",
       "                        <td id=\"T_2cfb4_row54_col36\" class=\"data row54 col36\" >-0.001747</td>\n",
       "                        <td id=\"T_2cfb4_row54_col37\" class=\"data row54 col37\" >0.000485</td>\n",
       "                        <td id=\"T_2cfb4_row54_col38\" class=\"data row54 col38\" >-0.007411</td>\n",
       "                        <td id=\"T_2cfb4_row54_col39\" class=\"data row54 col39\" >0.034366</td>\n",
       "                        <td id=\"T_2cfb4_row54_col40\" class=\"data row54 col40\" >0.025522</td>\n",
       "                        <td id=\"T_2cfb4_row54_col41\" class=\"data row54 col41\" >-0.002130</td>\n",
       "                        <td id=\"T_2cfb4_row54_col42\" class=\"data row54 col42\" >-0.022682</td>\n",
       "                        <td id=\"T_2cfb4_row54_col43\" class=\"data row54 col43\" >0.004784</td>\n",
       "                        <td id=\"T_2cfb4_row54_col44\" class=\"data row54 col44\" >-0.000579</td>\n",
       "                        <td id=\"T_2cfb4_row54_col45\" class=\"data row54 col45\" >-0.002420</td>\n",
       "                        <td id=\"T_2cfb4_row54_col46\" class=\"data row54 col46\" >0.000439</td>\n",
       "                        <td id=\"T_2cfb4_row54_col47\" class=\"data row54 col47\" >-0.001015</td>\n",
       "                        <td id=\"T_2cfb4_row54_col48\" class=\"data row54 col48\" >-0.001199</td>\n",
       "                        <td id=\"T_2cfb4_row54_col49\" class=\"data row54 col49\" >-0.001357</td>\n",
       "                        <td id=\"T_2cfb4_row54_col50\" class=\"data row54 col50\" >-0.065862</td>\n",
       "                        <td id=\"T_2cfb4_row54_col51\" class=\"data row54 col51\" >-0.174180</td>\n",
       "                        <td id=\"T_2cfb4_row54_col52\" class=\"data row54 col52\" >-0.078906</td>\n",
       "                        <td id=\"T_2cfb4_row54_col53\" class=\"data row54 col53\" >-0.073797</td>\n",
       "                        <td id=\"T_2cfb4_row54_col54\" class=\"data row54 col54\" >1.000000</td>\n",
       "                        <td id=\"T_2cfb4_row54_col55\" class=\"data row54 col55\" >-0.067218</td>\n",
       "                        <td id=\"T_2cfb4_row54_col56\" class=\"data row54 col56\" >-0.061590</td>\n",
       "                        <td id=\"T_2cfb4_row54_col57\" class=\"data row54 col57\" >-0.061674</td>\n",
       "                        <td id=\"T_2cfb4_row54_col58\" class=\"data row54 col58\" >-0.056797</td>\n",
       "                        <td id=\"T_2cfb4_row54_col59\" class=\"data row54 col59\" >-0.050507</td>\n",
       "                        <td id=\"T_2cfb4_row54_col60\" class=\"data row54 col60\" >-0.073434</td>\n",
       "                        <td id=\"T_2cfb4_row54_col61\" class=\"data row54 col61\" >0.000419</td>\n",
       "                        <td id=\"T_2cfb4_row54_col62\" class=\"data row54 col62\" >0.018952</td>\n",
       "                        <td id=\"T_2cfb4_row54_col63\" class=\"data row54 col63\" >-0.018843</td>\n",
       "            </tr>\n",
       "            <tr>\n",
       "                        <th id=\"T_2cfb4_level0_row55\" class=\"row_heading level0 row55\" >emp_length_5 years</th>\n",
       "                        <td id=\"T_2cfb4_row55_col0\" class=\"data row55 col0\" >-0.031207</td>\n",
       "                        <td id=\"T_2cfb4_row55_col1\" class=\"data row55 col1\" >-0.043081</td>\n",
       "                        <td id=\"T_2cfb4_row55_col2\" class=\"data row55 col2\" >-0.043288</td>\n",
       "                        <td id=\"T_2cfb4_row55_col3\" class=\"data row55 col3\" >-0.015999</td>\n",
       "                        <td id=\"T_2cfb4_row55_col4\" class=\"data row55 col4\" >-0.016117</td>\n",
       "                        <td id=\"T_2cfb4_row55_col5\" class=\"data row55 col5\" >-0.016039</td>\n",
       "                        <td id=\"T_2cfb4_row55_col6\" class=\"data row55 col6\" >-0.002141</td>\n",
       "                        <td id=\"T_2cfb4_row55_col7\" class=\"data row55 col7\" >-0.013628</td>\n",
       "                        <td id=\"T_2cfb4_row55_col8\" class=\"data row55 col8\" >-0.005901</td>\n",
       "                        <td id=\"T_2cfb4_row55_col9\" class=\"data row55 col9\" >-0.009550</td>\n",
       "                        <td id=\"T_2cfb4_row55_col10\" class=\"data row55 col10\" >-0.015019</td>\n",
       "                        <td id=\"T_2cfb4_row55_col11\" class=\"data row55 col11\" >0.004992</td>\n",
       "                        <td id=\"T_2cfb4_row55_col12\" class=\"data row55 col12\" >0.020860</td>\n",
       "                        <td id=\"T_2cfb4_row55_col13\" class=\"data row55 col13\" >-0.004004</td>\n",
       "                        <td id=\"T_2cfb4_row55_col14\" class=\"data row55 col14\" >-0.006819</td>\n",
       "                        <td id=\"T_2cfb4_row55_col15\" class=\"data row55 col15\" >-0.009808</td>\n",
       "                        <td id=\"T_2cfb4_row55_col16\" class=\"data row55 col16\" >-0.016454</td>\n",
       "                        <td id=\"T_2cfb4_row55_col17\" class=\"data row55 col17\" >-0.010623</td>\n",
       "                        <td id=\"T_2cfb4_row55_col18\" class=\"data row55 col18\" >-0.025272</td>\n",
       "                        <td id=\"T_2cfb4_row55_col19\" class=\"data row55 col19\" >-0.030723</td>\n",
       "                        <td id=\"T_2cfb4_row55_col20\" class=\"data row55 col20\" >-0.030722</td>\n",
       "                        <td id=\"T_2cfb4_row55_col21\" class=\"data row55 col21\" >0.004838</td>\n",
       "                        <td id=\"T_2cfb4_row55_col22\" class=\"data row55 col22\" >0.004860</td>\n",
       "                        <td id=\"T_2cfb4_row55_col23\" class=\"data row55 col23\" >0.007776</td>\n",
       "                        <td id=\"T_2cfb4_row55_col24\" class=\"data row55 col24\" >-0.006323</td>\n",
       "                        <td id=\"T_2cfb4_row55_col25\" class=\"data row55 col25\" >0.001000</td>\n",
       "                        <td id=\"T_2cfb4_row55_col26\" class=\"data row55 col26\" >0.001833</td>\n",
       "                        <td id=\"T_2cfb4_row55_col27\" class=\"data row55 col27\" >-0.000480</td>\n",
       "                        <td id=\"T_2cfb4_row55_col28\" class=\"data row55 col28\" >0.003277</td>\n",
       "                        <td id=\"T_2cfb4_row55_col29\" class=\"data row55 col29\" >-0.005690</td>\n",
       "                        <td id=\"T_2cfb4_row55_col30\" class=\"data row55 col30\" >0.024267</td>\n",
       "                        <td id=\"T_2cfb4_row55_col31\" class=\"data row55 col31\" >-0.004047</td>\n",
       "                        <td id=\"T_2cfb4_row55_col32\" class=\"data row55 col32\" >-0.000840</td>\n",
       "                        <td id=\"T_2cfb4_row55_col33\" class=\"data row55 col33\" >-0.010305</td>\n",
       "                        <td id=\"T_2cfb4_row55_col34\" class=\"data row55 col34\" >-0.012303</td>\n",
       "                        <td id=\"T_2cfb4_row55_col35\" class=\"data row55 col35\" >-0.016632</td>\n",
       "                        <td id=\"T_2cfb4_row55_col36\" class=\"data row55 col36\" >-0.001084</td>\n",
       "                        <td id=\"T_2cfb4_row55_col37\" class=\"data row55 col37\" >-0.000442</td>\n",
       "                        <td id=\"T_2cfb4_row55_col38\" class=\"data row55 col38\" >-0.003007</td>\n",
       "                        <td id=\"T_2cfb4_row55_col39\" class=\"data row55 col39\" >0.018718</td>\n",
       "                        <td id=\"T_2cfb4_row55_col40\" class=\"data row55 col40\" >0.018528</td>\n",
       "                        <td id=\"T_2cfb4_row55_col41\" class=\"data row55 col41\" >-0.007302</td>\n",
       "                        <td id=\"T_2cfb4_row55_col42\" class=\"data row55 col42\" >-0.010866</td>\n",
       "                        <td id=\"T_2cfb4_row55_col43\" class=\"data row55 col43\" >0.004426</td>\n",
       "                        <td id=\"T_2cfb4_row55_col44\" class=\"data row55 col44\" >0.002887</td>\n",
       "                        <td id=\"T_2cfb4_row55_col45\" class=\"data row55 col45\" >-0.003348</td>\n",
       "                        <td id=\"T_2cfb4_row55_col46\" class=\"data row55 col46\" >-0.002221</td>\n",
       "                        <td id=\"T_2cfb4_row55_col47\" class=\"data row55 col47\" >-0.001389</td>\n",
       "                        <td id=\"T_2cfb4_row55_col48\" class=\"data row55 col48\" >-0.000108</td>\n",
       "                        <td id=\"T_2cfb4_row55_col49\" class=\"data row55 col49\" >-0.002901</td>\n",
       "                        <td id=\"T_2cfb4_row55_col50\" class=\"data row55 col50\" >-0.069235</td>\n",
       "                        <td id=\"T_2cfb4_row55_col51\" class=\"data row55 col51\" >-0.183102</td>\n",
       "                        <td id=\"T_2cfb4_row55_col52\" class=\"data row55 col52\" >-0.082947</td>\n",
       "                        <td id=\"T_2cfb4_row55_col53\" class=\"data row55 col53\" >-0.077577</td>\n",
       "                        <td id=\"T_2cfb4_row55_col54\" class=\"data row55 col54\" >-0.067218</td>\n",
       "                        <td id=\"T_2cfb4_row55_col55\" class=\"data row55 col55\" >1.000000</td>\n",
       "                        <td id=\"T_2cfb4_row55_col56\" class=\"data row55 col56\" >-0.064744</td>\n",
       "                        <td id=\"T_2cfb4_row55_col57\" class=\"data row55 col57\" >-0.064833</td>\n",
       "                        <td id=\"T_2cfb4_row55_col58\" class=\"data row55 col58\" >-0.059706</td>\n",
       "                        <td id=\"T_2cfb4_row55_col59\" class=\"data row55 col59\" >-0.053094</td>\n",
       "                        <td id=\"T_2cfb4_row55_col60\" class=\"data row55 col60\" >-0.077196</td>\n",
       "                        <td id=\"T_2cfb4_row55_col61\" class=\"data row55 col61\" >0.004572</td>\n",
       "                        <td id=\"T_2cfb4_row55_col62\" class=\"data row55 col62\" >0.024026</td>\n",
       "                        <td id=\"T_2cfb4_row55_col63\" class=\"data row55 col63\" >-0.026436</td>\n",
       "            </tr>\n",
       "            <tr>\n",
       "                        <th id=\"T_2cfb4_level0_row56\" class=\"row_heading level0 row56\" >emp_length_6 years</th>\n",
       "                        <td id=\"T_2cfb4_row56_col0\" class=\"data row56 col0\" >-0.013658</td>\n",
       "                        <td id=\"T_2cfb4_row56_col1\" class=\"data row56 col1\" >-0.027317</td>\n",
       "                        <td id=\"T_2cfb4_row56_col2\" class=\"data row56 col2\" >-0.027550</td>\n",
       "                        <td id=\"T_2cfb4_row56_col3\" class=\"data row56 col3\" >-0.006887</td>\n",
       "                        <td id=\"T_2cfb4_row56_col4\" class=\"data row56 col4\" >-0.006992</td>\n",
       "                        <td id=\"T_2cfb4_row56_col5\" class=\"data row56 col5\" >-0.006746</td>\n",
       "                        <td id=\"T_2cfb4_row56_col6\" class=\"data row56 col6\" >0.001526</td>\n",
       "                        <td id=\"T_2cfb4_row56_col7\" class=\"data row56 col7\" >-0.005348</td>\n",
       "                        <td id=\"T_2cfb4_row56_col8\" class=\"data row56 col8\" >-0.005948</td>\n",
       "                        <td id=\"T_2cfb4_row56_col9\" class=\"data row56 col9\" >-0.002013</td>\n",
       "                        <td id=\"T_2cfb4_row56_col10\" class=\"data row56 col10\" >-0.011034</td>\n",
       "                        <td id=\"T_2cfb4_row56_col11\" class=\"data row56 col11\" >0.002440</td>\n",
       "                        <td id=\"T_2cfb4_row56_col12\" class=\"data row56 col12\" >0.024398</td>\n",
       "                        <td id=\"T_2cfb4_row56_col13\" class=\"data row56 col13\" >0.009106</td>\n",
       "                        <td id=\"T_2cfb4_row56_col14\" class=\"data row56 col14\" >-0.001881</td>\n",
       "                        <td id=\"T_2cfb4_row56_col15\" class=\"data row56 col15\" >-0.003040</td>\n",
       "                        <td id=\"T_2cfb4_row56_col16\" class=\"data row56 col16\" >-0.012758</td>\n",
       "                        <td id=\"T_2cfb4_row56_col17\" class=\"data row56 col17\" >-0.001311</td>\n",
       "                        <td id=\"T_2cfb4_row56_col18\" class=\"data row56 col18\" >-0.016016</td>\n",
       "                        <td id=\"T_2cfb4_row56_col19\" class=\"data row56 col19\" >-0.018802</td>\n",
       "                        <td id=\"T_2cfb4_row56_col20\" class=\"data row56 col20\" >-0.018798</td>\n",
       "                        <td id=\"T_2cfb4_row56_col21\" class=\"data row56 col21\" >0.004947</td>\n",
       "                        <td id=\"T_2cfb4_row56_col22\" class=\"data row56 col22\" >0.005238</td>\n",
       "                        <td id=\"T_2cfb4_row56_col23\" class=\"data row56 col23\" >0.006008</td>\n",
       "                        <td id=\"T_2cfb4_row56_col24\" class=\"data row56 col24\" >-0.001400</td>\n",
       "                        <td id=\"T_2cfb4_row56_col25\" class=\"data row56 col25\" >0.000084</td>\n",
       "                        <td id=\"T_2cfb4_row56_col26\" class=\"data row56 col26\" >0.003825</td>\n",
       "                        <td id=\"T_2cfb4_row56_col27\" class=\"data row56 col27\" >-0.000715</td>\n",
       "                        <td id=\"T_2cfb4_row56_col28\" class=\"data row56 col28\" >0.005089</td>\n",
       "                        <td id=\"T_2cfb4_row56_col29\" class=\"data row56 col29\" >-0.002937</td>\n",
       "                        <td id=\"T_2cfb4_row56_col30\" class=\"data row56 col30\" >0.026266</td>\n",
       "                        <td id=\"T_2cfb4_row56_col31\" class=\"data row56 col31\" >-0.003466</td>\n",
       "                        <td id=\"T_2cfb4_row56_col32\" class=\"data row56 col32\" >-0.000589</td>\n",
       "                        <td id=\"T_2cfb4_row56_col33\" class=\"data row56 col33\" >-0.003859</td>\n",
       "                        <td id=\"T_2cfb4_row56_col34\" class=\"data row56 col34\" >-0.013440</td>\n",
       "                        <td id=\"T_2cfb4_row56_col35\" class=\"data row56 col35\" >0.000712</td>\n",
       "                        <td id=\"T_2cfb4_row56_col36\" class=\"data row56 col36\" >0.001982</td>\n",
       "                        <td id=\"T_2cfb4_row56_col37\" class=\"data row56 col37\" >0.000381</td>\n",
       "                        <td id=\"T_2cfb4_row56_col38\" class=\"data row56 col38\" >-0.006258</td>\n",
       "                        <td id=\"T_2cfb4_row56_col39\" class=\"data row56 col39\" >0.002858</td>\n",
       "                        <td id=\"T_2cfb4_row56_col40\" class=\"data row56 col40\" >0.012291</td>\n",
       "                        <td id=\"T_2cfb4_row56_col41\" class=\"data row56 col41\" >-0.004663</td>\n",
       "                        <td id=\"T_2cfb4_row56_col42\" class=\"data row56 col42\" >-0.007384</td>\n",
       "                        <td id=\"T_2cfb4_row56_col43\" class=\"data row56 col43\" >-0.000089</td>\n",
       "                        <td id=\"T_2cfb4_row56_col44\" class=\"data row56 col44\" >0.001433</td>\n",
       "                        <td id=\"T_2cfb4_row56_col45\" class=\"data row56 col45\" >0.001486</td>\n",
       "                        <td id=\"T_2cfb4_row56_col46\" class=\"data row56 col46\" >-0.001554</td>\n",
       "                        <td id=\"T_2cfb4_row56_col47\" class=\"data row56 col47\" >-0.003203</td>\n",
       "                        <td id=\"T_2cfb4_row56_col48\" class=\"data row56 col48\" >0.001638</td>\n",
       "                        <td id=\"T_2cfb4_row56_col49\" class=\"data row56 col49\" >-0.001446</td>\n",
       "                        <td id=\"T_2cfb4_row56_col50\" class=\"data row56 col50\" >-0.063438</td>\n",
       "                        <td id=\"T_2cfb4_row56_col51\" class=\"data row56 col51\" >-0.167771</td>\n",
       "                        <td id=\"T_2cfb4_row56_col52\" class=\"data row56 col52\" >-0.076002</td>\n",
       "                        <td id=\"T_2cfb4_row56_col53\" class=\"data row56 col53\" >-0.071081</td>\n",
       "                        <td id=\"T_2cfb4_row56_col54\" class=\"data row56 col54\" >-0.061590</td>\n",
       "                        <td id=\"T_2cfb4_row56_col55\" class=\"data row56 col55\" >-0.064744</td>\n",
       "                        <td id=\"T_2cfb4_row56_col56\" class=\"data row56 col56\" >1.000000</td>\n",
       "                        <td id=\"T_2cfb4_row56_col57\" class=\"data row56 col57\" >-0.059405</td>\n",
       "                        <td id=\"T_2cfb4_row56_col58\" class=\"data row56 col58\" >-0.054707</td>\n",
       "                        <td id=\"T_2cfb4_row56_col59\" class=\"data row56 col59\" >-0.048648</td>\n",
       "                        <td id=\"T_2cfb4_row56_col60\" class=\"data row56 col60\" >-0.070732</td>\n",
       "                        <td id=\"T_2cfb4_row56_col61\" class=\"data row56 col61\" >0.005726</td>\n",
       "                        <td id=\"T_2cfb4_row56_col62\" class=\"data row56 col62\" >0.013847</td>\n",
       "                        <td id=\"T_2cfb4_row56_col63\" class=\"data row56 col63\" >-0.017185</td>\n",
       "            </tr>\n",
       "            <tr>\n",
       "                        <th id=\"T_2cfb4_level0_row57\" class=\"row_heading level0 row57\" >emp_length_7 years</th>\n",
       "                        <td id=\"T_2cfb4_row57_col0\" class=\"data row57 col0\" >0.003069</td>\n",
       "                        <td id=\"T_2cfb4_row57_col1\" class=\"data row57 col1\" >-0.003054</td>\n",
       "                        <td id=\"T_2cfb4_row57_col2\" class=\"data row57 col2\" >-0.002718</td>\n",
       "                        <td id=\"T_2cfb4_row57_col3\" class=\"data row57 col3\" >0.003668</td>\n",
       "                        <td id=\"T_2cfb4_row57_col4\" class=\"data row57 col4\" >0.003901</td>\n",
       "                        <td id=\"T_2cfb4_row57_col5\" class=\"data row57 col5\" >0.004603</td>\n",
       "                        <td id=\"T_2cfb4_row57_col6\" class=\"data row57 col6\" >0.007550</td>\n",
       "                        <td id=\"T_2cfb4_row57_col7\" class=\"data row57 col7\" >0.003891</td>\n",
       "                        <td id=\"T_2cfb4_row57_col8\" class=\"data row57 col8\" >-0.000330</td>\n",
       "                        <td id=\"T_2cfb4_row57_col9\" class=\"data row57 col9\" >0.003357</td>\n",
       "                        <td id=\"T_2cfb4_row57_col10\" class=\"data row57 col10\" >-0.007966</td>\n",
       "                        <td id=\"T_2cfb4_row57_col11\" class=\"data row57 col11\" >0.000102</td>\n",
       "                        <td id=\"T_2cfb4_row57_col12\" class=\"data row57 col12\" >0.016490</td>\n",
       "                        <td id=\"T_2cfb4_row57_col13\" class=\"data row57 col13\" >0.021440</td>\n",
       "                        <td id=\"T_2cfb4_row57_col14\" class=\"data row57 col14\" >0.000785</td>\n",
       "                        <td id=\"T_2cfb4_row57_col15\" class=\"data row57 col15\" >0.002579</td>\n",
       "                        <td id=\"T_2cfb4_row57_col16\" class=\"data row57 col16\" >-0.007719</td>\n",
       "                        <td id=\"T_2cfb4_row57_col17\" class=\"data row57 col17\" >0.003253</td>\n",
       "                        <td id=\"T_2cfb4_row57_col18\" class=\"data row57 col18\" >-0.009718</td>\n",
       "                        <td id=\"T_2cfb4_row57_col19\" class=\"data row57 col19\" >-0.002309</td>\n",
       "                        <td id=\"T_2cfb4_row57_col20\" class=\"data row57 col20\" >-0.002308</td>\n",
       "                        <td id=\"T_2cfb4_row57_col21\" class=\"data row57 col21\" >0.004988</td>\n",
       "                        <td id=\"T_2cfb4_row57_col22\" class=\"data row57 col22\" >0.005722</td>\n",
       "                        <td id=\"T_2cfb4_row57_col23\" class=\"data row57 col23\" >0.004191</td>\n",
       "                        <td id=\"T_2cfb4_row57_col24\" class=\"data row57 col24\" >0.004534</td>\n",
       "                        <td id=\"T_2cfb4_row57_col25\" class=\"data row57 col25\" >-0.002747</td>\n",
       "                        <td id=\"T_2cfb4_row57_col26\" class=\"data row57 col26\" >0.000933</td>\n",
       "                        <td id=\"T_2cfb4_row57_col27\" class=\"data row57 col27\" >-0.001361</td>\n",
       "                        <td id=\"T_2cfb4_row57_col28\" class=\"data row57 col28\" >0.004208</td>\n",
       "                        <td id=\"T_2cfb4_row57_col29\" class=\"data row57 col29\" >-0.002643</td>\n",
       "                        <td id=\"T_2cfb4_row57_col30\" class=\"data row57 col30\" >0.023915</td>\n",
       "                        <td id=\"T_2cfb4_row57_col31\" class=\"data row57 col31\" >0.002474</td>\n",
       "                        <td id=\"T_2cfb4_row57_col32\" class=\"data row57 col32\" >-0.000741</td>\n",
       "                        <td id=\"T_2cfb4_row57_col33\" class=\"data row57 col33\" >0.000609</td>\n",
       "                        <td id=\"T_2cfb4_row57_col34\" class=\"data row57 col34\" >-0.009439</td>\n",
       "                        <td id=\"T_2cfb4_row57_col35\" class=\"data row57 col35\" >0.009182</td>\n",
       "                        <td id=\"T_2cfb4_row57_col36\" class=\"data row57 col36\" >-0.000726</td>\n",
       "                        <td id=\"T_2cfb4_row57_col37\" class=\"data row57 col37\" >-0.002933</td>\n",
       "                        <td id=\"T_2cfb4_row57_col38\" class=\"data row57 col38\" >-0.005241</td>\n",
       "                        <td id=\"T_2cfb4_row57_col39\" class=\"data row57 col39\" >-0.006172</td>\n",
       "                        <td id=\"T_2cfb4_row57_col40\" class=\"data row57 col40\" >0.004262</td>\n",
       "                        <td id=\"T_2cfb4_row57_col41\" class=\"data row57 col41\" >0.001328</td>\n",
       "                        <td id=\"T_2cfb4_row57_col42\" class=\"data row57 col42\" >-0.005425</td>\n",
       "                        <td id=\"T_2cfb4_row57_col43\" class=\"data row57 col43\" >-0.004909</td>\n",
       "                        <td id=\"T_2cfb4_row57_col44\" class=\"data row57 col44\" >0.000838</td>\n",
       "                        <td id=\"T_2cfb4_row57_col45\" class=\"data row57 col45\" >-0.000266</td>\n",
       "                        <td id=\"T_2cfb4_row57_col46\" class=\"data row57 col46\" >0.002836</td>\n",
       "                        <td id=\"T_2cfb4_row57_col47\" class=\"data row57 col47\" >0.000189</td>\n",
       "                        <td id=\"T_2cfb4_row57_col48\" class=\"data row57 col48\" >0.002538</td>\n",
       "                        <td id=\"T_2cfb4_row57_col49\" class=\"data row57 col49\" >0.000164</td>\n",
       "                        <td id=\"T_2cfb4_row57_col50\" class=\"data row57 col50\" >-0.063526</td>\n",
       "                        <td id=\"T_2cfb4_row57_col51\" class=\"data row57 col51\" >-0.168002</td>\n",
       "                        <td id=\"T_2cfb4_row57_col52\" class=\"data row57 col52\" >-0.076107</td>\n",
       "                        <td id=\"T_2cfb4_row57_col53\" class=\"data row57 col53\" >-0.071179</td>\n",
       "                        <td id=\"T_2cfb4_row57_col54\" class=\"data row57 col54\" >-0.061674</td>\n",
       "                        <td id=\"T_2cfb4_row57_col55\" class=\"data row57 col55\" >-0.064833</td>\n",
       "                        <td id=\"T_2cfb4_row57_col56\" class=\"data row57 col56\" >-0.059405</td>\n",
       "                        <td id=\"T_2cfb4_row57_col57\" class=\"data row57 col57\" >1.000000</td>\n",
       "                        <td id=\"T_2cfb4_row57_col58\" class=\"data row57 col58\" >-0.054783</td>\n",
       "                        <td id=\"T_2cfb4_row57_col59\" class=\"data row57 col59\" >-0.048715</td>\n",
       "                        <td id=\"T_2cfb4_row57_col60\" class=\"data row57 col60\" >-0.070829</td>\n",
       "                        <td id=\"T_2cfb4_row57_col61\" class=\"data row57 col61\" >0.001446</td>\n",
       "                        <td id=\"T_2cfb4_row57_col62\" class=\"data row57 col62\" >0.000060</td>\n",
       "                        <td id=\"T_2cfb4_row57_col63\" class=\"data row57 col63\" >-0.000970</td>\n",
       "            </tr>\n",
       "            <tr>\n",
       "                        <th id=\"T_2cfb4_level0_row58\" class=\"row_heading level0 row58\" >emp_length_8 years</th>\n",
       "                        <td id=\"T_2cfb4_row58_col0\" class=\"data row58 col0\" >0.009964</td>\n",
       "                        <td id=\"T_2cfb4_row58_col1\" class=\"data row58 col1\" >0.011111</td>\n",
       "                        <td id=\"T_2cfb4_row58_col2\" class=\"data row58 col2\" >0.011326</td>\n",
       "                        <td id=\"T_2cfb4_row58_col3\" class=\"data row58 col3\" >0.005281</td>\n",
       "                        <td id=\"T_2cfb4_row58_col4\" class=\"data row58 col4\" >0.005351</td>\n",
       "                        <td id=\"T_2cfb4_row58_col5\" class=\"data row58 col5\" >0.005714</td>\n",
       "                        <td id=\"T_2cfb4_row58_col6\" class=\"data row58 col6\" >0.002333</td>\n",
       "                        <td id=\"T_2cfb4_row58_col7\" class=\"data row58 col7\" >0.005076</td>\n",
       "                        <td id=\"T_2cfb4_row58_col8\" class=\"data row58 col8\" >0.003108</td>\n",
       "                        <td id=\"T_2cfb4_row58_col9\" class=\"data row58 col9\" >0.006195</td>\n",
       "                        <td id=\"T_2cfb4_row58_col10\" class=\"data row58 col10\" >-0.002541</td>\n",
       "                        <td id=\"T_2cfb4_row58_col11\" class=\"data row58 col11\" >-0.003081</td>\n",
       "                        <td id=\"T_2cfb4_row58_col12\" class=\"data row58 col12\" >0.001017</td>\n",
       "                        <td id=\"T_2cfb4_row58_col13\" class=\"data row58 col13\" >0.025168</td>\n",
       "                        <td id=\"T_2cfb4_row58_col14\" class=\"data row58 col14\" >0.002581</td>\n",
       "                        <td id=\"T_2cfb4_row58_col15\" class=\"data row58 col15\" >0.007035</td>\n",
       "                        <td id=\"T_2cfb4_row58_col16\" class=\"data row58 col16\" >-0.002398</td>\n",
       "                        <td id=\"T_2cfb4_row58_col17\" class=\"data row58 col17\" >0.002629</td>\n",
       "                        <td id=\"T_2cfb4_row58_col18\" class=\"data row58 col18\" >-0.002856</td>\n",
       "                        <td id=\"T_2cfb4_row58_col19\" class=\"data row58 col19\" >0.004483</td>\n",
       "                        <td id=\"T_2cfb4_row58_col20\" class=\"data row58 col20\" >0.004485</td>\n",
       "                        <td id=\"T_2cfb4_row58_col21\" class=\"data row58 col21\" >0.000660</td>\n",
       "                        <td id=\"T_2cfb4_row58_col22\" class=\"data row58 col22\" >0.001081</td>\n",
       "                        <td id=\"T_2cfb4_row58_col23\" class=\"data row58 col23\" >0.000348</td>\n",
       "                        <td id=\"T_2cfb4_row58_col24\" class=\"data row58 col24\" >0.000517</td>\n",
       "                        <td id=\"T_2cfb4_row58_col25\" class=\"data row58 col25\" >-0.001324</td>\n",
       "                        <td id=\"T_2cfb4_row58_col26\" class=\"data row58 col26\" >0.003133</td>\n",
       "                        <td id=\"T_2cfb4_row58_col27\" class=\"data row58 col27\" >0.002327</td>\n",
       "                        <td id=\"T_2cfb4_row58_col28\" class=\"data row58 col28\" >0.002787</td>\n",
       "                        <td id=\"T_2cfb4_row58_col29\" class=\"data row58 col29\" >-0.001056</td>\n",
       "                        <td id=\"T_2cfb4_row58_col30\" class=\"data row58 col30\" >0.002783</td>\n",
       "                        <td id=\"T_2cfb4_row58_col31\" class=\"data row58 col31\" >0.001078</td>\n",
       "                        <td id=\"T_2cfb4_row58_col32\" class=\"data row58 col32\" >-0.000510</td>\n",
       "                        <td id=\"T_2cfb4_row58_col33\" class=\"data row58 col33\" >0.004376</td>\n",
       "                        <td id=\"T_2cfb4_row58_col34\" class=\"data row58 col34\" >-0.004269</td>\n",
       "                        <td id=\"T_2cfb4_row58_col35\" class=\"data row58 col35\" >0.017913</td>\n",
       "                        <td id=\"T_2cfb4_row58_col36\" class=\"data row58 col36\" >-0.001357</td>\n",
       "                        <td id=\"T_2cfb4_row58_col37\" class=\"data row58 col37\" >-0.002407</td>\n",
       "                        <td id=\"T_2cfb4_row58_col38\" class=\"data row58 col38\" >-0.006148</td>\n",
       "                        <td id=\"T_2cfb4_row58_col39\" class=\"data row58 col39\" >-0.014548</td>\n",
       "                        <td id=\"T_2cfb4_row58_col40\" class=\"data row58 col40\" >0.003244</td>\n",
       "                        <td id=\"T_2cfb4_row58_col41\" class=\"data row58 col41\" >0.003445</td>\n",
       "                        <td id=\"T_2cfb4_row58_col42\" class=\"data row58 col42\" >-0.006499</td>\n",
       "                        <td id=\"T_2cfb4_row58_col43\" class=\"data row58 col43\" >-0.003813</td>\n",
       "                        <td id=\"T_2cfb4_row58_col44\" class=\"data row58 col44\" >0.002858</td>\n",
       "                        <td id=\"T_2cfb4_row58_col45\" class=\"data row58 col45\" >0.001916</td>\n",
       "                        <td id=\"T_2cfb4_row58_col46\" class=\"data row58 col46\" >-0.002128</td>\n",
       "                        <td id=\"T_2cfb4_row58_col47\" class=\"data row58 col47\" >-0.000198</td>\n",
       "                        <td id=\"T_2cfb4_row58_col48\" class=\"data row58 col48\" >0.000824</td>\n",
       "                        <td id=\"T_2cfb4_row58_col49\" class=\"data row58 col49\" >-0.000542</td>\n",
       "                        <td id=\"T_2cfb4_row58_col50\" class=\"data row58 col50\" >-0.058502</td>\n",
       "                        <td id=\"T_2cfb4_row58_col51\" class=\"data row58 col51\" >-0.154716</td>\n",
       "                        <td id=\"T_2cfb4_row58_col52\" class=\"data row58 col52\" >-0.070088</td>\n",
       "                        <td id=\"T_2cfb4_row58_col53\" class=\"data row58 col53\" >-0.065550</td>\n",
       "                        <td id=\"T_2cfb4_row58_col54\" class=\"data row58 col54\" >-0.056797</td>\n",
       "                        <td id=\"T_2cfb4_row58_col55\" class=\"data row58 col55\" >-0.059706</td>\n",
       "                        <td id=\"T_2cfb4_row58_col56\" class=\"data row58 col56\" >-0.054707</td>\n",
       "                        <td id=\"T_2cfb4_row58_col57\" class=\"data row58 col57\" >-0.054783</td>\n",
       "                        <td id=\"T_2cfb4_row58_col58\" class=\"data row58 col58\" >1.000000</td>\n",
       "                        <td id=\"T_2cfb4_row58_col59\" class=\"data row58 col59\" >-0.044863</td>\n",
       "                        <td id=\"T_2cfb4_row58_col60\" class=\"data row58 col60\" >-0.065228</td>\n",
       "                        <td id=\"T_2cfb4_row58_col61\" class=\"data row58 col61\" >0.000275</td>\n",
       "                        <td id=\"T_2cfb4_row58_col62\" class=\"data row58 col62\" >-0.008019</td>\n",
       "                        <td id=\"T_2cfb4_row58_col63\" class=\"data row58 col63\" >0.007687</td>\n",
       "            </tr>\n",
       "            <tr>\n",
       "                        <th id=\"T_2cfb4_level0_row59\" class=\"row_heading level0 row59\" >emp_length_9 years</th>\n",
       "                        <td id=\"T_2cfb4_row59_col0\" class=\"data row59 col0\" >0.008264</td>\n",
       "                        <td id=\"T_2cfb4_row59_col1\" class=\"data row59 col1\" >0.008728</td>\n",
       "                        <td id=\"T_2cfb4_row59_col2\" class=\"data row59 col2\" >0.008962</td>\n",
       "                        <td id=\"T_2cfb4_row59_col3\" class=\"data row59 col3\" >0.011246</td>\n",
       "                        <td id=\"T_2cfb4_row59_col4\" class=\"data row59 col4\" >0.011383</td>\n",
       "                        <td id=\"T_2cfb4_row59_col5\" class=\"data row59 col5\" >0.011614</td>\n",
       "                        <td id=\"T_2cfb4_row59_col6\" class=\"data row59 col6\" >0.003166</td>\n",
       "                        <td id=\"T_2cfb4_row59_col7\" class=\"data row59 col7\" >0.009374</td>\n",
       "                        <td id=\"T_2cfb4_row59_col8\" class=\"data row59 col8\" >0.004960</td>\n",
       "                        <td id=\"T_2cfb4_row59_col9\" class=\"data row59 col9\" >0.009232</td>\n",
       "                        <td id=\"T_2cfb4_row59_col10\" class=\"data row59 col10\" >-0.000672</td>\n",
       "                        <td id=\"T_2cfb4_row59_col11\" class=\"data row59 col11\" >-0.003625</td>\n",
       "                        <td id=\"T_2cfb4_row59_col12\" class=\"data row59 col12\" >-0.000894</td>\n",
       "                        <td id=\"T_2cfb4_row59_col13\" class=\"data row59 col13\" >0.030237</td>\n",
       "                        <td id=\"T_2cfb4_row59_col14\" class=\"data row59 col14\" >0.006283</td>\n",
       "                        <td id=\"T_2cfb4_row59_col15\" class=\"data row59 col15\" >0.002644</td>\n",
       "                        <td id=\"T_2cfb4_row59_col16\" class=\"data row59 col16\" >0.002386</td>\n",
       "                        <td id=\"T_2cfb4_row59_col17\" class=\"data row59 col17\" >0.005650</td>\n",
       "                        <td id=\"T_2cfb4_row59_col18\" class=\"data row59 col18\" >0.004582</td>\n",
       "                        <td id=\"T_2cfb4_row59_col19\" class=\"data row59 col19\" >0.007476</td>\n",
       "                        <td id=\"T_2cfb4_row59_col20\" class=\"data row59 col20\" >0.007479</td>\n",
       "                        <td id=\"T_2cfb4_row59_col21\" class=\"data row59 col21\" >0.005445</td>\n",
       "                        <td id=\"T_2cfb4_row59_col22\" class=\"data row59 col22\" >0.005785</td>\n",
       "                        <td id=\"T_2cfb4_row59_col23\" class=\"data row59 col23\" >0.003992</td>\n",
       "                        <td id=\"T_2cfb4_row59_col24\" class=\"data row59 col24\" >0.005886</td>\n",
       "                        <td id=\"T_2cfb4_row59_col25\" class=\"data row59 col25\" >-0.002073</td>\n",
       "                        <td id=\"T_2cfb4_row59_col26\" class=\"data row59 col26\" >0.004217</td>\n",
       "                        <td id=\"T_2cfb4_row59_col27\" class=\"data row59 col27\" >0.001529</td>\n",
       "                        <td id=\"T_2cfb4_row59_col28\" class=\"data row59 col28\" >0.004896</td>\n",
       "                        <td id=\"T_2cfb4_row59_col29\" class=\"data row59 col29\" >0.000053</td>\n",
       "                        <td id=\"T_2cfb4_row59_col30\" class=\"data row59 col30\" >-0.001611</td>\n",
       "                        <td id=\"T_2cfb4_row59_col31\" class=\"data row59 col31\" >0.000555</td>\n",
       "                        <td id=\"T_2cfb4_row59_col32\" class=\"data row59 col32\" >-0.000654</td>\n",
       "                        <td id=\"T_2cfb4_row59_col33\" class=\"data row59 col33\" >0.007530</td>\n",
       "                        <td id=\"T_2cfb4_row59_col34\" class=\"data row59 col34\" >-0.001008</td>\n",
       "                        <td id=\"T_2cfb4_row59_col35\" class=\"data row59 col35\" >0.018677</td>\n",
       "                        <td id=\"T_2cfb4_row59_col36\" class=\"data row59 col36\" >0.002245</td>\n",
       "                        <td id=\"T_2cfb4_row59_col37\" class=\"data row59 col37\" >-0.001686</td>\n",
       "                        <td id=\"T_2cfb4_row59_col38\" class=\"data row59 col38\" >-0.004574</td>\n",
       "                        <td id=\"T_2cfb4_row59_col39\" class=\"data row59 col39\" >-0.016347</td>\n",
       "                        <td id=\"T_2cfb4_row59_col40\" class=\"data row59 col40\" >0.001514</td>\n",
       "                        <td id=\"T_2cfb4_row59_col41\" class=\"data row59 col41\" >0.003010</td>\n",
       "                        <td id=\"T_2cfb4_row59_col42\" class=\"data row59 col42\" >-0.004397</td>\n",
       "                        <td id=\"T_2cfb4_row59_col43\" class=\"data row59 col43\" >-0.003226</td>\n",
       "                        <td id=\"T_2cfb4_row59_col44\" class=\"data row59 col44\" >0.001054</td>\n",
       "                        <td id=\"T_2cfb4_row59_col45\" class=\"data row59 col45\" >0.000868</td>\n",
       "                        <td id=\"T_2cfb4_row59_col46\" class=\"data row59 col46\" >-0.001796</td>\n",
       "                        <td id=\"T_2cfb4_row59_col47\" class=\"data row59 col47\" >0.004040</td>\n",
       "                        <td id=\"T_2cfb4_row59_col48\" class=\"data row59 col48\" >-0.000572</td>\n",
       "                        <td id=\"T_2cfb4_row59_col49\" class=\"data row59 col49\" >0.000074</td>\n",
       "                        <td id=\"T_2cfb4_row59_col50\" class=\"data row59 col50\" >-0.052023</td>\n",
       "                        <td id=\"T_2cfb4_row59_col51\" class=\"data row59 col51\" >-0.137581</td>\n",
       "                        <td id=\"T_2cfb4_row59_col52\" class=\"data row59 col52\" >-0.062326</td>\n",
       "                        <td id=\"T_2cfb4_row59_col53\" class=\"data row59 col53\" >-0.058290</td>\n",
       "                        <td id=\"T_2cfb4_row59_col54\" class=\"data row59 col54\" >-0.050507</td>\n",
       "                        <td id=\"T_2cfb4_row59_col55\" class=\"data row59 col55\" >-0.053094</td>\n",
       "                        <td id=\"T_2cfb4_row59_col56\" class=\"data row59 col56\" >-0.048648</td>\n",
       "                        <td id=\"T_2cfb4_row59_col57\" class=\"data row59 col57\" >-0.048715</td>\n",
       "                        <td id=\"T_2cfb4_row59_col58\" class=\"data row59 col58\" >-0.044863</td>\n",
       "                        <td id=\"T_2cfb4_row59_col59\" class=\"data row59 col59\" >1.000000</td>\n",
       "                        <td id=\"T_2cfb4_row59_col60\" class=\"data row59 col60\" >-0.058004</td>\n",
       "                        <td id=\"T_2cfb4_row59_col61\" class=\"data row59 col61\" >0.002265</td>\n",
       "                        <td id=\"T_2cfb4_row59_col62\" class=\"data row59 col62\" >-0.005316</td>\n",
       "                        <td id=\"T_2cfb4_row59_col63\" class=\"data row59 col63\" >0.003783</td>\n",
       "            </tr>\n",
       "            <tr>\n",
       "                        <th id=\"T_2cfb4_level0_row60\" class=\"row_heading level0 row60\" >emp_length_< 1 year</th>\n",
       "                        <td id=\"T_2cfb4_row60_col0\" class=\"data row60 col0\" >-0.017700</td>\n",
       "                        <td id=\"T_2cfb4_row60_col1\" class=\"data row60 col1\" >-0.004961</td>\n",
       "                        <td id=\"T_2cfb4_row60_col2\" class=\"data row60 col2\" >-0.006795</td>\n",
       "                        <td id=\"T_2cfb4_row60_col3\" class=\"data row60 col3\" >-0.042554</td>\n",
       "                        <td id=\"T_2cfb4_row60_col4\" class=\"data row60 col4\" >-0.042828</td>\n",
       "                        <td id=\"T_2cfb4_row60_col5\" class=\"data row60 col5\" >-0.044922</td>\n",
       "                        <td id=\"T_2cfb4_row60_col6\" class=\"data row60 col6\" >-0.015646</td>\n",
       "                        <td id=\"T_2cfb4_row60_col7\" class=\"data row60 col7\" >-0.038515</td>\n",
       "                        <td id=\"T_2cfb4_row60_col8\" class=\"data row60 col8\" >-0.028999</td>\n",
       "                        <td id=\"T_2cfb4_row60_col9\" class=\"data row60 col9\" >-0.027381</td>\n",
       "                        <td id=\"T_2cfb4_row60_col10\" class=\"data row60 col10\" >-0.011498</td>\n",
       "                        <td id=\"T_2cfb4_row60_col11\" class=\"data row60 col11\" >0.007622</td>\n",
       "                        <td id=\"T_2cfb4_row60_col12\" class=\"data row60 col12\" >-0.005038</td>\n",
       "                        <td id=\"T_2cfb4_row60_col13\" class=\"data row60 col13\" >-0.043914</td>\n",
       "                        <td id=\"T_2cfb4_row60_col14\" class=\"data row60 col14\" >-0.015502</td>\n",
       "                        <td id=\"T_2cfb4_row60_col15\" class=\"data row60 col15\" >-0.021512</td>\n",
       "                        <td id=\"T_2cfb4_row60_col16\" class=\"data row60 col16\" >-0.026886</td>\n",
       "                        <td id=\"T_2cfb4_row60_col17\" class=\"data row60 col17\" >-0.008380</td>\n",
       "                        <td id=\"T_2cfb4_row60_col18\" class=\"data row60 col18\" >-0.038681</td>\n",
       "                        <td id=\"T_2cfb4_row60_col19\" class=\"data row60 col19\" >-0.026857</td>\n",
       "                        <td id=\"T_2cfb4_row60_col20\" class=\"data row60 col20\" >-0.026861</td>\n",
       "                        <td id=\"T_2cfb4_row60_col21\" class=\"data row60 col21\" >-0.033953</td>\n",
       "                        <td id=\"T_2cfb4_row60_col22\" class=\"data row60 col22\" >-0.036362</td>\n",
       "                        <td id=\"T_2cfb4_row60_col23\" class=\"data row60 col23\" >-0.026125</td>\n",
       "                        <td id=\"T_2cfb4_row60_col24\" class=\"data row60 col24\" >-0.038551</td>\n",
       "                        <td id=\"T_2cfb4_row60_col25\" class=\"data row60 col25\" >0.007751</td>\n",
       "                        <td id=\"T_2cfb4_row60_col26\" class=\"data row60 col26\" >-0.002214</td>\n",
       "                        <td id=\"T_2cfb4_row60_col27\" class=\"data row60 col27\" >0.000239</td>\n",
       "                        <td id=\"T_2cfb4_row60_col28\" class=\"data row60 col28\" >-0.016231</td>\n",
       "                        <td id=\"T_2cfb4_row60_col29\" class=\"data row60 col29\" >-0.000221</td>\n",
       "                        <td id=\"T_2cfb4_row60_col30\" class=\"data row60 col30\" >-0.006244</td>\n",
       "                        <td id=\"T_2cfb4_row60_col31\" class=\"data row60 col31\" >-0.001758</td>\n",
       "                        <td id=\"T_2cfb4_row60_col32\" class=\"data row60 col32\" >-0.001014</td>\n",
       "                        <td id=\"T_2cfb4_row60_col33\" class=\"data row60 col33\" >-0.034122</td>\n",
       "                        <td id=\"T_2cfb4_row60_col34\" class=\"data row60 col34\" >-0.019194</td>\n",
       "                        <td id=\"T_2cfb4_row60_col35\" class=\"data row60 col35\" >-0.091853</td>\n",
       "                        <td id=\"T_2cfb4_row60_col36\" class=\"data row60 col36\" >0.003179</td>\n",
       "                        <td id=\"T_2cfb4_row60_col37\" class=\"data row60 col37\" >0.007234</td>\n",
       "                        <td id=\"T_2cfb4_row60_col38\" class=\"data row60 col38\" >-0.013232</td>\n",
       "                        <td id=\"T_2cfb4_row60_col39\" class=\"data row60 col39\" >0.100918</td>\n",
       "                        <td id=\"T_2cfb4_row60_col40\" class=\"data row60 col40\" >0.015543</td>\n",
       "                        <td id=\"T_2cfb4_row60_col41\" class=\"data row60 col41\" >0.020752</td>\n",
       "                        <td id=\"T_2cfb4_row60_col42\" class=\"data row60 col42\" >-0.035265</td>\n",
       "                        <td id=\"T_2cfb4_row60_col43\" class=\"data row60 col43\" >0.011480</td>\n",
       "                        <td id=\"T_2cfb4_row60_col44\" class=\"data row60 col44\" >-0.002314</td>\n",
       "                        <td id=\"T_2cfb4_row60_col45\" class=\"data row60 col45\" >-0.003243</td>\n",
       "                        <td id=\"T_2cfb4_row60_col46\" class=\"data row60 col46\" >-0.002417</td>\n",
       "                        <td id=\"T_2cfb4_row60_col47\" class=\"data row60 col47\" >-0.002286</td>\n",
       "                        <td id=\"T_2cfb4_row60_col48\" class=\"data row60 col48\" >-0.003082</td>\n",
       "                        <td id=\"T_2cfb4_row60_col49\" class=\"data row60 col49\" >0.003488</td>\n",
       "                        <td id=\"T_2cfb4_row60_col50\" class=\"data row60 col50\" >-0.075638</td>\n",
       "                        <td id=\"T_2cfb4_row60_col51\" class=\"data row60 col51\" >-0.200036</td>\n",
       "                        <td id=\"T_2cfb4_row60_col52\" class=\"data row60 col52\" >-0.090618</td>\n",
       "                        <td id=\"T_2cfb4_row60_col53\" class=\"data row60 col53\" >-0.084751</td>\n",
       "                        <td id=\"T_2cfb4_row60_col54\" class=\"data row60 col54\" >-0.073434</td>\n",
       "                        <td id=\"T_2cfb4_row60_col55\" class=\"data row60 col55\" >-0.077196</td>\n",
       "                        <td id=\"T_2cfb4_row60_col56\" class=\"data row60 col56\" >-0.070732</td>\n",
       "                        <td id=\"T_2cfb4_row60_col57\" class=\"data row60 col57\" >-0.070829</td>\n",
       "                        <td id=\"T_2cfb4_row60_col58\" class=\"data row60 col58\" >-0.065228</td>\n",
       "                        <td id=\"T_2cfb4_row60_col59\" class=\"data row60 col59\" >-0.058004</td>\n",
       "                        <td id=\"T_2cfb4_row60_col60\" class=\"data row60 col60\" >1.000000</td>\n",
       "                        <td id=\"T_2cfb4_row60_col61\" class=\"data row60 col61\" >0.009352</td>\n",
       "                        <td id=\"T_2cfb4_row60_col62\" class=\"data row60 col62\" >0.017137</td>\n",
       "                        <td id=\"T_2cfb4_row60_col63\" class=\"data row60 col63\" >-0.022698</td>\n",
       "            </tr>\n",
       "            <tr>\n",
       "                        <th id=\"T_2cfb4_level0_row61\" class=\"row_heading level0 row61\" >loan_status_High Risk</th>\n",
       "                        <td id=\"T_2cfb4_row61_col0\" class=\"data row61 col0\" >-0.053289</td>\n",
       "                        <td id=\"T_2cfb4_row61_col1\" class=\"data row61 col1\" >-0.091533</td>\n",
       "                        <td id=\"T_2cfb4_row61_col2\" class=\"data row61 col2\" >-0.092377</td>\n",
       "                        <td id=\"T_2cfb4_row61_col3\" class=\"data row61 col3\" >0.013185</td>\n",
       "                        <td id=\"T_2cfb4_row61_col4\" class=\"data row61 col4\" >0.012405</td>\n",
       "                        <td id=\"T_2cfb4_row61_col5\" class=\"data row61 col5\" >0.008690</td>\n",
       "                        <td id=\"T_2cfb4_row61_col6\" class=\"data row61 col6\" >0.174647</td>\n",
       "                        <td id=\"T_2cfb4_row61_col7\" class=\"data row61 col7\" >0.015352</td>\n",
       "                        <td id=\"T_2cfb4_row61_col8\" class=\"data row61 col8\" >-0.054995</td>\n",
       "                        <td id=\"T_2cfb4_row61_col9\" class=\"data row61 col9\" >0.049081</td>\n",
       "                        <td id=\"T_2cfb4_row61_col10\" class=\"data row61 col10\" >0.002874</td>\n",
       "                        <td id=\"T_2cfb4_row61_col11\" class=\"data row61 col11\" >0.073113</td>\n",
       "                        <td id=\"T_2cfb4_row61_col12\" class=\"data row61 col12\" >-0.004851</td>\n",
       "                        <td id=\"T_2cfb4_row61_col13\" class=\"data row61 col13\" >0.022543</td>\n",
       "                        <td id=\"T_2cfb4_row61_col14\" class=\"data row61 col14\" >-0.005268</td>\n",
       "                        <td id=\"T_2cfb4_row61_col15\" class=\"data row61 col15\" >-0.008280</td>\n",
       "                        <td id=\"T_2cfb4_row61_col16\" class=\"data row61 col16\" >-0.018544</td>\n",
       "                        <td id=\"T_2cfb4_row61_col17\" class=\"data row61 col17\" >0.051017</td>\n",
       "                        <td id=\"T_2cfb4_row61_col18\" class=\"data row61 col18\" >-0.022366</td>\n",
       "                        <td id=\"T_2cfb4_row61_col19\" class=\"data row61 col19\" >-0.150444</td>\n",
       "                        <td id=\"T_2cfb4_row61_col20\" class=\"data row61 col20\" >-0.150432</td>\n",
       "                        <td id=\"T_2cfb4_row61_col21\" class=\"data row61 col21\" >-0.193977</td>\n",
       "                        <td id=\"T_2cfb4_row61_col22\" class=\"data row61 col22\" >-0.194638</td>\n",
       "                        <td id=\"T_2cfb4_row61_col23\" class=\"data row61 col23\" >-0.254256</td>\n",
       "                        <td id=\"T_2cfb4_row61_col24\" class=\"data row61 col24\" >-0.022832</td>\n",
       "                        <td id=\"T_2cfb4_row61_col25\" class=\"data row61 col25\" >0.151624</td>\n",
       "                        <td id=\"T_2cfb4_row61_col26\" class=\"data row61 col26\" >0.435352</td>\n",
       "                        <td id=\"T_2cfb4_row61_col27\" class=\"data row61 col27\" >0.295281</td>\n",
       "                        <td id=\"T_2cfb4_row61_col28\" class=\"data row61 col28\" >-0.170163</td>\n",
       "                        <td id=\"T_2cfb4_row61_col29\" class=\"data row61 col29\" >-0.004126</td>\n",
       "                        <td id=\"T_2cfb4_row61_col30\" class=\"data row61 col30\" >-0.004249</td>\n",
       "                        <td id=\"T_2cfb4_row61_col31\" class=\"data row61 col31\" >-0.000084</td>\n",
       "                        <td id=\"T_2cfb4_row61_col32\" class=\"data row61 col32\" >-0.001178</td>\n",
       "                        <td id=\"T_2cfb4_row61_col33\" class=\"data row61 col33\" >-0.050993</td>\n",
       "                        <td id=\"T_2cfb4_row61_col34\" class=\"data row61 col34\" >-0.037744</td>\n",
       "                        <td id=\"T_2cfb4_row61_col35\" class=\"data row61 col35\" >-0.042880</td>\n",
       "                        <td id=\"T_2cfb4_row61_col36\" class=\"data row61 col36\" >0.001579</td>\n",
       "                        <td id=\"T_2cfb4_row61_col37\" class=\"data row61 col37\" >0.006072</td>\n",
       "                        <td id=\"T_2cfb4_row61_col38\" class=\"data row61 col38\" >-0.000585</td>\n",
       "                        <td id=\"T_2cfb4_row61_col39\" class=\"data row61 col39\" >0.043750</td>\n",
       "                        <td id=\"T_2cfb4_row61_col40\" class=\"data row61 col40\" >-0.034851</td>\n",
       "                        <td id=\"T_2cfb4_row61_col41\" class=\"data row61 col41\" >-0.010148</td>\n",
       "                        <td id=\"T_2cfb4_row61_col42\" class=\"data row61 col42\" >0.043675</td>\n",
       "                        <td id=\"T_2cfb4_row61_col43\" class=\"data row61 col43\" >-0.100503</td>\n",
       "                        <td id=\"T_2cfb4_row61_col44\" class=\"data row61 col44\" >-0.064480</td>\n",
       "                        <td id=\"T_2cfb4_row61_col45\" class=\"data row61 col45\" >0.011056</td>\n",
       "                        <td id=\"T_2cfb4_row61_col46\" class=\"data row61 col46\" >0.064649</td>\n",
       "                        <td id=\"T_2cfb4_row61_col47\" class=\"data row61 col47\" >0.080202</td>\n",
       "                        <td id=\"T_2cfb4_row61_col48\" class=\"data row61 col48\" >0.073192</td>\n",
       "                        <td id=\"T_2cfb4_row61_col49\" class=\"data row61 col49\" >0.046119</td>\n",
       "                        <td id=\"T_2cfb4_row61_col50\" class=\"data row61 col50\" >0.001971</td>\n",
       "                        <td id=\"T_2cfb4_row61_col51\" class=\"data row61 col51\" >-0.021375</td>\n",
       "                        <td id=\"T_2cfb4_row61_col52\" class=\"data row61 col52\" >0.000395</td>\n",
       "                        <td id=\"T_2cfb4_row61_col53\" class=\"data row61 col53\" >0.000307</td>\n",
       "                        <td id=\"T_2cfb4_row61_col54\" class=\"data row61 col54\" >0.000419</td>\n",
       "                        <td id=\"T_2cfb4_row61_col55\" class=\"data row61 col55\" >0.004572</td>\n",
       "                        <td id=\"T_2cfb4_row61_col56\" class=\"data row61 col56\" >0.005726</td>\n",
       "                        <td id=\"T_2cfb4_row61_col57\" class=\"data row61 col57\" >0.001446</td>\n",
       "                        <td id=\"T_2cfb4_row61_col58\" class=\"data row61 col58\" >0.000275</td>\n",
       "                        <td id=\"T_2cfb4_row61_col59\" class=\"data row61 col59\" >0.002265</td>\n",
       "                        <td id=\"T_2cfb4_row61_col60\" class=\"data row61 col60\" >0.009352</td>\n",
       "                        <td id=\"T_2cfb4_row61_col61\" class=\"data row61 col61\" >1.000000</td>\n",
       "                        <td id=\"T_2cfb4_row61_col62\" class=\"data row61 col62\" >-0.290130</td>\n",
       "                        <td id=\"T_2cfb4_row61_col63\" class=\"data row61 col63\" >-0.346321</td>\n",
       "            </tr>\n",
       "            <tr>\n",
       "                        <th id=\"T_2cfb4_level0_row62\" class=\"row_heading level0 row62\" >loan_status_Low Risk</th>\n",
       "                        <td id=\"T_2cfb4_row62_col0\" class=\"data row62 col0\" >-0.257264</td>\n",
       "                        <td id=\"T_2cfb4_row62_col1\" class=\"data row62 col1\" >-0.372635</td>\n",
       "                        <td id=\"T_2cfb4_row62_col2\" class=\"data row62 col2\" >-0.378627</td>\n",
       "                        <td id=\"T_2cfb4_row62_col3\" class=\"data row62 col3\" >-0.113363</td>\n",
       "                        <td id=\"T_2cfb4_row62_col4\" class=\"data row62 col4\" >-0.115535</td>\n",
       "                        <td id=\"T_2cfb4_row62_col5\" class=\"data row62 col5\" >-0.120236</td>\n",
       "                        <td id=\"T_2cfb4_row62_col6\" class=\"data row62 col6\" >-0.106077</td>\n",
       "                        <td id=\"T_2cfb4_row62_col7\" class=\"data row62 col7\" >-0.074848</td>\n",
       "                        <td id=\"T_2cfb4_row62_col8\" class=\"data row62 col8\" >0.006107</td>\n",
       "                        <td id=\"T_2cfb4_row62_col9\" class=\"data row62 col9\" >-0.135342</td>\n",
       "                        <td id=\"T_2cfb4_row62_col10\" class=\"data row62 col10\" >-0.049553</td>\n",
       "                        <td id=\"T_2cfb4_row62_col11\" class=\"data row62 col11\" >0.050778</td>\n",
       "                        <td id=\"T_2cfb4_row62_col12\" class=\"data row62 col12\" >0.040369</td>\n",
       "                        <td id=\"T_2cfb4_row62_col13\" class=\"data row62 col13\" >0.015439</td>\n",
       "                        <td id=\"T_2cfb4_row62_col14\" class=\"data row62 col14\" >-0.065525</td>\n",
       "                        <td id=\"T_2cfb4_row62_col15\" class=\"data row62 col15\" >-0.047133</td>\n",
       "                        <td id=\"T_2cfb4_row62_col16\" class=\"data row62 col16\" >-0.039213</td>\n",
       "                        <td id=\"T_2cfb4_row62_col17\" class=\"data row62 col17\" >-0.084853</td>\n",
       "                        <td id=\"T_2cfb4_row62_col18\" class=\"data row62 col18\" >-0.008358</td>\n",
       "                        <td id=\"T_2cfb4_row62_col19\" class=\"data row62 col19\" >-0.567138</td>\n",
       "                        <td id=\"T_2cfb4_row62_col20\" class=\"data row62 col20\" >-0.567099</td>\n",
       "                        <td id=\"T_2cfb4_row62_col21\" class=\"data row62 col21\" >0.357870</td>\n",
       "                        <td id=\"T_2cfb4_row62_col22\" class=\"data row62 col22\" >0.350943</td>\n",
       "                        <td id=\"T_2cfb4_row62_col23\" class=\"data row62 col23\" >0.493336</td>\n",
       "                        <td id=\"T_2cfb4_row62_col24\" class=\"data row62 col24\" >-0.177543</td>\n",
       "                        <td id=\"T_2cfb4_row62_col25\" class=\"data row62 col25\" >-0.040316</td>\n",
       "                        <td id=\"T_2cfb4_row62_col26\" class=\"data row62 col26\" >-0.126309</td>\n",
       "                        <td id=\"T_2cfb4_row62_col27\" class=\"data row62 col27\" >-0.085670</td>\n",
       "                        <td id=\"T_2cfb4_row62_col28\" class=\"data row62 col28\" >0.586894</td>\n",
       "                        <td id=\"T_2cfb4_row62_col29\" class=\"data row62 col29\" >-0.027621</td>\n",
       "                        <td id=\"T_2cfb4_row62_col30\" class=\"data row62 col30\" >0.005906</td>\n",
       "                        <td id=\"T_2cfb4_row62_col31\" class=\"data row62 col31\" >-0.016784</td>\n",
       "                        <td id=\"T_2cfb4_row62_col32\" class=\"data row62 col32\" >0.001337</td>\n",
       "                        <td id=\"T_2cfb4_row62_col33\" class=\"data row62 col33\" >0.019315</td>\n",
       "                        <td id=\"T_2cfb4_row62_col34\" class=\"data row62 col34\" >-0.007326</td>\n",
       "                        <td id=\"T_2cfb4_row62_col35\" class=\"data row62 col35\" >-0.002889</td>\n",
       "                        <td id=\"T_2cfb4_row62_col36\" class=\"data row62 col36\" >0.008444</td>\n",
       "                        <td id=\"T_2cfb4_row62_col37\" class=\"data row62 col37\" >0.015094</td>\n",
       "                        <td id=\"T_2cfb4_row62_col38\" class=\"data row62 col38\" >-0.018719</td>\n",
       "                        <td id=\"T_2cfb4_row62_col39\" class=\"data row62 col39\" >0.013038</td>\n",
       "                        <td id=\"T_2cfb4_row62_col40\" class=\"data row62 col40\" >0.088837</td>\n",
       "                        <td id=\"T_2cfb4_row62_col41\" class=\"data row62 col41\" >-0.085123</td>\n",
       "                        <td id=\"T_2cfb4_row62_col42\" class=\"data row62 col42\" >-0.003345</td>\n",
       "                        <td id=\"T_2cfb4_row62_col43\" class=\"data row62 col43\" >0.078258</td>\n",
       "                        <td id=\"T_2cfb4_row62_col44\" class=\"data row62 col44\" >0.061470</td>\n",
       "                        <td id=\"T_2cfb4_row62_col45\" class=\"data row62 col45\" >-0.038268</td>\n",
       "                        <td id=\"T_2cfb4_row62_col46\" class=\"data row62 col46\" >-0.049621</td>\n",
       "                        <td id=\"T_2cfb4_row62_col47\" class=\"data row62 col47\" >-0.055460</td>\n",
       "                        <td id=\"T_2cfb4_row62_col48\" class=\"data row62 col48\" >-0.032072</td>\n",
       "                        <td id=\"T_2cfb4_row62_col49\" class=\"data row62 col49\" >-0.015056</td>\n",
       "                        <td id=\"T_2cfb4_row62_col50\" class=\"data row62 col50\" >0.014890</td>\n",
       "                        <td id=\"T_2cfb4_row62_col51\" class=\"data row62 col51\" >-0.038434</td>\n",
       "                        <td id=\"T_2cfb4_row62_col52\" class=\"data row62 col52\" >0.017502</td>\n",
       "                        <td id=\"T_2cfb4_row62_col53\" class=\"data row62 col53\" >0.010286</td>\n",
       "                        <td id=\"T_2cfb4_row62_col54\" class=\"data row62 col54\" >0.018952</td>\n",
       "                        <td id=\"T_2cfb4_row62_col55\" class=\"data row62 col55\" >0.024026</td>\n",
       "                        <td id=\"T_2cfb4_row62_col56\" class=\"data row62 col56\" >0.013847</td>\n",
       "                        <td id=\"T_2cfb4_row62_col57\" class=\"data row62 col57\" >0.000060</td>\n",
       "                        <td id=\"T_2cfb4_row62_col58\" class=\"data row62 col58\" >-0.008019</td>\n",
       "                        <td id=\"T_2cfb4_row62_col59\" class=\"data row62 col59\" >-0.005316</td>\n",
       "                        <td id=\"T_2cfb4_row62_col60\" class=\"data row62 col60\" >0.017137</td>\n",
       "                        <td id=\"T_2cfb4_row62_col61\" class=\"data row62 col61\" >-0.290130</td>\n",
       "                        <td id=\"T_2cfb4_row62_col62\" class=\"data row62 col62\" >1.000000</td>\n",
       "                        <td id=\"T_2cfb4_row62_col63\" class=\"data row62 col63\" >-0.797286</td>\n",
       "            </tr>\n",
       "            <tr>\n",
       "                        <th id=\"T_2cfb4_level0_row63\" class=\"row_heading level0 row63\" >loan_status_Medium Risk</th>\n",
       "                        <td id=\"T_2cfb4_row63_col0\" class=\"data row63 col0\" >0.285802</td>\n",
       "                        <td id=\"T_2cfb4_row63_col1\" class=\"data row63 col1\" >0.423019</td>\n",
       "                        <td id=\"T_2cfb4_row63_col2\" class=\"data row63 col2\" >0.429425</td>\n",
       "                        <td id=\"T_2cfb4_row63_col3\" class=\"data row63 col3\" >0.102811</td>\n",
       "                        <td id=\"T_2cfb4_row63_col4\" class=\"data row63 col4\" >0.105433</td>\n",
       "                        <td id=\"T_2cfb4_row63_col5\" class=\"data row63 col5\" >0.112384</td>\n",
       "                        <td id=\"T_2cfb4_row63_col6\" class=\"data row63 col6\" >-0.006171</td>\n",
       "                        <td id=\"T_2cfb4_row63_col7\" class=\"data row63 col7\" >0.063690</td>\n",
       "                        <td id=\"T_2cfb4_row63_col8\" class=\"data row63 col8\" >0.028701</td>\n",
       "                        <td id=\"T_2cfb4_row63_col9\" class=\"data row63 col9\" >0.101716</td>\n",
       "                        <td id=\"T_2cfb4_row63_col10\" class=\"data row63 col10\" >0.046763</td>\n",
       "                        <td id=\"T_2cfb4_row63_col11\" class=\"data row63 col11\" >-0.095891</td>\n",
       "                        <td id=\"T_2cfb4_row63_col12\" class=\"data row63 col12\" >-0.036092</td>\n",
       "                        <td id=\"T_2cfb4_row63_col13\" class=\"data row63 col13\" >-0.028916</td>\n",
       "                        <td id=\"T_2cfb4_row63_col14\" class=\"data row63 col14\" >0.067555</td>\n",
       "                        <td id=\"T_2cfb4_row63_col15\" class=\"data row63 col15\" >0.051425</td>\n",
       "                        <td id=\"T_2cfb4_row63_col16\" class=\"data row63 col16\" >0.050137</td>\n",
       "                        <td id=\"T_2cfb4_row63_col17\" class=\"data row63 col17\" >0.051004</td>\n",
       "                        <td id=\"T_2cfb4_row63_col18\" class=\"data row63 col18\" >0.022300</td>\n",
       "                        <td id=\"T_2cfb4_row63_col19\" class=\"data row63 col19\" >0.650844</td>\n",
       "                        <td id=\"T_2cfb4_row63_col20\" class=\"data row63 col20\" >0.650798</td>\n",
       "                        <td id=\"T_2cfb4_row63_col21\" class=\"data row63 col21\" >-0.228466</td>\n",
       "                        <td id=\"T_2cfb4_row63_col22\" class=\"data row63 col22\" >-0.221259</td>\n",
       "                        <td id=\"T_2cfb4_row63_col23\" class=\"data row63 col23\" >-0.323241</td>\n",
       "                        <td id=\"T_2cfb4_row63_col24\" class=\"data row63 col24\" >0.188443</td>\n",
       "                        <td id=\"T_2cfb4_row63_col25\" class=\"data row63 col25\" >-0.056113</td>\n",
       "                        <td id=\"T_2cfb4_row63_col26\" class=\"data row63 col26\" >-0.150772</td>\n",
       "                        <td id=\"T_2cfb4_row63_col27\" class=\"data row63 col27\" >-0.102262</td>\n",
       "                        <td id=\"T_2cfb4_row63_col28\" class=\"data row63 col28\" >-0.467993</td>\n",
       "                        <td id=\"T_2cfb4_row63_col29\" class=\"data row63 col29\" >0.029677</td>\n",
       "                        <td id=\"T_2cfb4_row63_col30\" class=\"data row63 col30\" >-0.002942</td>\n",
       "                        <td id=\"T_2cfb4_row63_col31\" class=\"data row63 col31\" >0.016506</td>\n",
       "                        <td id=\"T_2cfb4_row63_col32\" class=\"data row63 col32\" >-0.000543</td>\n",
       "                        <td id=\"T_2cfb4_row63_col33\" class=\"data row63 col33\" >0.013085</td>\n",
       "                        <td id=\"T_2cfb4_row63_col34\" class=\"data row63 col34\" >0.030207</td>\n",
       "                        <td id=\"T_2cfb4_row63_col35\" class=\"data row63 col35\" >0.029878</td>\n",
       "                        <td id=\"T_2cfb4_row63_col36\" class=\"data row63 col36\" >-0.009274</td>\n",
       "                        <td id=\"T_2cfb4_row63_col37\" class=\"data row63 col37\" >-0.018626</td>\n",
       "                        <td id=\"T_2cfb4_row63_col38\" class=\"data row63 col38\" >0.018719</td>\n",
       "                        <td id=\"T_2cfb4_row63_col39\" class=\"data row63 col39\" >-0.040375</td>\n",
       "                        <td id=\"T_2cfb4_row63_col40\" class=\"data row63 col40\" >-0.065104</td>\n",
       "                        <td id=\"T_2cfb4_row63_col41\" class=\"data row63 col41\" >0.089845</td>\n",
       "                        <td id=\"T_2cfb4_row63_col42\" class=\"data row63 col42\" >-0.024268</td>\n",
       "                        <td id=\"T_2cfb4_row63_col43\" class=\"data row63 col43\" >-0.013325</td>\n",
       "                        <td id=\"T_2cfb4_row63_col44\" class=\"data row63 col44\" >-0.019588</td>\n",
       "                        <td id=\"T_2cfb4_row63_col45\" class=\"data row63 col45\" >0.030540</td>\n",
       "                        <td id=\"T_2cfb4_row63_col46\" class=\"data row63 col46\" >0.007867</td>\n",
       "                        <td id=\"T_2cfb4_row63_col47\" class=\"data row63 col47\" >0.003780</td>\n",
       "                        <td id=\"T_2cfb4_row63_col48\" class=\"data row63 col48\" >-0.014725</td>\n",
       "                        <td id=\"T_2cfb4_row63_col49\" class=\"data row63 col49\" >-0.014330</td>\n",
       "                        <td id=\"T_2cfb4_row63_col50\" class=\"data row63 col50\" >-0.015840</td>\n",
       "                        <td id=\"T_2cfb4_row63_col51\" class=\"data row63 col51\" >0.051158</td>\n",
       "                        <td id=\"T_2cfb4_row63_col52\" class=\"data row63 col52\" >-0.017406</td>\n",
       "                        <td id=\"T_2cfb4_row63_col53\" class=\"data row63 col53\" >-0.010277</td>\n",
       "                        <td id=\"T_2cfb4_row63_col54\" class=\"data row63 col54\" >-0.018843</td>\n",
       "                        <td id=\"T_2cfb4_row63_col55\" class=\"data row63 col55\" >-0.026436</td>\n",
       "                        <td id=\"T_2cfb4_row63_col56\" class=\"data row63 col56\" >-0.017185</td>\n",
       "                        <td id=\"T_2cfb4_row63_col57\" class=\"data row63 col57\" >-0.000970</td>\n",
       "                        <td id=\"T_2cfb4_row63_col58\" class=\"data row63 col58\" >0.007687</td>\n",
       "                        <td id=\"T_2cfb4_row63_col59\" class=\"data row63 col59\" >0.003783</td>\n",
       "                        <td id=\"T_2cfb4_row63_col60\" class=\"data row63 col60\" >-0.022698</td>\n",
       "                        <td id=\"T_2cfb4_row63_col61\" class=\"data row63 col61\" >-0.346321</td>\n",
       "                        <td id=\"T_2cfb4_row63_col62\" class=\"data row63 col62\" >-0.797286</td>\n",
       "                        <td id=\"T_2cfb4_row63_col63\" class=\"data row63 col63\" >1.000000</td>\n",
       "            </tr>\n",
       "    </tbody></table>"
      ],
      "text/plain": [
       "<pandas.io.formats.style.Styler at 0x1a025628b20>"
      ]
     },
     "execution_count": 27,
     "metadata": {},
     "output_type": "execute_result"
    }
   ],
   "source": [
    "data.corr()\n",
    "corr = data.corr(method='pearson')\n",
    "corr.style.background_gradient(cmap='coolwarm')"
   ]
  },
  {
   "cell_type": "code",
   "execution_count": 28,
   "metadata": {},
   "outputs": [
    {
     "data": {
      "text/html": [
       "<div>\n",
       "<style scoped>\n",
       "    .dataframe tbody tr th:only-of-type {\n",
       "        vertical-align: middle;\n",
       "    }\n",
       "\n",
       "    .dataframe tbody tr th {\n",
       "        vertical-align: top;\n",
       "    }\n",
       "\n",
       "    .dataframe thead th {\n",
       "        text-align: right;\n",
       "    }\n",
       "</style>\n",
       "<table border=\"1\" class=\"dataframe\">\n",
       "  <thead>\n",
       "    <tr style=\"text-align: right;\">\n",
       "      <th></th>\n",
       "      <th>home_ownership</th>\n",
       "      <th>verification_status</th>\n",
       "      <th>grade</th>\n",
       "      <th>emp_length</th>\n",
       "      <th>loan_status</th>\n",
       "    </tr>\n",
       "  </thead>\n",
       "  <tbody>\n",
       "    <tr>\n",
       "      <th>0</th>\n",
       "      <td>4</td>\n",
       "      <td>2</td>\n",
       "      <td>1</td>\n",
       "      <td>1</td>\n",
       "      <td>1</td>\n",
       "    </tr>\n",
       "    <tr>\n",
       "      <th>1</th>\n",
       "      <td>4</td>\n",
       "      <td>1</td>\n",
       "      <td>2</td>\n",
       "      <td>10</td>\n",
       "      <td>0</td>\n",
       "    </tr>\n",
       "    <tr>\n",
       "      <th>2</th>\n",
       "      <td>4</td>\n",
       "      <td>0</td>\n",
       "      <td>2</td>\n",
       "      <td>1</td>\n",
       "      <td>1</td>\n",
       "    </tr>\n",
       "    <tr>\n",
       "      <th>3</th>\n",
       "      <td>4</td>\n",
       "      <td>1</td>\n",
       "      <td>2</td>\n",
       "      <td>1</td>\n",
       "      <td>1</td>\n",
       "    </tr>\n",
       "    <tr>\n",
       "      <th>4</th>\n",
       "      <td>4</td>\n",
       "      <td>1</td>\n",
       "      <td>1</td>\n",
       "      <td>0</td>\n",
       "      <td>2</td>\n",
       "    </tr>\n",
       "    <tr>\n",
       "      <th>...</th>\n",
       "      <td>...</td>\n",
       "      <td>...</td>\n",
       "      <td>...</td>\n",
       "      <td>...</td>\n",
       "      <td>...</td>\n",
       "    </tr>\n",
       "    <tr>\n",
       "      <th>466280</th>\n",
       "      <td>0</td>\n",
       "      <td>1</td>\n",
       "      <td>2</td>\n",
       "      <td>4</td>\n",
       "      <td>2</td>\n",
       "    </tr>\n",
       "    <tr>\n",
       "      <th>466281</th>\n",
       "      <td>0</td>\n",
       "      <td>2</td>\n",
       "      <td>3</td>\n",
       "      <td>1</td>\n",
       "      <td>0</td>\n",
       "    </tr>\n",
       "    <tr>\n",
       "      <th>466282</th>\n",
       "      <td>0</td>\n",
       "      <td>2</td>\n",
       "      <td>3</td>\n",
       "      <td>7</td>\n",
       "      <td>2</td>\n",
       "    </tr>\n",
       "    <tr>\n",
       "      <th>466283</th>\n",
       "      <td>3</td>\n",
       "      <td>2</td>\n",
       "      <td>0</td>\n",
       "      <td>3</td>\n",
       "      <td>1</td>\n",
       "    </tr>\n",
       "    <tr>\n",
       "      <th>466284</th>\n",
       "      <td>0</td>\n",
       "      <td>2</td>\n",
       "      <td>3</td>\n",
       "      <td>1</td>\n",
       "      <td>2</td>\n",
       "    </tr>\n",
       "  </tbody>\n",
       "</table>\n",
       "<p>466277 rows × 5 columns</p>\n",
       "</div>"
      ],
      "text/plain": [
       "        home_ownership  verification_status  grade  emp_length  loan_status\n",
       "0                    4                    2      1           1            1\n",
       "1                    4                    1      2          10            0\n",
       "2                    4                    0      2           1            1\n",
       "3                    4                    1      2           1            1\n",
       "4                    4                    1      1           0            2\n",
       "...                ...                  ...    ...         ...          ...\n",
       "466280               0                    1      2           4            2\n",
       "466281               0                    2      3           1            0\n",
       "466282               0                    2      3           7            2\n",
       "466283               3                    2      0           3            1\n",
       "466284               0                    2      3           1            2\n",
       "\n",
       "[466277 rows x 5 columns]"
      ]
     },
     "execution_count": 28,
     "metadata": {},
     "output_type": "execute_result"
    }
   ],
   "source": [
    "# Feature engineering\n",
    "from sklearn import preprocessing\n",
    "label_encoder = preprocessing.LabelEncoder()\n",
    "\n",
    "data['home_ownership'] = label_encoder.fit_transform(data['home_ownership'])\n",
    "data['verification_status'] = label_encoder.fit_transform(data['verification_status'])\n",
    "data['grade'] = label_encoder.fit_transform(data['grade'])\n",
    "data['emp_length'] = label_encoder.fit_transform(data['emp_length'])\n",
    "data['loan_status'] = label_encoder.fit_transform(data['loan_status'])\n",
    "\n",
    "data[['home_ownership', 'verification_status', 'grade', 'emp_length', 'loan_status']]\n",
    "\n"
   ]
  },
  {
   "cell_type": "code",
   "execution_count": 29,
   "metadata": {},
   "outputs": [
    {
     "name": "stdout",
     "output_type": "stream",
     "text": [
      "<class 'pandas.core.frame.DataFrame'>\n",
      "Int64Index: 466277 entries, 0 to 466284\n",
      "Data columns (total 7 columns):\n",
      " #   Column                  Non-Null Count   Dtype  \n",
      "---  ------                  --------------   -----  \n",
      " 0   annual_inc              466277 non-null  float64\n",
      " 1   mths_since_last_delinq  466277 non-null  float64\n",
      " 2   loan_status             466277 non-null  int32  \n",
      " 3   home_ownership          466277 non-null  int32  \n",
      " 4   verification_status     466277 non-null  int32  \n",
      " 5   grade                   466277 non-null  int32  \n",
      " 6   emp_length              466277 non-null  int32  \n",
      "dtypes: float64(2), int32(5)\n",
      "memory usage: 19.6 MB\n"
     ]
    }
   ],
   "source": [
    "# select feature important features for our predictions\n",
    "imp_var = data[['annual_inc', 'mths_since_last_delinq', 'loan_status', 'home_ownership', 'verification_status', 'grade', 'emp_length']]\n",
    "imp_var = imp_var.fillna(0)\n",
    "imp_var.info()"
   ]
  },
  {
   "cell_type": "code",
   "execution_count": 30,
   "metadata": {},
   "outputs": [],
   "source": [
    "# import the library to evalute our model\n",
    "from sklearn.model_selection import train_test_split \n",
    "from sklearn.metrics import accuracy_score, confusion_matrix, classification_report \n",
    "\n",
    "# import our algorithm model \n",
    "from sklearn.linear_model import LogisticRegression \n",
    "from sklearn.neighbors import KNeighborsClassifier \n",
    "from sklearn.cluster import KMeans"
   ]
  },
  {
   "cell_type": "code",
   "execution_count": 31,
   "metadata": {},
   "outputs": [],
   "source": [
    "# Creating the X and y variables\n",
    "x = imp_var.drop(['loan_status'], 1).values\n",
    "y = imp_var[['loan_status']].values\n",
    "\n",
    "# Spliting X and y into train and test version\n",
    "x_train, x_test, y_train, y_test = train_test_split(x, y, test_size = 0.20)"
   ]
  },
  {
   "cell_type": "code",
   "execution_count": 32,
   "metadata": {},
   "outputs": [
    {
     "name": "stderr",
     "output_type": "stream",
     "text": [
      "c:\\Users\\Lenovo\\anaconda3\\lib\\site-packages\\sklearn\\neighbors\\_classification.py:179: DataConversionWarning:\n",
      "\n",
      "A column-vector y was passed when a 1d array was expected. Please change the shape of y to (n_samples,), for example using ravel().\n",
      "\n"
     ]
    },
    {
     "name": "stdout",
     "output_type": "stream",
     "text": [
      "0.44179462983615\n",
      "              precision    recall  f1-score   support\n",
      "\n",
      "           0       0.15      0.11      0.13     10471\n",
      "           1       0.42      0.46      0.44     37264\n",
      "           2       0.51      0.50      0.50     45521\n",
      "\n",
      "    accuracy                           0.44     93256\n",
      "   macro avg       0.36      0.36      0.36     93256\n",
      "weighted avg       0.43      0.44      0.44     93256\n",
      "\n",
      "[[ 1156  4308  5007]\n",
      " [ 2756 17304 17204]\n",
      " [ 3655 19126 22740]]\n"
     ]
    }
   ],
   "source": [
    "# Modeling\n",
    "knn = KNeighborsClassifier()\n",
    "knn.fit(x_train, y_train)\n",
    "\n",
    "y_pred = knn.predict(x_test)\n",
    "\n",
    "# Evaluation\n",
    "knn_confusion_matrix = confusion_matrix(y_test, y_pred)\n",
    "knn_score = knn.score(x_test,y_test)\n",
    "knn_report = classification_report(y_test,y_pred)\n",
    "\n",
    "print(knn_score)\n",
    "print(knn_report)\n",
    "print(knn_confusion_matrix)"
   ]
  },
  {
   "cell_type": "code",
   "execution_count": 33,
   "metadata": {},
   "outputs": [
    {
     "name": "stderr",
     "output_type": "stream",
     "text": [
      "c:\\Users\\Lenovo\\anaconda3\\lib\\site-packages\\sklearn\\utils\\validation.py:63: DataConversionWarning:\n",
      "\n",
      "A column-vector y was passed when a 1d array was expected. Please change the shape of y to (n_samples, ), for example using ravel().\n",
      "\n"
     ]
    },
    {
     "name": "stdout",
     "output_type": "stream",
     "text": [
      "0.4881294501158102\n",
      "              precision    recall  f1-score   support\n",
      "\n",
      "           0       0.00      0.00      0.00     10471\n",
      "           1       0.00      0.00      0.00     37264\n",
      "           2       0.49      1.00      0.66     45521\n",
      "\n",
      "    accuracy                           0.49     93256\n",
      "   macro avg       0.16      0.33      0.22     93256\n",
      "weighted avg       0.24      0.49      0.32     93256\n",
      "\n",
      "[[    0     0 10471]\n",
      " [    0     0 37264]\n",
      " [    0     0 45521]]\n"
     ]
    },
    {
     "name": "stderr",
     "output_type": "stream",
     "text": [
      "c:\\Users\\Lenovo\\anaconda3\\lib\\site-packages\\sklearn\\metrics\\_classification.py:1245: UndefinedMetricWarning:\n",
      "\n",
      "Precision and F-score are ill-defined and being set to 0.0 in labels with no predicted samples. Use `zero_division` parameter to control this behavior.\n",
      "\n",
      "c:\\Users\\Lenovo\\anaconda3\\lib\\site-packages\\sklearn\\metrics\\_classification.py:1245: UndefinedMetricWarning:\n",
      "\n",
      "Precision and F-score are ill-defined and being set to 0.0 in labels with no predicted samples. Use `zero_division` parameter to control this behavior.\n",
      "\n",
      "c:\\Users\\Lenovo\\anaconda3\\lib\\site-packages\\sklearn\\metrics\\_classification.py:1245: UndefinedMetricWarning:\n",
      "\n",
      "Precision and F-score are ill-defined and being set to 0.0 in labels with no predicted samples. Use `zero_division` parameter to control this behavior.\n",
      "\n"
     ]
    }
   ],
   "source": [
    "# Modeling\n",
    "model = LogisticRegression()\n",
    "model.fit(x_train, y_train)\n",
    "\n",
    "y_pred = model.predict(x_test)\n",
    "\n",
    "# Evaluation\n",
    "conf_matrix = confusion_matrix(y_test, y_pred)\n",
    "score = model.score(x_test,y_test)\n",
    "report = classification_report(y_test,y_pred)\n",
    "\n",
    "print(score)\n",
    "print(report)\n",
    "print(conf_matrix)"
   ]
  },
  {
   "cell_type": "code",
   "execution_count": 34,
   "metadata": {},
   "outputs": [
    {
     "name": "stdout",
     "output_type": "stream",
     "text": [
      "-70229343075355.18\n",
      "              precision    recall  f1-score   support\n",
      "\n",
      "           0       0.12      0.77      0.21     10471\n",
      "           1       0.39      0.02      0.04     37264\n",
      "           2       0.50      0.28      0.36     45521\n",
      "\n",
      "    accuracy                           0.23     93256\n",
      "   macro avg       0.34      0.36      0.20     93256\n",
      "weighted avg       0.41      0.23      0.22     93256\n",
      "\n",
      "[[ 8115   147  2209]\n",
      " [26085   761 10418]\n",
      " [31613  1061 12847]]\n"
     ]
    }
   ],
   "source": [
    "# Modeling\n",
    "model_2 = KMeans(n_clusters=3)\n",
    "model_2.fit(x_train, y_train)\n",
    "\n",
    "y_pred = model_2.predict(x_test)\n",
    "\n",
    "#Evaluation\n",
    "conf_matrix = confusion_matrix(y_test, y_pred)\n",
    "score = model_2.score(x_test,y_test)\n",
    "report = classification_report(y_test,y_pred)\n",
    "\n",
    "print(score)\n",
    "print(report)\n",
    "print(conf_matrix)"
   ]
  }
 ],
 "metadata": {
  "kernelspec": {
   "display_name": "Python 3.8.8 ('base')",
   "language": "python",
   "name": "python3"
  },
  "language_info": {
   "codemirror_mode": {
    "name": "ipython",
    "version": 3
   },
   "file_extension": ".py",
   "mimetype": "text/x-python",
   "name": "python",
   "nbconvert_exporter": "python",
   "pygments_lexer": "ipython3",
   "version": "3.8.8"
  },
  "orig_nbformat": 4,
  "vscode": {
   "interpreter": {
    "hash": "20a9e06a1eee47c4abbed4ec8225ad91d78d9800d202b71b6b0a6e47016c6abd"
   }
  }
 },
 "nbformat": 4,
 "nbformat_minor": 2
}
